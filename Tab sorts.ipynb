{
 "cells": [
  {
   "cell_type": "code",
   "execution_count": 1,
   "id": "40568205",
   "metadata": {},
   "outputs": [
    {
     "name": "stdout",
     "output_type": "stream",
     "text": [
      "Loaded\n"
     ]
    }
   ],
   "source": [
    "import random\n",
    "import numpy as np\n",
    "import webbrowser\n",
    "\n",
    "from copy import copy\n",
    "\n",
    "\n",
    "def print_tabs(tabs, label=None):\n",
    "    if label:\n",
    "        print('## {} ## ({} tabs)'.format(label, len(tabs)))\n",
    "    else:\n",
    "        print('({} tabs)'.format(len(tabs)))\n",
    "    print('')\n",
    "    for tab in tabs:\n",
    "        print(tab.replace('\\n', ''))\n",
    "    return None\n",
    "\n",
    "\n",
    "def open_tab(tab):\n",
    "    url = tab.split('|')[0].replace(' ', '')\n",
    "    webbrowser.open(url, new=2, autoraise=False)\n",
    "    \n",
    "    \n",
    "def open_tabs(tabs, page=1, per_page=10):\n",
    "    page_start = (page - 1) * per_page\n",
    "    total_pages = int(np.ceil(len(tabs) / per_page))\n",
    "    if page > total_pages:\n",
    "        raise ValueError('Cannot open page {}, only have {} pages'.format(page, total_pages))\n",
    "    page_end = page * per_page\n",
    "    if page_end > len(tabs):\n",
    "        page_end = len(tabs)\n",
    "    paged_tabs = tabs[page_start:page_end]\n",
    "    print('Opening page {}/{} (tabs {}-{} of {})'.format(page, total_pages, page_start, page_end, len(tabs)))\n",
    "    \n",
    "    for tab in paged_tabs:\n",
    "        open_tab(tab)\n",
    "\n",
    "        \n",
    "def open_random_n_tabs(tabs, n=5):\n",
    "    tabs = random.sample(tabs, len(tabs))\n",
    "    open_tabs(tabs, page=1, per_page=n)\n",
    "    return tabs[5:]\n",
    "\n",
    "        \n",
    "print('Loaded')"
   ]
  },
  {
   "cell_type": "code",
   "execution_count": 2,
   "id": "1ffe9c7f",
   "metadata": {},
   "outputs": [
    {
     "name": "stdout",
     "output_type": "stream",
     "text": [
      "101\n",
      "101\n",
      "97\n"
     ]
    }
   ],
   "source": [
    "tab_file = open('/Users/peterhurford/Documents/alltabs.txt', 'r')\n",
    "tabs = tab_file.readlines()\n",
    "print(len(tabs))\n",
    "\n",
    "tabs = [t for t in tabs if t != '\\n']\n",
    "print(len(tabs))\n",
    "\n",
    "tabs = sorted(list(set(tabs)))\n",
    "print(len(tabs))"
   ]
  },
  {
   "cell_type": "code",
   "execution_count": 3,
   "id": "df44f938",
   "metadata": {
    "scrolled": true
   },
   "outputs": [
    {
     "name": "stdout",
     "output_type": "stream",
     "text": [
      "## Messages ## (16 tabs)\n",
      "\n",
      "https://mobile.twitter.com/messages/25776739-1133196129309356032 | https://mobile.twitter.com/messages/25776739-1133196129309356032\n",
      "https://mobile.twitter.com/messages/25776739-1301816041962483712 | https://mobile.twitter.com/messages/25776739-1301816041962483712\n",
      "https://mobile.twitter.com/messages/25776739-1551581042259132418 | https://mobile.twitter.com/messages/25776739-1551581042259132418\n",
      "https://mobile.twitter.com/messages/25776739-48111864 | Alec Stapp / Twitter\n",
      "https://mobile.twitter.com/messages/25776739-48111864 | https://mobile.twitter.com/messages/25776739-48111864\n",
      "https://mobile.twitter.com/messages/25776739-749003563494354945 | iabvek / Twitter\n",
      "https://mobile.twitter.com/messages/25776739-957984416504033285 | https://mobile.twitter.com/messages/25776739-957984416504033285\n",
      "https://twitter.com/messages/25776739-1133196129309356032 | Ben Hurford🎄 / Twitter\n",
      "https://twitter.com/messages/25776739-1257963166602088449 | https://twitter.com/messages/25776739-1257963166602088449\n",
      "https://twitter.com/messages/25776739-166282621 | https://twitter.com/messages/25776739-166282621\n",
      "https://www.facebook.com/messages/t/100002521566563/ | Messenger | Facebook\n",
      "https://www.facebook.com/messages/t/100002521566563/ | https://www.facebook.com/messages/t/100002521566563/\n",
      "https://www.facebook.com/messages/t/1145392287 | Messenger | Facebook\n",
      "https://www.facebook.com/messages/t/1413751157/ | https://www.facebook.com/messages/t/1413751157/\n",
      "https://www.facebook.com/messages/t/1804802561/ | Messenger | Facebook\n",
      "https://www.facebook.com/messages/t/668090667 | https://www.facebook.com/messages/t/668090667\n"
     ]
    }
   ],
   "source": [
    "print_tabs([t for t in tabs if ('messages/' in t.lower() or 'inbox/' in t.lower() or 'mail.google' in t.lower() or 'swapcard' in t.lower())], label='Messages')\n"
   ]
  },
  {
   "cell_type": "code",
   "execution_count": 4,
   "id": "89c2b367",
   "metadata": {},
   "outputs": [
    {
     "name": "stdout",
     "output_type": "stream",
     "text": [
      "## Facebook ## (3 tabs)\n",
      "\n",
      "https://www.facebook.com/anna.deitz.7 | Anna Deitz\n",
      "https://www.facebook.com/katie.elizabeth.370177/photos | Katie Elizabeth\n",
      "https://www.facebook.com/rachel.keselring/photos | Rachel Keselring\n"
     ]
    }
   ],
   "source": [
    "print_tabs([t for t in tabs if 'facebook.com' in t.lower() and 'messages' not in t.lower()], label='Facebook')"
   ]
  },
  {
   "cell_type": "code",
   "execution_count": 5,
   "id": "f6d6e211",
   "metadata": {},
   "outputs": [
    {
     "name": "stdout",
     "output_type": "stream",
     "text": [
      "## Twitter ## (1 tabs)\n",
      "\n",
      "https://twitter.com/i/lists/1584214389774761984 | https://twitter.com/i/lists/1584214389774761984\n"
     ]
    }
   ],
   "source": [
    "twitter_tabs = sorted([t for t in tabs if 'twitter' in t.lower() and 'messages' not in t.lower()])\n",
    "print_tabs(twitter_tabs, label='Twitter')"
   ]
  },
  {
   "cell_type": "code",
   "execution_count": 6,
   "id": "0e8d623e",
   "metadata": {},
   "outputs": [],
   "source": [
    "#open_tabs(twitter_tabs, page=1, per_page=200)"
   ]
  },
  {
   "cell_type": "code",
   "execution_count": 7,
   "id": "c4635d45",
   "metadata": {},
   "outputs": [
    {
     "name": "stdout",
     "output_type": "stream",
     "text": [
      "## Google Docs ## (43 tabs)\n",
      "\n",
      "https://docs.google.com/document/d/1-XmkDaopuz6vQPF2D-wmPJmqmaNYSEUF_cKwZJ6_c44/edit# | Peter <> Michael - 1-1s - 2022 Q4 - Google Docs\n",
      "https://docs.google.com/document/d/1B0lB8hnoBHTZXaHx5ywKeqBE3H7EA_-RtjS7v6S6tCM/edit | [FTX response copy] Peter's potential questions for EA leadership - Google Docs\n",
      "https://docs.google.com/document/d/1Das8OztJw6S5qiq0sh61T28sfJUFiQTro9Wa3C1dvts/edit | The Parable of Rethink Priorities - Google Docs\n",
      "https://docs.google.com/document/d/1LVmGurd9rPFZ5c8moOHiLVjCMHNvNLlSwp23wQtN9V4/edit | Some answers to Qs from Max Dalton - Google Docs\n",
      "https://docs.google.com/document/d/1LXXHYOXHoVDG32ckZcvBCs7NOabmfqRyFbCYnSbnTYc/edit | 2023 Directors Retreat Planning\n",
      "https://docs.google.com/document/d/1Mr3piLr2n0YycUNNMg5CIseqeK1gAV1RLdnLUqvdFZk/edit# | Peter <> LZ check-ins - Google Docs\n",
      "https://docs.google.com/document/d/1NdXYinW1kpBny19CER-N-oDJUr_W-wLteAm6lZ_bTxQ/edit | Eagle Alpha 12-15-22 - Google Docs\n",
      "https://docs.google.com/document/d/1NeKVEjtQtgYERkbX0W-Wq4TDfNTX0MIqbDoXbunj33E/edit | Thoughts on FTX Clawbacks - Google Docs\n",
      "https://docs.google.com/document/d/1NeKVEjtQtgYERkbX0W-Wq4TDfNTX0MIqbDoXbunj33E/edit# | Thoughts on FTX Clawbacks - Google Docs\n",
      "https://docs.google.com/document/d/1NtSQAyxsRAgBammwONFmESxwZkDOd3novQiaP3o8x3U/edit# | Key Takeaways and Tools from TMC Managing for Racial Equity, Inclusion + Results (MREIR) Training\n",
      "https://docs.google.com/document/d/1Q9NziUY-axCtUiHXdtJpdh8_Yyz3P4llRR9_FIAv9YI/edit#heading=h.bfsuqioniqj5 | 2021-03 LTFF application - Google Docs\n",
      "https://docs.google.com/document/d/1QyHVYkyUBNXYzeWZqYjDxiI45TvE1zBrJFCxv3fqNWo/edit | 1-1 Peter <> David Moss - Google Docs\n",
      "https://docs.google.com/document/d/1R-crKc9YAFmpaZ82yxfPBbT4op0wXvgCeGe-Vd2NVKY/edit#heading=h.rsofp8abhikw | Analysis Plan - JEID Survey - Google Docs\n",
      "https://docs.google.com/document/d/1SAZalWeFStVUyXuajV5k6cMdyu5te5WJPEQWYlFjEbM/edit# | JEID Deliverables - Google Docs\n",
      "https://docs.google.com/document/d/1SD3fINoniu5Kq_yMqz74asAdRk9HyqP8fahG3HCo-ng/edit#heading=h.5tlgvsqe5m8s | List of Professional Coaches - Google Docs\n",
      "https://docs.google.com/document/d/1WBhCK1kRaDurjyUFaryBmPbYsnI4jw-r8JkURkisCXo/edit | Frances' Career Decision Doc - Google Docs\n",
      "https://docs.google.com/document/d/1Y0q0edi2YNsw90XjaiSPSPIKm0licbCX8xJ373qPtTU/edit | Rethink Priorities – Evaluation (EAIF) – 6372eb1468a61061ee01cdb9 - Google Docs\n",
      "https://docs.google.com/document/d/1YgxlIFwvb6spMU4p9tQBKRrIFA-6A4evobcCOHZjpxY/edit?pli=1 | Peter & Igor - Google Docs\n",
      "https://docs.google.com/document/d/1ZSDCKSu5dy6gR9slcKZfQlpXnseJJedZQM3taDia-h8/edit | Compilation of senior people's takes on AIGS [for fundraising etc.] - Google Docs\n",
      "https://docs.google.com/document/d/1b5P221v_MZbMvjzNLQkhdiaaXWgRqfBeu_RnIFJK5E8/edit | Max Dalton/Peter Wildeford - Google Docs\n",
      "https://docs.google.com/document/d/1bcfzNllYCyR74nGDiOJFX54rm-FhtkeqMjQ1YUPfDJ8/edit | Oliver Habryka <> Marie Buhl & Michael Aird - 2022-11-22 - Google Docs\n",
      "https://docs.google.com/document/d/1cHvA7x0Qt6E6GUdyBdKRi5-m4GsIa4v9-m8__By3r2Y/edit | Joe - 2022 Dec - RP Performance Evaluation - Google Docs\n",
      "https://docs.google.com/document/d/1jNjCpdy7k6rJKAG1ygLap6eW9UWkurEVqX7m_m06Itc/edit# | Peter / Abraham Meeting Notes - Google Docs\n",
      "https://docs.google.com/document/d/1kJWT0zCQyiGLPHx9JB8ocpbCdRZIuiydTl2m26dtzE0/edit | Untitled document - Google Docs\n",
      "https://docs.google.com/document/d/1nwu-jX6AricukZk3CPjxvFbrHp-xWfGkFR6QJzd7DEw/edit#heading=h.deq8lzwofh50 | Research Manager's Guide - RP - Google Docs\n",
      "https://docs.google.com/document/d/1xNcOBHi1BLcR6ruuiZTeRMSf43942CCOQ2gAE7if2y0/edit | Peter/Renan 1-1s - Google Docs\n",
      "https://docs.google.com/document/d/1zhi1NypU0hUE2JM-ewUsC7Tkvw25eLbQPnpUrDjsq48/edit | Meeting Notes - Peter/Zoe 1-1s\n",
      "https://docs.google.com/presentation/d/1UHcBvwZKOpf86Wxe0yNgldxLa1kf0yJMcRzXvY5-DRk/edit#slide=id.g1ba29daec21_0_391 | Rethink Priorities 2022EOY Prez - Google Slides\n",
      "https://docs.google.com/presentation/d/1WWat7qRV1_c06s5lF8oGB3tCmcJveO7YSIi_eG-fvnY/edit#slide=id.p | Learnings from Leadership Training - Google Slides\n",
      "https://docs.google.com/spreadsheets/d/1-yJa-GF4s38MtIhC5ZQgpaOe0r-XbVSkbUwPkB0CUjg/edit#gid=782116378 | Metaculus preds - Google Sheets\n",
      "https://docs.google.com/spreadsheets/d/108xc4uUGFlcgSdLK9hlQ_knXo-8DzhMNxUa6Wux-UTs/edit#gid=365694952 | DRAFTING RP 2023 Draft Budget - Google Sheets\n",
      "https://docs.google.com/spreadsheets/d/19USy_ap_K3UpG-xoxG2Iw2HlAYHfcBLX18H0Qn5eYrg/edit#gid=1238584930 | Marcus film tracking - public - Google Sheets\n",
      "https://docs.google.com/spreadsheets/d/1Iwle1cu_lgJxvGQOP5Xsq4Dc4HndCYGKuCptACOtj-E/edit#gid=0 | Excited by / concerned by - Google Sheets\n",
      "https://docs.google.com/spreadsheets/d/1SEMBvi9lZaCyTncBADOHyIjGdlfkRDkNagOSIA3x4js/edit#gid=0 | Blog calendar - Google Sheets\n",
      "https://docs.google.com/spreadsheets/d/1SMSO43FxJX9tL9hUvSqOe_enSfcdGCREj5rda0Li77A/edit#gid=0 | EAS Tracking 2022 - Google Sheets\n",
      "https://docs.google.com/spreadsheets/d/1VgsDD95mpqVUnV30fg6i1EeF8rd0STQs8fw7omm2JZY/edit#gid=1657612021 | EA Wealth Over Time [just rough estimates!] - Google Sheets\n",
      "https://docs.google.com/spreadsheets/d/1W_LQ-vpCoVGluJWIDqxIq5d9gX550x-P3ZPcmQBy2H0/edit#gid=0 | Doc review - Google Sheets\n",
      "https://docs.google.com/spreadsheets/d/1_i8ctyK-HYjJMDuSRZ-CZ4EqDa73cQNiIyTkQqOloPI/edit#gid=1958994955 | RP Permanent Staff Start Dates - Google Sheets\n",
      "https://docs.google.com/spreadsheets/d/1aOGlvRTHTNvwMcbFEJK9yToyBln1FTpYMmou4qRJHG0/edit#gid=0 | LT any use donations - Google Sheets\n",
      "https://docs.google.com/spreadsheets/d/1dMy-rJGyUaEDcR0cImTv8gXR00Jzmmm88Tge_xXVeRo/edit#gid=0 | RP Dashboard - Google Sheets\n",
      "https://docs.google.com/spreadsheets/d/1qXNFi8QAbO5AhD70QlcxrZqB9FgGL8N6fJP8M0-BrfU/edit#gid=0 | [Funder copy] AI Auditing Org Tentative Budget - Google Sheets\n",
      "https://docs.google.com/spreadsheets/d/1qo_pYfHk2uMW8WWEGOPlbcb1x7bGneZL0TwsWsbzUqQ/edit#gid=0 | LTFF Budget - 2021-03 - Google Sheets\n",
      "https://drive.google.com/drive/u/1/folders/191uISDvO3cfGa7NaLSivniU04fXZfFsh | 2021-03 EA LTFF - Development and Communications - Google Drive\n"
     ]
    }
   ],
   "source": [
    "doc_tabs = sorted([t for t in tabs if ('docs.google' in t.lower() or 'sheets.google' in t.lower() or 'drive.google' in t.lower())])\n",
    "print_tabs(doc_tabs, label='Google Docs')\n"
   ]
  },
  {
   "cell_type": "code",
   "execution_count": 8,
   "id": "18e9e150",
   "metadata": {},
   "outputs": [],
   "source": [
    "#open_tabs(doc_tabs, page=8, per_page=20)"
   ]
  },
  {
   "cell_type": "code",
   "execution_count": 9,
   "id": "479f45a0-d63f-474d-aa76-2ddab5a10b0a",
   "metadata": {},
   "outputs": [],
   "source": [
    "#doc_tabs_ = copy(doc_tabs)"
   ]
  },
  {
   "cell_type": "code",
   "execution_count": 10,
   "id": "c4e71249-4e0e-47aa-9fcd-69b9219f507f",
   "metadata": {},
   "outputs": [],
   "source": [
    "#doc_tabs_ = open_random_n_tabs(doc_tabs_, n=5)"
   ]
  },
  {
   "cell_type": "code",
   "execution_count": 11,
   "id": "6311fa07",
   "metadata": {},
   "outputs": [
    {
     "name": "stdout",
     "output_type": "stream",
     "text": [
      "## Google search ## (3 tabs)\n",
      "\n",
      "https://www.google.com/search?gs_ssp=eJzj4tVP1zc0zCpKMjAqNk8zYPTiyUrMS1XILFEvVsjPBgB9Swil&q=jane+it%27s+ok&rlz=1C5CHFA_enUS925US925&oq=jane+it%27s+ok&aqs=chrome.1.0i355i512j46i512j0i22i30l8.2641j0j1&sourceid=chrome&ie=UTF-8 | Jane It's Ok\n",
      "https://www.google.com/search?q=Anna+Kendrick&rlz=1C5CHFA_enUS925US925&source=lnms&tbm=isch&sa=X&ved=2ahUKEwiS76GOzvr7AhWPVN8KHTY1DswQ_AUoAXoECAIQAw&biw=1440&bih=760&dpr=2#imgrc=uF-cIElDtNrY5M | anna kendrick\n",
      "https://www.google.com/search?q=felicity+james&rlz=1C5CHFA_enUS925US925&oq=felicity+james&aqs=chrome.0.69i59j0i512l4j69i60l3.3459j0j1&sourceid=chrome&ie=UTF-8 | Felicity James\n"
     ]
    }
   ],
   "source": [
    "print_tabs(sorted([t for t in tabs if ('google.com' in t.lower() and 'search' in t.lower() and\n",
    "                                   not ('docs.google' in t.lower() or 'sheets.google' in t.lower()))]),\n",
    "           label='Google search')"
   ]
  },
  {
   "cell_type": "code",
   "execution_count": 12,
   "id": "53b9762e",
   "metadata": {},
   "outputs": [
    {
     "name": "stdout",
     "output_type": "stream",
     "text": [
      "## EAFo/LW ## (0 tabs)\n",
      "\n"
     ]
    }
   ],
   "source": [
    "ea_fo_tabs = sorted([t for t in tabs if ('forum.effectivealtruism' in t.lower() or 'lesswrong' in t.lower())])\n",
    "print_tabs(ea_fo_tabs, label='EAFo/LW')"
   ]
  },
  {
   "cell_type": "code",
   "execution_count": 13,
   "id": "8ffa8f80-4aa6-4afe-8c6a-59194d69895e",
   "metadata": {},
   "outputs": [],
   "source": [
    "#open_tabs(ea_fo_tabs, page=1, per_page=50)"
   ]
  },
  {
   "cell_type": "code",
   "execution_count": 14,
   "id": "42ae2aee",
   "metadata": {},
   "outputs": [
    {
     "name": "stdout",
     "output_type": "stream",
     "text": [
      "## Metaculus etc. ## (4 tabs)\n",
      "\n",
      "https://docs.google.com/spreadsheets/d/1-yJa-GF4s38MtIhC5ZQgpaOe0r-XbVSkbUwPkB0CUjg/edit#gid=782116378 | Metaculus preds - Google Sheets\n",
      "https://manifold.markets/NathanpmYoung/how-much-will-rethink-priorities-ra-0c3690316d79 | How much will Rethink Priorities raise by the end of 2023? | Manifold Markets\n",
      "https://www.metaculus.com/questions/11175/ai-movie-comprehension-before-2030/ | AI movie comprehension before 2030 | Metaculus\n",
      "https://www.metaculus.com/questions/13853/metaculus-talks-recordings-now-up/ | Metaculus Talks\n"
     ]
    }
   ],
   "source": [
    "print_tabs(sorted([t for t in tabs if ('metaculus' in t.lower() or 'manifold' in t.lower() or 'predictit' in t.lower())]), label='Metaculus etc.')"
   ]
  },
  {
   "cell_type": "code",
   "execution_count": 15,
   "id": "72bdaddd",
   "metadata": {},
   "outputs": [
    {
     "name": "stdout",
     "output_type": "stream",
     "text": [
      "## Wikipedia ## (4 tabs)\n",
      "\n",
      "https://en.wikipedia.org/wiki/Founder%27s_syndrome | Founder's Syndrome\n",
      "https://en.wikipedia.org/wiki/Gossip_Girl | Gossip Girl\n",
      "https://en.wikipedia.org/wiki/The_Leftovers_(TV_series)#Premise | The Leftovers (TV series) - Wikipedia\n",
      "https://en.wikipedia.org/wiki/Watergate_scandal | Watergate scandal - Wikipedia\n"
     ]
    }
   ],
   "source": [
    "print_tabs(sorted([t for t in tabs if 'wikipedia' in t.lower()]), label='Wikipedia')"
   ]
  },
  {
   "cell_type": "code",
   "execution_count": 16,
   "id": "ca9dcfdf",
   "metadata": {},
   "outputs": [
    {
     "name": "stdout",
     "output_type": "stream",
     "text": [
      "## Reddit ## (2 tabs)\n",
      "\n",
      "https://www.reddit.com/r/GPT3+datingoverthirty+relationship_advice | (2) Posts from GPT3, datingoverthirty, relationship_advice\n",
      "https://www.reddit.com/r/xkcd/comments/znr1m5/xkcd_2712_gravity/ | (2) xkcd 2712: Gravity : xkcd\n"
     ]
    }
   ],
   "source": [
    "print_tabs(sorted([t for t in tabs if 'reddit' in t.lower()]), label='Reddit')"
   ]
  },
  {
   "cell_type": "code",
   "execution_count": 17,
   "id": "5dedf293",
   "metadata": {},
   "outputs": [
    {
     "name": "stdout",
     "output_type": "stream",
     "text": [
      "## localhost ## (0 tabs)\n",
      "\n"
     ]
    }
   ],
   "source": [
    "print_tabs(sorted([t for t in tabs if 'guarded-everglades-89687.herokuapp.com' in t.lower() or 'localhost' in t.lower()]), label='localhost')\n"
   ]
  },
  {
   "cell_type": "code",
   "execution_count": 18,
   "id": "677f610e",
   "metadata": {},
   "outputs": [
    {
     "name": "stdout",
     "output_type": "stream",
     "text": [
      "## Chores ## (0 tabs)\n",
      "\n"
     ]
    }
   ],
   "source": [
    "print_tabs(sorted([t for t in tabs if 'instacart' in t.lower()]), label='Chores')"
   ]
  },
  {
   "cell_type": "code",
   "execution_count": 19,
   "id": "5fce865e",
   "metadata": {},
   "outputs": [
    {
     "name": "stdout",
     "output_type": "stream",
     "text": [
      "## Amazon ## (0 tabs)\n",
      "\n"
     ]
    }
   ],
   "source": [
    "print_tabs(sorted([t for t in tabs if 'amazon.com' in t.lower()]), label='Amazon')"
   ]
  },
  {
   "cell_type": "code",
   "execution_count": 20,
   "id": "16d46af9",
   "metadata": {},
   "outputs": [
    {
     "name": "stdout",
     "output_type": "stream",
     "text": [
      "## Morning Dispatch ## (0 tabs)\n",
      "\n"
     ]
    }
   ],
   "source": [
    "print_tabs(sorted([t for t in tabs if 'morning' in t.lower() and 'dispatch' in t.lower()]), label='Morning Dispatch')"
   ]
  },
  {
   "cell_type": "code",
   "execution_count": 21,
   "id": "108d879a",
   "metadata": {},
   "outputs": [
    {
     "name": "stdout",
     "output_type": "stream",
     "text": [
      "## GitHub ## (0 tabs)\n",
      "\n"
     ]
    }
   ],
   "source": [
    "print_tabs(sorted([t for t in tabs if 'github' in t.lower()]), label='GitHub')"
   ]
  },
  {
   "cell_type": "code",
   "execution_count": 22,
   "id": "d911bbda",
   "metadata": {},
   "outputs": [
    {
     "name": "stdout",
     "output_type": "stream",
     "text": [
      "## YouTube ## (1 tabs)\n",
      "\n",
      "https://www.youtube.com/watch?v=TqURNrfPo1g | Zoe Lightning Talk Leadership Training - YouTube\n"
     ]
    }
   ],
   "source": [
    "print_tabs(sorted([t for t in tabs if 'yout' in t.lower()]), label='YouTube')"
   ]
  },
  {
   "cell_type": "code",
   "execution_count": 23,
   "id": "2649c14d",
   "metadata": {},
   "outputs": [
    {
     "name": "stdout",
     "output_type": "stream",
     "text": [
      "## Instagram ## (0 tabs)\n",
      "\n"
     ]
    }
   ],
   "source": [
    "print_tabs(sorted([t for t in tabs if 'instagram.com' in t.lower()]), label='Instagram')"
   ]
  },
  {
   "cell_type": "code",
   "execution_count": 24,
   "id": "ab0e02f2-e275-486f-98d3-37d3218dc821",
   "metadata": {},
   "outputs": [
    {
     "name": "stdout",
     "output_type": "stream",
     "text": [
      "## Asana ## (0 tabs)\n",
      "\n"
     ]
    }
   ],
   "source": [
    "print_tabs(sorted([t for t in tabs if 'aap.assana.com' in t.lower()]), label='Asana')"
   ]
  },
  {
   "cell_type": "code",
   "execution_count": 25,
   "id": "bc70c265",
   "metadata": {},
   "outputs": [
    {
     "name": "stdout",
     "output_type": "stream",
     "text": [
      "## Other ## (17 tabs)\n",
      "\n",
      "https://astralcodexten.substack.com/p/can-this-ai-save-teenage-spy-alex | Can This AI Save Teenage Spy Alex Rider From A Terrible Fate?\n",
      "https://astralcodexten.substack.com/p/perhaps-it-is-a-bad-thing-that-the | Perhaps It Is A Bad Thing That The World's Leading AI Companies Cannot Control Their AIs\n",
      "https://blog.givewell.org/2022/12/15/change-our-mind-contest-winners/ | The winners of the Change Our Mind Contest—and some reflections - The GiveWell Blog\n",
      "https://consc.net/neurips.pdf | llm neurips small\n",
      "https://intelligence.org/wp-content/uploads/2022/12/990-2021.pdf | 990-2021.pdf\n",
      "https://miro.com/app/board/uXjVPCMMYAM=/ | EOY Retreat, Online Whiteboard for Visual Collaboration\n",
      "https://www.centreforeffectivealtruism.org/diversity-and-inclusion | CEA’s Stance on Diversity and Inclusion | Centre For Effective Altruism\n",
      "https://www.metacritic.com/browse/games/score/metascore/all/all/filtered | https://www.metacritic.com/browse/games/score/metascore/all/all/filtered\n",
      "https://www.rcv123.org/results/mwQp73NUph1tXxcg6nBVcY | https://www.rcv123.org/results/mwQp73NUph1tXxcg6nBVcY\n",
      "https://www.rcv123.org/results/mwQp73NUph1tXxcg6nBVcY/jWN4F2dNTDoa3WUBSpVTGb | Election Results\n",
      "https://www.reuters.com/legal/coinbase-loses-bid-force-dogecoin-sweepstakes-case-into-arbitration-2022-12-16/ | Coinbase loses bid to force Dogecoin sweepstakes case into arbitration | Reuters\n",
      "https://www.reuters.com/markets/us/us-justice-dept-is-split-over-charging-binance-crypto-world-falters-sources-2022-12-12/ | Exclusive: U.S. Justice Dept is split over charging Binance as crypto world falters | Reuters\n",
      "https://www.reuters.com/technology/auditing-firm-mazars-pauses-work-binance-other-crypto-clients-coindesk-2022-12-16/ | Auditing firm Mazars pauses work for crypto clients | Reuters\n",
      "https://www.slowboring.com/p/cryptocurrency-is-the-segway-of-finance | Cryptocurrency is the Segway of finance\n",
      "https://www.tiktok.com/@benthamite/video/7017568248652696837?is_from_webapp=v1&item_id=7017568248652696837 | #crypto billionaire sbf ❤️s #effectivealtruism | TikTok\n",
      "https://www.wildanimalinitiative.org/blog/how-diverse-is-wild-animal-initiative | How diverse is the Wild Animal Initiative team? — Wild Animal Initiative\n",
      "https://yieldgiving.com/essays/no-dollar-signs-this-time | No Dollar Signs This Time - Essays - Yield Giving\n"
     ]
    }
   ],
   "source": [
    "tabs_ = [t for t in tabs if (not ('google.com' in t.lower() and 'search' in t.lower() and not ('docs.google' in t.lower() or 'sheets.google' in t.lower())) and\n",
    "                             not ('docs.google' in t.lower() or 'sheets.google' in t.lower() or 'drive.google' in t.lower()) and\n",
    "                             not 'facebook.com' in t.lower() and\n",
    "                             not 'twitter' in t.lower() and\n",
    "                             not ('forum.effectivealtruism' in t.lower() or 'lesswrong' in t.lower()) and\n",
    "                             not ('metaculus' in t.lower() or 'manifold' in t.lower() or 'predictit' in t.lower()) and\n",
    "                             not 'wikipedia' in t.lower() and\n",
    "                             not 'reddit' in t.lower() and\n",
    "                             not 'instagram.com' in t.lower() and\n",
    "                             not ('guarded-everglades-89687.herokuapp.com' in t.lower() or 'localhost' in t.lower()) and\n",
    "                             not 'instacart' in t.lower() and\n",
    "                             not ('morning' in t.lower() and 'dispatch' in t.lower()) and\n",
    "                             not 'amazon.com' in t.lower() and\n",
    "                             not 'github' in t.lower() and\n",
    "                             not 'calendar.google' in t.lower() and\n",
    "                             not 'yout' in t.lower() and\n",
    "                             not 'app.asana.com' in t.lower() and\n",
    "                             not ('messages/' in t.lower() or 'inbox/' in t.lower() or 'mail.gogole' in t.lower() or 'swapcard' in t.lower()))]\n",
    "tabs_ = sorted(tabs_)\n",
    "print_tabs(tabs_, label='Other')\n",
    "\n"
   ]
  },
  {
   "cell_type": "code",
   "execution_count": 26,
   "id": "c9a2a7bb-86f9-45bd-b8d6-ed8889caed90",
   "metadata": {},
   "outputs": [],
   "source": [
    "#open_tabs(tabs_, page=1, per_page=60)"
   ]
  },
  {
   "cell_type": "code",
   "execution_count": 27,
   "id": "6c128ee3-03e2-4cfb-bfd1-0dfc84775af1",
   "metadata": {},
   "outputs": [],
   "source": [
    "#random.shuffle(tabs)\n",
    "#print_tabs(tabs, label='Shuffled all tabs')"
   ]
  }
 ],
 "metadata": {
  "kernelspec": {
   "display_name": "Python 3 (ipykernel)",
   "language": "python",
   "name": "python3"
  },
  "language_info": {
   "codemirror_mode": {
    "name": "ipython",
    "version": 3
   },
   "file_extension": ".py",
   "mimetype": "text/x-python",
   "name": "python",
   "nbconvert_exporter": "python",
   "pygments_lexer": "ipython3",
   "version": "3.9.15"
  }
 },
 "nbformat": 4,
 "nbformat_minor": 5
}
