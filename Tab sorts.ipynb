{
 "cells": [
  {
   "cell_type": "code",
   "execution_count": 1,
   "id": "40568205",
   "metadata": {},
   "outputs": [
    {
     "name": "stdout",
     "output_type": "stream",
     "text": [
      "Loaded\n"
     ]
    }
   ],
   "source": [
    "import random\n",
    "import numpy as np\n",
    "import webbrowser\n",
    "\n",
    "from copy import copy\n",
    "\n",
    "\n",
    "def print_tabs(tabs, label=None):\n",
    "    if label:\n",
    "        print('## {} ## ({} tabs)'.format(label, len(tabs)))\n",
    "    else:\n",
    "        print('({} tabs)'.format(len(tabs)))\n",
    "    print('')\n",
    "    for tab in tabs:\n",
    "        print(tab.replace('\\n', ''))\n",
    "    return None\n",
    "\n",
    "\n",
    "def open_tab(tab):\n",
    "    url = tab.split('|')[0].replace(' ', '')\n",
    "    webbrowser.open(url, new=2, autoraise=False)\n",
    "    \n",
    "    \n",
    "def open_tabs(tabs, page=1, per_page=10):\n",
    "    page_start = (page - 1) * per_page\n",
    "    total_pages = int(np.ceil(len(tabs) / per_page))\n",
    "    if page > total_pages:\n",
    "        raise ValueError('Cannot open page {}, only have {} pages'.format(page, total_pages))\n",
    "    page_end = page * per_page\n",
    "    if page_end > len(tabs):\n",
    "        page_end = len(tabs)\n",
    "    paged_tabs = tabs[page_start:page_end]\n",
    "    print('Opening page {}/{} (tabs {}-{} of {})'.format(page, total_pages, page_start, page_end, len(tabs)))\n",
    "    \n",
    "    for tab in paged_tabs:\n",
    "        open_tab(tab)\n",
    "\n",
    "        \n",
    "def open_random_n_tabs(tabs, n=5):\n",
    "    tabs = random.sample(tabs, len(tabs))\n",
    "    open_tabs(tabs, page=1, per_page=n)\n",
    "    return tabs[5:]\n",
    "\n",
    "        \n",
    "print('Loaded')"
   ]
  },
  {
   "cell_type": "code",
   "execution_count": 2,
   "id": "1ffe9c7f",
   "metadata": {},
   "outputs": [
    {
     "name": "stdout",
     "output_type": "stream",
     "text": [
      "157\n",
      "157\n",
      "150\n"
     ]
    }
   ],
   "source": [
    "tab_file = open('/Users/peterhurford/Documents/alltabs.txt', 'r')\n",
    "tabs = tab_file.readlines()\n",
    "print(len(tabs))\n",
    "\n",
    "tabs = [t for t in tabs if t != '\\n']\n",
    "print(len(tabs))\n",
    "\n",
    "tabs = sorted(list(set(tabs)))\n",
    "print(len(tabs))"
   ]
  },
  {
   "cell_type": "code",
   "execution_count": 3,
   "id": "df44f938",
   "metadata": {
    "scrolled": true
   },
   "outputs": [
    {
     "name": "stdout",
     "output_type": "stream",
     "text": [
      "## Messages ## (18 tabs)\n",
      "\n",
      "https://mobile.twitter.com/messages/25776739-1133196129309356032 | https://mobile.twitter.com/messages/25776739-1133196129309356032\n",
      "https://mobile.twitter.com/messages/25776739-1301816041962483712 | https://mobile.twitter.com/messages/25776739-1301816041962483712\n",
      "https://mobile.twitter.com/messages/25776739-1551581042259132418 | https://mobile.twitter.com/messages/25776739-1551581042259132418\n",
      "https://mobile.twitter.com/messages/25776739-48111864 | Alec Stapp / Twitter\n",
      "https://mobile.twitter.com/messages/25776739-48111864 | https://mobile.twitter.com/messages/25776739-48111864\n",
      "https://mobile.twitter.com/messages/25776739-749003563494354945 | iabvek / Twitter\n",
      "https://mobile.twitter.com/messages/25776739-957984416504033285 | https://mobile.twitter.com/messages/25776739-957984416504033285\n",
      "https://twitter.com/messages/25776739-1133196129309356032 | Ben Hurford🎄 / Twitter\n",
      "https://twitter.com/messages/25776739-1257963166602088449 | https://twitter.com/messages/25776739-1257963166602088449\n",
      "https://twitter.com/messages/25776739-1551581042259132418 | John Stuart Chill / Twitter\n",
      "https://twitter.com/messages/25776739-166282621 | https://twitter.com/messages/25776739-166282621\n",
      "https://twitter.com/messages/25776739-749003563494354945 | https://twitter.com/messages/25776739-749003563494354945\n",
      "https://www.facebook.com/messages/t/100002521566563/ | Messenger | Facebook\n",
      "https://www.facebook.com/messages/t/100002521566563/ | https://www.facebook.com/messages/t/100002521566563/\n",
      "https://www.facebook.com/messages/t/1145392287 | Messenger | Facebook\n",
      "https://www.facebook.com/messages/t/1413751157/ | https://www.facebook.com/messages/t/1413751157/\n",
      "https://www.facebook.com/messages/t/1804802561/ | Messenger | Facebook\n",
      "https://www.facebook.com/messages/t/668090667 | https://www.facebook.com/messages/t/668090667\n"
     ]
    }
   ],
   "source": [
    "print_tabs([t for t in tabs if ('messages/' in t.lower() or 'inbox/' in t.lower() or 'mail.google' in t.lower() or 'swapcard' in t.lower())], label='Messages')\n"
   ]
  },
  {
   "cell_type": "code",
   "execution_count": 4,
   "id": "89c2b367",
   "metadata": {},
   "outputs": [
    {
     "name": "stdout",
     "output_type": "stream",
     "text": [
      "## Facebook ## (4 tabs)\n",
      "\n",
      "https://www.facebook.com/anna.deitz.7 | Anna Deitz\n",
      "https://www.facebook.com/emily.e.rentschler/photos | EER\n",
      "https://www.facebook.com/katie.elizabeth.370177/photos | Katie Elizabeth\n",
      "https://www.facebook.com/rachel.keselring/photos | Rachel Keselring\n"
     ]
    }
   ],
   "source": [
    "print_tabs([t for t in tabs if 'facebook.com' in t.lower() and 'messages' not in t.lower()], label='Facebook')"
   ]
  },
  {
   "cell_type": "code",
   "execution_count": 5,
   "id": "f6d6e211",
   "metadata": {},
   "outputs": [
    {
     "name": "stdout",
     "output_type": "stream",
     "text": [
      "## Twitter ## (4 tabs)\n",
      "\n",
      "https://twitter.com/LongResilience/status/1605474896066121728 | https://twitter.com/LongResilience/status/1605474896066121728\n",
      "https://twitter.com/Simeon_Cps/status/1604962471927635968 | https://twitter.com/Simeon_Cps/status/1604962471927635968\n",
      "https://twitter.com/jonasschuett/status/1604802874428780544 | https://twitter.com/jonasschuett/status/1604802874428780544\n",
      "https://twitter.com/ryancareyai/status/1605543991428190208 | https://twitter.com/ryancareyai/status/1605543991428190208\n"
     ]
    }
   ],
   "source": [
    "twitter_tabs = sorted([t for t in tabs if 'twitter.com' in t.lower() and 'messages' not in t.lower()])\n",
    "print_tabs(twitter_tabs, label='Twitter')"
   ]
  },
  {
   "cell_type": "code",
   "execution_count": 6,
   "id": "0e8d623e",
   "metadata": {},
   "outputs": [],
   "source": [
    "#open_tabs(twitter_tabs, page=1, per_page=200)"
   ]
  },
  {
   "cell_type": "code",
   "execution_count": 7,
   "id": "c4635d45",
   "metadata": {},
   "outputs": [
    {
     "name": "stdout",
     "output_type": "stream",
     "text": [
      "## Google Docs ## (5 tabs)\n",
      "\n",
      "https://docs.google.com/document/d/18Gfhvvwjm7hMD9NYobnaC_24-XhbqrnPsdMfAGEOIpE/edit#heading=h.qqsffn2ajc43 | Case Study: GovAI\n",
      "https://docs.google.com/document/d/1NtSQAyxsRAgBammwONFmESxwZkDOd3novQiaP3o8x3U/edit# | Key Takeaways and Tools from TMC MREIR Training\t\n",
      "https://docs.google.com/document/d/1QyHVYkyUBNXYzeWZqYjDxiI45TvE1zBrJFCxv3fqNWo/edit#heading=h.f99l5nlplh6s | 1-1 Peter <> David Moss\n",
      "https://docs.google.com/document/d/1mq4MLURc5re5nER7dnjc6pW-bZXQDYvBKjWC3MuJ-sY/edit#heading=h.ps6kw8kciwwi | SoGive strategy 2023\n",
      "https://docs.google.com/presentation/d/1WWat7qRV1_c06s5lF8oGB3tCmcJveO7YSIi_eG-fvnY/edit#slide=id.g1b375866e03_0_0 | Learnings from Leadership Training\n"
     ]
    }
   ],
   "source": [
    "doc_tabs = sorted([t for t in tabs if ('docs.google' in t.lower() or 'sheets.google' in t.lower() or 'drive.google' in t.lower())])\n",
    "print_tabs(doc_tabs, label='Google Docs')\n"
   ]
  },
  {
   "cell_type": "code",
   "execution_count": 8,
   "id": "18e9e150",
   "metadata": {},
   "outputs": [],
   "source": [
    "#open_tabs(doc_tabs, page=1, per_page=50)"
   ]
  },
  {
   "cell_type": "code",
   "execution_count": 9,
   "id": "479f45a0-d63f-474d-aa76-2ddab5a10b0a",
   "metadata": {},
   "outputs": [],
   "source": [
    "#doc_tabs_ = copy(doc_tabs)"
   ]
  },
  {
   "cell_type": "code",
   "execution_count": 10,
   "id": "c4e71249-4e0e-47aa-9fcd-69b9219f507f",
   "metadata": {},
   "outputs": [],
   "source": [
    "#doc_tabs_ = open_random_n_tabs(doc_tabs_, n=5)"
   ]
  },
  {
   "cell_type": "code",
   "execution_count": 11,
   "id": "6311fa07",
   "metadata": {},
   "outputs": [
    {
     "name": "stdout",
     "output_type": "stream",
     "text": [
      "## Google search ## (0 tabs)\n",
      "\n"
     ]
    }
   ],
   "source": [
    "print_tabs(sorted([t for t in tabs if ('google.com' in t.lower() and 'search' in t.lower() and\n",
    "                                   not ('docs.google' in t.lower() or 'sheets.google' in t.lower()))]),\n",
    "           label='Google search')"
   ]
  },
  {
   "cell_type": "code",
   "execution_count": 12,
   "id": "53b9762e",
   "metadata": {},
   "outputs": [
    {
     "name": "stdout",
     "output_type": "stream",
     "text": [
      "## EAFo/LW ## (34 tabs)\n",
      "\n",
      "https://forum.effectivealtruism.org/posts/2AiuvYoozXeHBGnhd/the-next-decades-might-be-wild | The next decades might be wild - EA Forum\n",
      "https://forum.effectivealtruism.org/posts/4SpYcqZvuyZ8JyiCK/neuron-count-based-measures-may-currently-underweight | Neuron Count-Based Measures May Currently Underweight Suffering in Farmed Fish - EA Forum\n",
      "https://forum.effectivealtruism.org/posts/4csmTBamMuQy9Zf6Q/top-down-interventions-that-could-increase-participation-and | Top down interventions that could increase participation and impact of Low and Middle Income Countries in EA - EA Forum\n",
      "https://forum.effectivealtruism.org/posts/5XKAsEBMuxiycTHL7/working-with-the-beef-industry-for-chicken-welfare | Working with the Beef Industry for Chicken Welfare - EA Forum\n",
      "https://forum.effectivealtruism.org/posts/6TtH9NDbkDxK4zBDL/how-my-thinking-about-doing-good-changed-over-the-years | How my thinking about doing good changed over the years\n",
      "https://forum.effectivealtruism.org/posts/Aoe3oXzgwwzhT6gqX/on-being-ambitious-failing-successfully-and-less | On being ambitious: failing successfully & less unnecessarily - EA Forum\n",
      "https://forum.effectivealtruism.org/posts/DajpFcaMrHv4fPLTy/cea-s-work-in-2022 | CEA's work in 2022 - EA Forum\n",
      "https://forum.effectivealtruism.org/posts/FFBYAB7g9JMsfGtiT/process-for-returning-ftx-funds-announced | Process for Returning FTX Funds Announced - EA Forum\n",
      "https://forum.effectivealtruism.org/posts/J6Mp9tyBkbFrXHYnu/we-interviewed-15-china-focused-researchers-on-how-to-do | We interviewed 15 China-focused researchers on how to do good research - EA Forum\n",
      "https://forum.effectivealtruism.org/posts/JSYjxyfgsvhZLSE5L/end-of-year-effectiveness-check-in-a-tool-for-personal | End-of-Year Effectiveness Check-In: A Tool for Personal Reflection\n",
      "https://forum.effectivealtruism.org/posts/LCagfA2uS7idsLfoN/a-few-more-relevant-categories-to-think-about-diversity-in | A few more relevant categories to think about diversity in EA - EA Forum\n",
      "https://forum.effectivealtruism.org/posts/ReWjQEJDiLdjbsKCC/how-local-groups-can-leverage-ea-conferences | How local groups can leverage EA conferences - EA Forum\n",
      "https://forum.effectivealtruism.org/posts/WYktRSxq4Edw9zsH9/be-less-trusting-of-intuitive-arguments-about-social | Be less trusting of intuitive arguments about social phenomena - EA Forum\n",
      "https://forum.effectivealtruism.org/posts/Wj2Z2NXDZXiysnRv5/lessons-learned-from-tyve-an-effective-giving-startup | Lessons learned from Tyve, an effective giving startup\n",
      "https://forum.effectivealtruism.org/posts/Zxrv2kBhHzyd2gzsQ/existential-risk-mitigation-what-i-worry-about-when-there | Existential risk mitigation: What I worry about when there are only bad options - EA Forum\n",
      "https://forum.effectivealtruism.org/posts/a65aZvDAcPTkkjWHT/introducing-cfactual-a-new-ea-aligned-consultancy-1?commentId=v9JEDjzEgW5uqkTHn | Introducing cFactual - a new, EA-aligned consultancy - EA Forum\n",
      "https://forum.effectivealtruism.org/posts/dfMdez3jZMbhBwwJa/new-blog-some-doubts-about-effective-altruism | New blog: Some doubts about effective altruism - EA Forum\n",
      "https://forum.effectivealtruism.org/posts/isggu3woGwkpYzqwW/presenting-2022-incubated-charities-charity-entrepreneurship?utm_source=The+EA+Newsletter&utm_campaign=6fabdd6dc9-EMAIL_CAMPAIGN_2022_12_19_07_01&utm_medium=email&utm_term=0_51c1df13ac-b079fb81fd-%5BLIST_EMAIL_ID%5D | Presenting: 2022 Incubated Charities (Charity Entrepreneurship) - EA Forum\n",
      "https://forum.effectivealtruism.org/posts/k73qrirnxcKtKZ4ng/the-old-ai-lessons-for-ai-governance-from-early-electricity-1 | The ‘Old AI’: Lessons for AI governance from early electricity regulation - EA Forum\n",
      "https://forum.effectivealtruism.org/posts/pp2jmWHyDK9sfC4Rh/evaluating-the-evaluators-gwwc-s-research-direction | \"Evaluating the evaluators\": GWWC's research direction - EA Forum\n",
      "https://forum.effectivealtruism.org/posts/rJRw78oihoT5paFGd/high-level-hopes-for-ai-alignment | High-level hopes for AI alignment - EA Forum\n",
      "https://forum.effectivealtruism.org/posts/xBfp3HGapGycuSa6H/i-m-less-approving-of-the-ea-community-now-than-before-the | I'm less approving of the EA community now than before the FTX collapse - EA Forum\n",
      "https://forum.effectivealtruism.org/posts/xQk4g7yDvufXiECyc/a-can-of-worms-the-non-significant-effect-of-deworming-on#comments | A can of worms: the non-significant effect of deworming on happiness in the KLPS - EA Forum\n",
      "https://forum.effectivealtruism.org/posts/yvsf8DfdQJZ8EadtG/us-policy-master-s-degrees-why-and-when-part-1 | US Policy Master's Degrees: Why and When? (Part 1) - EA Forum\n",
      "https://forum.effectivealtruism.org/s/8rYkpiFhbb4HsbzFc/p/4PAi6nNRfQwwhdtBW | Questions for further investigation of AI diffusion - EA Forum\n",
      "https://forum.effectivealtruism.org/s/8rYkpiFhbb4HsbzFc/p/FANYsqzPM9Yht3KM2 | The replication and emulation of GPT-3 - EA Forum\n",
      "https://forum.effectivealtruism.org/s/8rYkpiFhbb4HsbzFc/p/KkbEfpNkjNepQrj8g | Publication decisions for large language models, and their impacts - EA Forum\n",
      "https://forum.effectivealtruism.org/s/8rYkpiFhbb4HsbzFc/p/eHKLgsXfMvSyAWb7E | Drivers of large language model diffusion: incremental research, publicity, and cascades - EA Forum\n",
      "https://forum.effectivealtruism.org/s/8rYkpiFhbb4HsbzFc/p/foptmf8C25TzJuit6 | GPT-3-like models are now much easier to access and deploy than to develop - EA Forum\n",
      "https://forum.effectivealtruism.org/s/8rYkpiFhbb4HsbzFc/p/nc3JFZbqnzWWAPkmz | Understanding the diffusion of large language models: summary - EA Forum\n",
      "https://forum.effectivealtruism.org/s/8rYkpiFhbb4HsbzFc/p/oB3MnFQa8LqcuEhjG | Background for \"Understanding the diffusion of large language models\" - EA Forum\n",
      "https://forum.effectivealtruism.org/s/8rYkpiFhbb4HsbzFc/p/pZPDQmyEoaqBB8szD | Conclusion and Bibliography for \"Understanding the diffusion of large language models\" - EA Forum\n",
      "https://forum.effectivealtruism.org/s/8rYkpiFhbb4HsbzFc/p/suBJdDkEu9EaSmTxJ | Implications of large language model diffusion for AI governance - EA Forum\n",
      "https://www.lesswrong.com/posts/Q3fesop6HKnemJ5Jc/disagreement-with-bio-anchors-that-lead-to-shorter-timelines | Disagreement with bio anchors that lead to shorter timelines - LessWrong\n"
     ]
    }
   ],
   "source": [
    "ea_fo_tabs = sorted([t for t in tabs if ('forum.effectivealtruism' in t.lower() or 'lesswrong' in t.lower())])\n",
    "print_tabs(ea_fo_tabs, label='EAFo/LW')"
   ]
  },
  {
   "cell_type": "code",
   "execution_count": 13,
   "id": "8ffa8f80-4aa6-4afe-8c6a-59194d69895e",
   "metadata": {},
   "outputs": [],
   "source": [
    "#open_tabs(ea_fo_tabs, page=1, per_page=50)"
   ]
  },
  {
   "cell_type": "code",
   "execution_count": 14,
   "id": "42ae2aee",
   "metadata": {},
   "outputs": [
    {
     "name": "stdout",
     "output_type": "stream",
     "text": [
      "## Metaculus etc. ## (4 tabs)\n",
      "\n",
      "https://manifold.markets/group/givewell | GiveWell | Manifold Markets\n",
      "https://www.metaculus.com/questions/10986/vaccine-used-against-monkeypox-in-us/ | Monkeypox Vaccine in US by 2023 | Metaculus\n",
      "https://www.metaculus.com/questions/11175/ai-movie-comprehension-before-2030/ | AI movie comprehension before 2030 | Metaculus\n",
      "https://www.metaculus.com/questions/13853/metaculus-talks-recordings-now-up/ | Metaculus Talks\n"
     ]
    }
   ],
   "source": [
    "print_tabs(sorted([t for t in tabs if ('metaculus' in t.lower() or 'manifold' in t.lower() or 'predictit' in t.lower())]), label='Metaculus etc.')"
   ]
  },
  {
   "cell_type": "code",
   "execution_count": 15,
   "id": "72bdaddd",
   "metadata": {},
   "outputs": [
    {
     "name": "stdout",
     "output_type": "stream",
     "text": [
      "## Wikipedia ## (3 tabs)\n",
      "\n",
      "https://en.wikipedia.org/wiki/Anton_syndrome | Anton syndrome - Wikipedia\n",
      "https://en.wikipedia.org/wiki/Founder%27s_syndrome | Founder's Syndrome\n",
      "https://en.wikipedia.org/wiki/Gossip_Girl | Gossip Girl\n"
     ]
    }
   ],
   "source": [
    "print_tabs(sorted([t for t in tabs if 'wikipedia' in t.lower()]), label='Wikipedia')"
   ]
  },
  {
   "cell_type": "code",
   "execution_count": 16,
   "id": "ca9dcfdf",
   "metadata": {},
   "outputs": [
    {
     "name": "stdout",
     "output_type": "stream",
     "text": [
      "## Reddit ## (0 tabs)\n",
      "\n"
     ]
    }
   ],
   "source": [
    "print_tabs(sorted([t for t in tabs if 'reddit' in t.lower()]), label='Reddit')"
   ]
  },
  {
   "cell_type": "code",
   "execution_count": 17,
   "id": "5dedf293",
   "metadata": {},
   "outputs": [
    {
     "name": "stdout",
     "output_type": "stream",
     "text": [
      "## localhost ## (0 tabs)\n",
      "\n"
     ]
    }
   ],
   "source": [
    "print_tabs(sorted([t for t in tabs if 'guarded-everglades-89687.herokuapp.com' in t.lower() or 'localhost' in t.lower()]), label='localhost')\n"
   ]
  },
  {
   "cell_type": "code",
   "execution_count": 18,
   "id": "677f610e",
   "metadata": {},
   "outputs": [
    {
     "name": "stdout",
     "output_type": "stream",
     "text": [
      "## Chores ## (0 tabs)\n",
      "\n"
     ]
    }
   ],
   "source": [
    "print_tabs(sorted([t for t in tabs if 'instacart' in t.lower()]), label='Chores')"
   ]
  },
  {
   "cell_type": "code",
   "execution_count": 19,
   "id": "5fce865e",
   "metadata": {},
   "outputs": [
    {
     "name": "stdout",
     "output_type": "stream",
     "text": [
      "## Amazon ## (7 tabs)\n",
      "\n",
      "https://smile.amazon.com/ENERGY-Sugar-Free-B-Vitamins-Caffeinated-Supplement/dp/B09WH3NX4W/ref=mp_s_a_1_1_sspa?crid=2KC62RVLCHNDR&keywords=five+hour+energy&qid=1671517260&sprefix=five+hour%2Caps%2C287&sr=8-1-spons&psc=1&smid=A1MFYK80QTULRB&spLa=ZW5jcnlwdGVkUXVhbGlmaWVyPUEyMDVGUUJOVlBXMFg3JmVuY3J5cHRlZElkPUEwMjQ4OTM3MVA2OExSQ0VXNDNISCZlbmNyeXB0ZWRBZElkPUEwNzY4MzIwM1RaSk1STFUwR0ZTWSZ3aWRnZXROYW1lPXNwX3Bob25lX3NlYXJjaF9hdGYmYWN0aW9uPWNsaWNrUmVkaXJlY3QmZG9Ob3RMb2dDbGljaz10cnVl&sa-no-redirect=1 | AmazonSmile : 5-hour ENERGY Extra Strength Energy Shot | Peach Mango Flavor | 1.93 oz. | 24 Count | Sugar-Free & Zero Calories | B-Vitamins & Amino Acids | 230mg Caffeinated Energy Shot | Dietary Supplement : Grocery & Gourmet Food\n",
      "https://smile.amazon.com/Great-CEO-Within-Tactical-Building-ebook/dp/B07ZLGQZYC/?sa-no-redirect=1 | AmazonSmile: The Great CEO Within: The Tactical Guide to Company Building eBook : Mochary, Matt, MacCaw, Alex, Talavera, Misha: Kindle Store\n",
      "https://smile.amazon.com/Tiny-Towns-Original-AEG07053-Construct/dp/B07L1CPM28?sa-no-redirect=1&th=1 | AmazonSmile: Tiny Towns - Award-winning Board Game, Base Set, 1-6 Players, 45-60 min Play Time, Strategy Board Game for Ages 14 and Up, Cleverly Plan & Construct a Thriving Town, Alderac Entertainment Group (AEG) : Everything Else\n",
      "https://smile.amazon.com/dp/1607745259?tag=thestrategistsite-20&ascsubtag=[]st[p]ck5pjva3h01nsn5ye8y3mkk8d[i]8tTTHi[v]a[u]2[t]w[d]D[z]m&sa-no-redirect=1 | Death & Co: Modern Classic Cocktails: David Kaplan, Nick Fauchald: 8601411347504: AmazonSmile: Books\n",
      "https://smile.amazon.com/dp/B01M8MMLBI?tag=thestrategistsite-20&ascsubtag=[]st[p]ciwh4yo07000xypy917gbkc9g[i]YAGf0m[v]a[u]2[t]w[r]nymag.com/strategist[d]D[z]m&sa-no-redirect=1 | AmazonSmile: Breville Joule Sous Vide, Stainless Steel, CS10001: Home & Kitchen\n",
      "https://smile.amazon.com/dp/B07XZNN2QS?tag=thestrategistsite-20&ascsubtag=[]st[p]ciwh4yo07000xypy917gbkc9g[i]wNigIS[v]a[u]2[t]w[r]nymag.com/strategist[d]D[z]m&sa-no-redirect=1 | AmazonSmile: New MEATER+165ft Long Range Smart Wireless Meat Thermometer for The Oven Grill Kitchen BBQ Smoker Rotisserie with Bluetooth and WiFi Digital Connectivity Bundled with HogoR BBQ Grill Black Glove : Patio, Lawn & Garden\n",
      "https://smile.amazon.com/dp/B07Z5H4TF5?linkCode=ogi&tag=bp_links-20&ascsubtag=%5Bartid%7C2089.g.376%5Bsrc%7C%5Bch%7C%5Blt%7Csale%5Bpid%7C87eb4c4d-88ab-40bc-b676-c90784b3fd38&sa-no-redirect=1 | AmazonSmile: Ember Temperature Control Smart Mug 2, 14 oz, Black, 80 min. Battery Life - App Controlled Heated Coffee Mug - Improved Design : Everything Else\n"
     ]
    }
   ],
   "source": [
    "print_tabs(sorted([t for t in tabs if 'amazon.com' in t.lower()]), label='Amazon')"
   ]
  },
  {
   "cell_type": "code",
   "execution_count": 20,
   "id": "16d46af9",
   "metadata": {},
   "outputs": [
    {
     "name": "stdout",
     "output_type": "stream",
     "text": [
      "## Morning Dispatch ## (0 tabs)\n",
      "\n"
     ]
    }
   ],
   "source": [
    "print_tabs(sorted([t for t in tabs if 'morning' in t.lower() and 'dispatch' in t.lower()]), label='Morning Dispatch')"
   ]
  },
  {
   "cell_type": "code",
   "execution_count": 21,
   "id": "108d879a",
   "metadata": {},
   "outputs": [
    {
     "name": "stdout",
     "output_type": "stream",
     "text": [
      "## GitHub ## (1 tabs)\n",
      "\n",
      "https://github.com/mikesaint-antoine/midterm_forecast_analysis/blob/master/midterm_data.csv | midterm_forecast_analysis/midterm_data.csv at master · mikesaint-antoine/midterm_forecast_analysis\n"
     ]
    }
   ],
   "source": [
    "print_tabs(sorted([t for t in tabs if 'github' in t.lower()]), label='GitHub')"
   ]
  },
  {
   "cell_type": "code",
   "execution_count": 22,
   "id": "d911bbda",
   "metadata": {},
   "outputs": [
    {
     "name": "stdout",
     "output_type": "stream",
     "text": [
      "## YouTube ## (5 tabs)\n",
      "\n",
      "https://www.youtube.com/c/contrapoints | ContraPoints - YouTube\n",
      "https://www.youtube.com/user/thephilosophytube | Philosophy Tube - YouTube\n",
      "https://www.youtube.com/watch?v=OZxt-RmNi0M | Do more good than you thought possible - YouTube\n",
      "https://www.youtube.com/watch?v=TqURNrfPo1g | Zoe Lightning Talk Leadership Training - YouTube\n",
      "https://www.youtube.com/watch?v=WU3Avwch3gw | https://www.youtube.com/watch?v=WU3Avwch3gw\n"
     ]
    }
   ],
   "source": [
    "print_tabs(sorted([t for t in tabs if 'yout' in t.lower()]), label='YouTube')"
   ]
  },
  {
   "cell_type": "code",
   "execution_count": 23,
   "id": "2649c14d",
   "metadata": {},
   "outputs": [
    {
     "name": "stdout",
     "output_type": "stream",
     "text": [
      "## Instagram ## (0 tabs)\n",
      "\n"
     ]
    }
   ],
   "source": [
    "print_tabs(sorted([t for t in tabs if 'instagram.com' in t.lower()]), label='Instagram')"
   ]
  },
  {
   "cell_type": "code",
   "execution_count": 24,
   "id": "ab0e02f2-e275-486f-98d3-37d3218dc821",
   "metadata": {},
   "outputs": [
    {
     "name": "stdout",
     "output_type": "stream",
     "text": [
      "## Asana ## (0 tabs)\n",
      "\n"
     ]
    }
   ],
   "source": [
    "print_tabs(sorted([t for t in tabs if 'aap.assana.com' in t.lower()]), label='Asana')"
   ]
  },
  {
   "cell_type": "code",
   "execution_count": 25,
   "id": "bc70c265",
   "metadata": {},
   "outputs": [
    {
     "name": "stdout",
     "output_type": "stream",
     "text": [
      "## Other ## (63 tabs)\n",
      "\n",
      "https://archive.ph/rRTOL | Bob Iger vs. Bob Chapek: Inside the Disney Coup - WSJ\n",
      "https://arxiv.org/pdf/2212.08364.pdf | Three lines of defense against risks from AI\n",
      "https://astralcodexten.substack.com/p/can-this-ai-save-teenage-spy-alex | Can This AI Save Teenage Spy Alex Rider From A Terrible Fate?\n",
      "https://astralcodexten.substack.com/p/perhaps-it-is-a-bad-thing-that-the | Perhaps It Is A Bad Thing That The World's Leading AI Companies Cannot Control Their AIs\n",
      "https://consc.net/neurips.pdf | llm neurips small\n",
      "https://data.centreforeffectivealtruism.org/ | CEA Dashboard\n",
      "https://discord.com/channels/1054165706440192151/1054165706972860470 | https://discord.com/channels/1054165706440192151/1054165706972860470\n",
      "https://discord.com/channels/1054165706440192151/1054165706972860470 | • Discord | #general | Probably Cool People\n",
      "https://dynomight.substack.com/p/llms | Historical analogies for large language models\n",
      "https://ettingermentum.substack.com/p/how-raphael-warnock-played-the-georgia?utm_source=twitter&sd=pf | How Raphael Warnock Played the Georgia GOP\n",
      "https://faunalytics.org/local-action-as-stepping-stone/ | Local Action For Animals As A Stepping Stone To State Protections\n",
      "https://founderspledge.com/stories/a-guide-to-forecasting-at-founders-pledge | A Guide to Forecasting at Founders Pledge | Founders Pledge\n",
      "https://founderspledge.com/stories/foci-for-future-us-climate-philanthropy | What \"Think Global, Act Local\" Means for US Climate Philanthropists | Founders Pledge\n",
      "https://founderspledge.com/stories/mass-media-interventions | Mass Media Interventions | Founders Pledge\n",
      "https://founderspledge.com/stories/moral-weights | Our Approach to Moral Weights | Founders Pledge\n",
      "https://founderspledge.com/stories/the-climate-change-fund-at-two | The Climate Change Fund at Two | Founders Pledge\n",
      "https://founderspledge.com/stories/the-war-in-ukraine-climate-risk-high-impact-climate-philanthropy | The War in Ukraine, Climate Risk & High-Impact Climate Philanthropy | Founders Pledge\n",
      "https://intelligence.org/topcontributors/ | https://intelligence.org/topcontributors/\n",
      "https://intelligence.org/wp-content/uploads/2022/12/990-2021.pdf | 990-2021.pdf\n",
      "https://judy.co/products/the-safe?sscid=c1k6_p291r& | The Safe | 4 Person Emergency Preparedness Kit | Ready Set Judy\n",
      "https://leadelimination.org/jobs/?utm_source=The+EA+Newsletter&utm_campaign=6fabdd6dc9-EMAIL_CAMPAIGN_2022_12_19_07_01&utm_medium=email&utm_term=0_51c1df13ac-b079fb81fd-%5BLIST_EMAIL_ID%5D | Jobs - Lead Exposure Elimination Project - LEEP\n",
      "https://mickryan.substack.com/p/learning-from-the-war-in-ukraine?r=1gv0l&utm_campaign=post&utm_medium=web | Learning from the War in Ukraine\n",
      "https://miro.com/app/board/uXjVPCMMYAM=/ | EOY Retreat, Online Whiteboard for Visual Collaboration\n",
      "https://noahpinion.substack.com/p/geopolitics-and-geostrategic-competition?sd=pf | Geopolitics and geostrategic competition in 2023\n",
      "https://nymag.com/intelligencer/2022/12/sam-bankman-fried-and-sean-mcelwees-fateful-alliance.html | Sam Bankman-Fried and Sean McElwee’s Fateful Alliance\n",
      "https://proceedings.neurips.cc/paper/2018/hash/c203d8a151612acf12457e4d67635a95-Abstract.html | Long short-term memory and Learning-to-learn in networks of spiking neurons\n",
      "https://secure.justworks.com/training | https://secure.justworks.com/training\n",
      "https://toot.community/@darius@friend.camp/109536295906363149 | https://toot.community/@darius@friend.camp/109536295906363149\n",
      "https://washingtonmonthly.com/2022/04/03/the-art-of-the-pump/ | The Art of the Pump\n",
      "https://wildanimalsuffering.org/?fbclid=IwAR3Pg1A-k_HYq7N3kC65Qdi22GnXGYdgN-13XjsnZhdxD3rlWkeDOyMyWf4 | Wild Animal Suffering — The scale, the problem, and why it matters\n",
      "https://www.alignmentforum.org/posts/svhQMdsefdYFDq5YM/evaluations-project-arc-is-hiring-a-researcher-and-a-webdev-1 | Evaluations project @ ARC is hiring a researcher and a webdev/engineer\n",
      "https://www.atlanticcouncil.org/blogs/ukrainealert/2022-review-why-has-vladimir-putins-ukraine-invasion-gone-so-badly-wrong/ | 2022 REVIEW: Why has Vladimir Putin’s Ukraine invasion gone so badly wrong? - Atlantic Council\n",
      "https://www.businessinsider.com/trump-indictment-georgia-fulton-county-steps-2022-12 | What a Donald Trump Indictment in Georgia Would Look Like\n",
      "https://www.cameo.com/browse/actors | Cameo - Actors\n",
      "https://www.centreforeffectivealtruism.org/diversity-and-inclusion | CEA’s Stance on Diversity and Inclusion | Centre For Effective Altruism\n",
      "https://www.centreforeffectivealtruism.org/moderation-and-content | CEA’s Approach to Moderation and Content Curation | Centre For Effective Altruism\n",
      "https://www.centreforeffectivealtruism.org/strategy | CEA's Strategy | Centre For Effective Altruism\n",
      "https://www.centreforeffectivealtruism.org/strategy#where-we-are-not-focusing | CEA's Strategy | Centre For Effective Altruism\n",
      "https://www.cooperativeai.com/job-listing/program-manager | Cooperative AI\n",
      "https://www.givewell.org/about/jobs/senior-researcher | Senior Researcher | GiveWell\n",
      "https://www.givingwhatwecan.org/fundraisers/emile-and-nathan-christmas-fundraiser | Giving What We Can\n",
      "https://www.givingwhatwecan.org/giving-season | Giving Season · Giving What We Can\n",
      "https://www.governance.ai/post/summer-fellowship-2023 | Summer Fellowship 2023 | GovAI Blog\n",
      "https://www.metacausal.com/givewells-uncertainty-problem/ | GiveWell's Uncertainty Problem\n",
      "https://www.metacritic.com/browse/games/score/metascore/all/all/filtered | https://www.metacritic.com/browse/games/score/metascore/all/all/filtered\n",
      "https://www.naobservatory.org/?utm_source=The+EA+Newsletter&utm_campaign=6fabdd6dc9-EMAIL_CAMPAIGN_2022_12_19_07_01&utm_medium=email&utm_term=0_51c1df13ac-b079fb81fd-%5BLIST_EMAIL_ID%5D | Nucleic Acid Observatory\n",
      "https://www.nytimes.com/interactive/2022/upshot/snow-forecast-totals-lookup.html | How Much Snow Will Fall Where You Live?\n",
      "https://www.rcv123.org/results/mwQp73NUph1tXxcg6nBVcY | https://www.rcv123.org/results/mwQp73NUph1tXxcg6nBVcY\n",
      "https://www.rcv123.org/results/mwQp73NUph1tXxcg6nBVcY/jWN4F2dNTDoa3WUBSpVTGb | Election Results\n",
      "https://www.samstack.io/p/sams-rules-for-life | Sam's 12 rules for life - by Sam Atis - Samstack\n",
      "https://www.sentienceinstitute.org/blog/predicting-the-moral-consideration-of-artificial-intelligences | Predicting the Moral Consideration of Artificial Intelligences\n",
      "https://www.slowboring.com/p/secret-congress-delivers-more-good?r=18mntl&utm_medium=ios&utm_campaign=post | Secret Congress delivers more good news on clean water\n",
      "https://www.spectator.co.uk/article/what-will-putin-do-next/ | What will Putin do next? | The Spectator\n",
      "https://www.state.gov/u-s-support-for-the-philippines-in-the-south-china-sea-2/ | U.S. Support for the Philippines in the South China Sea - United States Department of State\n",
      "https://www.theamericanconservative.com/what-long-covid-means/ | What 'Long Covid' Means - The American Conservative\n",
      "https://www.theatlantic.com/ideas/archive/2022/12/russia-ukraine-nuclear-war-putin-threat/672491/ | What Trump and Musk Don’t Get About Russia’s Nuclear Threats - The Atlantic\n",
      "https://www.tiktok.com/@benthamite/video/7017568248652696837?is_from_webapp=v1&item_id=7017568248652696837 | #crypto billionaire sbf ❤️s #effectivealtruism | TikTok\n",
      "https://www.vox.com/policy-and-politics/2022/12/19/23453073/2022-year-democracy-russia-ukraine-china-iran-america-brazil | 2022 was a bad year for Putin, Xi, and other global bad guys - Vox\n",
      "https://www.vox.com/policy-and-politics/2022/12/19/23453073/2022-year-democracy-russia-ukraine-china-iran-america-brazil | A bad year for the bad guys\n",
      "https://www.wildanimalinitiative.org/blog/how-diverse-is-wild-animal-initiative | How diverse is the Wild Animal Initiative team? — Wild Animal Initiative\n",
      "https://www.worksinprogress.co/issue/pandemic-prevention-as-fire-fighting/?utm_source=The+EA+Newsletter&utm_campaign=6fabdd6dc9-EMAIL_CAMPAIGN_2022_12_19_07_01&utm_medium=email&utm_term=0_51c1df13ac-b079fb81fd-%5BLIST_EMAIL_ID%5D | Pandemic prevention as fire-fighting - Works in Progress\n",
      "https://yaofu.notion.site/How-does-GPT-Obtain-its-Ability-Tracing-Emergent-Abilities-of-Language-Models-to-their-Sources-b9a57ac0fcf74f30a1ab9e3e36fa1dc1 | How does GPT Obtain its Ability? Tracing Emergent Abilities of Language Models to their Sources\n",
      "https://yieldgiving.com/essays/no-dollar-signs-this-time | No Dollar Signs This Time - Essays - Yield Giving\n"
     ]
    }
   ],
   "source": [
    "tabs_ = [t for t in tabs if (not ('google.com' in t.lower() and 'search' in t.lower() and not ('docs.google' in t.lower() or 'sheets.google' in t.lower())) and\n",
    "                             not ('docs.google' in t.lower() or 'sheets.google' in t.lower() or 'drive.google' in t.lower()) and\n",
    "                             not 'facebook.com' in t.lower() and\n",
    "                             not 'twitter.com' in t.lower() and\n",
    "                             not ('forum.effectivealtruism' in t.lower() or 'lesswrong' in t.lower()) and\n",
    "                             not ('metaculus' in t.lower() or 'manifold' in t.lower() or 'predictit' in t.lower()) and\n",
    "                             not 'wikipedia' in t.lower() and\n",
    "                             not 'reddit' in t.lower() and\n",
    "                             not 'instagram.com' in t.lower() and\n",
    "                             not ('guarded-everglades-89687.herokuapp.com' in t.lower() or 'localhost' in t.lower()) and\n",
    "                             not 'instacart' in t.lower() and\n",
    "                             not ('morning' in t.lower() and 'dispatch' in t.lower()) and\n",
    "                             not 'amazon.com' in t.lower() and\n",
    "                             not 'github' in t.lower() and\n",
    "                             not 'calendar.google' in t.lower() and\n",
    "                             not 'yout' in t.lower() and\n",
    "                             not 'app.asana.com' in t.lower() and\n",
    "                             not ('messages/' in t.lower() or 'inbox/' in t.lower() or 'mail.gogole' in t.lower() or 'swapcard' in t.lower()))]\n",
    "tabs_ = sorted(tabs_)\n",
    "print_tabs(tabs_, label='Other')\n",
    "\n"
   ]
  },
  {
   "cell_type": "code",
   "execution_count": 26,
   "id": "c9a2a7bb-86f9-45bd-b8d6-ed8889caed90",
   "metadata": {},
   "outputs": [],
   "source": [
    "#open_tabs(tabs_, page=1, per_page=60)"
   ]
  },
  {
   "cell_type": "code",
   "execution_count": 28,
   "id": "6c128ee3-03e2-4cfb-bfd1-0dfc84775af1",
   "metadata": {},
   "outputs": [
    {
     "name": "stdout",
     "output_type": "stream",
     "text": [
      "## Shuffled all tabs ## (150 tabs)\n",
      "\n",
      "https://smile.amazon.com/dp/1607745259?tag=thestrategistsite-20&ascsubtag=[]st[p]ck5pjva3h01nsn5ye8y3mkk8d[i]8tTTHi[v]a[u]2[t]w[d]D[z]m&sa-no-redirect=1 | Death & Co: Modern Classic Cocktails: David Kaplan, Nick Fauchald: 8601411347504: AmazonSmile: Books\n",
      "https://www.facebook.com/katie.elizabeth.370177/photos | Katie Elizabeth\n",
      "https://forum.effectivealtruism.org/posts/a65aZvDAcPTkkjWHT/introducing-cfactual-a-new-ea-aligned-consultancy-1?commentId=v9JEDjzEgW5uqkTHn | Introducing cFactual - a new, EA-aligned consultancy - EA Forum\n",
      "https://forum.effectivealtruism.org/s/8rYkpiFhbb4HsbzFc/p/suBJdDkEu9EaSmTxJ | Implications of large language model diffusion for AI governance - EA Forum\n",
      "https://mobile.twitter.com/messages/25776739-957984416504033285 | https://mobile.twitter.com/messages/25776739-957984416504033285\n",
      "https://www.state.gov/u-s-support-for-the-philippines-in-the-south-china-sea-2/ | U.S. Support for the Philippines in the South China Sea - United States Department of State\n",
      "https://mobile.twitter.com/messages/25776739-48111864 | https://mobile.twitter.com/messages/25776739-48111864\n",
      "https://washingtonmonthly.com/2022/04/03/the-art-of-the-pump/ | The Art of the Pump\n",
      "https://discord.com/channels/1054165706440192151/1054165706972860470 | https://discord.com/channels/1054165706440192151/1054165706972860470\n",
      "https://forum.effectivealtruism.org/posts/2AiuvYoozXeHBGnhd/the-next-decades-might-be-wild | The next decades might be wild - EA Forum\n",
      "https://smile.amazon.com/ENERGY-Sugar-Free-B-Vitamins-Caffeinated-Supplement/dp/B09WH3NX4W/ref=mp_s_a_1_1_sspa?crid=2KC62RVLCHNDR&keywords=five+hour+energy&qid=1671517260&sprefix=five+hour%2Caps%2C287&sr=8-1-spons&psc=1&smid=A1MFYK80QTULRB&spLa=ZW5jcnlwdGVkUXVhbGlmaWVyPUEyMDVGUUJOVlBXMFg3JmVuY3J5cHRlZElkPUEwMjQ4OTM3MVA2OExSQ0VXNDNISCZlbmNyeXB0ZWRBZElkPUEwNzY4MzIwM1RaSk1STFUwR0ZTWSZ3aWRnZXROYW1lPXNwX3Bob25lX3NlYXJjaF9hdGYmYWN0aW9uPWNsaWNrUmVkaXJlY3QmZG9Ob3RMb2dDbGljaz10cnVl&sa-no-redirect=1 | AmazonSmile : 5-hour ENERGY Extra Strength Energy Shot | Peach Mango Flavor | 1.93 oz. | 24 Count | Sugar-Free & Zero Calories | B-Vitamins & Amino Acids | 230mg Caffeinated Energy Shot | Dietary Supplement : Grocery & Gourmet Food\n",
      "https://forum.effectivealtruism.org/s/8rYkpiFhbb4HsbzFc/p/4PAi6nNRfQwwhdtBW | Questions for further investigation of AI diffusion - EA Forum\n",
      "https://yaofu.notion.site/How-does-GPT-Obtain-its-Ability-Tracing-Emergent-Abilities-of-Language-Models-to-their-Sources-b9a57ac0fcf74f30a1ab9e3e36fa1dc1 | How does GPT Obtain its Ability? Tracing Emergent Abilities of Language Models to their Sources\n",
      "https://forum.effectivealtruism.org/s/8rYkpiFhbb4HsbzFc/p/FANYsqzPM9Yht3KM2 | The replication and emulation of GPT-3 - EA Forum\n",
      "https://www.businessinsider.com/trump-indictment-georgia-fulton-county-steps-2022-12 | What a Donald Trump Indictment in Georgia Would Look Like\n",
      "https://wildanimalsuffering.org/?fbclid=IwAR3Pg1A-k_HYq7N3kC65Qdi22GnXGYdgN-13XjsnZhdxD3rlWkeDOyMyWf4 | Wild Animal Suffering — The scale, the problem, and why it matters\n",
      "https://smile.amazon.com/dp/B07Z5H4TF5?linkCode=ogi&tag=bp_links-20&ascsubtag=%5Bartid%7C2089.g.376%5Bsrc%7C%5Bch%7C%5Blt%7Csale%5Bpid%7C87eb4c4d-88ab-40bc-b676-c90784b3fd38&sa-no-redirect=1 | AmazonSmile: Ember Temperature Control Smart Mug 2, 14 oz, Black, 80 min. Battery Life - App Controlled Heated Coffee Mug - Improved Design : Everything Else\n",
      "https://arxiv.org/pdf/2212.08364.pdf | Three lines of defense against risks from AI\n",
      "https://docs.google.com/document/d/1QyHVYkyUBNXYzeWZqYjDxiI45TvE1zBrJFCxv3fqNWo/edit#heading=h.f99l5nlplh6s | 1-1 Peter <> David Moss\n",
      "https://en.wikipedia.org/wiki/Founder%27s_syndrome | Founder's Syndrome\n",
      "https://founderspledge.com/stories/foci-for-future-us-climate-philanthropy | What \"Think Global, Act Local\" Means for US Climate Philanthropists | Founders Pledge\n",
      "https://www.centreforeffectivealtruism.org/strategy#where-we-are-not-focusing | CEA's Strategy | Centre For Effective Altruism\n",
      "https://forum.effectivealtruism.org/posts/isggu3woGwkpYzqwW/presenting-2022-incubated-charities-charity-entrepreneurship?utm_source=The+EA+Newsletter&utm_campaign=6fabdd6dc9-EMAIL_CAMPAIGN_2022_12_19_07_01&utm_medium=email&utm_term=0_51c1df13ac-b079fb81fd-%5BLIST_EMAIL_ID%5D | Presenting: 2022 Incubated Charities (Charity Entrepreneurship) - EA Forum\n",
      "https://consc.net/neurips.pdf | llm neurips small\n",
      "https://www.cooperativeai.com/job-listing/program-manager | Cooperative AI\n",
      "https://twitter.com/Simeon_Cps/status/1604962471927635968 | https://twitter.com/Simeon_Cps/status/1604962471927635968\n",
      "https://www.youtube.com/user/thephilosophytube | Philosophy Tube - YouTube\n",
      "https://forum.effectivealtruism.org/posts/Aoe3oXzgwwzhT6gqX/on-being-ambitious-failing-successfully-and-less | On being ambitious: failing successfully & less unnecessarily - EA Forum\n",
      "https://www.facebook.com/messages/t/1145392287 | Messenger | Facebook\n",
      "https://www.facebook.com/messages/t/668090667 | https://www.facebook.com/messages/t/668090667\n",
      "https://intelligence.org/wp-content/uploads/2022/12/990-2021.pdf | 990-2021.pdf\n",
      "https://www.wildanimalinitiative.org/blog/how-diverse-is-wild-animal-initiative | How diverse is the Wild Animal Initiative team? — Wild Animal Initiative\n",
      "https://www.vox.com/policy-and-politics/2022/12/19/23453073/2022-year-democracy-russia-ukraine-china-iran-america-brazil | A bad year for the bad guys\n",
      "https://app.asana.com/0/1203395441862551/list | ● AIGS >2-month-project workflow - Asana\n",
      "https://secure.justworks.com/training | https://secure.justworks.com/training\n",
      "https://www.sentienceinstitute.org/blog/predicting-the-moral-consideration-of-artificial-intelligences | Predicting the Moral Consideration of Artificial Intelligences\n",
      "https://forum.effectivealtruism.org/posts/ReWjQEJDiLdjbsKCC/how-local-groups-can-leverage-ea-conferences | How local groups can leverage EA conferences - EA Forum\n",
      "https://smile.amazon.com/Tiny-Towns-Original-AEG07053-Construct/dp/B07L1CPM28?sa-no-redirect=1&th=1 | AmazonSmile: Tiny Towns - Award-winning Board Game, Base Set, 1-6 Players, 45-60 min Play Time, Strategy Board Game for Ages 14 and Up, Cleverly Plan & Construct a Thriving Town, Alderac Entertainment Group (AEG) : Everything Else\n",
      "https://www.givingwhatwecan.org/fundraisers/emile-and-nathan-christmas-fundraiser | Giving What We Can\n",
      "https://www.givingwhatwecan.org/giving-season | Giving Season · Giving What We Can\n",
      "https://docs.google.com/presentation/d/1WWat7qRV1_c06s5lF8oGB3tCmcJveO7YSIi_eG-fvnY/edit#slide=id.g1b375866e03_0_0 | Learnings from Leadership Training\n",
      "https://www.nytimes.com/interactive/2022/upshot/snow-forecast-totals-lookup.html | How Much Snow Will Fall Where You Live?\n",
      "https://archive.ph/rRTOL | Bob Iger vs. Bob Chapek: Inside the Disney Coup - WSJ\n",
      "https://forum.effectivealtruism.org/s/8rYkpiFhbb4HsbzFc/p/foptmf8C25TzJuit6 | GPT-3-like models are now much easier to access and deploy than to develop - EA Forum\n",
      "https://www.alignmentforum.org/posts/svhQMdsefdYFDq5YM/evaluations-project-arc-is-hiring-a-researcher-and-a-webdev-1 | Evaluations project @ ARC is hiring a researcher and a webdev/engineer\n",
      "https://mobile.twitter.com/messages/25776739-1133196129309356032 | https://mobile.twitter.com/messages/25776739-1133196129309356032\n",
      "https://forum.effectivealtruism.org/s/8rYkpiFhbb4HsbzFc/p/pZPDQmyEoaqBB8szD | Conclusion and Bibliography for \"Understanding the diffusion of large language models\" - EA Forum\n",
      "https://twitter.com/jonasschuett/status/1604802874428780544 | https://twitter.com/jonasschuett/status/1604802874428780544\n",
      "https://www.slowboring.com/p/secret-congress-delivers-more-good?r=18mntl&utm_medium=ios&utm_campaign=post | Secret Congress delivers more good news on clean water\n",
      "https://yieldgiving.com/essays/no-dollar-signs-this-time | No Dollar Signs This Time - Essays - Yield Giving\n",
      "https://mobile.twitter.com/messages/25776739-1551581042259132418 | https://mobile.twitter.com/messages/25776739-1551581042259132418\n",
      "https://www.facebook.com/rachel.keselring/photos | Rachel Keselring\n",
      "https://forum.effectivealtruism.org/s/8rYkpiFhbb4HsbzFc/p/KkbEfpNkjNepQrj8g | Publication decisions for large language models, and their impacts - EA Forum\n",
      "https://twitter.com/messages/25776739-166282621 | https://twitter.com/messages/25776739-166282621\n",
      "https://docs.google.com/document/d/1mq4MLURc5re5nER7dnjc6pW-bZXQDYvBKjWC3MuJ-sY/edit#heading=h.ps6kw8kciwwi | SoGive strategy 2023\n",
      "https://www.givewell.org/about/jobs/senior-researcher | Senior Researcher | GiveWell\n",
      "https://www.vox.com/policy-and-politics/2022/12/19/23453073/2022-year-democracy-russia-ukraine-china-iran-america-brazil | 2022 was a bad year for Putin, Xi, and other global bad guys - Vox\n",
      "https://toot.community/@darius@friend.camp/109536295906363149 | https://toot.community/@darius@friend.camp/109536295906363149\n",
      "https://data.centreforeffectivealtruism.org/ | CEA Dashboard\n",
      "https://founderspledge.com/stories/the-climate-change-fund-at-two | The Climate Change Fund at Two | Founders Pledge\n",
      "https://www.metacritic.com/browse/games/score/metascore/all/all/filtered | https://www.metacritic.com/browse/games/score/metascore/all/all/filtered\n",
      "https://intelligence.org/topcontributors/ | https://intelligence.org/topcontributors/\n",
      "https://mobile.twitter.com/messages/25776739-1301816041962483712 | https://mobile.twitter.com/messages/25776739-1301816041962483712\n",
      "https://www.metaculus.com/questions/11175/ai-movie-comprehension-before-2030/ | AI movie comprehension before 2030 | Metaculus\n",
      "https://www.lesswrong.com/posts/Q3fesop6HKnemJ5Jc/disagreement-with-bio-anchors-that-lead-to-shorter-timelines | Disagreement with bio anchors that lead to shorter timelines - LessWrong\n",
      "https://miro.com/app/board/uXjVPCMMYAM=/ | EOY Retreat, Online Whiteboard for Visual Collaboration\n",
      "https://www.facebook.com/messages/t/100002521566563/ | Messenger | Facebook\n",
      "https://forum.effectivealtruism.org/posts/5XKAsEBMuxiycTHL7/working-with-the-beef-industry-for-chicken-welfare | Working with the Beef Industry for Chicken Welfare - EA Forum\n",
      "https://www.rcv123.org/results/mwQp73NUph1tXxcg6nBVcY/jWN4F2dNTDoa3WUBSpVTGb | Election Results\n",
      "https://smile.amazon.com/dp/B01M8MMLBI?tag=thestrategistsite-20&ascsubtag=[]st[p]ciwh4yo07000xypy917gbkc9g[i]YAGf0m[v]a[u]2[t]w[r]nymag.com/strategist[d]D[z]m&sa-no-redirect=1 | AmazonSmile: Breville Joule Sous Vide, Stainless Steel, CS10001: Home & Kitchen\n",
      "https://twitter.com/messages/25776739-1257963166602088449 | https://twitter.com/messages/25776739-1257963166602088449\n",
      "https://founderspledge.com/stories/the-war-in-ukraine-climate-risk-high-impact-climate-philanthropy | The War in Ukraine, Climate Risk & High-Impact Climate Philanthropy | Founders Pledge\n",
      "https://forum.effectivealtruism.org/posts/4csmTBamMuQy9Zf6Q/top-down-interventions-that-could-increase-participation-and | Top down interventions that could increase participation and impact of Low and Middle Income Countries in EA - EA Forum\n",
      "https://forum.effectivealtruism.org/posts/WYktRSxq4Edw9zsH9/be-less-trusting-of-intuitive-arguments-about-social | Be less trusting of intuitive arguments about social phenomena - EA Forum\n",
      "https://www.governance.ai/post/summer-fellowship-2023 | Summer Fellowship 2023 | GovAI Blog\n",
      "https://www.youtube.com/watch?v=OZxt-RmNi0M | Do more good than you thought possible - YouTube\n",
      "https://www.rcv123.org/results/mwQp73NUph1tXxcg6nBVcY | https://www.rcv123.org/results/mwQp73NUph1tXxcg6nBVcY\n",
      "https://www.youtube.com/watch?v=TqURNrfPo1g | Zoe Lightning Talk Leadership Training - YouTube\n",
      "https://www.facebook.com/anna.deitz.7 | Anna Deitz\n",
      "https://www.facebook.com/messages/t/1804802561/ | Messenger | Facebook\n",
      "https://forum.effectivealtruism.org/posts/xBfp3HGapGycuSa6H/i-m-less-approving-of-the-ea-community-now-than-before-the | I'm less approving of the EA community now than before the FTX collapse - EA Forum\n",
      "https://forum.effectivealtruism.org/posts/JSYjxyfgsvhZLSE5L/end-of-year-effectiveness-check-in-a-tool-for-personal | End-of-Year Effectiveness Check-In: A Tool for Personal Reflection\n",
      "https://nymag.com/intelligencer/2022/12/sam-bankman-fried-and-sean-mcelwees-fateful-alliance.html | Sam Bankman-Fried and Sean McElwee’s Fateful Alliance\n",
      "https://forum.effectivealtruism.org/posts/J6Mp9tyBkbFrXHYnu/we-interviewed-15-china-focused-researchers-on-how-to-do | We interviewed 15 China-focused researchers on how to do good research - EA Forum\n",
      "https://www.spectator.co.uk/article/what-will-putin-do-next/ | What will Putin do next? | The Spectator\n",
      "https://founderspledge.com/stories/mass-media-interventions | Mass Media Interventions | Founders Pledge\n",
      "https://twitter.com/ryancareyai/status/1605543991428190208 | https://twitter.com/ryancareyai/status/1605543991428190208\n",
      "https://forum.effectivealtruism.org/posts/rJRw78oihoT5paFGd/high-level-hopes-for-ai-alignment | High-level hopes for AI alignment - EA Forum\n",
      "https://www.metaculus.com/questions/10986/vaccine-used-against-monkeypox-in-us/ | Monkeypox Vaccine in US by 2023 | Metaculus\n",
      "https://forum.effectivealtruism.org/posts/dfMdez3jZMbhBwwJa/new-blog-some-doubts-about-effective-altruism | New blog: Some doubts about effective altruism - EA Forum\n",
      "https://mobile.twitter.com/messages/25776739-48111864 | Alec Stapp / Twitter\n",
      "https://twitter.com/messages/25776739-1133196129309356032 | Ben Hurford🎄 / Twitter\n",
      "https://faunalytics.org/local-action-as-stepping-stone/ | Local Action For Animals As A Stepping Stone To State Protections\n",
      "https://judy.co/products/the-safe?sscid=c1k6_p291r& | The Safe | 4 Person Emergency Preparedness Kit | Ready Set Judy\n",
      "https://www.naobservatory.org/?utm_source=The+EA+Newsletter&utm_campaign=6fabdd6dc9-EMAIL_CAMPAIGN_2022_12_19_07_01&utm_medium=email&utm_term=0_51c1df13ac-b079fb81fd-%5BLIST_EMAIL_ID%5D | Nucleic Acid Observatory\n",
      "https://www.facebook.com/messages/t/1413751157/ | https://www.facebook.com/messages/t/1413751157/\n",
      "https://app.asana.com/0/1203525046387967/list | https://app.asana.com/0/1203525046387967/list\n",
      "https://discord.com/channels/1054165706440192151/1054165706972860470 | • Discord | #general | Probably Cool People\n",
      "https://github.com/mikesaint-antoine/midterm_forecast_analysis/blob/master/midterm_data.csv | midterm_forecast_analysis/midterm_data.csv at master · mikesaint-antoine/midterm_forecast_analysis\n",
      "https://en.wikipedia.org/wiki/Gossip_Girl | Gossip Girl\n",
      "https://www.cameo.com/browse/actors | Cameo - Actors\n",
      "https://www.metacausal.com/givewells-uncertainty-problem/ | GiveWell's Uncertainty Problem\n",
      "https://www.atlanticcouncil.org/blogs/ukrainealert/2022-review-why-has-vladimir-putins-ukraine-invasion-gone-so-badly-wrong/ | 2022 REVIEW: Why has Vladimir Putin’s Ukraine invasion gone so badly wrong? - Atlantic Council\n",
      "https://twitter.com/LongResilience/status/1605474896066121728 | https://twitter.com/LongResilience/status/1605474896066121728\n",
      "https://www.facebook.com/emily.e.rentschler/photos | EER\n",
      "https://manifold.markets/group/givewell | GiveWell | Manifold Markets\n",
      "https://noahpinion.substack.com/p/geopolitics-and-geostrategic-competition?sd=pf | Geopolitics and geostrategic competition in 2023\n",
      "https://forum.effectivealtruism.org/s/8rYkpiFhbb4HsbzFc/p/eHKLgsXfMvSyAWb7E | Drivers of large language model diffusion: incremental research, publicity, and cascades - EA Forum\n",
      "https://astralcodexten.substack.com/p/can-this-ai-save-teenage-spy-alex | Can This AI Save Teenage Spy Alex Rider From A Terrible Fate?\n",
      "https://www.centreforeffectivealtruism.org/diversity-and-inclusion | CEA’s Stance on Diversity and Inclusion | Centre For Effective Altruism\n",
      "https://www.samstack.io/p/sams-rules-for-life | Sam's 12 rules for life - by Sam Atis - Samstack\n",
      "https://www.worksinprogress.co/issue/pandemic-prevention-as-fire-fighting/?utm_source=The+EA+Newsletter&utm_campaign=6fabdd6dc9-EMAIL_CAMPAIGN_2022_12_19_07_01&utm_medium=email&utm_term=0_51c1df13ac-b079fb81fd-%5BLIST_EMAIL_ID%5D | Pandemic prevention as fire-fighting - Works in Progress\n",
      "https://forum.effectivealtruism.org/posts/pp2jmWHyDK9sfC4Rh/evaluating-the-evaluators-gwwc-s-research-direction | \"Evaluating the evaluators\": GWWC's research direction - EA Forum\n",
      "https://twitter.com/messages/25776739-1551581042259132418 | John Stuart Chill / Twitter\n",
      "https://forum.effectivealtruism.org/posts/Wj2Z2NXDZXiysnRv5/lessons-learned-from-tyve-an-effective-giving-startup | Lessons learned from Tyve, an effective giving startup\n",
      "https://www.centreforeffectivealtruism.org/moderation-and-content | CEA’s Approach to Moderation and Content Curation | Centre For Effective Altruism\n",
      "https://founderspledge.com/stories/moral-weights | Our Approach to Moral Weights | Founders Pledge\n",
      "https://docs.google.com/document/d/18Gfhvvwjm7hMD9NYobnaC_24-XhbqrnPsdMfAGEOIpE/edit#heading=h.qqsffn2ajc43 | Case Study: GovAI\n",
      "https://forum.effectivealtruism.org/posts/FFBYAB7g9JMsfGtiT/process-for-returning-ftx-funds-announced | Process for Returning FTX Funds Announced - EA Forum\n",
      "https://smile.amazon.com/Great-CEO-Within-Tactical-Building-ebook/dp/B07ZLGQZYC/?sa-no-redirect=1 | AmazonSmile: The Great CEO Within: The Tactical Guide to Company Building eBook : Mochary, Matt, MacCaw, Alex, Talavera, Misha: Kindle Store\n",
      "https://forum.effectivealtruism.org/s/8rYkpiFhbb4HsbzFc/p/oB3MnFQa8LqcuEhjG | Background for \"Understanding the diffusion of large language models\" - EA Forum\n",
      "https://forum.effectivealtruism.org/posts/k73qrirnxcKtKZ4ng/the-old-ai-lessons-for-ai-governance-from-early-electricity-1 | The ‘Old AI’: Lessons for AI governance from early electricity regulation - EA Forum\n",
      "https://www.youtube.com/watch?v=WU3Avwch3gw | https://www.youtube.com/watch?v=WU3Avwch3gw\n",
      "https://forum.effectivealtruism.org/posts/Zxrv2kBhHzyd2gzsQ/existential-risk-mitigation-what-i-worry-about-when-there | Existential risk mitigation: What I worry about when there are only bad options - EA Forum\n",
      "https://www.facebook.com/messages/t/100002521566563/ | https://www.facebook.com/messages/t/100002521566563/\n",
      "https://forum.effectivealtruism.org/s/8rYkpiFhbb4HsbzFc/p/nc3JFZbqnzWWAPkmz | Understanding the diffusion of large language models: summary - EA Forum\n",
      "https://www.theamericanconservative.com/what-long-covid-means/ | What 'Long Covid' Means - The American Conservative\n",
      "https://www.metaculus.com/questions/13853/metaculus-talks-recordings-now-up/ | Metaculus Talks\n",
      "https://mickryan.substack.com/p/learning-from-the-war-in-ukraine?r=1gv0l&utm_campaign=post&utm_medium=web | Learning from the War in Ukraine\n",
      "https://astralcodexten.substack.com/p/perhaps-it-is-a-bad-thing-that-the | Perhaps It Is A Bad Thing That The World's Leading AI Companies Cannot Control Their AIs\n",
      "https://forum.effectivealtruism.org/posts/4SpYcqZvuyZ8JyiCK/neuron-count-based-measures-may-currently-underweight | Neuron Count-Based Measures May Currently Underweight Suffering in Farmed Fish - EA Forum\n",
      "https://www.youtube.com/c/contrapoints | ContraPoints - YouTube\n",
      "https://twitter.com/messages/25776739-749003563494354945 | https://twitter.com/messages/25776739-749003563494354945\n",
      "https://forum.effectivealtruism.org/posts/yvsf8DfdQJZ8EadtG/us-policy-master-s-degrees-why-and-when-part-1 | US Policy Master's Degrees: Why and When? (Part 1) - EA Forum\n",
      "https://dynomight.substack.com/p/llms | Historical analogies for large language models\n",
      "https://en.wikipedia.org/wiki/Anton_syndrome | Anton syndrome - Wikipedia\n",
      "https://smile.amazon.com/dp/B07XZNN2QS?tag=thestrategistsite-20&ascsubtag=[]st[p]ciwh4yo07000xypy917gbkc9g[i]wNigIS[v]a[u]2[t]w[r]nymag.com/strategist[d]D[z]m&sa-no-redirect=1 | AmazonSmile: New MEATER+165ft Long Range Smart Wireless Meat Thermometer for The Oven Grill Kitchen BBQ Smoker Rotisserie with Bluetooth and WiFi Digital Connectivity Bundled with HogoR BBQ Grill Black Glove : Patio, Lawn & Garden\n",
      "https://www.tiktok.com/@benthamite/video/7017568248652696837?is_from_webapp=v1&item_id=7017568248652696837 | #crypto billionaire sbf ❤️s #effectivealtruism | TikTok\n",
      "https://www.centreforeffectivealtruism.org/strategy | CEA's Strategy | Centre For Effective Altruism\n",
      "https://docs.google.com/document/d/1NtSQAyxsRAgBammwONFmESxwZkDOd3novQiaP3o8x3U/edit# | Key Takeaways and Tools from TMC MREIR Training\t\n",
      "https://forum.effectivealtruism.org/posts/DajpFcaMrHv4fPLTy/cea-s-work-in-2022 | CEA's work in 2022 - EA Forum\n",
      "https://founderspledge.com/stories/a-guide-to-forecasting-at-founders-pledge | A Guide to Forecasting at Founders Pledge | Founders Pledge\n",
      "https://proceedings.neurips.cc/paper/2018/hash/c203d8a151612acf12457e4d67635a95-Abstract.html | Long short-term memory and Learning-to-learn in networks of spiking neurons\n",
      "https://ettingermentum.substack.com/p/how-raphael-warnock-played-the-georgia?utm_source=twitter&sd=pf | How Raphael Warnock Played the Georgia GOP\n",
      "https://forum.effectivealtruism.org/posts/LCagfA2uS7idsLfoN/a-few-more-relevant-categories-to-think-about-diversity-in | A few more relevant categories to think about diversity in EA - EA Forum\n",
      "https://leadelimination.org/jobs/?utm_source=The+EA+Newsletter&utm_campaign=6fabdd6dc9-EMAIL_CAMPAIGN_2022_12_19_07_01&utm_medium=email&utm_term=0_51c1df13ac-b079fb81fd-%5BLIST_EMAIL_ID%5D | Jobs - Lead Exposure Elimination Project - LEEP\n",
      "https://forum.effectivealtruism.org/posts/xQk4g7yDvufXiECyc/a-can-of-worms-the-non-significant-effect-of-deworming-on#comments | A can of worms: the non-significant effect of deworming on happiness in the KLPS - EA Forum\n",
      "https://forum.effectivealtruism.org/posts/6TtH9NDbkDxK4zBDL/how-my-thinking-about-doing-good-changed-over-the-years | How my thinking about doing good changed over the years\n",
      "https://mobile.twitter.com/messages/25776739-749003563494354945 | iabvek / Twitter\n",
      "https://www.theatlantic.com/ideas/archive/2022/12/russia-ukraine-nuclear-war-putin-threat/672491/ | What Trump and Musk Don’t Get About Russia’s Nuclear Threats - The Atlantic\n"
     ]
    }
   ],
   "source": [
    "random.shuffle(tabs)\n",
    "print_tabs(tabs, label='Shuffled all tabs')"
   ]
  },
  {
   "cell_type": "code",
   "execution_count": null,
   "id": "69cb50c8-66e9-4c9d-bcb6-c130d0ac76d9",
   "metadata": {},
   "outputs": [],
   "source": []
  }
 ],
 "metadata": {
  "kernelspec": {
   "display_name": "Python 3 (ipykernel)",
   "language": "python",
   "name": "python3"
  },
  "language_info": {
   "codemirror_mode": {
    "name": "ipython",
    "version": 3
   },
   "file_extension": ".py",
   "mimetype": "text/x-python",
   "name": "python",
   "nbconvert_exporter": "python",
   "pygments_lexer": "ipython3",
   "version": "3.9.15"
  }
 },
 "nbformat": 4,
 "nbformat_minor": 5
}
