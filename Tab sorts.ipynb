{
 "cells": [
  {
   "cell_type": "code",
   "execution_count": 1,
   "id": "40568205",
   "metadata": {},
   "outputs": [
    {
     "name": "stdout",
     "output_type": "stream",
     "text": [
      "Loaded\n"
     ]
    }
   ],
   "source": [
    "import random\n",
    "import numpy as np\n",
    "import webbrowser\n",
    "\n",
    "from copy import copy\n",
    "\n",
    "\n",
    "def print_tabs(tabs, label=None):\n",
    "    if label:\n",
    "        print('## {} ## ({} tabs)'.format(label, len(tabs)))\n",
    "    else:\n",
    "        print('({} tabs)'.format(len(tabs)))\n",
    "    print('')\n",
    "    for tab in tabs:\n",
    "        print(tab.replace('\\n', ''))\n",
    "    return None\n",
    "\n",
    "\n",
    "def open_tab(tab):\n",
    "    url = tab.split('|')[0].replace(' ', '')\n",
    "    webbrowser.open(url, new=2, autoraise=False)\n",
    "    \n",
    "    \n",
    "def open_tabs(tabs, page=1, per_page=10):\n",
    "    page_start = (page - 1) * per_page\n",
    "    total_pages = int(np.ceil(len(tabs) / per_page))\n",
    "    if page > total_pages:\n",
    "        raise ValueError('Cannot open page {}, only have {} pages'.format(page, total_pages))\n",
    "    page_end = page * per_page\n",
    "    if page_end > len(tabs):\n",
    "        page_end = len(tabs)\n",
    "    paged_tabs = tabs[page_start:page_end]\n",
    "    print('Opening page {}/{} (tabs {}-{} of {})'.format(page, total_pages, page_start, page_end, len(tabs)))\n",
    "    \n",
    "    for tab in paged_tabs:\n",
    "        open_tab(tab)\n",
    "\n",
    "        \n",
    "def open_random_n_tabs(tabs, n=5):\n",
    "    tabs = random.sample(tabs, len(tabs))\n",
    "    open_tabs(tabs, page=1, per_page=n)\n",
    "    return tabs[5:]\n",
    "\n",
    "        \n",
    "print('Loaded')"
   ]
  },
  {
   "cell_type": "code",
   "execution_count": 2,
   "id": "1ffe9c7f",
   "metadata": {},
   "outputs": [
    {
     "name": "stdout",
     "output_type": "stream",
     "text": [
      "329\n",
      "326\n",
      "315\n"
     ]
    }
   ],
   "source": [
    "tab_file = open('/Users/peterhurford/Documents/alltabs.txt', 'r')\n",
    "tabs = tab_file.readlines()\n",
    "print(len(tabs))\n",
    "\n",
    "tabs = [t for t in tabs if t != '\\n']\n",
    "print(len(tabs))\n",
    "\n",
    "tabs = sorted(list(set(tabs)))\n",
    "print(len(tabs))"
   ]
  },
  {
   "cell_type": "code",
   "execution_count": 3,
   "id": "df44f938",
   "metadata": {
    "scrolled": true
   },
   "outputs": [
    {
     "name": "stdout",
     "output_type": "stream",
     "text": [
      "## Messages ## (0 tabs)\n",
      "\n"
     ]
    }
   ],
   "source": [
    "print_tabs([t for t in tabs if ('messages/' in t.lower() or 'inbox/' in t.lower() or 'swapcard' in t.lower())], label='Messages')"
   ]
  },
  {
   "cell_type": "code",
   "execution_count": 4,
   "id": "89c2b367",
   "metadata": {},
   "outputs": [
    {
     "name": "stdout",
     "output_type": "stream",
     "text": [
      "## Facebook ## (0 tabs)\n",
      "\n"
     ]
    }
   ],
   "source": [
    "print_tabs([t for t in tabs if 'facebook.com' in t.lower() and 'messages' not in t.lower()], label='Facebook')"
   ]
  },
  {
   "cell_type": "code",
   "execution_count": 5,
   "id": "f6d6e211",
   "metadata": {},
   "outputs": [
    {
     "name": "stdout",
     "output_type": "stream",
     "text": [
      "## Twitter ## (33 tabs)\n",
      "\n",
      "https://mobile.twitter.com/Miles_Brundage/status/1477115052763369472 | Miles Brundage on Twitter: \"Some AI forecasts for 2022–only spent a few minutes writing this so not expecting a great Brier score, but I want to nudge others to make their own. 1. MMLU score over 70% reported, similarish evaluation conditions to Gopher paper, w/ or w/o external memory (confidence: 55%)\" / Twitter\n",
      "https://mobile.twitter.com/mattsclancy/status/1598154199061364736 | https://mobile.twitter.com/mattsclancy/status/1598154199061364736\n",
      "https://mobile.twitter.com/mattsheehan88/status/1598299380431585281 | https://mobile.twitter.com/mattsheehan88/status/1598299380431585281\n",
      "https://mobile.twitter.com/zswitten/status/1598088286035415047 | https://mobile.twitter.com/zswitten/status/1598088286035415047\n",
      "https://twitter.com/Kirsten3531/status/1598728107221028865 | https://twitter.com/Kirsten3531/status/1598728107221028865\n",
      "https://twitter.com/MaxGhenis/status/1598572553811136512 | https://twitter.com/MaxGhenis/status/1598572553811136512\n",
      "https://twitter.com/Noahpinion/status/1598542694573559808 | https://twitter.com/Noahpinion/status/1598542694573559808\n",
      "https://twitter.com/Noahpinion/status/1598717704512208907 | https://twitter.com/Noahpinion/status/1598717704512208907\n",
      "https://twitter.com/Noahpinion/status/1598718057970470914 | https://twitter.com/Noahpinion/status/1598718057970470914\n",
      "https://twitter.com/RepMaxineWaters/status/1598693811252875264 | (3) Maxine Waters on Twitter: \".@SBF_FTX, we appreciate that you've been candid in your discussions about what happened at #FTX. Your willingness to talk to the public will help the company's customers, investors, and others. To that end, we would welcome your participation in our hearing on the 13th.\" / Twitter\n",
      "https://twitter.com/Scholars_Stage/status/1598779537092882432 | https://twitter.com/Scholars_Stage/status/1598779537092882432\n",
      "https://twitter.com/SpecialPuppy1/status/1598728099230896128 | https://twitter.com/SpecialPuppy1/status/1598728099230896128\n",
      "https://twitter.com/StefanFSchubert/status/1472344200683393031 | https://twitter.com/StefanFSchubert/status/1472344200683393031\n",
      "https://twitter.com/Willyintheworld/status/1598680658804723715 | Will on Twitter: \"Testing ChatGPT on various questions I covered in my fertility whitepaper. https://t.co/9y8oyhO1if 1/ Explain heritability https://t.co/eYwe5UJwPK\" / Twitter\n",
      "https://twitter.com/dhadfieldmenell/status/1598714751684599808 | https://twitter.com/dhadfieldmenell/status/1598714751684599808\n",
      "https://twitter.com/frances__lorenz/status/1598720691787866112 | https://twitter.com/frances__lorenz/status/1598720691787866112\n",
      "https://twitter.com/goodside/status/1598725287310544896 | https://twitter.com/goodside/status/1598725287310544896\n",
      "https://twitter.com/haus_cole/status/1598541468058390534 | Derek Parfait on Twitter: \"ChatGPT jailbreaking itself https://t.co/fRai4VoOgu\" / Twitter\n",
      "https://twitter.com/jachiam0/status/1591494093766787076 | https://twitter.com/jachiam0/status/1591494093766787076\n",
      "https://twitter.com/kwcollins/status/1598699515719995392 | https://twitter.com/kwcollins/status/1598699515719995392\n",
      "https://twitter.com/kwcollins/status/1598704507977797633 | https://twitter.com/kwcollins/status/1598704507977797633\n",
      "https://twitter.com/leah_pierson/status/1598379743895818241 | Leah Pierson on Twitter: \"It seems like the more virtue-laden an action is—in either a positive or a negative direction—the less socially acceptable it is to talk about having done that thing. Obviously, this is very context-dependent, but this is roughly what I mean: https://t.co/OoYmsIt7VX\" / Twitter\n",
      "https://twitter.com/mealreplacer/status/1598709951672643584 | John Stuart Chill (parody) on Twitter: \"So, uh, I finally wrote the blog post where I argue for shrimp welfare. 👇 https://t.co/3LBZ1shfBW\" / Twitter\n",
      "https://twitter.com/michael_nielsen/status/1598476830272802816 | https://twitter.com/michael_nielsen/status/1598476830272802816\n",
      "https://twitter.com/michael_nielsen/status/1598718201390501889 | https://twitter.com/michael_nielsen/status/1598718201390501889\n",
      "https://twitter.com/michael_nielsen/status/1598773148992036864 | https://twitter.com/michael_nielsen/status/1598773148992036864\n",
      "https://twitter.com/paraschopra/status/1596762675710918656 | https://twitter.com/paraschopra/status/1596762675710918656\n",
      "https://twitter.com/peter_wilde_alt/status/1598726602950553600 | https://twitter.com/peter_wilde_alt/status/1598726602950553600\n",
      "https://twitter.com/punk6529/status/1598274845816782848 | 6529 on Twitter: \"1/ On SBF &amp; FTX I think this is not going to be a hugely long thread (I think). It is not going to be hugely insightful for anyone deep in crypto. But maybe it will help as a reference to our friends in the media who are struggling quite a bit with this topic\" / Twitter\n",
      "https://twitter.com/rao_hacker_one/status/1598429293633499136 | https://twitter.com/rao_hacker_one/status/1598429293633499136\n",
      "https://twitter.com/robbensinger/status/1595139268019908608 | https://twitter.com/robbensinger/status/1595139268019908608\n",
      "https://twitter.com/zswitten/status/1598380220943593472 | https://twitter.com/zswitten/status/1598380220943593472\n",
      "https://www.givingwhatwecan.org/fundraisers/ea-meme-2022 | EA Meme Twitter 2022 Giving Season Fundraiser · Giving What We Can\n"
     ]
    }
   ],
   "source": [
    "twitter_tabs = sorted([t for t in tabs if 'twitter' in t.lower() and 'messages' not in t.lower()])\n",
    "print_tabs(twitter_tabs, label='Twitter')"
   ]
  },
  {
   "cell_type": "code",
   "execution_count": 6,
   "id": "0e8d623e",
   "metadata": {},
   "outputs": [],
   "source": [
    "#open_tabs(twitter_tabs, page=1, per_page=30)"
   ]
  },
  {
   "cell_type": "code",
   "execution_count": 7,
   "id": "c4635d45",
   "metadata": {},
   "outputs": [
    {
     "name": "stdout",
     "output_type": "stream",
     "text": [
      "## Google Docs ## (91 tabs)\n",
      "\n",
      "https://docs.google.com/document/d/1-0kMOcQryE8ShlNvHyt99LLPDu0jd783Y6-oFfDK5cg/edit | Ozzie Gooen <> Marie Buhl - 2022-11-18 - Google Docs\n",
      "https://docs.google.com/document/d/1-Jc2taAhzUwaRUk3_OxghnzmWPBB1uU_bbeLd_vPqCE/edit | Untitled document - Google Docs\n",
      "https://docs.google.com/document/d/11nA0ZoFhf8OIIwsf5kzAv5lprsTj3xeq2hxTLOIOS0o/edit# | AR Operations Reflections - Google Docs\n",
      "https://docs.google.com/document/d/11nA0ZoFhf8OIIwsf5kzAv5lprsTj3xeq2hxTLOIOS0o/edit#heading=h.3gug2z69u9a7 | AR Operations Reflections - Google Docs\n",
      "https://docs.google.com/document/d/12FsISgjXQhrbcmeOMqnN5Hh-sB3s0c2eNscb8gDli_w/edit#heading=h.913eglsrmj1x | Megaproject: Recruiting funnel for technical AI safety research [In-depth speedrun] - Google Docs\n",
      "https://docs.google.com/document/d/12cgMqK7X7zY-GjdaJkBU2Hwc0Dsou42M6IgWbZN5vUo/edit | Thomas Larsen <> Marie Buhl - 2022-11-23 - Google Docs\n",
      "https://docs.google.com/document/d/12yOxzRW8hrEVR_wUXtGDmOmwjm94DTgWBnfDC5v-pXU/edit#heading=h.gsyt6gbjtl9 | Longtermism (LT) hiring - standing meetings - 2022 Q3-4 - Google Docs\n",
      "https://docs.google.com/document/d/13JHBYuEllslzl6o_kWc6y9KyTDsKxuC2lxX0h9MSqtc/edit | Ben Pace <> Marie Buhl - 2022-11-22 - Google Docs\n",
      "https://docs.google.com/document/d/143fJccWigZBPVovYs6nsRe45ssA1AQZoNHK6q6bQ7rg/edit | Quickfire strategy by departments/teams - Google Docs\n",
      "https://docs.google.com/document/d/14MutJghpldVNfI_77JNZA3aSnRe-CK8_6f92UwKC-zo/edit#heading=h.1d70a912yrvg | More scattered thoughts on survey team strategy - Google Docs\n",
      "https://docs.google.com/document/d/14WsCiU0ugXv_BTPqNVl6kgP3KdyxM82xAD1BJzSQOTQ/edit | Olivia Jiminez <> Marie Buhl & Patrick Levermore - 2022-11-22 - Google Docs\n",
      "https://docs.google.com/document/d/152PO629d9Sq8xjrFC2Mep2lK-MsLUzkcNp6UknJCyLU/edit#heading=h.qe7q1i4zut97 | AIGS whole-team OKRs notes - Google Docs\n",
      "https://docs.google.com/document/d/15WbHo94adMYxbPIDQj9cICMEbhGeSlDRT1t8LAVvyhw/edit#heading=h.85u9ot9ldkah | Leadership at RP - Google Docs\n",
      "https://docs.google.com/document/d/172cEzNDtbeQhSClvzWIFf8nOGw0-uKBBXIHtqxsB_qg/edit#heading=h.mk3awwtig4n6 | A collection of various external people's opinions on GLT strategy - Google Docs\n",
      "https://docs.google.com/document/d/18cSzCPv8zL6KQa0pq0uSycnb71RRPUVwG9sXo75LhT4/edit | Untitled document - Google Docs\n",
      "https://docs.google.com/document/d/1APLsYcNiMBB3T9a2qoxN2PfyoHtog796xGcxvFdAzYo/edit | Nov, 2022: Exec Retreat Agenda - Google Docs\n",
      "https://docs.google.com/document/d/1APLsYcNiMBB3T9a2qoxN2PfyoHtog796xGcxvFdAzYo/edit | Nov, 2022: Exec Retreat Agenda Draft - Google Docs\n",
      "https://docs.google.com/document/d/1AWc9UecVdXTLM6LOaKLIb87Jv1P0e2rB6RHbpB7m36w/edit# | Ben Kuhn notes - Google Docs\n",
      "https://docs.google.com/document/d/1AWc9UecVdXTLM6LOaKLIb87Jv1P0e2rB6RHbpB7m36w/edit#heading=h.xe3dap3bn06k | Ben Kuhn notes - Google Docs\n",
      "https://docs.google.com/document/d/1B0lB8hnoBHTZXaHx5ywKeqBE3H7EA_-RtjS7v6S6tCM/edit | [FTX response copy] Peter's potential questions for EA leadership - Google Docs\n",
      "https://docs.google.com/document/d/1E5rnEX_vTn0eGFMtVZ01hEexEL98khkLT1IHNAWmY2I/edit | Memo: Addressing gender equity concerns at the top of the org - Google Docs\n",
      "https://docs.google.com/document/d/1EcapPN19W-hfDwZi5xTPrAC8w5DBwG0ld5xAJ5qdWdo/edit | AW Department - Monthly updates - Google Docs\n",
      "https://docs.google.com/document/d/1I12QSB0Dl0KkQD93TMLhOCeD9UGm89ebvOeOwJO9eB0/edit#heading=h.og8nnic0zbqb | Copy of Daniela comments from bi-annual survey - Google Docs\n",
      "https://docs.google.com/document/d/1IPXU0s4U0Ei7kJ0R9ddKRXG9V0oQnty990osh2T1lPc/edit | Dan Hendrycks 2022.11.28 - Google Docs\n",
      "https://docs.google.com/document/d/1J6PIggOkpyzT7DLqTwDl75nOmsvI86S_CCvtlWi322g/edit#heading=h.mxtsch89a2un | How do we spend time? - Google Docs\n",
      "https://docs.google.com/document/d/1KAIbBXnvMOM_T7qOe5b1mV8bbdMXTlfhjbFw2uQNCf4/edit#heading=h.voazkych40mx | The S-curve model & attention hazards: When should we advocate for AGI risk? - Google Docs\n",
      "https://docs.google.com/document/d/1KfFa6Eh9npshytI0KyazRnSNG4KtbtgSN6xH8Icrf1I/edit#heading=h.6ytgvt3dfnpe | ZW Oct-Nov - RP Performance Evaluation Template - Google Docs\n",
      "https://docs.google.com/document/d/1LVPIHi7xik0RBdBNCtmoOBpeEh7e0_l01wRLBB_JVxk/edit | MD GHD, Animals, and Executive Team Reflections - Google Docs\n",
      "https://docs.google.com/document/d/1LWGRWDtSvaw04VWKBEBLTEhN-hGrARwkDRonoh3zigI/edit | What I (Peter) think the GLT 2022 Dec - 2023 Jan plan is - Google Docs\n",
      "https://docs.google.com/document/d/1MGWaBg5F10OQJcaKrPixlCN9dXclj-fz6PVNCatTxfM/edit#heading=h.hhd0mvh9gst9 | RP Copy of [Luke doc for AIGS only] [2022-09-26 draft] - Google Docs\n",
      "https://docs.google.com/document/d/1OQ6EoMy6aHAWhJI6jFPRRPscsbGeYzHf2AMBNFaJBZU/edit#heading=h.w21swl8gnmgl | Performance Improvement Plan (PIP) - Google Docs\n",
      "https://docs.google.com/document/d/1OQ6EoMy6aHAWhJI6jFPRRPscsbGeYzHf2AMBNFaJBZU/edit#heading=h.xlvdf0vmjf8m | Performance Improvement Plan (PIP) - Google Docs\n",
      "https://docs.google.com/document/d/1P62Z18o7Gqt9vfrm1HiQJJfsLsRuk-2rLEVoxJ9H8WA/edit | Joe, Emma, Ashwin <> Anthropic 12-Nov-2022 -- AI Auditing Org, Whistleblowing, Timelines - Google Docs\n",
      "https://docs.google.com/document/d/1POA5SDCG5UK7hxbwRHVLLvwx2uOufzeoLUMWsxl8T8M/edit#heading=h.5zpeqe21wf5z | Sharable Survey Results - Google Docs\n",
      "https://docs.google.com/document/d/1Rh9SSofWAer-lJPk-Kxg-VYewBKW4zC60GkuQXO2Sz8/edit | WAW strategy - Google Docs\n",
      "https://docs.google.com/document/d/1TeiaWysrNa9QK6rXAl-iDsFHMNRE4IxwK2JGNiAOhME/edit | investigating whether GLT should do red teaming December 2022 -- Ben's quick project plan - Google Docs\n",
      "https://docs.google.com/document/d/1VX-LyvC7xLPL0fpiqa3B9ox7oxSR0nWeCxO0jdfQyxg/edit | Katja Grace <> Michael - 2022-Nov-28 - AIGS's & AI Impacts' work, AGI risk awareness-raising, AI gov research approaches - Google Docs\n",
      "https://docs.google.com/document/d/1YN7KpuShiZItqVuQtWv6ykrjrNv6rAnmjVOcsofRj0I/edit | The Strategic Roadmap - Google Docs\n",
      "https://docs.google.com/document/d/1YPuJ3niQti5_3rGDajRJhH9SpofCo1vvM6iDshfoURs/edit#heading=h.vxginadnriv7 | Outreach plan for AI Safety Bounties - Google Docs\n",
      "https://docs.google.com/document/d/1Z_dluYOJcKmTlwooR9RHe2Orb4drkGDX0_MoXU-NUlg/edit | 2023-24 AW Dep Strategy & Goals - Planning process\n",
      "https://docs.google.com/document/d/1ZtZCnQRuSxLJr66LD-mS2h0k-9IQkEWhrJkZCtUYVYA/edit#heading=h.307y0u8jezu5 | CONFIDENTIAL - RP - Pay Transparency Explanation and Details - Google Docs\n",
      "https://docs.google.com/document/d/1aB-xlbt3Qtw8Kp2kAMUEeJslk2HqVoD3kyQSC5ON9DE/edit | AW Department. SWOT summary\n",
      "https://docs.google.com/document/d/1b4OENW4FuGIPROoXQ1-XZTZcQzn5GwwWoi_OjeOJxlo/edit# | 2022-Dec-02 RP Board Meeting Agenda - Google Docs\n",
      "https://docs.google.com/document/d/1b4OENW4FuGIPROoXQ1-XZTZcQzn5GwwWoi_OjeOJxlo/edit#heading=h.1s6az1un9vhe | 2022-Dec-02 RP Board Meeting Agenda - Google Docs\n",
      "https://docs.google.com/document/d/1bJg0zIqswTtJdg9_3xz57-nAVxAudJ4sw_vkEMktRgc/edit | What Rethink Priorities General Longtermism Team Did in 2022, and Updates in Light of the Current Situation (outline) - Google Docs\n",
      "https://docs.google.com/document/d/1bcfzNllYCyR74nGDiOJFX54rm-FhtkeqMjQ1YUPfDJ8/edit | Oliver Habryka <> Marie Buhl & Michael Aird - 2022-11-22 - Google Docs\n",
      "https://docs.google.com/document/d/1blzbAwEkumaeaHnC4ESCXbixuqBK4twUmLkOA0BOhKA/edit | 11-30-22 Fundraising Forecast - Google Docs\n",
      "https://docs.google.com/document/d/1bpKk7c7FB4iOr9MA0ePNTdgl3dUEdGwoRF_g1uSdoWs/edit#heading=h.rvv15w6oikf3 | RP LT: What are the most plausible AGI timelines and takeoff scenarios? - Google Docs\n",
      "https://docs.google.com/document/d/1c9inS2gqXQeD_gQQbdNPwED5a_DymiL1VlA8r1smBxE/edit#heading=h.8ymi6zdcxkra | Info on Open Phil's (Longtermist) Worldview Investigations team - Google Docs\n",
      "https://docs.google.com/document/d/1f8nyFQrUXW7wBfJJJsJe1OKOgrN2g5eq9eGfJUK3TZM/edit | John Wentworth<>Marie Buhl - 2022-11-22 - GLT strategy - Google Docs\n",
      "https://docs.google.com/document/d/1hldNJvkr9XOJdet7YVRJA_uH4h-FLVBxXkBYXY3b2eU/edit | How might we expand AIGS? - Google Docs\n",
      "https://docs.google.com/document/d/1i-zQY-AIw4-9myH3RPOlWWJGT1I2DqLGma6W7Rnjoeo/edit#heading=h.g8j6gfj1d4m9 | scratchpad (internal research agenda) - Google Docs\n",
      "https://docs.google.com/document/d/1i2EBN8jZBNKab7o8FxZCjOD3L2BjcUBo5TlwF0CnnqY/edit#heading=h.uxsrw2dxblqx | Joe on GLT strategy and AI timelines - Google Docs\n",
      "https://docs.google.com/document/d/1iV1fNk3UcryN9FoO71O--UtWpjtnbXwVBslo22LewFY/edit#heading=h.fokej6ldkygq | AIGS What Do notes - Google Docs\n",
      "https://docs.google.com/document/d/1jNjCpdy7k6rJKAG1ygLap6eW9UWkurEVqX7m_m06Itc/edit | Peter / Abraham Meeting Notes - Google Docs\n",
      "https://docs.google.com/document/d/1jmHp2dbrrfB7oeHLQdTgsrcfLHH318tK53BBKKTb84M/edit#heading=h.uagdd5oaoz71 | Some policies for RP LT affiliates & alumni - Google Docs\n",
      "https://docs.google.com/document/d/1jqRFc5tvHSP-Ag76p_42VxOIfLZbBXp4HsfQM1D7Dz4/edit | Marc Koehler <> Patrick Levermore - 2022-11-28 - AGI forecasting - Google Docs\n",
      "https://docs.google.com/document/d/1jzaA-NmZuoUzPSQAzhGJrlT59dt9kS4Y4zFZwxX99GQ/edit | Some issues with Michael Aird as LT Director (or AIGS Director) - Google Docs\n",
      "https://docs.google.com/document/d/1kEcd1gVkEkzKoautOe3JrFbBTq7tFqFoy3cDfvNzDJI/edit# | What should the GLT team do? - Google Docs\n",
      "https://docs.google.com/document/d/1kW6HDZo657DPg2nyFlzd3ne1jRFYDuxDUllvSTCN5h4/edit#heading=h.8oyd64709u3i | Initial thoughts on handling management for longtermism - Google Docs\n",
      "https://docs.google.com/document/d/1mntDppOvh6076j0n0yBLJ3zVy7yevnwqYJYCmpIjkXo/edit | Untitled document - Google Docs\n",
      "https://docs.google.com/document/d/1r0TPCpivFX3sHbcDdRc2ZC85tiocnFZyii2woVVacMs/edit | AI Reading Notes - Google Docs\n",
      "https://docs.google.com/document/d/1rDVglJwquTYk8Sx7vk7OvNMxL6dwanPf7F-7SvElVTA/edit | 2022/Q3+4 Monthly Fundraising Meeting (FM) Agenda - Google Docs\n",
      "https://docs.google.com/document/d/1rbyttMnM7xp-_-HZzNamCq09Oa8bw7yZa8MiFc1Rjxg/edit | [Onni, Nov 2022, manager-assessment] RP Performance Evaluation - Google Docs\n",
      "https://docs.google.com/document/d/1socXNJ4B83p8UZb9GI6v7c-d4ve5QctoKHgVX42j7j4/edit | investigating whether GLT should set up a whistleblowing service -- December 2022 -- Ben's quick project plan - Google Docs\n",
      "https://docs.google.com/document/d/1tAnO5qlc6oXNCUDVsFiA7hlZiOyM5AzZf6PLNjC67Po/edit#heading=h.pst5bje9b24g | Marie's updated thoughts on infrastructure for independent researchers - Google Docs\n",
      "https://docs.google.com/document/d/1tHlEMeLdXSdj_sK6kWYTzDdZ7Q_TeLeFmkcj0z1LAT4/edit#heading=h.bt8g7pcukqab | Some research related checklists I sometimes use - Google Docs\n",
      "https://docs.google.com/document/d/1vEAyco5JrbfyD2zwEPPnTZ0FBkSVn3Edqz-CzBva9_0/edit#heading=h.mhqaztvjd3ny | RP Copy of Toward trustworthy AGI projects [2022-09-26 draft] - Google Docs\n",
      "https://docs.google.com/document/d/1vY6k6oLGecNlMeVQXd5Jb4YdgOdbgaqAq_XzRnWWN68/edit | Questions for EV/CEA - Google Docs\n",
      "https://docs.google.com/document/d/1wxsy0vS3UTptPYw4L0qjy4TYWFzDb_gesiZgkDxu9VA/edit#heading=h.upyhp9jd0w10 | IWP Strategic planning 2022-23\n",
      "https://docs.google.com/document/d/1x0kXOO4cfdgmS3a2PmTJf7jjBONV0kZRKVkcRfa1PRY/edit#heading=h.5t22ep6pioju | [ALLFED copy] Speedrun: Demonstrate the ability to rapidly scale food production in the case of nuclear winter - Google Docs\n",
      "https://docs.google.com/document/d/1yjQyD48SalLelRAPFpfZWtsHNT6gpOmgQ-UdSGpFRU8/edit#heading=h.n4vkdxoikpc1 | RAND Work on GCRs - Google Docs\n",
      "https://docs.google.com/document/d/1yuLoHP_Yg_EEW2cs13M9eYgFEbA307C8P9dtdwmMlaI/edit# | What Rethink Priorities General Longtermism Team Did in 2022, and Updates in Light of the Current Situation - Google Docs\n",
      "https://docs.google.com/document/d/1zBjHUs5Im06ZEYD8Ww6if-IpuLDpnlNMWvOJQPTfJjM/edit#heading=h.bcufhgg27mdc | Planning Actions for a Time when Crunchiness is High (PATCH) - Google Docs\n",
      "https://docs.google.com/spreadsheets/d/15PDUkX7OhzG9McEiGt2XSFQH28K8z63Z0tte9R09aSQ/edit#gid=1469042270 | Fiscal Sponsorship Applications Scoring - Google Sheets\n",
      "https://docs.google.com/spreadsheets/d/15PDUkX7OhzG9McEiGt2XSFQH28K8z63Z0tte9R09aSQ/edit#gid=1824646560 | Fiscal Sponsorship Applications Scoring - Google Sheets\n",
      "https://docs.google.com/spreadsheets/d/16hvXilmBtN4X5tPiaxqnfcSjbeVZ-ux0Dt_hwqJr_-s/edit#gid=0 | R&D and Megaprojects Budgets Summary - Google Sheets\n",
      "https://docs.google.com/spreadsheets/d/1HoPWEHRP02V54Mwz_zs5XK16PaIP4b8c8jFqcp4tBQ4/edit#gid=197352026 | Copy of Nov 3 2022 Copy of RP Research Title Structure - Google Sheets\n",
      "https://docs.google.com/spreadsheets/d/1Iwle1cu_lgJxvGQOP5Xsq4Dc4HndCYGKuCptACOtj-E/edit#gid=0 | Excited by / concerned by - Google Sheets\n",
      "https://docs.google.com/spreadsheets/d/1JCIEOPGMqGsDfeP5inp0uuSPJuIQq1EOd0R4ZrgZPz8/edit#gid=0 | RP Operations Functions Scalability - Nov 2022 - Google Sheets\n",
      "https://docs.google.com/spreadsheets/d/1KxYL_KPLpjkiNkYk6PIZ8Qenl1YQI8AZHRj1CIfC0DY/edit#gid=0 | RP Copy of What well-scoped research projects could help us reduce AI x-risk? [2022-09-30 snapshot] - Google Sheets\n",
      "https://docs.google.com/spreadsheets/d/1PoX7l9VfOJWaW5yCVGcTOgakMWgZocRlcdJYi6K92C8/edit#gid=0 | LT Big Weird Idea Time - ideas and rankings - Google Sheets\n",
      "https://docs.google.com/spreadsheets/d/1Qv2yUmbMIR6iJdXJ7lFZIHnCFGqC6wuTV4Rt-CrqffY/edit#gid=211665578 | Staff Performance Evaluations Matrix - Google Sheets\n",
      "https://docs.google.com/spreadsheets/d/1_S_OPoTpFB07sjPDEhZ-g3kGj7wE4nfflNFTculL_BE/edit#gid=1551801213 | RP Fundraising Forecast [2022+2023 predictions] - Google Sheets\n",
      "https://docs.google.com/spreadsheets/d/1dMy-rJGyUaEDcR0cImTv8gXR00Jzmmm88Tge_xXVeRo/edit#gid=0 | RP Dashboard - Google Sheets\n",
      "https://docs.google.com/spreadsheets/d/1iHMqgXq8jcxLg6WEBBqIa6eBOGeOmcbbRWYWKVzMJUE/edit#gid=0 | Retirement Calc - Google Sheets\n",
      "https://docs.google.com/spreadsheets/d/1khYOo7R4Cdq-HTOsWynGkD-H5O9h5BQ-TcHm8fUR3Ao/edit#gid=0 | Survey income 2022 - Google Sheets\n",
      "https://docs.google.com/spreadsheets/d/1ku_zYWErNDjzT6gqIwUU3Fr34mvj3GMIrvztpJlilx4/edit#gid=0 | 2022 Survey team commissions - Google Sheets\n",
      "https://docs.google.com/spreadsheets/d/1nItK7l5D24f6m-R2FQnMBuJxqvMpl3FEVfqQUG63WFA/edit#gid=860376286 | All Predictions - Google Sheets\n",
      "https://docs.google.com/spreadsheets/d/1yRL_TlSXplmbgqBPufXdaVi-lZUWoShIyJeVBIvojRo/edit#gid=1158312132 | 2022 Stats - Google Sheets\n",
      "https://docs.google.com/spreadsheets/d/1yRL_TlSXplmbgqBPufXdaVi-lZUWoShIyJeVBIvojRo/edit#gid=1349390613 | 2022 Stats - Google Sheets\n"
     ]
    }
   ],
   "source": [
    "doc_tabs = sorted([t for t in tabs if ('docs.google' in t.lower() or 'sheets.google' in t.lower() or 'drive.google' in t.lower())])\n",
    "print_tabs(doc_tabs, label='Google Docs')\n"
   ]
  },
  {
   "cell_type": "code",
   "execution_count": 8,
   "id": "18e9e150",
   "metadata": {},
   "outputs": [],
   "source": [
    "#open_tabs(doc_tabs, page=1, per_page=50)"
   ]
  },
  {
   "cell_type": "code",
   "execution_count": 9,
   "id": "479f45a0-d63f-474d-aa76-2ddab5a10b0a",
   "metadata": {},
   "outputs": [],
   "source": [
    "#doc_tabs_ = copy(doc_tabs)"
   ]
  },
  {
   "cell_type": "code",
   "execution_count": 10,
   "id": "c4e71249-4e0e-47aa-9fcd-69b9219f507f",
   "metadata": {},
   "outputs": [],
   "source": [
    "#doc_tabs_ = open_random_n_tabs(doc_tabs_, n=5)"
   ]
  },
  {
   "cell_type": "code",
   "execution_count": 11,
   "id": "6311fa07",
   "metadata": {},
   "outputs": [
    {
     "name": "stdout",
     "output_type": "stream",
     "text": [
      "## Google search ## (1 tabs)\n",
      "\n",
      "https://www.google.com/search?rlz=1C5CHFA_enUS925US925&q=founder%27s+syndrome&spell=1&sa=X&ved=2ahUKEwiAp56Gzdv7AhWmmmoFHcW6A94QBSgAegQIBhAB&biw=1440&bih=760&dpr=2 | founder's syndrome - Google Search\n"
     ]
    }
   ],
   "source": [
    "print_tabs(sorted([t for t in tabs if ('google.com' in t.lower() and 'search' in t.lower() and\n",
    "                                   not ('docs.google' in t.lower() or 'sheets.google' in t.lower()))]),\n",
    "           label='Google search')"
   ]
  },
  {
   "cell_type": "code",
   "execution_count": 12,
   "id": "53b9762e",
   "metadata": {},
   "outputs": [
    {
     "name": "stdout",
     "output_type": "stream",
     "text": [
      "## EAFo/LW ## (26 tabs)\n",
      "\n",
      "When can a mimic surprise you? Why generative models handle seemingly ill-posed problems | https://www.lesswrong.com/posts/BzFhRCSysACaCZSAu/when-can-a-mimic-surprise-you-why-generative-models-handle\n",
      "https://forum.effectivealtruism.org/posts/DXEvFg7uPCHax34hA/what-think-global-act-local-means-for-us-climate-1 | What \"Think Global, Act Local\" Means for US Climate Philanthropists - EA Forum\n",
      "https://forum.effectivealtruism.org/posts/DtStNF8HrAoz34bZA/simple-botec-on-x-risk-work-for-neartermists | Simple BOTEC on X-Risk Work for Neartermists - EA Forum\n",
      "https://forum.effectivealtruism.org/posts/HkR8TbFN9wjZgoKoG/2023-open-student-workshop-in-global-priorities-research | 2023 Open Student Workshop in Global Priorities Research - promoting intellectual and cultural diversity in GPR - EA Forum\n",
      "https://forum.effectivealtruism.org/posts/HwZm8eeraCwLRwcZA/sentience-politics-announcing-our-end-of-year-giving | Sentience Politics: Announcing our end-of-year giving campaign - EA Forum\n",
      "https://forum.effectivealtruism.org/posts/Lr99AGm4czFK7bsgj/a-challenge-for-agi-organizations-and-a-challenge-for | A challenge for AGI organizations, and a challenge for readers\n",
      "https://forum.effectivealtruism.org/posts/M44i4CiMECP5Xoorz/demandingness-and-time-money-tradeoffs-are-orthogonal | Demandingness and Time/Money Tradeoffs are Orthogonal - EA Forum\n",
      "https://forum.effectivealtruism.org/posts/QbLKFRhbQN8JvtWkM/the-founders-pledge-climate-fund-at-2-years | The Founders Pledge Climate Fund at 2 years - EA Forum\n",
      "https://forum.effectivealtruism.org/posts/XtmGK2inWzp9AG32M/some-notes-on-common-challenges-building-ea-orgs | Some notes on common challenges building EA orgs - EA Forum\n",
      "https://forum.effectivealtruism.org/posts/a445RajCsmvzyeJ89/livelihood-interventions-overview-evaluation-and-cost-1 | Livelihood interventions: overview, evaluation, and cost-effectiveness - EA Forum\n",
      "https://forum.effectivealtruism.org/posts/c3we8rKppwkRLfzwv/the-deathprint-of-replacing-beef-by-chicken-and-insect-meat | The deathprint of replacing beef by chicken and insect meat - EA Forum\n",
      "https://forum.effectivealtruism.org/posts/frkwqHuZijfvkJbgF/giving-green-s-2022-year-end-updates | Giving Green's 2022 year-end updates - EA Forum\n",
      "https://forum.effectivealtruism.org/posts/oZCPayvcxkDHubcDv/does-putting-kids-in-school-now-put-money-in-their-pockets?fbclid=IwAR0-zPVn75ixOR3vPjZx7B7ktSem9QRpx_hS5PP8FqkUJBEf90slX4bY1H0 | Does putting kids in school now put money in their pockets later? Revisiting a natural experiment in Indonesia - EA Forum\n",
      "https://forum.effectivealtruism.org/posts/oosCitFzBup2P3etg/insider-ea-content-in-gideon-lewis-kraus-s-recent-new-yorker | \"Insider EA content\" in Gideon Lewis-Kraus's recent New Yorker article - EA Forum\n",
      "https://forum.effectivealtruism.org/posts/pqmQ9PxpzzGHshmhC/2022-allfed-highlights | 2022 ALLFED highlights - EA Forum\n",
      "https://forum.effectivealtruism.org/posts/q7WwTuZQWMqDEEoWM/virtues-for-real-world-utilitarians | Virtues for Real-World Utilitarians - EA Forum\n",
      "https://forum.effectivealtruism.org/posts/sEpWkCvvJfoEbhnsd/the-ftx-crisis-highlights-a-deeper-cultural-problem-within | The FTX crisis highlights a deeper cultural problem within EA - we don't sufficiently value good governance - EA Forum\n",
      "https://forum.effectivealtruism.org/posts/szzJiWDeYk5KaD2tC/fyi-cc-by-license-for-all-new-forum-content-from-today-dec-1?commentId=KwmKyLJHKnixfn3AK | FYI: CC-BY license for all new Forum content from today (Dec 1) - EA Forum\n",
      "https://forum.effectivealtruism.org/posts/t5vFLabB2mQz2tgDr/i-m-a-22-year-old-woman-involved-in-effective-altruism-i-m#comments | I’m a 22-year-old woman involved in Effective Altruism. I’m sad, disappointed, and scared. - EA Forum\n",
      "https://forum.effectivealtruism.org/posts/v7gep2d9Dr4bT8DnF/notes-on-barriers-to-bioweapons-ben-ouagrham-gormley-2014 | Notes on \"Barriers to Bioweapons\" (Ben Ouagrham-Gormley, 2014) - EA Forum\n",
      "https://forum.effectivealtruism.org/posts/wph9LGoT8dGpzjuZa/announcing-ftx-community-response-survey | Announcing FTX Community Response Survey - EA Forum\n",
      "https://forum.effectivealtruism.org/posts/xnHnsrFEMEMPXBWqR/ask-charity-entrepreneurship-anything#comments | Ask Charity Entrepreneurship Anything - EA Forum\n",
      "https://forum.effectivealtruism.org/posts/yKd7Co5LznH4BE54t/game-i-find-three-errors-in-your-favorite-text | Game: I Find Three Errors in Your Favorite Text - EA Forum\n",
      "https://forum.effectivealtruism.org/posts/yPDXXxdeK9cgCfLwj/short-research-summary-can-insects-feel-pain-a-review-of-the | Short Research Summary: Can insects feel pain? A review of the neural and behavioural evidence by Gibbons et al. 2022 - EA Forum\n",
      "https://forum.effectivealtruism.org/posts/yeMzJATjqxLioGM6K/estimating-the-marginal-impact-of-outreach | Estimating the marginal impact of outreach - EA Forum\n",
      "https://www.lesswrong.com/posts/b5EqwQZw7ww2K28Ki/ai-takeover-tabletop-rpg-the-treacherous-turn | AI takeover tabletop RPG: \"The Treacherous Turn\"\n"
     ]
    }
   ],
   "source": [
    "ea_fo_tabs = sorted([t for t in tabs if ('forum.effectivealtruism' in t.lower() or 'lesswrong' in t.lower())])\n",
    "print_tabs(ea_fo_tabs, label='EAFo/LW')"
   ]
  },
  {
   "cell_type": "code",
   "execution_count": 13,
   "id": "8ffa8f80-4aa6-4afe-8c6a-59194d69895e",
   "metadata": {},
   "outputs": [],
   "source": [
    "#open_tabs(ea_fo_tabs, page=1, per_page=50)"
   ]
  },
  {
   "cell_type": "code",
   "execution_count": 14,
   "id": "42ae2aee",
   "metadata": {},
   "outputs": [
    {
     "name": "stdout",
     "output_type": "stream",
     "text": [
      "## Metaculus etc. ## (7 tabs)\n",
      "\n",
      "https://metaculus-hackathon.cloud.mattermost.com/main/channels/town-square | https://metaculus-hackathon.cloud.mattermost.com/main/channels/town-square\n",
      "https://www.metaculus.com/notebooks/8736/a-global-catastrophe-this-century/ | A Global Catastrophe This Century | Metaculus\n",
      "https://www.metaculus.com/questions/10810/russian-territory-loss-by-2028/ | Russian Territory Loss >20% by 2028 | Metaculus\n",
      "https://www.metaculus.com/questions/11005/winner-of-2022-fifa-world-cup/ | Winner of 2022 FIFA World Cup | Metaculus\n",
      "https://www.metaculus.com/questions/11293/us-mints-bilion-dollar-coin/ | US Mints Bilion Dollar Coin | Metaculus\n",
      "https://www.metaculus.com/questions/13653/ftxalameda-leadership-felony-convictions/ | FTX/Alameda leadership felony convictions | Metaculus\n",
      "https://www.metaculus.com/questions/6119/when-will-there-be-at-least-1bn-americans/ | Date of 1 Billion Americans | Metaculus\n"
     ]
    }
   ],
   "source": [
    "print_tabs(sorted([t for t in tabs if ('metaculus' in t.lower() or 'manifold' in t.lower() or 'predictit' in t.lower())]), label='Metaculus etc.')"
   ]
  },
  {
   "cell_type": "code",
   "execution_count": 15,
   "id": "72bdaddd",
   "metadata": {},
   "outputs": [
    {
     "name": "stdout",
     "output_type": "stream",
     "text": [
      "## Wikipedia ## (2 tabs)\n",
      "\n",
      "https://en.wikipedia.org/wiki/Founder%27s_syndrome | Founder's syndrome - Wikipedia\n",
      "https://en.wikipedia.org/wiki/Naval_Criminal_Investigative_Service | Naval Criminal Investigative Service - Wikipedia\n"
     ]
    }
   ],
   "source": [
    "print_tabs(sorted([t for t in tabs if 'wikipedia' in t.lower()]), label='Wikipedia')"
   ]
  },
  {
   "cell_type": "code",
   "execution_count": 16,
   "id": "ca9dcfdf",
   "metadata": {},
   "outputs": [
    {
     "name": "stdout",
     "output_type": "stream",
     "text": [
      "## Reddit ## (13 tabs)\n",
      "\n",
      "https://www.reddit.com/r/datingoverthirty/comments/z8s3pe/singletons_how_do_you_cope_with_being_alonelonely/ | Singletons, how do you cope with being alone/lonely during the Christmas holidays? : datingoverthirty\n",
      "https://www.reddit.com/r/relationship_advice/comments/z99mwp/he_threw_the_christmas_tree_out_the_window/ | He threw the Christmas tree out the window : relationship_advice\n",
      "https://www.reddit.com/r/relationship_advice/comments/z9a0ny/im_scared_to_be_a_single_mom/ | I’m scared to be a single mom : relationship_advice\n",
      "https://www.reddit.com/r/relationship_advice/comments/z9jtor/i_had_sex_for_the_first_time_last_night_and/ | I had sex for the first time last night and couldn't finish... : relationship_advice\n",
      "https://www.reddit.com/r/relationship_advice/comments/z9mtx6/im_26f_drowning_financially_while_my_boyfriend/ | I’m (26F) drowning financially while my boyfriend (30M) is doing fine, but it feels extremely unfair. He makes more money than me. : relationship_advice\n",
      "https://www.reddit.com/r/relationship_advice/comments/z9ouuk/i_45m_have_stage_iv_colorectal_cancer_and_will_be/ | I (45M) have stage IV colorectal cancer and will be dead in 5 years. My partner (37F) wants to have a baby with me : relationship_advice\n",
      "https://www.reddit.com/r/relationship_advice/comments/zb0cve/i_want_to_include_my_dads_partner_in_my_life_more/ | I want to include my dad’s partner in my life more, but I do not want to betray my mom.\n",
      "https://www.reddit.com/r/widowers/ | A place for all those who have lost a partner...\n",
      "https://www.reddit.com/r/widowers/comments/z966hn/he_left_me_a_note/ | He left me a note : widowers\n",
      "https://www.reddit.com/r/widowers/comments/z98z2j/what_do_you_do_when_you_realize_they_arent_coming/ | What do you do when you realize they aren’t coming home? : widowers\n",
      "https://www.reddit.com/r/widowers/comments/z9cjo4/prolonged_grief_disorder_according_to_the_dsm5/ | Prolonged grief disorder, according to the DSM-5 : widowers\n",
      "https://www.reddit.com/r/widowers/comments/z9dexy/i_cant_get_her_last_words_out_of_my_head_and_its/ | I can't get her last words out of my head and it's killing me : widowers\n",
      "https://www.reddit.com/r/widowers/comments/z9hu0a/anniversary/ | (1) Anniversary : widowers\n"
     ]
    }
   ],
   "source": [
    "print_tabs(sorted([t for t in tabs if 'reddit' in t.lower()]), label='Reddit')"
   ]
  },
  {
   "cell_type": "code",
   "execution_count": 17,
   "id": "5dedf293",
   "metadata": {},
   "outputs": [
    {
     "name": "stdout",
     "output_type": "stream",
     "text": [
      "## localhost ## (2 tabs)\n",
      "\n",
      "http://localhost:8888/lab | lab - JupyterLab\n",
      "http://localhost:8889/lab | lab - JupyterLab\n"
     ]
    }
   ],
   "source": [
    "print_tabs(sorted([t for t in tabs if 'guarded-everglades-89687.herokuapp.com' in t.lower() or 'localhost' in t.lower()]), label='localhost')\n"
   ]
  },
  {
   "cell_type": "code",
   "execution_count": 18,
   "id": "677f610e",
   "metadata": {},
   "outputs": [
    {
     "name": "stdout",
     "output_type": "stream",
     "text": [
      "## Chores ## (0 tabs)\n",
      "\n"
     ]
    }
   ],
   "source": [
    "print_tabs(sorted([t for t in tabs if 'instacart' in t.lower()]), label='Chores')"
   ]
  },
  {
   "cell_type": "code",
   "execution_count": 19,
   "id": "5fce865e",
   "metadata": {},
   "outputs": [
    {
     "name": "stdout",
     "output_type": "stream",
     "text": [
      "## Amazon ## (43 tabs)\n",
      "\n",
      "https://smile.amazon.com/ABOTEC-Telescope-Telescopes-Multi-Coated-Transmission/dp/B0B5DG7JQN/ref=sr_1_37?crid=1TYMQ7A5OW769&keywords=telescope&qid=1669991331&sprefix=telescope%2Caps%2C88&sr=8-37&ufe=app_do%3Aamzn1.fos.18ed3cb5-28d5-4975-8bc7-93deae8f9840 | AmazonSmile : ABOTEC Telescope for Adults Astronomy, 90mm Aperture 800mm Refractor Telescopes for Kids & Beginners, (32X-400X) Multi-Coated High Transmission Telescope with Carry Bag & Phone Mount &Wireless Control : Electronics\n",
      "https://smile.amazon.com/ABOTEC-Telescope-Telescopes-Refracting-Adjustable/dp/B09L84CQBG/ref=sr_1_16?crid=3OFF2IILDDS7E&keywords=telescope&qid=1669952370&sprefix=telescope%2Caps%2C135&sr=8-16&ufe=app_do%3Aamzn1.fos.18ed3cb5-28d5-4975-8bc7-93deae8f9840&th=1 | AmazonSmile : ABOTEC Telescope, 80mm Aperture Telescopes for Adults Astronomy & Kids & Beginners, Portable 500mm Refracting Telescope (25X-250X) with an Adjustable Tripod, a Bag, a Phone Adapter & a Wireless Remote : Electronics\n",
      "https://smile.amazon.com/ABOTEC-Telescope-Telescopes-Refracting-Adjustable/dp/B09L84CQBG/ref=sr_1_40?crid=1TYMQ7A5OW769&keywords=telescope&qid=1669991331&sprefix=telescope%2Caps%2C88&sr=8-40&ufe=app_do%3Aamzn1.fos.18ed3cb5-28d5-4975-8bc7-93deae8f9840 | AmazonSmile : ABOTEC Telescope, 80mm Aperture Telescopes for Adults Astronomy & Kids & Beginners, Portable 500mm Refracting Telescope (25X-250X) with an Adjustable Tripod, a Bag, a Phone Adapter & a Wireless Remote : Electronics\n",
      "https://smile.amazon.com/Celestron-21048-PowerSeeker-80EQ-Telescope/dp/B0007UQNKO/ref=sr_1_34?crid=1TYMQ7A5OW769&keywords=telescope&qid=1669991331&sprefix=telescope%2Caps%2C88&sr=8-34 | AmazonSmile : Celestron - PowerSeeker 80EQ Telescope - Manual German Equatorial Telescope for Beginners - Compact and Portable - BONUS Astronomy Software Package - 80mm Aperture : Refracting Telescopes : Electronics\n",
      "https://smile.amazon.com/Celestron-21061-AstroMaster-Refractor-Telescope/dp/B000MLHMAS/ref=sr_1_33?crid=1TYMQ7A5OW769&keywords=telescope&qid=1669991331&sprefix=telescope%2Caps%2C88&sr=8-33 | AmazonSmile : Celestron - AstroMaster 70AZ Telescope - Refractor Telescope - Fully Coated Glass Optics - Adjustable Height Tripod – Bonus Astronomy Software Package : Refracting Telescopes : Electronics\n",
      "https://smile.amazon.com/Celestron-31042-AstroMaster-Reflector-Telescope/dp/B000MLL6R8/ref=sr_1_37?crid=1TYMQ7A5OW769&keywords=telescope&qid=1669991331&sprefix=telescope%2Caps%2C88&sr=8-37 | AmazonSmile : Celestron - AstroMaster 114EQ Newtonian Telescope - Reflector Telescope for Beginners - Fully-Coated Glass Optics - Adjustable-Height Tripod - Bonus Astronomy Software Package : Reflecting Telescopes : Electronics\n",
      "https://smile.amazon.com/Celestron-31045-AstroMaster-Reflector-Telescope/dp/B000MLL6RS/ref=sr_1_57?crid=1TYMQ7A5OW769&keywords=telescope&qid=1669991374&sprefix=telescope%2Caps%2C88&sr=8-57 | AmazonSmile : Celestron - AstroMaster 130EQ Newtonian Telescope - Reflector Telescope for Beginners - Fully-Coated Glass Optics - Adjustable-Height Tripod - Bonus Astronomy Software Package : Reflecting Telescopes : Electronics\n",
      "https://smile.amazon.com/Celestron-AstroMaster-Reflector-Smartphone-Discoveries/dp/B07K98C6HM/ref=sr_1_14?crid=1TYMQ7A5OW769&keywords=telescope&qid=1669991239&sprefix=telescope%2Caps%2C88&sr=8-14 | AmazonSmile : Celestron 31042 AstroMaster 114 EQ Reflector Telescope with Basic Smartphone Adapter 1.25\" Capture Your Discoveries : Electronics\n",
      "https://smile.amazon.com/Celestron-Newtonian-Hand-Figured-Equatorial-Accessories/dp/B000NMOIP8/ref=sr_1_8?crid=1TYMQ7A5OW769&keywords=telescope&qid=1669991239&sprefix=telescope%2Caps%2C88&sr=8-8&ufe=app_do%3Aamzn1.fos.4dd97f68-284f-40f5-a6f1-1e5b3de13370 | AmazonSmile : Celestron – Omni XLT 150 Newtonian Reflector Telescope – Hand-Figured Refractor with XLT Optical Coatings – Manual German Equatorial EQ Mount with Setting Circles and Slow Motion Control – Includes Accessories : Educational And Hobby Telescopes : Electronics\n",
      "https://smile.amazon.com/Celestron-NexStar-127SLT-Computerized-Telescope/dp/B0038LX8XE/ref=sr_1_34?crid=1TYMQ7A5OW769&keywords=telescope&qid=1669991331&sprefix=telescope%2Caps%2C88&sr=8-34 | AmazonSmile : Celestron - NexStar 127SLT Computerized Telescope - Compact and Portable - Maksutov-Cassegrain Optical Design - SkyAlign Technology - Computerized Hand Control - 127mm Aperture : Catadioptric Telescopes : Electronics\n",
      "https://smile.amazon.com/Celestron-NexStar-130SLT-Computerized-Telescope/dp/B0007UQNNQ/ref=sr_1_18?crid=3OFF2IILDDS7E&keywords=telescope&qid=1669952370&sprefix=telescope%2Caps%2C135&sr=8-18&ufe=app_do%3Aamzn1.fos.ac2169a1-b668-44b9-8bd0-5ec63b24bcb5 | AmazonSmile : Celestron - NexStar 130SLT Computerized Telescope - Compact and Portable - Newtonian Reflector Optical Design - SkyAlign Technology - Computerized Hand Control - 130mm Aperture : Reflecting Telescopes : Electronics\n",
      "https://smile.amazon.com/Celestron-NexStar-130SLT-Computerized-Telescope/dp/B0007UQNNQ/ref=sr_1_36?crid=1TYMQ7A5OW769&keywords=telescope&qid=1669991331&sprefix=telescope%2Caps%2C88&sr=8-36&ufe=app_do%3Aamzn1.fos.ac2169a1-b668-44b9-8bd0-5ec63b24bcb5 | AmazonSmile : Celestron - NexStar 130SLT Computerized Telescope - Compact and Portable - Newtonian Reflector Optical Design - SkyAlign Technology - Computerized Hand Control - 130mm Aperture : Reflecting Telescopes : Electronics\n",
      "https://smile.amazon.com/Celestron-NexStar-8-SE-Telescope/dp/B000GUFOC8/ref=sr_1_19?crid=3OFF2IILDDS7E&keywords=telescope&qid=1669952370&sprefix=telescope%2Caps%2C135&sr=8-19 | AmazonSmile : Celestron - NexStar 8SE Telescope - Computerized Telescope for Beginners and Advanced Users - Fully-Automated GoTo Mount - SkyAlign Technology - 40,000+ Celestial Objects - 8-Inch Primary Mirror : Electronics\n",
      "https://smile.amazon.com/Celestron-StarSense-Smartphone-App-Enabled-Compatible/dp/B083JP3QYJ/ref=sr_1_21?crid=1TYMQ7A5OW769&keywords=telescope&qid=1669991277&sprefix=telescope%2Caps%2C88&sr=8-21 | AmazonSmile : Celestron – StarSense Explorer DX 102AZ Smartphone App-Enabled Telescope – Works with StarSense App to Help You Find Stars, Planets & More – 102mm Refractor – iPhone/Android Compatible : Electronics\n",
      "https://smile.amazon.com/Celestron-Telescope-Computerized-Beginners-Rechargeable/dp/B0B56FPGNK/ref=sr_1_35?crid=1TYMQ7A5OW769&keywords=telescope&qid=1669991331&sprefix=telescope%2Caps%2C88&sr=8-35 | AmazonSmile : Celestron - NexStar 4SE Telescope - Computerized Telescope for Beginners and Advanced Users & PowerTank Lithium LT Telescope Battery – Rechargeable Portable 12V Power Supply : Electronics\n",
      "https://smile.amazon.com/Explore-Scientific-Essential-Air-Spaced-Apochromatic/dp/B00IKZHT1K/ref=sr_1_75?crid=1TYMQ7A5OW769&keywords=telescope&qid=1669991398&sprefix=telescope%2Caps%2C88&sr=8-75&ufe=app_do%3Aamzn1.fos.4dd97f68-284f-40f5-a6f1-1e5b3de13370 | AmazonSmile : Explore Scientific 102mm f/7 Classic White \"Essential Series\" Air-Spaced Triplet ED Apochromatic Refractor Telescope, 1.14 arc sec, 2-Speed Focuser : Electronics\n",
      "https://smile.amazon.com/Gskyer-Astronomical-Refractor-Telescope-Technology/dp/B0007DFTJ2/ref=sr_1_17?crid=1TYMQ7A5OW769&keywords=telescope&qid=1669991277&sprefix=telescope%2Caps%2C88&sr=8-17 | AmazonSmile : Gskyer 80mm AZ Space Astronomical Refractor Telescope, German Technology Scope, AZ80400, White : Flatware Organizers : Electronics\n",
      "https://smile.amazon.com/Gskyer-Professional-Astronomical-Technology-EQ-130/dp/B083NPL73W/ref=sr_1_38?crid=1TYMQ7A5OW769&keywords=telescope&qid=1669991331&sprefix=telescope%2Caps%2C88&sr=8-38&ufe=app_do%3Aamzn1.fos.ac2169a1-b668-44b9-8bd0-5ec63b24bcb5 | AmazonSmile : Telescope, Gskyer 130EQ Professional Astronomical Reflector Telescope, German Technology Scope, EQ-130 (EQ-130) : Electronics\n",
      "https://smile.amazon.com/Gskyer-Telescope-Astronomical-Refractor-Technology/dp/B00WCG3UOS/ref=sr_1_33?crid=1TYMQ7A5OW769&keywords=telescope&qid=1669991331&sprefix=telescope%2Caps%2C88&sr=8-33&ufe=app_do%3Aamzn1.fos.18ed3cb5-28d5-4975-8bc7-93deae8f9840 | AmazonSmile : Gskyer Telescope, Telescopes for Adults, 600x90mm AZ Astronomical Refractor Telescope,Telescope for Kids,Telescopes for Adults Astronomy, German Technology Scope : Electronics\n",
      "https://smile.amazon.com/Gskyer-Telescope-Astronomical-Refractor-Technology/dp/B00XQLV11M/ref=sr_1_36?crid=1TYMQ7A5OW769&keywords=telescope&qid=1669991331&sprefix=telescope%2Caps%2C88&sr=8-36&ufe=app_do%3Aamzn1.fos.18ed3cb5-28d5-4975-8bc7-93deae8f9840 | AmazonSmile : Gskyer Telescope, Telescopes for Adults, 80mm AZ Space Astronomical Refractor Telescope, Telescope for Kids, Telescopes for Adults Astronomy, German Technology Scope : Electronics\n",
      "https://smile.amazon.com/Meade-Instruments-216005-Reflector-Telescope/dp/B00LU1DAWI/ref=sr_1_19?crid=1TYMQ7A5OW769&keywords=telescope&qid=1669991277&sprefix=telescope%2Caps%2C88&sr=8-19&ufe=app_do%3Aamzn1.fos.ac2169a1-b668-44b9-8bd0-5ec63b24bcb5 | AmazonSmile : Meade Instruments – Polaris 127mm Aperture, Portable Backyard Reflecting Astronomy Telescope for Beginners –Stable German Equatorial (GEM) Manual Mount – Multiple Eyepieces & Accessories Included : Electronics\n",
      "https://smile.amazon.com/OPAITA-Telescopes-Adults-Astronomy-Astronomical/dp/B09T9LV3VX/ref=sr_1_1?crid=1TYMQ7A5OW769&keywords=telescope&qid=1669991239&sprefix=telescope%2Caps%2C88&sr=8-1&ufe=app_do%3Aamzn1.fos.18ed3cb5-28d5-4975-8bc7-93deae8f9840 | AmazonSmile : OPAITA Telescopes for Adults Astronomy - 70mm Aperture 500mm Focal Length Astronomical Refractor Telescopes, 150X Professional HD Portable Telescope for Kids Beginners, Phone Adapter Adjustable Tripod : Electronics\n",
      "https://smile.amazon.com/Orion-10012-SkyScanner-Reflector-Telescope/dp/B00D05BIIU/ref=sr_1_10?crid=1TYMQ7A5OW769&keywords=telescope&qid=1669991239&sprefix=telescope%2Caps%2C88&sr=8-10&ufe=app_do%3Aamzn1.fos.18ed3cb5-28d5-4975-8bc7-93deae8f9840 | AmazonSmile : Orion 10012 SkyScanner 100mm TableTop Reflector Telescope (Burgundy) : Reflecting Telescopes : Electronics\n",
      "https://smile.amazon.com/Orion-10015-StarBlast-Reflector-Telescope/dp/B00D12U1IK/ref=sr_1_3?crid=1TYMQ7A5OW769&keywords=telescope&qid=1669991239&sprefix=telescope%2Caps%2C88&sr=8-3&ufe=app_do%3Aamzn1.fos.18ed3cb5-28d5-4975-8bc7-93deae8f9840 | AmazonSmile : Orion 10015 StarBlast 4.5 Astro Reflector Telescope (Teal) : Reflecting Telescopes : Electronics\n",
      "https://smile.amazon.com/Orion-10149-StarBlast-Refractor-Telescope/dp/B00FM6GMPE/ref=sr_1_20?crid=1TYMQ7A5OW769&keywords=telescope&qid=1669991277&sprefix=telescope%2Caps%2C88&sr=8-20&ufe=app_do%3Aamzn1.fos.ac2169a1-b668-44b9-8bd0-5ec63b24bcb5 | AmazonSmile : Orion 10149 StarBlast 62mm Compact Travel Refractor Telescope (Black) : Refracting Telescopes : Electronics\n",
      "https://smile.amazon.com/Orion-8944-SkyQuest-Dobsonian-Telescope/dp/B001DDW9UW/ref=sr_1_5?crid=1TYMQ7A5OW769&keywords=telescope&qid=1669991239&sprefix=telescope%2Caps%2C88&sr=8-5&ufe=app_do%3Aamzn1.fos.ac2169a1-b668-44b9-8bd0-5ec63b24bcb5 | AmazonSmile : Orion 8944 SkyQuest XT6 Classic Dobsonian Telescope : Reflecting Telescopes : Electronics\n",
      "https://smile.amazon.com/Orion-SkyQuest-Classic-Dobsonian-Telescope/dp/B01KUSMJFA/ref=sr_1_39?crid=1TYMQ7A5OW769&keywords=telescope&qid=1669991331&sprefix=telescope%2Caps%2C88&sr=8-39&ufe=app_do%3Aamzn1.fos.4dd97f68-284f-40f5-a6f1-1e5b3de13370 | AmazonSmile : Orion SkyQuest XT6 Classic Dobsonian Telescope Kit : Electronics\n",
      "https://smile.amazon.com/Orion-SkyQuest-Classic-Dobsonian-Telescope/dp/B01L8KOV4G/ref=sr_1_16?crid=1TYMQ7A5OW769&keywords=telescope&qid=1669991239&sprefix=telescope%2Caps%2C88&sr=8-16&ufe=app_do%3Aamzn1.fos.4dd97f68-284f-40f5-a6f1-1e5b3de13370 | AmazonSmile : Orion SkyQuest XT8 Classic Dobsonian Telescope Kit : Electronics\n",
      "https://smile.amazon.com/Orion-SpaceProbe-Equatorial-Reflector-Telescope/dp/B00D05BKOW/ref=sr_1_2?crid=1TYMQ7A5OW769&keywords=telescope&qid=1669991239&sprefix=telescope%2Caps%2C88&sr=8-2&ufe=app_do%3Aamzn1.fos.ac2169a1-b668-44b9-8bd0-5ec63b24bcb5 | AmazonSmile : Orion 09007 SpaceProbe 130ST Equatorial Reflector Telescope (Black) : Reflecting Telescopes : Electronics\n",
      "https://smile.amazon.com/Orion-StarBlast-Astro-Reflector-Telescope/dp/B07DMDWYNJ/ref=sr_1_15?crid=1TYMQ7A5OW769&keywords=telescope&qid=1669991239&sprefix=telescope%2Caps%2C88&sr=8-15&ufe=app_do%3Aamzn1.fos.ac2169a1-b668-44b9-8bd0-5ec63b24bcb5 | AmazonSmile : Orion StarBlast 4.5 Astro Reflector Telescope MAX Kit : Electronics\n",
      "https://smile.amazon.com/Orion-StarBlast-Equatorial-Reflector-Telescope/dp/B06XSM4R74/ref=sr_1_11?crid=1TYMQ7A5OW769&keywords=telescope&qid=1669991239&sprefix=telescope%2Caps%2C88&sr=8-11&ufe=app_do%3Aamzn1.fos.18ed3cb5-28d5-4975-8bc7-93deae8f9840 | AmazonSmile : Orion StarBlast II 4.5 Equatorial Reflector Telescope : Electronics\n",
      "https://smile.amazon.com/QQJOY-Telescope-Telescopes-Astronomy-Refracting/dp/B0BFQBDDH3/ref=sr_1_42?crid=1TYMQ7A5OW769&keywords=telescope&qid=1669991331&sprefix=telescope%2Caps%2C88&sr=8-42&ufe=app_do%3Aamzn1.fos.18ed3cb5-28d5-4975-8bc7-93deae8f9840 | AmazonSmile : QQJOY Telescope, 90mm Aperture Telescopes for Adults Astronomy, Telescope for Beginner & Kids 8-12, 600mm Refracting Telescope (24X-300X) with Tripod,Carrying case,3Pcs Eyepieces,Barlow,Phone Adapter : Electronics\n",
      "https://smile.amazon.com/SVBONY-Telescope-Exceptional-Viewing-Astrophotography/dp/B085NTQL2C/ref=sr_1_18?crid=1TYMQ7A5OW769&keywords=telescope&qid=1669991277&sprefix=telescope%2Caps%2C88&sr=8-18&ufe=app_do%3Aamzn1.fos.ac2169a1-b668-44b9-8bd0-5ec63b24bcb5 | AmazonSmile : SVBONY SV503 Telescope 80ED F7 Telescope OTA Focal Length 560mm for Exceptional Viewing and Astrophotography : Electronics\n",
      "https://smile.amazon.com/SkyWatcher-S20530-Adventurer-Telescope-Accessory/dp/B00Y1ZDK5W/ref=sr_1_20?crid=1TYMQ7A5OW769&keywords=telescope&qid=1669991277&sprefix=telescope%2Caps%2C88&sr=8-20 | AmazonSmile: SkyWatcher S20530 Star Adventurer Latitude (EQ) Base, Telescope Accessory, Black : Sports & Outdoors\n",
      "https://smile.amazon.com/Telescope-70EQ-Refractor-Scope-Multi-Layer/dp/B07M5S8B5X/ref=sr_1_84?crid=1TYMQ7A5OW769&keywords=telescope&qid=1669991660&sprefix=telescope%2Caps%2C88&sr=8-84&ufe=app_do%3Aamzn1.fos.18ed3cb5-28d5-4975-8bc7-93deae8f9840 | AmazonSmile : Telescope 60AZ Refractor Telescope Scope - 60mm Aperture and 700mm Focal Length, Multi-Layer Green Film, with Digiscoping Adapter for Photography : Electronics\n",
      "https://smile.amazon.com/Telescope-80mm-Aperture-600mm-Astronomical/dp/B09P8JQWF4/ref=sr_1_18?crid=1TYMQ7A5OW769&keywords=telescope&qid=1669991277&sprefix=telescope%2Caps%2C88&sr=8-18&ufe=app_do%3Aamzn1.fos.18ed3cb5-28d5-4975-8bc7-93deae8f9840 | AmazonSmile : Telescope 80mm Aperture 600mm - Astronomical Portable Refracting Telescope Fully Multi-coated High Transmission Coatings AZ Mount with Tripod Phone Adapter, Wireless Control, Carrying Bag. Easy Set Up : Electronics\n",
      "https://smile.amazon.com/Telescope-80mm-Aperture-600mm-Magnification/dp/B0B42CL8PH/ref=sr_1_17?crid=1TYMQ7A5OW769&keywords=telescope&qid=1669991277&sprefix=telescope%2Caps%2C88&sr=8-17&ufe=app_do%3Aamzn1.fos.18ed3cb5-28d5-4975-8bc7-93deae8f9840 | AmazonSmile : Telescope 80mm Aperture 600mm - for Beginners & Adults Astronomical Refracting Telescopes AZ Mount Tripod Fully Multi-Coated Optics 24X-180X High Magnification, with Wireless Control, Carrying Bag : Electronics\n",
      "https://smile.amazon.com/Telescope-Telescopes-Astronomy-Beginners-Multi-Coated/dp/B09YV96LPT/ref=sr_1_13?crid=1TYMQ7A5OW769&keywords=telescope&qid=1669991239&sprefix=telescope%2Caps%2C88&sr=8-13&ufe=app_do%3Aamzn1.fos.18ed3cb5-28d5-4975-8bc7-93deae8f9840 | AmazonSmile : Telescope, 70mm Aperture 500mm Telescopes for Adults Astronomy & Kids Beginners, Fully Multi-Coated Travel Refractor Telescopes with Phone Adapter, Wireless Control, Astronomy Gift for Kids : Electronics\n",
      "https://smile.amazon.com/Telescopes-Astronomy-Telescope-Astronomical-Refractor/dp/B0B7B1QJB3/ref=sr_1_43?crid=1TYMQ7A5OW769&keywords=telescope&qid=1669991331&sprefix=telescope%2Caps%2C88&sr=8-43&ufe=app_do%3Aamzn1.fos.18ed3cb5-28d5-4975-8bc7-93deae8f9840 | AmazonSmile : Telescopes for Adults Astronomy, Telescope for Kids, 70mm Aperture 500mm Focal Length Astronomical Refractor Telescope, Telescopes for Astronomy Beginners Adults with Phone Adapter & Finder Scope : Electronics\n",
      "https://smile.amazon.com/Telescopes-Professional-Astronomy-Refractor-Telescope/dp/B088GVB2S5/ref=sr_1_35?crid=1TYMQ7A5OW769&keywords=telescope&qid=1669991331&sprefix=telescope%2Caps%2C88&sr=8-35&ufe=app_do%3Aamzn1.fos.18ed3cb5-28d5-4975-8bc7-93deae8f9840 | AmazonSmile : Telescopes for Adults, 70mm Aperture and 700mm Focal Length Professional Astronomy Refractor Telescope for Kids and Beginners - with EQ Mount, 2 Plossl Eyepieces and Smartphone Adapter : Electronics\n",
      "https://smile.amazon.com/Zhumell-Deluxe-Dobsonian-Reflector-Telescope/dp/B002SCUZT4/ref=sr_1_74?crid=1TYMQ7A5OW769&keywords=telescope&qid=1669991398&sprefix=telescope%2Caps%2C88&sr=8-74 | AmazonSmile : Zhumell – 10-inch Dobsonian Reflector Telescope – Large Aperture for Crisp, Bright Images – Solid Base Construction with Handle for Easy Transport – Ideal Astronomical Telescope : Reflecting Telescopes : Electronics\n",
      "https://smile.amazon.com/Zhumell-Portable-Altazimuth-Reflector-Telescope/dp/B07BRLSVWM/ref=sr_1_6?crid=1TYMQ7A5OW769&keywords=telescope&qid=1669991239&sprefix=telescope%2Caps%2C88&sr=8-6&ufe=app_do%3Aamzn1.fos.ac2169a1-b668-44b9-8bd0-5ec63b24bcb5 | AmazonSmile : Zhumell Z130 Portable Altazimuth Reflector Telescope : Electronics\n",
      "https://smile.amazon.com/s?k=telescope&page=2&crid=3OFF2IILDDS7E&qid=1669952370&sprefix=telescope%2Caps%2C135&ref=sr_pg_2 | Amazon.com: telescope\n"
     ]
    }
   ],
   "source": [
    "print_tabs(sorted([t for t in tabs if 'amazon.com' in t.lower()]), label='Amazon')"
   ]
  },
  {
   "cell_type": "code",
   "execution_count": 20,
   "id": "16d46af9",
   "metadata": {},
   "outputs": [
    {
     "name": "stdout",
     "output_type": "stream",
     "text": [
      "## Morning Dispatch ## (0 tabs)\n",
      "\n"
     ]
    }
   ],
   "source": [
    "print_tabs(sorted([t for t in tabs if 'morning' in t.lower() and 'dispatch' in t.lower()]), label='Morning Dispatch')"
   ]
  },
  {
   "cell_type": "code",
   "execution_count": 21,
   "id": "108d879a",
   "metadata": {},
   "outputs": [
    {
     "name": "stdout",
     "output_type": "stream",
     "text": [
      "## GitHub ## (1 tabs)\n",
      "\n",
      "https://gist.github.com/shawwn/3110ab62fa027c7811578f167fa5a3a0 | \"What happened after 2010?\"\n"
     ]
    }
   ],
   "source": [
    "print_tabs(sorted([t for t in tabs if 'github' in t.lower()]), label='GitHub')"
   ]
  },
  {
   "cell_type": "code",
   "execution_count": 22,
   "id": "d911bbda",
   "metadata": {},
   "outputs": [
    {
     "name": "stdout",
     "output_type": "stream",
     "text": [
      "## YouTube ## (0 tabs)\n",
      "\n"
     ]
    }
   ],
   "source": [
    "print_tabs(sorted([t for t in tabs if 'yout' in t.lower()]), label='YouTube')"
   ]
  },
  {
   "cell_type": "code",
   "execution_count": 23,
   "id": "2649c14d",
   "metadata": {},
   "outputs": [
    {
     "name": "stdout",
     "output_type": "stream",
     "text": [
      "## Instagram ## (0 tabs)\n",
      "\n"
     ]
    }
   ],
   "source": [
    "print_tabs(sorted([t for t in tabs if 'instagram.com' in t.lower()]), label='Instagram')"
   ]
  },
  {
   "cell_type": "code",
   "execution_count": 24,
   "id": "bc70c265",
   "metadata": {},
   "outputs": [
    {
     "name": "stdout",
     "output_type": "stream",
     "text": [
      "## Other ## (96 tabs)\n",
      "\n",
      "chrome-extension://akfbkbiialncppkngofjpglbbobjoeoe/options.html | Simple Blocker - Options\n",
      "http://127.0.0.1:8889/lab | lab - JupyterLab\n",
      "https://accounts.google.com/signin/v2/challenge/pwd?continue=https%3A%2F%2Fadmin.google.com%2Fac%2Fac%2Falert%2Fdetails%3FalertId%3D805a5ebe-c62c-4428-9891-f3a390096a2d%26pli%3D1&sarp=1&osid=1&rart=ANgoxcckNOWPlqgbl7so1nCRmCRkt35n9ejOc8Au2oW3_y0foRwarGDKURUBTIrHCQer20zrkiMY0weELN9fXrwlLG-iWeWSpA&flowName=GlifWebSignIn&TL=ADFpJfOaH98uWGJVWnJl9FVcspVTIvaFTC0gFTjOhJb7KD6MQHs5AwRVFI60SUDH&cid=1&flowEntry=ServiceLogin | Sign in - Google Accounts\n",
      "https://agupubs.onlinelibrary.wiley.com/doi/full/10.1029/2019GL085378 | Evaluating the Performance of Past Climate Model Projections - Hausfather - 2020 - Geophysical Research Letters - Wiley Online Library\n",
      "https://asteriskmag.com/issues/1/china-s-silicon-future | China’s Silicon Future—Asterisk\n",
      "https://asteriskmag.com/issues/1/how-to-prevent-the-next-pandemic | How to Prevent the Next Pandemic—Asterisk\n",
      "https://asteriskmag.com/issues/1/review-what-we-owe-the-future | What We Owe The Future—Asterisk\n",
      "https://asteriskmag.com/issues/1/the-illogic-of-nuclear-escalation | The Illogic of Nuclear Escalation—Asterisk\n",
      "https://bundleiq.medium.com/comparing-gpt-3s-davinci-text-002-to-davinci-text-003-302e3ba951d5 | Comparing GPT-3’s davinci-text-002 to davinci-text-003 | by bundleIQ | Nov, 2022 | Medium\n",
      "https://byrnehobart.medium.com/true-love-is-the-most-important-thing-in-the-world-a-coasian-evolutionary-approach-8af8dbfc8bb9 | True Love Is The Most Important Thing In The World: A Coasian/Evolutionary Approach | by Byrne Hobart | Medium\n",
      "https://console.cloud.google.com/iam-admin/troubleshooter?orgonly=true&project=nice-cyclist-236123&supportedpurview=organizationId | Policy Troubleshooter – IAM & Admin – My First Project – Google Cloud console\n",
      "https://criticalfallibilism.com/ignoring-small-errors/ | Ignoring “Small” Errors\n",
      "https://founderspledge.com/ | Home | Founders Pledge\n",
      "https://futureoflife.org/open-letter/ai-principles/ | AI Principles - Future of Life Institute\n",
      "https://garymarcus.substack.com/p/what-does-meta-ais-diplomacy-winning | What does Meta AI’s Diplomacy-winning Cicero Mean for AI?\n",
      "https://generallyintelligent.com/launch/ | Introducing Generally Intelligent - generally intelligent\n",
      "https://globalprioritiesinstitute.org/wp-content/uploads/2019/Greaves_Cotton-Barratt_bargaining_theoretic_approach.pdf | Greaves_Cotton-Barratt_bargaining_theoretic_approach.pdf\n",
      "https://in-the-sky.org/news.php?id=20221109_12_100&town=4508722 | Uranus at opposition - In-The-Sky.org\n",
      "https://jamestown.org/program/chinas-2027-goal-marks-the-plas-centennial-not-an-expedited-military-modernization/ | China’s 2027 Goal Marks the PLA’s Centennial, Not an Expedited Military Modernization - Jamestown\n",
      "https://lethain.com/newsletter/ | Newsletter for Irrational Exuberance. | Irrational Exuberance\n",
      "https://lethain.com/rails-for-engineering-leadership/ | My rails for engineering leadership. | Irrational Exuberance\n",
      "https://lovethenightsky.com/see-uranus-through-a-telescope/ | See Uranus With a Telescope [Simple Guide for 2022 ]\n",
      "https://magnusvinding.com/2022/11/25/some-pitfalls-of-utilitarianism/ | Some pitfalls of utilitarianism\n",
      "https://mattsclancy.substack.com/p/december-2022-updates | December 2022 Updates - by Matt Clancy\n",
      "https://misinfounderload.substack.com/p/predictions-for-2022 | Predictions for 2022 - by Avraham Eisenberg\n",
      "https://mynm.nm.org/MyChart/Authentication/Login?action=logout | MyNM - Login Page\n",
      "https://news.ycombinator.com/item?id=33780720 | New GPT-3 model: text-DaVinci-003 | Hacker News\n",
      "https://noahpinion.substack.com/p/generative-ai-autocomplete-for-everything | Generative AI: autocomplete for everything\n",
      "https://preview.mailerlite.io/emails/webview/162793/73208087522051851 | December EA Software Engineering\n",
      "https://recombinetics.com/alliance-end-surgical-castration-swine-announces-precision-breeding-successes/ | The Alliance to End Surgical Castration of Swine Announces Precision Breeding Successes\n",
      "https://rethinkpriorities.qualtrics.com/jfe/form/SV_3rQZ3RTEBdbsbYi?source=eaforum2&ssotoken=wZRr5OUmVIeiDodKoVVQDUrBZqBsRzc5VE2LSoWEJ7jlW0rEgiw2X2qvnBS7RZdMk3IXnTkk0DsnqCVq1o10C3JRn28UonoI8PzAlc4L7D9t0BhnxP+N4eeE6XNcj/jK3NJCaAVI/rzlKDuHZPMAOzp4qABjDEosf3ehyjsM+XoPzPjzfweDOD9E+WenoLz89yoiKsJmOfWr0YjgI98t3Wv8ebsnA2kJcRwS+Rb+q98=&authorized=true | FTX Crisis Community Views Survey\n",
      "https://rethinkpriorities.qualtrics.com/jfe/form/SV_3rQZ3RTEBdbsbYi?source=eaforum2&ssotoken=wZRr5OUmVIeiDodKoVVQDUrBZqBsRzc5VE2LSoWEJ7jlW0rEgiw2X2qvnBS7RZdMk3IXnTkk0DsnqCVq1o10C9LICaRIHc4t4CZgJCNHFMErjqcQk41wQAWka8Y5mTlZqVoFSBD4RvKryD3642FN9UE3fwCLewADuy0yHN6+3lpvSmMGMdrQX/PT28tgjxcVUTDRzoOhzR6quUSXzLQJVr0GSzATEz2JYlbN7cRCvd4=&authorized=true | FTX Crisis Community Views Survey\n",
      "https://rodneybrooks.com/predictions-scorecard-2022-january-01/ | Predictions Scorecard, 2022 January 01 – Rodney Brooks\n",
      "https://scottaaronson.blog/?p=6821 | Shtetl-Optimized » Blog Archive » Reform AI Alignment\n",
      "https://smallbusinessprogramming.com/safety-critical-software-15-things-every-developer-should-know/ | Safety-Critical Software: 15 things every developer should know - Small Business Programming\n",
      "https://thehumaneleague.org/our-leadership | Lead With Us\n",
      "https://wavelength.asana.com/clarity-design-process-create-process-map/ | Why Your Team Needs a Map for Your Design Process\n",
      "https://wavelength.asana.com/coaching-workplace-why-examples/ | Coaching in the workplace: Examples and benefits\n",
      "https://wavelength.asana.com/develop-effective-communication/ | 7 questions you should ask to develop effective communication at work\n",
      "https://wavelength.asana.com/how-be-more-productive/ | Justin Rosenstein shares tips on how to be more productive\n",
      "https://wavelength.asana.com/inclusive-onboarding-experience/ | 10 Ways to Build an Inclusive Onboarding Experience\n",
      "https://wavelength.asana.com/organizational-structures/ | Top Down, Consensus & Distributed Management | Wavelength\n",
      "https://wavelength.asana.com/pyramid-clarity-strategic-alignment/ | The Pyramid of Clarity: A Way to Achieve Strategic Alignment\n",
      "https://wavelength.asana.com/team-empowerment-trust/ | Employee & Team Empowerment through Trust | Wavelength\n",
      "https://wavelength.asana.com/types-clarity-high-performing-teams/ | How High-Performing Teams Lead with 3 Types of Clarity\n",
      "https://wavelength.asana.com/workstyle-5-ways-think-big-day-week/ | 5 ways to think big, any day of the week\n",
      "https://wavelength.asana.com/workstyle-clarity/ | 3 types of clarity every company needs\n",
      "https://wavelength.asana.com/workstyle-communication-internal-memo-from-our-founders/ | Killing over-communication: an internal memo from our founders - Wavelength by Asana\n",
      "https://wavelength.asana.com/workstyle-creative-feedback/ | The dos and don'ts of giving creative feedback - Wavelength by Asana\n",
      "https://wavelength.asana.com/workstyle-customers/ | Why this person is your most important customer\n",
      "https://wavelength.asana.com/workstyle-dan-siegel-work-relationships/ | Why good work relationships are scientifically proven to improve productivity\n",
      "https://wavelength.asana.com/workstyle-decisions/ | An Effective Way to Avoid Decision Fatigue At Work\n",
      "https://wavelength.asana.com/workstyle-disagreements-work/ | The smart way to handle disagreements at work\n",
      "https://wavelength.asana.com/workstyle-dustin-moskovitz-leadership/ | Dustin Moskovitz shares his lessons on leadership\n",
      "https://wavelength.asana.com/workstyle-effective-feedback/ | Blunt, effective feedback, in 3 stories\n",
      "https://wavelength.asana.com/workstyle-gacts-mastered-marketing-brief/ | The Asana marketing brief template that anyone can use\n",
      "https://wavelength.asana.com/workstyle-gaining-support-for-your-ideas-in-the-workplace/ | Gaining support for your ideas in the workplace - Wavelength by Asana\n",
      "https://wavelength.asana.com/workstyle-how-to-fall-in-love-with-your-job-again/ | How to fall in love with your job (again) - Wavelength by Asana\n",
      "https://wavelength.asana.com/workstyle-managers-can-keep-employees-engaged/ | What only managers can do to keep employees engaged - Wavelength by Asana\n",
      "https://wavelength.asana.com/workstyle-new-years-resolutions-at-work/ | Why You Should Make New Years Resolutions at Work\n",
      "https://wavelength.asana.com/workstyle-no-meeting-wednesdays/ | How to take back your productivity with No Meeting Wednesday\n",
      "https://wavelength.asana.com/workstyle-perfect-task/ | How to write the perfect task to move work forward\n",
      "https://wavelength.asana.com/workstyle-positive-feedback-at-work/ | Feel the love: how to accept positive feedback at work - Wavelength by Asana\n",
      "https://wavelength.asana.com/workstyle-prioritization/ | Less is More: 3 Ways to Prioritize Your Work for the Day\n",
      "https://wavelength.asana.com/workstyle-simple-shift/ | A simple shift to change how you work\n",
      "https://wavelength.asana.com/workstyle-the-process-and-math-behind-prioritization/ | The process and math behind prioritization - Wavelength by Asana\n",
      "https://wavelength.asana.com/workstyle-time-management/ | How to improve your time management skills at work\n",
      "https://wavelength.asana.com/workstyle-what-is-a-1-1/ | Why 1-1 meetings are crucial to your team’s success - Wavelength by Asana\n",
      "https://wavelength.asana.com/workstyle-why-planning-is-the-true-driver-of-success/ | Why planning, not ambition, is the true driver of success - Wavelength by Asana\n",
      "https://wavelength.asana.com/zappos-self-managed-team/ | Developing a Self-Managed Team at Zappos | Wavelength\n",
      "https://web.archive.org/web/20210625103706/https://worldoptimization.tumblr.com/ | Fake Charity Nerd Girl\n",
      "https://www.benkuhn.net/11/ | The unreasonable effectiveness of one-on-ones | benkuhn.net\n",
      "https://www.benkuhn.net/weekly/ | My weekly review habit\n",
      "https://www.brookings.edu/inclusion-and-diversity/#section__intro | DEI @ Brookings\n",
      "https://www.cincinnatisymphony.org/administration/ | Administration | CSO\n",
      "https://www.cooperativeai.com/foundation | Cooperative AI – Foundation\n",
      "https://www.eurasiagroup.net/issues/top-risks-2022 | Eurasia Group | Top Risks 2022\n",
      "https://www.fedex.com/fedextrack/?trknbr=613905220033&trkqual=12024~613905220033~FDEG | Detailed Tracking\n",
      "https://www.fedex.com/fedextrack/?trknbr=613905220044&trkqual=12024~613905220044~FDEG | Detailed Tracking\n",
      "https://www.fedex.com/fedextrack/?trknbr=613905220055&trkqual=12024~613905220055~FDEG | Detailed Tracking\n",
      "https://www.forbes.com/sites/chasewithorn/2022/12/02/exclusive-sam-bankman-fried-knew-plenty-about-his-alameda-research-hedge-fundand-sent-details-to-forbes-just-months-ago/?sh=4d609441303d | Exclusive: Sam Bankman-Fried Knew Plenty About His Alameda Research Hedge Fund–And Sent Details To Forbes Just Months Ago\n",
      "https://www.jasonwei.net/blog/emergence | 137 emergent abilities of large language models — Jason Wei\n",
      "https://www.managementcenter.org/resources/four-steps-addressing-performance-problems/ | Four Steps for Addressing Performance Problems\n",
      "https://www.newyorker.com/science/elements/the-terrifying-lessons-of-a-pandemic-simulation | The Terrifying Lessons of a Pandemic Simulation | The New Yorker\n",
      "https://www.pnas.org/doi/10.1073/pnas.2206625119#abstract | Acquisition of chess knowledge in AlphaZero\n",
      "https://www.semafor.com/ | https://www.semafor.com/\n",
      "https://www.semafor.com/newsletter/11/24/2022/black-friday-edition | Black Friday edition | Semafor\n",
      "https://www.theatlantic.com/live/progress-summit-2022-event/ | Progress Summit with Derek Thompson - The Atlantic\n",
      "https://www.theatlantic.com/magazine/archive/2022/12/china-takeover-taiwan-xi-tsai-ing-wen/671895/ | Taiwan Wants China to Think Twice About an Invasion - The Atlantic\n",
      "https://www.theguardian.com/business/2022/nov/30/sir-chris-hohn-paid-himself-equivalent-of-over-15m-per-day-this-year | Hedge fund billionaire Sir Chris Hohn paid himself ‘£1.5m a day this year’ | Hedge funds | The Guardian\n",
      "https://www.theguardian.com/commentisfree/2022/nov/16/is-the-effective-altruism-movement-in-trouble | Is the effective altruism movement in trouble? | Olúfẹ́mi O Táíwò and Joshua Stein | The Guardian\n",
      "https://www.vox.com/policy-and-politics/2022/11/23/23473873/hakeem-jeffries-democratic-leader-nancy-pelosi | Hakeem Jeffries’s historic election as House Democratic leader, explained - Vox\n",
      "https://www.vox.com/policy-and-politics/2022/11/29/23484335/supreme-court-united-states-texas-ice-immigration-drew-tipton-trump | The Supreme Court is in disarray over a rogue Trump judge in Texas - Vox\n",
      "https://www.vox.com/the-goods/2022/11/30/23484790/sam-bankman-fried-ftx-crypto-dealbook-sorkin | Sam Bankman-Fried’s DealBook Summit interview was a mesmerizing spectacle - Vox\n",
      "https://www.wave.com/en/blog/11-tips/ | Some tips for good one-on-ones - Wave Blog\n",
      "https://www.wired.com/story/effective-altruism-artificial-intelligence-sam-bankman-fried/ | Effective Altruism Is Pushing a Dangerous Brand of ‘AI Safety’\n"
     ]
    }
   ],
   "source": [
    "tabs_ = [t for t in tabs if (not ('google.com' in t.lower() and 'search' in t.lower() and not ('docs.google' in t.lower() or 'sheets.google' in t.lower())) and\n",
    "                             not ('docs.google' in t.lower() or 'sheets.google' in t.lower() or 'drive.google' in t.lower()) and\n",
    "                             not 'facebook.com' in t.lower() and\n",
    "                             not 'twitter' in t.lower() and\n",
    "                             not ('forum.effectivealtruism' in t.lower() or 'lesswrong' in t.lower()) and\n",
    "                             not ('metaculus' in t.lower() or 'manifold' in t.lower() or 'predictit' in t.lower()) and\n",
    "                             not 'wikipedia' in t.lower() and\n",
    "                             not 'reddit' in t.lower() and\n",
    "                             not 'instagram.com' in t.lower() and\n",
    "                             not ('guarded-everglades-89687.herokuapp.com' in t.lower() or 'localhost' in t.lower()) and\n",
    "                             not 'instacart' in t.lower() and\n",
    "                             not ('morning' in t.lower() and 'dispatch' in t.lower()) and\n",
    "                             not 'amazon.com' in t.lower() and\n",
    "                             not 'github' in t.lower() and\n",
    "                             not 'calendar.google' in t.lower() and\n",
    "                             not 'yout' in t.lower() and\n",
    "                             not ('messages/' in t.lower() or 'inbox/' in t.lower() or 'swapcard' in t.lower()))]\n",
    "tabs_ = sorted(tabs_)\n",
    "print_tabs(tabs_, label='Other')\n",
    "\n"
   ]
  },
  {
   "cell_type": "code",
   "execution_count": 25,
   "id": "c9a2a7bb-86f9-45bd-b8d6-ed8889caed90",
   "metadata": {},
   "outputs": [],
   "source": [
    "#open_tabs(tabs_, page=1, per_page=60)"
   ]
  },
  {
   "cell_type": "code",
   "execution_count": 26,
   "id": "6c128ee3-03e2-4cfb-bfd1-0dfc84775af1",
   "metadata": {},
   "outputs": [],
   "source": [
    "#random.shuffle(tabs)\n",
    "#print_tabs(tabs, label='Shuffled all tabs')"
   ]
  }
 ],
 "metadata": {
  "kernelspec": {
   "display_name": "Python 3 (ipykernel)",
   "language": "python",
   "name": "python3"
  },
  "language_info": {
   "codemirror_mode": {
    "name": "ipython",
    "version": 3
   },
   "file_extension": ".py",
   "mimetype": "text/x-python",
   "name": "python",
   "nbconvert_exporter": "python",
   "pygments_lexer": "ipython3",
   "version": "3.9.15"
  }
 },
 "nbformat": 4,
 "nbformat_minor": 5
}
