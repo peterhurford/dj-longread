{
 "cells": [
  {
   "cell_type": "code",
   "execution_count": 1,
   "id": "40568205",
   "metadata": {},
   "outputs": [
    {
     "name": "stdout",
     "output_type": "stream",
     "text": [
      "Loaded\n"
     ]
    }
   ],
   "source": [
    "import random\n",
    "import numpy as np\n",
    "import webbrowser\n",
    "\n",
    "from copy import copy\n",
    "\n",
    "\n",
    "def print_tabs(tabs, label=None, shuffled=True):\n",
    "    if shuffled:\n",
    "        tabs = random.sample(tabs, len(tabs))\n",
    "    if label:\n",
    "        print('## {} ## ({} tabs)'.format(label, len(tabs)))\n",
    "    else:\n",
    "        print('({} tabs)'.format(len(tabs)))\n",
    "    print('')\n",
    "    for tab in tabs:\n",
    "        print(tab.replace('\\n', ''))\n",
    "    return None\n",
    "\n",
    "\n",
    "def open_tab(tab):\n",
    "    url = tab.split('|')[0].replace(' ', '')\n",
    "    webbrowser.open(url, new=2, autoraise=False)\n",
    "    \n",
    "    \n",
    "def open_tabs(tabs, page=1, per_page=10):\n",
    "    page_start = (page - 1) * per_page\n",
    "    total_pages = int(np.ceil(len(tabs) / per_page))\n",
    "    if page > total_pages:\n",
    "        raise ValueError('Cannot open page {}, only have {} pages'.format(page, total_pages))\n",
    "    page_end = page * per_page\n",
    "    if page_end > len(tabs):\n",
    "        page_end = len(tabs)\n",
    "    paged_tabs = tabs[page_start:page_end]\n",
    "    print('Opening page {}/{} (tabs {}-{} of {})'.format(page, total_pages, page_start, page_end, len(tabs)))\n",
    "    \n",
    "    for tab in paged_tabs:\n",
    "        open_tab(tab)\n",
    "\n",
    "        \n",
    "def open_random_n_tabs(tabs, n=5):\n",
    "    tabs = random.sample(tabs, len(tabs))\n",
    "    open_tabs(tabs, page=1, per_page=n)\n",
    "    return tabs[5:]\n",
    "\n",
    "        \n",
    "print('Loaded')"
   ]
  },
  {
   "cell_type": "code",
   "execution_count": 2,
   "id": "1ffe9c7f",
   "metadata": {},
   "outputs": [
    {
     "name": "stdout",
     "output_type": "stream",
     "text": [
      "99\n",
      "99\n",
      "99\n",
      "99\n",
      "99\n"
     ]
    }
   ],
   "source": [
    "tab_file = open('/Users/peterhurford/Documents/alltabs.txt', 'r')\n",
    "tabs = tab_file.readlines()\n",
    "print(len(tabs))\n",
    "\n",
    "tabs = [t for t in tabs if t != '\\n']\n",
    "print(len(tabs))\n",
    "\n",
    "tabs = sorted(list(set(tabs)))\n",
    "print(len(tabs))\n",
    "\n",
    "tabs = ['{} | {}'.format(k, v) for k, v in dict([(t.split('|')[0].strip(), ''.join(t.split('|')[1:]).strip()) for t in tabs]).items()]\n",
    "print(len(tabs))\n",
    "\n",
    "tabs = ['{} | {}'.format(v, k) for k, v in dict([(''.join(t.split('|')[1:]).strip(), t.split('|')[0].strip()) for t in tabs]).items()]\n",
    "print(len(tabs))"
   ]
  },
  {
   "cell_type": "code",
   "execution_count": 3,
   "id": "df44f938",
   "metadata": {
    "scrolled": true
   },
   "outputs": [
    {
     "name": "stdout",
     "output_type": "stream",
     "text": [
      "## Messages ## (1 tabs)\n",
      "\n",
      "https://twitter.com/messages/25776739-103418485 | Joel Becker / Twitter\n"
     ]
    }
   ],
   "source": [
    "print_tabs([t for t in tabs if ('messages/' in t.lower() or 'inbox/' in t.lower() or 'mail.google' in t.lower() or 'swapcard' in t.lower())], label='Messages')\n"
   ]
  },
  {
   "cell_type": "code",
   "execution_count": 4,
   "id": "89c2b367",
   "metadata": {},
   "outputs": [
    {
     "name": "stdout",
     "output_type": "stream",
     "text": [
      "## Facebook ## (0 tabs)\n",
      "\n"
     ]
    }
   ],
   "source": [
    "print_tabs([t for t in tabs if 'facebook.com' in t.lower() and 'messages' not in t.lower()], label='Facebook')"
   ]
  },
  {
   "cell_type": "code",
   "execution_count": 5,
   "id": "f6d6e211",
   "metadata": {},
   "outputs": [
    {
     "name": "stdout",
     "output_type": "stream",
     "text": [
      "## Twitter ## (10 tabs)\n",
      "\n",
      "https://twitter.com/robbensinger/status/1643342330290913280 | Rob Bensinger 🔍 on Twitter: \"I've been citing https://t.co/jVrdg2mIgz to explain why the situation with AI looks doomy to me. But that post is relatively long, and emphasizes specific open technical problems over \"the basics\". Here are 10 things I'd focus on if I were giving \"the basics\" on why I'm worried:\" / Twitter\n",
      "https://twitter.com/markets/status/1635731307908005895 | Bloomberg Markets on Twitter: \"Adept has raised $350 million to develop AI tools that can actually execute commands based on human prompts instead of giving written responses https://t.co/OYBwRDdbj3\" / Twitter\n",
      "https://twitter.com/WilliamAEden/status/1630690003830599680 | William Eden on Twitter: \"My Twitter timeline is full of panicked takes about imminent AI apocalypse and certain doom. I think this is starting to get overplayed, and so I want to make a long thread about why I'm personally not worried yet. Get ready for a big one... 1/n\" / Twitter\n",
      "https://twitter.com/dylan522p/status/1628797563007811585 | Dylan Patel on Twitter: \"Meta's internal data shows that they are growing compute and datacenter infrastructure faster than Google and Microsoft! A higher percentage of their capex is spent on servers, and so compute energy footprint is growing faster, despite lower spend. Their PUE is &lt;1.1, so it's not… https://t.co/Nikto4prZV\" / Twitter\n",
      "https://twitter.com/Wertwhile/status/1609177422074896386 | Joel Wertheimer on Twitter: \"Have so many complaints about this article I don't know where to begin. https://t.co/qWsSZR3sAs\" / Twitter\n",
      "https://twitter.com/boazbaraktcs/status/1646524501855981569 | https://twitter.com/boazbaraktcs/status/1646524501855981569\n",
      "https://twitter.com/benskuhn/status/1630611607029157888 | Ben Kuhn on Twitter: \"A lot of talk about managing focuses on \"decisionmaking\": how to run decision meetings, who gets to sign off on what, how they flow up + down the hierarchy... But IMO, management isn't (mainly) about decisions; it's about understanding and tweaking a complex system (of people).\" / Twitter\n",
      "https://twitter.com/labenz/status/1646508947669393408 | Nathan Labenz on Twitter: \"I’ve said “GPT-4 can’t do science”, but this new paper says it can “Emergent autonomous scientific research capabilities of LLMs” This would be the first GPT-4 capability that I tried &amp; failed to demonstrate during Red Team testing Will report back! https://t.co/pdkEqC7NAz\" / Twitter\n",
      "https://twitter.com/NathanpmYoung/status/1640302031855403010 | Nathan 🔍 on Twitter: \"What questions would you like about AI that resolve in the next two years? I'd like to write some. Some examples: https://t.co/ezG76Di5X2\" / Twitter\n",
      "https://twitter.com/daniel_eth/status/1635885011365957632 | Daniel Eth💡 on Twitter: \"Finally getting around to reading this. Will update my reactions as I go\" / Twitter\n"
     ]
    }
   ],
   "source": [
    "twitter_tabs = sorted([t for t in tabs if 'twitter.com' in t.lower() and 'messages' not in t.lower()])\n",
    "print_tabs(twitter_tabs, label='Twitter')"
   ]
  },
  {
   "cell_type": "code",
   "execution_count": 6,
   "id": "0e8d623e",
   "metadata": {},
   "outputs": [],
   "source": [
    "#open_tabs(twitter_tabs, page=1, per_page=200)"
   ]
  },
  {
   "cell_type": "code",
   "execution_count": 7,
   "id": "c4635d45",
   "metadata": {},
   "outputs": [
    {
     "name": "stdout",
     "output_type": "stream",
     "text": [
      "## Google Docs ## (45 tabs)\n",
      "\n",
      "https://docs.google.com/document/d/1DmqsdeqncXV6knbdRxDYl-PDJ3y0lYI_YWXFzzOBxS8/edit | Project idea: Collection of actions it might be good for AI labs to take - Google Docs\n",
      "https://docs.google.com/document/d/18taVUahU3V91ObOok87GqJExoLJbwYTHvkWPqWOTRjw/edit | Ben Garfinkel <> Michael Aird - 2023 meetings\n",
      "https://docs.google.com/document/d/1UOUK8hMxDD0WlM6jEbjI9dWyC73yulOEtoU2MWYaooA/edit#heading=h.tufvzyw73c4q | Updates on AIGS team strategy etc. [April 2023; DRAFT] - Google Docs\n",
      "https://docs.google.com/document/d/1azmoDCGM_DsgHZNwlnnXxxJcTMK0OA6xRU4XRd9W1_k/edit# | Ashwin <> Hjalmar Wijk on evals & policy, Feb 2023 - Google Docs\n",
      "https://docs.google.com/document/d/1SbGV0Nc-Nh6WYkTNQ7QUxnbi9kRw0XsMwSqmBk0U0eM/edit | [Private] EAIF Vision and Scope - Google Docs\n",
      "https://docs.google.com/document/d/1idfbvEpsxrFTGflCErTPZ_NiXjeqPhfwBrJBce1P_Yw/edit#heading=h.mj0jmgv3ic64 | Will Humanity Choose Its Future? v4 - Google Docs\n",
      "https://docs.google.com/document/d/1n-FGenzNuyR0TaqoAd8vckrzZWVZg1zHUbjnd0_rFbI/edit#heading=h.pobicrnq8r4a | [Shareable] LAISR next steps planning - outreach to non-ODA labs - Google Docs\n",
      "https://docs.google.com/document/d/1e0dlTw724dCpZKVuw53s2lWoMMlY9SGBvKCWeBhMdNM/edit | Some hot takes from Marcus that we should consider - Google Docs\n",
      "https://docs.google.com/document/d/1Cw7uFMoA-qMfGDEqDqtvEU0osfenPZjzEjskA6T-XEA/edit | Research note: AI for Chemical & Materials Engineering (ACME) - Google Docs\n",
      "https://docs.google.com/document/d/1idQ5AVMaO94fE26z61kKyVq88WRBGg8RaTqpB9DTmkc/edit#heading=h.s4dbr54ymvcl | [v. C] Theories of victory for AI governance – Survey on intermediate goals in AI governance - Google Docs\n",
      "https://docs.google.com/document/d/1bHqfiyi7_xMRFDPJ2P-pPuNg0Cofez-MOXnIdzaEdsI/edit#heading=h.42dwpl3d3ux7 | AA: Summary of Feb 2023 ESS evals plan discn - Google Docs\n",
      "https://docs.google.com/document/d/1S7W6ICDO6YYNx4D3XxYMq3hUzbYEMI9rMRUeo_jZ57Y/edit#heading=h.aqlr4k5imil3 | Tentative practical tips for using chatbots in research - Google Docs\n",
      "https://docs.google.com/document/d/1SllbtZBSPac_rbX0sgLR4clafB9pH_CeuNFJmejiFLc/edit | Critical AI Paper Draft - Google Docs\n",
      "https://docs.google.com/document/d/1xvHKqFh3ei1PKwreYl2NqoFADJ_YJEGkSvfH_Yhm8hY/edit#heading=h.rwgntok8za31 | [DRAFT] Report: how much are ML-focused companies spending on compute? - Google Docs\n",
      "https://docs.google.com/document/d/12yOxzRW8hrEVR_wUXtGDmOmwjm94DTgWBnfDC5v-pXU/edit?pli=1#heading=h.hbn3g4b3o4xg | Longtermism (LT) hiring - standing meetings - 2022-2023 - Google Docs\n",
      "https://docs.google.com/document/d/1c1IaJxkQcHTy5VgJyWc569mlznWFJI69Wv9b6i6l9Bw/edit | 2023.03.15 (Mar) Chris Byrd <> Shaun Ee - Google Docs\n",
      "https://docs.google.com/document/d/1DnzXUUgVrkAMQivwv3u46UKDaxoJUOqTbZkTF_e9Pvk/edit | CLTP <> Michael Aird - 2023-Feb-20 - misc AI gov & China stuff - Google Docs\n",
      "https://docs.google.com/document/d/10_Co_t2cduhCWri7bw7Pm7iMMKUNvEjw0dEyMOEYMwE/edit#heading=h.9bdgewen2wef | [second draft] Updated prioritisation model + process - Google Docs\n",
      "https://docs.google.com/document/d/17FQtd1G26QGIWenU7I92tqbGNy0E7cnBz594F8lJOpI/edit | Project ideas: “Primers” on the internal organizational structure of leading AI labs and/or on x-risk-concerned people’s social/political capital with AI labs - Google Docs\n",
      "https://docs.google.com/document/d/13nQfzNRJrB1-hMxxQgCjp6TIrdLvSIJFDH7X9xd8AWk/edit#heading=h.il6vz7ptaefx | Caleb/Renan on movement building research - Google Docs\n",
      "https://docs.google.com/document/d/1FmCK6rpAv2uAqgZzIxI1Jm2ga0bOgHS_u6WFDx_Blgo/edit#heading=h.bcufhgg27mdc | PATCH scenario [shared outside RP] - Google Docs\n",
      "https://docs.google.com/document/d/1bMXGnKUjy9qGV7u336ScagAHLgbaLHqsNfUXVE7L6G0/edit#heading=h.pqlvjrmba57q | 2023-02 TAI Timelines Workshops - Winter Fellows 2023 - Google Docs\n",
      "https://docs.google.com/document/d/1qwKUWu1aa1rikW3zlCPPvPXdS4upsarkJe8-JwcE4tY/edit#heading=h.z6v8ty7j4wlh | You don't have to be that risk-averse to prefer GHW to LT (Final - Shared with Jason) - Google Docs\n",
      "https://docs.google.com/document/d/1YlXUQsLd8Dxzwqn02Pxuq29eSNVyqpXeCgHMchRYkPw/edit#heading=h.lezt7bwaw70q | Notes - Special Projects / Longtermism teams sync - Google Docs\n",
      "https://docs.google.com/document/d/1Yzdr7sW716VveShglkfTOYcoYyQOR06yUC2ldMDjJu4/edit | Toward trustworthy AGI projects [2022-09-26 draft] - Google Docs\n",
      "https://docs.google.com/document/d/19L0k0B0-0gW7t96Q-hpNIknCEry57Hklgt2FXFDUH78/edit#heading=h.mak2h8fgpqe9 | [SES copy] Misuse of AI should be a core priority in AI risk reduction - Google Docs\n",
      "https://docs.google.com/document/d/1Z4sam-7rOxDgrYOkEj60CdGf1HsBmA_1y5P9LphB96M/edit | Introductory email for AI adversarial collaboration project (\"AI concerned\" camp) - Google Docs\n",
      "https://docs.google.com/document/d/1U-XKyrYLv_RbqkrUwaz39lyCuaRlXagvfAdWrdbf8iE/edit#heading=h.1t59s1ygweog | Sketching a TAI scenario and backchaining to useful actions - Google Docs\n",
      "https://docs.google.com/document/d/1VU0iNEmXAfwdU0JpTzd116uztD0ykRhw5MXBXGaQlqQ/edit | Giving Green reflection\n",
      "https://docs.google.com/document/d/1dAJRHDgEgDA20k6YsGkzPVWk-BAyzKcmA6bfH20-ajc/edit | [*MASTER*] Independent researcher infrastructure (last updated: 2023-02-22)\n",
      "https://docs.google.com/document/d/16GQ2FbwF-GWG28wzFg6gTlAVRYHbGIzwMTC6egPXnMg/edit | [work in progress] Project plan: Project idea research for incubation - Google Docs\n",
      "https://docs.google.com/document/d/1g62sD3yhBeuEhjJFMzLu_5-QC73bkSiGrXV_NknhsHE/edit#heading=h.fctpogr60cwp | Jannik Schilling <> Ben 2023-03-27 - Google Docs\n",
      "https://docs.google.com/document/d/1KLvbDEe-LK5648p-TLyxpz9tXt5lioGmGQUrQThAeFY/edit | Thoughts on Evals and a nearcast - Google Docs\n",
      "https://docs.google.com/spreadsheets/d/1XVeiYoKjG-wQWdR3LGlXCVMCAKqgASx-aFoeiiaKSrM/edit#gid=100554351 | [PUBLIC] Historical metrics by programme (Static 2022 version) - Google Sheets\n",
      "https://docs.google.com/document/d/1A-W3ahsV3DspgnEk7iRXlyctkL0D0kwgP09OGFRu5BI/edit | Examining pathways from narrow AI to nuclear war - Google Docs\n",
      "https://docs.google.com/document/d/1hKZNRSLm7zubKZmfA7vsXvkIofprQLGUoW43CYXPRrk/edit | Some Key Ways in Which I've Changed My Mind Over the Last Several Years - Google Docs\n",
      "https://docs.google.com/document/d/1NA06JZz1gBLa9O4N3_1tlTvBLWy6X19Z--2gzQ_qkdk/edit | USG & natsec AI interest trends [WiP] - Google Docs\n",
      "https://docs.google.com/document/d/1xHmHPsfrYgUhjpCYotzVE78l1RWS7ddtjU85A6GIYUY/edit#heading=h.bvjsvl1l7r2e | Will misaligned APS systems seek power dangerously if deployed? - Google Docs\n",
      "https://docs.google.com/document/d/1E94xR3U2kxdBKql0gZtnhzxHiN0lJ2yByAaXGd9VE5M/edit#heading=h.j7w06lr7knz3 | Ashwin: Red-teaming the evals/regulation plan [RP copy] - Google Docs\n",
      "https://docs.google.com/document/d/1rbF7L5zUnRuzZu3TOhUw6JssgD8yhPHsFgYzlX_4F4A/edit | Ryan's thoughts on the future of EA (Feb 2023) - Google Docs\n",
      "https://docs.google.com/document/d/1_Z5LXkGT1aKTzZH6E8XIBJ683tTJp7_9SA5NvgLabcQ/edit | SH - memos for Summit on Existential Security - Google Docs\n",
      "https://docs.google.com/document/d/1lC-rIXME-GD1AImZ80b9eP61sroZy8mooLnSeHNgYzM/edit#heading=h.ftvusubre6rz | Brainstorming on RP as a brand - Google Docs\n",
      "https://docs.google.com/document/d/1Weh2vqYRT-l1SpuufyZ4_ldNoOuIg8QodpNskkYG04U/edit#heading=h.g2je2be7j07v | Backgrounder on US Natsec & AI - Google Docs\n",
      "https://docs.google.com/document/d/1Y9P87JK5w6dRTeCxKjWiRt44_h9lkLOde8FMFOOEIr4/edit#heading=h.b8kzjwotdq3z | [Shareable] Red-teaming longtermist AI governance - LAISR session - Google Docs\n",
      "https://docs.google.com/document/d/1kKNiwm-B9vzkm4imFI1ibebWlDi6CgbwzJiFcBGUJPw/edit#heading=h.ti0ljcr7nv6c | [Shareable] LAISR Q&A with people who know about US policymaking - Google Docs\n"
     ]
    }
   ],
   "source": [
    "doc_tabs = sorted([t for t in tabs if ('docs.google' in t.lower() or 'sheets.google' in t.lower() or 'drive.google' in t.lower())])\n",
    "print_tabs(doc_tabs, label='Google Docs')\n"
   ]
  },
  {
   "cell_type": "code",
   "execution_count": 8,
   "id": "18e9e150",
   "metadata": {},
   "outputs": [],
   "source": [
    "#open_tabs(doc_tabs, page=1, per_page=10)"
   ]
  },
  {
   "cell_type": "code",
   "execution_count": 9,
   "id": "479f45a0-d63f-474d-aa76-2ddab5a10b0a",
   "metadata": {},
   "outputs": [],
   "source": [
    "#doc_tabs_ = copy(doc_tabs)"
   ]
  },
  {
   "cell_type": "code",
   "execution_count": 10,
   "id": "c4e71249-4e0e-47aa-9fcd-69b9219f507f",
   "metadata": {},
   "outputs": [],
   "source": [
    "#doc_tabs_ = open_random_n_tabs(doc_tabs_, n=5)"
   ]
  },
  {
   "cell_type": "code",
   "execution_count": 11,
   "id": "6311fa07",
   "metadata": {},
   "outputs": [
    {
     "name": "stdout",
     "output_type": "stream",
     "text": [
      "## Google search ## (0 tabs)\n",
      "\n"
     ]
    }
   ],
   "source": [
    "print_tabs(sorted([t for t in tabs if ('google.com' in t.lower() and 'search' in t.lower() and\n",
    "                                   not ('docs.google' in t.lower() or 'sheets.google' in t.lower()))]),\n",
    "           label='Google search')"
   ]
  },
  {
   "cell_type": "code",
   "execution_count": 12,
   "id": "53b9762e",
   "metadata": {},
   "outputs": [
    {
     "name": "stdout",
     "output_type": "stream",
     "text": [
      "## EAFo/LW ## (7 tabs)\n",
      "\n",
      "https://www.lesswrong.com/posts/mSF4KTxAGRG3EHmhb/ai-x-risk-approximately-ordered-by-embarassment | AI x-risk, approximately ordered by embarrassment - LessWrong\n",
      "https://www.lesswrong.com/posts/AfGmsjGPXN97kNp57/arguments-about-fast-takeoff | Arguments about fast takeoff - LessWrong\n",
      "https://forum.effectivealtruism.org/posts/L8GjzvRYA9g9ox2nP/prospects-for-ai-safety-agreements-between-countries | Prospects for AI safety agreements between countries - EA Forum\n",
      "https://www.lesswrong.com/posts/bwyKCQD7PFWKhELMr/by-default-gpts-think-in-plain-sight?commentId=zfzHshctWZYo8JkLe | By Default, GPTs Think In Plain Sight - LessWrong\n",
      "https://www.lesswrong.com/posts/uMQ3cqWDPHhjtiesc/agi-ruin-a-list-of-lethalities | AGI Ruin: A List of Lethalities - LessWrong\n",
      "https://www.lesswrong.com/posts/QBTdEyL3tDaJY3LNa/ai-kills-everyone-scenarios-require-robotic-infrastructure | AI-kills-everyone scenarios require robotic infrastructure, but not necessarily nanotech - LessWrong\n",
      "https://forum.effectivealtruism.org/posts/JQxvZZdPG5KYjyBfg/four-mindset-disagreements-behind-existential-risk | Four mindset disagreements behind existential risk disagreements in ML - EA Forum\n"
     ]
    }
   ],
   "source": [
    "ea_fo_tabs = sorted([t for t in tabs if ('forum.effectivealtruism' in t.lower() or 'lesswrong' in t.lower())])\n",
    "print_tabs(ea_fo_tabs, label='EAFo/LW')"
   ]
  },
  {
   "cell_type": "code",
   "execution_count": 13,
   "id": "8ffa8f80-4aa6-4afe-8c6a-59194d69895e",
   "metadata": {},
   "outputs": [],
   "source": [
    "#open_tabs(ea_fo_tabs, page=1, per_page=100)"
   ]
  },
  {
   "cell_type": "code",
   "execution_count": 14,
   "id": "42ae2aee",
   "metadata": {},
   "outputs": [
    {
     "name": "stdout",
     "output_type": "stream",
     "text": [
      "## Metaculus etc. ## (1 tabs)\n",
      "\n",
      "https://www.metaculus.com/questions/3608/will-the-majority-of-leading-cosmologists-in-2030-agree-that-the-evidence-points-to-an-accelerating-universe/ | Cosmologists Favor Universe Acceleration  Metaculus\n"
     ]
    }
   ],
   "source": [
    "print_tabs(sorted([t for t in tabs if ('metaculus' in t.lower() or 'manifold' in t.lower() or 'predictit' in t.lower())]), label='Metaculus etc.')"
   ]
  },
  {
   "cell_type": "code",
   "execution_count": 15,
   "id": "72bdaddd",
   "metadata": {},
   "outputs": [
    {
     "name": "stdout",
     "output_type": "stream",
     "text": [
      "## Wikipedia ## (0 tabs)\n",
      "\n"
     ]
    }
   ],
   "source": [
    "print_tabs(sorted([t for t in tabs if ('wikipedia' in t.lower() or 'wikiwand' in t.lower())]), label='Wikipedia')"
   ]
  },
  {
   "cell_type": "code",
   "execution_count": 16,
   "id": "ca9dcfdf",
   "metadata": {},
   "outputs": [
    {
     "name": "stdout",
     "output_type": "stream",
     "text": [
      "## Reddit ## (0 tabs)\n",
      "\n"
     ]
    }
   ],
   "source": [
    "print_tabs(sorted([t for t in tabs if 'reddit' in t.lower()]), label='Reddit')"
   ]
  },
  {
   "cell_type": "code",
   "execution_count": 17,
   "id": "5dedf293",
   "metadata": {},
   "outputs": [
    {
     "name": "stdout",
     "output_type": "stream",
     "text": [
      "## localhost ## (0 tabs)\n",
      "\n"
     ]
    }
   ],
   "source": [
    "print_tabs(sorted([t for t in tabs if 'guarded-everglades-89687.herokuapp.com' in t.lower() or 'localhost' in t.lower()]), label='localhost')\n"
   ]
  },
  {
   "cell_type": "code",
   "execution_count": 18,
   "id": "677f610e",
   "metadata": {},
   "outputs": [
    {
     "name": "stdout",
     "output_type": "stream",
     "text": [
      "## Chores ## (0 tabs)\n",
      "\n"
     ]
    }
   ],
   "source": [
    "print_tabs(sorted([t for t in tabs if 'instacart' in t.lower()]), label='Chores')"
   ]
  },
  {
   "cell_type": "code",
   "execution_count": 19,
   "id": "5fce865e",
   "metadata": {},
   "outputs": [
    {
     "name": "stdout",
     "output_type": "stream",
     "text": [
      "## Amazon ## (0 tabs)\n",
      "\n"
     ]
    }
   ],
   "source": [
    "print_tabs(sorted([t for t in tabs if 'amazon.com' in t.lower()]), label='Amazon')"
   ]
  },
  {
   "cell_type": "code",
   "execution_count": 20,
   "id": "16d46af9",
   "metadata": {},
   "outputs": [
    {
     "name": "stdout",
     "output_type": "stream",
     "text": [
      "## Morning Dispatch ## (0 tabs)\n",
      "\n"
     ]
    }
   ],
   "source": [
    "print_tabs(sorted([t for t in tabs if 'morning' in t.lower() and 'dispatch' in t.lower()]), label='Morning Dispatch')"
   ]
  },
  {
   "cell_type": "code",
   "execution_count": 21,
   "id": "108d879a",
   "metadata": {},
   "outputs": [
    {
     "name": "stdout",
     "output_type": "stream",
     "text": [
      "## GitHub ## (4 tabs)\n",
      "\n",
      "https://github.com/laurakduffy/risk_ambiguity_model | laurakduffy/risk_ambiguity_model\n",
      "https://github.com/washingtonpost/elex-live-model | washingtonpost/elex-live-model: a model to generate estimates of the number of outstanding votes on an election night based on the current results of the race\n",
      "https://github.com/tadamcz/timing-spend-down-copy-for-rethink-priorities | tadamcz/timing-spend-down-copy-for-rethink-priorities: A copy shared with some rethink priorities staff for my job application.\n",
      "https://github.com/rethinkpriorities/RP-Visualising-Uncertainty-Jamie-Elsey-Workshop | rethinkpriorities/RP-Visualising-Uncertainty-Jamie-Elsey-Workshop: Code to accompany the visualising uncertainty workshop\n"
     ]
    }
   ],
   "source": [
    "print_tabs(sorted([t for t in tabs if 'github.com' in t.lower()]), label='GitHub')"
   ]
  },
  {
   "cell_type": "code",
   "execution_count": 22,
   "id": "d911bbda",
   "metadata": {},
   "outputs": [
    {
     "name": "stdout",
     "output_type": "stream",
     "text": [
      "## YouTube ## (0 tabs)\n",
      "\n"
     ]
    }
   ],
   "source": [
    "print_tabs(sorted([t for t in tabs if 'yout' in t.lower()]), label='YouTube')"
   ]
  },
  {
   "cell_type": "code",
   "execution_count": 23,
   "id": "2649c14d",
   "metadata": {},
   "outputs": [
    {
     "name": "stdout",
     "output_type": "stream",
     "text": [
      "## Instagram ## (0 tabs)\n",
      "\n"
     ]
    }
   ],
   "source": [
    "print_tabs(sorted([t for t in tabs if 'instagram.com' in t.lower()]), label='Instagram')"
   ]
  },
  {
   "cell_type": "code",
   "execution_count": 24,
   "id": "ab0e02f2-e275-486f-98d3-37d3218dc821",
   "metadata": {},
   "outputs": [
    {
     "name": "stdout",
     "output_type": "stream",
     "text": [
      "## Asana ## (0 tabs)\n",
      "\n"
     ]
    }
   ],
   "source": [
    "print_tabs(sorted([t for t in tabs if 'app.asana.com' in t.lower()]), label='Asana')"
   ]
  },
  {
   "cell_type": "code",
   "execution_count": 25,
   "id": "bc70c265",
   "metadata": {},
   "outputs": [
    {
     "name": "stdout",
     "output_type": "stream",
     "text": [
      "## Other ## (31 tabs)\n",
      "\n",
      "https://www.beren.io/2023-01-21-gradient-hacking-extremely-difficult/ | Gradient Hacking is extremely difficult.\n",
      "https://www.danieldewey.net/risk/applications.html | Applications of high-capability models\n",
      "https://arxiv.org/abs/2303.09387 | [2303.09387] Characterizing Manipulation from AI Systems\n",
      "https://www.forourposterity.com/response-to-tyler-cowen-on-ai-risk/ | Response to Tyler Cowen on AI risk\n",
      "https://thezvi.substack.com/p/response-to-tyler-cowens-existential | Response to Tyler Cowen's Existential risk, AI, and the inevitable turn in human history\n",
      "https://www.danieldewey.net/risk/estimates.html | Fermi estimate of future training runs\n",
      "https://www.alignmentforum.org/posts/mJ5oNYnkYrd4sD5uE/clarifying-some-key-hypotheses-in-ai-alignment | Clarifying some key hypotheses in AI alignment - AI Alignment Forum\n",
      "https://www.alignmentforum.org/s/aERZoriyHfCqvWkzg | Modeling Transformative AI Risk (MTAIR) - AI Alignment Forum\n",
      "https://80000hours.org/articles/what-could-an-ai-caused-existential-catastrophe-actually-look-like/ | What could an AI-caused existential catastrophe actually look like? - 80,000 Hours\n",
      "https://garymarcus.substack.com/p/gpt-4s-successes-and-gpt-4s-failures | GPT-4’s successes, and GPT-4’s failures - by Gary Marcus\n",
      "https://aiimpacts.org/how-bad-a-future-do-ml-researchers-expect/ | How bad a future do ML researchers expect? – AI Impacts\n",
      "https://www.planned-obsolescence.org/situational-awareness/ | Situational awareness\n",
      "https://epochai.org/blog/literature-review-of-transformative-artificial-intelligence-timelines | Literature review of Transformative Artificial Intelligence timelines\n",
      "https://www.cold-takes.com/how-we-could-stumble-into-ai-catastrophe/ | How we could stumble into AI catastrophe\n",
      "https://arxiv.org/pdf/2304.05332.pdf | Emergent autonomous scientific research capabilities of large language models\n",
      "https://www.planned-obsolescence.org/aligned-vs-good/ | \"Aligned\" shouldn't be a synonym for \"good\"\n",
      "https://www.metacausal.com/givewells-uncertainty-problem/ | GiveWell’s Uncertainty Problem – MetaCausal\n",
      "https://astralcodexten.substack.com/p/why-i-am-not-as-much-of-a-doomer | (3) Why I Am Not (As Much Of) A Doomer (As Some People)\n",
      "https://gwern.net/tool-ai | Why Tool AIs Want to Be Agent AIs · Gwern.net\n",
      "https://www.planned-obsolescence.org/the-training-game/ | Playing the training game\n",
      "https://www.alignmentforum.org/s/fSMbebQyR4wheRrvk | The Causes of Power-seeking and Instrumental Convergence - AI Alignment Forum\n",
      "https://cdn.openai.com/papers/gpt-4.pdf | gpt-4.pdf\n",
      "https://www.danieldewey.net/risk/case.html | The case for risk\n",
      "https://openai.com/blog/planning-for-agi-and-beyond?fbclid=IwAR2j3YfgY3Mih_KFJxd35BwZWIGfmBBGsWTQsaHbAyWvaVHxgLH2febaEr4 | Planning for AGI and beyond\n",
      "https://www.danieldewey.net/risk/ | About this site\n",
      "https://www.nytimes.com/2023/03/12/opinion/chatbots-artificial-intelligence-future-weirdness.html | Opinion  This Changes Everything - The New York Times\n",
      "https://www.vox.com/future-perfect/23564571/effective-altruism-sam-bankman-fried-holden-karnofsky-ai | How to reform effective altruism after Sam Bankman-Fried - Vox\n",
      "https://muddyclothes.substack.com/p/is-china-overhyped-as-an-ai-superpower | Is China overhyped as an AI superpower? - by Julian\n",
      "https://bounded-regret.ghost.io/principles-for-productive-group-meetings/ | Principles for Productive Group Meetings\n",
      "https://fortune.com/longform/chatgpt-openai-sam-altman-microsoft/ | The inside story of ChatGPT: How OpenAI founder Sam Altman built the world’s hottest technology with billions from Microsoft  Fortune\n",
      "https://arxiv.org/abs/2211.03157 | [2211.03157] Examining the Differential Risk from High-level Artificial Intelligence and the Question of Control\n"
     ]
    }
   ],
   "source": [
    "tabs_ = [t for t in tabs if (not ('google.com' in t.lower() and 'search' in t.lower() and not ('docs.google' in t.lower() or 'sheets.google' in t.lower())) and\n",
    "                             not ('docs.google' in t.lower() or 'sheets.google' in t.lower() or 'drive.google' in t.lower()) and\n",
    "                             not 'facebook.com' in t.lower() and\n",
    "                             not 'twitter.com' in t.lower() and\n",
    "                             not ('forum.effectivealtruism' in t.lower() or 'lesswrong' in t.lower()) and\n",
    "                             not ('metaculus' in t.lower() or 'manifold' in t.lower() or 'predictit' in t.lower()) and\n",
    "                             not ('wikipedia' in t.lower() or 'wikiwand' in t.lower()) and\n",
    "                             not 'reddit' in t.lower() and\n",
    "                             not 'instagram.com' in t.lower() and\n",
    "                             not ('guarded-everglades-89687.herokuapp.com' in t.lower() or 'localhost' in t.lower()) and\n",
    "                             not 'instacart' in t.lower() and\n",
    "                             not ('morning' in t.lower() and 'dispatch' in t.lower()) and\n",
    "                             not 'amazon.com' in t.lower() and\n",
    "                             not 'github' in t.lower() and\n",
    "                             not 'calendar.google' in t.lower() and\n",
    "                             not 'yout' in t.lower() and\n",
    "                             not 'app.asana.com' in t.lower() and\n",
    "                             not ('messages/' in t.lower() or 'inbox/' in t.lower() or 'mail.google' in t.lower() or 'swapcard' in t.lower()))]\n",
    "tabs_ = sorted(tabs_)\n",
    "print_tabs(tabs_, label='Other')\n",
    "\n"
   ]
  },
  {
   "cell_type": "code",
   "execution_count": 26,
   "id": "c9a2a7bb-86f9-45bd-b8d6-ed8889caed90",
   "metadata": {},
   "outputs": [],
   "source": [
    "#open_tabs(tabs_, page=1, per_page=60)"
   ]
  },
  {
   "cell_type": "code",
   "execution_count": 27,
   "id": "6c128ee3-03e2-4cfb-bfd1-0dfc84775af1",
   "metadata": {},
   "outputs": [
    {
     "name": "stdout",
     "output_type": "stream",
     "text": [
      "## Shuffled all tabs ## (99 tabs)\n",
      "\n",
      "https://openai.com/blog/planning-for-agi-and-beyond?fbclid=IwAR2j3YfgY3Mih_KFJxd35BwZWIGfmBBGsWTQsaHbAyWvaVHxgLH2febaEr4 | Planning for AGI and beyond\n",
      "https://twitter.com/Wertwhile/status/1609177422074896386 | Joel Wertheimer on Twitter: \"Have so many complaints about this article I don't know where to begin. https://t.co/qWsSZR3sAs\" / Twitter\n",
      "https://cdn.openai.com/papers/gpt-4.pdf | gpt-4.pdf\n",
      "https://docs.google.com/document/d/1rbF7L5zUnRuzZu3TOhUw6JssgD8yhPHsFgYzlX_4F4A/edit | Ryan's thoughts on the future of EA (Feb 2023) - Google Docs\n",
      "https://docs.google.com/document/d/1DnzXUUgVrkAMQivwv3u46UKDaxoJUOqTbZkTF_e9Pvk/edit | CLTP <> Michael Aird - 2023-Feb-20 - misc AI gov & China stuff - Google Docs\n",
      "https://twitter.com/benskuhn/status/1630611607029157888 | Ben Kuhn on Twitter: \"A lot of talk about managing focuses on \"decisionmaking\": how to run decision meetings, who gets to sign off on what, how they flow up + down the hierarchy... But IMO, management isn't (mainly) about decisions; it's about understanding and tweaking a complex system (of people).\" / Twitter\n",
      "https://www.alignmentforum.org/s/fSMbebQyR4wheRrvk | The Causes of Power-seeking and Instrumental Convergence - AI Alignment Forum\n",
      "https://docs.google.com/document/d/12yOxzRW8hrEVR_wUXtGDmOmwjm94DTgWBnfDC5v-pXU/edit?pli=1#heading=h.hbn3g4b3o4xg | Longtermism (LT) hiring - standing meetings - 2022-2023 - Google Docs\n",
      "https://docs.google.com/document/d/1c1IaJxkQcHTy5VgJyWc569mlznWFJI69Wv9b6i6l9Bw/edit | 2023.03.15 (Mar) Chris Byrd <> Shaun Ee - Google Docs\n",
      "https://astralcodexten.substack.com/p/why-i-am-not-as-much-of-a-doomer | (3) Why I Am Not (As Much Of) A Doomer (As Some People)\n",
      "https://docs.google.com/document/d/1Weh2vqYRT-l1SpuufyZ4_ldNoOuIg8QodpNskkYG04U/edit#heading=h.g2je2be7j07v | Backgrounder on US Natsec & AI - Google Docs\n",
      "https://www.planned-obsolescence.org/situational-awareness/ | Situational awareness\n",
      "https://docs.google.com/document/d/1Z4sam-7rOxDgrYOkEj60CdGf1HsBmA_1y5P9LphB96M/edit | Introductory email for AI adversarial collaboration project (\"AI concerned\" camp) - Google Docs\n",
      "https://www.danieldewey.net/risk/estimates.html | Fermi estimate of future training runs\n",
      "https://github.com/rethinkpriorities/RP-Visualising-Uncertainty-Jamie-Elsey-Workshop | rethinkpriorities/RP-Visualising-Uncertainty-Jamie-Elsey-Workshop: Code to accompany the visualising uncertainty workshop\n",
      "https://www.alignmentforum.org/posts/mJ5oNYnkYrd4sD5uE/clarifying-some-key-hypotheses-in-ai-alignment | Clarifying some key hypotheses in AI alignment - AI Alignment Forum\n",
      "https://www.nytimes.com/2023/03/12/opinion/chatbots-artificial-intelligence-future-weirdness.html | Opinion  This Changes Everything - The New York Times\n",
      "https://docs.google.com/document/d/10_Co_t2cduhCWri7bw7Pm7iMMKUNvEjw0dEyMOEYMwE/edit#heading=h.9bdgewen2wef | [second draft] Updated prioritisation model + process - Google Docs\n",
      "https://www.metacausal.com/givewells-uncertainty-problem/ | GiveWell’s Uncertainty Problem – MetaCausal\n",
      "https://docs.google.com/document/d/1NA06JZz1gBLa9O4N3_1tlTvBLWy6X19Z--2gzQ_qkdk/edit | USG & natsec AI interest trends [WiP] - Google Docs\n",
      "https://docs.google.com/document/d/1bHqfiyi7_xMRFDPJ2P-pPuNg0Cofez-MOXnIdzaEdsI/edit#heading=h.42dwpl3d3ux7 | AA: Summary of Feb 2023 ESS evals plan discn - Google Docs\n",
      "https://forum.effectivealtruism.org/posts/JQxvZZdPG5KYjyBfg/four-mindset-disagreements-behind-existential-risk | Four mindset disagreements behind existential risk disagreements in ML - EA Forum\n",
      "https://muddyclothes.substack.com/p/is-china-overhyped-as-an-ai-superpower | Is China overhyped as an AI superpower? - by Julian\n",
      "https://docs.google.com/document/d/1U-XKyrYLv_RbqkrUwaz39lyCuaRlXagvfAdWrdbf8iE/edit#heading=h.1t59s1ygweog | Sketching a TAI scenario and backchaining to useful actions - Google Docs\n",
      "https://twitter.com/markets/status/1635731307908005895 | Bloomberg Markets on Twitter: \"Adept has raised $350 million to develop AI tools that can actually execute commands based on human prompts instead of giving written responses https://t.co/OYBwRDdbj3\" / Twitter\n",
      "https://twitter.com/robbensinger/status/1643342330290913280 | Rob Bensinger 🔍 on Twitter: \"I've been citing https://t.co/jVrdg2mIgz to explain why the situation with AI looks doomy to me. But that post is relatively long, and emphasizes specific open technical problems over \"the basics\". Here are 10 things I'd focus on if I were giving \"the basics\" on why I'm worried:\" / Twitter\n",
      "https://docs.google.com/document/d/1YlXUQsLd8Dxzwqn02Pxuq29eSNVyqpXeCgHMchRYkPw/edit#heading=h.lezt7bwaw70q | Notes - Special Projects / Longtermism teams sync - Google Docs\n",
      "https://arxiv.org/abs/2211.03157 | [2211.03157] Examining the Differential Risk from High-level Artificial Intelligence and the Question of Control\n",
      "https://arxiv.org/abs/2303.09387 | [2303.09387] Characterizing Manipulation from AI Systems\n",
      "https://docs.google.com/document/d/1Y9P87JK5w6dRTeCxKjWiRt44_h9lkLOde8FMFOOEIr4/edit#heading=h.b8kzjwotdq3z | [Shareable] Red-teaming longtermist AI governance - LAISR session - Google Docs\n",
      "https://www.danieldewey.net/risk/ | About this site\n",
      "https://www.forourposterity.com/response-to-tyler-cowen-on-ai-risk/ | Response to Tyler Cowen on AI risk\n",
      "https://docs.google.com/document/d/1azmoDCGM_DsgHZNwlnnXxxJcTMK0OA6xRU4XRd9W1_k/edit# | Ashwin <> Hjalmar Wijk on evals & policy, Feb 2023 - Google Docs\n",
      "https://80000hours.org/articles/what-could-an-ai-caused-existential-catastrophe-actually-look-like/ | What could an AI-caused existential catastrophe actually look like? - 80,000 Hours\n",
      "https://docs.google.com/document/d/1UOUK8hMxDD0WlM6jEbjI9dWyC73yulOEtoU2MWYaooA/edit#heading=h.tufvzyw73c4q | Updates on AIGS team strategy etc. [April 2023; DRAFT] - Google Docs\n",
      "https://twitter.com/daniel_eth/status/1635885011365957632 | Daniel Eth💡 on Twitter: \"Finally getting around to reading this. Will update my reactions as I go\" / Twitter\n",
      "https://docs.google.com/document/d/1xHmHPsfrYgUhjpCYotzVE78l1RWS7ddtjU85A6GIYUY/edit#heading=h.bvjsvl1l7r2e | Will misaligned APS systems seek power dangerously if deployed? - Google Docs\n",
      "https://www.alignmentforum.org/s/aERZoriyHfCqvWkzg | Modeling Transformative AI Risk (MTAIR) - AI Alignment Forum\n",
      "https://docs.google.com/document/d/1kKNiwm-B9vzkm4imFI1ibebWlDi6CgbwzJiFcBGUJPw/edit#heading=h.ti0ljcr7nv6c | [Shareable] LAISR Q&A with people who know about US policymaking - Google Docs\n",
      "https://bounded-regret.ghost.io/principles-for-productive-group-meetings/ | Principles for Productive Group Meetings\n",
      "https://www.metaculus.com/questions/3608/will-the-majority-of-leading-cosmologists-in-2030-agree-that-the-evidence-points-to-an-accelerating-universe/ | Cosmologists Favor Universe Acceleration  Metaculus\n",
      "https://fortune.com/longform/chatgpt-openai-sam-altman-microsoft/ | The inside story of ChatGPT: How OpenAI founder Sam Altman built the world’s hottest technology with billions from Microsoft  Fortune\n",
      "https://docs.google.com/document/d/17FQtd1G26QGIWenU7I92tqbGNy0E7cnBz594F8lJOpI/edit | Project ideas: “Primers” on the internal organizational structure of leading AI labs and/or on x-risk-concerned people’s social/political capital with AI labs - Google Docs\n",
      "https://docs.google.com/document/d/1g62sD3yhBeuEhjJFMzLu_5-QC73bkSiGrXV_NknhsHE/edit#heading=h.fctpogr60cwp | Jannik Schilling <> Ben 2023-03-27 - Google Docs\n",
      "https://epochai.org/blog/literature-review-of-transformative-artificial-intelligence-timelines | Literature review of Transformative Artificial Intelligence timelines\n",
      "https://docs.google.com/document/d/1qwKUWu1aa1rikW3zlCPPvPXdS4upsarkJe8-JwcE4tY/edit#heading=h.z6v8ty7j4wlh | You don't have to be that risk-averse to prefer GHW to LT (Final - Shared with Jason) - Google Docs\n",
      "https://www.vox.com/future-perfect/23564571/effective-altruism-sam-bankman-fried-holden-karnofsky-ai | How to reform effective altruism after Sam Bankman-Fried - Vox\n",
      "https://www.danieldewey.net/risk/case.html | The case for risk\n",
      "https://docs.google.com/document/d/13nQfzNRJrB1-hMxxQgCjp6TIrdLvSIJFDH7X9xd8AWk/edit#heading=h.il6vz7ptaefx | Caleb/Renan on movement building research - Google Docs\n",
      "https://www.lesswrong.com/posts/AfGmsjGPXN97kNp57/arguments-about-fast-takeoff | Arguments about fast takeoff - LessWrong\n",
      "https://twitter.com/messages/25776739-103418485 | Joel Becker / Twitter\n",
      "https://docs.google.com/document/d/1dAJRHDgEgDA20k6YsGkzPVWk-BAyzKcmA6bfH20-ajc/edit | [*MASTER*] Independent researcher infrastructure (last updated: 2023-02-22)\n",
      "https://docs.google.com/spreadsheets/d/1XVeiYoKjG-wQWdR3LGlXCVMCAKqgASx-aFoeiiaKSrM/edit#gid=100554351 | [PUBLIC] Historical metrics by programme (Static 2022 version) - Google Sheets\n",
      "https://docs.google.com/document/d/1E94xR3U2kxdBKql0gZtnhzxHiN0lJ2yByAaXGd9VE5M/edit#heading=h.j7w06lr7knz3 | Ashwin: Red-teaming the evals/regulation plan [RP copy] - Google Docs\n",
      "https://docs.google.com/document/d/1SbGV0Nc-Nh6WYkTNQ7QUxnbi9kRw0XsMwSqmBk0U0eM/edit | [Private] EAIF Vision and Scope - Google Docs\n",
      "https://www.lesswrong.com/posts/uMQ3cqWDPHhjtiesc/agi-ruin-a-list-of-lethalities | AGI Ruin: A List of Lethalities - LessWrong\n",
      "https://docs.google.com/document/d/18taVUahU3V91ObOok87GqJExoLJbwYTHvkWPqWOTRjw/edit | Ben Garfinkel <> Michael Aird - 2023 meetings\n",
      "https://docs.google.com/document/d/1idfbvEpsxrFTGflCErTPZ_NiXjeqPhfwBrJBce1P_Yw/edit#heading=h.mj0jmgv3ic64 | Will Humanity Choose Its Future? v4 - Google Docs\n",
      "https://twitter.com/boazbaraktcs/status/1646524501855981569 | https://twitter.com/boazbaraktcs/status/1646524501855981569\n",
      "https://www.danieldewey.net/risk/applications.html | Applications of high-capability models\n",
      "https://www.cold-takes.com/how-we-could-stumble-into-ai-catastrophe/ | How we could stumble into AI catastrophe\n",
      "https://www.lesswrong.com/posts/mSF4KTxAGRG3EHmhb/ai-x-risk-approximately-ordered-by-embarassment | AI x-risk, approximately ordered by embarrassment - LessWrong\n",
      "https://docs.google.com/document/d/1KLvbDEe-LK5648p-TLyxpz9tXt5lioGmGQUrQThAeFY/edit | Thoughts on Evals and a nearcast - Google Docs\n",
      "https://docs.google.com/document/d/1DmqsdeqncXV6knbdRxDYl-PDJ3y0lYI_YWXFzzOBxS8/edit | Project idea: Collection of actions it might be good for AI labs to take - Google Docs\n",
      "https://docs.google.com/document/d/1bMXGnKUjy9qGV7u336ScagAHLgbaLHqsNfUXVE7L6G0/edit#heading=h.pqlvjrmba57q | 2023-02 TAI Timelines Workshops - Winter Fellows 2023 - Google Docs\n",
      "https://forum.effectivealtruism.org/posts/L8GjzvRYA9g9ox2nP/prospects-for-ai-safety-agreements-between-countries | Prospects for AI safety agreements between countries - EA Forum\n",
      "https://docs.google.com/document/d/1Cw7uFMoA-qMfGDEqDqtvEU0osfenPZjzEjskA6T-XEA/edit | Research note: AI for Chemical & Materials Engineering (ACME) - Google Docs\n",
      "https://github.com/tadamcz/timing-spend-down-copy-for-rethink-priorities | tadamcz/timing-spend-down-copy-for-rethink-priorities: A copy shared with some rethink priorities staff for my job application.\n",
      "https://docs.google.com/document/d/1n-FGenzNuyR0TaqoAd8vckrzZWVZg1zHUbjnd0_rFbI/edit#heading=h.pobicrnq8r4a | [Shareable] LAISR next steps planning - outreach to non-ODA labs - Google Docs\n",
      "https://twitter.com/dylan522p/status/1628797563007811585 | Dylan Patel on Twitter: \"Meta's internal data shows that they are growing compute and datacenter infrastructure faster than Google and Microsoft! A higher percentage of their capex is spent on servers, and so compute energy footprint is growing faster, despite lower spend. Their PUE is &lt;1.1, so it's not… https://t.co/Nikto4prZV\" / Twitter\n",
      "https://docs.google.com/document/d/1xvHKqFh3ei1PKwreYl2NqoFADJ_YJEGkSvfH_Yhm8hY/edit#heading=h.rwgntok8za31 | [DRAFT] Report: how much are ML-focused companies spending on compute? - Google Docs\n",
      "https://www.planned-obsolescence.org/the-training-game/ | Playing the training game\n",
      "https://www.beren.io/2023-01-21-gradient-hacking-extremely-difficult/ | Gradient Hacking is extremely difficult.\n",
      "https://docs.google.com/document/d/1A-W3ahsV3DspgnEk7iRXlyctkL0D0kwgP09OGFRu5BI/edit | Examining pathways from narrow AI to nuclear war - Google Docs\n",
      "https://garymarcus.substack.com/p/gpt-4s-successes-and-gpt-4s-failures | GPT-4’s successes, and GPT-4’s failures - by Gary Marcus\n",
      "https://docs.google.com/document/d/1hKZNRSLm7zubKZmfA7vsXvkIofprQLGUoW43CYXPRrk/edit | Some Key Ways in Which I've Changed My Mind Over the Last Several Years - Google Docs\n",
      "https://twitter.com/NathanpmYoung/status/1640302031855403010 | Nathan 🔍 on Twitter: \"What questions would you like about AI that resolve in the next two years? I'd like to write some. Some examples: https://t.co/ezG76Di5X2\" / Twitter\n",
      "https://docs.google.com/document/d/1_Z5LXkGT1aKTzZH6E8XIBJ683tTJp7_9SA5NvgLabcQ/edit | SH - memos for Summit on Existential Security - Google Docs\n",
      "https://github.com/washingtonpost/elex-live-model | washingtonpost/elex-live-model: a model to generate estimates of the number of outstanding votes on an election night based on the current results of the race\n",
      "https://www.lesswrong.com/posts/QBTdEyL3tDaJY3LNa/ai-kills-everyone-scenarios-require-robotic-infrastructure | AI-kills-everyone scenarios require robotic infrastructure, but not necessarily nanotech - LessWrong\n",
      "https://gwern.net/tool-ai | Why Tool AIs Want to Be Agent AIs · Gwern.net\n",
      "https://docs.google.com/document/d/1SllbtZBSPac_rbX0sgLR4clafB9pH_CeuNFJmejiFLc/edit | Critical AI Paper Draft - Google Docs\n",
      "https://docs.google.com/document/d/1VU0iNEmXAfwdU0JpTzd116uztD0ykRhw5MXBXGaQlqQ/edit | Giving Green reflection\n",
      "https://arxiv.org/pdf/2304.05332.pdf | Emergent autonomous scientific research capabilities of large language models\n",
      "https://twitter.com/labenz/status/1646508947669393408 | Nathan Labenz on Twitter: \"I’ve said “GPT-4 can’t do science”, but this new paper says it can “Emergent autonomous scientific research capabilities of LLMs” This would be the first GPT-4 capability that I tried &amp; failed to demonstrate during Red Team testing Will report back! https://t.co/pdkEqC7NAz\" / Twitter\n",
      "https://docs.google.com/document/d/1S7W6ICDO6YYNx4D3XxYMq3hUzbYEMI9rMRUeo_jZ57Y/edit#heading=h.aqlr4k5imil3 | Tentative practical tips for using chatbots in research - Google Docs\n",
      "https://www.lesswrong.com/posts/bwyKCQD7PFWKhELMr/by-default-gpts-think-in-plain-sight?commentId=zfzHshctWZYo8JkLe | By Default, GPTs Think In Plain Sight - LessWrong\n",
      "https://github.com/laurakduffy/risk_ambiguity_model | laurakduffy/risk_ambiguity_model\n",
      "https://twitter.com/WilliamAEden/status/1630690003830599680 | William Eden on Twitter: \"My Twitter timeline is full of panicked takes about imminent AI apocalypse and certain doom. I think this is starting to get overplayed, and so I want to make a long thread about why I'm personally not worried yet. Get ready for a big one... 1/n\" / Twitter\n",
      "https://docs.google.com/document/d/1lC-rIXME-GD1AImZ80b9eP61sroZy8mooLnSeHNgYzM/edit#heading=h.ftvusubre6rz | Brainstorming on RP as a brand - Google Docs\n",
      "https://docs.google.com/document/d/1FmCK6rpAv2uAqgZzIxI1Jm2ga0bOgHS_u6WFDx_Blgo/edit#heading=h.bcufhgg27mdc | PATCH scenario [shared outside RP] - Google Docs\n",
      "https://docs.google.com/document/d/1idQ5AVMaO94fE26z61kKyVq88WRBGg8RaTqpB9DTmkc/edit#heading=h.s4dbr54ymvcl | [v. C] Theories of victory for AI governance – Survey on intermediate goals in AI governance - Google Docs\n",
      "https://aiimpacts.org/how-bad-a-future-do-ml-researchers-expect/ | How bad a future do ML researchers expect? – AI Impacts\n",
      "https://docs.google.com/document/d/19L0k0B0-0gW7t96Q-hpNIknCEry57Hklgt2FXFDUH78/edit#heading=h.mak2h8fgpqe9 | [SES copy] Misuse of AI should be a core priority in AI risk reduction - Google Docs\n",
      "https://www.planned-obsolescence.org/aligned-vs-good/ | \"Aligned\" shouldn't be a synonym for \"good\"\n",
      "https://thezvi.substack.com/p/response-to-tyler-cowens-existential | Response to Tyler Cowen's Existential risk, AI, and the inevitable turn in human history\n",
      "https://docs.google.com/document/d/16GQ2FbwF-GWG28wzFg6gTlAVRYHbGIzwMTC6egPXnMg/edit | [work in progress] Project plan: Project idea research for incubation - Google Docs\n",
      "https://docs.google.com/document/d/1e0dlTw724dCpZKVuw53s2lWoMMlY9SGBvKCWeBhMdNM/edit | Some hot takes from Marcus that we should consider - Google Docs\n",
      "https://docs.google.com/document/d/1Yzdr7sW716VveShglkfTOYcoYyQOR06yUC2ldMDjJu4/edit | Toward trustworthy AGI projects [2022-09-26 draft] - Google Docs\n"
     ]
    }
   ],
   "source": [
    "random.shuffle(tabs)\n",
    "print_tabs(tabs, label='Shuffled all tabs')"
   ]
  },
  {
   "cell_type": "code",
   "execution_count": null,
   "id": "8c875f10-ecdd-43fd-b849-196c6bd1977f",
   "metadata": {},
   "outputs": [],
   "source": []
  }
 ],
 "metadata": {
  "kernelspec": {
   "display_name": "Python 3 (ipykernel)",
   "language": "python",
   "name": "python3"
  },
  "language_info": {
   "codemirror_mode": {
    "name": "ipython",
    "version": 3
   },
   "file_extension": ".py",
   "mimetype": "text/x-python",
   "name": "python",
   "nbconvert_exporter": "python",
   "pygments_lexer": "ipython3",
   "version": "3.9.16"
  }
 },
 "nbformat": 4,
 "nbformat_minor": 5
}
