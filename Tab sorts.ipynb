{
 "cells": [
  {
   "cell_type": "code",
   "execution_count": 1,
   "id": "40568205",
   "metadata": {},
   "outputs": [
    {
     "name": "stdout",
     "output_type": "stream",
     "text": [
      "Loaded\n"
     ]
    }
   ],
   "source": [
    "import random\n",
    "import numpy as np\n",
    "import webbrowser\n",
    "\n",
    "from copy import copy\n",
    "\n",
    "\n",
    "def print_tabs(tabs, label=None):\n",
    "    if label:\n",
    "        print('## {} ## ({} tabs)'.format(label, len(tabs)))\n",
    "    else:\n",
    "        print('({} tabs)'.format(len(tabs)))\n",
    "    print('')\n",
    "    for tab in tabs:\n",
    "        print(tab.replace('\\n', ''))\n",
    "    return None\n",
    "\n",
    "\n",
    "def open_tab(tab):\n",
    "    url = tab.split('|')[0].replace(' ', '')\n",
    "    webbrowser.open(url, new=2, autoraise=False)\n",
    "    \n",
    "    \n",
    "def open_tabs(tabs, page=1, per_page=10):\n",
    "    page_start = (page - 1) * per_page\n",
    "    total_pages = int(np.ceil(len(tabs) / per_page))\n",
    "    if page > total_pages:\n",
    "        raise ValueError('Cannot open page {}, only have {} pages'.format(page, total_pages))\n",
    "    page_end = page * per_page\n",
    "    if page_end > len(tabs):\n",
    "        page_end = len(tabs)\n",
    "    paged_tabs = tabs[page_start:page_end]\n",
    "    print('Opening page {}/{} (tabs {}-{} of {})'.format(page, total_pages, page_start, page_end, len(tabs)))\n",
    "    \n",
    "    for tab in paged_tabs:\n",
    "        open_tab(tab)\n",
    "\n",
    "        \n",
    "def open_random_n_tabs(tabs, n=5):\n",
    "    tabs = random.sample(tabs, len(tabs))\n",
    "    open_tabs(tabs, page=1, per_page=n)\n",
    "    return tabs[5:]\n",
    "\n",
    "        \n",
    "print('Loaded')"
   ]
  },
  {
   "cell_type": "code",
   "execution_count": 2,
   "id": "1ffe9c7f",
   "metadata": {},
   "outputs": [
    {
     "name": "stdout",
     "output_type": "stream",
     "text": [
      "305\n",
      "300\n",
      "294\n"
     ]
    }
   ],
   "source": [
    "tab_file = open('/Users/peterhurford/Documents/alltabs.txt', 'r')\n",
    "tabs = tab_file.readlines()\n",
    "print(len(tabs))\n",
    "\n",
    "tabs = [t for t in tabs if t != '\\n']\n",
    "print(len(tabs))\n",
    "\n",
    "tabs = sorted(list(set(tabs)))\n",
    "print(len(tabs))"
   ]
  },
  {
   "cell_type": "code",
   "execution_count": 3,
   "id": "df44f938",
   "metadata": {
    "scrolled": true
   },
   "outputs": [
    {
     "name": "stdout",
     "output_type": "stream",
     "text": [
      "## Messages ## (9 tabs)\n",
      "\n",
      "https://forum.effectivealtruism.org/inbox/qzFjHCDYvxwZGNeWR | Private Conversation - EA Forum\n",
      "https://mobile.twitter.com/messages/25776739-103418485 | https://mobile.twitter.com/messages/25776739-103418485\n",
      "https://mobile.twitter.com/messages/25776739-499352655 | https://mobile.twitter.com/messages/25776739-499352655\n",
      "https://mobile.twitter.com/messages/25776739-749003563494354945 | https://mobile.twitter.com/messages/25776739-749003563494354945\n",
      "https://mobile.twitter.com/messages/25776739-954085086160289792 | https://mobile.twitter.com/messages/25776739-954085086160289792\n",
      "https://twitter.com/messages/25776739-1430484500837015552 | Ege Erdil / Twitter\n",
      "https://twitter.com/messages/25776739-1551581042259132418 | John Stuart is Chilling in NYC / Twitter\n",
      "https://twitter.com/messages/25776739-499352655 | Grace Adams / Twitter\n",
      "https://twitter.com/messages/25776739-749003563494354945 | iabvek / Twitter\n"
     ]
    }
   ],
   "source": [
    "print_tabs([t for t in tabs if ('messages/' in t.lower() or 'inbox/' in t.lower() or 'mail.google' in t.lower() or 'swapcard' in t.lower())], label='Messages')\n"
   ]
  },
  {
   "cell_type": "code",
   "execution_count": 4,
   "id": "89c2b367",
   "metadata": {},
   "outputs": [
    {
     "name": "stdout",
     "output_type": "stream",
     "text": [
      "## Facebook ## (3 tabs)\n",
      "\n",
      "https://www.facebook.com/groups/4046231355400586/?multi_permalinks=6078034145553620&hoisted_section_header_type=recently_seen | Highly Speculative EA Capital Accumulation | Facebook\n",
      "https://www.facebook.com/nora.ammann.9/posts/pfbid02wV52z2ELPi5dTpMoh6aSogDHBJpuG71aGGBLF2as4pRtc2W2QYk8gtKJmgEVYcEUl | (1) Facebook\n",
      "https://www.facebook.com/spencer.greenberg/posts/pfbid0QkKp7fCPHEy3AS7gfeijgB8GvmwjvPHqtt2Xb6NG3DwK5gnq3smKFGunnn8hmwPHl | (1) Facebook\n"
     ]
    }
   ],
   "source": [
    "print_tabs([t for t in tabs if 'facebook.com' in t.lower() and 'messages' not in t.lower()], label='Facebook')"
   ]
  },
  {
   "cell_type": "code",
   "execution_count": 5,
   "id": "f6d6e211",
   "metadata": {},
   "outputs": [
    {
     "name": "stdout",
     "output_type": "stream",
     "text": [
      "## Twitter ## (121 tabs)\n",
      "\n",
      "https://mobile.twitter.com/AiEleuther/status/1608579066076213248 | EleutherAI on Twitter: \"A common meme in the AI world is that responsible AI means locking AIs up so that nobody can study their strengths and weaknesses. We disagree: if there is going to be LLM products by companies like OpenAI and Google then independent researchers must be able to study them.\" / Twitter\n",
      "https://mobile.twitter.com/AlanMCole/status/1592896538485088256 | https://mobile.twitter.com/AlanMCole/status/1592896538485088256\n",
      "https://mobile.twitter.com/BenDWalsh/status/1609725346001350663 | https://mobile.twitter.com/BenDWalsh/status/1609725346001350663\n",
      "https://mobile.twitter.com/BirdAppKJ/status/1609720387117678592 | https://mobile.twitter.com/BirdAppKJ/status/1609720387117678592\n",
      "https://mobile.twitter.com/DavidSacks/status/1608605934607282176 | https://mobile.twitter.com/DavidSacks/status/1608605934607282176\n",
      "https://mobile.twitter.com/Domahhhh/status/1609704065084030976 | Domer on Twitter: \"@peterwildeford Man alive, I think pretty much every single major prediction here is insane.\" / Twitter\n",
      "https://mobile.twitter.com/ECaliberSeven/status/1609683949038751745 | https://mobile.twitter.com/ECaliberSeven/status/1609683949038751745\n",
      "https://mobile.twitter.com/EzraJNewman/status/1609655716528402432 | https://mobile.twitter.com/EzraJNewman/status/1609655716528402432\n",
      "https://mobile.twitter.com/JgaltTweets/status/1608999446766919682 | https://mobile.twitter.com/JgaltTweets/status/1608999446766919682\n",
      "https://mobile.twitter.com/Kat__Woods/status/1608585165269512218 | Kat Woods on Twitter: \"As a wise woman once said: to have more drugs, you must have less drugs bc tolerance is a b*tch If you love coffee, only drink it 1x a week ☕️ This makes it so you don't have a really high tolerance so you actually 𝘧𝘦𝘦𝘭 the effects (energy, joy) 🧵 https://t.co/Vbq1P0s7lH\" / Twitter\n",
      "https://mobile.twitter.com/LoganR2WH/status/1609762902457700357 | https://mobile.twitter.com/LoganR2WH/status/1609762902457700357\n",
      "https://mobile.twitter.com/Nichlemn/status/1608658760016474112 | https://mobile.twitter.com/Nichlemn/status/1608658760016474112\n",
      "https://mobile.twitter.com/Noahpinion/status/1609304341944635392 | https://mobile.twitter.com/Noahpinion/status/1609304341944635392\n",
      "https://mobile.twitter.com/Peter_0_0_g/status/1609701220028932098 | https://mobile.twitter.com/Peter_0_0_g/status/1609701220028932098\n",
      "https://mobile.twitter.com/RStateBState/status/1608662339116761090 | RedStateBlueState (280 character version) on Twitter: \"@iabvek @peterwildeford @TrevorVossberg @Nichlemn @NathanpmYoung @SBF_FTX Read the thread\" / Twitter\n",
      "https://mobile.twitter.com/Robert_Graboyes/status/1609300967152910336 | https://mobile.twitter.com/Robert_Graboyes/status/1609300967152910336\n",
      "https://mobile.twitter.com/SpecialPuppy1/status/1609717455881904130 | https://mobile.twitter.com/SpecialPuppy1/status/1609717455881904130\n",
      "https://mobile.twitter.com/TrevorVossberg/status/1608658003582128130 | https://mobile.twitter.com/TrevorVossberg/status/1608658003582128130\n",
      "https://mobile.twitter.com/TrevorVossberg/status/1608658903558127618 | https://mobile.twitter.com/TrevorVossberg/status/1608658903558127618\n",
      "https://mobile.twitter.com/Willyintheworld/status/1608564183766913025 | https://mobile.twitter.com/Willyintheworld/status/1608564183766913025\n",
      "https://mobile.twitter.com/abarber1/status/1609699295317622784 | https://mobile.twitter.com/abarber1/status/1609699295317622784\n",
      "https://mobile.twitter.com/admcrlsn/status/1609733772936900609 | https://mobile.twitter.com/admcrlsn/status/1609733772936900609\n",
      "https://mobile.twitter.com/austinalter/status/1609707209100754949 | https://mobile.twitter.com/austinalter/status/1609707209100754949\n",
      "https://mobile.twitter.com/daniel_eth/status/1609319649610719237 | https://mobile.twitter.com/daniel_eth/status/1609319649610719237\n",
      "https://mobile.twitter.com/goodside/status/1608650729245540353 | https://mobile.twitter.com/goodside/status/1608650729245540353\n",
      "https://mobile.twitter.com/joshcarlosjosh/status/1608495441951477762 | https://mobile.twitter.com/joshcarlosjosh/status/1608495441951477762\n",
      "https://mobile.twitter.com/lxeagle17/status/1609289849554763776 | https://mobile.twitter.com/lxeagle17/status/1609289849554763776\n",
      "https://mobile.twitter.com/lxeagle17/status/1609716589049565184 | https://mobile.twitter.com/lxeagle17/status/1609716589049565184\n",
      "https://mobile.twitter.com/mealreplacer/status/1608923189706649601 | https://mobile.twitter.com/mealreplacer/status/1608923189706649601\n",
      "https://mobile.twitter.com/merjerper/status/1609727373653540866 | https://mobile.twitter.com/merjerper/status/1609727373653540866\n",
      "https://mobile.twitter.com/peterwildeford/status/1608655557342429184 | Peter Wildeford on Twitter: \"@TrevorVossberg @Nichlemn @NathanpmYoung @SBF_FTX Cool. Just doesn’t seem like a good move if you’re expecting to make more bets.\" / Twitter\n",
      "https://mobile.twitter.com/peterwildeford/status/1609263298687401985 | https://mobile.twitter.com/peterwildeford/status/1609263298687401985\n",
      "https://mobile.twitter.com/peterwildeford/status/1609268586312245249 | https://mobile.twitter.com/peterwildeford/status/1609268586312245249\n",
      "https://mobile.twitter.com/peterwildeford/status/1609268802616758273 | https://mobile.twitter.com/peterwildeford/status/1609268802616758273\n",
      "https://mobile.twitter.com/peterwildeford/status/1609674284716412928 | https://mobile.twitter.com/peterwildeford/status/1609674284716412928\n",
      "https://mobile.twitter.com/xv40rds/status/1609562048480047106 | https://mobile.twitter.com/xv40rds/status/1609562048480047106\n",
      "https://twitter.com/Aella_Girl/status/1608996282236014592 | (2) Aella on Twitter: \"who should I follow on twitter who I'm not already following? Suggest people and vote for other suggestions w/ likes; I will follow the most-liked suggestion (unless it is a troll or someone i have blocked in which case I reserve the right to pick the next highest voted)\" / Twitter\n",
      "https://twitter.com/Aella_Girl/status/1608996282236014592 | Aella on Twitter: \"who should I follow on twitter who I'm not already following? Suggest people and vote for other suggestions w/ likes; I will follow the most-liked suggestion (unless it is a troll or someone i have blocked in which case I reserve the right to pick the next highest voted)\" / Twitter\n",
      "https://twitter.com/Aella_Girl/status/1609291220752138242 | Aella on Twitter: \"like, really basic stuff that everybody should agree makes sense. Like, \"don't try to shame a behavior by pointing out an unrelated behavior\" or \"be really careful about making claims about other people's motivations unless you have super strong evidence\"\" / Twitter\n",
      "https://twitter.com/Bob_Wachter/status/1607162086282645505 | Bob Wachter on Twitter: \"Covid (@UCSF) Chronicles, Day 1013 As we enter Covid Year 3, it’s clear we’ll be in our current predicament for the foreseeable future. This means we all need to find our own method to weigh &amp; mitigate risks. Today I’ll describe my “50% Rule” &amp; how it governs my choices. (1/25)\" / Twitter\n",
      "https://twitter.com/Bob_Wachter/status/1607543986415374338 | Bob Wachter on Twitter: \"I appreciate all (or, at least most) of the feedback on yesterday’s post regarding how I make decisions about Covid risks and mitigations, including my 50% Rule. https://t.co/K28oB5WB38 A brief follow-up thread today, with a few additional thoughts and responses: (1/12)\" / Twitter\n",
      "https://twitter.com/BorisMPower/status/1609603655082336256 | Boris Power on Twitter: \"@schulzb589 I hear complaints that this is due to memorization - did anyone test them on new uniquely created questions?\" / Twitter\n",
      "https://twitter.com/CarlJoh29875530/status/1608867191830765568 | Carl Johnson on Twitter: \"@iabvek @peterwildeford @TrevorVossberg @Nichlemn @NathanpmYoung @SBF_FTX I think Peter believes that it’s not actually maximizing EV, because there are other bets you could make with Earth that are higher-EV in the long run. This is why you would use the Kelly criterion. But I’m also curious what his explanation is.\" / Twitter\n",
      "https://twitter.com/ChrisLloyd__ | Chris (@ChrisLloyd__) / Twitter\n",
      "https://twitter.com/ECaliberSeven/status/1609413285153062913 | Ethan C7 on Twitter: \"This New Year's Eve, we celebrate a great year for Election Twitter, from the growth of the community to the breadth and prescience of its analysis. Given the occasion, I'd like to reflect on a few things, and thank the good friends that make this hellsite worth it.\" / Twitter\n",
      "https://twitter.com/EPBResearch/status/1608502534393532416 | Eric Basmajian on Twitter: \"The second half of 2022 was historic for the US housing market 🏠 Transaction volumes froze 🧊 Prices started to decline 📉 Here's an unbiased and data-backed update on the US housing market heading into 2023 👇 1/\" / Twitter\n",
      "https://twitter.com/ESYudkowsky/status/1608836665577177089 | Eliezer Yudkowsky on Twitter: \"@metakuna Imagine if nuclear weapons could be made out of laundry detergent; and spit out gold up until they got large enough, whereupon they'd ignite the atmosphere; and this threshold couldn't be calculated; and the labs making gold didn't want to hear about it.\" / Twitter\n",
      "https://twitter.com/ET_Californian/status/1609286173947760640 | https://twitter.com/ET_Californian/status/1609286173947760640\n",
      "https://twitter.com/GRDecter/status/1608109373062057984 | Genevieve Roch-Decter, CFA on Twitter: \"Many public stocks are not 'investments'. They are schemes for insiders and bankers to cash out at your expense. The sooner you realize this is the game Wall Street plays, the better. https://t.co/h5px2nDZkJ\" / Twitter\n",
      "https://twitter.com/IanPitchford | Ian Pitchford (@IanPitchford) / Twitter\n",
      "https://twitter.com/IsaacKing314/status/1609248495957082116 | (2) Isaac King 🔍 on Twitter: \"@JoshuaBlake_ @peterwildeford To be fair, Gary's first 6 predictions were all pretty similar to each other, and largely boil down to \"GPT-4 won't be AGI\", which is not a hard prediction to make.\" / Twitter\n",
      "https://twitter.com/JgaltTweets/status/1608116197983195136 | JgaltTweets on Twitter: \"Only 31% of respondents think this is likely\" / Twitter\n",
      "https://twitter.com/JoshuaBlake_/status/1609249461208743936 | Josh on Twitter: \"@IsaacKing314 @peterwildeford I'd say 1-4 are stronger than \"not AGI\", although I agree quite similar. 5 is literally GPT-4 is not AGI, 6 is probably not an area of disagreement. However, 7 is exactly the sort of prediction I would guess @peterwildeford is meaning in the original tweet.\" / Twitter\n",
      "https://twitter.com/JoshuaBlake_/status/1609520178248798208 | Josh on Twitter: \"AI predictions with a very strong track record over the last 5 years. The most interesting one is that there won't be an AI system with mouse-level existence before 2030.\" / Twitter\n",
      "https://twitter.com/LoganR2WH/status/1609289640959447040 | Logan Phillips on Twitter: \"@KeyserSozeBro1 @nytimes @samshirazim @LarrySabato Seriously. It stressed me out so much that my forecast was saying something so different. This sounds silly in hindsight - but as Larry Sabato said, it really did make me question my own judgement.\" / Twitter\n",
      "https://twitter.com/MattBruenig?ref_src=twsrc%5Egoogle%7Ctwcamp%5Eserp%7Ctwgr%5Eauthor | Matt Bruenig (@MattBruenig) / Twitter\n",
      "https://twitter.com/Miles_Brundage/status/1608330942619475968 | Miles Brundage on Twitter: \"One of the better recent Google LM papers IMO from a safety/policy research perspective--the harm estimate section is very interesting, as is the deferral % stuff. See also this concurrent work on GPT-3.5's medical knowledge: https://t.co/k7zHeTVO55 https://t.co/htYlUj7w7z\" / Twitter\n",
      "https://twitter.com/NateSilver538/status/1585988616181846016 | Nate Silver on Twitter: \"@Nate_Cohn Dude, the Ds in your polls are collectively outperforming Biden, who won the popular vote by 4.5 points! I don't know if this is a case where you don't want to throw your editors under the bus, but these are good polls for Ds and the narrative in the story doesn't match the data.\" / Twitter\n",
      "https://twitter.com/Noahpinion/following | People followed by Noah Smith 🐇🇺🇦 (@Noahpinion) / Twitter\n",
      "https://twitter.com/PradyuPrasad/status/1609884923963543552 | Pradyumna on Twitter: \"I was reading Bender &amp; Gebru et al's paper \"On the Dangers of Stochastic Parrots: Can Language Models Be Too Big?\" https://t.co/s9IO2aGZ6Z and I think the environmental aspect part of that is incomplete. Specifically, they account for the costs of large language models without\" / Twitter\n",
      "https://twitter.com/RStateBState/status/1608665571012513793 | RedStateBlueState (280 character version) on Twitter: \"@iabvek @peterwildeford @TrevorVossberg @Nichlemn @NathanpmYoung @SBF_FTX no I think what Cole is saying is right to some extent. consider a situation where *today* you have 100$ and a high-risk trade that leaves you with either 201$ or 0$. 1/\" / Twitter\n",
      "https://twitter.com/RStateBState/status/1608665842866360324 | https://twitter.com/RStateBState/status/1608665842866360324\n",
      "https://twitter.com/RStateBState/status/1608666589058203648 | https://twitter.com/RStateBState/status/1608666589058203648\n",
      "https://twitter.com/RStateBState/status/1608667270812938241 | RedStateBlueState (280 character version) on Twitter: \"@iabvek @peterwildeford @TrevorVossberg @Nichlemn @NathanpmYoung @SBF_FTX this is unrelated to that. if you accept SBF's premises than yeah that's the right conclusion in that case\" / Twitter\n",
      "https://twitter.com/RStateBState/status/1608667587050897411 | https://twitter.com/RStateBState/status/1608667587050897411\n",
      "https://twitter.com/RStateBState/status/1608668364058288129 | RedStateBlueState (280 character version) on Twitter: \"@iabvek @peterwildeford @TrevorVossberg @Nichlemn @NathanpmYoung @SBF_FTX yeah on more thought I realize Cole didn't mention the \"max investment\" part which is really the crux of the matter, and thus I disagree with Cole that this was an important mistake in the SBF case\" / Twitter\n",
      "https://twitter.com/RStateBState/status/1608670005641760771 | RedStateBlueState (280 character version) on Twitter: \"@iabvek @peterwildeford @TrevorVossberg @Nichlemn @NathanpmYoung @SBF_FTX it's weird because there are *some instances* where there is non-decreasing marginal utility, eg right now they need some x billion$ to develop universal vaccines. In that case once you get to x biillion$, marginal utility increases drastically.\" / Twitter\n",
      "https://twitter.com/RStateBState/status/1608670164257767425 | RedStateBlueState (280 character version) on Twitter: \"@iabvek @peterwildeford @TrevorVossberg @Nichlemn @NathanpmYoung @SBF_FTX most things are not like that though, as displayed by AI safety having trouble spending their riches for a while.\" / Twitter\n",
      "https://twitter.com/StefanFSchubert/status/1608426996408647680 | Stefan Schubert on Twitter: \"An example of an analysis in this ballpark https://t.co/HTu0dhZK7H\" / Twitter\n",
      "https://twitter.com/TrevorVossberg/status/1608665783311421440 | Trevor Vossberg (669/1000 miles 🗻🚲) on Twitter: \"@RStateBState @peterwildeford @Nichlemn @NathanpmYoung @SBF_FTX An ex post analysis of what actually happened is not appropriate here as one doesn’t have that knowledge ahead of time. If look ex post at St Petersburg then we’d think one should only wager once most of the time.\" / Twitter\n",
      "https://twitter.com/TrevorVossberg/status/1608667288915546117 | https://twitter.com/TrevorVossberg/status/1608667288915546117\n",
      "https://twitter.com/Wertwhile/status/1609177422074896386 | Joel Wertheimer on Twitter: \"Have so many complaints about this article I don't know where to begin. https://t.co/qWsSZR3sAs\" / Twitter\n",
      "https://twitter.com/_HannahRitchie/status/1609544920741601283 | Hannah Ritchie on Twitter: \"My prediction for 2023: the year the @IEA makes its energy data open-access and free for everyone. Who's with me?\" / Twitter\n",
      "https://twitter.com/amazingmap/status/1608496214559068161 | Amazing Maps on Twitter: \"France's longest border is shared with Brazil https://t.co/lMLcceUqPy\" / Twitter\n",
      "https://twitter.com/benskuhn/status/1609933725604929537 | Ben Kuhn on Twitter: \"People sometimes ask me the hardest decision I've made as a manager. My hot take is that actually ~no particular call is too hard. What's hard (in a fast growing org) is what I think of as the \"decision firehose\"—life comes at you too fast to even make all the easy calls well.\" / Twitter\n",
      "https://twitter.com/bentossell/status/1609150075959222279 | (2) Ben Tossell on Twitter: \"What are your AI predictions for 2023?\" / Twitter\n",
      "https://twitter.com/business/status/1609204263980244995 | Bloomberg on Twitter: \"Sam Bankman-Fried portrayed himself as a hapless but well-intentioned chief executive who made a series of calamitous mistakes, but never knowingly committed fraud at his FTX crypto empire. Do the facts back him up? https://t.co/a1qgCA8Vot\" / Twitter\n",
      "https://twitter.com/ch402/status/1609411922251894785 | Chris Olah on Twitter: \"An idea I've been toying with: The role of many toy models may be to serve as \"counterexamples in mechanistic interpretability\".\" / Twitter\n",
      "https://twitter.com/daniel_eth/status/1609327144462856193 | Daniel Eth💡 on Twitter: \"@peterwildeford @profoundlyyyy Roughly $100k-$500k\" / Twitter\n",
      "https://twitter.com/datepsych | (1) Alexander (@datepsych) / Twitter\n",
      "https://twitter.com/datepsych/status/1609559485265203200 | Alexander on Twitter: \"Are the top 20% of men showered with attention and are \"Chads\" poaching average women on dating apps? What the OKCupid data show. 🧵\" / Twitter\n",
      "https://twitter.com/davidmanheim/status/1609791140919656449 | David Manheim - @davidmanheim@techpolicy.social on Twitter: \"@FreshMangoLassi @AFraserUrq Yes, pandemics in general were taken seriously - though for most in epidemiology, plausibly mostly only to the extent that it was a great source of funding for those interested in the area - but I found that larger pandemics were dismissed as implausible.\" / Twitter\n",
      "https://twitter.com/gdb/status/1609244547460255744 | Greg Brockman on Twitter: \"Prediction: 2023 will make 2022 look like a sleepy year for AI advancement &amp; adoption.\" / Twitter\n",
      "https://twitter.com/goodside/status/1609363458037895169 | (1) Riley Goodside on Twitter: \"A GPT-3 prompt in instruction-templated Python yielding a valid Python completion that prompts GPT-3 again, using zero-shot chain-of-thought consensus, to determine the final character of the MD5 hash of the final digit of the release year of the album \"Visions\" by @Grimezsz. https://t.co/PomFHy2Qw2\" / Twitter\n",
      "https://twitter.com/gracevadams/status/1608331345562079233 | https://twitter.com/gracevadams/status/1608331345562079233\n",
      "https://twitter.com/gracevadams/status/1608751628529840128 | Grace Adams on Twitter: \"@ohwizenedtortle Neither of these were released this year but I think my top 2 songs on Spotify unwrapped were: Next Level Charli by Charli XCX Don’t Start Now by Dua Lipa This is definitely the energy I want to have in my life\" / Twitter\n",
      "https://twitter.com/i/lists/1584214389774761984 | @iveksl2/markets / Twitter\n",
      "https://twitter.com/iabvek/status/1608662456578211841 | iabvek on Twitter: \"@peterwildeford @TrevorVossberg @Nichlemn @NathanpmYoung @SBF_FTX but like what's the argument for avoiding going bust as a total utilitarian? Realistically you can only make finite bets in your lifetime so your probability of going bust irl is &lt;1, and in the worlds where you don't go bust you create an enormous amount of value\" / Twitter\n",
      "https://twitter.com/iabvek/status/1608662814511755267 | iabvek on Twitter: \"@RStateBState @peterwildeford @TrevorVossberg @Nichlemn @NathanpmYoung @SBF_FTX this guy has it exactly right https://t.co/JwkNNAirVy\" / Twitter\n",
      "https://twitter.com/iabvek/status/1608665403827585024 | iabvek on Twitter: \"@RStateBState @peterwildeford @TrevorVossberg @Nichlemn @NathanpmYoung @SBF_FTX fwiw one thing that helped me be less confused about arithmetic vs geometric return about is thinking about/simulating a stock that has a 50% chance of doubling and 50% chance of halving each day\" / Twitter\n",
      "https://twitter.com/iabvek/status/1608665701103079425 | iabvek on Twitter: \"@peterwildeford @TrevorVossberg @Nichlemn @NathanpmYoung @SBF_FTX also it's possible he wasn't always a sociopath and resorted to stealing customer funds under the stress of facing ruin, which is a risk to factor in if you're a utilitarian with integrity wondering if you should take extreme risks\" / Twitter\n",
      "https://twitter.com/iabvek/status/1608666033984012288 | https://twitter.com/iabvek/status/1608666033984012288\n",
      "https://twitter.com/iabvek/status/1608666678627557377 | https://twitter.com/iabvek/status/1608666678627557377\n",
      "https://twitter.com/iabvek/status/1608666992755765249 | https://twitter.com/iabvek/status/1608666992755765249\n",
      "https://twitter.com/iabvek/status/1608667929985560584 | https://twitter.com/iabvek/status/1608667929985560584\n",
      "https://twitter.com/iabvek/status/1608669397106987011 | https://twitter.com/iabvek/status/1608669397106987011\n",
      "https://twitter.com/iabvek/status/1608669705094692867 | https://twitter.com/iabvek/status/1608669705094692867\n",
      "https://twitter.com/iabvek/status/1608673197305757696 | iabvek on Twitter: \"@khepricious @RStateBState @peterwildeford @TrevorVossberg @Nichlemn @NathanpmYoung @SBF_FTX the simulation he cites doesn't make that assumption afaict so I think he's just saying nonsense (that sounds plausible because it's very close to the common sense answer)\" / Twitter\n",
      "https://twitter.com/karpathy/status/1608895189078380544 | Andrej Karpathy on Twitter: \"Nice read on reverse engineering of GitHub Copilot 🪄. Copilot has dramatically accelerated my coding, it's hard to imagine going back to \"manual coding\". Still learning to use it but it already writes ~80% of my code, ~80% accuracy. I don't even really code, I prompt. &amp; edit.\" / Twitter\n",
      "https://twitter.com/khepricious/status/1608672194992951297 | Khepricious on Twitter: \"@iabvek @RStateBState @peterwildeford @TrevorVossberg @Nichlemn @NathanpmYoung @SBF_FTX Either it's that, or it's implicitly making the (correct) assumption (that you likely agree with) that in the real world, there are fewer and worse opportunities to make extremely large +EV bets than much smaller ones. I'm not sure he recognizes he's making that assumption\" / Twitter\n",
      "https://twitter.com/liquiddata | Brian T. Edwards (@LiquidData) / Twitter\n",
      "https://twitter.com/mattsclancy/status/1609232341490143235 | (2) Matt Clancy on Twitter: \"I wonder why LLMs are good at some subjects but not others. Sources: https://t.co/61WU6WgQaS, https://t.co/fiP6Rltdf9 https://t.co/Hwwsisr41c\" / Twitter\n",
      "https://twitter.com/mealreplacer/status/1608489052009037824 | John Stuart is Chilling in NYC on Twitter: \"GiveWell rocks, but they do operate under a rather strict set of assumptions that I’m not sure fully align with a lot of (EA) donors’ attitudes towards uncertainty. I wonder if there is some status quo bias going on here — GiveWell is a familiar face to many of us.\" / Twitter\n",
      "https://twitter.com/nathanjrobinson | Nathan J Robinson (@NathanJRobinson) / Twitter\n",
      "https://twitter.com/notanastronomer/status/1609581051277611009 | Lauren Gilbert on Twitter: \"does anyone have recommendations for UK SAD lamps? (Yes, I've seen the LW corn bulb post but that seems to require way more DIY than I want to do in a sublet.)\" / Twitter\n",
      "https://twitter.com/occamsbulldog/status/1609253408636284928 | Occam's Bulldog on Twitter: \"@JoshuaBlake_ @IsaacKing314 @peterwildeford I don’t think these are very good questions - Marcus is all over the place in 7, e.g. the bolded sentence at the top is obvious and banal. 1st highlighted sentence about structured, explicit knowledge seems totally false. The 2nd highlighted reads as another true but obvious. https://t.co/edVwoqJXO4\" / Twitter\n",
      "https://twitter.com/occamsbulldog/status/1609254451511951365 | Occam's Bulldog on Twitter: \"@JoshuaBlake_ @IsaacKing314 @peterwildeford There’s an equivocation btw “ChatGPT is AGI” meaning it’s very general and useful, and “AGI is LLMs” meaning you literally only build AGI in the future with LLMs, no RL (which chatGPT has), multimodality, or real-world interaction abilities (i.e. RL agent with pc access)\" / Twitter\n",
      "https://twitter.com/paul_scharre/status/1609214125594263552 | Paul Scharre on Twitter: \"1/ 🎯 This new article by @sarahbauerle &amp; @EmilyKilcrease1 nails the fatal flaw in recent U.S. chip export controls 👇 [THREAD] https://t.co/mAOxX0Y3LK\" / Twitter\n",
      "https://twitter.com/peterhartree/status/1609570943713804289 | Peter Hartree on Twitter: \"My vote for “effective altruism CEO of the year” goes to @peterwildeford. 1. Over the past couple years @rethinkpriorities have grown their research teams faster than any other EA org. Their research database is, increasingly, an absolute banger. https://t.co/6WzRw7d2V2\" / Twitter\n",
      "https://twitter.com/peterwildeford/status/1607843847547277312 | (2) Peter Wildeford on Twitter: \"@PradyuPrasad Plan: Raise $20M for @RethinkPriors , use that to solve the moral weight problem, figure out good AI governance strategies, better understand worldview diversification, figure out insect farming, figure out wild animal welfare, do surveys on longtermism and EA, and other things!\" / Twitter\n",
      "https://twitter.com/peterwildeford/status/1609242357232459777 | Peter Wildeford on Twitter: \"@EzraJNewman AGI is not a very clear definition. So I suppose it depends on what you mean by \"general\". I do think that text is a universal interface (https://t.co/65vL2SNKrK) and by that definition, I think ChatGPT would be considered AGI.\" / Twitter\n",
      "https://twitter.com/profoundlyyyy/status/1608659203354406912 | A Being’s Burner 🧩🧘‍♂️ on Twitter: \"Drop your AGI timelines and reasons why👇👇\" / Twitter\n",
      "https://twitter.com/robinhanson/status/1608554114094608384 | Robin Hanson on Twitter: \"Threat adding support to prediction that progress will slow in next decade with GPT diminishing returns.\" / Twitter\n",
      "https://twitter.com/rudnicknoah/status/1609556132456173568 | Noah Wyhof-Rudnick on Twitter: \"Last part of my series on Speaker elections that took multiple rounds is live here! We finally move beyond the Civil War to the last time it happened 100 years ago and a look at Speaker votes in modern times https://t.co/iVGcHf8Q7c\" / Twitter\n",
      "https://twitter.com/sasuke___420/status/1608667739736137729 | https://twitter.com/sasuke___420/status/1608667739736137729\n",
      "https://twitter.com/sjwhitmore/status/1609314774843785216 | Sam Whitmore on Twitter: \"Last New Years, I made a resolution to run at least 4 miles outside every day in 2022. 365 days and 2468 miles later, I did it! Things I learned: 1) Keeping a daily promise to yourself is empowering 2) Commitment compounds over time 3) Getting outside every day feels great! https://t.co/j1n2Ug9Hy1\" / Twitter\n",
      "https://twitter.com/tamaybes/status/1609659231682334720 | Tamay Besiroglu on Twitter: \"Recent applications of deep learning in science and engineering, such as AlphaFold and Copilot, have been astonishing. What does standard economic growth theory say about the economic effects of its adoption in R&amp;D? We sketch a simple picture: https://t.co/LfY7jA2UDZ\" / Twitter\n",
      "https://twitter.com/thomaschattwill/status/1609637680131833856 | Thomas Chatterton Williams on Twitter: \"She just maintains perfect composure throughout. Previous generations had to be so much tougher.\" / Twitter\n",
      "https://twitter.com/threestationsq/status/1608673148278571008 | threestationsquare on Twitter: \"@peterwildeford @TrevorVossberg @Nichlemn @NathanpmYoung @SBF_FTX This is a fundamental problem with unbounded utility functions. You can set up a thought experiment where Omega keeps offering a payoff good enough to make you risk everything, again and again, until eventually you lose.\" / Twitter\n",
      "https://twitter.com/tunguz/status/1609891575798153217 | https://twitter.com/tunguz/status/1609891575798153217\n",
      "https://twitter.com/yishan/status/1593515620942815232 | Yishan on Twitter: \"If I had to bet on whether Elon will pull through and Twitter ultimately succeeds, I’d probably still bet on the success case. Social networks are surprisingly durable. Still, there is a KNOWN playbook for how to take over a dysfunctional company and quickly turn it around. 🧵\" / Twitter\n"
     ]
    }
   ],
   "source": [
    "twitter_tabs = sorted([t for t in tabs if 'twitter.com' in t.lower() and 'messages' not in t.lower()])\n",
    "print_tabs(twitter_tabs, label='Twitter')"
   ]
  },
  {
   "cell_type": "code",
   "execution_count": 6,
   "id": "0e8d623e",
   "metadata": {},
   "outputs": [],
   "source": [
    "#open_tabs(twitter_tabs, page=1, per_page=200)"
   ]
  },
  {
   "cell_type": "code",
   "execution_count": 7,
   "id": "c4635d45",
   "metadata": {},
   "outputs": [
    {
     "name": "stdout",
     "output_type": "stream",
     "text": [
      "## Google Docs ## (10 tabs)\n",
      "\n",
      "https://docs.google.com/document/d/19aoEnbr2fwVOrX6culd4VD-e9KA_q_Cuo0uSFyBSXsQ/edit | Zoe to summarize - Google Docs\n",
      "https://docs.google.com/document/d/1I0Ed8sYFLEKMlbPJG3SViqeE-POkDRASL0eE7fcjCn4/edit# | Appendix: AAC’s ICAPs metric - Google Docs\n",
      "https://docs.google.com/document/d/1KsJ9uyPcRma6VJHBGwfb_hh00JL5Az_BaDqF5OhG7CA/edit | Moral Weight Project Overview - Google Docs\n",
      "https://docs.google.com/document/d/1YWjQ320UN4Vo9vLu-7DtRIoCC1nCU629k-ttUOsSh8Y/edit# | Quarterly Review 2022Q2-4\n",
      "https://docs.google.com/document/d/1YWjQ320UN4Vo9vLu-7DtRIoCC1nCU629k-ttUOsSh8Y/edit# | Quarterly Review 2022Q2-4 - Google Docs\n",
      "https://docs.google.com/document/d/1vKBX8z69kBnHcwdRz-dnzV-Q-RpOIv782NXBd8PpQ4w/edit | One-off Summaries - Google Docs\n",
      "https://docs.google.com/presentation/d/1KNVASF-FenVRFCoT8qdLSrEGxtIcgZSDdzoN4lp7844/edit#slide=id.g11047b247b9_0_811 | Rethink Priorities 2022Q1 Update - Google Slides\n",
      "https://docs.google.com/spreadsheets/d/14gEqOpr3GucAH2AqXC5B_5A5-aLrFAy9k2CH6Egt0LM/edit#gid=172531079 | Copy of  [for release] 2022 ACX Prediction Contest predictions\n",
      "https://docs.google.com/spreadsheets/d/1W_LQ-vpCoVGluJWIDqxIq5d9gX550x-P3ZPcmQBy2H0/edit#gid=0 | Doc review - Google Sheets\n",
      "https://docs.google.com/spreadsheets/d/1yRL_TlSXplmbgqBPufXdaVi-lZUWoShIyJeVBIvojRo/edit#gid=333449817 | 2022 Stats - Google Sheets\n"
     ]
    }
   ],
   "source": [
    "doc_tabs = sorted([t for t in tabs if ('docs.google' in t.lower() or 'sheets.google' in t.lower() or 'drive.google' in t.lower())])\n",
    "print_tabs(doc_tabs, label='Google Docs')\n"
   ]
  },
  {
   "cell_type": "code",
   "execution_count": 8,
   "id": "18e9e150",
   "metadata": {},
   "outputs": [],
   "source": [
    "#open_tabs(doc_tabs, page=1, per_page=50)"
   ]
  },
  {
   "cell_type": "code",
   "execution_count": 9,
   "id": "479f45a0-d63f-474d-aa76-2ddab5a10b0a",
   "metadata": {},
   "outputs": [],
   "source": [
    "#doc_tabs_ = copy(doc_tabs)"
   ]
  },
  {
   "cell_type": "code",
   "execution_count": 10,
   "id": "c4e71249-4e0e-47aa-9fcd-69b9219f507f",
   "metadata": {},
   "outputs": [],
   "source": [
    "#doc_tabs_ = open_random_n_tabs(doc_tabs_, n=5)"
   ]
  },
  {
   "cell_type": "code",
   "execution_count": 11,
   "id": "6311fa07",
   "metadata": {},
   "outputs": [
    {
     "name": "stdout",
     "output_type": "stream",
     "text": [
      "## Google search ## (1 tabs)\n",
      "\n",
      "https://www.google.com/search?q=%22effective+altruism%22+site%3Ahttps%3A%2F%2Fwww.nytimes.com&rlz=1C5CHFA_enUS925US925&oq=%22effective+altruism%22+site%3Ahttps%3A%2F%2Fwww.nytimes.com&aqs=chrome..69i57.4488j0j4&sourceid=chrome&ie=UTF-8#ip=1 | \"effective altruism\" site:https://www.nytimes.com - Google Search\n"
     ]
    }
   ],
   "source": [
    "print_tabs(sorted([t for t in tabs if ('google.com' in t.lower() and 'search' in t.lower() and\n",
    "                                   not ('docs.google' in t.lower() or 'sheets.google' in t.lower()))]),\n",
    "           label='Google search')"
   ]
  },
  {
   "cell_type": "code",
   "execution_count": 12,
   "id": "53b9762e",
   "metadata": {},
   "outputs": [
    {
     "name": "stdout",
     "output_type": "stream",
     "text": [
      "## EAFo/LW ## (24 tabs)\n",
      "\n",
      "https://forum.effectivealtruism.org/inbox/qzFjHCDYvxwZGNeWR | Private Conversation - EA Forum\n",
      "https://forum.effectivealtruism.org/posts/DnMg5q4Wyuuf99kkX/reflections-on-my-5-month-ai-alignment-upskilling-grant | Reflections on my 5-month AI alignment upskilling grant - EA Forum\n",
      "https://forum.effectivealtruism.org/posts/JSYjxyfgsvhZLSE5L/end-of-year-effectiveness-check-in-a-tool-for-personal | End-of-Year Effectiveness Check-In: A Tool for Personal Reflection - EA Forum\n",
      "https://forum.effectivealtruism.org/posts/Khon9Bhmad7v4dNKe/the-cost-of-rejection#comments | The Cost of Rejection - EA Forum\n",
      "https://forum.effectivealtruism.org/posts/SQ2ayhoYBJJCrFQjd/what-are-the-most-underrated-posts-and-comments-of-2022 | What are the most underrated posts & comments of 2022, according to you? - EA Forum\n",
      "https://forum.effectivealtruism.org/posts/Sp2pMyrHPzK3jmwLq/how-many-hours-is-your-standard-workweek-why#answers | How many hours is your standard workweek? Why? - EA Forum\n",
      "https://forum.effectivealtruism.org/posts/ethgzbKhtbug3DF6y/making-decisions-using-multiple-worldviews | Making decisions using multiple worldviews - EA Forum\n",
      "https://forum.effectivealtruism.org/posts/hCfnpBv3qmAxiXCZ7/longtermism-and-animal-farming-trajectories | Longtermism and Animal Farming Trajectories - EA Forum\n",
      "https://forum.effectivealtruism.org/posts/qJMjbHp9HKxT8XEhp/givewell-and-its-hiring-process-needs-serious-reform#comments | Givewell, and its hiring process, needs serious reform - EA Forum\n",
      "https://forum.effectivealtruism.org/posts/sW6RggfddDrcmM6Aw/how-might-we-align-transformative-ai-if-it-s-developed-very | How might we align transformative AI if it’s developed very soon? - EA Forum\n",
      "https://forum.effectivealtruism.org/posts/tGpwWsP5iBfZFigeZ/future-matters-6-ftx-collapse-value-lock-in-and | Future Matters #6: FTX collapse, value lock-in, and counterarguments to AI x-risk - EA Forum\n",
      "https://forum.effectivealtruism.org/posts/zATJeaSL9v5GH6HBk/direct-work-for-profit-entrepreneurship-is-underrated | Direct Work For-Profit Entrepreneurship is Underrated - EA Forum\n",
      "https://www.lesswrong.com/posts/7izSBpNJSEXSAbaFh/why-indoor-lighting-is-hard-to-get-right-and-how-to-fix-it | Why indoor lighting is hard to get right and how to fix it - LessWrong\n",
      "https://www.lesswrong.com/posts/9JFMhW9YHoTKbQEY2/a-very-long-list-of-sleep-maintenance-suggestions | A very long list of sleep maintenance suggestions - LessWrong\n",
      "https://www.lesswrong.com/posts/Ag7oQifJQM5AnMCrR/my-simple-hack-for-increased-alertness-and-improved | My simple hack for increased alertness and improved cognitive functioning: very bright light - LessWrong\n",
      "https://www.lesswrong.com/posts/B4K3bdnNNFQkBK8uc/lumenators-for-very-lazy-british-people | Lumenators for very lazy British people - LessWrong\n",
      "https://www.lesswrong.com/posts/Hw26MrLuhGWH7kBLm/ai-alignment-is-distinct-from-its-near-term-applications | AI alignment is distinct from its near-term applications - LessWrong\n",
      "https://www.lesswrong.com/posts/QBAjndPuFbhEXKcCr/my-understanding-of-what-everyone-in-technical-alignment-is | (My understanding of) What Everyone in Technical Alignment is Doing and Why - LessWrong\n",
      "https://www.lesswrong.com/posts/TWorNr22hhYegE4RT/models-don-t-get-reward | Models Don't \"Get Reward\" - LessWrong\n",
      "https://www.lesswrong.com/posts/camG6t6SxzfasF42i/a-year-of-ai-increasing-ai-progress | A Year of AI Increasing AI Progress - LessWrong\n",
      "https://www.lesswrong.com/posts/hC2NFsuf5anuGadFm/how-to-build-a-lumenator | How to Build a Lumenator - LessWrong\n",
      "https://www.lesswrong.com/posts/qEweugBipR5P2cMyK/preprint-is-out-100-000-lumens-to-treat-seasonal-affective | Preprint is out! 100,000 lumens to treat seasonal affective disorder - LessWrong\n",
      "https://www.lesswrong.com/posts/qy5dF7bQcFjSKaW58/bad-at-arithmetic-promising-at-math?commentId=MDu7XNhpFxyS6FKGv | Bad at Arithmetic, Promising at Math - LessWrong\n",
      "https://www.lesswrong.com/posts/qy5dF7bQcFjSKaW58/bad-at-arithmetic-promising-at-math?commentId=XADsKyb6CvYB4ZD9k | Bad at Arithmetic, Promising at Math - LessWrong\n"
     ]
    }
   ],
   "source": [
    "ea_fo_tabs = sorted([t for t in tabs if ('forum.effectivealtruism' in t.lower() or 'lesswrong' in t.lower())])\n",
    "print_tabs(ea_fo_tabs, label='EAFo/LW')"
   ]
  },
  {
   "cell_type": "code",
   "execution_count": 13,
   "id": "8ffa8f80-4aa6-4afe-8c6a-59194d69895e",
   "metadata": {},
   "outputs": [],
   "source": [
    "#open_tabs(ea_fo_tabs, page=1, per_page=50)"
   ]
  },
  {
   "cell_type": "code",
   "execution_count": 14,
   "id": "42ae2aee",
   "metadata": {},
   "outputs": [
    {
     "name": "stdout",
     "output_type": "stream",
     "text": [
      "## Metaculus etc. ## (3 tabs)\n",
      "\n",
      "https://docs.manifold.markets/api | API | Manifold Docs\n",
      "https://manifold.markets/IsaacKing/has-scott-alexander-ever-attempted | https://manifold.markets/IsaacKing/has-scott-alexander-ever-attempted\n",
      "https://www.metaculus.com/rankings/?question_status=resolved&timeframe=3month | https://www.metaculus.com/rankings/?question_status=resolved&timeframe=3month\n"
     ]
    }
   ],
   "source": [
    "print_tabs(sorted([t for t in tabs if ('metaculus' in t.lower() or 'manifold' in t.lower() or 'predictit' in t.lower())]), label='Metaculus etc.')"
   ]
  },
  {
   "cell_type": "code",
   "execution_count": 15,
   "id": "72bdaddd",
   "metadata": {},
   "outputs": [
    {
     "name": "stdout",
     "output_type": "stream",
     "text": [
      "## Wikipedia ## (11 tabs)\n",
      "\n",
      "https://en.m.wikipedia.org/wiki/Conway's_Game_of_Life | Conway's Game of Life - Wikipedia\n",
      "https://en.wikipedia.org/wiki/14_October_2017_Mogadishu_bombings | 14 October 2017 Mogadishu bombings - Wikipedia\n",
      "https://en.wikipedia.org/wiki/1990_massacre_of_Sri_Lankan_Police_officers | 1990 massacre of Sri Lankan Police officers - Wikipedia\n",
      "https://en.wikipedia.org/wiki/2007_Yazidi_communities_bombings | 2007 Yazidi communities bombings - Wikipedia\n",
      "https://en.wikipedia.org/wiki/2008_Christmas_massacres | 2008 Christmas massacres - Wikipedia\n",
      "https://en.wikipedia.org/wiki/2015_Baga_massacre | 2015 Baga massacre - Wikipedia\n",
      "https://en.wikipedia.org/wiki/Dennis_Hastert | Dennis Hastert - Wikipedia\n",
      "https://en.wikipedia.org/wiki/Human_sacrifice_in_Aztec_culture#Estimates_of_the_scope_of_the_sacrifices | Human sacrifice in Aztec culture - Wikipedia\n",
      "https://en.wikipedia.org/wiki/Jonestown | Jonestown - Wikipedia\n",
      "https://en.wikipedia.org/wiki/Massacre_of_Trujillo | Massacre of Trujillo - Wikipedia\n",
      "https://en.wikipedia.org/wiki/September_11_attacks | September 11 attacks - Wikipedia\n"
     ]
    }
   ],
   "source": [
    "print_tabs(sorted([t for t in tabs if 'wikipedia' in t.lower()]), label='Wikipedia')"
   ]
  },
  {
   "cell_type": "code",
   "execution_count": 16,
   "id": "ca9dcfdf",
   "metadata": {},
   "outputs": [
    {
     "name": "stdout",
     "output_type": "stream",
     "text": [
      "## Reddit ## (4 tabs)\n",
      "\n",
      "https://www.reddit.com/r/GPT3+datingoverthirty+relationship_advice | Posts from datingoverthirty, relationship_advice, GPT3\n",
      "https://www.reddit.com/r/relationship_advice/comments/zy31ci/21m21f_my_girlfriend_doesnt_like_to_wear/ | [21M][21F] my girlfriend doesn’t like to wear revealing clothes for me but loves to wear them when she goes out to raves : relationship_advice\n",
      "https://www.reddit.com/r/relationship_advice/comments/zy6cat/28f36m_my_boyfriend_cheated_on_me_with_his_exwife/ | [28F][36M] My boyfriend cheated on me with his ex-wife. What am I supposed to do… : relationship_advice\n",
      "https://www.reddit.com/r/slatestarcodex/ | (1) Slate Star Codex: In a Mad World, All Blogging is Psychiatry Blogging\n"
     ]
    }
   ],
   "source": [
    "print_tabs(sorted([t for t in tabs if 'reddit' in t.lower()]), label='Reddit')"
   ]
  },
  {
   "cell_type": "code",
   "execution_count": 17,
   "id": "5dedf293",
   "metadata": {},
   "outputs": [
    {
     "name": "stdout",
     "output_type": "stream",
     "text": [
      "## localhost ## (10 tabs)\n",
      "\n",
      "http://localhost:8888/lab/tree/(2)%20When%20TAI%3F.ipynb | (2)%20When%2… (3) - JupyterLab\n",
      "http://localhost:8888/lab/tree/(2)%20When%20TAI%3F.ipynb | (2)%20When%2… - JupyterLab\n",
      "http://localhost:8888/lab/tree/(3)%20XRisk%20Model.ipynb | (3)%20XRisk%… (2) - JupyterLab\n",
      "http://localhost:8890/lab/tree/Forecastflow2.ipynb | Forecastflow… - JupyterLab\n",
      "https://guarded-everglades-89687.herokuapp.com/?url=&title=&aggregator=-Custom&before=&after=&page=1&sort=&starred= | Upcoming Links\n",
      "https://guarded-everglades-89687.herokuapp.com/update/128889/?url=&title=&aggregator=&before=&after=&sort=random&page=1&starred= | Update Link\n",
      "https://guarded-everglades-89687.herokuapp.com/update/129726/?url=&title=&aggregator=&before=&after=&sort=random&page=1&starred= | Update Link\n",
      "https://guarded-everglades-89687.herokuapp.com/update/132030/?url=&title=&aggregator=&before=&after=&sort=random&page=1&starred= | Update Link\n",
      "https://guarded-everglades-89687.herokuapp.com/update/14103/?url=&title=&aggregator=&before=&after=&sort=random&page=1&starred= | Update Link\n",
      "https://guarded-everglades-89687.herokuapp.com/update/152508/?url=&title=&aggregator=&before=&after=&sort=random&page=1&starred= | Update Link\n"
     ]
    }
   ],
   "source": [
    "print_tabs(sorted([t for t in tabs if 'guarded-everglades-89687.herokuapp.com' in t.lower() or 'localhost' in t.lower()]), label='localhost')\n"
   ]
  },
  {
   "cell_type": "code",
   "execution_count": 18,
   "id": "677f610e",
   "metadata": {},
   "outputs": [
    {
     "name": "stdout",
     "output_type": "stream",
     "text": [
      "## Chores ## (0 tabs)\n",
      "\n"
     ]
    }
   ],
   "source": [
    "print_tabs(sorted([t for t in tabs if 'instacart' in t.lower()]), label='Chores')"
   ]
  },
  {
   "cell_type": "code",
   "execution_count": 19,
   "id": "5fce865e",
   "metadata": {},
   "outputs": [
    {
     "name": "stdout",
     "output_type": "stream",
     "text": [
      "## Amazon ## (6 tabs)\n",
      "\n",
      "https://smile.amazon.com/Nature-Bright-Portable-Therapy-Wake-Up/dp/B012CBOFZ0?sa-no-redirect=1 | AmazonSmile: Nature Bright Sun Bliss 2 in 1 Portable Light Therapy and Wake-Up Light : Health & Household\n",
      "https://smile.amazon.com/Rechargeable-Cordless-Portable-2700-6500K-Travelling/dp/B09DYJ1BV2?sa-no-redirect=1 | AmazonSmile: Light Therapy Lamp, 6000mAh Rechargeable 11-in Cordless UV-Free Light Box, Portable 10000 Lux Bright 2700-6500K Cool & Warm Light, Touch Control, 4 Timer Settings for Home Office Travelling : Health & Household\n",
      "https://smile.amazon.com/Travelite-Bright-Therapy-Portable-Black/dp/B077GBMNY3?sa-no-redirect=1 | AmazonSmile: Travelite 10,000 Lux Bright Light Portable Light Box, Black : Health & Household\n",
      "https://smile.amazon.com/light-therapy-wake-up/s?k=light+therapy+wake+up&sa-no-redirect=1 | Amazon.com : light therapy wake up\n",
      "https://smile.amazon.com/wake-up-light/s?k=wake+up+light&page=3&sa-no-redirect=1 | Amazon.com : wake up light\n",
      "https://smile.amazon.com/wake-up-light/s?k=wake+up+light&sa-no-redirect=1 | Amazon.com : wake up light\n"
     ]
    }
   ],
   "source": [
    "print_tabs(sorted([t for t in tabs if 'amazon.com' in t.lower()]), label='Amazon')"
   ]
  },
  {
   "cell_type": "code",
   "execution_count": 20,
   "id": "16d46af9",
   "metadata": {},
   "outputs": [
    {
     "name": "stdout",
     "output_type": "stream",
     "text": [
      "## Morning Dispatch ## (0 tabs)\n",
      "\n"
     ]
    }
   ],
   "source": [
    "print_tabs(sorted([t for t in tabs if 'morning' in t.lower() and 'dispatch' in t.lower()]), label='Morning Dispatch')"
   ]
  },
  {
   "cell_type": "code",
   "execution_count": 21,
   "id": "108d879a",
   "metadata": {},
   "outputs": [
    {
     "name": "stdout",
     "output_type": "stream",
     "text": [
      "## GitHub ## (2 tabs)\n",
      "\n",
      "https://github.com/f/awesome-chatgpt-prompts | f/awesome-chatgpt-prompts: This repo includes ChatGPT promt curation to use ChatGPT better.\n",
      "https://twitter.com/karpathy/status/1608895189078380544 | Andrej Karpathy on Twitter: \"Nice read on reverse engineering of GitHub Copilot 🪄. Copilot has dramatically accelerated my coding, it's hard to imagine going back to \"manual coding\". Still learning to use it but it already writes ~80% of my code, ~80% accuracy. I don't even really code, I prompt. &amp; edit.\" / Twitter\n"
     ]
    }
   ],
   "source": [
    "print_tabs(sorted([t for t in tabs if 'github' in t.lower()]), label='GitHub')"
   ]
  },
  {
   "cell_type": "code",
   "execution_count": 22,
   "id": "d911bbda",
   "metadata": {},
   "outputs": [
    {
     "name": "stdout",
     "output_type": "stream",
     "text": [
      "## YouTube ## (5 tabs)\n",
      "\n",
      "https://www.youtube.com/playlist?list=PL4fGSI1pDJn69On1f-8NAvX_CYlx7QyZc | Top 100 Music Videos United States - YouTube\n",
      "https://www.youtube.com/watch?app=desktop&v=pjSgXbhJ6BQ | \"FLY\" Nightbirde - Official Music Video - YouTube\n",
      "https://www.youtube.com/watch?v=CZJvBfoHDk0 | Golden Buzzer: Nightbirde's Original Song Makes Simon Cowell Emotional - America's Got Talent 2021 - YouTube\n",
      "https://www.youtube.com/watch?v=CnT6NRiTz9M&list=PL4fGSI1pDJn69On1f-8NAvX_CYlx7QyZc&index=8 | Lil Durk - Hanging With Wolves (Official Video) - YouTube\n",
      "https://www.youtube.com/watch?v=OMpbrmjW_Rg | Lil Uzi Vert - Just Wanna Rock (Lyrics) - YouTube\n"
     ]
    }
   ],
   "source": [
    "print_tabs(sorted([t for t in tabs if 'yout' in t.lower()]), label='YouTube')"
   ]
  },
  {
   "cell_type": "code",
   "execution_count": 23,
   "id": "2649c14d",
   "metadata": {},
   "outputs": [
    {
     "name": "stdout",
     "output_type": "stream",
     "text": [
      "## Instagram ## (0 tabs)\n",
      "\n"
     ]
    }
   ],
   "source": [
    "print_tabs(sorted([t for t in tabs if 'instagram.com' in t.lower()]), label='Instagram')"
   ]
  },
  {
   "cell_type": "code",
   "execution_count": 24,
   "id": "ab0e02f2-e275-486f-98d3-37d3218dc821",
   "metadata": {},
   "outputs": [
    {
     "name": "stdout",
     "output_type": "stream",
     "text": [
      "## Asana ## (0 tabs)\n",
      "\n"
     ]
    }
   ],
   "source": [
    "print_tabs(sorted([t for t in tabs if 'aap.assana.com' in t.lower()]), label='Asana')"
   ]
  },
  {
   "cell_type": "code",
   "execution_count": 25,
   "id": "bc70c265",
   "metadata": {},
   "outputs": [
    {
     "name": "stdout",
     "output_type": "stream",
     "text": [
      "## Other ## (87 tabs)\n",
      "\n",
      "https://americanaffairsjournal.org/2022/11/but-seriously-how-do-we-make-an-entrepreneurial-state/ | But Seriously, How Do We Make an Entrepreneurial State? - American Affairs Journal\n",
      "https://arxiv.org/pdf/2212.03827.pdf | 2212.03827.pdf\n",
      "https://astralcodexten.substack.com/p/links-for-december-2022/comment/11459263 | Comments - Links For December 2022 - by Scott Alexander\n",
      "https://baseratesblog.substack.com/p/deep-hope | Deep Hope\n",
      "https://bewrong.substack.com/p/markets-are-mostly-fake?utm_source=share&utm_medium=android | Markets Are Kinda Fake - by Judah - Be Wrong\n",
      "https://blog.heim.xyz/monthly-review/ | Monthly Review\n",
      "https://blog.heim.xyz/weekly-review/ | Weekly Review\n",
      "https://calebontiveros.substack.com/p/2022?utm_source=facebook&sd=pf&fbclid=IwAR1RHCsOq2LbLQU-GWvkdghb33jWw1exoQheoyWZP5rJBM-IaOl6OgTkR4g | 2022 - by Caleb Ontiveros - Caleb’s Newsletter\n",
      "https://cremieux.substack.com/p/black-economic-progress-after-slavery | Black Economic Progress After Slavery - Cremieux Recueil\n",
      "https://darksitefinder.com/placemarks/john-glenn-astronomy-park-ohio-united-states/ | John Glenn Astronomy Park, Ohio, United States – Dark Site Finder\n",
      "https://discord.com/channels/1054165706440192151/1054165706972860470 | (3) Discord | #general | Probably Cool People\n",
      "https://donmoynihan.substack.com/p/debunking-the-false-comparisons-between?utm_source=substack&utm_campaign=post_embed&utm_medium=web | Debunking the false comparisons between European and American abortion policies\n",
      "https://effectivealtruism.force.com/EAGlobal/s/eaglobalapplication?eId=a4WAJ000000000k2AA | EAGlobalApplication\n",
      "https://elbow.substack.com/p/the-efficiency-trap?utm_source=twitter&sd=pf | The Efficiency Trap - by Gilad Seckler - The Elbow\n",
      "https://fortelabs.com/blog/para/ | The PARA Method: A Universal System for Organizing Digital Information - Forte Labs\n",
      "https://idlewords.com/2023/1/why_not_mars.htm | Why Not Mars (Idle Words)\n",
      "https://imightbewrong.substack.com/ | I Might Be Wrong | Jeff Maurer | Substack\n",
      "https://intelligence.org/2018/10/03/rocket-alignment/ | The Rocket Alignment Problem - Machine Intelligence Research Institute\n",
      "https://marginalrevolution.com/marginalrevolution/2022/02/what-is-the-probability-of-a-nuclear-war-redux.html | What is the Probability of a Nuclear War, Redux - Marginal REVOLUTION\n",
      "https://marginalrevolution.com/marginalrevolution/2022/08/the-student-loan-giveaway-its-much-bigger-than-you-think.html | The Student Loan Giveaway is Much Bigger Than You Think - Marginal REVOLUTION\n",
      "https://marginalrevolution.com/marginalrevolution/2022/10/classical-liberalism-vs-the-new-right.html | Classical liberalism vs. The New Right - Marginal REVOLUTION\n",
      "https://mattsclancy.com/ | Matt Clancy - Matt S Clancy\n",
      "https://mdickens.me/ | Home | Michael Dickens\n",
      "https://music.apple.com/us/playlist/suondertarks/pl.u-6mo4lG3clB7gR1 | https://music.apple.com/us/playlist/suondertarks/pl.u-6mo4lG3clB7gR1\n",
      "https://noahpinion.substack.com/p/american-workers-need-lots-and-lots?utm_source=profile&utm_medium=reader2 | American workers need lots and lots of robots\n",
      "https://noahpinion.substack.com/p/decade-of-the-battery?utm_source=profile&utm_medium=reader2 | Decade of the battery - by Noah Smith - Noahpinion\n",
      "https://noahpinion.substack.com/p/i-come-bringing-good-news-about-hydrogen?utm_source=profile&utm_medium=reader2 | I come bringing good news about hydrogen - by Noah Smith\n",
      "https://noahpinion.substack.com/p/my-sci-fi-novel-recommendations | My sci-fi novel recommendations - by Noah Smith\n",
      "https://noahpinion.substack.com/p/techno-optimism-for-2023?utm_source=profile&utm_medium=reader2 | Techno-optimism for 2023 - by Noah Smith - Noahpinion\n",
      "https://noahpinion.substack.com/p/the-third-magic | The third magic - by Noah Smith - Noahpinion\n",
      "https://noahpinion.substack.com/p/the-war-economy-batteries-and-drones?utm_source=profile&utm_medium=reader2 | The War Economy: Batteries and drones - by Noah Smith\n",
      "https://nypost.com/2022/12/25/why-2023-will-be-like-1967s-summer-of-love-for-the-stock-market/ | Why 2023 will be like 1967’s ‘Summer of Love’ for the stock market\n",
      "https://ridl.io/the-russo-ukrainian-war-ten-months-in-taking-stock/ | The Russo-Ukrainian war ten months in: taking stock – Riddle Russia\n",
      "https://rodneybrooks.com/predictions-scorecard-2023-january-01/ | Predictions Scorecard, 2023 January 01 – Rodney Brooks\n",
      "https://rychappell.substack.com/p/2022-in-review | 2022 in Review - by Richard Y Chappell - Good Thoughts\n",
      "https://rychappell.substack.com/p/consequentialism-beyond-action | Consequentialism Beyond Action - by Richard Y Chappell\n",
      "https://rychappell.substack.com/p/deontic-pluralism | Deontic Pluralism - by Richard Y Chappell - Good Thoughts\n",
      "https://rychappell.substack.com/p/effective-altruism-faq | Effective Altruism FAQ - by Richard Y Chappell\n",
      "https://rychappell.substack.com/p/ethical-theory-and-practice | Ethical Theory and Practice - by Richard Y Chappell\n",
      "https://rychappell.substack.com/p/theses-on-mattering | Theses on Mattering - by Richard Y Chappell - Good Thoughts\n",
      "https://scholars-stage.org/we-can-only-kick-taiwan-down-the-road-so-far/ | We Can Only Kick Taiwan Down the Road For So Long – The Scholar's Stage\n",
      "https://sleepopolis.com/calculators/jet-lag/ | Jet Lag Rooster by Sleepopolis\n",
      "https://static1.squarespace.com/static/5f04bd57a1c21d767782adb8/t/636d27064e451751209a49fb/1668097798587/FellowshipAnnouncement-2022-WildAnimalInitiative.pdf | FellowshipAnnouncement-2022-WildAnimalInitiative.pdf\n",
      "https://taylorpearson.me/luck/ | How To Attract Luck: The Science Behind How People Get Luck\n",
      "https://techcrunch.com/2022/12/21/quora-launches-poe-a-way-to-talk-to-ai-chatbots-like-chatgpt/ | Quora launches Poe, a way to talk to AI chatbots like ChatGPT | TechCrunch\n",
      "https://toot.community/@evavivalt@econtwitter.net/109592633097375093 | Eva Vivalt: \"There's a bunch of surveys on …\" - toot.community\n",
      "https://toot.community/home | Home - toot.community\n",
      "https://www.alignmentforum.org/allPosts?timeframe=weekly&sortedBy=top | All Posts - AI Alignment Forum\n",
      "https://www.alignmentforum.org/posts/3L46WGauGpr7nYubu/the-plan | The Plan - AI Alignment Forum\n",
      "https://www.alignmentforum.org/posts/BzYmJYECAc3xyCTt6/the-plan-2022-update | The Plan - 2022 Update - AI Alignment Forum\n",
      "https://www.alignmentforum.org/posts/HBxe6wdjxK239zajf/what-failure-looks-like | What failure looks like - AI Alignment Forum\n",
      "https://www.alignmentforum.org/posts/LbrPTJ4fmABEdEnLf/200-concrete-open-problems-in-mechanistic-interpretability | 200 Concrete Open Problems in Mechanistic Interpretability: Introduction - AI Alignment Forum\n",
      "https://www.alignmentforum.org/posts/N6vZEnCn6A95Xn39p/are-we-in-an-ai-overhang | Are we in an AI overhang? - AI Alignment Forum\n",
      "https://www.alignmentforum.org/posts/QBAjndPuFbhEXKcCr/my-understanding-of-what-everyone-in-technical-alignment-is | (My understanding of) What Everyone in Technical Alignment is Doing and Why - AI Alignment Forum\n",
      "https://www.alignmentforum.org/posts/Yp2vYb4zHXEeoTkJc/welcome-and-faq | Welcome & FAQ! - AI Alignment Forum\n",
      "https://www.alignmentforum.org/posts/bC5xd7wQCnTDw7Kyx/getting-up-to-speed-on-the-speed-prior-in-2022 | Getting up to Speed on the Speed Prior in 2022 - AI Alignment Forum\n",
      "https://www.alignmentforum.org/posts/qJgz2YapqpFEDTLKn/deepmind-alignment-team-opinions-on-agi-ruin-arguments | DeepMind alignment team opinions on AGI ruin arguments - AI Alignment Forum\n",
      "https://www.alignmentforum.org/posts/rCJQAkPTEypGjSJ8X/how-might-we-align-transformative-ai-if-it-s-developed-very | How might we align transformative AI if it’s developed very soon? - AI Alignment Forum\n",
      "https://www.alignmentforum.org/posts/rCJQAkPTEypGjSJ8X/how-might-we-align-transformative-ai-if-it-s-developed-very#Keeping_supervision_competitive | How might we align transformative AI if it’s developed very soon?\n",
      "https://www.atlanticcouncil.org/content-series/atlantic-council-strategy-paper-series/risks-opportunities-2023/ | The top 23 risks and opportunities for 2023 - Atlantic Council\n",
      "https://www.benkuhn.net/writing/ | Why and how to write things on the Internet | benkuhn.net\n",
      "https://www.calnewport.com/blog/2007/09/25/how-to-make-resolutions-that-stick/ | How to Make Resolutions that Stick - Study Hacks - Cal Newport\n",
      "https://www.cincinnatisymphony.org/tickets-and-events/buy-tickets/cso/2223-cso-season/beethovens-fifth/ | Beethoven's Fifth | CSO\n",
      "https://www.cincinnatisymphony.org/tickets-and-events/buy-tickets/cso/2223-cso-season/grieg-peer-gynt-in-concert/ | Grieg: Peer Gynt in Concert | CSO\n",
      "https://www.cincinnatisymphony.org/tickets-and-events/buy-tickets/cso/2223-cso-season/sibelius-symphony-2/ | Sibelius Symphony No. 2 | CSO\n",
      "https://www.cincinnatisymphony.org/tickets-and-events/buy-tickets/pops/2223-pops-season/tchaikovsky-spectacular-1812-overture/ | Tchaikovsky Spectacular: 1812 Overture | Pops\n",
      "https://www.cold-takes.com/ai-safety-seems-hard-to-measure/ | AI Safety Seems Hard to Measure\n",
      "https://www.cold-takes.com/are-we-trending-toward-transformative-ai-how-would-we-know/ | Are we \"trending toward\" transformative AI? (How would we know?)\n",
      "https://www.cold-takes.com/high-level-hopes-for-ai-alignment/ | High-level hopes for AI alignment\n",
      "https://www.cold-takes.com/racing-through-a-minefield-the-ai-deployment-problem/ | Racing through a minefield: the AI deployment problem\n",
      "https://www.cold-takes.com/why-would-ai-aim-to-defeat-humanity/ | Why Would AI \"Aim\" To Defeat Humanity?\n",
      "https://www.deepvail.com/ | Deepvail\n",
      "https://www.economist.com/christmas-specials/2022/12/20/should-we-care-about-people-who-need-never-exist | Should we care about people who need never exist? | The Economist\n",
      "https://www.fedex.com/fedextrack/?trknbr=392870489724&trkqual=2459944000~392870489724~FX | Detailed Tracking\n",
      "https://www.gjopen.com/challenges/74-dubai-future-experts-challenge-2022 | Good Judgment® Open | Dubai Future Experts Challenge 2023\n",
      "https://www.gjopen.com/challenges/75-the-economist-the-world-ahead-2023 | Good Judgment® Open | The Economist: The World Ahead 2023\n",
      "https://www.laststanding.app/ | Last Resolution Standing\n",
      "https://www.metacritic.com/browse/games/score/metascore/all/all/filtered?view=condensed | Best Video Games of All Time - Metacritic\n",
      "https://www.nytimes.com/2022/12/27/opinion/tesla-stock-elon-musk.html | Opinion | Can Elon Musk’s Tesla Really Last? - The New York Times\n",
      "https://www.nytimes.com/2022/12/31/us/politics/elise-stefanik.html | The Invention of Elise Stefanik - The New York Times\n",
      "https://www.nytimes.com/2022/12/31/us/politics/polling-election-2022-red-wave.html?smid=nytcore-ios-share&referringSource=articleShare | The ‘Red Wave’ Washout: How Skewed Polls Fed a False Election Narrative - The New York Times\n",
      "https://www.politico.com/news/magazine/2022/12/31/the-worst-political-predictions-of-2022-00074872 | Oops! The Worst Political Predictions of 2022 - POLITICO\n",
      "https://www.sleepfoundation.org/best-wake-up-lights | Best Wake-Up Lights of 2023 | Sleep Foundation\n",
      "https://www.stitchfix.com/onboarding/style-profile/#/mens_size_component | Style Profile | Personal Styling for Women & Men\n",
      "https://www.thediff.co/archive/jane-street/ | Understanding Jane Street - by Byrne Hobart - The Diff\n",
      "https://www.utilitarianism.net/population-ethics#person-affecting-views-and-the-procreative-asymmetry | Population Ethics: The Total View, Average View & Other Theories – Utilitarianism.net\n",
      "https://zenhabits.net/zen-to-done-ztd-the-ultimate-simple-productivity-system/ | Zen To Done (ZTD): The Simple Productivity System - zen habits zen habits\n"
     ]
    }
   ],
   "source": [
    "tabs_ = [t for t in tabs if (not ('google.com' in t.lower() and 'search' in t.lower() and not ('docs.google' in t.lower() or 'sheets.google' in t.lower())) and\n",
    "                             not ('docs.google' in t.lower() or 'sheets.google' in t.lower() or 'drive.google' in t.lower()) and\n",
    "                             not 'facebook.com' in t.lower() and\n",
    "                             not 'twitter.com' in t.lower() and\n",
    "                             not ('forum.effectivealtruism' in t.lower() or 'lesswrong' in t.lower()) and\n",
    "                             not ('metaculus' in t.lower() or 'manifold' in t.lower() or 'predictit' in t.lower()) and\n",
    "                             not 'wikipedia' in t.lower() and\n",
    "                             not 'reddit' in t.lower() and\n",
    "                             not 'instagram.com' in t.lower() and\n",
    "                             not ('guarded-everglades-89687.herokuapp.com' in t.lower() or 'localhost' in t.lower()) and\n",
    "                             not 'instacart' in t.lower() and\n",
    "                             not ('morning' in t.lower() and 'dispatch' in t.lower()) and\n",
    "                             not 'amazon.com' in t.lower() and\n",
    "                             not 'github' in t.lower() and\n",
    "                             not 'calendar.google' in t.lower() and\n",
    "                             not 'yout' in t.lower() and\n",
    "                             not 'app.asana.com' in t.lower() and\n",
    "                             not ('messages/' in t.lower() or 'inbox/' in t.lower() or 'mail.gogole' in t.lower() or 'swapcard' in t.lower()))]\n",
    "tabs_ = sorted(tabs_)\n",
    "print_tabs(tabs_, label='Other')\n",
    "\n"
   ]
  },
  {
   "cell_type": "code",
   "execution_count": 26,
   "id": "c9a2a7bb-86f9-45bd-b8d6-ed8889caed90",
   "metadata": {},
   "outputs": [],
   "source": [
    "#open_tabs(tabs_, page=1, per_page=60)"
   ]
  },
  {
   "cell_type": "code",
   "execution_count": 27,
   "id": "6c128ee3-03e2-4cfb-bfd1-0dfc84775af1",
   "metadata": {},
   "outputs": [
    {
     "name": "stdout",
     "output_type": "stream",
     "text": [
      "## Shuffled all tabs ## (294 tabs)\n",
      "\n",
      "https://mobile.twitter.com/EzraJNewman/status/1609655716528402432 | https://mobile.twitter.com/EzraJNewman/status/1609655716528402432\n",
      "https://www.metaculus.com/rankings/?question_status=resolved&timeframe=3month | https://www.metaculus.com/rankings/?question_status=resolved&timeframe=3month\n",
      "https://mobile.twitter.com/joshcarlosjosh/status/1608495441951477762 | https://mobile.twitter.com/joshcarlosjosh/status/1608495441951477762\n",
      "https://twitter.com/iabvek/status/1608665701103079425 | iabvek on Twitter: \"@peterwildeford @TrevorVossberg @Nichlemn @NathanpmYoung @SBF_FTX also it's possible he wasn't always a sociopath and resorted to stealing customer funds under the stress of facing ruin, which is a risk to factor in if you're a utilitarian with integrity wondering if you should take extreme risks\" / Twitter\n",
      "https://www.lesswrong.com/posts/Ag7oQifJQM5AnMCrR/my-simple-hack-for-increased-alertness-and-improved | My simple hack for increased alertness and improved cognitive functioning: very bright light - LessWrong\n",
      "https://twitter.com/StefanFSchubert/status/1608426996408647680 | Stefan Schubert on Twitter: \"An example of an analysis in this ballpark https://t.co/HTu0dhZK7H\" / Twitter\n",
      "https://mobile.twitter.com/AiEleuther/status/1608579066076213248 | EleutherAI on Twitter: \"A common meme in the AI world is that responsible AI means locking AIs up so that nobody can study their strengths and weaknesses. We disagree: if there is going to be LLM products by companies like OpenAI and Google then independent researchers must be able to study them.\" / Twitter\n",
      "https://twitter.com/ET_Californian/status/1609286173947760640 | https://twitter.com/ET_Californian/status/1609286173947760640\n",
      "https://www.gjopen.com/challenges/74-dubai-future-experts-challenge-2022 | Good Judgment® Open | Dubai Future Experts Challenge 2023\n",
      "https://www.fedex.com/fedextrack/?trknbr=392870489724&trkqual=2459944000~392870489724~FX | Detailed Tracking\n",
      "https://manifold.markets/IsaacKing/has-scott-alexander-ever-attempted | https://manifold.markets/IsaacKing/has-scott-alexander-ever-attempted\n",
      "https://www.cold-takes.com/why-would-ai-aim-to-defeat-humanity/ | Why Would AI \"Aim\" To Defeat Humanity?\n",
      "https://twitter.com/nathanjrobinson | Nathan J Robinson (@NathanJRobinson) / Twitter\n",
      "https://www.lesswrong.com/posts/B4K3bdnNNFQkBK8uc/lumenators-for-very-lazy-british-people | Lumenators for very lazy British people - LessWrong\n",
      "https://mobile.twitter.com/lxeagle17/status/1609289849554763776 | https://mobile.twitter.com/lxeagle17/status/1609289849554763776\n",
      "https://www.cincinnatisymphony.org/tickets-and-events/buy-tickets/cso/2223-cso-season/sibelius-symphony-2/ | Sibelius Symphony No. 2 | CSO\n",
      "https://twitter.com/datepsych/status/1609559485265203200 | Alexander on Twitter: \"Are the top 20% of men showered with attention and are \"Chads\" poaching average women on dating apps? What the OKCupid data show. 🧵\" / Twitter\n",
      "https://rychappell.substack.com/p/effective-altruism-faq | Effective Altruism FAQ - by Richard Y Chappell\n",
      "https://www.alignmentforum.org/posts/rCJQAkPTEypGjSJ8X/how-might-we-align-transformative-ai-if-it-s-developed-very | How might we align transformative AI if it’s developed very soon? - AI Alignment Forum\n",
      "https://imightbewrong.substack.com/ | I Might Be Wrong | Jeff Maurer | Substack\n",
      "https://www.lesswrong.com/posts/qy5dF7bQcFjSKaW58/bad-at-arithmetic-promising-at-math?commentId=MDu7XNhpFxyS6FKGv | Bad at Arithmetic, Promising at Math - LessWrong\n",
      "https://www.alignmentforum.org/allPosts?timeframe=weekly&sortedBy=top | All Posts - AI Alignment Forum\n",
      "https://twitter.com/RStateBState/status/1608670164257767425 | RedStateBlueState (280 character version) on Twitter: \"@iabvek @peterwildeford @TrevorVossberg @Nichlemn @NathanpmYoung @SBF_FTX most things are not like that though, as displayed by AI safety having trouble spending their riches for a while.\" / Twitter\n",
      "https://twitter.com/JoshuaBlake_/status/1609249461208743936 | Josh on Twitter: \"@IsaacKing314 @peterwildeford I'd say 1-4 are stronger than \"not AGI\", although I agree quite similar. 5 is literally GPT-4 is not AGI, 6 is probably not an area of disagreement. However, 7 is exactly the sort of prediction I would guess @peterwildeford is meaning in the original tweet.\" / Twitter\n",
      "https://twitter.com/thomaschattwill/status/1609637680131833856 | Thomas Chatterton Williams on Twitter: \"She just maintains perfect composure throughout. Previous generations had to be so much tougher.\" / Twitter\n",
      "https://rychappell.substack.com/p/consequentialism-beyond-action | Consequentialism Beyond Action - by Richard Y Chappell\n",
      "https://rodneybrooks.com/predictions-scorecard-2023-january-01/ | Predictions Scorecard, 2023 January 01 – Rodney Brooks\n",
      "https://twitter.com/i/lists/1584214389774761984 | @iveksl2/markets / Twitter\n",
      "https://www.lesswrong.com/posts/QBAjndPuFbhEXKcCr/my-understanding-of-what-everyone-in-technical-alignment-is | (My understanding of) What Everyone in Technical Alignment is Doing and Why - LessWrong\n",
      "https://twitter.com/iabvek/status/1608662456578211841 | iabvek on Twitter: \"@peterwildeford @TrevorVossberg @Nichlemn @NathanpmYoung @SBF_FTX but like what's the argument for avoiding going bust as a total utilitarian? Realistically you can only make finite bets in your lifetime so your probability of going bust irl is &lt;1, and in the worlds where you don't go bust you create an enormous amount of value\" / Twitter\n",
      "https://twitter.com/liquiddata | Brian T. Edwards (@LiquidData) / Twitter\n",
      "https://baseratesblog.substack.com/p/deep-hope | Deep Hope\n",
      "http://localhost:8888/lab/tree/(3)%20XRisk%20Model.ipynb | (3)%20XRisk%… (2) - JupyterLab\n",
      "https://www.alignmentforum.org/posts/QBAjndPuFbhEXKcCr/my-understanding-of-what-everyone-in-technical-alignment-is | (My understanding of) What Everyone in Technical Alignment is Doing and Why - AI Alignment Forum\n",
      "https://www.atlanticcouncil.org/content-series/atlantic-council-strategy-paper-series/risks-opportunities-2023/ | The top 23 risks and opportunities for 2023 - Atlantic Council\n",
      "https://twitter.com/messages/25776739-499352655 | Grace Adams / Twitter\n",
      "https://forum.effectivealtruism.org/posts/tGpwWsP5iBfZFigeZ/future-matters-6-ftx-collapse-value-lock-in-and | Future Matters #6: FTX collapse, value lock-in, and counterarguments to AI x-risk - EA Forum\n",
      "https://www.alignmentforum.org/posts/rCJQAkPTEypGjSJ8X/how-might-we-align-transformative-ai-if-it-s-developed-very#Keeping_supervision_competitive | How might we align transformative AI if it’s developed very soon?\n",
      "https://www.economist.com/christmas-specials/2022/12/20/should-we-care-about-people-who-need-never-exist | Should we care about people who need never exist? | The Economist\n",
      "https://www.nytimes.com/2022/12/31/us/politics/elise-stefanik.html | The Invention of Elise Stefanik - The New York Times\n",
      "https://www.reddit.com/r/relationship_advice/comments/zy6cat/28f36m_my_boyfriend_cheated_on_me_with_his_exwife/ | [28F][36M] My boyfriend cheated on me with his ex-wife. What am I supposed to do… : relationship_advice\n",
      "https://www.lesswrong.com/posts/hC2NFsuf5anuGadFm/how-to-build-a-lumenator | How to Build a Lumenator - LessWrong\n",
      "https://twitter.com/Aella_Girl/status/1609291220752138242 | Aella on Twitter: \"like, really basic stuff that everybody should agree makes sense. Like, \"don't try to shame a behavior by pointing out an unrelated behavior\" or \"be really careful about making claims about other people's motivations unless you have super strong evidence\"\" / Twitter\n",
      "https://www.cold-takes.com/racing-through-a-minefield-the-ai-deployment-problem/ | Racing through a minefield: the AI deployment problem\n",
      "https://www.lesswrong.com/posts/qy5dF7bQcFjSKaW58/bad-at-arithmetic-promising-at-math?commentId=XADsKyb6CvYB4ZD9k | Bad at Arithmetic, Promising at Math - LessWrong\n",
      "https://en.m.wikipedia.org/wiki/Conway's_Game_of_Life | Conway's Game of Life - Wikipedia\n",
      "https://www.facebook.com/nora.ammann.9/posts/pfbid02wV52z2ELPi5dTpMoh6aSogDHBJpuG71aGGBLF2as4pRtc2W2QYk8gtKJmgEVYcEUl | (1) Facebook\n",
      "https://docs.google.com/document/d/19aoEnbr2fwVOrX6culd4VD-e9KA_q_Cuo0uSFyBSXsQ/edit | Zoe to summarize - Google Docs\n",
      "https://www.youtube.com/playlist?list=PL4fGSI1pDJn69On1f-8NAvX_CYlx7QyZc | Top 100 Music Videos United States - YouTube\n",
      "https://www.alignmentforum.org/posts/3L46WGauGpr7nYubu/the-plan | The Plan - AI Alignment Forum\n",
      "https://twitter.com/daniel_eth/status/1609327144462856193 | Daniel Eth💡 on Twitter: \"@peterwildeford @profoundlyyyy Roughly $100k-$500k\" / Twitter\n",
      "https://twitter.com/_HannahRitchie/status/1609544920741601283 | Hannah Ritchie on Twitter: \"My prediction for 2023: the year the @IEA makes its energy data open-access and free for everyone. Who's with me?\" / Twitter\n",
      "https://www.utilitarianism.net/population-ethics#person-affecting-views-and-the-procreative-asymmetry | Population Ethics: The Total View, Average View & Other Theories – Utilitarianism.net\n",
      "https://mobile.twitter.com/BirdAppKJ/status/1609720387117678592 | https://mobile.twitter.com/BirdAppKJ/status/1609720387117678592\n",
      "https://www.lesswrong.com/posts/TWorNr22hhYegE4RT/models-don-t-get-reward | Models Don't \"Get Reward\" - LessWrong\n",
      "https://twitter.com/EPBResearch/status/1608502534393532416 | Eric Basmajian on Twitter: \"The second half of 2022 was historic for the US housing market 🏠 Transaction volumes froze 🧊 Prices started to decline 📉 Here's an unbiased and data-backed update on the US housing market heading into 2023 👇 1/\" / Twitter\n",
      "https://twitter.com/sasuke___420/status/1608667739736137729 | https://twitter.com/sasuke___420/status/1608667739736137729\n",
      "http://localhost:8888/lab/tree/(2)%20When%20TAI%3F.ipynb | (2)%20When%2… (3) - JupyterLab\n",
      "https://docs.google.com/spreadsheets/d/1W_LQ-vpCoVGluJWIDqxIq5d9gX550x-P3ZPcmQBy2H0/edit#gid=0 | Doc review - Google Sheets\n",
      "https://blog.heim.xyz/weekly-review/ | Weekly Review\n",
      "https://www.politico.com/news/magazine/2022/12/31/the-worst-political-predictions-of-2022-00074872 | Oops! The Worst Political Predictions of 2022 - POLITICO\n",
      "https://mobile.twitter.com/LoganR2WH/status/1609762902457700357 | https://mobile.twitter.com/LoganR2WH/status/1609762902457700357\n",
      "https://twitter.com/tamaybes/status/1609659231682334720 | Tamay Besiroglu on Twitter: \"Recent applications of deep learning in science and engineering, such as AlphaFold and Copilot, have been astonishing. What does standard economic growth theory say about the economic effects of its adoption in R&amp;D? We sketch a simple picture: https://t.co/LfY7jA2UDZ\" / Twitter\n",
      "https://twitter.com/sjwhitmore/status/1609314774843785216 | Sam Whitmore on Twitter: \"Last New Years, I made a resolution to run at least 4 miles outside every day in 2022. 365 days and 2468 miles later, I did it! Things I learned: 1) Keeping a daily promise to yourself is empowering 2) Commitment compounds over time 3) Getting outside every day feels great! https://t.co/j1n2Ug9Hy1\" / Twitter\n",
      "https://www.alignmentforum.org/posts/qJgz2YapqpFEDTLKn/deepmind-alignment-team-opinions-on-agi-ruin-arguments | DeepMind alignment team opinions on AGI ruin arguments - AI Alignment Forum\n",
      "https://nypost.com/2022/12/25/why-2023-will-be-like-1967s-summer-of-love-for-the-stock-market/ | Why 2023 will be like 1967’s ‘Summer of Love’ for the stock market\n",
      "https://en.wikipedia.org/wiki/14_October_2017_Mogadishu_bombings | 14 October 2017 Mogadishu bombings - Wikipedia\n",
      "https://mobile.twitter.com/Kat__Woods/status/1608585165269512218 | Kat Woods on Twitter: \"As a wise woman once said: to have more drugs, you must have less drugs bc tolerance is a b*tch If you love coffee, only drink it 1x a week ☕️ This makes it so you don't have a really high tolerance so you actually 𝘧𝘦𝘦𝘭 the effects (energy, joy) 🧵 https://t.co/Vbq1P0s7lH\" / Twitter\n",
      "https://noahpinion.substack.com/p/i-come-bringing-good-news-about-hydrogen?utm_source=profile&utm_medium=reader2 | I come bringing good news about hydrogen - by Noah Smith\n",
      "https://twitter.com/iabvek/status/1608662814511755267 | iabvek on Twitter: \"@RStateBState @peterwildeford @TrevorVossberg @Nichlemn @NathanpmYoung @SBF_FTX this guy has it exactly right https://t.co/JwkNNAirVy\" / Twitter\n",
      "https://twitter.com/yishan/status/1593515620942815232 | Yishan on Twitter: \"If I had to bet on whether Elon will pull through and Twitter ultimately succeeds, I’d probably still bet on the success case. Social networks are surprisingly durable. Still, there is a KNOWN playbook for how to take over a dysfunctional company and quickly turn it around. 🧵\" / Twitter\n",
      "https://www.cincinnatisymphony.org/tickets-and-events/buy-tickets/cso/2223-cso-season/beethovens-fifth/ | Beethoven's Fifth | CSO\n",
      "https://twitter.com/MattBruenig?ref_src=twsrc%5Egoogle%7Ctwcamp%5Eserp%7Ctwgr%5Eauthor | Matt Bruenig (@MattBruenig) / Twitter\n",
      "https://www.cincinnatisymphony.org/tickets-and-events/buy-tickets/pops/2223-pops-season/tchaikovsky-spectacular-1812-overture/ | Tchaikovsky Spectacular: 1812 Overture | Pops\n",
      "https://twitter.com/occamsbulldog/status/1609254451511951365 | Occam's Bulldog on Twitter: \"@JoshuaBlake_ @IsaacKing314 @peterwildeford There’s an equivocation btw “ChatGPT is AGI” meaning it’s very general and useful, and “AGI is LLMs” meaning you literally only build AGI in the future with LLMs, no RL (which chatGPT has), multimodality, or real-world interaction abilities (i.e. RL agent with pc access)\" / Twitter\n",
      "https://twitter.com/iabvek/status/1608669397106987011 | https://twitter.com/iabvek/status/1608669397106987011\n",
      "https://en.wikipedia.org/wiki/September_11_attacks | September 11 attacks - Wikipedia\n",
      "https://www.lesswrong.com/posts/camG6t6SxzfasF42i/a-year-of-ai-increasing-ai-progress | A Year of AI Increasing AI Progress - LessWrong\n",
      "https://twitter.com/ECaliberSeven/status/1609413285153062913 | Ethan C7 on Twitter: \"This New Year's Eve, we celebrate a great year for Election Twitter, from the growth of the community to the breadth and prescience of its analysis. Given the occasion, I'd like to reflect on a few things, and thank the good friends that make this hellsite worth it.\" / Twitter\n",
      "https://twitter.com/messages/25776739-1430484500837015552 | Ege Erdil / Twitter\n",
      "https://mobile.twitter.com/BenDWalsh/status/1609725346001350663 | https://mobile.twitter.com/BenDWalsh/status/1609725346001350663\n",
      "http://localhost:8890/lab/tree/Forecastflow2.ipynb | Forecastflow… - JupyterLab\n",
      "https://zenhabits.net/zen-to-done-ztd-the-ultimate-simple-productivity-system/ | Zen To Done (ZTD): The Simple Productivity System - zen habits zen habits\n",
      "https://en.wikipedia.org/wiki/2008_Christmas_massacres | 2008 Christmas massacres - Wikipedia\n",
      "https://forum.effectivealtruism.org/posts/Sp2pMyrHPzK3jmwLq/how-many-hours-is-your-standard-workweek-why#answers | How many hours is your standard workweek? Why? - EA Forum\n",
      "https://docs.google.com/spreadsheets/d/14gEqOpr3GucAH2AqXC5B_5A5-aLrFAy9k2CH6Egt0LM/edit#gid=172531079 | Copy of  [for release] 2022 ACX Prediction Contest predictions\n",
      "https://docs.google.com/spreadsheets/d/1yRL_TlSXplmbgqBPufXdaVi-lZUWoShIyJeVBIvojRo/edit#gid=333449817 | 2022 Stats - Google Sheets\n",
      "https://www.youtube.com/watch?v=CZJvBfoHDk0 | Golden Buzzer: Nightbirde's Original Song Makes Simon Cowell Emotional - America's Got Talent 2021 - YouTube\n",
      "https://twitter.com/JgaltTweets/status/1608116197983195136 | JgaltTweets on Twitter: \"Only 31% of respondents think this is likely\" / Twitter\n",
      "https://www.gjopen.com/challenges/75-the-economist-the-world-ahead-2023 | Good Judgment® Open | The Economist: The World Ahead 2023\n",
      "https://twitter.com/IanPitchford | Ian Pitchford (@IanPitchford) / Twitter\n",
      "https://mobile.twitter.com/DavidSacks/status/1608605934607282176 | https://mobile.twitter.com/DavidSacks/status/1608605934607282176\n",
      "https://forum.effectivealtruism.org/posts/ethgzbKhtbug3DF6y/making-decisions-using-multiple-worldviews | Making decisions using multiple worldviews - EA Forum\n",
      "https://twitter.com/karpathy/status/1608895189078380544 | Andrej Karpathy on Twitter: \"Nice read on reverse engineering of GitHub Copilot 🪄. Copilot has dramatically accelerated my coding, it's hard to imagine going back to \"manual coding\". Still learning to use it but it already writes ~80% of my code, ~80% accuracy. I don't even really code, I prompt. &amp; edit.\" / Twitter\n",
      "https://en.wikipedia.org/wiki/2015_Baga_massacre | 2015 Baga massacre - Wikipedia\n",
      "https://rychappell.substack.com/p/deontic-pluralism | Deontic Pluralism - by Richard Y Chappell - Good Thoughts\n",
      "https://www.benkuhn.net/writing/ | Why and how to write things on the Internet | benkuhn.net\n",
      "https://docs.google.com/document/d/1YWjQ320UN4Vo9vLu-7DtRIoCC1nCU629k-ttUOsSh8Y/edit# | Quarterly Review 2022Q2-4\n",
      "https://mobile.twitter.com/messages/25776739-749003563494354945 | https://mobile.twitter.com/messages/25776739-749003563494354945\n",
      "https://www.facebook.com/spencer.greenberg/posts/pfbid0QkKp7fCPHEy3AS7gfeijgB8GvmwjvPHqtt2Xb6NG3DwK5gnq3smKFGunnn8hmwPHl | (1) Facebook\n",
      "http://localhost:8888/lab/tree/(2)%20When%20TAI%3F.ipynb | (2)%20When%2… - JupyterLab\n",
      "https://sleepopolis.com/calculators/jet-lag/ | Jet Lag Rooster by Sleepopolis\n",
      "https://twitter.com/RStateBState/status/1608668364058288129 | RedStateBlueState (280 character version) on Twitter: \"@iabvek @peterwildeford @TrevorVossberg @Nichlemn @NathanpmYoung @SBF_FTX yeah on more thought I realize Cole didn't mention the \"max investment\" part which is really the crux of the matter, and thus I disagree with Cole that this was an important mistake in the SBF case\" / Twitter\n",
      "https://twitter.com/Miles_Brundage/status/1608330942619475968 | Miles Brundage on Twitter: \"One of the better recent Google LM papers IMO from a safety/policy research perspective--the harm estimate section is very interesting, as is the deferral % stuff. See also this concurrent work on GPT-3.5's medical knowledge: https://t.co/k7zHeTVO55 https://t.co/htYlUj7w7z\" / Twitter\n",
      "https://www.calnewport.com/blog/2007/09/25/how-to-make-resolutions-that-stick/ | How to Make Resolutions that Stick - Study Hacks - Cal Newport\n",
      "https://mobile.twitter.com/daniel_eth/status/1609319649610719237 | https://mobile.twitter.com/daniel_eth/status/1609319649610719237\n",
      "https://bewrong.substack.com/p/markets-are-mostly-fake?utm_source=share&utm_medium=android | Markets Are Kinda Fake - by Judah - Be Wrong\n",
      "https://twitter.com/LoganR2WH/status/1609289640959447040 | Logan Phillips on Twitter: \"@KeyserSozeBro1 @nytimes @samshirazim @LarrySabato Seriously. It stressed me out so much that my forecast was saying something so different. This sounds silly in hindsight - but as Larry Sabato said, it really did make me question my own judgement.\" / Twitter\n",
      "https://music.apple.com/us/playlist/suondertarks/pl.u-6mo4lG3clB7gR1 | https://music.apple.com/us/playlist/suondertarks/pl.u-6mo4lG3clB7gR1\n",
      "https://forum.effectivealtruism.org/inbox/qzFjHCDYvxwZGNeWR | Private Conversation - EA Forum\n",
      "https://mobile.twitter.com/RStateBState/status/1608662339116761090 | RedStateBlueState (280 character version) on Twitter: \"@iabvek @peterwildeford @TrevorVossberg @Nichlemn @NathanpmYoung @SBF_FTX Read the thread\" / Twitter\n",
      "https://en.wikipedia.org/wiki/Jonestown | Jonestown - Wikipedia\n",
      "https://twitter.com/iabvek/status/1608665403827585024 | iabvek on Twitter: \"@RStateBState @peterwildeford @TrevorVossberg @Nichlemn @NathanpmYoung @SBF_FTX fwiw one thing that helped me be less confused about arithmetic vs geometric return about is thinking about/simulating a stock that has a 50% chance of doubling and 50% chance of halving each day\" / Twitter\n",
      "https://mobile.twitter.com/Peter_0_0_g/status/1609701220028932098 | https://mobile.twitter.com/Peter_0_0_g/status/1609701220028932098\n",
      "https://guarded-everglades-89687.herokuapp.com/update/14103/?url=&title=&aggregator=&before=&after=&sort=random&page=1&starred= | Update Link\n",
      "https://twitter.com/Bob_Wachter/status/1607162086282645505 | Bob Wachter on Twitter: \"Covid (@UCSF) Chronicles, Day 1013 As we enter Covid Year 3, it’s clear we’ll be in our current predicament for the foreseeable future. This means we all need to find our own method to weigh &amp; mitigate risks. Today I’ll describe my “50% Rule” &amp; how it governs my choices. (1/25)\" / Twitter\n",
      "https://www.cold-takes.com/ai-safety-seems-hard-to-measure/ | AI Safety Seems Hard to Measure\n",
      "https://mobile.twitter.com/austinalter/status/1609707209100754949 | https://mobile.twitter.com/austinalter/status/1609707209100754949\n",
      "https://mobile.twitter.com/goodside/status/1608650729245540353 | https://mobile.twitter.com/goodside/status/1608650729245540353\n",
      "https://www.nytimes.com/2022/12/27/opinion/tesla-stock-elon-musk.html | Opinion | Can Elon Musk’s Tesla Really Last? - The New York Times\n",
      "https://twitter.com/occamsbulldog/status/1609253408636284928 | Occam's Bulldog on Twitter: \"@JoshuaBlake_ @IsaacKing314 @peterwildeford I don’t think these are very good questions - Marcus is all over the place in 7, e.g. the bolded sentence at the top is obvious and banal. 1st highlighted sentence about structured, explicit knowledge seems totally false. The 2nd highlighted reads as another true but obvious. https://t.co/edVwoqJXO4\" / Twitter\n",
      "https://www.metacritic.com/browse/games/score/metascore/all/all/filtered?view=condensed | Best Video Games of All Time - Metacritic\n",
      "https://noahpinion.substack.com/p/techno-optimism-for-2023?utm_source=profile&utm_medium=reader2 | Techno-optimism for 2023 - by Noah Smith - Noahpinion\n",
      "https://mobile.twitter.com/peterwildeford/status/1609268586312245249 | https://mobile.twitter.com/peterwildeford/status/1609268586312245249\n",
      "https://www.deepvail.com/ | Deepvail\n",
      "https://noahpinion.substack.com/p/american-workers-need-lots-and-lots?utm_source=profile&utm_medium=reader2 | American workers need lots and lots of robots\n",
      "https://twitter.com/BorisMPower/status/1609603655082336256 | Boris Power on Twitter: \"@schulzb589 I hear complaints that this is due to memorization - did anyone test them on new uniquely created questions?\" / Twitter\n",
      "https://guarded-everglades-89687.herokuapp.com/update/128889/?url=&title=&aggregator=&before=&after=&sort=random&page=1&starred= | Update Link\n",
      "https://docs.google.com/document/d/1I0Ed8sYFLEKMlbPJG3SViqeE-POkDRASL0eE7fcjCn4/edit# | Appendix: AAC’s ICAPs metric - Google Docs\n",
      "https://calebontiveros.substack.com/p/2022?utm_source=facebook&sd=pf&fbclid=IwAR1RHCsOq2LbLQU-GWvkdghb33jWw1exoQheoyWZP5rJBM-IaOl6OgTkR4g | 2022 - by Caleb Ontiveros - Caleb’s Newsletter\n",
      "https://www.alignmentforum.org/posts/BzYmJYECAc3xyCTt6/the-plan-2022-update | The Plan - 2022 Update - AI Alignment Forum\n",
      "https://mobile.twitter.com/Robert_Graboyes/status/1609300967152910336 | https://mobile.twitter.com/Robert_Graboyes/status/1609300967152910336\n",
      "https://mobile.twitter.com/TrevorVossberg/status/1608658903558127618 | https://mobile.twitter.com/TrevorVossberg/status/1608658903558127618\n",
      "https://scholars-stage.org/we-can-only-kick-taiwan-down-the-road-so-far/ | We Can Only Kick Taiwan Down the Road For So Long – The Scholar's Stage\n",
      "https://forum.effectivealtruism.org/posts/DnMg5q4Wyuuf99kkX/reflections-on-my-5-month-ai-alignment-upskilling-grant | Reflections on my 5-month AI alignment upskilling grant - EA Forum\n",
      "https://mobile.twitter.com/peterwildeford/status/1608655557342429184 | Peter Wildeford on Twitter: \"@TrevorVossberg @Nichlemn @NathanpmYoung @SBF_FTX Cool. Just doesn’t seem like a good move if you’re expecting to make more bets.\" / Twitter\n",
      "https://twitter.com/Noahpinion/following | People followed by Noah Smith 🐇🇺🇦 (@Noahpinion) / Twitter\n",
      "https://mobile.twitter.com/lxeagle17/status/1609716589049565184 | https://mobile.twitter.com/lxeagle17/status/1609716589049565184\n",
      "https://twitter.com/iabvek/status/1608666992755765249 | https://twitter.com/iabvek/status/1608666992755765249\n",
      "https://forum.effectivealtruism.org/posts/qJMjbHp9HKxT8XEhp/givewell-and-its-hiring-process-needs-serious-reform#comments | Givewell, and its hiring process, needs serious reform - EA Forum\n",
      "https://twitter.com/messages/25776739-1551581042259132418 | John Stuart is Chilling in NYC / Twitter\n",
      "https://mobile.twitter.com/messages/25776739-103418485 | https://mobile.twitter.com/messages/25776739-103418485\n",
      "https://mobile.twitter.com/Nichlemn/status/1608658760016474112 | https://mobile.twitter.com/Nichlemn/status/1608658760016474112\n",
      "https://smile.amazon.com/light-therapy-wake-up/s?k=light+therapy+wake+up&sa-no-redirect=1 | Amazon.com : light therapy wake up\n",
      "https://fortelabs.com/blog/para/ | The PARA Method: A Universal System for Organizing Digital Information - Forte Labs\n",
      "https://smile.amazon.com/Travelite-Bright-Therapy-Portable-Black/dp/B077GBMNY3?sa-no-redirect=1 | AmazonSmile: Travelite 10,000 Lux Bright Light Portable Light Box, Black : Health & Household\n",
      "https://techcrunch.com/2022/12/21/quora-launches-poe-a-way-to-talk-to-ai-chatbots-like-chatgpt/ | Quora launches Poe, a way to talk to AI chatbots like ChatGPT | TechCrunch\n",
      "https://en.wikipedia.org/wiki/2007_Yazidi_communities_bombings | 2007 Yazidi communities bombings - Wikipedia\n",
      "https://mobile.twitter.com/Willyintheworld/status/1608564183766913025 | https://mobile.twitter.com/Willyintheworld/status/1608564183766913025\n",
      "https://smile.amazon.com/wake-up-light/s?k=wake+up+light&sa-no-redirect=1 | Amazon.com : wake up light\n",
      "https://en.wikipedia.org/wiki/Human_sacrifice_in_Aztec_culture#Estimates_of_the_scope_of_the_sacrifices | Human sacrifice in Aztec culture - Wikipedia\n",
      "https://mobile.twitter.com/merjerper/status/1609727373653540866 | https://mobile.twitter.com/merjerper/status/1609727373653540866\n",
      "https://marginalrevolution.com/marginalrevolution/2022/08/the-student-loan-giveaway-its-much-bigger-than-you-think.html | The Student Loan Giveaway is Much Bigger Than You Think - Marginal REVOLUTION\n",
      "https://forum.effectivealtruism.org/posts/sW6RggfddDrcmM6Aw/how-might-we-align-transformative-ai-if-it-s-developed-very | How might we align transformative AI if it’s developed very soon? - EA Forum\n",
      "https://guarded-everglades-89687.herokuapp.com/update/132030/?url=&title=&aggregator=&before=&after=&sort=random&page=1&starred= | Update Link\n",
      "https://mobile.twitter.com/TrevorVossberg/status/1608658003582128130 | https://mobile.twitter.com/TrevorVossberg/status/1608658003582128130\n",
      "https://www.laststanding.app/ | Last Resolution Standing\n",
      "https://mattsclancy.com/ | Matt Clancy - Matt S Clancy\n",
      "https://mobile.twitter.com/Noahpinion/status/1609304341944635392 | https://mobile.twitter.com/Noahpinion/status/1609304341944635392\n",
      "https://guarded-everglades-89687.herokuapp.com/update/152508/?url=&title=&aggregator=&before=&after=&sort=random&page=1&starred= | Update Link\n",
      "https://twitter.com/benskuhn/status/1609933725604929537 | Ben Kuhn on Twitter: \"People sometimes ask me the hardest decision I've made as a manager. My hot take is that actually ~no particular call is too hard. What's hard (in a fast growing org) is what I think of as the \"decision firehose\"—life comes at you too fast to even make all the easy calls well.\" / Twitter\n",
      "https://twitter.com/rudnicknoah/status/1609556132456173568 | Noah Wyhof-Rudnick on Twitter: \"Last part of my series on Speaker elections that took multiple rounds is live here! We finally move beyond the Civil War to the last time it happened 100 years ago and a look at Speaker votes in modern times https://t.co/iVGcHf8Q7c\" / Twitter\n",
      "https://twitter.com/Wertwhile/status/1609177422074896386 | Joel Wertheimer on Twitter: \"Have so many complaints about this article I don't know where to begin. https://t.co/qWsSZR3sAs\" / Twitter\n",
      "https://twitter.com/iabvek/status/1608673197305757696 | iabvek on Twitter: \"@khepricious @RStateBState @peterwildeford @TrevorVossberg @Nichlemn @NathanpmYoung @SBF_FTX the simulation he cites doesn't make that assumption afaict so I think he's just saying nonsense (that sounds plausible because it's very close to the common sense answer)\" / Twitter\n",
      "https://twitter.com/iabvek/status/1608666033984012288 | https://twitter.com/iabvek/status/1608666033984012288\n",
      "https://twitter.com/TrevorVossberg/status/1608665783311421440 | Trevor Vossberg (669/1000 miles 🗻🚲) on Twitter: \"@RStateBState @peterwildeford @Nichlemn @NathanpmYoung @SBF_FTX An ex post analysis of what actually happened is not appropriate here as one doesn’t have that knowledge ahead of time. If look ex post at St Petersburg then we’d think one should only wager once most of the time.\" / Twitter\n",
      "https://marginalrevolution.com/marginalrevolution/2022/10/classical-liberalism-vs-the-new-right.html | Classical liberalism vs. The New Right - Marginal REVOLUTION\n",
      "https://noahpinion.substack.com/p/the-war-economy-batteries-and-drones?utm_source=profile&utm_medium=reader2 | The War Economy: Batteries and drones - by Noah Smith\n",
      "https://mobile.twitter.com/ECaliberSeven/status/1609683949038751745 | https://mobile.twitter.com/ECaliberSeven/status/1609683949038751745\n",
      "https://mobile.twitter.com/peterwildeford/status/1609263298687401985 | https://mobile.twitter.com/peterwildeford/status/1609263298687401985\n",
      "https://twitter.com/mealreplacer/status/1608489052009037824 | John Stuart is Chilling in NYC on Twitter: \"GiveWell rocks, but they do operate under a rather strict set of assumptions that I’m not sure fully align with a lot of (EA) donors’ attitudes towards uncertainty. I wonder if there is some status quo bias going on here — GiveWell is a familiar face to many of us.\" / Twitter\n",
      "https://toot.community/@evavivalt@econtwitter.net/109592633097375093 | Eva Vivalt: \"There's a bunch of surveys on …\" - toot.community\n",
      "https://www.alignmentforum.org/posts/HBxe6wdjxK239zajf/what-failure-looks-like | What failure looks like - AI Alignment Forum\n",
      "https://twitter.com/Aella_Girl/status/1608996282236014592 | Aella on Twitter: \"who should I follow on twitter who I'm not already following? Suggest people and vote for other suggestions w/ likes; I will follow the most-liked suggestion (unless it is a troll or someone i have blocked in which case I reserve the right to pick the next highest voted)\" / Twitter\n",
      "https://docs.google.com/document/d/1YWjQ320UN4Vo9vLu-7DtRIoCC1nCU629k-ttUOsSh8Y/edit# | Quarterly Review 2022Q2-4 - Google Docs\n",
      "https://twitter.com/GRDecter/status/1608109373062057984 | Genevieve Roch-Decter, CFA on Twitter: \"Many public stocks are not 'investments'. They are schemes for insiders and bankers to cash out at your expense. The sooner you realize this is the game Wall Street plays, the better. https://t.co/h5px2nDZkJ\" / Twitter\n",
      "https://twitter.com/peterwildeford/status/1607843847547277312 | (2) Peter Wildeford on Twitter: \"@PradyuPrasad Plan: Raise $20M for @RethinkPriors , use that to solve the moral weight problem, figure out good AI governance strategies, better understand worldview diversification, figure out insect farming, figure out wild animal welfare, do surveys on longtermism and EA, and other things!\" / Twitter\n",
      "https://intelligence.org/2018/10/03/rocket-alignment/ | The Rocket Alignment Problem - Machine Intelligence Research Institute\n",
      "https://twitter.com/RStateBState/status/1608670005641760771 | RedStateBlueState (280 character version) on Twitter: \"@iabvek @peterwildeford @TrevorVossberg @Nichlemn @NathanpmYoung @SBF_FTX it's weird because there are *some instances* where there is non-decreasing marginal utility, eg right now they need some x billion$ to develop universal vaccines. In that case once you get to x biillion$, marginal utility increases drastically.\" / Twitter\n",
      "https://rychappell.substack.com/p/ethical-theory-and-practice | Ethical Theory and Practice - by Richard Y Chappell\n",
      "https://twitter.com/gracevadams/status/1608751628529840128 | Grace Adams on Twitter: \"@ohwizenedtortle Neither of these were released this year but I think my top 2 songs on Spotify unwrapped were: Next Level Charli by Charli XCX Don’t Start Now by Dua Lipa This is definitely the energy I want to have in my life\" / Twitter\n",
      "https://www.lesswrong.com/posts/qEweugBipR5P2cMyK/preprint-is-out-100-000-lumens-to-treat-seasonal-affective | Preprint is out! 100,000 lumens to treat seasonal affective disorder - LessWrong\n",
      "https://twitter.com/CarlJoh29875530/status/1608867191830765568 | Carl Johnson on Twitter: \"@iabvek @peterwildeford @TrevorVossberg @Nichlemn @NathanpmYoung @SBF_FTX I think Peter believes that it’s not actually maximizing EV, because there are other bets you could make with Earth that are higher-EV in the long run. This is why you would use the Kelly criterion. But I’m also curious what his explanation is.\" / Twitter\n",
      "https://mdickens.me/ | Home | Michael Dickens\n",
      "https://forum.effectivealtruism.org/posts/Khon9Bhmad7v4dNKe/the-cost-of-rejection#comments | The Cost of Rejection - EA Forum\n",
      "https://twitter.com/Bob_Wachter/status/1607543986415374338 | Bob Wachter on Twitter: \"I appreciate all (or, at least most) of the feedback on yesterday’s post regarding how I make decisions about Covid risks and mitigations, including my 50% Rule. https://t.co/K28oB5WB38 A brief follow-up thread today, with a few additional thoughts and responses: (1/12)\" / Twitter\n",
      "https://mobile.twitter.com/abarber1/status/1609699295317622784 | https://mobile.twitter.com/abarber1/status/1609699295317622784\n",
      "https://americanaffairsjournal.org/2022/11/but-seriously-how-do-we-make-an-entrepreneurial-state/ | But Seriously, How Do We Make an Entrepreneurial State? - American Affairs Journal\n",
      "https://docs.manifold.markets/api | API | Manifold Docs\n",
      "https://twitter.com/RStateBState/status/1608667587050897411 | https://twitter.com/RStateBState/status/1608667587050897411\n",
      "https://www.alignmentforum.org/posts/bC5xd7wQCnTDw7Kyx/getting-up-to-speed-on-the-speed-prior-in-2022 | Getting up to Speed on the Speed Prior in 2022 - AI Alignment Forum\n",
      "https://www.reddit.com/r/GPT3+datingoverthirty+relationship_advice | Posts from datingoverthirty, relationship_advice, GPT3\n",
      "https://ridl.io/the-russo-ukrainian-war-ten-months-in-taking-stock/ | The Russo-Ukrainian war ten months in: taking stock – Riddle Russia\n",
      "https://idlewords.com/2023/1/why_not_mars.htm | Why Not Mars (Idle Words)\n",
      "https://www.stitchfix.com/onboarding/style-profile/#/mens_size_component | Style Profile | Personal Styling for Women & Men\n",
      "https://twitter.com/profoundlyyyy/status/1608659203354406912 | A Being’s Burner 🧩🧘‍♂️ on Twitter: \"Drop your AGI timelines and reasons why👇👇\" / Twitter\n",
      "https://twitter.com/datepsych | (1) Alexander (@datepsych) / Twitter\n",
      "https://en.wikipedia.org/wiki/Massacre_of_Trujillo | Massacre of Trujillo - Wikipedia\n",
      "https://twitter.com/NateSilver538/status/1585988616181846016 | Nate Silver on Twitter: \"@Nate_Cohn Dude, the Ds in your polls are collectively outperforming Biden, who won the popular vote by 4.5 points! I don't know if this is a case where you don't want to throw your editors under the bus, but these are good polls for Ds and the narrative in the story doesn't match the data.\" / Twitter\n",
      "https://mobile.twitter.com/messages/25776739-954085086160289792 | https://mobile.twitter.com/messages/25776739-954085086160289792\n",
      "https://forum.effectivealtruism.org/posts/JSYjxyfgsvhZLSE5L/end-of-year-effectiveness-check-in-a-tool-for-personal | End-of-Year Effectiveness Check-In: A Tool for Personal Reflection - EA Forum\n",
      "https://twitter.com/Aella_Girl/status/1608996282236014592 | (2) Aella on Twitter: \"who should I follow on twitter who I'm not already following? Suggest people and vote for other suggestions w/ likes; I will follow the most-liked suggestion (unless it is a troll or someone i have blocked in which case I reserve the right to pick the next highest voted)\" / Twitter\n",
      "https://twitter.com/iabvek/status/1608667929985560584 | https://twitter.com/iabvek/status/1608667929985560584\n",
      "https://www.nytimes.com/2022/12/31/us/politics/polling-election-2022-red-wave.html?smid=nytcore-ios-share&referringSource=articleShare | The ‘Red Wave’ Washout: How Skewed Polls Fed a False Election Narrative - The New York Times\n",
      "https://mobile.twitter.com/xv40rds/status/1609562048480047106 | https://mobile.twitter.com/xv40rds/status/1609562048480047106\n",
      "https://guarded-everglades-89687.herokuapp.com/?url=&title=&aggregator=-Custom&before=&after=&page=1&sort=&starred= | Upcoming Links\n",
      "https://docs.google.com/document/d/1vKBX8z69kBnHcwdRz-dnzV-Q-RpOIv782NXBd8PpQ4w/edit | One-off Summaries - Google Docs\n",
      "https://effectivealtruism.force.com/EAGlobal/s/eaglobalapplication?eId=a4WAJ000000000k2AA | EAGlobalApplication\n",
      "https://twitter.com/khepricious/status/1608672194992951297 | Khepricious on Twitter: \"@iabvek @RStateBState @peterwildeford @TrevorVossberg @Nichlemn @NathanpmYoung @SBF_FTX Either it's that, or it's implicitly making the (correct) assumption (that you likely agree with) that in the real world, there are fewer and worse opportunities to make extremely large +EV bets than much smaller ones. I'm not sure he recognizes he's making that assumption\" / Twitter\n",
      "https://noahpinion.substack.com/p/my-sci-fi-novel-recommendations | My sci-fi novel recommendations - by Noah Smith\n",
      "https://mobile.twitter.com/Domahhhh/status/1609704065084030976 | Domer on Twitter: \"@peterwildeford Man alive, I think pretty much every single major prediction here is insane.\" / Twitter\n",
      "https://twitter.com/RStateBState/status/1608665842866360324 | https://twitter.com/RStateBState/status/1608665842866360324\n",
      "https://twitter.com/RStateBState/status/1608667270812938241 | RedStateBlueState (280 character version) on Twitter: \"@iabvek @peterwildeford @TrevorVossberg @Nichlemn @NathanpmYoung @SBF_FTX this is unrelated to that. if you accept SBF's premises than yeah that's the right conclusion in that case\" / Twitter\n",
      "https://twitter.com/peterhartree/status/1609570943713804289 | Peter Hartree on Twitter: \"My vote for “effective altruism CEO of the year” goes to @peterwildeford. 1. Over the past couple years @rethinkpriorities have grown their research teams faster than any other EA org. Their research database is, increasingly, an absolute banger. https://t.co/6WzRw7d2V2\" / Twitter\n",
      "https://smile.amazon.com/wake-up-light/s?k=wake+up+light&page=3&sa-no-redirect=1 | Amazon.com : wake up light\n",
      "https://en.wikipedia.org/wiki/Dennis_Hastert | Dennis Hastert - Wikipedia\n",
      "https://rychappell.substack.com/p/2022-in-review | 2022 in Review - by Richard Y Chappell - Good Thoughts\n",
      "https://twitter.com/TrevorVossberg/status/1608667288915546117 | https://twitter.com/TrevorVossberg/status/1608667288915546117\n",
      "https://elbow.substack.com/p/the-efficiency-trap?utm_source=twitter&sd=pf | The Efficiency Trap - by Gilad Seckler - The Elbow\n",
      "https://twitter.com/tunguz/status/1609891575798153217 | https://twitter.com/tunguz/status/1609891575798153217\n",
      "https://twitter.com/notanastronomer/status/1609581051277611009 | Lauren Gilbert on Twitter: \"does anyone have recommendations for UK SAD lamps? (Yes, I've seen the LW corn bulb post but that seems to require way more DIY than I want to do in a sublet.)\" / Twitter\n",
      "https://www.alignmentforum.org/posts/LbrPTJ4fmABEdEnLf/200-concrete-open-problems-in-mechanistic-interpretability | 200 Concrete Open Problems in Mechanistic Interpretability: Introduction - AI Alignment Forum\n",
      "https://mobile.twitter.com/peterwildeford/status/1609268802616758273 | https://mobile.twitter.com/peterwildeford/status/1609268802616758273\n",
      "https://twitter.com/peterwildeford/status/1609242357232459777 | Peter Wildeford on Twitter: \"@EzraJNewman AGI is not a very clear definition. So I suppose it depends on what you mean by \"general\". I do think that text is a universal interface (https://t.co/65vL2SNKrK) and by that definition, I think ChatGPT would be considered AGI.\" / Twitter\n",
      "https://forum.effectivealtruism.org/posts/zATJeaSL9v5GH6HBk/direct-work-for-profit-entrepreneurship-is-underrated | Direct Work For-Profit Entrepreneurship is Underrated - EA Forum\n",
      "https://www.lesswrong.com/posts/Hw26MrLuhGWH7kBLm/ai-alignment-is-distinct-from-its-near-term-applications | AI alignment is distinct from its near-term applications - LessWrong\n",
      "https://www.lesswrong.com/posts/7izSBpNJSEXSAbaFh/why-indoor-lighting-is-hard-to-get-right-and-how-to-fix-it | Why indoor lighting is hard to get right and how to fix it - LessWrong\n",
      "https://www.alignmentforum.org/posts/Yp2vYb4zHXEeoTkJc/welcome-and-faq | Welcome & FAQ! - AI Alignment Forum\n",
      "https://www.cincinnatisymphony.org/tickets-and-events/buy-tickets/cso/2223-cso-season/grieg-peer-gynt-in-concert/ | Grieg: Peer Gynt in Concert | CSO\n",
      "https://mobile.twitter.com/mealreplacer/status/1608923189706649601 | https://mobile.twitter.com/mealreplacer/status/1608923189706649601\n",
      "https://www.sleepfoundation.org/best-wake-up-lights | Best Wake-Up Lights of 2023 | Sleep Foundation\n",
      "https://mobile.twitter.com/SpecialPuppy1/status/1609717455881904130 | https://mobile.twitter.com/SpecialPuppy1/status/1609717455881904130\n",
      "https://github.com/f/awesome-chatgpt-prompts | f/awesome-chatgpt-prompts: This repo includes ChatGPT promt curation to use ChatGPT better.\n",
      "https://twitter.com/RStateBState/status/1608665571012513793 | RedStateBlueState (280 character version) on Twitter: \"@iabvek @peterwildeford @TrevorVossberg @Nichlemn @NathanpmYoung @SBF_FTX no I think what Cole is saying is right to some extent. consider a situation where *today* you have 100$ and a high-risk trade that leaves you with either 201$ or 0$. 1/\" / Twitter\n",
      "https://twitter.com/goodside/status/1609363458037895169 | (1) Riley Goodside on Twitter: \"A GPT-3 prompt in instruction-templated Python yielding a valid Python completion that prompts GPT-3 again, using zero-shot chain-of-thought consensus, to determine the final character of the MD5 hash of the final digit of the release year of the album \"Visions\" by @Grimezsz. https://t.co/PomFHy2Qw2\" / Twitter\n",
      "https://marginalrevolution.com/marginalrevolution/2022/02/what-is-the-probability-of-a-nuclear-war-redux.html | What is the Probability of a Nuclear War, Redux - Marginal REVOLUTION\n",
      "https://guarded-everglades-89687.herokuapp.com/update/129726/?url=&title=&aggregator=&before=&after=&sort=random&page=1&starred= | Update Link\n",
      "https://www.thediff.co/archive/jane-street/ | Understanding Jane Street - by Byrne Hobart - The Diff\n",
      "https://donmoynihan.substack.com/p/debunking-the-false-comparisons-between?utm_source=substack&utm_campaign=post_embed&utm_medium=web | Debunking the false comparisons between European and American abortion policies\n",
      "https://forum.effectivealtruism.org/posts/hCfnpBv3qmAxiXCZ7/longtermism-and-animal-farming-trajectories | Longtermism and Animal Farming Trajectories - EA Forum\n",
      "https://discord.com/channels/1054165706440192151/1054165706972860470 | (3) Discord | #general | Probably Cool People\n",
      "https://rychappell.substack.com/p/theses-on-mattering | Theses on Mattering - by Richard Y Chappell - Good Thoughts\n",
      "https://twitter.com/threestationsq/status/1608673148278571008 | threestationsquare on Twitter: \"@peterwildeford @TrevorVossberg @Nichlemn @NathanpmYoung @SBF_FTX This is a fundamental problem with unbounded utility functions. You can set up a thought experiment where Omega keeps offering a payoff good enough to make you risk everything, again and again, until eventually you lose.\" / Twitter\n",
      "https://twitter.com/business/status/1609204263980244995 | Bloomberg on Twitter: \"Sam Bankman-Fried portrayed himself as a hapless but well-intentioned chief executive who made a series of calamitous mistakes, but never knowingly committed fraud at his FTX crypto empire. Do the facts back him up? https://t.co/a1qgCA8Vot\" / Twitter\n",
      "https://www.google.com/search?q=%22effective+altruism%22+site%3Ahttps%3A%2F%2Fwww.nytimes.com&rlz=1C5CHFA_enUS925US925&oq=%22effective+altruism%22+site%3Ahttps%3A%2F%2Fwww.nytimes.com&aqs=chrome..69i57.4488j0j4&sourceid=chrome&ie=UTF-8#ip=1 | \"effective altruism\" site:https://www.nytimes.com - Google Search\n",
      "https://twitter.com/JoshuaBlake_/status/1609520178248798208 | Josh on Twitter: \"AI predictions with a very strong track record over the last 5 years. The most interesting one is that there won't be an AI system with mouse-level existence before 2030.\" / Twitter\n",
      "https://www.reddit.com/r/slatestarcodex/ | (1) Slate Star Codex: In a Mad World, All Blogging is Psychiatry Blogging\n",
      "https://www.cold-takes.com/are-we-trending-toward-transformative-ai-how-would-we-know/ | Are we \"trending toward\" transformative AI? (How would we know?)\n",
      "https://darksitefinder.com/placemarks/john-glenn-astronomy-park-ohio-united-states/ | John Glenn Astronomy Park, Ohio, United States – Dark Site Finder\n",
      "https://twitter.com/bentossell/status/1609150075959222279 | (2) Ben Tossell on Twitter: \"What are your AI predictions for 2023?\" / Twitter\n",
      "https://twitter.com/iabvek/status/1608669705094692867 | https://twitter.com/iabvek/status/1608669705094692867\n",
      "https://www.youtube.com/watch?app=desktop&v=pjSgXbhJ6BQ | \"FLY\" Nightbirde - Official Music Video - YouTube\n",
      "https://twitter.com/ChrisLloyd__ | Chris (@ChrisLloyd__) / Twitter\n",
      "https://mobile.twitter.com/JgaltTweets/status/1608999446766919682 | https://mobile.twitter.com/JgaltTweets/status/1608999446766919682\n",
      "https://blog.heim.xyz/monthly-review/ | Monthly Review\n",
      "https://mobile.twitter.com/AlanMCole/status/1592896538485088256 | https://mobile.twitter.com/AlanMCole/status/1592896538485088256\n",
      "https://twitter.com/mattsclancy/status/1609232341490143235 | (2) Matt Clancy on Twitter: \"I wonder why LLMs are good at some subjects but not others. Sources: https://t.co/61WU6WgQaS, https://t.co/fiP6Rltdf9 https://t.co/Hwwsisr41c\" / Twitter\n",
      "https://docs.google.com/document/d/1KsJ9uyPcRma6VJHBGwfb_hh00JL5Az_BaDqF5OhG7CA/edit | Moral Weight Project Overview - Google Docs\n",
      "https://smile.amazon.com/Nature-Bright-Portable-Therapy-Wake-Up/dp/B012CBOFZ0?sa-no-redirect=1 | AmazonSmile: Nature Bright Sun Bliss 2 in 1 Portable Light Therapy and Wake-Up Light : Health & Household\n",
      "https://static1.squarespace.com/static/5f04bd57a1c21d767782adb8/t/636d27064e451751209a49fb/1668097798587/FellowshipAnnouncement-2022-WildAnimalInitiative.pdf | FellowshipAnnouncement-2022-WildAnimalInitiative.pdf\n",
      "https://twitter.com/iabvek/status/1608666678627557377 | https://twitter.com/iabvek/status/1608666678627557377\n",
      "https://mobile.twitter.com/admcrlsn/status/1609733772936900609 | https://mobile.twitter.com/admcrlsn/status/1609733772936900609\n",
      "https://mobile.twitter.com/messages/25776739-499352655 | https://mobile.twitter.com/messages/25776739-499352655\n",
      "https://www.facebook.com/groups/4046231355400586/?multi_permalinks=6078034145553620&hoisted_section_header_type=recently_seen | Highly Speculative EA Capital Accumulation | Facebook\n",
      "https://astralcodexten.substack.com/p/links-for-december-2022/comment/11459263 | Comments - Links For December 2022 - by Scott Alexander\n",
      "https://www.cold-takes.com/high-level-hopes-for-ai-alignment/ | High-level hopes for AI alignment\n",
      "https://twitter.com/davidmanheim/status/1609791140919656449 | David Manheim - @davidmanheim@techpolicy.social on Twitter: \"@FreshMangoLassi @AFraserUrq Yes, pandemics in general were taken seriously - though for most in epidemiology, plausibly mostly only to the extent that it was a great source of funding for those interested in the area - but I found that larger pandemics were dismissed as implausible.\" / Twitter\n",
      "https://twitter.com/gdb/status/1609244547460255744 | Greg Brockman on Twitter: \"Prediction: 2023 will make 2022 look like a sleepy year for AI advancement &amp; adoption.\" / Twitter\n",
      "https://twitter.com/PradyuPrasad/status/1609884923963543552 | Pradyumna on Twitter: \"I was reading Bender &amp; Gebru et al's paper \"On the Dangers of Stochastic Parrots: Can Language Models Be Too Big?\" https://t.co/s9IO2aGZ6Z and I think the environmental aspect part of that is incomplete. Specifically, they account for the costs of large language models without\" / Twitter\n",
      "https://twitter.com/messages/25776739-749003563494354945 | iabvek / Twitter\n",
      "https://cremieux.substack.com/p/black-economic-progress-after-slavery | Black Economic Progress After Slavery - Cremieux Recueil\n",
      "https://www.alignmentforum.org/posts/N6vZEnCn6A95Xn39p/are-we-in-an-ai-overhang | Are we in an AI overhang? - AI Alignment Forum\n",
      "https://twitter.com/ch402/status/1609411922251894785 | Chris Olah on Twitter: \"An idea I've been toying with: The role of many toy models may be to serve as \"counterexamples in mechanistic interpretability\".\" / Twitter\n",
      "https://en.wikipedia.org/wiki/1990_massacre_of_Sri_Lankan_Police_officers | 1990 massacre of Sri Lankan Police officers - Wikipedia\n",
      "https://taylorpearson.me/luck/ | How To Attract Luck: The Science Behind How People Get Luck\n",
      "https://twitter.com/IsaacKing314/status/1609248495957082116 | (2) Isaac King 🔍 on Twitter: \"@JoshuaBlake_ @peterwildeford To be fair, Gary's first 6 predictions were all pretty similar to each other, and largely boil down to \"GPT-4 won't be AGI\", which is not a hard prediction to make.\" / Twitter\n",
      "https://www.youtube.com/watch?v=OMpbrmjW_Rg | Lil Uzi Vert - Just Wanna Rock (Lyrics) - YouTube\n",
      "https://twitter.com/RStateBState/status/1608666589058203648 | https://twitter.com/RStateBState/status/1608666589058203648\n",
      "https://docs.google.com/presentation/d/1KNVASF-FenVRFCoT8qdLSrEGxtIcgZSDdzoN4lp7844/edit#slide=id.g11047b247b9_0_811 | Rethink Priorities 2022Q1 Update - Google Slides\n",
      "https://twitter.com/robinhanson/status/1608554114094608384 | Robin Hanson on Twitter: \"Threat adding support to prediction that progress will slow in next decade with GPT diminishing returns.\" / Twitter\n",
      "https://www.youtube.com/watch?v=CnT6NRiTz9M&list=PL4fGSI1pDJn69On1f-8NAvX_CYlx7QyZc&index=8 | Lil Durk - Hanging With Wolves (Official Video) - YouTube\n",
      "https://www.lesswrong.com/posts/9JFMhW9YHoTKbQEY2/a-very-long-list-of-sleep-maintenance-suggestions | A very long list of sleep maintenance suggestions - LessWrong\n",
      "https://arxiv.org/pdf/2212.03827.pdf | 2212.03827.pdf\n",
      "https://forum.effectivealtruism.org/posts/SQ2ayhoYBJJCrFQjd/what-are-the-most-underrated-posts-and-comments-of-2022 | What are the most underrated posts & comments of 2022, according to you? - EA Forum\n",
      "https://noahpinion.substack.com/p/decade-of-the-battery?utm_source=profile&utm_medium=reader2 | Decade of the battery - by Noah Smith - Noahpinion\n",
      "https://smile.amazon.com/Rechargeable-Cordless-Portable-2700-6500K-Travelling/dp/B09DYJ1BV2?sa-no-redirect=1 | AmazonSmile: Light Therapy Lamp, 6000mAh Rechargeable 11-in Cordless UV-Free Light Box, Portable 10000 Lux Bright 2700-6500K Cool & Warm Light, Touch Control, 4 Timer Settings for Home Office Travelling : Health & Household\n",
      "https://twitter.com/paul_scharre/status/1609214125594263552 | Paul Scharre on Twitter: \"1/ 🎯 This new article by @sarahbauerle &amp; @EmilyKilcrease1 nails the fatal flaw in recent U.S. chip export controls 👇 [THREAD] https://t.co/mAOxX0Y3LK\" / Twitter\n",
      "https://noahpinion.substack.com/p/the-third-magic | The third magic - by Noah Smith - Noahpinion\n",
      "https://toot.community/home | Home - toot.community\n",
      "https://twitter.com/ESYudkowsky/status/1608836665577177089 | Eliezer Yudkowsky on Twitter: \"@metakuna Imagine if nuclear weapons could be made out of laundry detergent; and spit out gold up until they got large enough, whereupon they'd ignite the atmosphere; and this threshold couldn't be calculated; and the labs making gold didn't want to hear about it.\" / Twitter\n",
      "https://www.reddit.com/r/relationship_advice/comments/zy31ci/21m21f_my_girlfriend_doesnt_like_to_wear/ | [21M][21F] my girlfriend doesn’t like to wear revealing clothes for me but loves to wear them when she goes out to raves : relationship_advice\n",
      "https://twitter.com/gracevadams/status/1608331345562079233 | https://twitter.com/gracevadams/status/1608331345562079233\n",
      "https://mobile.twitter.com/peterwildeford/status/1609674284716412928 | https://mobile.twitter.com/peterwildeford/status/1609674284716412928\n",
      "https://twitter.com/amazingmap/status/1608496214559068161 | Amazing Maps on Twitter: \"France's longest border is shared with Brazil https://t.co/lMLcceUqPy\" / Twitter\n"
     ]
    }
   ],
   "source": [
    "random.shuffle(tabs)\n",
    "print_tabs(tabs, label='Shuffled all tabs')"
   ]
  },
  {
   "cell_type": "code",
   "execution_count": null,
   "id": "69cb50c8-66e9-4c9d-bcb6-c130d0ac76d9",
   "metadata": {},
   "outputs": [],
   "source": []
  }
 ],
 "metadata": {
  "kernelspec": {
   "display_name": "Python 3 (ipykernel)",
   "language": "python",
   "name": "python3"
  },
  "language_info": {
   "codemirror_mode": {
    "name": "ipython",
    "version": 3
   },
   "file_extension": ".py",
   "mimetype": "text/x-python",
   "name": "python",
   "nbconvert_exporter": "python",
   "pygments_lexer": "ipython3",
   "version": "3.9.15"
  }
 },
 "nbformat": 4,
 "nbformat_minor": 5
}
