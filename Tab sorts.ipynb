{
 "cells": [
  {
   "cell_type": "code",
   "execution_count": 1,
   "id": "40568205",
   "metadata": {},
   "outputs": [
    {
     "name": "stdout",
     "output_type": "stream",
     "text": [
      "Loaded\n"
     ]
    }
   ],
   "source": [
    "import random\n",
    "import numpy as np\n",
    "import webbrowser\n",
    "\n",
    "from copy import copy\n",
    "\n",
    "\n",
    "def print_tabs(tabs, label=None, shuffled=True):\n",
    "    if shuffled:\n",
    "        tabs = random.sample(tabs, len(tabs))\n",
    "    if label:\n",
    "        print('## {} ## ({} tabs)'.format(label, len(tabs)))\n",
    "    else:\n",
    "        print('({} tabs)'.format(len(tabs)))\n",
    "    print('')\n",
    "    for tab in tabs:\n",
    "        print(tab.replace('\\n', ''))\n",
    "    return None\n",
    "\n",
    "\n",
    "def open_tab(tab):\n",
    "    url = tab.split('|')[0].replace(' ', '')\n",
    "    webbrowser.open(url, new=2, autoraise=False)\n",
    "    \n",
    "    \n",
    "def open_tabs(tabs, page=1, per_page=10):\n",
    "    page_start = (page - 1) * per_page\n",
    "    total_pages = int(np.ceil(len(tabs) / per_page))\n",
    "    if page > total_pages:\n",
    "        raise ValueError('Cannot open page {}, only have {} pages'.format(page, total_pages))\n",
    "    page_end = page * per_page\n",
    "    if page_end > len(tabs):\n",
    "        page_end = len(tabs)\n",
    "    paged_tabs = tabs[page_start:page_end]\n",
    "    print('Opening page {}/{} (tabs {}-{} of {})'.format(page, total_pages, page_start, page_end, len(tabs)))\n",
    "    \n",
    "    for tab in paged_tabs:\n",
    "        open_tab(tab)\n",
    "\n",
    "        \n",
    "def open_random_n_tabs(tabs, n=5):\n",
    "    tabs = random.sample(tabs, len(tabs))\n",
    "    open_tabs(tabs, page=1, per_page=n)\n",
    "    return tabs[5:]\n",
    "\n",
    "        \n",
    "print('Loaded')"
   ]
  },
  {
   "cell_type": "code",
   "execution_count": 2,
   "id": "1ffe9c7f",
   "metadata": {},
   "outputs": [
    {
     "name": "stdout",
     "output_type": "stream",
     "text": [
      "439\n",
      "438\n",
      "430\n",
      "430\n",
      "419\n"
     ]
    }
   ],
   "source": [
    "tab_file = open('/Users/peterhurford/Documents/alltabs.txt', 'r')\n",
    "tabs = tab_file.readlines()\n",
    "print(len(tabs))\n",
    "\n",
    "tabs = [t for t in tabs if t != '\\n']\n",
    "print(len(tabs))\n",
    "\n",
    "tabs = sorted(list(set(tabs)))\n",
    "print(len(tabs))\n",
    "\n",
    "tabs = ['{} | {}'.format(k, v) for k, v in dict([(t.split('|')[0].strip(), ''.join(t.split('|')[1:]).strip()) for t in tabs]).items()]\n",
    "print(len(tabs))\n",
    "\n",
    "tabs = ['{} | {}'.format(v, k) for k, v in dict([(''.join(t.split('|')[1:]).strip(), t.split('|')[0].strip()) for t in tabs]).items()]\n",
    "print(len(tabs))"
   ]
  },
  {
   "cell_type": "code",
   "execution_count": 3,
   "id": "df44f938",
   "metadata": {
    "scrolled": true
   },
   "outputs": [
    {
     "name": "stdout",
     "output_type": "stream",
     "text": [
      "## Messages ## (6 tabs)\n",
      "\n",
      "https://twitter.com/messages/25776739-776322411725598720 | bruce / Twitter\n",
      "https://twitter.com/messages/25776739-2853669265 | Noa Nabeshima / Twitter\n",
      "https://twitter.com/messages/25776739-54765863 | Aaron Kreider / Twitter\n",
      "https://forum.effectivealtruism.org/inbox/ioWSZzuQJb9RzCfMY | Private Conversation - EA Forum\n",
      "https://www.facebook.com/messages/t/1479150243/ | Messenger > Mike Maloney\n",
      "https://twitter.com/messages/25776739-48111864 | Alec Stapp / Twitter\n"
     ]
    }
   ],
   "source": [
    "print_tabs([t for t in tabs if ('messages/' in t.lower() or 'inbox/' in t.lower() or 'mail.google' in t.lower() or 'swapcard' in t.lower())], label='Messages')\n"
   ]
  },
  {
   "cell_type": "code",
   "execution_count": 4,
   "id": "89c2b367",
   "metadata": {},
   "outputs": [
    {
     "name": "stdout",
     "output_type": "stream",
     "text": [
      "## Facebook ## (2 tabs)\n",
      "\n",
      "https://www.facebook.com/groups/4046231355400586/?multi_permalinks=6159209040769463&hoisted_section_header_type=recently_seen | Highly Speculative EA Capital Accumulation  Facebook\n",
      "https://www.facebook.com/spencer.greenberg/posts/pfbid02S9UwjV6PrRsTed8NrFE2m3tg37ssnA9joiMKQNyuUbpYkL6pSvEYRtqNWJJWLETMl | Facebook\n"
     ]
    }
   ],
   "source": [
    "print_tabs([t for t in tabs if 'facebook.com' in t.lower() and 'messages' not in t.lower()], label='Facebook')"
   ]
  },
  {
   "cell_type": "code",
   "execution_count": 5,
   "id": "f6d6e211",
   "metadata": {},
   "outputs": [
    {
     "name": "stdout",
     "output_type": "stream",
     "text": [
      "## Twitter ## (136 tabs)\n",
      "\n",
      "https://twitter.com/pwnallthethings/status/1616981287176216576 | @Pwnallthethings@mastodon.social on Twitter: \"FWIW, this is not the US' expressed view on Abrams. They openly supported UK sending CR2 and openly advocate UA allies sending Leopards. The US' publicly stated concerns are centered on timing and logistics for a Spring counteroffensive, not \"escalation\". https://t.co/arDwdmEFyf\" / Twitter\n",
      "https://twitter.com/levie/status/1617266717943824384 | Aaron Levie on Twitter: \"ChatGPT has now successfully passed a Wharton MBA exam. Sure, this isn’t the hardest problem, but to execute it in 1 second is the breakthrough. https://t.co/3W8T7UIV4E\" / Twitter\n",
      "https://twitter.com/catehall/status/1619412184907522050 | Cate Hall on Twitter: \"oh my got this is SO GOOD!!! one of the best immune system explainers i've ever seen, in a hot new totally bopping, popping musical track\" / Twitter\n",
      "https://twitter.com/nostalgebraist/status/1617243399480045568 | (2) nostalgebraist on Twitter: \"this is not correct. first, note that the paper provides explicit C/N/D example numbers for all 3 approaches in tables 3, A3. there, all 3 methods require more than 4.3e23 compute to go above 67B params. so immediately we know something can't be right 1/\" / Twitter\n",
      "https://twitter.com/NunoSempere/status/1617252570770046976 | (1) Nuño Sempere on Twitter: \"Duncan McClements estimates how much funding would be needed for Ukraine to lose/draw/win, and finds that \"Russian victory in Ukraine is effectively impossible given Western willingness to continue financing Ukraine merely out of current defence budgets\" &lt;https://t.co/jjMAPIcpX4&gt;\" / Twitter\n",
      "https://twitter.com/mealreplacer/status/1617467162569969664 | john stuart chill on Twitter: \"Misinformation guy doubling, tripling, quadrupling down on his bad argument. Incredible. They really just give anyone tenure nowadays eh https://t.co/bAFzRRoaUO\" / Twitter\n",
      "https://twitter.com/cblatts/status/1616107487345930241 | Chris Blattman on Twitter: \"Here's the story of a city's response to spiking gun deaths. Of READI Chicago—an ambitious effort to build &amp; study a program of jobs &amp; CBT for the men most likely to shoot or be shot. Of HUGE success by some measures (64% fewer shooting &amp; homicide arrests!) &amp; no impact by others. https://t.co/AR2eHaVZuC\" / Twitter\n",
      "https://twitter.com/ChanaMessinger | (4) Chana (@ChanaMessinger) / Twitter\n",
      "https://twitter.com/EzraJNewman/status/1617585193292029952 | Ezra Newman on Twitter: \"Announcing a $20 bounty for text-based tasks GPT-3 can't do reliably (80% or better) even w prompt engineering that 8 year old children can do reliably\" / Twitter\n",
      "https://twitter.com/JacobPeacock1/status/1617301782312660992 | Jacob Peacock on Twitter: \"It seems like large language models are coming quickly for data analysis coding. Anyone have good forecasting questions on this? A few pieces of evidence in favor: 1) ChatGPT can already write non-trivial, uncommon analyses, despite not even running the code! https://t.co/5DJSdMoSlo\" / Twitter\n",
      "https://twitter.com/todayilearnedhq/status/1562891835692838917 | Today i Learned on Twitter: \"The proper way to weigh a koala https://t.co/ZII3mJWMui\" / Twitter\n",
      "https://twitter.com/NathanpmYoung/status/1617507878805426177 | Nathan 🔎 on Twitter: \"pure emotional intelligence\" / Twitter\n",
      "https://twitter.com/dylanmatt/status/1617572407908380672 | dylan matthews on Twitter: \"As Holden says at the start, interviews are not very reliable signals of someone's character, but I think highly of his character and judgment regardless and I'm really enjoying this interview with him by @SigalSamuel https://t.co/ACfGoVYhBb\" / Twitter\n",
      "https://twitter.com/jacob_pfau/status/1608159983488897026 | Jacob Pfau on Twitter: \"https://t.co/q032TLRbh3\" / Twitter\n",
      "https://twitter.com/idavidrein/status/1617226219988357122 | david rein on Twitter: \"Considering how to incorporate the ideas into my research agenda 🤔🤔 https://t.co/ni4vkqflF8\" / Twitter\n",
      "https://twitter.com/davidmanheim/status/1618731558751330306 | David Manheim - @davidmanheim@techpolicy.social on Twitter: \"One of the biggest objections I hear to making much safer indoor air is the assumed risk that without routine infections in children and adults, humans won't develop robust immunity.\" / Twitter\n",
      "https://twitter.com/paul_scharre/status/1617576132777328673 | (1) Paul Scharre on Twitter: \"The United States has been on a steady path towards selectively decoupling U.S.-China tech ties. That's a mistake. Decoupling alone will not secure U.S. interests. [THREAD]\" / Twitter\n",
      "https://twitter.com/TheZvi/status/1617504587614720001 | Zvi Mowshowitz on Twitter: \"I got nerdsniped (doomsniped?) by Scott Aaronson's Megan review, so I saw it and then I wrote a very different one. Good movie. https://t.co/0VblsAAu4U\" / Twitter\n",
      "https://twitter.com/DanMalleck/status/1615701572826038275 | (1) Dan Malleck on Twitter: \"I’ve been spending a lot of time thinking and talking about the CCSA low alcohol guidelines. It’s frustrating because you hear the neo-temperance perspective with little consideration that this is ideological and damaging. So a thread to get it out of my brain.\" / Twitter\n",
      "https://twitter.com/davidmanheim/status/1617590855396622336 | David Manheim - @davidmanheim@techpolicy.social on Twitter: \"@moskov @peterwildeford @StefanFSchubert As I said in response to a different criticism:\" / Twitter\n",
      "https://twitter.com/pvllss/status/1619020219363786753 | Pablo Villalobos on Twitter: \"Just published a literature review on scaling laws @EpochAIResearch! I collected a database of scaling laws for different tasks and architectures and reviewed dozens of papers in the scaling law literature. Check out the database! https://t.co/Hr3NTVQzwW 🧵\" / Twitter\n",
      "https://twitter.com/tmkadamcz/status/1617591719205142533 | Tom Adamczewski on Twitter: \"@NunoSempere 2% in 2023, seems low to me. wdyt @peterwildeford ?\" / Twitter\n",
      "https://twitter.com/james_acton32/status/1616087242329493504 | (((James Acton))) on Twitter: \"&lt;THREAD&gt;Helping Ukraine to threaten Russia's hold on Crimea is not in U.S. interests. While I've supported U.S. assistance so far and believe Crimea is Ukrainian, the risks of this idea are too big. My thoughts on yesterday's @nytimes story. (1/n) https://t.co/4yFh2ZnxYs\" / Twitter\n",
      "https://twitter.com/omarsar0/status/1617713910639128576 | (2) elvis on Twitter: \"Batch Prompting: Efficient Inference with LLM APIs Batch prompting helps to reduce the inference token and time costs while achieving better or comparable performance. Love to find these neat little tricks on efficiency gains during inference with LLMs. https://t.co/YMWAV3XIpF https://t.co/dWvXcX1Mcq\" / Twitter\n",
      "https://twitter.com/RichardHanania/status/1617974946323640321 | (2) Richard Hanania on Twitter: \"PredictIt may be shut down February 15. You probably know that prediction markets have the potential to improve human decision making, but are generally illegal. Why is this? And can anything be done to change things? I explain how change can happen. 🧵https://t.co/f7s5DW5uEl\" / Twitter\n",
      "https://twitter.com/dylan522p/status/1617847471467810817 | Dylan Patel on Twitter: \"The AI Brick Wall A Practical Limit For Scaling Dense Transformer Models How GPT 4 will break past this barrier Training costs for LaMDA, YaML, CaLM, Gopher, Chinchilla, MT-NLG, PaLM, GPT 3, Bloom, Jurassic, and more from Google, Yandex, MosaicML $NVDA https://t.co/rOEqymH1YB\" / Twitter\n",
      "https://twitter.com/tszzl/status/1617317480107737089 | (1) roon on Twitter: \"i'm finding it a bit hard to communicate the urgency and heaviness of what's going on to people even though that's my entire schtick. the initial reaction is joy and smugness at having focused on the right thing for the past few years but the next reaction is gdi i was right\" / Twitter\n",
      "https://twitter.com/Aella_Girl/status/1619165172601593858 | Aella on Twitter: \"2) Finger-Trap Beliefs - beliefs that self-reinforce when you start doubting; e.g. \"Satan puts doubts into the minds of those he's tempting.\" - now when you start to doubt satan's existence, this is framed as *proof* of his existence - we told you it was gonna happen!\" / Twitter\n",
      "https://twitter.com/s8mb/status/1617435283913428992 | (1) Sam Bowman 🇺🇦 on Twitter: \"What if Michelangelo’s patrons had been effective altruists? https://t.co/mqC2RFRKFC\" / Twitter\n",
      "https://twitter.com/natalia__coelho/status/1619616795991887872 | (7) Natália 🔍 on Twitter: \"We both joined the Dank Effective Altruism Memes Facebook group around 2016/2017. Matthew then tried to date me during my first few years in the US, but I only reciprocated his interest after he wrote https://t.co/Zbs5iv9hUI https://t.co/WbDlBVdcb1\" / Twitter\n",
      "https://twitter.com/ET_Californian/status/1617234799533641729 | ET Californian 🍸🃏 on Twitter: \"Scary shit. https://t.co/iFn9tu06LQ\" / Twitter\n",
      "https://twitter.com/simon_bazelon/status/1617540724005961729 | (4) Simon Bazelon on Twitter: \"The Democratic party is a big tent, but it can't include people who want to protect the carried interest tax deduction. https://t.co/jHfV7eBqSN\" / Twitter\n",
      "https://twitter.com/pwnallthethings/status/1617426497312260096 | @Pwnallthethings@mastodon.social on Twitter: \"So many takes that \"US asking Germany to OK tank transfers implies Germany is a vassal of America\" but don't argue under the same logic that DE telling Poland, Finland, NL, Lithuania, Estonia, etc what to do with *their* tanks makes them vassals of Germany https://t.co/SPQ64CzeqX\" / Twitter\n",
      "https://twitter.com/angrypenguinPNG/status/1613594169334980608 | https://twitter.com/angrypenguinPNG/status/1613594169334980608\n",
      "https://twitter.com/peteromallet/status/1619117078862262272 | (1) Peter O'Malley on Twitter: \"Google aren’t releasing their new music generating AI model because they’re worried that some cultures may be excluded and also that those cultures who are included may have their cultures misappropriated https://t.co/xkCGHtVYMF\" / Twitter\n",
      "https://twitter.com/james_acton32/status/1617894864062152704 | (1) (((James Acton))) on Twitter: \"I hate to have to say this, but IMO, the U.S. would be justified in finding that Russia is in noncompliance with New START--a treaty that makes the United States, its allies, and Russia all safer. Here's the short version. (1/n)\" / Twitter\n",
      "https://twitter.com/robbensinger/status/1618646235547840514 | Rob Bensinger 🔍 on Twitter: \"Still the best timeline https://t.co/PcXQy9PT22\" / Twitter\n",
      "https://twitter.com/michael_nielsen/status/1618086537656434689 | Michael Nielsen on Twitter: \"Rotblat wrote an account of leaving the bomb project: https://t.co/5DuzsIZufQ It's a story of rapidly changing beliefs, of rationalizations later discarded, and of making very difficult decisions. Highly recommended.\" / Twitter\n",
      "https://twitter.com/ericzelikman/status/1618426056163356675 | Eric Zelikman on Twitter: \"For code language models, every token is a new chance to break a program. What if LLMs wrote code like people, decomposing programs into solvable parts? They can solve competition-level coding problems by writing natural language programs in Parsel🐍, beating prior SoTA by &gt;75%! https://t.co/tMBDyQ92V4\" / Twitter\n",
      "https://twitter.com/haunted_ocean/status/1546765947024723970?fbclid=IwAR3RIujb369hVx3SjU_qR0m9MsmtaItjGQsHY0NTVUOwqH_iZW4Peh54iLY | HauntedOcean on Twitter: \"You know how physical inflammation is locally helpful but can become self-sustaining and system in ways that cause a lot of harm? That, but for emotions.\" / Twitter\n",
      "https://twitter.com/GaetenD/status/1617497997029392386 | (3) Gaeten Dugas on Twitter: \"I have a lot of money riding on this not happening before next Wednesday. With seat assignments not yet finalized and the resolution to remove Omar needing to go to the Ethics Committee for rules writing, I don’t see how it happens on time. $10k+ payout if I’m right.\" / Twitter\n",
      "https://twitter.com/pwnallthethings/status/1617443140654309376 | @Pwnallthethings@mastodon.social on Twitter: \"1000% this https://t.co/Ep8cF0FYst\" / Twitter\n",
      "https://twitter.com/JavaFXpert/status/1617296705975906306 | JavaFXpert on Twitter: \"1/2 My Japanese teacher told me that my listening and speaking skills were lacking. Not wanting to annoy friends with frequent conversations, I decided to build a language practice chatbot. It leverages @OpenAI GPT-3.5 and Whisper (for speech to Text). https://t.co/Lw3cfIRaq7\" / Twitter\n",
      "https://twitter.com/_akhaliq/status/1618067338904981509 | AK on Twitter: \"Large Language Models as Fiduciaries: A Case Study Toward Robustly Communicating With Artificial Intelligence Through Legal Standards abs: https://t.co/LFOU9VBM4K https://t.co/gjRauDqxWE\" / Twitter\n",
      "https://twitter.com/robinhanson/status/1617997458348576768 | (2) Robin Hanson on Twitter: \"Here @RichardHanania say, correctly, that prediction markets could be legal in U.S. if only either (a) CFTC commission said so, (b) Congress says so, or (c) a judge says so. But he doesn't try to analyze why this hasn't happened in U.S., nor in other nations. Let me try.\" / Twitter\n",
      "https://twitter.com/MateMarschalko/status/1615812724436439043 | Mate Marschalko on Twitter: \"ChatGPT in an iOS Shortcut — I built the World's Smartest HomeKit Voice Assistant #siri #homeautomation #openai #homekit #chatgpt https://t.co/tNyMyBqaGv\" / Twitter\n",
      "https://twitter.com/beala/status/1618279001495318529 | Alex Beal 🆎 on Twitter: \"@thatMikeBishop This nudged me towards “modest harm” but not very confident. https://t.co/euo2Cr4qJs\" / Twitter\n",
      "https://twitter.com/peterwildeford/status/1617571900737175552 | Peter Wildeford on Twitter: \"I continue to maintain a commitment to retract tweets that are shown to me to be substantively misleading, confusing, wrong, and/or infohazardous.\" / Twitter\n",
      "https://twitter.com/DAlperovitch/status/1616110830092980224 | Dmitri Alperovitch on Twitter: \"My thoughts on nuclear escalation risk with Russia🧵\" / Twitter\n",
      "https://twitter.com/josephlchu/status/1617596511805636615 | Joseph Chu on Twitter: \"@peterwildeford It's obvious there's a lot of uncertainty and caveats and kudos for being clear about that. I appreciate the effort that went into this. I still remember the old Felicifia debates about neuron count vs equality, so I appreciate that the research has gone well beyond that now.\" / Twitter\n",
      "https://twitter.com/HaydenWilko | (2) Hayden Wilkinson (@HaydenWilko) / Twitter\n",
      "https://twitter.com/DYtweetshere/status/1617471632909676544 | (2) DY on Twitter: \"We're releasing our @scale_AI hackathon 1st place project - \"GPT is all you need for backend\" with @evanon0ping @theappletucker But let me first explain how it works: https://t.co/l09Kpdb8g8\" / Twitter\n",
      "https://twitter.com/NathanpmYoung/status/1617509319892680705 | Nathan 🔎 on Twitter: \"This is correct, right?\" / Twitter\n",
      "https://twitter.com/NathanpmYoung/status/1617510386349101056 | Nathan 🔎 on Twitter: \"The case for having an EA critic who just doesn't care. Maybe has never heard of it. I'm not serious about a random person from the street, but nearly. Real \"who even are you\" energy.\" / Twitter\n",
      "https://twitter.com/Miles_Brundage/status/1617978563399159810 | Miles Brundage on Twitter: \"Pretty reasonable stuff https://t.co/ywuhCbBulF\" / Twitter\n",
      "https://twitter.com/DrRadchenko/status/1615596912236789763 | Sergey Radchenko on Twitter: \"Hopefully the latter. Increasing the West's military support for Ukraine at this crucial moment (including an increased commitment by Germany) may alter Putin's calculations, leading to greater readiness to negotiate.\" / Twitter\n",
      "https://twitter.com/GaryMarcus/status/1617641525672050690 | Gary Marcus on Twitter: \"AGI in 2023? Game on! Brave man, braver than @elonmusk, who refused to take a less ambitious version of this same bet.\" / Twitter\n",
      "https://twitter.com/itaisher | Itai Sher (@itaisher) / Twitter\n",
      "https://twitter.com/nikosbosse/status/1618636125803012096 | (4) Nikos Bosse on Twitter: \"New preprint on medRxiv 🎉 \"Transformation of forecasts for evaluating predictive performance in an epidemiological context\" Or: why we might want to reconsider the way infectious disease forecasts are commonly evaluated. 1/ https://t.co/3BL55jrQD1\" / Twitter\n",
      "https://twitter.com/peterwildeford/status/1617539265805651969 | Peter Wildeford on Twitter: \"I like the Midjourney style... I'm pretty excited for eventually being able to see AI created movies\" / Twitter\n",
      "https://twitter.com/jeffrsebo/status/1612460554261598210 | Jeff Sebo on Twitter: \"The NYU Wild Animal Welfare Program is proud to announce our official launch! Please join us on Fri Jan 27 at 5pm for a panel on wild animal welfare (in person and online), followed by a vegan reception for in-person guests. RSVP form here, short 🧵👇 https://t.co/yIcNtEVluV\" / Twitter\n",
      "https://twitter.com/daniel_eth/status/1618123427239591942 | Daniel Eth💡 on Twitter: \"What if public AI discourse winds up... fine? A few reasons to think it might: • People are starting to wake up to idea that AGI might not be that far away • Worries about AI X-risk aren't actually that complicated • Potential solutions aren't *that* crazy sounding either 1/12\" / Twitter\n",
      "https://twitter.com/AlecStapp/status/1618021772619841538 | Alec Stapp on Twitter: \"Reading the background history on why prediction markets are illegal in the US and getting progressively angrier and angrier https://t.co/Khat7SAL6h\" / Twitter\n",
      "https://twitter.com/DrRadchenko/status/1617398364101828608 | Sergey Radchenko on Twitter: \"One of the things that happened as I revised my book for publication is that I added another chapter to the already substantial manuscript: on the Berlin crisis, 1961. Some reviewers criticised me for omitting this seemingly crucial turning point, and I thought they were right.\" / Twitter\n",
      "https://twitter.com/browserdotsys/status/1617224310443106313 | (1) bowser on Twitter: \"[epistemic status: idk i only spent like a day fuckin around with this] preliminary findings from trying to write malware that mutates itself using AI:\" / Twitter\n",
      "https://twitter.com/ForecasterEnten | (((Harry Enten))) (@ForecasterEnten) / Twitter\n",
      "https://twitter.com/ProdanStatev/status/1619096085582204929 | Prodan Statev on Twitter: \"@peterwildeford How was the experience? You might also like https://t.co/4PEj7q9lPf https://t.co/CzIM9Fu9zo\" / Twitter\n",
      "https://twitter.com/keithwynroe/status/1617678127433658369 | (2) Keith Wynroe on Twitter: \"At Epoch, we’ve published a literature review of some of the most notable explicit models/forecasts for Transformative AI timelines (1/n) https://t.co/IrM2pZpIh0\" / Twitter\n",
      "https://twitter.com/EzraJNewman/status/1618639014457921536 | Ezra Newman on Twitter: \"Hey so I want to try a RLAIF experiment. How doable is that? No chance it's available as-a-service anywhere yet, right? Is there open-source code I can modify?\" / Twitter\n",
      "https://twitter.com/NathanpmYoung/status/1618377899752685568 | Nathan 🔎 on Twitter: \"If you want to record forecasts within your org maybe reach out to Confido.\" / Twitter\n",
      "https://twitter.com/EzraJNewman/status/1617223169001005057 | Ezra Newman on Twitter: \"Be careful reading about limitations of LLMs. This one isn’t real. Most aren’t. https://t.co/Gnv0580OtY\" / Twitter\n",
      "https://twitter.com/arankomatsuzaki/status/1618060310434443266 | Aran Komatsuzaki on Twitter: \"Putting ChatGPT’s Medical Advice to the (Turing) Test ChatGPT responses to patient questions were weakly distinguishable from provider responses. https://t.co/nKLwuXF5oz https://t.co/vpoVbVrYdV\" / Twitter\n",
      "https://twitter.com/ravenben/status/1618267285596303363 | Ben Zhao on Twitter: \"@jacyanthis @peterwildeford Finally, note that these values are 1%, 10%, 20% of the *entire* training dataset. If you're a single user who contributes data to 1 class for model classifying 100 labels, 1% of entire dataset means you control 100% of your class! Literally impossible for a model w/ &gt;100 labels.\" / Twitter\n",
      "https://twitter.com/neb301/status/1617255712190783491 | (2) Ben Resnick on Twitter: \"prototyping with @LangChainAI and @OpenAI API last week clarified for me that we're entering a new reality where: 1. The prompt is the program 2. Each invocation of a LLM compiles and runs a program 3. Chaining multiple prompts enables crazy sophisticated behaviors\" / Twitter\n",
      "https://twitter.com/JgaltTweets | JgaltTweets (@JgaltTweets) / Twitter\n",
      "https://twitter.com/udnaan/status/1616725221242806272 | https://twitter.com/udnaan/status/1616725221242806272\n",
      "https://twitter.com/SpencrGreenberg | Spencer Greenberg 🔍 (@SpencrGreenberg) / Twitter\n",
      "https://twitter.com/Scholars_Stage/status/1618031056682356736 | (1) T. Greer on Twitter: \"Is this really true? I was led to believe AI research is mostly applied linear algebra? Do most people in the field not know it? Or is my understanding wrong?\" / Twitter\n",
      "https://twitter.com/CineraVerinia/status/1617349711723220992 | 𝕮𝖎𝖓𝖊𝖗𝖆 (is an aspiring alignment theorist) on Twitter: \"Cc: @peterwildeford, @davidmanheim.\" / Twitter\n",
      "https://twitter.com/daniel_filan/status/1617360416224735233 | daniel filan 🔎 on Twitter: \"Suppose a friend of yours commits murder. They're tried, found guilty, and are sentenced to 40 years in prison. Is it OK to still be friends with them, e.g. visiting them in prison, inviting them over for dinner after they're released, etc?\" / Twitter\n",
      "https://twitter.com/AlecStapp/status/1617550131468845056 | Alec Stapp on Twitter: \"*chatGPT passes United States Medical Licensing Examination (USMLE)* “This just tells us how terrible the exam is” Wild to watch people move the goalposts on AI in real time https://t.co/igk8fMWj6g\" / Twitter\n",
      "https://twitter.com/Laura_k_Duffy/status/1617220978970624000 | (2) Laura Duffy 🌐 on Twitter: \"@mirandahzhang I think I’ve evolved slowly from having person-affecting views to more of a totalist perspective\" / Twitter\n",
      "https://twitter.com/DivGarg9/status/1619073088192417792 | Div Garg on Twitter: \"Ever thought ChatGPT could order you dinner? Turns out it can, and even do lots more 🤯 Introducing MULTI·ON: Your AI Web Co-Pilot powered by ChatGPT Sign up 👉: https://t.co/UeSJDtN3SJ And here's me ordering &amp; eating the *world's first burger ordered by ChatGPT!* https://t.co/5zgfqkpizQ\" / Twitter\n",
      "https://twitter.com/MatthewJBar/status/1617403186133991424 | (2) Matthew Barnett on Twitter: \"@Simeon_Cps I don't think this attitude is strange. On an individual level, a 10% chance of dying is not actually that unusual. About 10% of people will be dead by the age of 58.\" / Twitter\n",
      "https://twitter.com/vegardbeyer/status/1618295532392419328 | Vegard Beyer on Twitter: \"@BlankaHavlkov5 ah, found it again! Here: https://t.co/jdO3HhNTZG\" / Twitter\n",
      "https://twitter.com/HannaNotte/status/1618503034195283974 | (5) Hanna Notte on Twitter: \"#Russian reactions to the #Leopard2 going to #Ukraine. An OPEN THREAD 🧵\" / Twitter\n",
      "https://twitter.com/goodside/status/1618170032609193987 | Riley Goodside on Twitter: \"@EzraJNewman @GoogleColonizer @peterwildeford Claude answers that the problem is too vague, because it’s not stated whether the apple is in the red box, and explains how to get the apple in both scenarios. GPT-3 doesn’t recognize this. I’m sure you could k-shot it with other riddles that contain irrelevant distractor info.\" / Twitter\n",
      "https://twitter.com/RYChappell/status/1617224575577739264 | Richard Chappell on Twitter: \"I find this (seemingly very common) suspicion extremely bizarre. Why would you posit nefarious motives -- against very altruistic academics, of all people -- when \"honest intellectual disagreement\" is such an obvious alternative explanation?\" / Twitter\n",
      "https://twitter.com/ArmsControlWonk/status/1618556367316611072 | (12) Dr. Jeffrey Lewis on Twitter: \"A problem you can’t do anything about isn’t a problem. It’s just a fact.\" / Twitter\n",
      "https://twitter.com/realDanFu/status/1617605971395891201 | Dan Fu on Twitter: \"Attention is all you need... but how much of it do you need? Announcing H3 - a new generative language models that outperforms GPT-Neo-2.7B with only *2* attention layers! Accepted as a *spotlight* at #ICLR2023! 📣 w/ @tri_dao 📜 https://t.co/vKdOTCH8Lk 1/n\" / Twitter\n",
      "https://twitter.com/robinhanson | Robin Hanson (@robinhanson) / Twitter\n",
      "https://twitter.com/DavidSKrueger/status/1617272401774972932 | David Krueger on Twitter: \"A nice distinction which I haven't seen made as crisply elsewhere: 1) this AI is aligned with designers intent vs. 2) a general purpose solution for aligning arbitrary AI with their designers' intents. vs. 3) \"strong alignment\": AI does what humans collectively value\" / Twitter\n",
      "https://twitter.com/_jasonwei/status/1592210199460253696 | (4) Jason Wei on Twitter: \"I combed through the large language model literature and made a repository of 137 “emergent abilities”, which are only present in sufficiently-large language models. 100+ emergent tasks can be found in BIG-Bench and MMLU alone. https://t.co/2sKoo3D9bL Scaling seems to work... https://t.co/jQeYMBLpM5\" / Twitter\n",
      "https://twitter.com/random_walker/status/1619413072837480449 | Arvind Narayanan on Twitter: \"I've followed @JuliaAngwin's eye opening reporting at three different publications for over a decade, so I enjoyed this opportunity to chat. This thread covers some of the other main points we discussed. https://t.co/Atwfs8SaVh\" / Twitter\n",
      "https://twitter.com/NathanpmYoung/status/1617531004792578049 | Nathan 🔎 on Twitter: \"Some tips on a good apology - Have them understand what you are sorry for - Have them understand that you take the harm seriously These things trade-off. But you can't just have one. If they only understand what you're sorry for but not that you're sorry, why apologise at all?\" / Twitter\n",
      "https://twitter.com/MatthewJBar/status/1618811567105282048 | (1) Matthew Barnett on Twitter: \"New estimate of the consumer surplus of the internet just dropped. If it's accurate, then there was no great stagnation. Let me explain.🧵\" / Twitter\n",
      "https://twitter.com/EzraJNewman/status/1617584660707676165 | Ezra Newman on Twitter: \"@peterwildeford https://t.co/TiOyk44qPG\" / Twitter\n",
      "https://mobile.twitter.com/ericzelikman/status/1618426056163356675 | https://mobile.twitter.com/ericzelikman/status/1618426056163356675\n",
      "https://twitter.com/peter_dutton/status/1617336575309873157 | Peter Dutton on Twitter: \"Australia buys ‘potent and powerful’ sea mines to deter China …Does this mark the significant shift I think it does? Short 🧵 https://t.co/YzFr0qZoCA\" / Twitter\n",
      "https://twitter.com/sleepinyourhat/status/1600989810952265729 | Sam Bowman on Twitter: \"This is the clearest and most insightful contribution to the Large Language Model Discourse in NLP that I've seen lately. You should read it! A few reactions downthread...\" / Twitter\n",
      "https://twitter.com/NathanpmYoung/status/1617518233019641857 | Nathan 🔎 on Twitter: \"Rare public criticism @Sander_vdLinden is just straightforwardly wrong here. He encourages @mealreplacer to look at his own chart so I have. How can you say AI research gets 2-3x @GiveWell. It's just not true. Right? Sander works on misinformation. I condemn him spreading it https://t.co/KYaAhGc0tV\" / Twitter\n",
      "https://twitter.com/tshevl/status/1619329301962428416 | Toby on Twitter: \"The music world is about to enter another period like the days of Napster / early Spotify. Massive disruption from tech (this time AI music generation) and associated copyright disputes.\" / Twitter\n",
      "https://twitter.com/business/status/1619628460040757248 | Bloomberg on Twitter: \"Green comet from the edge of the solar system is now visible to the naked eye as it passes close to earth https://t.co/gD8ggTnkK9\" / Twitter\n",
      "https://twitter.com/RobocopFacts/status/1616760864056479747 | (1) robocop facts on Twitter: \"look I tried my best to make it make sense https://t.co/P912JbS2NQ\" / Twitter\n",
      "https://twitter.com/paul_scharre/status/1616852970309574658 | Paul Scharre on Twitter: \"Legal battles are brewing over generative AI. Artists are suing Stability AI and Midjourney, alleging copyright infringement for including copyrighted images in their training data without permission. But this isn't the David-and-Goliath story you might think it is. [THREAD]\" / Twitter\n",
      "https://twitter.com/StephenLCasper/status/1617242284558544896 | Stephen Casper on Twitter: \"Like what happened with DALLE2 and Stable Diffusion, I predict that within a few months, a ChatGPT copycat model will be open sourced. And then all of OpenAIs work to make _their_ model safe will be negated by the copycats they directly enabled.\" / Twitter\n",
      "https://twitter.com/NathanpmYoung/status/1617294375238750209 | Nathan 🔎 on Twitter: \"Who is your favourite critic of EA that you'd like EAs to hear a talk from?\" / Twitter\n",
      "https://twitter.com/daniel_filan/status/1617373896864583682 | daniel filan 🔎 on Twitter: \"Is it OK to be friends and hang out with OJ Simpson?\" / Twitter\n",
      "https://twitter.com/emollick/status/1617270215154323457 | Ethan Mollick on Twitter: \"I think we haven't fully absorbed the fact that careful academic papers have found ChatGPT clearly passes some of the most challenging American professional exams: 🩺United States Medical Licensing Exam 🎓MBA-level Operations exam 🧑‍⚖️The Bar Exam (based on typical exam questions) https://t.co/D4kX6XH8GR\" / Twitter\n",
      "https://twitter.com/ozziegooen/status/1617743103418597378 | Ozzie Gooen on Twitter: \"When asking \"What is EA?,\" I think it's really hard to separate EA from its intellectual roots. Much of EA+utilitarianism is grounded on top of certain analytic philosophic traditions. (1/11)\" / Twitter\n",
      "https://twitter.com/Simeon_Cps/status/1617738785831391234 | (2) Siméon (in the Bay till the 22nd of January) on Twitter: \"Among frequent answers, here are some that are based on wrong models of the world: 1. The NPC answer: \"You can't avoid that someone builds AGI and potentially kills us so DIY.\" 2. The 10k% discount rate answer: \"We've no time to waste before we die, let's build this!\" 1/7\" / Twitter\n",
      "https://twitter.com/WholesomeMeme | WholesomeMemes (@WholesomeMeme) / Twitter\n",
      "https://twitter.com/tanayj/status/1619448480388243456 | (3) Tanay Jaipuria on Twitter: \"6 of the 8 authors of the landmark \"Transformer\" paper have founded their own companies. Ashish Vaswani → @AdeptAILabs Niki Parmar → @AdeptAILabs Noam Shazeer → @character_ai Aidan Gomez → @CohereAI Illia Polosukhin → @NEAR_Blockchain Jakob Uszkoreit → Inceptive\" / Twitter\n",
      "https://twitter.com/sjwhitmore/status/1617318050306588674 | (2) Sam Whitmore on Twitter: \"How do you make an AI chatbot smarter and more engaging? By giving it long-term memory of the entities it discusses with the user! That's what @devennavani &amp; I built for the @scale_AI hackathon (live today in @LangChainAI). Honored to be one of the 8 finalists! How it works: https://t.co/LLZnOObTh6\" / Twitter\n",
      "https://twitter.com/MediumBuying/status/1617878795738050564 | Medium Buying on Twitter: \"@CookPolitical @JessicaTaylor NEW @Center4Politics 2024 Senate Race Ratings from @kkondik -- One Lean R Flip: WV (Manchin) Three Toss-Ups: AZ (Sinema) OH (Brown) MT (Tester) Three Lean D: MI (Open) NV (Rosen) WI (Baldwin) One Likely D: PA (Casey) Two Likely R: FL (Scott) TX (Cruz) https://t.co/RnbWqMKPgP\" / Twitter\n",
      "https://twitter.com/ModeledBehavior/status/1618611469972832262 | (4) Adam Ozimek on Twitter: \"Wow this is something I hadn't thought of. A chatbot taught specifically to answer from one book. https://t.co/ixmu6r7iWj via @tylercowen of course. https://t.co/BvSp1xNKW6\" / Twitter\n",
      "https://twitter.com/pereztruglia/status/1618355708373921794 | Ricardo Perez-Truglia on Twitter: \"🚨 Tips for writing a POSITIVE referee report. As an author and an editor, I’ve noticed some reviewers are better than others at writing a positive referee report. So, I decided to share 3 simple tips in the thread below. 👇 #EconTwitter\" / Twitter\n",
      "https://twitter.com/RatOrthodox/status/1618998846855745538 | Ronny Fernandez 🔍 on Twitter: \"@Liv_Boeree Great video! Really got me thinking about how I want to engage on twitter. Here are some old blogposts which I am fairly sure inspired the video for those who are interested. https://t.co/sldiJYqnlH https://t.co/0OdBiWhGLq https://t.co/0LtWDIlFSd\" / Twitter\n",
      "https://twitter.com/NunoSempere/status/1618610154215444480 | (4) Nuño Sempere on Twitter: \"Is this wrong? (25k homicides per year / 330M population) * 77 years of life * 100 percentage points = 0.58% probability of dying due to homicide in the US in one's lifetime, or 1 out of every 170. Seems too high to be true?\" / Twitter\n",
      "https://twitter.com/Wertwhile/status/1609177422074896386 | Joel Wertheimer on Twitter: \"Have so many complaints about this article I don't know where to begin. https://t.co/qWsSZR3sAs\" / Twitter\n",
      "https://twitter.com/he_yi_hui/status/1617328366876786688 | Yihui He on Twitter: \"I made a chatbot that controls browser by writing Selenium code at @scale_AI #GenerativeAI hackathon with @Tiancaixinxin. Thanks for prompt advice from @goodside. So glad I met @karpathy. It's similar to @natfriedman @AdeptAILabs @BrowseAI. blog and code: https://t.co/nBnV6oRhEj https://t.co/Gg6CoTuJcq\" / Twitter\n",
      "https://twitter.com/fianxu/status/1619134160463106052 | Gaia Dempsey on Twitter: \"@peterwildeford So curious about this learning journey. Both the arc of “everything can be quantified” to “nope, not everything” and what you learned through iteration with different tools. When I launch my podcast, perhaps we can talk about it. (Or sooner, since that might take a while!)\" / Twitter\n",
      "https://twitter.com/riccimike/status/1618608896150765568 | https://twitter.com/riccimike/status/1618608896150765568\n",
      "https://twitter.com/MatthewJBar/status/1618756199805231104 | (1) Matthew Barnett on Twitter: \"@repligate Here's a slightly relevant quote from HPMOR that reminds me of the simulator theory of LLMs. It's a bit ominous. https://t.co/1PYEYGpJ9C\" / Twitter\n",
      "https://twitter.com/jackclarkSF/status/1618675425005420545 | (2) Jack Clark on Twitter: \"Yesterday, I had the honor of giving a talk and demo to about ~100 people in Congress as part of an AI Caucus education session on AI. Here are the slides I used: https://t.co/zYl43Jt1DL tl;dr AI is a good motivating reason to revamp and upgrade lots of policy stuff.\" / Twitter\n",
      "https://twitter.com/lovetheusers/status/1617432200873484291 | l꩜vetheusers Bay Area Feb10-Mar1! ⚗️🖊️🎭 on Twitter: \"@peterwildeford @dbishopii CLIP is still an integral part of Stable Diffusion\" / Twitter\n",
      "https://twitter.com/VNiquet/status/1616869210595917825 | Valerie Niquet on Twitter: \"via ⁦@nytimes⁩ “⁦@BonnieGlaser⁩ of the @GMF warns that symbolic victories may not be worth the cost of provoking China. Others say it’s time to stop letting China dictate such details.”. I agree with “others” https://t.co/XWtkCnLv3k\" / Twitter\n",
      "https://twitter.com/EthanJPerez/status/1617981045282082817 | Ethan Perez on Twitter: \"We’re awarding prizes to 7/48 submissions to the Inverse Scaling Prize Round 2! Tasks show inverse scaling on @AnthropicAI @OpenAI @MetaAI @DeepMind models, often even after training with human feedback. Details at https://t.co/bhgZwMioJi and 🧵 on winners:\" / Twitter\n",
      "https://twitter.com/natalia__coelho/status/1619431211105132546 | (7) Natália 🔍 on Twitter: \"I’ve been investigating the contamination theory of the obesity epidemic as laid out in @mold_time’s “A Chemical Hunger,” and found that several of what seem to be the strongest arguments for the theory turned out to be dubious. 🧵 https://t.co/1EKu67wNcZ\" / Twitter\n",
      "https://twitter.com/StateOfLinkedIn | (3) The State of LinkedIn (@StateOfLinkedIn) / Twitter\n",
      "https://twitter.com/juliangough/status/1618948796960112643 | Julian Gough on Twitter: \"Oh boy. Here comes AI music, like it or not. (Generated from text prompts; you can modify it by whistling or humming, too.) Google seem to have dropped this in the last 24 hours without any fanfare. You can click on examples here. Hat-tip: @JacquesThibs https://t.co/zpi4xptAdk\" / Twitter\n",
      "https://twitter.com/mirandahzhang/status/1617217919372623873 | Miranda Zhang on Twitter: \"Does anyone have examples of people being persuaded to change their moral views (e.g. normative ethics)? Weak preference against examples of people changing their meta-ethical views, since IMO those are more amenable to empirical arguments.\" / Twitter\n",
      "https://twitter.com/RidT/status/1617349810910265344 | Thomas Rid on Twitter: \"Last week I was a student for five days, five hours per day—with ChatGPT fully integrated into teaching. Here's what we learned, just in time for Spring Term (which starts tomorrow. Class was Malware Analysis, taught by @juanandres_gs @alperovitch) https://t.co/b8ltG5ESWe\" / Twitter\n",
      "https://twitter.com/jachiam0/status/1617295498054094848 | Joshua Achiam on Twitter: \"@AmandaAskell @daniel_eth @LaParticle Re: the influence of utilitarianism: I think it's net neutral on stuff like this and I don't think of it as causal for what I claim to observe here.\" / Twitter\n",
      "https://twitter.com/drjwrae/status/1617579110297137153 | Jack Rae on Twitter: \"A more robust explanation of why the chinchilla forecasts weren't an order of magnitude apart for a 175B model.\" / Twitter\n",
      "https://twitter.com/arankomatsuzaki/status/1617708239906549761 | (2) Aran Komatsuzaki on Twitter: \"Is ChatGPT A Good Translator? A Preliminary Study ChatGPT performs competitively with commercial translation products (e.g., Google Translate) on high-resource European languages but lags behind significantly on low-resource or distant languages. https://t.co/7XYP48iClY https://t.co/hLDmdvpqqQ\" / Twitter\n"
     ]
    }
   ],
   "source": [
    "twitter_tabs = sorted([t for t in tabs if 'twitter.com' in t.lower() and 'messages' not in t.lower()])\n",
    "print_tabs(twitter_tabs, label='Twitter')"
   ]
  },
  {
   "cell_type": "code",
   "execution_count": 6,
   "id": "0e8d623e",
   "metadata": {},
   "outputs": [],
   "source": [
    "#open_tabs(twitter_tabs, page=1, per_page=200)"
   ]
  },
  {
   "cell_type": "code",
   "execution_count": 7,
   "id": "c4635d45",
   "metadata": {},
   "outputs": [
    {
     "name": "stdout",
     "output_type": "stream",
     "text": [
      "## Google Docs ## (20 tabs)\n",
      "\n",
      "https://docs.google.com/document/d/1oA4QAEKD_Ebue2Oj10L2wQbR226z_ccL9FlQSzLQrqY/edit | My Politics - Google Docs\n",
      "https://docs.google.com/document/d/1nOlvwsgDNqsz3bilB1VX7Ml9EokMf_4QQMxIktzQCHE/edit#heading=h.gyhi7d1osft | Projects to increase transparency, cooperation and trustworthiness of top AI labs - Google Docs\n",
      "https://docs.google.com/document/d/10Jrq2bg3dingNBfA36tqJPRUdSe9-hUHZjlxQlqP81o/edit#heading=h.s8q98qiojoqo | Communications & messaging related to AI risk: relevant readings, people, & notes - Google Docs\n",
      "https://docs.google.com/document/d/1zBjHUs5Im06ZEYD8Ww6if-IpuLDpnlNMWvOJQPTfJjM/edit#heading=h.bcufhgg27mdc | Planning Actions for a Time when Crunchiness is High (PATCH) - Google Docs\n",
      "https://docs.google.com/document/d/1tULIgiJxvM4DVnzKI2SxOZ6kWYNOFq01FKKhTb8nfmY/edit#heading=h.x46ti99fejcn | GovAI Talent Building Evidence [Funder Copy] - Google Docs\n",
      "https://drive.google.com/drive/u/1/folders/1JcMQBBF1n9cxayYTAK3HImI_WEvNEJ2U | 2023-01 - Development and Communications - Google Drive\n",
      "https://docs.google.com/document/d/1BPQ3Kr-2AAg8HkVZhtAvgoB6_vus2QTSWY60rd-BUaY/edit#heading=h.ed5b8renw9ka | 2023-01-16 to 22nd Jan - Weekly Reading Summaries - Google Docs\n",
      "https://docs.google.com/document/d/136cR2NyoBxpaKcqmGP4lICXcAOsk4OowIEfM8fulq2g/edit#heading=h.kuj2jf5n059h | People doing/setting strategy for field-building should explicitly account for AI crunch time - Google Docs\n",
      "https://docs.google.com/document/d/1sFUYH4IpZRWp1Dn5ADF8q1KmUApQQr0bMYN23HTZ0z0/edit | Zhuo - The Making of a Manager - Google Docs\n",
      "https://docs.google.com/document/d/1w4LSZSzdPWsTLQ0_cghoJ1JvLliEn0cSC1koG_aEm3A/edit#heading=h.95y8k8wubumg | Info on EA hubs (offices, accommodation, people to talk to, etc.) - Google Docs\n",
      "https://docs.google.com/document/d/1bAeaLHvG3sD4FM4Pm4FQCcjxfTHvWtneWHCOov2K2WA/edit#heading=h.mt5im5npl0va | 2023 AI Predictions - Google Docs\n",
      "https://docs.google.com/document/d/1NbhmiIzPa3AKucHvdBRAEmZ4YxzpcX8YAqK5AYtV4E0/edit | Personal annual review process [shared] Jan 2020 - Google Docs\n",
      "https://docs.google.com/document/d/1vXUNJi01SfLXdBJ_NAsNL2g9GyW7hdKpu6IHzym6roM/edit | 62a377fe21698310f2125384  Peter Wildeford  Hannah Greene Household  2023-01-29T08:22:08Z - Google Docs\n",
      "https://docs.google.com/document/d/1_1VGgCA7JUSop7A2nl33W2oh8JaQsXvscq4AFoTUPKc/edit#heading=h.um1xeitrnvry | Have EA ideas/people been net harmful via majorly increasing the chance of DM, OAI, and Anthropic existing? [rough notes] - Google Docs\n",
      "https://docs.google.com/document/d/1GFEpmbEGmvdcLzHPfLeMFqm1cBBuKTuj35c0nVbMh-c/edit#heading=h.d0sa421h9mgo | RP LT Dept: Each person’s goals and ways you can help them - Google Docs\n",
      "https://docs.google.com/document/d/159-i9T0x1vDIMVE4ydB5KRkbL6pr74oV9fyJm3wQBGY/edit | 2023-01-09 to 15th Jan - Weekly Reading Summaries - Google Docs\n",
      "https://docs.google.com/document/d/1XP0SLWAhda0Mk277R3e9YyGb6Y0ftSSCRzhC-3aQSmE/edit#heading=h.wr3my13sjw94 | Forecasting extreme outcomes - Google Docs\n",
      "https://docs.google.com/document/d/1dcOGEu0qaiWeBxdcqIZGMHoIpTKRfvZvO7BE96dJuZY/edit | GovAI Funding Scenarios [Funder Copy] - Google Docs\n",
      "https://docs.google.com/document/d/1UU7cn5YQ7sMC7Ps6GhkuNc6gMcWvLgXw3rgxqhArtJw/edit#heading=h.ieit2zhsp6hs | Template monthly check-in - Google Docs\n",
      "https://docs.google.com/spreadsheets/d/1jdYBDLrhBgVaf1WqjIlFiksyTemD-U9eIka1Amtwkno/edit#gid=1031876495 | 2023 Jan Lights - Google Sheets\n"
     ]
    }
   ],
   "source": [
    "doc_tabs = sorted([t for t in tabs if ('docs.google' in t.lower() or 'sheets.google' in t.lower() or 'drive.google' in t.lower())])\n",
    "print_tabs(doc_tabs, label='Google Docs')\n"
   ]
  },
  {
   "cell_type": "code",
   "execution_count": 8,
   "id": "18e9e150",
   "metadata": {},
   "outputs": [],
   "source": [
    "#open_tabs(doc_tabs, page=5, per_page=40)"
   ]
  },
  {
   "cell_type": "code",
   "execution_count": 9,
   "id": "479f45a0-d63f-474d-aa76-2ddab5a10b0a",
   "metadata": {},
   "outputs": [],
   "source": [
    "#doc_tabs_ = copy(doc_tabs)"
   ]
  },
  {
   "cell_type": "code",
   "execution_count": 10,
   "id": "c4e71249-4e0e-47aa-9fcd-69b9219f507f",
   "metadata": {},
   "outputs": [],
   "source": [
    "#doc_tabs_ = open_random_n_tabs(doc_tabs_, n=5)"
   ]
  },
  {
   "cell_type": "code",
   "execution_count": 11,
   "id": "6311fa07",
   "metadata": {},
   "outputs": [
    {
     "name": "stdout",
     "output_type": "stream",
     "text": [
      "## Google search ## (9 tabs)\n",
      "\n",
      "https://www.google.com/search?q=tesla+r%26d+spending&rlz=1C5CHFA_enUS925US925&oq=tesla+r%26d+spending&aqs=chrome..69i57j0i22i30j0i390l4.2231j0j1&sourceid=chrome&ie=UTF-8 | tesla r&d spending - Google Search\n",
      "https://www.google.com/search?q=stop+infinite+scroll+on+twitter&rlz=1C5CHFA_enUS925US925&oq=stop+infinite+scroll+on+twitter&aqs=chrome..69i57j33i160l2.6212j1j1&sourceid=chrome&ie=UTF-8 | stop infinite scroll on twitter - Google Search\n",
      "https://www.google.com/search?q=meta+spending+on+the+metaverse | meta spending on the metaverse - Google Search\n",
      "https://www.google.com/search?q=lev+zubov+peripheral&rlz=1C5CHFA_enUS925US925&oq=zubov+peri&aqs=chrome.2.0i512j69i57j0i22i30j0i390l2.4614j0j1&sourceid=chrome&ie=UTF-8 | lev zubov peripheral - Google Search\n",
      "https://www.google.com/search?gs_ssp=eJzj4tVP1zc0zKs0K8rIsawwYPSSLslIVUhOLE5VyE9TALHT83NSUvMUMlPycwA5rQ6d&q=the+case+of+the+golden+idol&rlz=1C5CHFA_enUS925US925&oq=the+case+of+the+g&aqs=chrome.1.0i355i512j46i512j69i57j0i512j46i512j69i60l3.3243j0j1&sourceid=chrome&ie=UTF-8 | https://www.google.com/search?gs_ssp=eJzj4tVP1zc0zKs0K8rIsawwYPSSLslIVUhOLE5VyE9TALHT83NSUvMUMlPycwA5rQ6d&q=the+case+of+the+golden+idol&rlz=1C5CHFA_enUS925US925&oq=the+case+of+the+g&aqs=chrome.1.0i355i512j46i512j69i57j0i512j46i512j69i60l3.3243j0j1&sourceid=chrome&ie=UTF-8\n",
      "https://www.google.com/search?q=unscheduled+offworld+activation+ringtone&rlz=1C5CHFA_enUS925US925&oq=unscheduled+offworld+activation+ringtone&aqs=chrome..69i57j0i390.1525j0j1&sourceid=chrome&ie=UTF-8 | unscheduled offworld activation ringtone - Google Search\n",
      "https://www.google.com/search?q=osce+exam&rlz=1C5CHFA_enUS925US925&oq=osce+&aqs=chrome.1.69i57j0i433i512l2j0i512j0i433i512j0i512l5.3011j0j1&sourceid=chrome&ie=UTF-8 | osce exam\n",
      "https://www.google.com/search?q=cruise+r%26d+spending&rlz=1C5CHFA_enUS925US925&oq=cruise+r%26d+spending&aqs=chrome..69i57j0i546.5520j0j1&sourceid=chrome&ie=UTF-8 | cruise r&d spending - Google Search\n",
      "https://www.google.com/search?q=copilot+vim&rlz=1C5CHFA_enUS925US925&oq=copilot+vim&aqs=chrome..69i57j0i10i22i30.3048j0j1&sourceid=chrome&ie=UTF-8 | copilot vim - Google Search\n"
     ]
    }
   ],
   "source": [
    "print_tabs(sorted([t for t in tabs if ('google.com' in t.lower() and 'search' in t.lower() and\n",
    "                                   not ('docs.google' in t.lower() or 'sheets.google' in t.lower()))]),\n",
    "           label='Google search')"
   ]
  },
  {
   "cell_type": "code",
   "execution_count": 12,
   "id": "53b9762e",
   "metadata": {},
   "outputs": [
    {
     "name": "stdout",
     "output_type": "stream",
     "text": [
      "## EAFo/LW ## (81 tabs)\n",
      "\n",
      "https://forum.effectivealtruism.org/posts/x7udP4eQqm4WJ9mFo/a-database-of-effective-productivity-recommendations | A database of effective productivity recommendations - EA Forum\n",
      "https://forum.effectivealtruism.org/posts/nQCW3h4AjTrcxaJpw/announcing-seri-biosecurity-interventions-technical-seminar | Announcing: SERI Biosecurity Interventions Technical Seminar (BITS) - EA Forum\n",
      "https://forum.effectivealtruism.org/posts/Rnga2XRJzeYypyXDt/learning-as-much-deep-learning-math-as-i-could-in-24-hours | Learning as much Deep Learning math as I could in 24 hours - EA Forum\n",
      "https://forum.effectivealtruism.org/posts/RWQ6Pqc4s8yq2fSjg/forecasting-extreme-outcomes | Forecasting extreme outcomes - EA Forum\n",
      "https://forum.effectivealtruism.org/posts/2HjKd8grDGBBoeL6Y/wentworth-and-larsen-on-buying-time | Wentworth and Larsen on buying time - EA Forum\n",
      "https://forum.effectivealtruism.org/posts/nRXugEFFDz7MtGKz9/there-should-be-a-public-adversarial-collaboration-on-ai-x | There should be a public adversarial collaboration on AI x-risk - EA Forum\n",
      "https://www.lesswrong.com/posts/AfH2oPHCApdKicM4m/two-year-update-on-my-personal-ai-timelines#Considering_endogeneities_in_spending_and_research_progress | Two-year update on my personal AI timelines - LessWrong\n",
      "https://forum.effectivealtruism.org/posts/xLvcypxtGD5mTKCtk/ea-orgs-have-very-different-twitter-personalities#Centre_for_the_Study_of_Existential_Risk__CSER_ | EA orgs have very different Twitter personalities - EA Forum\n",
      "https://forum.effectivealtruism.org/posts/bdiDW83SFAsoA4EeB/a-philosophical-review-of-open-philanthropy-s-cause | A philosophical review of Open Philanthropy’s Cause Prioritisation Framework - EA Forum\n",
      "https://forum.effectivealtruism.org/posts/zuqpqqFoue5LyutTv/the-ea-community-does-not-own-its-donors-money?commentId=rCm4FnnJeE4GB4XMr | The EA community does not own its donors' money - EA Forum\n",
      "https://forum.effectivealtruism.org/posts/zy6jGPeFKHaoxKEfT/the-capability-approach | The Capability Approach - EA Forum\n",
      "https://forum.effectivealtruism.org/posts/9XGhNArGhiZ3daQws/heretical-thoughts-on-ai-or-eli-dourado | Heretical Thoughts on AI  Eli Dourado - EA Forum\n",
      "https://forum.effectivealtruism.org/posts/8whqn2GrJfvTjhov6/measuring-good-better-1 | Measuring Good Better - EA Forum\n",
      "https://forum.effectivealtruism.org/posts/grL3eTkSBjT4EgxSy/a-new-framing-to-replace-welfarism-vs-abolitionism | A new framing to replace \"Welfarism vs. Abolitionism\" - EA Forum\n",
      "https://forum.effectivealtruism.org/posts/rZoRGxJzipcQoaPST/how-many-people-are-working-directly-on-reducing-existential | How many people are working (directly) on reducing existential risk from AI? - EA Forum\n",
      "https://forum.effectivealtruism.org/posts/zMAdoAyAcZJHybG2R/calculating-how-much-small-donors-funge-with-money-that-will | Calculating how much small donors funge with money that will never be spent - EA Forum\n",
      "https://forum.effectivealtruism.org/posts/wwkyJFjnGDyM7ddyh/have-worries-about-ea-want-to-chat | Have worries about EA? Want to chat? - EA Forum\n",
      "https://forum.effectivealtruism.org/posts/L6ZmggEJw8ri4KB8X/my-highly-personal-skepticism-braindump-on-existential-risk | My highly personal skepticism braindump on existential risk from artificial intelligence. - EA Forum\n",
      "https://forum.effectivealtruism.org/posts/majcwf7i8pW8eMJ3v/new-cause-area-violence-against-women-and-girls | New cause area: Violence against women and girls - EA Forum\n",
      "https://forum.effectivealtruism.org/posts/Wcs96Hao8zN5NgZkS/excerpts-from-doing-ea-better-on-x-risk-methodology | Excerpts from \"Doing EA Better\" on x-risk methodology - EA Forum\n",
      "https://forum.effectivealtruism.org/posts/9J3o3cjGSHbHZoWQN/a-new-heuristic-to-update-on-the-credences-of-others | A new Heuristic to Update on the Credences of Others - EA Forum\n",
      "https://www.lesswrong.com/posts/fLRPeXihRaiRo5dyX/the-magnitude-of-his-own-folly | The Magnitude of His Own Folly - LessWrong\n",
      "https://forum.effectivealtruism.org/posts/fjaLYSNTggztom29c/possible-changes-to-ea-a-big-upvoted-list | Possible changes to EA, a big upvoted list - EA Forum\n",
      "https://forum.effectivealtruism.org/posts/JgqEqsa6iAtqGLYmw/the-elephant-in-the-bednet-the-importance-of-philosophy-when-1 | The elephant in the bednet: the importance of philosophy when choosing between extending and improving lives - EA Forum\n",
      "https://forum.effectivealtruism.org/posts/5HSDoTbkiiEwZAdJ7/it-was-probably-hard-to-hedge-financial-risk-to-ea | It was probably hard to hedge financial risk to EA - EA Forum\n",
      "https://www.lesswrong.com/s/EcKbpm4f7fBwhxRZs | Takeoff & Takeover - LessWrong\n",
      "https://forum.effectivealtruism.org/posts/zThADDRFHFRjonf25/questions-i-ask-myself-when-making-decisions-or | Questions I ask myself when making decisions (or communicating) - EA Forum\n",
      "https://forum.effectivealtruism.org/posts/myp9Y9qJnpEEWhJF9/linch-s-shortform?commentId=vsEcDhNTdxczsQAXe | Linch's Shortform - EA Forum\n",
      "https://forum.effectivealtruism.org/posts/mgurctbDAP8bGeHCb/how-did-our-historical-moral-heroes-deal-with-severe | How did our historical moral heroes deal with severe adversity and/or moral compromise? - EA Forum\n",
      "https://forum.effectivealtruism.org/posts/3vDarp6adLPBTux5g/what-a-compute-centric-framework-says-about-ai-takeoff | What a compute-centric framework says about AI takeoff speeds - draft report - EA Forum\n",
      "https://forum.effectivealtruism.org/posts/uqt8CZ4ovdM3xQBzg/status-can-be-corrosive-here-s-how-i-handle-it | \"Status\" can be corrosive; here's how I handle it - EA Forum\n",
      "https://forum.effectivealtruism.org/posts/LiHqgrKDuzJPFjtaT/moving-toward-more-concrete-proposals-for-reform | Moving Toward More Concrete Proposals for Reform - EA Forum\n",
      "https://forum.effectivealtruism.org/posts/u8eif2FkHiaYiAdfH/what-gives-me-hope | What gives me hope - EA Forum\n",
      "https://www.lesswrong.com/posts/AhhdyxiAG6669BxLe/the-ai-countdown-clock | The AI Countdown Clock - LessWrong\n",
      "https://forum.effectivealtruism.org/posts/f2qojPr8NaMPo2KJC/beware-safety-washing | Beware safety-washing - EA Forum\n",
      "https://forum.effectivealtruism.org/posts/evoucWzKw3bRXAPK8/requesting-low-fee-investment-advisor-to-passively-manage | Requesting low-fee investment advisor to passively \"manage\" our $1M+ donor-advised fund - EA Forum\n",
      "https://forum.effectivealtruism.org/posts/kxEAkcEvyiwmjirjN/wheeling-and-dealing-an-internal-bargaining-approach-to | Wheeling and dealing: An internal bargaining approach to moral uncertainty - EA Forum\n",
      "https://www.lesswrong.com/posts/cCMihiwtZx7kdcKgt/comments-on-carlsmith-s-is-power-seeking-ai-an-existential | Comments on Carlsmith's “Is power-seeking AI an existential risk?” - LessWrong\n",
      "https://www.lesswrong.com/posts/aFaKhG86tTrKvtAnT/against-gdp-as-a-metric-for-timelines-and-takeoff-speeds | Against GDP as a metric for timelines and takeoff speeds - LessWrong\n",
      "https://forum.effectivealtruism.org/posts/QWuKM5fsbry8Jp2x5/why-people-want-to-work-on-ai-safety-but-don-t | Why people want to work on AI safety (but don’t) - EA Forum\n",
      "https://forum.effectivealtruism.org/posts/NdZPQxc74zNdg8Mvm/tyler-cowen-on-effective-altruism-december-2022 | Tyler Cowen on effective altruism (December 2022) - EA Forum\n",
      "https://forum.effectivealtruism.org/posts/yJuSLLj8n5aTyQMFj/visualisation-of-probability-mass | Visualisation of Probability Mass - EA Forum\n",
      "https://forum.effectivealtruism.org/posts/fzrsa6syCM3yWW7HA/announcing-the-awardees-for-open-philanthropy-s-usd150m | Announcing the awardees for Open Philanthropy's $150M Regranting Challenge - EA Forum\n",
      "https://forum.effectivealtruism.org/posts/zWscvNhd3xeGJabEn/announcing-aisafety-training | Announcing aisafety.training - EA Forum\n",
      "https://forum.effectivealtruism.org/posts/HwDZ6oHtz34kBAsts/finding-bugs-in-givewell-s-top-charities | Finding bugs in GiveWell's top charities - EA Forum\n",
      "https://forum.effectivealtruism.org/posts/SaRFsRDrneDgxNBbh/recursive-middle-manager-hell | Recursive Middle Manager Hell - EA Forum\n",
      "https://forum.effectivealtruism.org/posts/ZRZHJ3qSitXQ6NGez/about-going-to-a-hub-1 | About going to a hub - EA Forum\n",
      "https://forum.effectivealtruism.org/posts/3eivCYyZm8NR4Sdq5/call-me-maybe-hotlines-and-global-catastrophic-risk-founders | Call me, maybe? Hotlines and Global Catastrophic Risk [Founders Pledge] - EA Forum\n",
      "https://forum.effectivealtruism.org/posts/LLHm5QSiAr72r5FZY/military-support-in-a-global-catastrophe | Military support in a global catastrophe - EA Forum\n",
      "https://www.lesswrong.com/posts/B9kP6x5rpmuCzpfWb/comment-reply-my-low-quality-thoughts-on-why-cfar-didn-t-get | Comment reply: my low-quality thoughts on why CFAR didn't get farther with a \"real/efficacious art of rationality\" - LessWrong\n",
      "https://www.lesswrong.com/posts/fovfuFdpuEwQzJu2w/neural-networks-generalize-because-of-this-one-weird-trick | Neural networks generalize because of this one weird trick - LessWrong\n",
      "https://www.lesswrong.com/posts/3cfTF7YkJa8DrSzxH/?commentId=XMCmjAxfqJzeRFrSF | [Discussion] How Broad is the Human Cognitive Spectrum? - LessWrong\n",
      "https://www.lesswrong.com/posts/RJZ7bwoDB6BWgt6St/the-role-of-bayesian-ml-in-ai-safety-an-overview | The role of Bayesian ML in AI safety - an overview - LessWrong\n",
      "https://www.lesswrong.com/posts/ZEgQGAjQm5rTAnGuM/beware-boasting-about-non-existent-forecasting-track-records | Beware boasting about non-existent forecasting track records - LessWrong\n",
      "https://forum.effectivealtruism.org/posts/8c7LycgtkypkgYjZx/agi-and-the-emh-markets-are-not-expecting-aligned-or | AGI and the EMH: markets are not expecting aligned or unaligned AI in the next 30 years - EA Forum\n",
      "https://forum.effectivealtruism.org/posts/jRJyjdqqtpwydcieK/ea-could-use-better-internal-communications-infrastructure | EA could use better internal communications infrastructure - EA Forum\n",
      "https://forum.effectivealtruism.org/posts/irhgjSgvocfrwnzRz/should-the-forum-be-structured-such-that-the-drama-of-the | Should the forum be structured such that the drama of the day doesn't occur on the front page? - EA Forum\n",
      "https://www.lesswrong.com/posts/ZSWsWyzW2PfvoLPPi/what-is-ra | What is Ra? - LessWrong\n",
      "https://forum.effectivealtruism.org/inbox/ioWSZzuQJb9RzCfMY | Private Conversation - EA Forum\n",
      "https://forum.effectivealtruism.org/posts/hBhXYfchGcxoGbx6y/what-we-ve-learned-from-running-an-impactful-policy-careers | What We’ve Learned from running an Impactful Policy Careers Workshop Series - EA Forum\n",
      "https://forum.effectivealtruism.org/posts/Xr4n2cczyxxYpbrsh/overview-of-effective-giving-organisations | Overview of effective giving organisations - EA Forum\n",
      "https://www.lesswrong.com/posts/k6rkFMM2x5gqJyfmJ/on-ai-and-interest-rates | On AI and Interest Rates - LessWrong\n",
      "https://forum.effectivealtruism.org/posts/54vAiSFkYszTWWWv4/doing-ea-better-1#comments | Doing EA Better - EA Forum\n",
      "https://www.lesswrong.com/posts/X3p8mxE5dHYDZNxCm/a-concrete-bet-offer-to-those-with-short-ai-timelines | A concrete bet offer to those with short AI timelines - LessWrong\n",
      "https://forum.effectivealtruism.org/posts/BsKwAna6tzCsv2Q5n/animal-advocacy-digest-4-dec-24th-jan-20th | Animal Advocacy Digest #4: Dec 24th- Jan 20th - EA Forum\n",
      "https://forum.effectivealtruism.org/posts/g9skQrrirWHk9Bbyg/the-ones-that-walk-away | The ones that walk away - EA Forum\n",
      "https://www.lesswrong.com/posts/sbb9bZgojmEa7Yjrc/updating-my-ai-timelines | Updating my AI timelines - LessWrong\n",
      "https://forum.effectivealtruism.org/posts/n82RPezsuW7yQdztE/forecasting-could-use-more-gender-diversity | Forecasting could use more gender diversity - EA Forum\n",
      "https://www.lesswrong.com/posts/CoZhXrhpQxpy9xw9y/where-i-agree-and-disagree-with-eliezer?commentId=C4F5i6gF6vhkYSSXL | Where I agree and disagree with Eliezer - LessWrong\n",
      "https://www.lesswrong.com/posts/hMjFMSQZb4swKugfv/?commentId=ZctBhDy5WSxzxgLfZ | On the Diplomacy AI - LessWrong\n",
      "https://forum.effectivealtruism.org/posts/Et9Rnescdp6CtYBh4/existential-risk-modelling-with-continuous-time-markov | Existential Risk Modelling with Continuous-Time Markov Chains - EA Forum\n",
      "https://forum.effectivealtruism.org/posts/9xZ5ubYEsLWCZRYnL/how-to-reform-effective-altruism-after-sbf-vox-interview | How to Reform Effective Altruism after SBF Vox interview with Holden Karnofsky 1/23/2023 - EA Forum\n",
      "https://forum.effectivealtruism.org/posts/7CdtdieiijWXWhiZB/what-s-going-on-with-crunch-time | What’s going on with ‘crunch time’? - EA Forum\n",
      "https://forum.effectivealtruism.org/posts/fovDwkBQgTqRMoHZM/power-dynamics-between-people-in-ea#Romantic_relationships | Power dynamics between people in EA - EA Forum\n",
      "https://forum.effectivealtruism.org/posts/nKWc4EzRjkpcbDA3A/ai-risk-management-framework-or-nist | AI Risk Management Framework  NIST - EA Forum\n",
      "https://forum.effectivealtruism.org/posts/cAviezLQdkoNy42HG/exceptional-research-award-by-effective-thesis-etera | Exceptional Research Award by Effective Thesis (ETERA): reflection - EA Forum\n",
      "https://forum.effectivealtruism.org/posts/ByBBqwRXWqX5m9erL/update-to-samotsvety-agi-timelines | Update to Samotsvety AGI timelines - EA Forum\n",
      "https://www.lesswrong.com/posts/Z5gPrKTR2oDmm6fqJ/three-reasons-to-expect-long-ai-timelines | Three reasons to expect long AI timelines - LessWrong\n",
      "https://www.lesswrong.com/posts/qnjDGitKxYaesbsem/a-comment-on-ajeya-cotra-s-draft-report-on-ai-timelines | A comment on Ajeya Cotra's draft report on AI timelines - LessWrong\n",
      "https://www.lesswrong.com/users/gwern | gwern - LessWrong\n",
      "https://forum.effectivealtruism.org/posts/AoqwhAY5faTHfYu4Z/some-intuitions-about-fellowship-programs | Some intuitions about fellowship programs - EA Forum\n"
     ]
    }
   ],
   "source": [
    "ea_fo_tabs = sorted([t for t in tabs if ('forum.effectivealtruism' in t.lower() or 'lesswrong' in t.lower())])\n",
    "print_tabs(ea_fo_tabs, label='EAFo/LW')"
   ]
  },
  {
   "cell_type": "code",
   "execution_count": 13,
   "id": "8ffa8f80-4aa6-4afe-8c6a-59194d69895e",
   "metadata": {},
   "outputs": [],
   "source": [
    "#open_tabs(ea_fo_tabs, page=1, per_page=100)"
   ]
  },
  {
   "cell_type": "code",
   "execution_count": 14,
   "id": "42ae2aee",
   "metadata": {},
   "outputs": [
    {
     "name": "stdout",
     "output_type": "stream",
     "text": [
      "## Metaculus etc. ## (44 tabs)\n",
      "\n",
      "https://www.metaculus.com/questions/12973/global-co2-emissions/ | Global CO2 Emissions  Metaculus\n",
      "https://www.metaculus.com/questions/11373/prevent-pandemics-act-made-law/ | PREVENT Pandemics Act Made Law  Metaculus\n",
      "https://www.metaculus.com/questions/14327/gpt-4-number-of-parameters/ | GPT-4 Number of Parameters  Metaculus\n",
      "https://www.metaculus.com/questions/13015/annual-number-of-objects-launched-into-space/ | Annual Number of Objects Launched Into Space  Metaculus\n",
      "https://manifold.markets/ACXBot/43-will-a-new-version-of-covid-be-s | 43. Will a new version of COVID be substantially able to escape Omicron vaccines in 2023?  Manifold Markets\n",
      "https://www.metaculus.com/questions/13003/oecd-trust-in-government/ | OECD Trust in Government  Metaculus\n",
      "https://www.metaculus.com/project/2023-contest/ | ACX 2023 Prediction Contest  Metaculus\n",
      "https://www.metaculus.com/questions/12985/people-living-in-liberal-democracies/ | People Living in Liberal Democracies  Metaculus\n",
      "https://manifold.markets/MatthewBarnett/will-ai-be-a-major-topic-during-the | Will AI be a major topic during the 2024 presidential debates in the United States?  Manifold Markets\n",
      "https://www.metaculus.com/questions/13039/chickens-slaughtered-for-meat/ | Chickens Slaughtered for Meat  Metaculus\n",
      "https://www.metaculus.com/questions/12991/us-gdp-per-hour-worked-productivity/ | US GDP Per Hour Worked (Productivity)  Metaculus\n",
      "https://www.metaculus.com/questions/12967/global-poverty-10-2011-int-usd-per-day/ | Global Poverty (<$10 2011 INT USD per day)  Metaculus\n",
      "https://manifold.markets/MatthewBarnett/will-gpt4-get-the-monty-fall-proble#916asMIzg1CMXtgfqJdI | Will GPT-4 get the Monty *Fall* problem correct?  Manifold Markets\n",
      "https://www.metaculus.com/questions/13045/per-capita-primary-energy-consumption/ | Per Capita Primary Energy Consumption  Metaculus\n",
      "https://www.metaculus.com/questions/12268/apps-benchmark-sota-in-2022-2025/ | APPS Benchmark SOTA in 2022 - 2025  Metaculus\n",
      "https://www.metaculus.com/questions/12949/global-nuclear-warhead-stockpiles/ | Global Nuclear Warhead Stockpiles  Metaculus\n",
      "https://www.metaculus.com/questions/3608/will-the-majority-of-leading-cosmologists-in-2030-agree-that-the-evidence-points-to-an-accelerating-universe/ | Cosmologists Favor Universe Acceleration  Metaculus\n",
      "https://www.metaculus.com/questions/13027/share-living-where-same-sex-marriage-is-legal/ | Share Living Where Same-Sex Marriage is Legal  Metaculus\n",
      "https://www.metaculus.com/questions/14479/predict-01999-with-decimal-forecasting/ | Predict 0.1%—99.9% With Decimal Forecasting  Metaculus\n",
      "https://www.metaculus.com/questions/12979/total-annual-investment-in-ai-companies/ | Total Annual Investment in AI Companies  Metaculus\n",
      "https://www.metaculus.com/questions/12955/cost-of-sequencing-whole-human-genome/ | Cost of Sequencing Whole Human Genome  Metaculus\n",
      "https://twitter.com/RichardHanania/status/1617974946323640321 | (2) Richard Hanania on Twitter: \"PredictIt may be shut down February 15. You probably know that prediction markets have the potential to improve human decision making, but are generally illegal. Why is this? And can anything be done to change things? I explain how change can happen. 🧵https://t.co/f7s5DW5uEl\" / Twitter\n",
      "https://www.metaculus.com/questions/14624/will-gpt-4-support-images-as-input--output/?sub-question=14625 | https://www.metaculus.com/questions/14624/will-gpt-4-support-images-as-input--output/?sub-question=14625\n",
      "https://www.metaculus.com/tournament/forecasting-Our-World-in-Data/ | Forecasting Our World in Data  Metaculus\n",
      "https://manifold.markets/group/ai | https://manifold.markets/group/ai\n",
      "https://www.metaculus.com/questions/13075/greatest-computation-used-in-ai-training/ | Greatest Computation Used in AI Training  Metaculus\n",
      "https://www.metaculus.com/questions/13931/nuclear-detonation-in-2023/ | Nuclear Detonation in 2023  Metaculus\n",
      "https://www.metaculus.com/questions/13009/global-homicide-rate/ | Global Homicide Rate  Metaculus\n",
      "https://www.metaculus.com/questions/13033/life-expectancy-at-birth-in-the-g7/ | Life Expectancy at Birth in the G7  Metaculus\n",
      "https://www.metaculus.com/questions/9519/flops-used-for-gpt-4-if-released/ | How many parameters will GPT-4 have?  Metaculus\n",
      "https://www.metaculus.com/questions/13787/petaflops-during-gpt-4-training/ | PetaFLOPs during GPT-4 training  Metaculus\n",
      "https://www.metaculus.com/questions/13052/flops-of-fastest-supercomputer/ | FLOPS of Fastest Supercomputer  Metaculus\n",
      "https://www.metaculus.com/questions/13171/nuclear-detonation-in-ukraine-by-2024/ | Nuclear Detonation in Ukraine by 2024  Metaculus\n",
      "https://manifold.markets/ACXBot/7-will-an-issue-involving-a-nuclear#sMUxxsctD5Lb2Ucv8OKF | 7. Will an issue involving a nuclear power plant in Ukraine require evacuation of a populated area in 2023?  Manifold Markets\n",
      "https://www.metaculus.com/questions/14273/covid-variant-evasion-of-vaccinines-in-2023/ | COVID Variant Evasion of Vaccines in 2023  Metaculus\n",
      "https://www.metaculus.com/questions/12961/total-global-fatalities-from-terrorism/ | Total Global Fatalities from Terrorism  Metaculus\n",
      "https://manifold.markets/PeterWildeford?tab=portfolio | Peter Wildeford (@PeterWildeford)  Manifold Markets\n",
      "https://manifoldmarkets.notion.site/Manifold-Finances-0f9a14a16afe4375b67e21471ce456b0 | Manifold Finances\n",
      "https://www.metaculus.com/questions/12943/global-fertility-rate/ | Global Fertility Rate  Metaculus\n",
      "https://www.metaculus.com/questions/12997/world-population/ | World Population  Metaculus\n",
      "https://manifold.markets/ACXBot/8-will-a-nuclear-weapon-be-detonate | 8. Will a nuclear weapon be detonated (including tests and accidents) in 2023?  Manifold Markets\n",
      "https://www.metaculus.com/questions/13074/pro-forecasting-forecasting-owid-discussion/ | [Pro Forecasting] Forecasting OWID Discussion  Metaculus\n",
      "https://www.metaculus.com/tournament/climate/ | Climate Tipping Points  Metaculus\n",
      "https://www.metaculus.com/questions/13021/cagr-gdp-growth-per-capita/ | CAGR GDP Growth Per Capita  Metaculus\n"
     ]
    }
   ],
   "source": [
    "print_tabs(sorted([t for t in tabs if ('metaculus' in t.lower() or 'manifold' in t.lower() or 'predictit' in t.lower())]), label='Metaculus etc.')"
   ]
  },
  {
   "cell_type": "code",
   "execution_count": 15,
   "id": "72bdaddd",
   "metadata": {},
   "outputs": [
    {
     "name": "stdout",
     "output_type": "stream",
     "text": [
      "## Wikipedia ## (0 tabs)\n",
      "\n"
     ]
    }
   ],
   "source": [
    "print_tabs(sorted([t for t in tabs if 'wikipedia' in t.lower()]), label='Wikipedia')"
   ]
  },
  {
   "cell_type": "code",
   "execution_count": 16,
   "id": "ca9dcfdf",
   "metadata": {},
   "outputs": [
    {
     "name": "stdout",
     "output_type": "stream",
     "text": [
      "## Reddit ## (3 tabs)\n",
      "\n",
      "https://www.reddit.com/r/GPT3/comments/10ffrk8/i_built_a_youtube_video_summarizer_using_gpt3/ | (2) I built a YouTube Video Summarizer using GPT3 : GPT3\n",
      "https://www.reddit.com/r/Stargate/comments/6lp112/when_theres_an_unscheduled_offworld_activation/ | (2) When there's an unscheduled offworld activation but no iris code : Stargate\n",
      "https://www.reddit.com/r/relationship_advice/comments/10n9bin/i_24m_am_suddenly_starting_to_resent_my_gf_25f_i/ | Reddit - Dive into anything\n"
     ]
    }
   ],
   "source": [
    "print_tabs(sorted([t for t in tabs if 'reddit' in t.lower()]), label='Reddit')"
   ]
  },
  {
   "cell_type": "code",
   "execution_count": 17,
   "id": "5dedf293",
   "metadata": {},
   "outputs": [
    {
     "name": "stdout",
     "output_type": "stream",
     "text": [
      "## localhost ## (3 tabs)\n",
      "\n",
      "http://localhost:8888/lab/tree/Tab%20sorts.ipynb | Tab%20sorts.… - JupyterLab\n",
      "http://localhost:8889/lab/tree/ACX_Full_Mode.ipynb | ACX_Full_Mod… - JupyterLab\n",
      "http://localhost:8891/lab/tree/Fundraising%20Forecast%20Lite.ipynb | Fundraising%… - JupyterLab\n"
     ]
    }
   ],
   "source": [
    "print_tabs(sorted([t for t in tabs if 'guarded-everglades-89687.herokuapp.com' in t.lower() or 'localhost' in t.lower()]), label='localhost')\n"
   ]
  },
  {
   "cell_type": "code",
   "execution_count": 18,
   "id": "677f610e",
   "metadata": {},
   "outputs": [
    {
     "name": "stdout",
     "output_type": "stream",
     "text": [
      "## Chores ## (0 tabs)\n",
      "\n"
     ]
    }
   ],
   "source": [
    "print_tabs(sorted([t for t in tabs if 'instacart' in t.lower()]), label='Chores')"
   ]
  },
  {
   "cell_type": "code",
   "execution_count": 19,
   "id": "5fce865e",
   "metadata": {},
   "outputs": [
    {
     "name": "stdout",
     "output_type": "stream",
     "text": [
      "## Amazon ## (8 tabs)\n",
      "\n",
      "https://smile.amazon.com/The-Making-of-Manager-audiobook/dp/B07NGSZGFG/?sa-no-redirect=1 | AmazonSmile: The Making of a Manager: What to Do When Everyone Looks to You (Audible Audio Edition): Julie Zhuo, Karissa Vacker, Julie Zhuo, Penguin Audio: Audible Books & Originals\n",
      "https://smile.amazon.com/dp/0374536244?ref_=cm_sw_r_apin_dp_YSZPS5G3TKXGM84NECP9&sa-no-redirect=1 | Mindware: Tools for Smart Thinking: Nisbett, Richard E.: 9780374536244: AmazonSmile: Books\n",
      "https://smile.amazon.com/Retractable-Keychain/s?k=Retractable+Keychain&sa-no-redirect=1 | Amazon.com : Retractable Keychain\n",
      "https://smile.amazon.com/Zoeys-Extraordinary-Return/dp/B08SBJNC7Z/ref=sr_1_2?crid=2VYXMNI4Y6DJJ&keywords=zoe%27s+extraordinary+playlist&qid=1673416980&sprefix=zoe%27s+extraordinary+playlist%2Caps%2C81&sr=8-2 | Watch Zoey's Extraordinary Playlist, Season 2  Prime Video\n",
      "https://www.aboutamazon.com/news/company-news/amazon-closing-amazonsmile-to-focus-its-philanthropic-giving-to-programs-with-greater-impact | Amazon closing AmazonSmile to focus its philanthropic giving to programs with greater impact\n",
      "https://smile.amazon.com/How-Calm-Your-Mind-Productivity-ebook/dp/B09WM9PTD9?ref_=ast_sto_dp&sa-no-redirect=1 | AmazonSmile: How to Calm Your Mind: Finding Presence and Productivity in Anxious Times eBook : Bailey, Chris: Kindle Store\n",
      "https://smile.amazon.com/Hyperfocus-Manage-Attention-World-Distraction/dp/0525522255/ref=tmm_pap_swatch_0?_encoding=UTF8&qid=1672612983&sr=8-1&sa-no-redirect=1 | Hyperfocus: How to Manage Your Attention in a World of Distraction: Bailey, Chris: 9780525522256: AmazonSmile: Books\n",
      "https://smile.amazon.com/Elegant-Puzzle-Systems-Engineering-Management/dp/1732265186?sa-no-redirect=1 | AmazonSmile: An Elegant Puzzle: Systems of Engineering Management: 9781732265189: Larson, Will: Books\n"
     ]
    }
   ],
   "source": [
    "print_tabs(sorted([t for t in tabs if 'amazon.com' in t.lower()]), label='Amazon')"
   ]
  },
  {
   "cell_type": "code",
   "execution_count": 20,
   "id": "16d46af9",
   "metadata": {},
   "outputs": [
    {
     "name": "stdout",
     "output_type": "stream",
     "text": [
      "## Morning Dispatch ## (0 tabs)\n",
      "\n"
     ]
    }
   ],
   "source": [
    "print_tabs(sorted([t for t in tabs if 'morning' in t.lower() and 'dispatch' in t.lower()]), label='Morning Dispatch')"
   ]
  },
  {
   "cell_type": "code",
   "execution_count": 21,
   "id": "108d879a",
   "metadata": {},
   "outputs": [
    {
     "name": "stdout",
     "output_type": "stream",
     "text": [
      "## GitHub ## (4 tabs)\n",
      "\n",
      "https://github.com/peterhurford/acx_forecasts_2023/blob/main/ACX_Full_Mode.ipynb | acx_forecasts_2023/ACX_Full_Mode.ipynb at main · peterhurford/acx_forecasts_2023\n",
      "https://github.com/washingtonpost/elex-live-model | washingtonpost/elex-live-model: a model to generate estimates of the number of outstanding votes on an election night based on the current results of the race\n",
      "https://github.com/benwr/gwipt | benwr/gwipt: Automatically commit all edits to a wip branch with GPT-3 commit messages\n",
      "https://github.com/laurakduffy/public_moral_weight_and_sentience | laurakduffy/public_moral_weight_and_sentience: Public version of Rethink Priorities' Moral Weight Project welfare range and sentience estimates\n"
     ]
    }
   ],
   "source": [
    "print_tabs(sorted([t for t in tabs if 'github.com' in t.lower()]), label='GitHub')"
   ]
  },
  {
   "cell_type": "code",
   "execution_count": 22,
   "id": "d911bbda",
   "metadata": {},
   "outputs": [
    {
     "name": "stdout",
     "output_type": "stream",
     "text": [
      "## YouTube ## (8 tabs)\n",
      "\n",
      "https://www.youtube.com/watch?v=qthHlLyvplg | Boards Of Canada - Seven Forty Seven - YouTube\n",
      "https://www.youtube.com/watch?v=kCc8FmEb1nY | Let's build GPT: from scratch, in code, spelled out. - YouTube\n",
      "https://www.youtube.com/watch?v=dFqbtnFZAIQ | Halloween Hide & Seek v2.0 Trailer - YouTube\n",
      "https://twitter.com/GaetenD/status/1617497997029392386 | (3) Gaeten Dugas on Twitter: \"I have a lot of money riding on this not happening before next Wednesday. With seat assignments not yet finalized and the resolution to remove Omar needing to go to the Ethics Committee for rules writing, I don’t see how it happens on time. $10k+ payout if I’m right.\" / Twitter\n",
      "https://www.youtube.com/watch?v=-5wpm-gesOY | The Problem with Time & Timezones - Computerphile - YouTube\n",
      "https://www.reddit.com/r/GPT3/comments/10ffrk8/i_built_a_youtube_video_summarizer_using_gpt3/ | (2) I built a YouTube Video Summarizer using GPT3 : GPT3\n",
      "https://www.youtube.com/watch?v=xT0hrOxfDF8 | Brian Eno - The Big Ship - YouTube\n",
      "https://www.youtube.com/results?search_query=unscheduled+offworld+activation | unscheduled offworld activation - YouTube\n"
     ]
    }
   ],
   "source": [
    "print_tabs(sorted([t for t in tabs if 'yout' in t.lower()]), label='YouTube')"
   ]
  },
  {
   "cell_type": "code",
   "execution_count": 23,
   "id": "2649c14d",
   "metadata": {},
   "outputs": [
    {
     "name": "stdout",
     "output_type": "stream",
     "text": [
      "## Instagram ## (0 tabs)\n",
      "\n"
     ]
    }
   ],
   "source": [
    "print_tabs(sorted([t for t in tabs if 'instagram.com' in t.lower()]), label='Instagram')"
   ]
  },
  {
   "cell_type": "code",
   "execution_count": 24,
   "id": "ab0e02f2-e275-486f-98d3-37d3218dc821",
   "metadata": {},
   "outputs": [
    {
     "name": "stdout",
     "output_type": "stream",
     "text": [
      "## Asana ## (1 tabs)\n",
      "\n",
      "https://app.asana.com/0/1202639647964285/messages | ● Asana Adoption Plan - Asana\n"
     ]
    }
   ],
   "source": [
    "print_tabs(sorted([t for t in tabs if 'app.asana.com' in t.lower()]), label='Asana')"
   ]
  },
  {
   "cell_type": "code",
   "execution_count": 25,
   "id": "bc70c265",
   "metadata": {},
   "outputs": [
    {
     "ename": "SyntaxError",
     "evalue": "invalid syntax (1240844904.py, line 17)",
     "output_type": "error",
     "traceback": [
      "\u001b[0;36m  Cell \u001b[0;32mIn [25], line 17\u001b[0;36m\u001b[0m\n\u001b[0;31m    not 'app.asana.com' in t.lower() andf\u001b[0m\n\u001b[0m                                     ^\u001b[0m\n\u001b[0;31mSyntaxError\u001b[0m\u001b[0;31m:\u001b[0m invalid syntax\n"
     ]
    }
   ],
   "source": [
    "tabs_ = [t for t in tabs if (not ('google.com' in t.lower() and 'search' in t.lower() and not ('docs.google' in t.lower() or 'sheets.google' in t.lower())) and\n",
    "                             not ('docs.google' in t.lower() or 'sheets.google' in t.lower() or 'drive.google' in t.lower()) and\n",
    "                             not 'facebook.com' in t.lower() and\n",
    "                             not 'twitter.com' in t.lower() and\n",
    "                             not ('forum.effectivealtruism' in t.lower() or 'lesswrong' in t.lower()) and\n",
    "                             not ('metaculus' in t.lower() or 'manifold' in t.lower() or 'predictit' in t.lower()) and\n",
    "                             not 'wikipedia' in t.lower() and\n",
    "                             not 'reddit' in t.lower() and\n",
    "                             not 'instagram.com' in t.lower() and\n",
    "                             not ('guarded-everglades-89687.herokuapp.com' in t.lower() or 'localhost' in t.lower()) and\n",
    "                             not 'instacart' in t.lower() and\n",
    "                             not ('morning' in t.lower() and 'dispatch' in t.lower()) and\n",
    "                             not 'amazon.com' in t.lower() and\n",
    "                             not 'github' in t.lower() and\n",
    "                             not 'calendar.google' in t.lower() and\n",
    "                             not 'yout' in t.lower() and\n",
    "                             not 'app.asana.com' in t.lower() andf\n",
    "                             not ('messages/' in t.lower() or 'inbox/' in t.lower() or 'mail.google' in t.lower() or 'swapcard' in t.lower()))]\n",
    "tabs_ = sorted(tabs_)\n",
    "print_tabs(tabs_, label='Other')\n",
    "\n"
   ]
  },
  {
   "cell_type": "code",
   "execution_count": null,
   "id": "c9a2a7bb-86f9-45bd-b8d6-ed8889caed90",
   "metadata": {},
   "outputs": [],
   "source": [
    "#open_tabs(tabs_, page=1, per_page=60)"
   ]
  },
  {
   "cell_type": "code",
   "execution_count": null,
   "id": "6c128ee3-03e2-4cfb-bfd1-0dfc84775af1",
   "metadata": {},
   "outputs": [],
   "source": [
    "#random.shuffle(tabs)\n",
    "#print_tabs(tabs, label='Shuffled all tabs')"
   ]
  }
 ],
 "metadata": {
  "kernelspec": {
   "display_name": "Python 3 (ipykernel)",
   "language": "python",
   "name": "python3"
  },
  "language_info": {
   "codemirror_mode": {
    "name": "ipython",
    "version": 3
   },
   "file_extension": ".py",
   "mimetype": "text/x-python",
   "name": "python",
   "nbconvert_exporter": "python",
   "pygments_lexer": "ipython3",
   "version": "3.9.15"
  }
 },
 "nbformat": 4,
 "nbformat_minor": 5
}
