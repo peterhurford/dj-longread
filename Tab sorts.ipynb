{
 "cells": [
  {
   "cell_type": "code",
   "execution_count": 1,
   "id": "91d6b90f",
   "metadata": {},
   "outputs": [
    {
     "name": "stdout",
     "output_type": "stream",
     "text": [
      "Loaded\n"
     ]
    }
   ],
   "source": [
    "import numpy as np\n",
    "import webbrowser\n",
    "\n",
    "\n",
    "def print_tabs(tabs, label=None):\n",
    "    if label:\n",
    "        print('## {} ## ({} tabs)'.format(label, len(tabs)))\n",
    "    else:\n",
    "        print('({} tabs)'.format(len(tabs)))\n",
    "    print('')\n",
    "    for tab in tabs:\n",
    "        print(tab.replace('\\n', ''))\n",
    "    return None\n",
    "\n",
    "\n",
    "def open_tabs(tabs, page=1, per_page=10):\n",
    "    page_start = (page - 1) * per_page\n",
    "    total_pages = int(np.ceil(len(tabs) / per_page))\n",
    "    page_end = page * per_page - 1\n",
    "    paged_tabs = tabs[page_start:page_end]\n",
    "    print('Opening page {}/{} (tabs {}-{} of {})'.format(page, total_pages, page_start, page_end, len(tabs)))\n",
    "    \n",
    "    for tab in paged_tabs:\n",
    "        url = tab.split('|')[0].replace(' ', '')\n",
    "        webbrowser.open(url, new=2, autoraise=False)\n",
    "\n",
    "        \n",
    "print('Loaded')"
   ]
  },
  {
   "cell_type": "code",
   "execution_count": 2,
   "id": "d327ebb3",
   "metadata": {},
   "outputs": [
    {
     "name": "stdout",
     "output_type": "stream",
     "text": [
      "347\n",
      "311\n",
      "304\n"
     ]
    }
   ],
   "source": [
    "tab_file = open('/Users/peterhurford/Documents/alltabs.txt', 'r')\n",
    "tabs = tab_file.readlines()\n",
    "print(len(tabs))\n",
    "\n",
    "tabs = [t for t in tabs if t != '\\n']\n",
    "print(len(tabs))\n",
    "\n",
    "tabs = list(set(tabs))\n",
    "print(len(tabs))"
   ]
  },
  {
   "cell_type": "code",
   "execution_count": 3,
   "id": "371a7381",
   "metadata": {},
   "outputs": [
    {
     "name": "stdout",
     "output_type": "stream",
     "text": [
      "## Messages ## (12 tabs)\n",
      "\n",
      "https://www.facebook.com/messages/t/1321334994/ | Messenger | Facebook\n",
      "https://mobile.twitter.com/messages/25776739-2149921538 | https://mobile.twitter.com/messages/25776739-2149921538\n",
      "https://mobile.twitter.com/messages/25776739-749003563494354945 | https://mobile.twitter.com/messages/25776739-749003563494354945\n",
      "https://twitter.com/messages/25776739-749003563494354945 | (2) iabvek / Twitter\n",
      "https://www.facebook.com/messages/t/665161029 | (1) Messenger | Facebook\n",
      "https://mobile.twitter.com/messages/25776739-1551581042259132418 | https://mobile.twitter.com/messages/25776739-1551581042259132418\n",
      "https://www.facebook.com/messages/t/100000039664360/ | Messenger | Facebook\n",
      "https://mobile.twitter.com/messages/25776739-1257963166602088449 | https://mobile.twitter.com/messages/25776739-1257963166602088449\n",
      "https://mobile.twitter.com/messages/25776739-1133196129309356032 | https://mobile.twitter.com/messages/25776739-1133196129309356032\n",
      "https://www.facebook.com/messages/t/100057697351079 | Messenger | Facebook\n",
      "https://www.facebook.com/messages/t/100000039664360 | Messenger | Facebook\n",
      "https://mail.google.com/mail/u/0/#inbox/FMfcgzGqRQCxDBDRFCccfVfWXwnWRXGd | FW: Photo evidence of a great weekend of music making! - peter@peterhurford.com - Peter Hurford Mail\n"
     ]
    }
   ],
   "source": [
    "print_tabs([t for t in tabs if ('messages/' in t.lower() or 'inbox/' in t.lower() or 'swapcard' in t.lower())], label='Messages')\n"
   ]
  },
  {
   "cell_type": "code",
   "execution_count": 23,
   "id": "b59ee33d",
   "metadata": {},
   "outputs": [
    {
     "name": "stdout",
     "output_type": "stream",
     "text": [
      "## Facebook ## (0 tabs)\n",
      "\n"
     ]
    }
   ],
   "source": [
    "print_tabs([t for t in tabs if 'facebook.com' in t.lower() and 'messages' not in t.lower()], label='Facebook')"
   ]
  },
  {
   "cell_type": "code",
   "execution_count": 5,
   "id": "8c13112b",
   "metadata": {},
   "outputs": [
    {
     "name": "stdout",
     "output_type": "stream",
     "text": [
      "## Twitter ## (76 tabs)\n",
      "\n",
      "https://twitter.com/davidmanheim/status/1587757208120557568 | David Manheim on Twitter: \"People interested in reducing biorisk seem to be super excited about 222nm light to kill pathogens. I’m also really excited - but it’s (unfortunately) probably a decade or more away from widespread usage. Let me explain.\" / Twitter\n",
      "https://twitter.com/JgaltTweets/status/1588347188220133377 | JgaltTweets on Twitter: \"At the moment, I think Gavin Newsom has the best chance of being the 2024 Democratic nominee (50%)\" / Twitter\n",
      "https://twitter.com/SethBaum/status/1588525657180766209 | Seth Baum on Twitter: \"This is good news, full stop. Thanks go to all who made this happen. At a minimum, these are important words from Russia's most important partner. That matters. How much? Hard to say. But it may be more than just words. https://t.co/QkKjp12Pfl\" / Twitter\n",
      "https://twitter.com/KofmanMichael/status/1588160941665189888 | Michael Kofman on Twitter: \"A few thoughts on the current course of the war, and some impressions after a recent visit to Ukraine with several colleagues from the mil analysis community, including areas near the front in Kherson. /1\" / Twitter\n",
      "https://twitter.com/RatOrthodox/status/1588127631278575616 | Ronny Fernandez 🔍 on Twitter: \"There’s a disagreement about EA that often gets parsed as PR vs not PR, or strategic vs honest, or EA vs rationalist or whatever. I think the better way to parse the disagreement is as a disagreement about what EA’s reputation should be rather than about whether rep matters. 1/n\" / Twitter\n",
      "https://twitter.com/lxrjl/status/1587722328456286208 | alex lawsen on Twitter: \"Huge +1 to this. Not only for this circuit or even mechanistic interpretability in general but most empirical safety. If there are lessons to be learned from how techniques+results transfer to larger models, I want us to learn them sooner rather than later.\" / Twitter\n",
      "https://twitter.com/ethanCaballero/status/1587502829580820481 | Ethan Caballero on Twitter: \"We present the True Functional Form of the Scaling behavior of All things that involve Artificial Neural Networks, “Broken Neural Scaling Laws”: https://t.co/BqRwxRDXLc We’re giving $1Billion to 1st person who disproves this claim. Details to win $1Billion in this thread. (1/N) https://t.co/5duvvvqLBt\" / Twitter\n",
      "https://www.slowboring.com/p/elon-musk-needs-to-make-twitter-better | Elon Musk needs to make Twitter better\n",
      "https://twitter.com/MelanieZaber/status/1587519501431717889 | Melanie Zaber on Twitter: \"PhD students often ask me about the culture at RAND--how is it different from academia, other think tanks, and industry? Caveating that I've only interviewed at these other places...my assessment, triangulated with colleagues:\" / Twitter\n",
      "https://twitter.com/robertwiblin/status/1588544353395703814 | Robert Wiblin on Twitter: \"\"I think that you can 'control' events you have no causal interaction with, including events in the past, and that this is a wild and disorienting fact, with possibly significant implications. This post attempts to impart such disorientation.\" https://t.co/ndfh9v421U\" / Twitter\n",
      "https://mobile.twitter.com/lxrjl/status/1512522045346750467 | alex lawsen on Twitter: \"I think this take is going to end up looking silly pretty soon, but honestly, nothing but huge respect is due for being willing to be specific enough with a prediction that it's possible for reality to make you look silly.\" / Twitter\n",
      "https://twitter.com/AdamMGrant/status/1587447719102406657 | Adam Grant on Twitter: \"What are your favorite shows of the past year? Mine: 6. The Boys 5. The Patient 4. What We Do in the Shadows 3. Stranger Things 2. Ted Lasso 1. Severance\" / Twitter\n",
      "https://twitter.com/JgaltTweets | JgaltTweets (@JgaltTweets) / Twitter\n",
      "https://mobile.twitter.com/Scholars_Stage/status/1580950956560199683 | T. Greer on Twitter: \"I have been doing interviews &amp; research on the question of “when would Beijing decide to pull the trigger on Taiwan, and why then?” The most convincing argument I encountered for “not for a very long time” was essentially “they can’t afford to be cut out of chip supply chain.\" / Twitter\n",
      "https://twitter.com/fasc1nate/status/1587296925639999489 | Fascinating on Twitter: \"The height of statues from around the world. https://t.co/Uggitgx6kj\" / Twitter\n",
      "https://twitter.com/srush_nlp/status/1587836986752401409 | Sasha Rush on Twitter: \"Seeing many talks and papers with direct refs to posts in Alignment Forum. I really want to engage with your research ideas, but I find the expectation that I read and understand this stuff to be a bit high. https://t.co/rc69PpI8MC\" / Twitter\n",
      "https://mobile.twitter.com/mealreplacer/status/1585747559078936579 | John Stuart Chill on Twitter: \"@peterwildeford @joe_zimmerman @robbensinger Ugh wait I think I’ve gotten myself confused with the terminology. Is 30-40% your all-things-considered-right-now-in-2022 p(doom)?\" / Twitter\n",
      "https://twitter.com/NathanpmYoung/status/1588371157291388928 | Nathan on Twitter: \"AI is moving so fast that if you don’t notice soon, it’s gonna be here\" / Twitter\n",
      "https://mobile.twitter.com/awprokop/status/1584214783989280768 | Andrew Prokop on Twitter: \"Not only very little attention but also very little public discussion and debate over whether this extremely consequential move is a good idea. Maybe it is, but… I sure would like more debate over it!\" / Twitter\n",
      "https://twitter.com/paul_scharre/status/1580198294587723776 | (2) Paul Scharre on Twitter: \"1/ Can nations cooperate on arms control for artificial intelligence? In this @CNASdc report with @megan_lamberth, we analyze historical attempts at arms control, from antiquity to present, to assess the feasibility of AI arms control. https://t.co/RsiIcNKoRF\" / Twitter\n",
      "https://docs.google.com/spreadsheets/d/1xcgYF7Q0D95TPHLLSgwhWBHFrWZUGJn7yTyAhDR4vi0/edit#gid=0 | @peterwildeford Twitter Predictions - Google Sheets\n",
      "https://twitter.com/Carter_PE/status/1588143529796280323 | Phillip Carter on Twitter: \"The more these machines advance, the more they look like a future solution to military recruiting, retention, and manpower problems (see https://t.co/UF6SOapnO2). Are we moving closer to our #ArmyOfNone moment?\" / Twitter\n",
      "https://twitter.com/mattsheehan88/status/1588258644889866240 | Matt Sheehan on Twitter: \"How does the Chinese government make the regulations that govern artificial intelligence? It's a question w/ big implications for how AI is built &amp; deployed in 🇨🇳+🇺🇸+🌍. This wk @SharonDu18 &amp; I co-authored a piece breaking down one case study. 👇🧵 https://t.co/vhGEwsjK67\" / Twitter\n",
      "https://twitter.com/dschwarz26/status/1587141504480333824 | Dan Schwarz on Twitter: \"Exciting news! After 8.5 years at Google, and 3 years building and running Gleangen, Google's internal prediction market, today I'm joining @metaculus as CTO! (1/9)\" / Twitter\n",
      "https://twitter.com/shubroski/status/1587136794797244417 | https://twitter.com/shubroski/status/1587136794797244417\n",
      "https://mobile.twitter.com/mealreplacer/status/1579140834343411713 | John Stuart Chill on Twitter: \"What are some of the best bang-for-your-buck(s) you've gotten in your life? Could be something that was low effort-high benefit, low $$-high convenience/benefit/utility, etc E.g., started taking antidepressants, signed up for Audible, started meditating, bought a comfy chair https://t.co/KSKjAJ491k\" / Twitter\n",
      "https://twitter.com/pjchougule/status/1586909614100078594 | https://twitter.com/pjchougule/status/1586909614100078594\n",
      "https://twitter.com/search?q=AI%20governance&src=typed_query&f=user | AI governance - Twitter Search / Twitter\n",
      "https://twitter.com/RethinkPriors/status/1587519823160000512 | (1) Rethink Priorities on Twitter: \"Our new Special Projects team is growing! We're hiring additional associates &amp; managers to operationally support EA/longtermist megaprojects that RP is fiscally sponsoring. The position is remote; the salary range is $74K to $111K. Apply by November 13: https://t.co/XbWgi5ePeo!\" / Twitter\n",
      "https://twitter.com/jacobmenick/status/1587581724858454016 | Jacob Menick on Twitter: \"It is perfectly coherent to do all these things at the same time: - actively push AI capabilities forward - rationally be confident that’s a good thing to do - understand + care about AI alignment\" / Twitter\n",
      "https://twitter.com/tessafyi/status/1588197376069861377 | Tessa Alexanian on Twitter: \"Do you want to steer synthetic biology towards a future that is safe and responsible? Join the @iGEM Responsibility Team! Three job postings are open: Director of Responsibility, Responsibility Program Manager, and Safety &amp; Security Program Officer. https://t.co/8NHf5C0Z1R\" / Twitter\n",
      "https://twitter.com/pjchougule/status/1586911793464631296 | https://twitter.com/pjchougule/status/1586911793464631296\n",
      "https://twitter.com/mirandahzhang/status/1587818728820834305 | Miranda Zhang on Twitter: \"Live reactions to Tobias Baumann's new book on s-risks https://t.co/hyF1TUeSwc\" / Twitter\n",
      "https://mobile.twitter.com/mealreplacer/status/1585746535010414592 | John Stuart Chill on Twitter: \"@peterwildeford @robbensinger Woah very cool. Surprised by &gt;2200 @ 28%. Do you have corresponding dooms for each timeline range that I could see?\" / Twitter\n",
      "https://twitter.com/SeanTrende/status/1586896421806084096 | https://twitter.com/SeanTrende/status/1586896421806084096\n",
      "https://twitter.com/PeterScoblic/status/1588151725843693570 | Dr. Peter Scoblic on Twitter: \"This by @mashagessen is not accurate: \"[I]t has become conventional wisdom, or perhaps just good form, to say that Putin isn’t *really* going to use nukes.\" At @carnegienpp last week, experts put odds at \"very high,\" \"medium,\" and \"medium to getting high.\" https://t.co/lt89ogRVKI\" / Twitter\n",
      "https://twitter.com/Jotto999/status/1587640866050641920 | Jotto 🔍 on Twitter: \"Will Russia detonate a nuclear weapon in Ukraine before 2024? Community: 10% Me: 12%, unfortunately. tbyoln listed steps that would likely be seen before Russia launched a nuke. Comment here: https://t.co/YdUgs8NnCv\" / Twitter\n",
      "https://twitter.com/NathanpmYoung/status/1588184887567097858 | Nathan on Twitter: \"@patrickjfl @peterwildeford do you two talk? I think you’d get on\" / Twitter\n",
      "https://twitter.com/NeelNanda5/status/1587628283469758464 | Neel Nanda on Twitter: \"@kevrowan's paper is one of the coolest interp papers I've seen in a while, super excited about this line of work! They reverse engineer a 26 head circuit in GPT-2 Small, with 7 types of head and 4 layers composing. And @kevrowan is still in high school!! A 🧵 of my takeaways: https://t.co/Fnx6CRtE1Q\" / Twitter\n",
      "https://twitter.com/dpaleka/status/1587175757239013377 | Daniel Paleka on Twitter: \"What happened this month in AI/ML safety research.🧵(1/10)\" / Twitter\n",
      "https://mobile.twitter.com/SpencrGreenberg/status/1568595511522852871 | (2) Spencer Greenberg 🔍 on Twitter: \"A mega thread of philosophical thought experiment polls to see how ethically utilitarian you REALLY are: (note: I use the phrase \"net happiness\" to mean the sum of all happiness in the future minus the sum of all suffering in the future) [philosophy poll thread]🧵\" / Twitter\n",
      "https://twitter.com/CNASdc/status/1588140939402514435 | CNAS on Twitter: \"\"At the dawn of the AI revolution, it is unclear how militaries will adopt AI, how it will affect warfare, and what forms of arms control states may find desirable and feasible,\" write @paul_scharre and @megan_lamberth. Read more: https://t.co/2nRaun8Ovh\" / Twitter\n",
      "https://twitter.com/alexhillphd/status/1588154287259099136 | Alex on Twitter: \"Incredible to remember that when I was growing up, HIV was incurable and a major cause of death among gay men, and today 91% of cases in the UK are virally suppressed and we are on track to have eliminated transmission in the next 10 years https://t.co/8ez2lhGNbJ\" / Twitter\n",
      "https://twitter.com/calebwatney/status/1587471052849946634 | Caleb Watney on Twitter: \"Excited to launch the @MetascienceWG with our friends at @FAScientists and in collaboration with @JPAL. We're creating a new forum to contribute ideas and insights that could inform the design of science funding programs. https://t.co/zLYXkpRpDm\" / Twitter\n",
      "https://twitter.com/ilex_ulmus/status/1587842895448514560 | Holly Elmore on Twitter: \"The original Massachusetts Bay colony was actually pretty rad. It was like if a colony of EAs today traveled to Mars and built government, infrastructure, and raised families by day and feverishly studied and debated philosophy by night. See: https://t.co/cykmbmFsrn\" / Twitter\n",
      "https://twitter.com/ARGleave/status/1587875100732182530 | Adam Gleave on Twitter: \"Even superhuman RL agents can be exploited by adversarial policies. In https://t.co/bXA0ckKnOH we train an adversary that wins 99% of games against KataGo 🖥️ set to top-100 European strength. Below our adversary 😈=⚫ plays a surprising strategy that tricks 🖥️=⚪ into losing.🧵 https://t.co/CJ0ghfXD8D\" / Twitter\n",
      "https://twitter.com/_mvdm/status/1518981705553649674 | Matthew van der Merwe on Twitter: \"Automating @StefanFSchubert tweets https://t.co/K4DsnF6JyN\" / Twitter\n",
      "https://twitter.com/fasc1nate/status/1587921937719705600 | (4) Fascinating on Twitter: \"Thirty years of development at Boston Dynamics led to their Robot, Atlas. https://t.co/0e3VKvmTAq\" / Twitter\n",
      "https://twitter.com/ethanbdm/status/1587107170650411015 | Ethan BdM on Twitter: \"One can agree or disagree with that goal. For instance, others might wish to reward hard work (perhaps conditional on life circumstances or opportunities), rather than admitting based on potential. But admitting based on expected benefit is certainly a reasonable goal. 19/\" / Twitter\n",
      "https://twitter.com/calebwatney/status/1587507777425080321 | https://twitter.com/calebwatney/status/1587507777425080321\n",
      "https://twitter.com/DanHendrycks/status/1587821845184667654 | Dan Hendrycks on Twitter: \"“If you cannot measure it, you cannot improve it.” ML Safety research lacks benchmarks. To fix this, we are offering up to $500,000 in prizes for ML Safety benchmark papers or ideas. Prize overview: https://t.co/Af6biSHy3E Example ideas: https://t.co/OpT695OpFm\" / Twitter\n",
      "https://mobile.twitter.com/i/lists/1483934924482744322 | @jan_von_wilhelm/Taiwan Invasion Analysts / Twitter\n",
      "https://twitter.com/AlecStapp/status/1587186956945039363 | https://twitter.com/AlecStapp/status/1587186956945039363\n",
      "https://twitter.com/pjchougule/status/1586904966056271872 | https://twitter.com/pjchougule/status/1586904966056271872\n",
      "https://twitter.com/ben_j_todd/status/1588514432589918208 | Benjamin Todd on Twitter: \"@Laura_k_Duffy 2) I think they can coexist easily. Acting virtuously is a good way to put EA into practice: https://t.co/xmmAGDJpOG One component of acting virtuously is wisely helping others, so virtue ethics should entail EA. Or you could do both: help others while cultivating character.\" / Twitter\n",
      "https://twitter.com/andyzengtweets/status/1587800998084501504 | Andy Zeng on Twitter: \"Turns out robots can write their own code using LLMs, given natural language instructions by people! Part of the magic is hierarchical code-gen (e.g. recursively defining functions), which also improves sota on generic codegen benchmarks too. Check out 🧵from Jacky!\" / Twitter\n",
      "https://twitter.com/robbensinger/status/1587647823595438080 | Rob Bensinger 🔍 on Twitter: \"I think Dennett's arguments about the hard problem of consciousness over his career have objectively been really bad -- I feel more comfortable saying \"objectively\" here given that I like him, like his writing, think he's really smart, and agree with his conclusions!!\" / Twitter\n",
      "https://twitter.com/RogerPielkeJr/status/1586977659472551938 | (2) Roger Pielke Jr. on Twitter: \"🧵 Good news! The lead author of the scenarios chapter of the 2018 US National Climate Assessment has given up on RCP8.5 Below Prof Hayhoe stretches the timeline (20 yrs;-) while picturing a 2014 AR5 image &amp; ignoring NCA18 But still RCP8.5 RIP https://t.co/dtEnY9sAZK\" / Twitter\n",
      "https://mobile.twitter.com/coldhealing/status/1578457948661350400/photo/1 | cold 🥑 on Twitter: \"the girls can have their 1313 taylor swift qanon theories but for me it's this infograph that posits taylor swift was a frequent 4chan user at age 22 https://t.co/teJBeP29IA\" / Twitter\n",
      "https://twitter.com/NathanpmYoung/status/1587512938847518723 | Nathan Old 👻💀🧟‍♂️ on Twitter: \"I attempted to compile my own list of \"axioms of effective altruism\" based on @TheZvi's What am I missing? What can be removed? What do you disagree with? Full article here: https://t.co/EiuD6TIH0a https://t.co/lutWVvncMQ\" / Twitter\n",
      "https://twitter.com/JgaltTweets/status/1588345943623053313 | JgaltTweets on Twitter: \"I don't expect Biden to run again; maybe a 30% chance he even tries. If he does run again, I would be shocked if he's re-nominated.\" / Twitter\n",
      "https://twitter.com/henrysgao/status/1571529826154213379 | https://twitter.com/henrysgao/status/1571529826154213379\n",
      "https://twitter.com/willobri/status/1587428466487693313 | will o’brien on Twitter: \"if a media company wanted to inspire hope &amp; self-efficacy what type of content would they produce? hope = a belief that the future can be better self-efficacy = a belief that I, an individual, can do amazing things to bring about this better future both for myself and the world\" / Twitter\n",
      "https://mobile.twitter.com/i/lists/1523816906410524672 | @Noahpinion/China news / Twitter\n",
      "https://twitter.com/garius/status/1588115310124539904 | John Bull on Twitter: \"One of the things I occasionally get paid to do by companies/execs is to tell them why everything seemed to SUDDENLY go wrong, and subs/readers dropped like a stone. So, with everything going on at Twitter rn, time for a thread about the Trust Thermocline /1\" / Twitter\n",
      "https://twitter.com/mealreplacer/status/1588504445226471426 | John Stuart Chill on Twitter: \"@ben_j_todd What do you think is the biggest barrier(s) for getting people into AI safety careers, and what things could the EA community do to break down this barrier(s)?\" / Twitter\n",
      "https://twitter.com/uvarya/status/1585528163727478784 | (1) Yuvraj Aaditya Arya on Twitter: \"In late 2012, when #Facebook reached a billion users, a little red book started appearing on the desks of all its employees. Until very recently, its contents - even its existence - were largely unknown to outsiders. https://t.co/vcD3RZhTI3\" / Twitter\n",
      "https://twitter.com/HaydnBelfield/status/1585297430316482560 | Haydn Belfield on Twitter: \"Trying to understand the Biden Administration's recent #chiplomacy move? Our compute supply chain graphic might help. USA is restricting China's access to -high-end chips -chip design software -semiconductor manufacturing equipment https://t.co/ZjMx0jRuub\" / Twitter\n",
      "https://twitter.com/ben_j_todd/status/1588499033215012864 | Benjamin Todd on Twitter: \"10K followers – ask me anything!\" / Twitter\n",
      "https://twitter.com/JgaltTweets/status/1588345662231392258 | JgaltTweets on Twitter: \"The Democrats might have a chance of winning in 2024\" / Twitter\n",
      "https://twitter.com/GoogleAI/status/1587800467349774336 | Google AI on Twitter: \"PaLM, our latest &amp; most capable language model, can unlock new possibilities in robotics. For example, read about Code as Policies, an approach that, when given natural language instructions, uses language models to write code that controls robots→ https://t.co/hTJ9kbgMdq (2/3) https://t.co/5j11oPVSsJ\" / Twitter\n",
      "https://twitter.com/AukeHoekstra/status/1587068780970221569 | (2) AukeHoekstra on Twitter: \"I think 2 things are true at the same time: 1) It's GREAT that our climate future looks much better than we assumed 5 years ago! 2) Many pretended worst case scenarios (like RCP 8.5) where business as usual. So a lot of the \"progress\" is not success but simply a reality check.\" / Twitter\n",
      "https://bestoftwitter.substack.com/p/ai-progress-in-30-minutes-of-reading | AI progress in 30 minutes of reading Twitter\n",
      "https://twitter.com/kevrowan/status/1587601532639494146 | kevin on Twitter: \"Announcing our new mechanistic interpretability paper! We use causal interventions to reverse-engineer a 26-head circuit in GPT-2 small (inspired by @ch402’s circuits work) The largest end-to-end explanation of a natural LM behavior, our circuit is localized + interpretable 🧵 https://t.co/43K4Fas4g5\" / Twitter\n",
      "https://twitter.com/awprokop/status/1588532274907299841 | Andrew Prokop on Twitter: \"New: I wrote about the elections overhaul on the ballot in Nevada: a top 5 primary, plus ranked choice for the general election. Its supporters believe this is the key to saving America — from the forces of partisanship, polarization, and extremity. https://t.co/LxHb1waziV https://t.co/T8IaT8ENT7\" / Twitter\n",
      "https://twitter.com/NeelNanda5/status/1587594502591590400 | Neel Nanda on Twitter: \"New experiment: Recording myself doing research! Transformer positional encodings are a mess. What happens if you train without them? Turns out the model can rederive them on its own! I design an experiment, train a toy model, &amp; reverse-engineer it. 🧵 https://t.co/9Pv67SFgYu https://t.co/MNiRmjDM6u\" / Twitter\n"
     ]
    }
   ],
   "source": [
    "twitter_tabs = [t for t in tabs if 'twitter' in t.lower() and 'messages' not in t.lower()]\n",
    "print_tabs(twitter_tabs, label='Twitter')"
   ]
  },
  {
   "cell_type": "code",
   "execution_count": 6,
   "id": "6307b74e",
   "metadata": {},
   "outputs": [],
   "source": [
    "#open_tabs(twitter_tabs)"
   ]
  },
  {
   "cell_type": "code",
   "execution_count": 7,
   "id": "5965979b",
   "metadata": {},
   "outputs": [
    {
     "name": "stdout",
     "output_type": "stream",
     "text": [
      "## Google Docs ## (30 tabs)\n",
      "\n",
      "https://docs.google.com/spreadsheets/d/1ch6k8TqtDJ5AxvVZjC2WcZqOSjj6sA9Gb4wzgCHGkzo/edit#gid=1525155557 | clean congressional leans - Google Sheets\n",
      "https://docs.google.com/document/d/1_18rsVoAtBEfdF5HRe0CDBhF0-L8GOuor1S-DTZh4Uo/edit#heading=h.ed5b8renw9ka | 2022-10-17 to 23rd Oct - Weekly Reading Summaries - Google Docs\n",
      "https://docs.google.com/spreadsheets/d/1RFlb6tuqYH71ljpmqq1Y7BhbU6Cfy9CrMLAE-gXEhug/edit#gid=0 | Big rocks - Google Sheets\n",
      "https://docs.google.com/document/d/1Ee-_xYobY3sMKjT2pZfXuv66koDo3LMgbNW97X-p2IY/edit | Speedrun: AI Auditing Organization - Google Docs\n",
      "https://docs.google.com/document/d/1monK6BvWqoyOpwY74DenxVan2_n-PAtUFVF-_wI4V8E/edit#heading=h.u6dhzn2rpi5b | Warning shots, galvanizing events, etc.: Relevant readings, people, & notes - Google Docs\n",
      "https://docs.google.com/document/d/1OUALQDbOosPg-ytyg_Jt-nAMz2iDcRm30rTx8oHtrcw/edit | Copy of Theory of Change (Nov. 2022) - Google Docs\n",
      "https://docs.google.com/document/d/1QGrRzgNPDPxe-nLn1sjTMnYwLOdqgAQBduq3D4KLPWc/edit#heading=h.kqei6x8alkg9 | November megaprojects meeting agenda - Google Docs\n",
      "https://docs.google.com/spreadsheets/d/1XHb63qftl8XLXx3iFqYoM4zAC8NSVIRraZUB2JOO5Zw/edit#gid=1855536332 | Comparing Midterm Models (as of Nov 2) - Google Sheets\n",
      "https://docs.google.com/spreadsheets/d/1ZPXOQPOCr3vNFr_NXTLKWXKlvo96SfrLnnVmlkX-lzI/edit#gid=0 | Slack messages - Google Sheets\n",
      "https://docs.google.com/spreadsheets/d/13Sg3jGWt_pCEtZQcHJQKKq0gYSM2oGakKOPrK-WT5AM/edit#gid=0 | Doc review - Google Sheets\n",
      "https://docs.google.com/spreadsheets/d/1SEMBvi9lZaCyTncBADOHyIjGdlfkRDkNagOSIA3x4js/edit#gid=0 | Blog calendar - Google Sheets\n",
      "https://docs.google.com/document/d/1YWjQ320UN4Vo9vLu-7DtRIoCC1nCU629k-ttUOsSh8Y/edit# | Quarterly Review 2022Q2-4 - Google Docs\n",
      "https://docs.google.com/spreadsheets/d/1SMSO43FxJX9tL9hUvSqOe_enSfcdGCREj5rda0Li77A/edit#gid=0 | EAS Tracking 2022 - Google Sheets\n",
      "https://docs.google.com/document/d/1oV4ccQ0x_D27hTQUHna0Uoja3U8YdBLZp0FtuDReqe0/edit#heading=h.ap2ruxxgaj03 | [draft] predicting GPU trends - Google Docs\n",
      "https://docs.google.com/spreadsheets/d/1xcgYF7Q0D95TPHLLSgwhWBHFrWZUGJn7yTyAhDR4vi0/edit#gid=0 | @peterwildeford Twitter Predictions - Google Sheets\n",
      "https://docs.google.com/document/d/1QsJ8PNqfvvdtkMHclNLqtVP2SVM5dhsj4GMeFztjGBY/edit#heading=h.w6y052tqvke3 | Exploring future AI compute paradigms - Google Docs\n",
      "https://docs.google.com/document/d/1AtmhUoOXBhLFWaM-wPiQBG9qmm8wvupl9GcbzZ9wIrc/edit | Questions for RP - Google Docs\n",
      "https://docs.google.com/document/d/14Ev5V3jf1jvZfkKORSAGh0xl3IlACYV9UH03OWhhUeU/edit# | Notes from Marcus on Events while Peter was out and Marcus was Managing the LT team - Google Docs\n",
      "https://docs.google.com/document/d/1yJA2M27zio23Q-yFNBe6lJSm7QMDggpW0nkTJATne60/edit#heading=h.bm23g36coel7 | Would on-chip mechanisms for export control enforcement be net-positive? - Google Docs\n",
      "https://docs.google.com/document/d/15OtfSN_3SoVfJ2363UP6W43diWaDeKHqhiyv_FlQw2A/edit | AI TOC WIP session - Google Docs\n",
      "https://docs.google.com/presentation/d/1cnCS5xgEhE08Nn8KT3gN0S567ojzlXtBOlM4dp4-GYA/edit#slide=id.p | [static] EAGx Virtual - Think Local, Act Global: Opportunities for Long-Term Impact - Google Slides\n",
      "https://docs.google.com/document/d/1V3GYLQH-pn-e8xygqT4jMXNECRyW1Ca6_cZr2Sx5-Oc/edit | Speedrun: Rethink Priorities starting a biosecurity research team - Google Docs\n",
      "https://docs.google.com/document/d/1C9ZoVk3hOwwOeMxqkuz23SOtoN90_lSwe1lHEqxZ-W0/edit#heading=h.jbx6pw4flo1t | Copy of Rethink Priorities’ 2022 Impact, 2023 Strategy and Funding Gaps - Google Docs\n",
      "https://docs.google.com/spreadsheets/d/1ch6k8TqtDJ5AxvVZjC2WcZqOSjj6sA9Gb4wzgCHGkzo/edit#gid=1646184328 | clean congressional leans - Google Sheets\n",
      "https://docs.google.com/document/d/1XVfI6NeY6BUG4_ZJ5-7I84LK1Am6lpZQNsWDjE-nETE/edit#heading=h.ed5b8renw9ka | 2022-10-24 to 30th Oct - Weekly Reading Summaries - Google Docs\n",
      "https://docs.google.com/spreadsheets/d/1GZgvVSajqvGCAnhPF3faFd_iXW4E7NDJTfpnHbSj_mw/edit#gid=1238920533 | Wedding invite list (addresses) - Google Sheets\n",
      "https://docs.google.com/document/d/1o9VwFpUmykU9GQ8rRT8ASXOtnrt6idVw5WNVJHBPOfM/edit#heading=h.ed5b8renw9ka | 2022-10-31 to 6th Nov - Weekly Reading Summaries - Google Docs\n",
      "https://docs.google.com/document/d/1It61mwqNge4gnyixxbPp3dwPzPciYBJNt19Qd5hThO4/edit | Speedrun: LAISR for biosecurity and other coordination activities for the longtermist biosecurity community - Google Docs\n",
      "https://docs.google.com/document/d/1jzaA-NmZuoUzPSQAzhGJrlT59dt9kS4Y4zFZwxX99GQ/edit# | Some issues with Michael Aird as LT Director (or AIGS Director) - Google Docs\n",
      "https://docs.google.com/document/d/18fJ24kqkRsN1p04WQIGSrthfYAy61u1UBozc7m6vaYk/edit#heading=h.vo4pgtbmipze | RP AIGS <> Epoch - monthly calls for updates & research discussion - Google Docs\n"
     ]
    }
   ],
   "source": [
    "doc_tabs = [t for t in tabs if ('docs.google' in t.lower() or 'sheets.google' in t.lower() or 'drive.google' in t.lower())]\n",
    "print_tabs(doc_tabs, label='Google Docs')\n"
   ]
  },
  {
   "cell_type": "code",
   "execution_count": 8,
   "id": "fe047040",
   "metadata": {},
   "outputs": [],
   "source": [
    "#open_tabs(doc_tabs, page=22)"
   ]
  },
  {
   "cell_type": "code",
   "execution_count": 9,
   "id": "2bdb6c77",
   "metadata": {},
   "outputs": [
    {
     "name": "stdout",
     "output_type": "stream",
     "text": [
      "## Google search ## (1 tabs)\n",
      "\n",
      "https://www.google.com/search?q=i%27m+not+saying+that+it%27s+over+fall+back+in+love+lyrics&rlz=1C5CHFA_enUS925US925&oq=i%27m+not+saying+that+it%27s+over+fall+back+in+love+lyrics&aqs=chrome..69i57j0i546l4.7400j0j1&sourceid=chrome&ie=UTF-8 | i'm not saying that it's over fall back in love lyrics - Google Search\n"
     ]
    }
   ],
   "source": [
    "print_tabs([t for t in tabs if ('google.com' in t.lower() and 'search' in t.lower() and\n",
    "                                not ('docs.google' in t.lower() or 'sheets.google' in t.lower()))],\n",
    "           label='Google search')"
   ]
  },
  {
   "cell_type": "code",
   "execution_count": 10,
   "id": "89682849",
   "metadata": {},
   "outputs": [
    {
     "name": "stdout",
     "output_type": "stream",
     "text": [
      "## EAFo/LW ## (39 tabs)\n",
      "\n",
      "https://forum.effectivealtruism.org/posts/nTZWjN2apfhRAzCiN/insect-farming-might-cause-more-suffering-than-other-animal | Insect farming might cause more suffering than other animal farming - EA Forum\n",
      "https://forum.effectivealtruism.org/s/gWsTMm5Nbgdxedyns/p/fi3Abht55xHGQ4Pha?utm_source=EA+Forum+Digest&utm_campaign=9c8b5ed782-EMAIL_CAMPAIGN_2022_11_02_02_42&utm_medium=email&utm_term=0_7457c7ff3e-9c8b5ed782-318919454 | Longtermist terminology has biasing assumptions - EA Forum\n",
      "https://forum.effectivealtruism.org/posts/dHZZirCrKgyhb3NEZ/hard-problems-in-givewell-s-moral-weights-approach | Hard Problems in GiveWell's Moral Weights Approach - EA Forum\n",
      "https://forum.effectivealtruism.org/posts/JvEHiKWWwtvT3YanA/givewell-misuses-discount-rates?utm_source=EA+Forum+Digest&utm_campaign=9c8b5ed782-EMAIL_CAMPAIGN_2022_11_02_02_42&utm_medium=email&utm_term=0_7457c7ff3e-9c8b5ed782-318919454 | GiveWell Misuses Discount Rates - EA Forum\n",
      "https://forum.effectivealtruism.org/posts/MGbdhjgd2v6cg3vjv/apply-to-the-redwood-research-mechanistic-interpretability?utm_source=EA+Forum+Digest&utm_campaign=9c8b5ed782-EMAIL_CAMPAIGN_2022_11_02_02_42&utm_medium=email&utm_term=0_7457c7ff3e-9c8b5ed782-318919454 | Apply to the Redwood Research Mechanistic Interpretability Experiment (REMIX), a research program in Berkeley - EA Forum\n",
      "https://forum.effectivealtruism.org/posts/npNt43QRnaRNRixXK/map-of-biosecurity-interventions | Map of Biosecurity Interventions - EA Forum\n",
      "https://forum.effectivealtruism.org/posts/qo2QpLXBrrvdqJHXQ/a-dozen-doubts-about-givewell-s-numbers | A dozen doubts about GiveWell’s numbers - EA Forum\n",
      "https://forum.effectivealtruism.org/posts/dSLLJX5mhgpBzbZED/ea-movement-course-corrections-and-where-you-might-disagree | EA movement course corrections and where you might disagree - EA Forum\n",
      "https://forum.effectivealtruism.org/posts/pb7Q9awb5nsx3mRzk/ml-safety-scholars-summer-2022-retrospective | ML Safety Scholars Summer 2022 Retrospective - EA Forum\n",
      "https://forum.effectivealtruism.org/posts/3tR7gpqYWzByPDwqL/quantifying-the-impact-of-grantmaking-career-paths | Quantifying the impact of grantmaking career paths - EA Forum\n",
      "https://forum.effectivealtruism.org/posts/xanSjg6Hq2PaGEkZP/how-effective-are-prizes-at-spurring-innovation?utm_source=EA+Forum+Digest&utm_campaign=9c8b5ed782-EMAIL_CAMPAIGN_2022_11_02_02_42&utm_medium=email&utm_term=0_7457c7ff3e-9c8b5ed782-318919454 | How effective are prizes at spurring innovation? - EA Forum\n",
      "https://forum.effectivealtruism.org/posts/E3nAGbeMoFnjpYawr/givewell-should-fund-an-smc-replication?utm_source=EA+Forum+Digest&utm_campaign=9c8b5ed782-EMAIL_CAMPAIGN_2022_11_02_02_42&utm_medium=email&utm_term=0_7457c7ff3e-9c8b5ed782-318919454 | GiveWell should fund an SMC replication - EA Forum\n",
      "https://forum.effectivealtruism.org/posts/DmFTFq7pwqCF4Bnnj/request-for-input-how-has-80-000-hours-influenced-the | Request for input: how has 80,000 Hours influenced the direction of the EA community over the past 2 years? - EA Forum\n",
      "https://forum.effectivealtruism.org/posts/Nb2HnrqG4nkjCqmRg/quantifying-uncertainty-in-givewell-ceas | Quantifying Uncertainty in GiveWell CEAs - EA Forum\n",
      "https://www.lesswrong.com/posts/HoQ5Rp7Gs6rebusNP/superintelligent-ai-is-necessary-for-an-amazing-future-but-1 | Superintelligent AI is necessary for an amazing future, but far from sufficient - LessWrong\n",
      "https://forum.effectivealtruism.org/posts/XyEKTDtfMH4DukhaF/the-challenges-with-measuring-the-impact-of-lobbying | The Challenges with Measuring the Impact of Lobbying - EA Forum\n",
      "https://forum.effectivealtruism.org/posts/4XK5zkyv94voC8Fjr/announcing-the-most-important-century-writing-prize?utm_source=EA+Forum+Digest&utm_campaign=9c8b5ed782-EMAIL_CAMPAIGN_2022_11_02_02_42&utm_medium=email&utm_term=0_7457c7ff3e-9c8b5ed782-318919454 | Announcing The Most Important Century Writing Prize - EA Forum\n",
      "https://forum.effectivealtruism.org/posts/SsZkuYHv4dNfu7vnS/rethink-priorities-special-projects-team-is-hiring | Rethink Priorities’ Special Projects Team is hiring - EA Forum\n",
      "https://forum.effectivealtruism.org/posts/R4Ee5LmEXDdwPEaAx/teaching-ea-through-superhero-thought-experiments#comments | Teaching EA through superhero thought experiments - EA Forum\n",
      "https://forum.effectivealtruism.org/posts/KJtS4Dk2RkZRBe78i/giving-what-we-can-october-newsletter-2022 | Giving What We Can October Newsletter 2022 - EA Forum\n",
      "https://forum.effectivealtruism.org/posts/qo2QpLXBrrvdqJHXQ/a-dozen-doubts-about-givewell-s-numbers?utm_source=EA+Forum+Digest&utm_campaign=9c8b5ed782-EMAIL_CAMPAIGN_2022_11_02_02_42&utm_medium=email&utm_term=0_7457c7ff3e-9c8b5ed782-318919454 | A dozen doubts about GiveWell’s numbers - EA Forum\n",
      "https://forum.effectivealtruism.org/posts/npNt43QRnaRNRixXK/map-of-biosecurity-interventions?utm_source=EA+Forum+Digest&utm_campaign=9c8b5ed782-EMAIL_CAMPAIGN_2022_11_02_02_42&utm_medium=email&utm_term=0_7457c7ff3e-9c8b5ed782-318919454 | Map of Biosecurity Interventions - EA Forum\n",
      "https://forum.effectivealtruism.org/posts/wLsbtxQyBT6aqz8yZ/video-how-having-fast-fourier-transforms-sooner-could-have | [Video] How having Fast Fourier Transforms sooner could have helped with Nuclear Disarmament - Veritasium - EA Forum\n",
      "https://forum.effectivealtruism.org/posts/jo7hmLrhy576zEyiL/prizes-for-ml-safety-benchmark-ideas?utm_source=EA+Forum+Digest&utm_campaign=9c8b5ed782-EMAIL_CAMPAIGN_2022_11_02_02_42&utm_medium=email&utm_term=0_7457c7ff3e-9c8b5ed782-318919454 | Prizes for ML Safety Benchmark Ideas - EA Forum\n",
      "https://forum.effectivealtruism.org/posts/YxiXZcddn4kEqGdr9/ea-and-lw-forums-weekly-summary-24-30th-oct-22 | EA & LW Forums Weekly Summary (24 - 30th Oct 22') - EA Forum\n",
      "https://forum.effectivealtruism.org/posts/Nb2HnrqG4nkjCqmRg/quantifying-uncertainty-in-givewell-ceas?utm_source=EA+Forum+Digest&utm_campaign=9c8b5ed782-EMAIL_CAMPAIGN_2022_11_02_02_42&utm_medium=email&utm_term=0_7457c7ff3e-9c8b5ed782-318919454 | Quantifying Uncertainty in GiveWell CEAs - EA Forum\n",
      "https://forum.effectivealtruism.org/posts/hxtwzcsz8hQfGyZQM/an-introduction-to-the-moral-weight-project?utm_source=EA+Forum+Digest&utm_campaign=9c8b5ed782-EMAIL_CAMPAIGN_2022_11_02_02_42&utm_medium=email&utm_term=0_7457c7ff3e-9c8b5ed782-318919454 | An Introduction to the Moral Weight Project - EA Forum\n",
      "https://forum.effectivealtruism.org/posts/KqCybin8rtfP3qztq/agi-and-lock-in | AGI and Lock-In - EA Forum\n",
      "https://forum.effectivealtruism.org/posts/DmFTFq7pwqCF4Bnnj/request-for-input-how-has-80-000-hours-influenced-the?commentId=hPYdBtwwcpzbuwPBk | Request for input: how has 80,000 Hours influenced the direction of the EA community over the past 2 years? - EA Forum\n",
      "https://forum.effectivealtruism.org/posts/EWiCySDcLSyiHTRQn/a-theologian-s-response-to-anthropogenic-existential-risk | A Theologian's Response to Anthropogenic Existential Risk - EA Forum\n",
      "https://forum.effectivealtruism.org/posts/KqCybin8rtfP3qztq/agi-and-lock-in?utm_source=EA+Forum+Digest&utm_campaign=9c8b5ed782-EMAIL_CAMPAIGN_2022_11_02_02_42&utm_medium=email&utm_term=0_7457c7ff3e-9c8b5ed782-318919454 | AGI and Lock-In - EA Forum\n",
      "https://forum.effectivealtruism.org/posts/DmFTFq7pwqCF4Bnnj/request-for-input-how-has-80-000-hours-influenced-the?utm_source=EA+Forum+Digest&utm_campaign=9c8b5ed782-EMAIL_CAMPAIGN_2022_11_02_02_42&utm_medium=email&utm_term=0_7457c7ff3e-9c8b5ed782-318919454 | Request for input: how has 80,000 Hours influenced the direction of the EA community over the past 2 years? - EA Forum\n",
      "https://forum.effectivealtruism.org/posts/nSvGaK74GyYYjCmiH/mildly-against-donor-lotteries?utm_source=EA+Forum+Digest&utm_campaign=9c8b5ed782-EMAIL_CAMPAIGN_2022_11_02_02_42&utm_medium=email&utm_term=0_7457c7ff3e-9c8b5ed782-318919454 | Mildly Against Donor Lotteries - EA Forum\n",
      "https://forum.effectivealtruism.org/posts/j4eTj9dGqzEC5LEzK/cause-exploration-prizes-indoor-air-quality-to-reduce | [Cause Exploration Prizes] Indoor Air Quality to Reduce Infectious Respiratory Disease - EA Forum\n",
      "https://forum.effectivealtruism.org/posts/7LaJyhDYASnG2tJtz/the-african-movement-building-summit?utm_source=EA+Forum+Digest&utm_campaign=9c8b5ed782-EMAIL_CAMPAIGN_2022_11_02_02_42&utm_medium=email&utm_term=0_7457c7ff3e-9c8b5ed782-318919454 | The African Movement-building Summit - EA Forum\n",
      "https://forum.effectivealtruism.org/posts/4XK5zkyv94voC8Fjr/announcing-the-most-important-century-writing-prize | Announcing The Most Important Century Writing Prize - EA Forum\n",
      "https://forum.effectivealtruism.org/posts/BFvtrhaea85CDYhBQ/ea-has-gotten-it-very-wrong-on-climate-change-a-canadian | EA has gotten it very wrong on climate change - a Canadian case study - EA Forum\n",
      "https://forum.effectivealtruism.org/posts/xanSjg6Hq2PaGEkZP/how-effective-are-prizes-at-spurring-innovation | How effective are prizes at spurring innovation? - EA Forum\n",
      "https://forum.effectivealtruism.org/posts/vxLrFdrqRPdaHJwgs/join-the-interpretability-research-hackathon | Join the interpretability research hackathon - EA Forum\n"
     ]
    }
   ],
   "source": [
    "print_tabs([t for t in tabs if ('forum.effectivealtruism' in t.lower() or 'lesswrong' in t.lower())], label='EAFo/LW')"
   ]
  },
  {
   "cell_type": "code",
   "execution_count": 11,
   "id": "8f5bd615",
   "metadata": {},
   "outputs": [
    {
     "name": "stdout",
     "output_type": "stream",
     "text": [
      "## Metaculus etc. ## (7 tabs)\n",
      "\n",
      "https://www.metaculus.com/questions/4931/when-will-the-woke-index-in-us-elite-media-top/ | Woke Index in US Media | Metaculus\n",
      "https://www.metaculus.com/questions/12284/support-for-sioux-falls-slaughterhouse-ban/ | Support for Sioux Falls Slaughterhouse Ban | Metaculus\n",
      "https://www.metaculus.com/questions/12121/nk-to-send-100-troops-to-ukraine-before-2024/ | NK to send 100+ troops to Ukraine before 2024 | Metaculus\n",
      "https://twitter.com/dschwarz26/status/1587141504480333824 | Dan Schwarz on Twitter: \"Exciting news! After 8.5 years at Google, and 3 years building and running Gleangen, Google's internal prediction market, today I'm joining @metaculus as CTO! (1/9)\" / Twitter\n",
      "https://www.metaculus.com/questions/13171/nuclear-detonation-in-ukraine-by-2024/ | Nuclear Detonation in Ukraine by 2024 | Metaculus\n",
      "https://www.metaculus.com/notebooks/13468/2022-midterm-predictions/ | 2022 Midterm Predictions | Metaculus\n",
      "https://www.metaculus.com/questions/ | Metaculus\n"
     ]
    }
   ],
   "source": [
    "print_tabs([t for t in tabs if ('metaculus' in t.lower() or 'manifold' in t.lower() or 'predictit' in t.lower())], label='Metaculus etc.')\n"
   ]
  },
  {
   "cell_type": "code",
   "execution_count": 12,
   "id": "20881f4a",
   "metadata": {},
   "outputs": [
    {
     "name": "stdout",
     "output_type": "stream",
     "text": [
      "## Wikipedia ## (9 tabs)\n",
      "\n",
      "https://en.wikipedia.org/wiki/Rogue_planet | Rogue planet - Wikipedia\n",
      "https://en.wikipedia.org/wiki/Toroidal_planet | Toroidal planet - Wikipedia\n",
      "https://en.wikipedia.org/wiki/Christ_of_the_Abyss | Christ of the Abyss - Wikipedia\n",
      "https://en.wikipedia.org/wiki/Superhabitable_planet | Superhabitable planet - Wikipedia\n",
      "https://en.wikipedia.org/wiki/Bishop_Ring_(habitat) | Bishop Ring (habitat) - Wikipedia\n",
      "https://en.wikipedia.org/wiki/Cristo_de_la_Concordia | Cristo de la Concordia - Wikipedia\n",
      "https://en.wikipedia.org/wiki/Subsatellite | Subsatellite - Wikipedia\n",
      "https://en.wikipedia.org/wiki/Ringworld | Ringworld - Wikipedia\n",
      "https://en.wikipedia.org/wiki/Tabby%27s_Star | Tabby's Star - Wikipedia\n"
     ]
    }
   ],
   "source": [
    "print_tabs([t for t in tabs if 'wikipedia' in t.lower()], label='Wikipedia')"
   ]
  },
  {
   "cell_type": "code",
   "execution_count": 13,
   "id": "637a6403",
   "metadata": {},
   "outputs": [
    {
     "name": "stdout",
     "output_type": "stream",
     "text": [
      "## Reddit ## (12 tabs)\n",
      "\n",
      "https://www.reddit.com/r/datingoverthirty/comments/tp0yht/date_said_it_was_weird_that_i_was_wearing_a/ | (1) Date said it was \"weird\" that I was wearing a Bluetooth earbud (I have a cochlear implant). : datingoverthirty\n",
      "https://www.reddit.com/r/widowers/comments/ym07kf/tomorrow_will_be_one_year/ | Tomorrow will be one year... : widowers\n",
      "https://www.reddit.com/r/widowers/comments/ylgufe/a_question_to_those_dating/ | (1) a question to those dating : widowers\n",
      "https://www.reddit.com/r/relationship_advice/comments/wts5fi/my_older_sister_27f_ruined_our_relationship_and/?utm_source=share&utm_medium=ios_app&utm_name=iossmf | (1) My older sister (27F) ruined our relationship and my family wants me (24F) to get over it. : relationship_advice\n",
      "https://www.reddit.com/r/datingoverthirty/comments/ykhdgx/tips_for_dating_a_late_bloomervirgin/ | (1) Tips for Dating a \"Late Bloomer\"/Virgin : datingoverthirty\n",
      "https://www.reddit.com/r/datingoverthirty/comments/r5a93l/update_how_long_til_you_feel_sure_about_someone/ | (1) UPDATE: How long til you feel “sure” about someone? : datingoverthirty\n",
      "https://www.reddit.com/r/datingoverthirty/comments/sufnch/the_best_dating_advice_ive_ever_received/ | (1) The best dating advice I've ever received. : datingoverthirty\n",
      "https://www.reddit.com/r/widowers/comments/ylubxb/feeling_like_screaming_and_also_leaping_out_of_my/ | (1) Feeling like screaming and also leaping out of my skin : widowers\n",
      "https://www.reddit.com/r/relationship_advice/comments/ykomg1/update_my_older_sister_27f_ruined_our/ | (1) Update: My Older Sister 27f ruined our relationship and my family wants me 24f to get over it : relationship_advice\n",
      "https://www.reddit.com/r/datingoverthirty/comments/qvacs7/empowered_dating_or_avoidance/ | (1) Empowered dating or avoidance? : datingoverthirty\n",
      "https://www.reddit.com/r/datingoverthirty/comments/tjm9kz/whats_your_unpopular_dating_opinion_that_would/ | (1) What’s your unpopular dating opinion that would get you crucified by this sub? : datingoverthirty\n",
      "https://www.reddit.com/r/datingoverthirty/comments/qgymjq/how_long_before_you_feel_sure_about_someone/?utm_source=share&utm_medium=ios_app&utm_name=iossmf | How long before you feel “sure” about someone? : datingoverthirty\n"
     ]
    }
   ],
   "source": [
    "print_tabs([t for t in tabs if 'reddit' in t.lower()], label='Reddit')"
   ]
  },
  {
   "cell_type": "code",
   "execution_count": 14,
   "id": "5e31b032",
   "metadata": {},
   "outputs": [
    {
     "name": "stdout",
     "output_type": "stream",
     "text": [
      "## localhost ## (2 tabs)\n",
      "\n",
      "http://localhost:8901/notebooks/AI%20Safety%20and%20Nuclear%20Confidence.ipynb | AI Safety and Nuclear Confidence - Jupyter Notebook\n",
      "http://localhost:8891/notebooks/annotated%20congress%20simulation%20(3).ipynb | annotated congress simulation (3) - Jupyter Notebook\n"
     ]
    }
   ],
   "source": [
    "print_tabs([t for t in tabs if 'guarded-everglades-89687.herokuapp.com' in t.lower() or 'localhost' in t.lower()], label='localhost')\n"
   ]
  },
  {
   "cell_type": "code",
   "execution_count": 15,
   "id": "6db81db8",
   "metadata": {},
   "outputs": [
    {
     "name": "stdout",
     "output_type": "stream",
     "text": [
      "## Chores ## (0 tabs)\n",
      "\n"
     ]
    }
   ],
   "source": [
    "print_tabs([t for t in tabs if 'instacart' in t.lower()], label='Chores')"
   ]
  },
  {
   "cell_type": "code",
   "execution_count": 21,
   "id": "f4d25d37",
   "metadata": {},
   "outputs": [
    {
     "name": "stdout",
     "output_type": "stream",
     "text": [
      "## Amazon ## (0 tabs)\n",
      "\n"
     ]
    }
   ],
   "source": [
    "print_tabs([t for t in tabs if 'amazon.com' in t.lower()], label='Amazon')"
   ]
  },
  {
   "cell_type": "code",
   "execution_count": 17,
   "id": "1f414a5b",
   "metadata": {},
   "outputs": [
    {
     "name": "stdout",
     "output_type": "stream",
     "text": [
      "## Morning Dispatch ## (5 tabs)\n",
      "\n",
      "https://thedispatch.com/newsletter/morning/the-kremlin-and-the-dirty-bomb/ | The Kremlin and the ‘Dirty Bomb’ - The Dispatch\n",
      "https://thedispatch.com/newsletter/morning/americas-fentanyl-crisis/ | America’s Fentanyl Crisis - The Dispatch\n",
      "https://thedispatch.com/newsletter/morning/another-israeli-election/ | Another Israeli Election - The Dispatch\n",
      "https://thedispatch.com/newsletter/morning/will-scotus-can-college-affirmative-action/ | Will SCOTUS Can College Affirmative Action? - The Dispatch\n",
      "https://thedispatch.com/newsletter/morning/is-ethiopias-bloody-civil-war-at-an-end/ | Is Ethiopia’s Bloody Civil War at an End? - The Dispatch\n"
     ]
    }
   ],
   "source": [
    "print_tabs([t for t in tabs if 'morning' in t.lower() and 'dispatch' in t.lower()], label='Morning Dispatch')"
   ]
  },
  {
   "cell_type": "code",
   "execution_count": 18,
   "id": "7471235b",
   "metadata": {},
   "outputs": [
    {
     "name": "stdout",
     "output_type": "stream",
     "text": [
      "## GitHub ## (1 tabs)\n",
      "\n",
      "https://github.com/lakshya97/national-regression-model | lakshya97/national-regression-model: National Linear Regression model for evaluating swing above or below average relative to 2020 national environment and demographics\n"
     ]
    }
   ],
   "source": [
    "print_tabs([t for t in tabs if 'github' in t.lower()], label='GitHub')"
   ]
  },
  {
   "cell_type": "code",
   "execution_count": 19,
   "id": "5cbec946",
   "metadata": {},
   "outputs": [
    {
     "name": "stdout",
     "output_type": "stream",
     "text": [
      "## YouTube ## (8 tabs)\n",
      "\n",
      "https://www.youtube.com/watch?v=fWy5S9Sc7hw&list=RDEMYSldiRGHfV3LQuy4YjxM_w | (1) Great Father Spirit in the Sky - YouTube\n",
      "https://www.youtube.com/watch?v=kCOnGjvYKI0 | Crime Reporting: Last Week Tonight with John Oliver (HBO) - YouTube\n",
      "https://www.youtube.com/watch?v=Mx_OexsUI2M | Rihanna - Lift Me Up - YouTube\n",
      "https://www.youtube.com/watch?v=RngBYGzOZiU | (1) Christmas Tree Farm - YouTube\n",
      "https://www.youtube.com/watch?v=6Q0sMOQvJuw | (1) Disturbed - Hold on to Memories [Official Music Video] - YouTube\n",
      "https://www.vox.com/future-perfect/23363151/future-perfect-50-philipp-dettmer-kurzgesagt-science-youtube | The Future Perfect 50: Philipp Dettmer, Kurzgesagt - Vox\n",
      "https://www.youtube.com/watch?v=vJTmR8WN7IQ | (1) Adam Binks and Chana Messinger forecast - YouTube\n",
      "https://www.youtube.com/watch?v=DDUptOux5v4 | (1) Lusaint - Wicked Game (Cover) - YouTube\n"
     ]
    }
   ],
   "source": [
    "print_tabs([t for t in tabs if 'yout' in t.lower()], label='YouTube')"
   ]
  },
  {
   "cell_type": "code",
   "execution_count": 24,
   "id": "fbb9562b",
   "metadata": {},
   "outputs": [
    {
     "name": "stdout",
     "output_type": "stream",
     "text": [
      "## Other ## (103 tabs)\n",
      "\n",
      "https://mail.google.com/mail/u/0/#inbox | Inbox (3) - peter@peterhurford.com - Peter Hurford Mail\n",
      "https://www.vox.com/future-perfect/23364073/future-perfect-50-jamila-michener-political-scientist-cornell | The Future Perfect 50: Jamila Michener, political scientist at Cornell - Vox\n",
      "https://www.vox.com/future-perfect/23357140/future-perfect-50-hilary-greaves-professor-philosophy-oxford | The Future Perfect 50: Hilary Greaves, professor of philosophy at Oxford - Vox\n",
      "https://www.samstack.io/p/stuff-i-found-interesting-in-october | Stuff I found interesting in October - by Sam Atis\n",
      "https://www.caringbridge.org/visit/samanthawildeboer/journal/view/id/635f5fd05b8484635e4b9bfb?fbclid=IwAR0fy_vc-HpcTzC-g9OyEq1IQASIe5ST4B4HzeunhFJzoYqLrVwLKDHb2kk | Samantha | Journal\n",
      "https://www.vox.com/future-perfect/23364057/future-perfect-50-skanda-amarnath-executive-director-employ-america | The Future Perfect 50: Skanda Amarnath, executive director of Employ America - Vox\n",
      "https://mail.google.com/mail/u/1/#inbox | Inbox (6) - peter@rethinkpriorities.org - Rethink Priorities Mail\n",
      "https://www.snapfish.com/home | Online Photo Printing & Personalized Photo Gift Ideas | Snapfish US\n",
      "https://noahpinion.substack.com/p/the-end-of-the-system-of-the-world | The end of the system of the world - by Noah Smith\n",
      "https://www.currentaffairs.org/2022/10/the-death-of-econ-101 | The Death of “Econ 101” ❧ Current Affairs\n",
      "https://www.slowboring.com/p/the-medias-lab-leak-fiasco | The media's lab leak fiasco - by Matthew Yglesias\n",
      "https://www.vox.com/future-perfect/23344723/future-perfect-50-isha-datar-executive-director-new-harvest | The Future Perfect 50: Isha Datar, executive director of New Harvest - Vox\n",
      "https://www.whitehouse.gov/get-involved/internships/ | Internships Within the Executive Office of the President | The White House\n",
      "https://centerlessset.substack.com/p/why-is-happiness-good | Why Is Happiness Good? - by En Kepeig - Centerless Set\n",
      "https://www.vox.com/future-perfect/23357127/future-perfect-50-leah-boustan-professor-economist-princeton-university | The Future Perfect 50: Leah Boustan, professor and economist at Princeton University - Vox\n",
      "https://www.giantfreakinrobot.com/scifi/massive-spaceship-size-comparison-poster-showcases-damn-vessel-scifi.html | Massive Spaceship Size Comparison Poster Showcases Damn Near Every Vessel In Sci-Fi\n",
      "https://www.vox.com/future-perfect/23398425/future-perfect-50-seema-jayachandran-economist | The Future Perfect 50: Seema Jayachandran, economist - Vox\n",
      "https://www.currentaffairs.org/2022/11/what-will-artificial-intelligence-do-to-us | What Will Artificial Intelligence Do To Us? ❧ Current Affairs\n",
      "https://www.vox.com/future-perfect/23375219/future-perfect-50-demis-hassabis-deepmind | The Future Perfect 50: Demis Hassabis is pushing the frontier of AI at DeepMind - Vox\n",
      "https://www.vox.com/future-perfect/23376822/future-perfect-50-max-roser-our-world-in-data | The Future Perfect 50: Max Roser, Our World in Data - Vox\n",
      "https://www.vox.com/future-perfect/23357330/future-perfect-50-michael-tubbs-former-mayor-stockton-california | The Future Perfect 50: Michael Tubbs, former mayor of Stockton, California - Vox\n",
      "https://www.politico.com/newsletters/national-security-daily | National Security Daily - POLITICO\n",
      "https://soar-strategies.com/about/ | About - Soar Strategies\n",
      "https://mail.google.com/mail/u/1/#inbox | Inbox (5) - peter@rethinkpriorities.org - Rethink Priorities Mail\n",
      "https://www.vox.com/future-perfect/23393262/future-perfect-50-jason-matheny-rand-corporation | The Future Perfect 50: Jason Matheny, president and CEO, Rand Corporation - Vox\n",
      "https://www.alignmentforum.org/posts/Br4xDbYu4Frwrb64a/writeup-progress-on-ai-safety-via-debate-1 | Writeup: Progress on AI Safety via Debate - AI Alignment Forum\n",
      "https://www.vox.com/future-perfect/23373152/future-perfect-50-zeynep-tufekci-covid-public-health | The Future Perfect 50: Zeynep Tufecki, sociologist and columnist - Vox\n",
      "https://www.vox.com/future-perfect/23391420/future-perfect-50-ahmed-mushfiq-mobarak-economics-yale | The Future Perfect 50: Ahmed Mushfiq Mobarak, economist - Vox\n",
      "https://www.vox.com/future-perfect/23364075/future-perfect-50-target-malaria-gene-drive-mosquito | The Future Perfect 50: Target Malaria and the “gene drive” approach to eradicating malaria - Vox\n",
      "https://www.vox.com/future-perfect/23393284/future-perfect-50-josh-morrison-1day-sooner | The Future Perfect 50: Josh Morrison, president of 1Day Sooner - Vox\n",
      "https://www.vox.com/future-perfect/23391917/future-perfect-50-julia-galef-cfar-rationalist | The Future Perfect 50: Julia Galef, co-founder, Center for Applied Rationalist - Vox\n",
      "https://www.vox.com/future-perfect/23377319/future-perfect-50-kevin-esvelt-crispr-gene-drives-mit-biochemist | The Future Perfect 50: Kevin Esvelt, MIT Biochemist - Vox\n",
      "https://observablehq.com/@hazelfire/quantifying-uncertainty-in-givewell-ceas | Quantifying Uncertainty in GiveWell CEAs / Sam Nolan / Observable\n",
      "https://www.nytimes.com/2022/11/02/upshot/polls-2022-midterms-fix.html | Will One Small Shift Fix the Polls in 2022? (Wonkiness: 8/10) - The New York Times\n",
      "https://www.techandciviclife.org/our-team/ | Our team - Center for Tech and Civic Life\n",
      "https://fs.blog/reversible-irreversible-decisions/ | Reversible and Irreversible Decisions\n",
      "https://open.spotify.com/playlist/7uMJU4NjG3ADcOscbeZU7J?si=88632fcaa7e34789&nd=1 | Spotify – P\n",
      "https://link.springer.com/chapter/10.1007/978-3-319-17311-5_49 | 14.5 Development in Marketing Research: Analytical Techniques: New Applications | SpringerLink\n",
      "https://www.vox.com/future-perfect/23389952/future-perfect-50-kanika-bahl-evidence-action | The Future Perfect 50: Kanika Bahl, CEO of Evidence Action - Vox\n",
      "https://lightroom.adobe.com/shares/ba3a9973d553454589bb3ffe9342f3f0 | Newfoundland complete\n",
      "https://www.vox.com/future-perfect/23380621/future-perfect-50-jason-crawford-roots-of-progress | The Future Perfect 50: Jason Crawford, founder of the Roots of Progress - Vox\n",
      "https://www.racetothewh.com/blog/houseforecast22 | Our 2022 House Election Forecast is Now Live. Here's How It Works. — Race to the WH\n",
      "https://www.vox.com/future-perfect/23365532/future-perfect-50-rayhan-asat-human-rights-lawyer | The Future Perfect 50: Rayhan Asat, human rights lawyer - Vox\n",
      "https://goodjudgment.io/superforecasts/ | Good Judgment Inc\n",
      "https://www.slowboring.com/p/whats-concretely-at-stake-in-the | What's concretely at stake in the midterms\n",
      "https://www.racetothewh.com/senate/2022 | Senate 2022 Election Forecast — Latest Predictions & Political Map - Top Swing States — Race to the WH\n",
      "https://nihalsahu.substack.com/p/the-levine-question | #4: The Levine Question - by Nihal Sahu\n",
      "https://www.vox.com/future-perfect/23344716/future-perfect-50-carolina-galvani-animal-welfare-activist-sinergia-animal | The Future Perfect 50: Carolina Galvani, animal welfare activist at Sinergia Animal - Vox\n",
      "https://www.vox.com/future-perfect/23379024/setsuko-thurlow-nuclear-war-hiroshima-nobel-peace-prize-atomic-weapons-japan-world-war-ii | The Future Perfect 50: Setsuko Thurlow survived Hiroshima — and now fights against nuclear weapons - Vox\n",
      "https://www.currentaffairs.org/2022/05/the-idiotic-logic-that-will-lead-to-nuclear-war | The Idiotic Logic That Will Lead To Nuclear War ❧ Current Affairs\n",
      "https://noahpinion.substack.com/p/why-affirmative-action-had-to-go?sd=pf | Why affirmative action had to go - by Noah Smith\n",
      "https://www.slowboring.com/p/one-billion-americans-now-more-than | One Billion Americans — now more than ever\n",
      "https://www.swiftcentre.org/what-would-be-the-consequences-of-a-nuclear-weapon-being-used-in-the-russia-ukraine-war/ | What happens if Russia uses a nuclear weapon?\n",
      "https://www.vox.com/future-perfect/23371794/future-perfect-50-jennifer-doudna-crispr-biochemist-nobel | The Future Perfect 50: Jennifer Doudna, biochemist - Vox\n",
      "https://www.vox.com/future-perfect/23344718/future-perfect-50-lynne-sneddon-zoologist-fish-pain-university-gothenburg | The Future Perfect 50: Lynne Sneddon, zoologist at the University of Gothenburg - Vox\n",
      "https://www.vox.com/future-perfect/23391784/future-perfect-50-caitlin-rivers-epidemiologist | The Future Perfect 50: Caitlin Rivers, epidemiologist - Vox\n",
      "https://www.celinehh.com/early-career-advice | Advice for Early Career — Celine Halioua\n",
      "https://www.vox.com/future-perfect/23366558/future-perfect-50-jennifer-doleac-economist | The Future Perfect 50: Jennifer Doleac, associate professor of economics at Texas A&M University. - Vox\n",
      "https://www.vox.com/future-perfect/23357136/future-perfect-50-will-macaskill-professor-philosophy-oxford | The Future Perfect 50: Will MacAskill, Oxford philosopher and EA - Vox\n",
      "https://www.vox.com/future-perfect/23380941/future-perfect-50-max-tegmark-future-of-life-institute-physicist | The Future Perfect 50: Max Tegmark, Future of Life Institute - Vox\n",
      "https://www.vox.com/future-perfect/23344725/future-perfect-50-olga-kikou-european-affairs-manager-compassion-world-farming | The Future Perfect 50: Olga Kikou, European affairs manager at Compassion in World Farming - Vox\n",
      "https://fivethirtyeight.com/features/the-case-for-a-democratic-surprise-on-election-night/ | The Case For A Democratic Surprise On Election Night | FiveThirtyEight\n",
      "https://www.vox.com/future-perfect/23376055/future-perfect-50-kim-stanley-robinson-science-fiction-novelist | The Future Perfect 50: Kim Stanley Robinson, novelist - Vox\n",
      "https://www.wolframalpha.com/input?i=may+15%2C+2020+1pm+to+oct+23%2C+2022+12%3A58pm | may 15, 2020 1pm to oct 23, 2022 12:58pm - Wolfram|Alpha\n",
      "https://www.vox.com/future-perfect/23389874/future-perfect-50-liu-hongqiao-china-climate-environment-carbon-journalism | The Future Perfect 50: Liu Hongqiao, journalist, is holding China accountable for its role in the climate crisis - Vox\n",
      "https://www.eventbrite.com/e/introduction-to-writing-and-publishing-in-todays-media-w-nathan-robinson-tickets-459141724257 | Introduction to Writing and Publishing in Today's Media w/ Nathan Robinson Tickets, Sat, Nov 19, 2022 at 9:30 AM | Eventbrite\n",
      "https://www.vox.com/future-perfect/23380713/future-perfect-50-richard-fuller-pure-earth-environmentalist | The Future Perfect 50: Richard Fuller, founder of Pure Earth - Vox\n",
      "https://cballet.org/performances/carmina-burana/ | Carmina Burana and Extremely Close - Perfomances - Cincinnati Ballet\n",
      "https://www.vox.com/future-perfect/23363144/future-perfect-50-leah-garces-mercy-for-animals | The Future Perfect 50: Leah Garcés, president, Mercy for Animals - Vox\n",
      "https://earthsky.org/astronomy-essentials/visible-planets-tonight-mars-jupiter-venus-saturn-mercury/ | EarthSky | Visible planets and night sky November 2022\n",
      "https://www.racetothewh.com/pennsylvania | Pennsylvania Senate 2022 Election Polls and Predictions — Race to the WH\n",
      "https://www.vox.com/future-perfect/23380655/future-perfect-50-rachel-glennerster-economist | The Future Perfect 50: Rachel Glennerster, economist - Vox\n",
      "https://www.askamanager.org/2016/02/can-i-address-an-employees-social-media-use-on-sick-days.html | can I address an employee's social media use on sick days? — Ask a Manager\n",
      "https://www.nytimes.com/2022/11/03/upshot/midterms-wisconsin-polling-experiment.html | Previewing Our Wisconsin Polling Experiment - The New York Times\n",
      "https://www.currentaffairs.org/2022/10/why-did-russia-launch-this-catastrophic-war | Why Did Russia Launch This Catastrophic War? ❧ Current Affairs\n",
      "https://www.neelnanda.io/mechanistic-interpretability/favourite-papers | An Extremely Opinionated Annotated List of My Favourite Mechanistic Interpretability Papers — Neel Nanda\n",
      "https://pbs.twimg.com/media/FefPHzHXoAAH9wy?format=jpg&name=large | FefPHzHXoAAH9wy (1034×2048)\n",
      "https://www.vox.com/future-perfect/23365512/future-perfect-50-ajeya-cotra-senior-research-analyst-open-philanthropy | The Future Perfect 50: Ajeya Cotra, senior research analyst at Open Philanthropy - Vox\n",
      "https://samf.substack.com/p/why-putin-prefers-war-war-to-jaw?utm_source=post-email-title&publication_id=631422&post_id=82159327&isFreemail=true&utm_medium=email | Why Putin prefers ‘War-War’ to ‘Jaw-Jaw’\n",
      "https://www.vox.com/future-perfect/23384446/future-perfect-50-renee-wegrzyn-arpa-h | The Future Perfect 50: Renee Wegrzyn, head of the ARPA-H agency - Vox\n",
      "https://www.amazon.science/publications/alexatm-20b-few-shot-learning-using-a-large-scale-multilingual-seq2seq-model | AlexaTM 20B: Few-shot learning using a large-scale multilingual seq2seq model - Amazon Science\n",
      "https://www.vox.com/future-perfect/23344727/future-perfect-50-ryan-xue-co-founder-head-china-plant-based-foods-alliance | The Future Perfect 50: Ryan Xue, co-founder and head of the China Plant-Based Foods Alliance - Vox\n",
      "https://www.vox.com/future-perfect/23357331/future-perfect-50-sophie-howe-future-generations-commissioner-wales | The Future Perfect 50: Sophie Howe, future generations commissioner for Wales - Vox\n",
      "https://www.slowboring.com/p/midterm-mailbag | Midterm Mailbag - by Matthew Yglesias - Slow Boring\n",
      "https://www.nytimes.com/2022/11/01/upshot/polling-2022-midterms.html | A Worrisome Pattern Re-emerges in Seeking Response From Republicans - The New York Times\n",
      "https://www.cnas.org/artificial-intelligence-and-global-security-initiative-research-agenda | Artificial Intelligence and Global Security Initiative Research Agenda | Center for a New American Security (en-US)\n",
      "https://www.newdata.org/team | Our Team — The Center for New Data\n",
      "https://www.vox.com/future-perfect/23357129/future-perfect-50-lucia-coulter-jack-rafferty-lead-exposure-elimination-project | The Future Perfect 50: Lucia Coulter and Jack Rafferty of the Lead Exposure Elimination Project - Vox\n",
      "https://www.vox.com/future-perfect/23344740/future-perfect-50-liz-specht-vp-science-technology-good-food-institute | The Future Perfect 50: Liz Specht, VP of science and technology at the Good Food Institute - Vox\n",
      "https://www.vox.com/future-perfect/23365558/future-perfect-50-ai-joy-buolamwini-founder-algorithmic-justice-league | The Future Perfect 50: Joy Buolamwini, founder of the Algorithmic Justice League - Vox\n",
      "https://clearerthinkingpodcast.com/episode/127 | Forecasting the things that matter (with Peter Wildeford) | Clearer Thinking with Spencer Greenberg\n",
      "https://www.wsj.com/articles/beijing-has-few-good-options-to-retaliate-for-chip-bans-11666956716?st=qmucttjgbnhaoor | Beijing Has Few Good Options to Retaliate for Chip Bans - WSJ\n",
      "https://www.vox.com/future-perfect/23393557/future-perfect-50-saloni-dattani-researcher | The Future Perfect 50: Saloni Dattani, researcher - Vox\n",
      "https://www.vox.com/future-perfect/23375301/ted-nordhaus-breakthrough-institute-climate-change-inflation-reduction-act | The Future Perfect 50: Ted Nordhaus, Breakthrough Institute - Vox\n",
      "https://chrisblattman.com/blog/2022/10/26/the-prospects-for-war-with-china-why-i-see-a-serious-chance-of-world-war-iii-in-the-next-decade/ | The prospects for war with China: Why I see a serious chance of World War III in the next decade - Chris Blattman\n",
      "https://theintercept.com/2022/10/25/house-progressives-letter-russia-ukraine-diplomacy/ | House Progressives Swiftly Walk Back Letter Asking Biden to Pursue Russia Diplomacy\n",
      "https://open.spotify.com/album/0FyJd55Ct913J709OiRiDy?si=XHxEXczURCeCr88LDzkKAQ&nd=1 | Spotify – Dominions\n",
      "https://www.racetothewh.com/house | 2022 House Election Predictions - Chance of Democrats and Republicans Winning — Race to the WH\n",
      "https://www.currentaffairs.org/2022/03/taking-world-war-iii-seriously | Taking World War III Seriously ❧ Current Affairs\n",
      "https://www.slowboring.com/p/im-worried-about-chicago | I'm worried about Chicago - by Matthew Yglesias\n",
      "https://www.vox.com/future-perfect/23357133/future-perfect-50-leah-utyasheva-michael-eddleston-center-pesticide-suicide-prevention | The Future Perfect 50: Leah Utyasheva and Michael Eddleston of the Center for Pesticide Suicide Prevention at the University of Edinburgh - Vox\n",
      "https://mail.google.com/mail/u/0/#inbox | Inbox - peter@peterhurford.com - Peter Hurford Mail\n",
      "https://www.vox.com/future-perfect/23357326/future-perfect-50-chris-blattman-economist-political-scientist-university-chicago | The Future Perfect 50: Chris Blattman, economist and political scientist, University of Chicago - Vox\n"
     ]
    }
   ],
   "source": [
    "tabs_ = [t for t in tabs if (not ('google.com' in t.lower() and 'search' in t.lower() and not ('docs.google' in t.lower() or 'sheets.google' in t.lower())) and\n",
    "                             not ('docs.google' in t.lower() or 'sheets.google' in t.lower() or 'drive.google' in t.lower()) and\n",
    "                             not 'facebook.com' in t.lower() and\n",
    "                             not 'twitter' in t.lower() and\n",
    "                             not ('forum.effectivealtruism' in t.lower() or 'lesswrong' in t.lower()) and\n",
    "                             not ('metaculus' in t.lower() or 'manifold' in t.lower() or 'predictit' in t.lower()) and\n",
    "                             not 'wikipedia' in t.lower() and\n",
    "                             not 'reddit' in t.lower() and\n",
    "                             not ('guarded-everglades-89687.herokuapp.com' in t.lower() or 'localhost' in t.lower()) and\n",
    "                             not 'instacart' in t.lower() and\n",
    "                             not ('morning' in t.lower() and 'dispatch' in t.lower()) and\n",
    "                             not 'amazon.com' in t.lower() and\n",
    "                             not 'github' in t.lower() and\n",
    "                             not 'calendar.google' in t.lower() and\n",
    "                             not 'yout' in t.lower() and\n",
    "                             not ('messages/' in t.lower() or 'inbox/' in t.lower() or 'swapcard' in t.lower()))]\n",
    "print_tabs(tabs_, label='Other')\n",
    "\n"
   ]
  }
 ],
 "metadata": {
  "kernelspec": {
   "display_name": "Python 3 (ipykernel)",
   "language": "python",
   "name": "python3"
  },
  "language_info": {
   "codemirror_mode": {
    "name": "ipython",
    "version": 3
   },
   "file_extension": ".py",
   "mimetype": "text/x-python",
   "name": "python",
   "nbconvert_exporter": "python",
   "pygments_lexer": "ipython3",
   "version": "3.9.13"
  }
 },
 "nbformat": 4,
 "nbformat_minor": 5
}
