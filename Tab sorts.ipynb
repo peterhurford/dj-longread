{
 "cells": [
  {
   "cell_type": "code",
   "execution_count": 1,
   "id": "40568205",
   "metadata": {},
   "outputs": [
    {
     "name": "stdout",
     "output_type": "stream",
     "text": [
      "Loaded\n"
     ]
    }
   ],
   "source": [
    "import random\n",
    "import numpy as np\n",
    "import webbrowser\n",
    "\n",
    "from copy import copy\n",
    "\n",
    "\n",
    "def print_tabs(tabs, label=None):\n",
    "    if label:\n",
    "        print('## {} ## ({} tabs)'.format(label, len(tabs)))\n",
    "    else:\n",
    "        print('({} tabs)'.format(len(tabs)))\n",
    "    print('')\n",
    "    for tab in tabs:\n",
    "        print(tab.replace('\\n', ''))\n",
    "    return None\n",
    "\n",
    "\n",
    "def open_tab(tab):\n",
    "    url = tab.split('|')[0].replace(' ', '')\n",
    "    webbrowser.open(url, new=2, autoraise=False)\n",
    "    \n",
    "    \n",
    "def open_tabs(tabs, page=1, per_page=10):\n",
    "    page_start = (page - 1) * per_page\n",
    "    total_pages = int(np.ceil(len(tabs) / per_page))\n",
    "    if page > total_pages:\n",
    "        raise ValueError('Cannot open page {}, only have {} pages'.format(page, total_pages))\n",
    "    page_end = page * per_page\n",
    "    if page_end > len(tabs):\n",
    "        page_end = len(tabs)\n",
    "    paged_tabs = tabs[page_start:page_end]\n",
    "    print('Opening page {}/{} (tabs {}-{} of {})'.format(page, total_pages, page_start, page_end, len(tabs)))\n",
    "    \n",
    "    for tab in paged_tabs:\n",
    "        open_tab(tab)\n",
    "\n",
    "        \n",
    "def open_random_n_tabs(tabs, n=5):\n",
    "    tabs = random.sample(tabs, len(tabs))\n",
    "    open_tabs(tabs, page=1, per_page=n)\n",
    "    return tabs[5:]\n",
    "\n",
    "        \n",
    "print('Loaded')"
   ]
  },
  {
   "cell_type": "code",
   "execution_count": 2,
   "id": "1ffe9c7f",
   "metadata": {},
   "outputs": [
    {
     "name": "stdout",
     "output_type": "stream",
     "text": [
      "211\n",
      "191\n",
      "188\n"
     ]
    }
   ],
   "source": [
    "tab_file = open('/Users/peterhurford/Documents/alltabs.txt', 'r')\n",
    "tabs = tab_file.readlines()\n",
    "print(len(tabs))\n",
    "\n",
    "tabs = [t for t in tabs if t != '\\n']\n",
    "print(len(tabs))\n",
    "\n",
    "tabs = sorted(list(set(tabs)))\n",
    "print(len(tabs))"
   ]
  },
  {
   "cell_type": "code",
   "execution_count": 3,
   "id": "df44f938",
   "metadata": {
    "scrolled": true
   },
   "outputs": [
    {
     "name": "stdout",
     "output_type": "stream",
     "text": [
      "## Messages ## (2 tabs)\n",
      "\n",
      "https://mail.google.com/mail/u/0/#inbox | Inbox (4) - peter@peterhurford.com - Peter Hurford Mail\n",
      "https://mail.google.com/mail/u/1/#inbox | Inbox - peter@rethinkpriorities.org - Rethink Priorities Mail\n"
     ]
    }
   ],
   "source": [
    "print_tabs([t for t in tabs if ('messages/' in t.lower() or 'inbox/' in t.lower() or 'mail.google' in t.lower() or 'swapcard' in t.lower())], label='Messages')\n"
   ]
  },
  {
   "cell_type": "code",
   "execution_count": 4,
   "id": "89c2b367",
   "metadata": {},
   "outputs": [
    {
     "name": "stdout",
     "output_type": "stream",
     "text": [
      "## Facebook ## (1 tabs)\n",
      "\n",
      "https://www.facebook.com/80000Hours | (3) 80,000 Hours | Facebook\n"
     ]
    }
   ],
   "source": [
    "print_tabs([t for t in tabs if 'facebook.com' in t.lower() and 'messages' not in t.lower()], label='Facebook')"
   ]
  },
  {
   "cell_type": "code",
   "execution_count": 5,
   "id": "f6d6e211",
   "metadata": {},
   "outputs": [
    {
     "name": "stdout",
     "output_type": "stream",
     "text": [
      "## Twitter ## (25 tabs)\n",
      "\n",
      "https://twitter.com/CineraVerinia/status/1612205486509797376 | 𝕮𝖎𝖓𝖊𝖗𝖆 (0/16 AI Safety Projects Completed) on Twitter: \"🧵 of AI Safety projects I'd complete 2023 - 2024[1] if I had 2 standard deviations better executive functioning. I'll give estimated durations by extrapolating my \"pace\"[2]. I'd be grateful if readers identified projects they're most excited about; might help me prioritise.\" / Twitter\n",
      "https://twitter.com/DeepMind/status/1613159943040811010 | DeepMind on Twitter: \"Introducing DreamerV3: the first general algorithm to collect diamonds in Minecraft from scratch - solving an important challenge in AI. 💎 It learns to master many domains without tuning, making reinforcement learning broadly applicable. Find out more: https://t.co/7GP0R93Yvc https://t.co/YacIDojAF1\" / Twitter\n",
      "https://twitter.com/GaryMarcus/status/1612155191616483329 | (1) Gary Marcus on Twitter: \"This popular defense of #GPT is fundamentally misguided. Its main claim is that ChatGPT has substantially solved an earlier set of problems, and that’s just not true. Consider examples like these just *from the last 48 hours*, all reinforcing my fundamental points. [Thread] https://t.co/GKGi8ua9Qm\" / Twitter\n",
      "https://twitter.com/GaryMarcus/status/1612299019090558976 | (1) Gary Marcus on Twitter: \"Apologies that @EzraKlein interview happened mostly to mention men (partly because focus was on OpenAI). here are 10 of the many great women in AI I follow: @Abebab @AlisonGopnik @AnjaKasp @MelMitchell1 @mer__edith @mmitchell_ai @frossi_t @YejinChoinka @suchisaria @SColesPorter\" / Twitter\n",
      "https://twitter.com/GaryMarcus/status/1612598675129401345 | Gary Marcus on Twitter: \"Want to help make large language models like ChatGPT better? Read this. (Even better, please considering sharing). #citizenscience for #GPT https://t.co/V3xDRPfWmy\" / Twitter\n",
      "https://twitter.com/JaEsf/status/1613272031419850753 | Jacob Eliosoff on Twitter: \"@peterwildeford Quick thoughts: 1. I would basically represent that as picking six numbers in [0,1], sorting them, and taking the 7 diffs [n1-0, n2-n1, ..., 1-n6] as your seven inputs\" / Twitter\n",
      "https://twitter.com/JgaltTweets/status/1612233878550511616 | JgaltTweets on Twitter: \"@peterwildeford It would be interesting to see people directly questioned on why they continue doing it if they're significantly bothered by it; is it an addiction? They'd like to quit, and have tried, but can't? 🤔\" / Twitter\n",
      "https://twitter.com/MatthewJBar/status/1612221157104832513 | Matthew Barnett on Twitter: \"One of the most common arguments against AGI being near is the following take: AI has gone through many boom and bust cycles before in which people thought we were close, but we ended up being far. This boom will also bust. Ultimately, I find this argument quite weak. 🧵\" / Twitter\n",
      "https://twitter.com/MatthewJBar/status/1613003520936120322 | Matthew Barnett on Twitter: \".@bryan_caplan says he is not impressed by ChatGPT, as it scored a D on his labor economics exam. But does he expect the technology to improve? I'd be happy to bet him that language models will consistently earn A's on his exams before 2028. https://t.co/8XMaeAB2vj\" / Twitter\n",
      "https://twitter.com/MaxCRoser/status/1612934517030789120 | (1) Max Roser on Twitter: \"Some statistics are worth knowing by heart: The average – mean – income in the world is $18 per person per day. It is the latest data (from 2019). This is adjusted for price differences between countries.\" / Twitter\n",
      "https://twitter.com/PradyuPrasad/status/1612956767822155776 | (1) Pradyumna on Twitter: \"Very interesting paper documenting the rise of industrial innovation policy in the US (via @krishkhubchand). A 🧵 about its findings and some thoughts in the end https://t.co/yW9GR5JAvE\" / Twitter\n",
      "https://twitter.com/PradyuPrasad/status/1613150421539000321 | (1) Pradyumna on Twitter: \"So we're probably a few years from AI created pathogens (probably human directed) that cause pandemics right?\" / Twitter\n",
      "https://twitter.com/QVagabond/status/1613261982253174785 | Gianluca Truda📍London on Twitter: \"Today we learned: Prompting ChatGPT as though it were a twitter follower gets better outputs (n=1).\" / Twitter\n",
      "https://twitter.com/Wertwhile/status/1609177422074896386 | Joel Wertheimer on Twitter: \"Have so many complaints about this article I don't know where to begin. https://t.co/qWsSZR3sAs\" / Twitter\n",
      "https://twitter.com/bctallis/status/1612105940441915395 | Benjamin Tallis 🇺🇦 on Twitter: \"1. What is Neo-Idealism? (seeing as many of you have asked) It’s a new approach to Grand Strategy &amp; International Relations that I think we can see emerging in responses to #Russia’s war &amp; from #Ukraine’s brave resistance. 1st 🧵in a series on #NeoIdealism 1/25 https://t.co/QiA07znl7s\" / Twitter\n",
      "https://twitter.com/bryan_caplan/status/1612510666845474818 | Bryan Caplan on Twitter: \"\"The AI mixes up absolute and comparative advantage! The fact that American workers are more productive at steel than Mexicans does not show Americans have a comparative advantage in steel.\" https://t.co/Bf5EmobKDp\" / Twitter\n",
      "https://twitter.com/labenz/status/1611724185709027328 | Nathan Labenz on Twitter: \"as an AI obsessive and long-time @ezraklein fan, I was excited to see yesterday's podcast with @GaryMarcus. Unfortunately, as I listened, my excitement gave way to frustration, and I felt compelled to write my first-ever megathread. Quotes from: https://t.co/ePWGXvaoMc\" / Twitter\n",
      "https://twitter.com/labenz/status/1612875598627573760 | Nathan Labenz on Twitter: \"Only ~72 hours since I posted this deep-dive thread on the latest LLM capabilities, training techniques, and mechanistic interpretability results. A key goal was to show how fast the AI frontier is moving, and ... already we have an important update! https://t.co/aq4Gq23v1S\" / Twitter\n",
      "https://twitter.com/lukeprog/following | People followed by Luke Muehlhauser (@lukeprog) / Twitter\n",
      "https://twitter.com/nonmayorpete/status/1612664664214892551 | Pete on Twitter: \"The Microsoft &lt;&gt; OpenAI news is much bigger than we first thought: - $10 billion investment in the works, with Microsoft getting 75% of revenue until it recoups all $10b - GPT in Office, not just Bing\" / Twitter\n",
      "https://twitter.com/paul_scharre/status/1609214125594263552 | (3) Paul Scharre on Twitter: \"1/ 🎯 This new article by @sarahbauerle &amp; @EmilyKilcrease1 nails the fatal flaw in recent U.S. chip export controls 👇 [THREAD] https://t.co/mAOxX0Y3LK\" / Twitter\n",
      "https://twitter.com/powerfultakes/status/1612847897573298177/photo/1 | (3) Anatoly Karlin on Twitter: \"Increasingly seems China is washing hands of Russia's adventure, now as good as claiming that Xi misunderstood Putin (despite the latter's kindly waiting for Beijing Olympics to finish) &amp; sidling up to Europeans who despite China no less than Americans. https://t.co/K3npOE4E7D https://t.co/cJtSKJgFX0\" / Twitter\n",
      "https://twitter.com/profwolff/status/1612283150700318722 | Richard D. Wolff on Twitter: \"Were Ukraine winning, it would not need to beg for more tanks, armored vehicles, etc. Its allies would not need to give them.\" / Twitter\n",
      "https://twitter.com/ryancareyai/status/1612144812391825408 | (2) Ryan Carey on Twitter: \"PSA: I would recommend everyone I know who is eligible (BMI&gt;30, or &gt;27 with a comorbidity) consider semaglutide. The short &amp; longterm health &amp; wellbeing benefits of losing an expected 15% of bodyweight are large, the side effects minor, &amp; the $-cost acceptable.\" / Twitter\n",
      "https://twitter.com/search?q=(from%3Apeterwildeford)%20reset&src=typed_query&f=live | (20) (from:peterwildeford) reset - Twitter Search / Twitter\n"
     ]
    }
   ],
   "source": [
    "twitter_tabs = sorted([t for t in tabs if 'twitter.com' in t.lower() and 'messages' not in t.lower()])\n",
    "print_tabs(twitter_tabs, label='Twitter')"
   ]
  },
  {
   "cell_type": "code",
   "execution_count": 6,
   "id": "0e8d623e",
   "metadata": {},
   "outputs": [],
   "source": [
    "#open_tabs(twitter_tabs, page=1, per_page=200)"
   ]
  },
  {
   "cell_type": "code",
   "execution_count": 7,
   "id": "c4635d45",
   "metadata": {},
   "outputs": [
    {
     "name": "stdout",
     "output_type": "stream",
     "text": [
      "## Google Docs ## (25 tabs)\n",
      "\n",
      "https://docs.google.com/document/d/11AiizBYQQagjMF3AENBhhYLc4Cs3WjnCagRx7cmfSyo/edit?fbclid=IwAR2bpvI_8kIY4Gwc4flodbD0_igcyEWRsWqUda4FL-iv0o9wbWwH3Xs5v7c&pli=1 | Cambridge Boston Alignment Initiative Job Descriptions - Google Docs\n",
      "https://docs.google.com/document/d/1A1xgFdrCjrnbV-jFd-1679ooSpIJ4u8CmBIarSfXpnk/edit#heading=h.c760bkr00111 | Worldview Investigations Team Overview - Google Docs\n",
      "https://docs.google.com/document/d/1HCq7iQndwb515ZRG2tZuqjgbvaCVWxrgQBkrk4owdMw/edit#heading=h.u5dqijwni5f6 | Max Dalton <> Michael Aird - 2022 & 2023 - RP & CEA coordination - Google Docs\n",
      "https://docs.google.com/document/d/1QplktgJzt2Njaizu8TI4thjtetc5EzOLknYEubl7ZHg/edit# | *NEWEST* Copy of Kieran's meeting with Co-CEO(s) Running Agenda - Google Docs\n",
      "https://docs.google.com/document/d/1QtDKOOZVU03kM1c57F6EjFUiskIMTjGTPEDOyAze8oU/edit#heading=h.lktgjhaxvknw | 2023 Directors' Retreat Participants' Guide - Google Docs\n",
      "https://docs.google.com/document/d/1St1a9FRB2aQ-vIRtKO8eF8rd7Ohht-YZbCfYjtSP904/edit | 2023 List: List of Potential things RP could do in 2023 for lots of impact - Google Docs\n",
      "https://docs.google.com/document/d/1_1VGgCA7JUSop7A2nl33W2oh8JaQsXvscq4AFoTUPKc/edit#heading=h.um1xeitrnvry | Have EA ideas/people been net harmful via majorly increasing the chance of DM, OAI, and Anthropic existing? [rough notes] - Google Docs\n",
      "https://docs.google.com/document/d/1h7sNhLuMO2n1FQxbzve5Gpyrl1VzfkT4hqewWqKwVKc/edit#heading=h.osty8jeclpyn | GHD strategy (2022) - Google Docs\n",
      "https://docs.google.com/document/d/1iVmi58PLVUaSSu5Qm2F_OBFFNmUxjPVvpt1f6qLGx_k/edit# | Bimonthly Hiring and Budgeting Meeting Agenda - Google Docs\n",
      "https://docs.google.com/document/d/1kT_u3P70_FONgTiTpEIVHnfh-08MIbFo_SD_5xbUTbc/edit#heading=h.esfx3im4r194 | Operations Department Strategy - Google Docs\n",
      "https://docs.google.com/document/d/1m_-XgZgBs0LZHplodgBbGcpiGtNWalPxPBjGOwF6rig/edit | Macrocalendar - Google Docs\n",
      "https://docs.google.com/document/d/1q2_DcbAU50V9tNe13B-gu306sZYC8TpXovR7NKP7cYs/edit# | Impact, Strategy, and OKR Meeting Agendas - Google Docs\n",
      "https://docs.google.com/document/d/1qV_mNjkpTZEbvS6VUAbTuOYziRgnmAkQcU6zyku_St8/edit#heading=h.ygytguappa89 | Ben’s longtermist incubator notes 2022-12-19 - Google Docs\n",
      "https://docs.google.com/document/d/1r0TPCpivFX3sHbcDdRc2ZC85tiocnFZyii2woVVacMs/edit#heading=h.wvdf5y3j47ca | AI Reading Notes - Google Docs\n",
      "https://docs.google.com/document/d/1wDQvtClBt08zJxkLcT9y4M1MHQJNYfoPlCAGUX_QzIs/edit# | Ben's thoughts about what he should do in (Q1) 2023 2023-01-05 - Google Docs\n",
      "https://docs.google.com/document/d/1y87kOWXwkB3r20qjSfFbluDvHhpGidshNJt55_z0_r4/edit# | December-January GLT strategy meetings [weekly] - Google Docs\n",
      "https://docs.google.com/document/d/1yguh5haUEMRXxxXn4sdzU91AU8EhjNkD_5fog2F_-PY/edit | Questions from Max re: OP grants - Google Docs\n",
      "https://docs.google.com/spreadsheets/d/108xc4uUGFlcgSdLK9hlQ_knXo-8DzhMNxUa6Wux-UTs/edit#gid=365694952 | DRAFTING RP 2023 Draft Budget - Google Sheets\n",
      "https://docs.google.com/spreadsheets/d/14gEqOpr3GucAH2AqXC5B_5A5-aLrFAy9k2CH6Egt0LM/edit#gid=172531079 | Copy of [for release] 2022 ACX Prediction Contest predictions - Google Sheets\n",
      "https://docs.google.com/spreadsheets/d/16hvXilmBtN4X5tPiaxqnfcSjbeVZ-ux0Dt_hwqJr_-s/edit#gid=0 | R&D and Megaprojects Budgets Summary - Google Sheets\n",
      "https://docs.google.com/spreadsheets/d/1Ji5S1k3lAMcTdNqFiz4Ft2hJGskT8HIkqHoEs9zIka8/edit#gid=1504567663 | RP Org Chart - January 2023 - Google Sheets\n",
      "https://docs.google.com/spreadsheets/d/1cLzO_tX9b4z6URKLFvzc0MtsN4GrftkFZuv1bCxeWVY/edit#gid=555410569 | ML Spending Trends - Google Sheets\n",
      "https://docs.google.com/spreadsheets/d/1fk6jAn4rpbx1T9kKYl-3C9TJHQA8ZC6lFNpT5QawNbs/edit#gid=333449817 | 2023 Stats - Google Sheets\n",
      "https://docs.google.com/spreadsheets/d/1jdYBDLrhBgVaf1WqjIlFiksyTemD-U9eIka1Amtwkno/edit#gid=0 | 2023 Jan Lights - Google Sheets\n",
      "https://docs.google.com/spreadsheets/d/1rvLHWcQMZyq_2MRdNGzHsV3FBj2ekMshHPQviVZ1ViE/edit#gid=921862743 | RP Projects Impact - Google Sheets\n"
     ]
    }
   ],
   "source": [
    "doc_tabs = sorted([t for t in tabs if ('docs.google' in t.lower() or 'sheets.google' in t.lower() or 'drive.google' in t.lower())])\n",
    "print_tabs(doc_tabs, label='Google Docs')\n"
   ]
  },
  {
   "cell_type": "code",
   "execution_count": 8,
   "id": "18e9e150",
   "metadata": {},
   "outputs": [],
   "source": [
    "#open_tabs(doc_tabs, page=1, per_page=50)"
   ]
  },
  {
   "cell_type": "code",
   "execution_count": 9,
   "id": "479f45a0-d63f-474d-aa76-2ddab5a10b0a",
   "metadata": {},
   "outputs": [],
   "source": [
    "#doc_tabs_ = copy(doc_tabs)"
   ]
  },
  {
   "cell_type": "code",
   "execution_count": 10,
   "id": "c4e71249-4e0e-47aa-9fcd-69b9219f507f",
   "metadata": {},
   "outputs": [],
   "source": [
    "#doc_tabs_ = open_random_n_tabs(doc_tabs_, n=5)"
   ]
  },
  {
   "cell_type": "code",
   "execution_count": 11,
   "id": "6311fa07",
   "metadata": {},
   "outputs": [
    {
     "name": "stdout",
     "output_type": "stream",
     "text": [
      "## Google search ## (3 tabs)\n",
      "\n",
      "https://www.google.com/search?q=cruise+r%26d+spending&rlz=1C5CHFA_enUS925US925&oq=cruise+r%26d+spending&aqs=chrome..69i57j0i546.5520j0j1&sourceid=chrome&ie=UTF-8 | cruise r&d spending - Google Search\n",
      "https://www.google.com/search?q=meta+spending+on+the+metaverse | meta spending on the metaverse - Google Search\n",
      "https://www.google.com/search?q=tesla+r%26d+spending&rlz=1C5CHFA_enUS925US925&oq=tesla+r%26d+spending&aqs=chrome..69i57j0i22i30j0i390l4.2231j0j1&sourceid=chrome&ie=UTF-8 | tesla r&d spending - Google Search\n"
     ]
    }
   ],
   "source": [
    "print_tabs(sorted([t for t in tabs if ('google.com' in t.lower() and 'search' in t.lower() and\n",
    "                                   not ('docs.google' in t.lower() or 'sheets.google' in t.lower()))]),\n",
    "           label='Google search')"
   ]
  },
  {
   "cell_type": "code",
   "execution_count": 12,
   "id": "53b9762e",
   "metadata": {},
   "outputs": [
    {
     "name": "stdout",
     "output_type": "stream",
     "text": [
      "## EAFo/LW ## (13 tabs)\n",
      "\n",
      "https://forum.effectivealtruism.org/posts/8c7LycgtkypkgYjZx/agi-and-the-emh-markets-are-not-expecting-aligned-or | AGI and the EMH: markets are not expecting aligned or unaligned AI in the next 30 years - EA Forum\n",
      "https://forum.effectivealtruism.org/posts/RWQ6Pqc4s8yq2fSjg/forecasting-extreme-outcomes | Forecasting extreme outcomes - EA Forum\n",
      "https://forum.effectivealtruism.org/posts/mgurctbDAP8bGeHCb/how-did-our-historical-moral-heroes-deal-with-severe | How did our historical moral heroes deal with severe adversity and/or moral compromise? - EA Forum\n",
      "https://forum.effectivealtruism.org/posts/tg2WmhuAoXxCHgzxJ/my-personal-takeaways-from-eagxlatam | My personal takeaways from EAGxLatAm - EA Forum\n",
      "https://www.lesswrong.com/posts/AfH2oPHCApdKicM4m/two-year-update-on-my-personal-ai-timelines#Considering_endogeneities_in_spending_and_research_progress | Two-year update on my personal AI timelines - LessWrong\n",
      "https://www.lesswrong.com/posts/CoZhXrhpQxpy9xw9y/where-i-agree-and-disagree-with-eliezer?commentId=C4F5i6gF6vhkYSSXL | Where I agree and disagree with Eliezer - LessWrong\n",
      "https://www.lesswrong.com/posts/X3p8mxE5dHYDZNxCm/a-concrete-bet-offer-to-those-with-short-ai-timelines | A concrete bet offer to those with short AI timelines - LessWrong\n",
      "https://www.lesswrong.com/posts/Z5gPrKTR2oDmm6fqJ/three-reasons-to-expect-long-ai-timelines | Three reasons to expect long AI timelines - LessWrong\n",
      "https://www.lesswrong.com/posts/ZEgQGAjQm5rTAnGuM/beware-boasting-about-non-existent-forecasting-track-records | Beware boasting about non-existent forecasting track records - LessWrong\n",
      "https://www.lesswrong.com/posts/qnjDGitKxYaesbsem/a-comment-on-ajeya-cotra-s-draft-report-on-ai-timelines | A comment on Ajeya Cotra's draft report on AI timelines - LessWrong\n",
      "https://www.lesswrong.com/posts/sbb9bZgojmEa7Yjrc/updating-my-ai-timelines | Updating my AI timelines - LessWrong\n",
      "https://www.lesswrong.com/posts/tepqESMuRmyhtmDS7/forecasting-progress-in-language-models | Forecasting progress in language models - LessWrong\n",
      "https://www.lesswrong.com/posts/wB7hdo4LDdhZ7kwJw/we-don-t-trade-with-ants | We don’t trade with ants - LessWrong\n"
     ]
    }
   ],
   "source": [
    "ea_fo_tabs = sorted([t for t in tabs if ('forum.effectivealtruism' in t.lower() or 'lesswrong' in t.lower())])\n",
    "print_tabs(ea_fo_tabs, label='EAFo/LW')"
   ]
  },
  {
   "cell_type": "code",
   "execution_count": 13,
   "id": "8ffa8f80-4aa6-4afe-8c6a-59194d69895e",
   "metadata": {},
   "outputs": [],
   "source": [
    "#open_tabs(ea_fo_tabs, page=1, per_page=50)"
   ]
  },
  {
   "cell_type": "code",
   "execution_count": 14,
   "id": "42ae2aee",
   "metadata": {},
   "outputs": [
    {
     "name": "stdout",
     "output_type": "stream",
     "text": [
      "## Metaculus etc. ## (30 tabs)\n",
      "\n",
      "https://manifold.markets/MatthewBarnett/will-gpt4-get-the-monty-fall-proble#916asMIzg1CMXtgfqJdI | Will GPT-4 get the Monty *Fall* problem correct? | Manifold Markets\n",
      "https://manifold.markets/Tetraspace/what-is-the-fate-of-our-universesha | What is the fate of our universe-shard? | Manifold Markets\n",
      "https://www.metaculus.com/questions/11373/prevent-pandemics-act-made-law/ | PREVENT Pandemics Act Made Law | Metaculus\n",
      "https://www.metaculus.com/questions/12268/apps-benchmark-sota-in-2022-2025/ | APPS Benchmark SOTA in 2022 - 2025 | Metaculus\n",
      "https://www.metaculus.com/questions/12943/global-fertility-rate/ | Global Fertility Rate | Metaculus\n",
      "https://www.metaculus.com/questions/12949/global-nuclear-warhead-stockpiles/ | Global Nuclear Warhead Stockpiles | Metaculus\n",
      "https://www.metaculus.com/questions/12955/cost-of-sequencing-whole-human-genome/ | Cost of Sequencing Whole Human Genome | Metaculus\n",
      "https://www.metaculus.com/questions/12961/total-global-fatalities-from-terrorism/ | Total Global Fatalities from Terrorism | Metaculus\n",
      "https://www.metaculus.com/questions/12967/global-poverty-10-2011-int-usd-per-day/ | Global Poverty (<$10 2011 INT USD per day) | Metaculus\n",
      "https://www.metaculus.com/questions/12973/global-co2-emissions/ | Global CO2 Emissions | Metaculus\n",
      "https://www.metaculus.com/questions/12979/total-annual-investment-in-ai-companies/ | Total Annual Investment in AI Companies | Metaculus\n",
      "https://www.metaculus.com/questions/12985/people-living-in-liberal-democracies/ | People Living in Liberal Democracies | Metaculus\n",
      "https://www.metaculus.com/questions/12991/us-gdp-per-hour-worked-productivity/ | US GDP Per Hour Worked (Productivity) | Metaculus\n",
      "https://www.metaculus.com/questions/12997/world-population/ | World Population | Metaculus\n",
      "https://www.metaculus.com/questions/13003/oecd-trust-in-government/ | OECD Trust in Government | Metaculus\n",
      "https://www.metaculus.com/questions/13009/global-homicide-rate/ | Global Homicide Rate | Metaculus\n",
      "https://www.metaculus.com/questions/13015/annual-number-of-objects-launched-into-space/ | Annual Number of Objects Launched Into Space | Metaculus\n",
      "https://www.metaculus.com/questions/13021/cagr-gdp-growth-per-capita/ | CAGR GDP Growth Per Capita | Metaculus\n",
      "https://www.metaculus.com/questions/13027/share-living-where-same-sex-marriage-is-legal/ | Share Living Where Same-Sex Marriage is Legal | Metaculus\n",
      "https://www.metaculus.com/questions/13033/life-expectancy-at-birth-in-the-g7/ | Life Expectancy at Birth in the G7 | Metaculus\n",
      "https://www.metaculus.com/questions/13039/chickens-slaughtered-for-meat/ | Chickens Slaughtered for Meat | Metaculus\n",
      "https://www.metaculus.com/questions/13045/per-capita-primary-energy-consumption/ | Per Capita Primary Energy Consumption | Metaculus\n",
      "https://www.metaculus.com/questions/13052/flops-of-fastest-supercomputer/ | FLOPS of Fastest Supercomputer | Metaculus\n",
      "https://www.metaculus.com/questions/13074/pro-forecasting-forecasting-owid-discussion/ | [Pro Forecasting] Forecasting OWID Discussion | Metaculus\n",
      "https://www.metaculus.com/questions/13075/greatest-computation-used-in-ai-training/ | Greatest Computation Used in AI Training | Metaculus\n",
      "https://www.metaculus.com/questions/13787/petaflops-during-gpt-4-training/ | PetaFLOPs during GPT-4 training | Metaculus\n",
      "https://www.metaculus.com/questions/14327/gpt-4-number-of-parameters/ | GPT-4 Number of Parameters | Metaculus\n",
      "https://www.metaculus.com/questions/8484/trafalgar-group-vs-538-polling-average-2022/ | Trafalgar Group vs. 538 Polling Average 2022 | Metaculus\n",
      "https://www.metaculus.com/questions/9519/flops-used-for-gpt-4-if-released/ | How many parameters will GPT-4 have? | Metaculus\n",
      "https://www.metaculus.com/tournament/forecasting-Our-World-in-Data/ | Forecasting Our World in Data | Metaculus\n"
     ]
    }
   ],
   "source": [
    "print_tabs(sorted([t for t in tabs if ('metaculus' in t.lower() or 'manifold' in t.lower() or 'predictit' in t.lower())]), label='Metaculus etc.')"
   ]
  },
  {
   "cell_type": "code",
   "execution_count": 15,
   "id": "72bdaddd",
   "metadata": {},
   "outputs": [
    {
     "name": "stdout",
     "output_type": "stream",
     "text": [
      "## Wikipedia ## (3 tabs)\n",
      "\n",
      "https://en.wikipedia.org/wiki/Founder%27s_syndrome | Founder's syndrome - Wikipedia\n",
      "https://en.wikipedia.org/wiki/List_of_units_of_the_United_States_Navy | List of units of the United States Navy - Wikipedia\n",
      "https://en.wikipedia.org/wiki/SpaceX | SpaceX - Wikipedia\n"
     ]
    }
   ],
   "source": [
    "print_tabs(sorted([t for t in tabs if 'wikipedia' in t.lower()]), label='Wikipedia')"
   ]
  },
  {
   "cell_type": "code",
   "execution_count": 16,
   "id": "ca9dcfdf",
   "metadata": {},
   "outputs": [
    {
     "name": "stdout",
     "output_type": "stream",
     "text": [
      "## Reddit ## (0 tabs)\n",
      "\n"
     ]
    }
   ],
   "source": [
    "print_tabs(sorted([t for t in tabs if 'reddit' in t.lower()]), label='Reddit')"
   ]
  },
  {
   "cell_type": "code",
   "execution_count": 17,
   "id": "5dedf293",
   "metadata": {},
   "outputs": [
    {
     "name": "stdout",
     "output_type": "stream",
     "text": [
      "## localhost ## (7 tabs)\n",
      "\n",
      "http://localhost:8888/lab/tree/Fundraising%20Forecast%20Lite.ipynb | Fundraising%… - JupyterLab\n",
      "https://guarded-everglades-89687.herokuapp.com/?url=kuhn | Upcoming Links\n",
      "https://guarded-everglades-89687.herokuapp.com/update/128889/?url=&title=&aggregator=&before=&after=&sort=random&page=1&starred= | Update Link\n",
      "https://guarded-everglades-89687.herokuapp.com/update/129726/?url=&title=&aggregator=&before=&after=&sort=random&page=1&starred= | Update Link\n",
      "https://guarded-everglades-89687.herokuapp.com/update/132030/?url=&title=&aggregator=&before=&after=&sort=random&page=1&starred= | Update Link\n",
      "https://guarded-everglades-89687.herokuapp.com/update/14103/?url=&title=&aggregator=&before=&after=&sort=random&page=1&starred= | Update Link\n",
      "https://guarded-everglades-89687.herokuapp.com/update/152508/?url=&title=&aggregator=&before=&after=&sort=random&page=1&starred= | Update Link\n"
     ]
    }
   ],
   "source": [
    "print_tabs(sorted([t for t in tabs if 'guarded-everglades-89687.herokuapp.com' in t.lower() or 'localhost' in t.lower()]), label='localhost')\n"
   ]
  },
  {
   "cell_type": "code",
   "execution_count": 18,
   "id": "677f610e",
   "metadata": {},
   "outputs": [
    {
     "name": "stdout",
     "output_type": "stream",
     "text": [
      "## Chores ## (0 tabs)\n",
      "\n"
     ]
    }
   ],
   "source": [
    "print_tabs(sorted([t for t in tabs if 'instacart' in t.lower()]), label='Chores')"
   ]
  },
  {
   "cell_type": "code",
   "execution_count": 19,
   "id": "5fce865e",
   "metadata": {},
   "outputs": [
    {
     "name": "stdout",
     "output_type": "stream",
     "text": [
      "## Amazon ## (5 tabs)\n",
      "\n",
      "https://aws.amazon.com/lambda/ | Serverless Computing - AWS Lambda - Amazon Web Services\n",
      "https://smile.amazon.com/How-Calm-Your-Mind-Productivity-ebook/dp/B09WM9PTD9?ref_=ast_sto_dp&sa-no-redirect=1 | AmazonSmile: How to Calm Your Mind: Finding Presence and Productivity in Anxious Times eBook : Bailey, Chris: Kindle Store\n",
      "https://smile.amazon.com/Hyperfocus-Manage-Attention-World-Distraction/dp/0525522255/ref=tmm_pap_swatch_0?_encoding=UTF8&qid=1672612983&sr=8-1&sa-no-redirect=1 | Hyperfocus: How to Manage Your Attention in a World of Distraction: Bailey, Chris: 9780525522256: AmazonSmile: Books\n",
      "https://smile.amazon.com/Zoeys-Extraordinary-Return/dp/B08SBJNC7Z/ref=sr_1_2?crid=2VYXMNI4Y6DJJ&keywords=zoe%27s+extraordinary+playlist&qid=1673416980&sprefix=zoe%27s+extraordinary+playlist%2Caps%2C81&sr=8-2 | Watch Zoey's Extraordinary Playlist, Season 2 | Prime Video\n",
      "https://smile.amazon.com/gp/css/order-history?ref_=nav_orders_first | Your Orders\n"
     ]
    }
   ],
   "source": [
    "print_tabs(sorted([t for t in tabs if 'amazon.com' in t.lower()]), label='Amazon')"
   ]
  },
  {
   "cell_type": "code",
   "execution_count": 20,
   "id": "16d46af9",
   "metadata": {},
   "outputs": [
    {
     "name": "stdout",
     "output_type": "stream",
     "text": [
      "## Morning Dispatch ## (0 tabs)\n",
      "\n"
     ]
    }
   ],
   "source": [
    "print_tabs(sorted([t for t in tabs if 'morning' in t.lower() and 'dispatch' in t.lower()]), label='Morning Dispatch')"
   ]
  },
  {
   "cell_type": "code",
   "execution_count": 21,
   "id": "108d879a",
   "metadata": {},
   "outputs": [
    {
     "name": "stdout",
     "output_type": "stream",
     "text": [
      "## GitHub ## (2 tabs)\n",
      "\n",
      "https://github.com/peterhurford/future-assessment-model/blob/main/(2)%20Cotra%20Timeline%20Models.ipynb | future-assessment-model/(2) Cotra Timeline Models.ipynb at main · peterhurford/future-assessment-model\n",
      "https://github.com/peterhurford/future-assessment-model/blob/main/(3)%20When%20TAI%3F.ipynb | future-assessment-model/(3) When TAI?.ipynb at main · peterhurford/future-assessment-model\n"
     ]
    }
   ],
   "source": [
    "print_tabs(sorted([t for t in tabs if 'github.com' in t.lower()]), label='GitHub')"
   ]
  },
  {
   "cell_type": "code",
   "execution_count": 22,
   "id": "d911bbda",
   "metadata": {},
   "outputs": [
    {
     "name": "stdout",
     "output_type": "stream",
     "text": [
      "## YouTube ## (2 tabs)\n",
      "\n",
      "https://www.youtube.com/watch?v=05ziSP8MtQ0 | Thomas Frank feat. Airplane Mode – Burn the Sails - YouTube\n",
      "https://www.youtube.com/watch?v=G4lvzB_mA04 | Nowhere To Run - Zoey's Extraordinary Playlist (Full Version) - YouTube\n"
     ]
    }
   ],
   "source": [
    "print_tabs(sorted([t for t in tabs if 'yout' in t.lower()]), label='YouTube')"
   ]
  },
  {
   "cell_type": "code",
   "execution_count": 23,
   "id": "2649c14d",
   "metadata": {},
   "outputs": [
    {
     "name": "stdout",
     "output_type": "stream",
     "text": [
      "## Instagram ## (3 tabs)\n",
      "\n",
      "https://www.instagram.com/givedirectly/ | GiveDirectly (@givedirectly) • Instagram photos and videos\n",
      "https://www.instagram.com/high.impact.athletes/ | HIA | Athletes Giving Back (@high.impact.athletes) • Instagram photos and videos\n",
      "https://www.instagram.com/ourworldindata/ | Our World in Data (@ourworldindata) • Instagram photos and videos\n"
     ]
    }
   ],
   "source": [
    "print_tabs(sorted([t for t in tabs if 'instagram.com' in t.lower()]), label='Instagram')"
   ]
  },
  {
   "cell_type": "code",
   "execution_count": 24,
   "id": "ab0e02f2-e275-486f-98d3-37d3218dc821",
   "metadata": {},
   "outputs": [
    {
     "name": "stdout",
     "output_type": "stream",
     "text": [
      "## Asana ## (0 tabs)\n",
      "\n"
     ]
    }
   ],
   "source": [
    "print_tabs(sorted([t for t in tabs if 'aap.assana.com' in t.lower()]), label='Asana')"
   ]
  },
  {
   "cell_type": "code",
   "execution_count": 25,
   "id": "bc70c265",
   "metadata": {},
   "outputs": [
    {
     "name": "stdout",
     "output_type": "stream",
     "text": [
      "## Other ## (69 tabs)\n",
      "\n",
      "https://80000hours.org/podcast/episodes/jeffrey-lewis-common-misconceptions-about-nuclear-weapons/ | Jeffrey Lewis on the most common misconceptions about nuclear weapons - 80,000 Hours\n",
      "https://airtable.com/appQbatI4fkmVLxHl/tblO0RqaTPXiz0jjp/viwshWVlP4Pzd70c4/recBxWRhZqgRGanIZ?blocks=hide | Redux Again Again: Org Management - Airtable\n",
      "https://astralcodexten.substack.com/p/how-do-ais-political-opinions-change | How Do AIs' Political Opinions Change As They Get Smarter And Better-Trained?\n",
      "https://astralcodexten.substack.com/p/stage-2-of-prediction-contest | Stage 2 Of Prediction Contest - by Scott Alexander\n",
      "https://baseratesblog.substack.com/p/deep-hope | Deep hope - by Ollie Base - Base Rates\n",
      "https://braddelong.substack.com/?utm_source=recommendations_page&utm_campaign=35345 | Brad DeLong's Grasping Reality | Substack\n",
      "https://causalinf.substack.com/?utm_source=recommendations_page&utm_campaign=35345 | Scott's Substack | scott cunningham | Substack\n",
      "https://garymarcus.substack.com/p/is-microsoft-about-to-get-the-deal | Is Microsoft about to get the deal of the century? Or is Sam Altman unloading OpenAI at just the right time?\n",
      "https://getcoldturkey.com/features/ | Cold Turkey - Features\n",
      "https://jstribune.com/hass-bidens-measured-response-to-chinas-activism-in-the-middle-east/ | Biden’s Measured Response to China’s Activism in the Middle East – The Jerusalem Strategic Tribune\n",
      "https://mail.google.com/mail/u/0/#inbox | Inbox (4) - peter@peterhurford.com - Peter Hurford Mail\n",
      "https://mail.google.com/mail/u/1/#inbox | Inbox - peter@rethinkpriorities.org - Rethink Priorities Mail\n",
      "https://news.ycombinator.com/item?id=23370130 | SpaceX runs basically as a giant R&D program that also happens to accomplish use... | Hacker News\n",
      "https://nickbostrom.com/aievolution.pdf | How Hard is Artificial Intelligence? Evolutionary Arguments and Selection Effects\n",
      "https://noahpinion.substack.com/p/techno-optimism-for-2023?utm_source=profile&utm_medium=reader2 | Techno-optimism for 2023 - by Noah Smith - Noahpinion\n",
      "https://noahpinion.substack.com/p/the-polandmalaysia-model | The Poland/Malaysia model - by Noah Smith - Noahpinion\n",
      "https://noahpinion.substack.com/p/why-paul-ehrlich-got-everything-wrong | Why Paul Ehrlich got everything wrong - by Noah Smith\n",
      "https://oneusefulthing.substack.com/?utm_source=homepage_recommendations&utm_campaign=35345 | One Useful Thing (And Also Some Other Things) | Ethan Mollick | Substack\n",
      "https://openai.com/blog/forecasting-misuse/ | Forecasting Potential Misuses of Language Models for Disinformation Campaigns—and How to Reduce Risk\n",
      "https://ourworldindata.org/artificial-intelligence#all-our-interactive-charts-on-artificial-intelligence | Artificial Intelligence - Our World in Data\n",
      "https://plus.thebulwark.com/?utm_source=recommendations_page&utm_campaign=35345 | Bulwark+ | Substack\n",
      "https://ridl.io/the-russo-ukrainian-war-ten-months-in-taking-stock/ | The Russo-Ukrainian war ten months in: taking stock – Riddle Russia\n",
      "https://rootsofprogress.org/the-four-hour-workday-prediction | Why didn't we get the four-hour workday?\n",
      "https://rychappell.substack.com/p/consequentialism-beyond-action | Consequentialism Beyond Action - by Richard Y Chappell\n",
      "https://rychappell.substack.com/p/deontic-pluralism | Deontic Pluralism - by Richard Y Chappell - Good Thoughts\n",
      "https://sfstandard.com/technology/these-doctors-pushed-masking-covid-lockdowns-on-twitter-turns-out-they-dont-exist/ | These Doctors Pushed Covid Lockdowns On Twitter. Turns Out They Don’t Exist\n",
      "https://techcrunch.com/2022/04/26/gm-expects-to-spend-2b-on-cruise-in-2022/ | GM expects to spend $2B on Cruise in 2022 | TechCrunch\n",
      "https://thedispatch.com/newsletter/frenchpress/apply-the-hillary-clinton-rule-to/ | Apply the Hillary Clinton Rule to Donald Trump - The Dispatch\n",
      "https://thehustle.co/spacex-third-most-valuable-vc-backed-company-in-the-us/ | After years of R&D, SpaceX is set to be the US’s 3rd most valuable VC-backed company  - The Hustle\n",
      "https://theovershoot.co/?utm_source=recommendations_page&utm_campaign=35345 | The Overshoot | Matthew C. Klein | Substack\n",
      "https://time.com/6243557/positive-stories-2022/ | From Vaccines to Golden Rice: 10 Positive Stories From 2022 | Time\n",
      "https://toot.community/@TetraspaceGrouping@mastodon.social/109670774864038505 | Tetraspace 💎: \"How parallel are US / China AI…\" - toot.community\n",
      "https://toot.community/@danluu@mastodon.social/109667072227418478 | Dan Luu: \"I'm thinking about getting a \"…\" - toot.community\n",
      "https://toot.community/@hausfath@fediscience.org/109666233210437510 | Zeke Hausfather: \"While many regions of the worl…\" - toot.community\n",
      "https://toot.community/@jazzbox35@sigmoid.social/109663302472954069 | Mike Archbold: \"@garymarcus This is a pretty …\" - toot.community\n",
      "https://toot.community/@timnitGebru@dair-community.social | Timnit Gebru (she/her) (@timnitGebru@dair-community.social) - toot.community\n",
      "https://www.alignmentforum.org/s/yivyHaCAmMJ3CqSyj/p/eqvvDM25MXLGqumnf | 200 COP in MI: Interpreting Reinforcement Learning - AI Alignment Forum\n",
      "https://www.animal-ethics.org/animal-ethics-in-2022-the-year-in-review/ | Animal Ethics in 2022: The year in review — Animal Ethics\n",
      "https://www.atlanticcouncil.org/content-series/atlantic-council-strategy-paper-series/risks-opportunities-2023/ | The top 23 risks and opportunities for 2023 - Atlantic Council\n",
      "https://www.businessinsider.com/mark-reuss-gm-cruise-spending-billions-ford-argo-fold-2022-12 | Why GM's Still Spending Billions on Self-Driving Outfit Cruise\n",
      "https://www.businessinsider.com/redfin-lay-off-workers-housing-market-read-email-mortgages-compass-2022-6 | Read the Email Redfin's CEO Sent to Staff Announcing 470 Layoffs\n",
      "https://www.cbai.ai/winter-ml-bootcamp | ML Bootcamp — Cambridge Boston Alignment Initiative\n",
      "https://www.cnbc.com/2021/02/19/spacex-valuation-driven-by-elon-musks-starship-and-starlink-projects.html | SpaceX valuation driven by Elon Musk's Starship and Starlink projects\n",
      "https://www.cnn.com/2023/01/09/politics/taiwan-invasion-war-game-intl-hnk-ml/index.html | Taiwan: War game simulation suggests Chinese invasion of Taiwan would fail at a huge cost to US, Chinese and Taiwanese militaries | CNN Politics\n",
      "https://www.cvxpy.org/examples/index.html#basic | https://www.cvxpy.org/examples/index.html#basic\n",
      "https://www.dwarkeshpatel.com/p/holden-karnofsky#details | Holden Karnofsky - Transformative AI & Most Important Century\n",
      "https://www.eclipseaviation.com/how-much-does-spacex-spend-per-year/ | How Much Does Spacex Spend Per Year? – EclipseAviation.com\n",
      "https://www.eurasiagroup.net/issues/top-risks-2023 | Eurasia Group | The Top Risks of 2023\n",
      "https://www.eurasiagroup.net/live-post/top-risks-2023-1-Rogue-Russia | Eurasia Group | Rogue Russia: Eurasia Group's #1 Top Risk of 2023\n",
      "https://www.eurasiagroup.net/live-post/top-risks-2023-2-Maximum-Xi | Eurasia Group | Maximum Xi: Eurasia Group's #2 Top Risk of 2023\n",
      "https://www.eurasiagroup.net/live-post/top-risks-2023-4-Inflation-Shockwaves | Eurasia Group | Inflation Shockwaves: Eurasia Group's #4 Top Risk of 2023\n",
      "https://www.eurasiagroup.net/live-post/top-risks-2023-Red-Herrings | Eurasia Group | Red Herrings: Eurasia Group's Top Risk of 2023\n",
      "https://www.evidenceaction.org/bigger-impact-bigger-bang-for-the-buck/ | Bigger Impact, Bigger Bang for the Buck - Evidence Action\n",
      "https://www.ft.com/content/ca159150-148f-4fc9-9ca8-1ab7ef4f98dc?accessToken=zwAAAYWew_eXkdPKFZFQFI9PydOcqBq370-Y3A.MEYCIQDUyfHQN4pWLOztbbaBKdruW7GgNVJWbUe04vKX64vIHwIhAJXBuI9yROfiMDw4jBFnpqrWbSCYvAmaDd00URzDODsX&sharetype=gift&token=d355f5e6-575e-4045-b063-5c72735856b8 | US lawyers’ billable hours hit low point amid deal drought | Financial Times\n",
      "https://www.ft.com/content/e592033b-9e34-4e3d-ae53-17fa34c16009 | Xi Jinping’s plan to reset China’s economy and win back friends | Financial Times\n",
      "https://www.givedirectly.org/inflation/ | Inflation is worst for people in extreme poverty | GiveDirectly\n",
      "https://www.jefftk.com/p/not-getting-hacked | Not Getting Hacked\n",
      "https://www.lawfareblog.com/can-you-spot-difference-between-jan-6-and-jan-8 | Can You Spot the Difference Between Jan. 6 and Jan. 8? - Lawfare\n",
      "https://www.notboring.co/?utm_source=recommendations_page&utm_campaign=35345 | Not Boring by Packy McCormick | Substack\n",
      "https://www.notion.so/2023-Roadmap-b5a7c542ebae4853ac39656483f6927b | 2023 Roadmap\n",
      "https://www.nytimes.com/2023/01/06/science/robots-artificial-intelligence-consciousness.html | ‘Consciousness’ in Robots Was Once Taboo. Now It’s the Last Word. - The New York Times\n",
      "https://www.openphilanthropy.org/research/tobacco-control/ | Tobacco Control - Open Philanthropy\n",
      "https://www.quora.com/How-much-money-did-SpaceX-invest-in-R-D-for-F1-F9-and-FH-and-how-much-is-estimated-to-be-invested-in-R-D-for-BFR | How much money did SpaceX invest in R&D for F1, F9, and FH, and how much is estimated to be invested in R&D for BFR? - Quora\n",
      "https://www.quora.com/What-is-the-annual-budget-of-SpaceX | What is the annual budget of SpaceX? - Quora\n",
      "https://www.siliconrepublic.com/business/apple-rd-pivot-project-titan-electric-car | Apple triples R&D budget to $10bn for biggest pivot yet: Project Titan\n",
      "https://www.slowboring.com/p/a-conversation-with-givewells-elie-f3f | A conversation with GiveWell's Elie Hassenfeld\n",
      "https://www.slowboring.com/p/my-predictions-for-2023 | My predictions for 2023 - by Matthew Yglesias\n",
      "https://www.thediff.co/archive/is-the-business-of-ai-more-like-steel-or-vba/ | Is the Business of AI More Like Steel or VBA?\n",
      "https://www.thefp.com/p/how-dei-is-supplanting-truth-as-the | How DEI Is Supplanting Truth as the Mission of American Universities\n"
     ]
    }
   ],
   "source": [
    "tabs_ = [t for t in tabs if (not ('google.com' in t.lower() and 'search' in t.lower() and not ('docs.google' in t.lower() or 'sheets.google' in t.lower())) and\n",
    "                             not ('docs.google' in t.lower() or 'sheets.google' in t.lower() or 'drive.google' in t.lower()) and\n",
    "                             not 'facebook.com' in t.lower() and\n",
    "                             not 'twitter.com' in t.lower() and\n",
    "                             not ('forum.effectivealtruism' in t.lower() or 'lesswrong' in t.lower()) and\n",
    "                             not ('metaculus' in t.lower() or 'manifold' in t.lower() or 'predictit' in t.lower()) and\n",
    "                             not 'wikipedia' in t.lower() and\n",
    "                             not 'reddit' in t.lower() and\n",
    "                             not 'instagram.com' in t.lower() and\n",
    "                             not ('guarded-everglades-89687.herokuapp.com' in t.lower() or 'localhost' in t.lower()) and\n",
    "                             not 'instacart' in t.lower() and\n",
    "                             not ('morning' in t.lower() and 'dispatch' in t.lower()) and\n",
    "                             not 'amazon.com' in t.lower() and\n",
    "                             not 'github' in t.lower() and\n",
    "                             not 'calendar.google' in t.lower() and\n",
    "                             not 'yout' in t.lower() and\n",
    "                             not 'app.asana.com' in t.lower() and\n",
    "                             not ('messages/' in t.lower() or 'inbox/' in t.lower() or 'mail.gogole' in t.lower() or 'swapcard' in t.lower()))]\n",
    "tabs_ = sorted(tabs_)\n",
    "print_tabs(tabs_, label='Other')\n",
    "\n"
   ]
  },
  {
   "cell_type": "code",
   "execution_count": 26,
   "id": "c9a2a7bb-86f9-45bd-b8d6-ed8889caed90",
   "metadata": {},
   "outputs": [],
   "source": [
    "#open_tabs(tabs_, page=1, per_page=60)"
   ]
  },
  {
   "cell_type": "code",
   "execution_count": 27,
   "id": "6c128ee3-03e2-4cfb-bfd1-0dfc84775af1",
   "metadata": {},
   "outputs": [
    {
     "name": "stdout",
     "output_type": "stream",
     "text": [
      "## Shuffled all tabs ## (188 tabs)\n",
      "\n",
      "https://forum.effectivealtruism.org/posts/tg2WmhuAoXxCHgzxJ/my-personal-takeaways-from-eagxlatam | My personal takeaways from EAGxLatAm - EA Forum\n",
      "https://www.lesswrong.com/posts/tepqESMuRmyhtmDS7/forecasting-progress-in-language-models | Forecasting progress in language models - LessWrong\n",
      "https://ourworldindata.org/artificial-intelligence#all-our-interactive-charts-on-artificial-intelligence | Artificial Intelligence - Our World in Data\n",
      "https://www.ft.com/content/e592033b-9e34-4e3d-ae53-17fa34c16009 | Xi Jinping’s plan to reset China’s economy and win back friends | Financial Times\n",
      "https://rychappell.substack.com/p/consequentialism-beyond-action | Consequentialism Beyond Action - by Richard Y Chappell\n",
      "https://www.metaculus.com/questions/13039/chickens-slaughtered-for-meat/ | Chickens Slaughtered for Meat | Metaculus\n",
      "https://www.metaculus.com/questions/12961/total-global-fatalities-from-terrorism/ | Total Global Fatalities from Terrorism | Metaculus\n",
      "https://docs.google.com/document/d/1kT_u3P70_FONgTiTpEIVHnfh-08MIbFo_SD_5xbUTbc/edit#heading=h.esfx3im4r194 | Operations Department Strategy - Google Docs\n",
      "https://github.com/peterhurford/future-assessment-model/blob/main/(2)%20Cotra%20Timeline%20Models.ipynb | future-assessment-model/(2) Cotra Timeline Models.ipynb at main · peterhurford/future-assessment-model\n",
      "https://astralcodexten.substack.com/p/how-do-ais-political-opinions-change | How Do AIs' Political Opinions Change As They Get Smarter And Better-Trained?\n",
      "https://www.lesswrong.com/posts/ZEgQGAjQm5rTAnGuM/beware-boasting-about-non-existent-forecasting-track-records | Beware boasting about non-existent forecasting track records - LessWrong\n",
      "https://www.lesswrong.com/posts/X3p8mxE5dHYDZNxCm/a-concrete-bet-offer-to-those-with-short-ai-timelines | A concrete bet offer to those with short AI timelines - LessWrong\n",
      "https://www.metaculus.com/questions/13075/greatest-computation-used-in-ai-training/ | Greatest Computation Used in AI Training | Metaculus\n",
      "https://www.quora.com/What-is-the-annual-budget-of-SpaceX | What is the annual budget of SpaceX? - Quora\n",
      "https://www.metaculus.com/questions/14327/gpt-4-number-of-parameters/ | GPT-4 Number of Parameters | Metaculus\n",
      "https://docs.google.com/spreadsheets/d/16hvXilmBtN4X5tPiaxqnfcSjbeVZ-ux0Dt_hwqJr_-s/edit#gid=0 | R&D and Megaprojects Budgets Summary - Google Sheets\n",
      "https://docs.google.com/spreadsheets/d/1fk6jAn4rpbx1T9kKYl-3C9TJHQA8ZC6lFNpT5QawNbs/edit#gid=333449817 | 2023 Stats - Google Sheets\n",
      "https://www.notboring.co/?utm_source=recommendations_page&utm_campaign=35345 | Not Boring by Packy McCormick | Substack\n",
      "https://docs.google.com/document/d/1St1a9FRB2aQ-vIRtKO8eF8rd7Ohht-YZbCfYjtSP904/edit | 2023 List: List of Potential things RP could do in 2023 for lots of impact - Google Docs\n",
      "https://www.atlanticcouncil.org/content-series/atlantic-council-strategy-paper-series/risks-opportunities-2023/ | The top 23 risks and opportunities for 2023 - Atlantic Council\n",
      "https://rootsofprogress.org/the-four-hour-workday-prediction | Why didn't we get the four-hour workday?\n",
      "https://twitter.com/PradyuPrasad/status/1613150421539000321 | (1) Pradyumna on Twitter: \"So we're probably a few years from AI created pathogens (probably human directed) that cause pandemics right?\" / Twitter\n",
      "https://docs.google.com/document/d/1m_-XgZgBs0LZHplodgBbGcpiGtNWalPxPBjGOwF6rig/edit | Macrocalendar - Google Docs\n",
      "https://twitter.com/GaryMarcus/status/1612299019090558976 | (1) Gary Marcus on Twitter: \"Apologies that @EzraKlein interview happened mostly to mention men (partly because focus was on OpenAI). here are 10 of the many great women in AI I follow: @Abebab @AlisonGopnik @AnjaKasp @MelMitchell1 @mer__edith @mmitchell_ai @frossi_t @YejinChoinka @suchisaria @SColesPorter\" / Twitter\n",
      "https://guarded-everglades-89687.herokuapp.com/update/129726/?url=&title=&aggregator=&before=&after=&sort=random&page=1&starred= | Update Link\n",
      "https://www.metaculus.com/questions/8484/trafalgar-group-vs-538-polling-average-2022/ | Trafalgar Group vs. 538 Polling Average 2022 | Metaculus\n",
      "https://www.metaculus.com/questions/13003/oecd-trust-in-government/ | OECD Trust in Government | Metaculus\n",
      "https://twitter.com/PradyuPrasad/status/1612956767822155776 | (1) Pradyumna on Twitter: \"Very interesting paper documenting the rise of industrial innovation policy in the US (via @krishkhubchand). A 🧵 about its findings and some thoughts in the end https://t.co/yW9GR5JAvE\" / Twitter\n",
      "https://toot.community/@TetraspaceGrouping@mastodon.social/109670774864038505 | Tetraspace 💎: \"How parallel are US / China AI…\" - toot.community\n",
      "https://www.google.com/search?q=meta+spending+on+the+metaverse | meta spending on the metaverse - Google Search\n",
      "https://ridl.io/the-russo-ukrainian-war-ten-months-in-taking-stock/ | The Russo-Ukrainian war ten months in: taking stock – Riddle Russia\n",
      "https://rychappell.substack.com/p/deontic-pluralism | Deontic Pluralism - by Richard Y Chappell - Good Thoughts\n",
      "https://docs.google.com/document/d/1y87kOWXwkB3r20qjSfFbluDvHhpGidshNJt55_z0_r4/edit# | December-January GLT strategy meetings [weekly] - Google Docs\n",
      "https://guarded-everglades-89687.herokuapp.com/update/132030/?url=&title=&aggregator=&before=&after=&sort=random&page=1&starred= | Update Link\n",
      "https://twitter.com/ryancareyai/status/1612144812391825408 | (2) Ryan Carey on Twitter: \"PSA: I would recommend everyone I know who is eligible (BMI&gt;30, or &gt;27 with a comorbidity) consider semaglutide. The short &amp; longterm health &amp; wellbeing benefits of losing an expected 15% of bodyweight are large, the side effects minor, &amp; the $-cost acceptable.\" / Twitter\n",
      "https://docs.google.com/document/d/1r0TPCpivFX3sHbcDdRc2ZC85tiocnFZyii2woVVacMs/edit#heading=h.wvdf5y3j47ca | AI Reading Notes - Google Docs\n",
      "https://twitter.com/JaEsf/status/1613272031419850753 | Jacob Eliosoff on Twitter: \"@peterwildeford Quick thoughts: 1. I would basically represent that as picking six numbers in [0,1], sorting them, and taking the 7 diffs [n1-0, n2-n1, ..., 1-n6] as your seven inputs\" / Twitter\n",
      "https://toot.community/@hausfath@fediscience.org/109666233210437510 | Zeke Hausfather: \"While many regions of the worl…\" - toot.community\n",
      "https://docs.google.com/spreadsheets/d/108xc4uUGFlcgSdLK9hlQ_knXo-8DzhMNxUa6Wux-UTs/edit#gid=365694952 | DRAFTING RP 2023 Draft Budget - Google Sheets\n",
      "https://guarded-everglades-89687.herokuapp.com/update/128889/?url=&title=&aggregator=&before=&after=&sort=random&page=1&starred= | Update Link\n",
      "https://www.metaculus.com/questions/11373/prevent-pandemics-act-made-law/ | PREVENT Pandemics Act Made Law | Metaculus\n",
      "https://twitter.com/QVagabond/status/1613261982253174785 | Gianluca Truda📍London on Twitter: \"Today we learned: Prompting ChatGPT as though it were a twitter follower gets better outputs (n=1).\" / Twitter\n",
      "https://guarded-everglades-89687.herokuapp.com/update/152508/?url=&title=&aggregator=&before=&after=&sort=random&page=1&starred= | Update Link\n",
      "https://twitter.com/DeepMind/status/1613159943040811010 | DeepMind on Twitter: \"Introducing DreamerV3: the first general algorithm to collect diamonds in Minecraft from scratch - solving an important challenge in AI. 💎 It learns to master many domains without tuning, making reinforcement learning broadly applicable. Find out more: https://t.co/7GP0R93Yvc https://t.co/YacIDojAF1\" / Twitter\n",
      "https://smile.amazon.com/How-Calm-Your-Mind-Productivity-ebook/dp/B09WM9PTD9?ref_=ast_sto_dp&sa-no-redirect=1 | AmazonSmile: How to Calm Your Mind: Finding Presence and Productivity in Anxious Times eBook : Bailey, Chris: Kindle Store\n",
      "https://guarded-everglades-89687.herokuapp.com/update/14103/?url=&title=&aggregator=&before=&after=&sort=random&page=1&starred= | Update Link\n",
      "https://www.ft.com/content/ca159150-148f-4fc9-9ca8-1ab7ef4f98dc?accessToken=zwAAAYWew_eXkdPKFZFQFI9PydOcqBq370-Y3A.MEYCIQDUyfHQN4pWLOztbbaBKdruW7GgNVJWbUe04vKX64vIHwIhAJXBuI9yROfiMDw4jBFnpqrWbSCYvAmaDd00URzDODsX&sharetype=gift&token=d355f5e6-575e-4045-b063-5c72735856b8 | US lawyers’ billable hours hit low point amid deal drought | Financial Times\n",
      "https://twitter.com/labenz/status/1611724185709027328 | Nathan Labenz on Twitter: \"as an AI obsessive and long-time @ezraklein fan, I was excited to see yesterday's podcast with @GaryMarcus. Unfortunately, as I listened, my excitement gave way to frustration, and I felt compelled to write my first-ever megathread. Quotes from: https://t.co/ePWGXvaoMc\" / Twitter\n",
      "https://baseratesblog.substack.com/p/deep-hope | Deep hope - by Ollie Base - Base Rates\n",
      "https://docs.google.com/document/d/1qV_mNjkpTZEbvS6VUAbTuOYziRgnmAkQcU6zyku_St8/edit#heading=h.ygytguappa89 | Ben’s longtermist incubator notes 2022-12-19 - Google Docs\n",
      "https://forum.effectivealtruism.org/posts/mgurctbDAP8bGeHCb/how-did-our-historical-moral-heroes-deal-with-severe | How did our historical moral heroes deal with severe adversity and/or moral compromise? - EA Forum\n",
      "https://twitter.com/nonmayorpete/status/1612664664214892551 | Pete on Twitter: \"The Microsoft &lt;&gt; OpenAI news is much bigger than we first thought: - $10 billion investment in the works, with Microsoft getting 75% of revenue until it recoups all $10b - GPT in Office, not just Bing\" / Twitter\n",
      "https://www.metaculus.com/questions/12979/total-annual-investment-in-ai-companies/ | Total Annual Investment in AI Companies | Metaculus\n",
      "https://docs.google.com/spreadsheets/d/1jdYBDLrhBgVaf1WqjIlFiksyTemD-U9eIka1Amtwkno/edit#gid=0 | 2023 Jan Lights - Google Sheets\n",
      "https://twitter.com/GaryMarcus/status/1612155191616483329 | (1) Gary Marcus on Twitter: \"This popular defense of #GPT is fundamentally misguided. Its main claim is that ChatGPT has substantially solved an earlier set of problems, and that’s just not true. Consider examples like these just *from the last 48 hours*, all reinforcing my fundamental points. [Thread] https://t.co/GKGi8ua9Qm\" / Twitter\n",
      "https://www.eurasiagroup.net/live-post/top-risks-2023-1-Rogue-Russia | Eurasia Group | Rogue Russia: Eurasia Group's #1 Top Risk of 2023\n",
      "https://www.eurasiagroup.net/live-post/top-risks-2023-4-Inflation-Shockwaves | Eurasia Group | Inflation Shockwaves: Eurasia Group's #4 Top Risk of 2023\n",
      "https://docs.google.com/document/d/1A1xgFdrCjrnbV-jFd-1679ooSpIJ4u8CmBIarSfXpnk/edit#heading=h.c760bkr00111 | Worldview Investigations Team Overview - Google Docs\n",
      "https://www.lesswrong.com/posts/CoZhXrhpQxpy9xw9y/where-i-agree-and-disagree-with-eliezer?commentId=C4F5i6gF6vhkYSSXL | Where I agree and disagree with Eliezer - LessWrong\n",
      "https://www.notion.so/2023-Roadmap-b5a7c542ebae4853ac39656483f6927b | 2023 Roadmap\n",
      "https://forum.effectivealtruism.org/posts/RWQ6Pqc4s8yq2fSjg/forecasting-extreme-outcomes | Forecasting extreme outcomes - EA Forum\n",
      "https://mail.google.com/mail/u/1/#inbox | Inbox - peter@rethinkpriorities.org - Rethink Priorities Mail\n",
      "https://en.wikipedia.org/wiki/SpaceX | SpaceX - Wikipedia\n",
      "https://www.metaculus.com/questions/12949/global-nuclear-warhead-stockpiles/ | Global Nuclear Warhead Stockpiles | Metaculus\n",
      "https://docs.google.com/document/d/1wDQvtClBt08zJxkLcT9y4M1MHQJNYfoPlCAGUX_QzIs/edit# | Ben's thoughts about what he should do in (Q1) 2023 2023-01-05 - Google Docs\n",
      "https://www.metaculus.com/questions/12985/people-living-in-liberal-democracies/ | People Living in Liberal Democracies | Metaculus\n",
      "https://smile.amazon.com/gp/css/order-history?ref_=nav_orders_first | Your Orders\n",
      "https://twitter.com/labenz/status/1612875598627573760 | Nathan Labenz on Twitter: \"Only ~72 hours since I posted this deep-dive thread on the latest LLM capabilities, training techniques, and mechanistic interpretability results. A key goal was to show how fast the AI frontier is moving, and ... already we have an important update! https://t.co/aq4Gq23v1S\" / Twitter\n",
      "https://toot.community/@danluu@mastodon.social/109667072227418478 | Dan Luu: \"I'm thinking about getting a \"…\" - toot.community\n",
      "https://www.animal-ethics.org/animal-ethics-in-2022-the-year-in-review/ | Animal Ethics in 2022: The year in review — Animal Ethics\n",
      "https://twitter.com/bryan_caplan/status/1612510666845474818 | Bryan Caplan on Twitter: \"\"The AI mixes up absolute and comparative advantage! The fact that American workers are more productive at steel than Mexicans does not show Americans have a comparative advantage in steel.\" https://t.co/Bf5EmobKDp\" / Twitter\n",
      "https://www.instagram.com/givedirectly/ | GiveDirectly (@givedirectly) • Instagram photos and videos\n",
      "https://www.lesswrong.com/posts/sbb9bZgojmEa7Yjrc/updating-my-ai-timelines | Updating my AI timelines - LessWrong\n",
      "https://www.cnbc.com/2021/02/19/spacex-valuation-driven-by-elon-musks-starship-and-starlink-projects.html | SpaceX valuation driven by Elon Musk's Starship and Starlink projects\n",
      "https://jstribune.com/hass-bidens-measured-response-to-chinas-activism-in-the-middle-east/ | Biden’s Measured Response to China’s Activism in the Middle East – The Jerusalem Strategic Tribune\n",
      "https://en.wikipedia.org/wiki/List_of_units_of_the_United_States_Navy | List of units of the United States Navy - Wikipedia\n",
      "https://www.metaculus.com/questions/13787/petaflops-during-gpt-4-training/ | PetaFLOPs during GPT-4 training | Metaculus\n",
      "https://time.com/6243557/positive-stories-2022/ | From Vaccines to Golden Rice: 10 Positive Stories From 2022 | Time\n",
      "https://www.businessinsider.com/mark-reuss-gm-cruise-spending-billions-ford-argo-fold-2022-12 | Why GM's Still Spending Billions on Self-Driving Outfit Cruise\n",
      "https://www.instagram.com/ourworldindata/ | Our World in Data (@ourworldindata) • Instagram photos and videos\n",
      "https://www.jefftk.com/p/not-getting-hacked | Not Getting Hacked\n",
      "https://www.slowboring.com/p/a-conversation-with-givewells-elie-f3f | A conversation with GiveWell's Elie Hassenfeld\n",
      "https://www.metaculus.com/questions/12997/world-population/ | World Population | Metaculus\n",
      "https://twitter.com/profwolff/status/1612283150700318722 | Richard D. Wolff on Twitter: \"Were Ukraine winning, it would not need to beg for more tanks, armored vehicles, etc. Its allies would not need to give them.\" / Twitter\n",
      "https://thehustle.co/spacex-third-most-valuable-vc-backed-company-in-the-us/ | After years of R&D, SpaceX is set to be the US’s 3rd most valuable VC-backed company  - The Hustle\n",
      "https://toot.community/@jazzbox35@sigmoid.social/109663302472954069 | Mike Archbold: \"@garymarcus This is a pretty …\" - toot.community\n",
      "https://www.eurasiagroup.net/issues/top-risks-2023 | Eurasia Group | The Top Risks of 2023\n",
      "https://www.instagram.com/high.impact.athletes/ | HIA | Athletes Giving Back (@high.impact.athletes) • Instagram photos and videos\n",
      "https://www.givedirectly.org/inflation/ | Inflation is worst for people in extreme poverty | GiveDirectly\n",
      "https://www.metaculus.com/questions/12955/cost-of-sequencing-whole-human-genome/ | Cost of Sequencing Whole Human Genome | Metaculus\n",
      "https://twitter.com/lukeprog/following | People followed by Luke Muehlhauser (@lukeprog) / Twitter\n",
      "https://www.businessinsider.com/redfin-lay-off-workers-housing-market-read-email-mortgages-compass-2022-6 | Read the Email Redfin's CEO Sent to Staff Announcing 470 Layoffs\n",
      "https://oneusefulthing.substack.com/?utm_source=homepage_recommendations&utm_campaign=35345 | One Useful Thing (And Also Some Other Things) | Ethan Mollick | Substack\n",
      "https://www.metaculus.com/questions/13074/pro-forecasting-forecasting-owid-discussion/ | [Pro Forecasting] Forecasting OWID Discussion | Metaculus\n",
      "https://manifold.markets/Tetraspace/what-is-the-fate-of-our-universesha | What is the fate of our universe-shard? | Manifold Markets\n",
      "https://www.metaculus.com/questions/13009/global-homicide-rate/ | Global Homicide Rate | Metaculus\n",
      "https://docs.google.com/spreadsheets/d/1cLzO_tX9b4z6URKLFvzc0MtsN4GrftkFZuv1bCxeWVY/edit#gid=555410569 | ML Spending Trends - Google Sheets\n",
      "https://docs.google.com/spreadsheets/d/1rvLHWcQMZyq_2MRdNGzHsV3FBj2ekMshHPQviVZ1ViE/edit#gid=921862743 | RP Projects Impact - Google Sheets\n",
      "https://docs.google.com/document/d/1yguh5haUEMRXxxXn4sdzU91AU8EhjNkD_5fog2F_-PY/edit | Questions from Max re: OP grants - Google Docs\n",
      "https://www.lesswrong.com/posts/wB7hdo4LDdhZ7kwJw/we-don-t-trade-with-ants | We don’t trade with ants - LessWrong\n",
      "https://www.metaculus.com/questions/12991/us-gdp-per-hour-worked-productivity/ | US GDP Per Hour Worked (Productivity) | Metaculus\n",
      "https://plus.thebulwark.com/?utm_source=recommendations_page&utm_campaign=35345 | Bulwark+ | Substack\n",
      "https://www.metaculus.com/questions/13027/share-living-where-same-sex-marriage-is-legal/ | Share Living Where Same-Sex Marriage is Legal | Metaculus\n",
      "https://twitter.com/JgaltTweets/status/1612233878550511616 | JgaltTweets on Twitter: \"@peterwildeford It would be interesting to see people directly questioned on why they continue doing it if they're significantly bothered by it; is it an addiction? They'd like to quit, and have tried, but can't? 🤔\" / Twitter\n",
      "https://noahpinion.substack.com/p/why-paul-ehrlich-got-everything-wrong | Why Paul Ehrlich got everything wrong - by Noah Smith\n",
      "https://getcoldturkey.com/features/ | Cold Turkey - Features\n",
      "https://www.evidenceaction.org/bigger-impact-bigger-bang-for-the-buck/ | Bigger Impact, Bigger Bang for the Buck - Evidence Action\n",
      "https://www.metaculus.com/questions/9519/flops-used-for-gpt-4-if-released/ | How many parameters will GPT-4 have? | Metaculus\n",
      "https://docs.google.com/document/d/11AiizBYQQagjMF3AENBhhYLc4Cs3WjnCagRx7cmfSyo/edit?fbclid=IwAR2bpvI_8kIY4Gwc4flodbD0_igcyEWRsWqUda4FL-iv0o9wbWwH3Xs5v7c&pli=1 | Cambridge Boston Alignment Initiative Job Descriptions - Google Docs\n",
      "https://docs.google.com/document/d/1QplktgJzt2Njaizu8TI4thjtetc5EzOLknYEubl7ZHg/edit# | *NEWEST* Copy of Kieran's meeting with Co-CEO(s) Running Agenda - Google Docs\n",
      "https://docs.google.com/document/d/1q2_DcbAU50V9tNe13B-gu306sZYC8TpXovR7NKP7cYs/edit# | Impact, Strategy, and OKR Meeting Agendas - Google Docs\n",
      "https://twitter.com/GaryMarcus/status/1612598675129401345 | Gary Marcus on Twitter: \"Want to help make large language models like ChatGPT better? Read this. (Even better, please considering sharing). #citizenscience for #GPT https://t.co/V3xDRPfWmy\" / Twitter\n",
      "https://www.quora.com/How-much-money-did-SpaceX-invest-in-R-D-for-F1-F9-and-FH-and-how-much-is-estimated-to-be-invested-in-R-D-for-BFR | How much money did SpaceX invest in R&D for F1, F9, and FH, and how much is estimated to be invested in R&D for BFR? - Quora\n",
      "https://www.dwarkeshpatel.com/p/holden-karnofsky#details | Holden Karnofsky - Transformative AI & Most Important Century\n",
      "https://smile.amazon.com/Zoeys-Extraordinary-Return/dp/B08SBJNC7Z/ref=sr_1_2?crid=2VYXMNI4Y6DJJ&keywords=zoe%27s+extraordinary+playlist&qid=1673416980&sprefix=zoe%27s+extraordinary+playlist%2Caps%2C81&sr=8-2 | Watch Zoey's Extraordinary Playlist, Season 2 | Prime Video\n",
      "https://twitter.com/powerfultakes/status/1612847897573298177/photo/1 | (3) Anatoly Karlin on Twitter: \"Increasingly seems China is washing hands of Russia's adventure, now as good as claiming that Xi misunderstood Putin (despite the latter's kindly waiting for Beijing Olympics to finish) &amp; sidling up to Europeans who despite China no less than Americans. https://t.co/K3npOE4E7D https://t.co/cJtSKJgFX0\" / Twitter\n",
      "https://www.eclipseaviation.com/how-much-does-spacex-spend-per-year/ | How Much Does Spacex Spend Per Year? – EclipseAviation.com\n",
      "https://www.cbai.ai/winter-ml-bootcamp | ML Bootcamp — Cambridge Boston Alignment Initiative\n",
      "https://twitter.com/paul_scharre/status/1609214125594263552 | (3) Paul Scharre on Twitter: \"1/ 🎯 This new article by @sarahbauerle &amp; @EmilyKilcrease1 nails the fatal flaw in recent U.S. chip export controls 👇 [THREAD] https://t.co/mAOxX0Y3LK\" / Twitter\n",
      "https://www.metaculus.com/questions/13045/per-capita-primary-energy-consumption/ | Per Capita Primary Energy Consumption | Metaculus\n",
      "https://www.youtube.com/watch?v=G4lvzB_mA04 | Nowhere To Run - Zoey's Extraordinary Playlist (Full Version) - YouTube\n",
      "https://github.com/peterhurford/future-assessment-model/blob/main/(3)%20When%20TAI%3F.ipynb | future-assessment-model/(3) When TAI?.ipynb at main · peterhurford/future-assessment-model\n",
      "https://thedispatch.com/newsletter/frenchpress/apply-the-hillary-clinton-rule-to/ | Apply the Hillary Clinton Rule to Donald Trump - The Dispatch\n",
      "https://twitter.com/CineraVerinia/status/1612205486509797376 | 𝕮𝖎𝖓𝖊𝖗𝖆 (0/16 AI Safety Projects Completed) on Twitter: \"🧵 of AI Safety projects I'd complete 2023 - 2024[1] if I had 2 standard deviations better executive functioning. I'll give estimated durations by extrapolating my \"pace\"[2]. I'd be grateful if readers identified projects they're most excited about; might help me prioritise.\" / Twitter\n",
      "https://guarded-everglades-89687.herokuapp.com/?url=kuhn | Upcoming Links\n",
      "https://www.metaculus.com/questions/13033/life-expectancy-at-birth-in-the-g7/ | Life Expectancy at Birth in the G7 | Metaculus\n",
      "https://www.metaculus.com/questions/12268/apps-benchmark-sota-in-2022-2025/ | APPS Benchmark SOTA in 2022 - 2025 | Metaculus\n",
      "https://www.lesswrong.com/posts/Z5gPrKTR2oDmm6fqJ/three-reasons-to-expect-long-ai-timelines | Three reasons to expect long AI timelines - LessWrong\n",
      "https://www.google.com/search?q=tesla+r%26d+spending&rlz=1C5CHFA_enUS925US925&oq=tesla+r%26d+spending&aqs=chrome..69i57j0i22i30j0i390l4.2231j0j1&sourceid=chrome&ie=UTF-8 | tesla r&d spending - Google Search\n",
      "https://airtable.com/appQbatI4fkmVLxHl/tblO0RqaTPXiz0jjp/viwshWVlP4Pzd70c4/recBxWRhZqgRGanIZ?blocks=hide | Redux Again Again: Org Management - Airtable\n",
      "https://www.thefp.com/p/how-dei-is-supplanting-truth-as-the | How DEI Is Supplanting Truth as the Mission of American Universities\n",
      "https://sfstandard.com/technology/these-doctors-pushed-masking-covid-lockdowns-on-twitter-turns-out-they-dont-exist/ | These Doctors Pushed Covid Lockdowns On Twitter. Turns Out They Don’t Exist\n",
      "https://www.eurasiagroup.net/live-post/top-risks-2023-2-Maximum-Xi | Eurasia Group | Maximum Xi: Eurasia Group's #2 Top Risk of 2023\n",
      "https://www.metaculus.com/questions/12943/global-fertility-rate/ | Global Fertility Rate | Metaculus\n",
      "https://www.youtube.com/watch?v=05ziSP8MtQ0 | Thomas Frank feat. Airplane Mode – Burn the Sails - YouTube\n",
      "https://www.google.com/search?q=cruise+r%26d+spending&rlz=1C5CHFA_enUS925US925&oq=cruise+r%26d+spending&aqs=chrome..69i57j0i546.5520j0j1&sourceid=chrome&ie=UTF-8 | cruise r&d spending - Google Search\n",
      "https://twitter.com/search?q=(from%3Apeterwildeford)%20reset&src=typed_query&f=live | (20) (from:peterwildeford) reset - Twitter Search / Twitter\n",
      "https://docs.google.com/spreadsheets/d/14gEqOpr3GucAH2AqXC5B_5A5-aLrFAy9k2CH6Egt0LM/edit#gid=172531079 | Copy of [for release] 2022 ACX Prediction Contest predictions - Google Sheets\n",
      "https://www.metaculus.com/questions/13021/cagr-gdp-growth-per-capita/ | CAGR GDP Growth Per Capita | Metaculus\n",
      "https://www.thediff.co/archive/is-the-business-of-ai-more-like-steel-or-vba/ | Is the Business of AI More Like Steel or VBA?\n",
      "https://www.cnn.com/2023/01/09/politics/taiwan-invasion-war-game-intl-hnk-ml/index.html | Taiwan: War game simulation suggests Chinese invasion of Taiwan would fail at a huge cost to US, Chinese and Taiwanese militaries | CNN Politics\n",
      "https://nickbostrom.com/aievolution.pdf | How Hard is Artificial Intelligence? Evolutionary Arguments and Selection Effects\n",
      "https://news.ycombinator.com/item?id=23370130 | SpaceX runs basically as a giant R&D program that also happens to accomplish use... | Hacker News\n",
      "https://www.lesswrong.com/posts/qnjDGitKxYaesbsem/a-comment-on-ajeya-cotra-s-draft-report-on-ai-timelines | A comment on Ajeya Cotra's draft report on AI timelines - LessWrong\n",
      "https://www.metaculus.com/questions/13015/annual-number-of-objects-launched-into-space/ | Annual Number of Objects Launched Into Space | Metaculus\n",
      "https://techcrunch.com/2022/04/26/gm-expects-to-spend-2b-on-cruise-in-2022/ | GM expects to spend $2B on Cruise in 2022 | TechCrunch\n",
      "https://www.metaculus.com/questions/12973/global-co2-emissions/ | Global CO2 Emissions | Metaculus\n",
      "https://www.metaculus.com/questions/13052/flops-of-fastest-supercomputer/ | FLOPS of Fastest Supercomputer | Metaculus\n",
      "https://twitter.com/MatthewJBar/status/1612221157104832513 | Matthew Barnett on Twitter: \"One of the most common arguments against AGI being near is the following take: AI has gone through many boom and bust cycles before in which people thought we were close, but we ended up being far. This boom will also bust. Ultimately, I find this argument quite weak. 🧵\" / Twitter\n",
      "https://docs.google.com/document/d/1QtDKOOZVU03kM1c57F6EjFUiskIMTjGTPEDOyAze8oU/edit#heading=h.lktgjhaxvknw | 2023 Directors' Retreat Participants' Guide - Google Docs\n",
      "https://www.facebook.com/80000Hours | (3) 80,000 Hours | Facebook\n",
      "https://en.wikipedia.org/wiki/Founder%27s_syndrome | Founder's syndrome - Wikipedia\n",
      "https://astralcodexten.substack.com/p/stage-2-of-prediction-contest | Stage 2 Of Prediction Contest - by Scott Alexander\n",
      "https://www.eurasiagroup.net/live-post/top-risks-2023-Red-Herrings | Eurasia Group | Red Herrings: Eurasia Group's Top Risk of 2023\n",
      "https://causalinf.substack.com/?utm_source=recommendations_page&utm_campaign=35345 | Scott's Substack | scott cunningham | Substack\n",
      "https://www.lawfareblog.com/can-you-spot-difference-between-jan-6-and-jan-8 | Can You Spot the Difference Between Jan. 6 and Jan. 8? - Lawfare\n",
      "https://www.metaculus.com/questions/12967/global-poverty-10-2011-int-usd-per-day/ | Global Poverty (<$10 2011 INT USD per day) | Metaculus\n",
      "https://twitter.com/MatthewJBar/status/1613003520936120322 | Matthew Barnett on Twitter: \".@bryan_caplan says he is not impressed by ChatGPT, as it scored a D on his labor economics exam. But does he expect the technology to improve? I'd be happy to bet him that language models will consistently earn A's on his exams before 2028. https://t.co/8XMaeAB2vj\" / Twitter\n",
      "https://www.cvxpy.org/examples/index.html#basic | https://www.cvxpy.org/examples/index.html#basic\n",
      "https://openai.com/blog/forecasting-misuse/ | Forecasting Potential Misuses of Language Models for Disinformation Campaigns—and How to Reduce Risk\n",
      "https://twitter.com/bctallis/status/1612105940441915395 | Benjamin Tallis 🇺🇦 on Twitter: \"1. What is Neo-Idealism? (seeing as many of you have asked) It’s a new approach to Grand Strategy &amp; International Relations that I think we can see emerging in responses to #Russia’s war &amp; from #Ukraine’s brave resistance. 1st 🧵in a series on #NeoIdealism 1/25 https://t.co/QiA07znl7s\" / Twitter\n",
      "https://twitter.com/MaxCRoser/status/1612934517030789120 | (1) Max Roser on Twitter: \"Some statistics are worth knowing by heart: The average – mean – income in the world is $18 per person per day. It is the latest data (from 2019). This is adjusted for price differences between countries.\" / Twitter\n",
      "https://docs.google.com/document/d/1HCq7iQndwb515ZRG2tZuqjgbvaCVWxrgQBkrk4owdMw/edit#heading=h.u5dqijwni5f6 | Max Dalton <> Michael Aird - 2022 & 2023 - RP & CEA coordination - Google Docs\n",
      "https://noahpinion.substack.com/p/techno-optimism-for-2023?utm_source=profile&utm_medium=reader2 | Techno-optimism for 2023 - by Noah Smith - Noahpinion\n",
      "https://smile.amazon.com/Hyperfocus-Manage-Attention-World-Distraction/dp/0525522255/ref=tmm_pap_swatch_0?_encoding=UTF8&qid=1672612983&sr=8-1&sa-no-redirect=1 | Hyperfocus: How to Manage Your Attention in a World of Distraction: Bailey, Chris: 9780525522256: AmazonSmile: Books\n",
      "https://braddelong.substack.com/?utm_source=recommendations_page&utm_campaign=35345 | Brad DeLong's Grasping Reality | Substack\n",
      "https://twitter.com/Wertwhile/status/1609177422074896386 | Joel Wertheimer on Twitter: \"Have so many complaints about this article I don't know where to begin. https://t.co/qWsSZR3sAs\" / Twitter\n",
      "https://noahpinion.substack.com/p/the-polandmalaysia-model | The Poland/Malaysia model - by Noah Smith - Noahpinion\n",
      "https://www.siliconrepublic.com/business/apple-rd-pivot-project-titan-electric-car | Apple triples R&D budget to $10bn for biggest pivot yet: Project Titan\n",
      "https://aws.amazon.com/lambda/ | Serverless Computing - AWS Lambda - Amazon Web Services\n",
      "https://toot.community/@timnitGebru@dair-community.social | Timnit Gebru (she/her) (@timnitGebru@dair-community.social) - toot.community\n",
      "https://www.nytimes.com/2023/01/06/science/robots-artificial-intelligence-consciousness.html | ‘Consciousness’ in Robots Was Once Taboo. Now It’s the Last Word. - The New York Times\n",
      "https://garymarcus.substack.com/p/is-microsoft-about-to-get-the-deal | Is Microsoft about to get the deal of the century? Or is Sam Altman unloading OpenAI at just the right time?\n",
      "http://localhost:8888/lab/tree/Fundraising%20Forecast%20Lite.ipynb | Fundraising%… - JupyterLab\n",
      "https://www.slowboring.com/p/my-predictions-for-2023 | My predictions for 2023 - by Matthew Yglesias\n",
      "https://80000hours.org/podcast/episodes/jeffrey-lewis-common-misconceptions-about-nuclear-weapons/ | Jeffrey Lewis on the most common misconceptions about nuclear weapons - 80,000 Hours\n",
      "https://www.alignmentforum.org/s/yivyHaCAmMJ3CqSyj/p/eqvvDM25MXLGqumnf | 200 COP in MI: Interpreting Reinforcement Learning - AI Alignment Forum\n",
      "https://www.metaculus.com/tournament/forecasting-Our-World-in-Data/ | Forecasting Our World in Data | Metaculus\n",
      "https://theovershoot.co/?utm_source=recommendations_page&utm_campaign=35345 | The Overshoot | Matthew C. Klein | Substack\n",
      "https://docs.google.com/document/d/1_1VGgCA7JUSop7A2nl33W2oh8JaQsXvscq4AFoTUPKc/edit#heading=h.um1xeitrnvry | Have EA ideas/people been net harmful via majorly increasing the chance of DM, OAI, and Anthropic existing? [rough notes] - Google Docs\n",
      "https://mail.google.com/mail/u/0/#inbox | Inbox (4) - peter@peterhurford.com - Peter Hurford Mail\n",
      "https://www.openphilanthropy.org/research/tobacco-control/ | Tobacco Control - Open Philanthropy\n",
      "https://www.lesswrong.com/posts/AfH2oPHCApdKicM4m/two-year-update-on-my-personal-ai-timelines#Considering_endogeneities_in_spending_and_research_progress | Two-year update on my personal AI timelines - LessWrong\n",
      "https://docs.google.com/document/d/1h7sNhLuMO2n1FQxbzve5Gpyrl1VzfkT4hqewWqKwVKc/edit#heading=h.osty8jeclpyn | GHD strategy (2022) - Google Docs\n",
      "https://docs.google.com/spreadsheets/d/1Ji5S1k3lAMcTdNqFiz4Ft2hJGskT8HIkqHoEs9zIka8/edit#gid=1504567663 | RP Org Chart - January 2023 - Google Sheets\n",
      "https://manifold.markets/MatthewBarnett/will-gpt4-get-the-monty-fall-proble#916asMIzg1CMXtgfqJdI | Will GPT-4 get the Monty *Fall* problem correct? | Manifold Markets\n",
      "https://docs.google.com/document/d/1iVmi58PLVUaSSu5Qm2F_OBFFNmUxjPVvpt1f6qLGx_k/edit# | Bimonthly Hiring and Budgeting Meeting Agenda - Google Docs\n",
      "https://forum.effectivealtruism.org/posts/8c7LycgtkypkgYjZx/agi-and-the-emh-markets-are-not-expecting-aligned-or | AGI and the EMH: markets are not expecting aligned or unaligned AI in the next 30 years - EA Forum\n"
     ]
    }
   ],
   "source": [
    "random.shuffle(tabs)\n",
    "print_tabs(tabs, label='Shuffled all tabs')"
   ]
  }
 ],
 "metadata": {
  "kernelspec": {
   "display_name": "Python 3 (ipykernel)",
   "language": "python",
   "name": "python3"
  },
  "language_info": {
   "codemirror_mode": {
    "name": "ipython",
    "version": 3
   },
   "file_extension": ".py",
   "mimetype": "text/x-python",
   "name": "python",
   "nbconvert_exporter": "python",
   "pygments_lexer": "ipython3",
   "version": "3.9.15"
  }
 },
 "nbformat": 4,
 "nbformat_minor": 5
}
