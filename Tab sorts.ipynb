{
 "cells": [
  {
   "cell_type": "code",
   "execution_count": 1,
   "id": "40568205",
   "metadata": {},
   "outputs": [
    {
     "name": "stdout",
     "output_type": "stream",
     "text": [
      "Loaded\n"
     ]
    }
   ],
   "source": [
    "import random\n",
    "import numpy as np\n",
    "import webbrowser\n",
    "\n",
    "from copy import copy\n",
    "\n",
    "\n",
    "def print_tabs(tabs, label=None):\n",
    "    if label:\n",
    "        print('## {} ## ({} tabs)'.format(label, len(tabs)))\n",
    "    else:\n",
    "        print('({} tabs)'.format(len(tabs)))\n",
    "    print('')\n",
    "    for tab in tabs:\n",
    "        print(tab.replace('\\n', ''))\n",
    "    return None\n",
    "\n",
    "\n",
    "def open_tab(tab):\n",
    "    url = tab.split('|')[0].replace(' ', '')\n",
    "    webbrowser.open(url, new=2, autoraise=False)\n",
    "    \n",
    "    \n",
    "def open_tabs(tabs, page=1, per_page=10):\n",
    "    page_start = (page - 1) * per_page\n",
    "    total_pages = int(np.ceil(len(tabs) / per_page))\n",
    "    if page > total_pages:\n",
    "        raise ValueError('Cannot open page {}, only have {} pages'.format(page, total_pages))\n",
    "    page_end = page * per_page\n",
    "    if page_end > len(tabs):\n",
    "        page_end = len(tabs)\n",
    "    paged_tabs = tabs[page_start:page_end]\n",
    "    print('Opening page {}/{} (tabs {}-{} of {})'.format(page, total_pages, page_start, page_end, len(tabs)))\n",
    "    \n",
    "    for tab in paged_tabs:\n",
    "        open_tab(tab)\n",
    "\n",
    "        \n",
    "def open_random_n_tabs(tabs, n=5):\n",
    "    tabs = random.sample(tabs, len(tabs))\n",
    "    open_tabs(tabs, page=1, per_page=n)\n",
    "    return tabs[5:]\n",
    "\n",
    "        \n",
    "print('Loaded')"
   ]
  },
  {
   "cell_type": "code",
   "execution_count": 2,
   "id": "1ffe9c7f",
   "metadata": {},
   "outputs": [
    {
     "name": "stdout",
     "output_type": "stream",
     "text": [
      "169\n",
      "169\n",
      "163\n"
     ]
    }
   ],
   "source": [
    "tab_file = open('/Users/peterhurford/Documents/alltabs.txt', 'r')\n",
    "tabs = tab_file.readlines()\n",
    "print(len(tabs))\n",
    "\n",
    "tabs = [t for t in tabs if t != '\\n']\n",
    "print(len(tabs))\n",
    "\n",
    "tabs = sorted(list(set(tabs)))\n",
    "print(len(tabs))"
   ]
  },
  {
   "cell_type": "code",
   "execution_count": 3,
   "id": "df44f938",
   "metadata": {
    "scrolled": true
   },
   "outputs": [
    {
     "name": "stdout",
     "output_type": "stream",
     "text": [
      "## Messages ## (0 tabs)\n",
      "\n"
     ]
    }
   ],
   "source": [
    "print_tabs([t for t in tabs if ('messages/' in t.lower() or 'inbox/' in t.lower() or 'swapcard' in t.lower())], label='Messages')"
   ]
  },
  {
   "cell_type": "code",
   "execution_count": 4,
   "id": "89c2b367",
   "metadata": {},
   "outputs": [
    {
     "name": "stdout",
     "output_type": "stream",
     "text": [
      "## Facebook ## (0 tabs)\n",
      "\n"
     ]
    }
   ],
   "source": [
    "print_tabs([t for t in tabs if 'facebook.com' in t.lower() and 'messages' not in t.lower()], label='Facebook')"
   ]
  },
  {
   "cell_type": "code",
   "execution_count": 5,
   "id": "f6d6e211",
   "metadata": {},
   "outputs": [
    {
     "name": "stdout",
     "output_type": "stream",
     "text": [
      "## Twitter ## (9 tabs)\n",
      "\n",
      "https://mobile.twitter.com/mattsclancy/status/1598154199061364736 | https://mobile.twitter.com/mattsclancy/status/1598154199061364736\n",
      "https://mobile.twitter.com/mattsheehan88/status/1598299380431585281 | https://mobile.twitter.com/mattsheehan88/status/1598299380431585281\n",
      "https://mobile.twitter.com/zswitten/status/1598088286035415047 | https://mobile.twitter.com/zswitten/status/1598088286035415047\n",
      "https://twitter.com/jachiam0/status/1591494093766787076 | https://twitter.com/jachiam0/status/1591494093766787076\n",
      "https://twitter.com/michael_nielsen/status/1598476830272802816 | https://twitter.com/michael_nielsen/status/1598476830272802816\n",
      "https://twitter.com/paraschopra/status/1596762675710918656 | https://twitter.com/paraschopra/status/1596762675710918656\n",
      "https://twitter.com/rao_hacker_one/status/1598429293633499136 | https://twitter.com/rao_hacker_one/status/1598429293633499136\n",
      "https://twitter.com/robbensinger/status/1595139268019908608 | https://twitter.com/robbensinger/status/1595139268019908608\n",
      "https://www.givingwhatwecan.org/fundraisers/ea-meme-2022 | EA Meme Twitter 2022 Giving Season Fundraiser · Giving What We Can\n"
     ]
    }
   ],
   "source": [
    "twitter_tabs = sorted([t for t in tabs if 'twitter' in t.lower() and 'messages' not in t.lower()])\n",
    "print_tabs(twitter_tabs, label='Twitter')"
   ]
  },
  {
   "cell_type": "code",
   "execution_count": 6,
   "id": "0e8d623e",
   "metadata": {},
   "outputs": [],
   "source": [
    "#open_tabs(twitter_tabs, page=1, per_page=30)"
   ]
  },
  {
   "cell_type": "code",
   "execution_count": 7,
   "id": "c4635d45",
   "metadata": {},
   "outputs": [
    {
     "name": "stdout",
     "output_type": "stream",
     "text": [
      "## Google Docs ## (52 tabs)\n",
      "\n",
      "https://docs.google.com/document/d/1-0kMOcQryE8ShlNvHyt99LLPDu0jd783Y6-oFfDK5cg/edit | Ozzie Gooen <> Marie Buhl - 2022-11-18 - Google Docs\n",
      "https://docs.google.com/document/d/11nA0ZoFhf8OIIwsf5kzAv5lprsTj3xeq2hxTLOIOS0o/edit#heading=h.3gug2z69u9a7 | AR Operations Reflections - Google Docs\n",
      "https://docs.google.com/document/d/12FsISgjXQhrbcmeOMqnN5Hh-sB3s0c2eNscb8gDli_w/edit#heading=h.913eglsrmj1x | Megaproject: Recruiting funnel for technical AI safety research [In-depth speedrun] - Google Docs\n",
      "https://docs.google.com/document/d/12cgMqK7X7zY-GjdaJkBU2Hwc0Dsou42M6IgWbZN5vUo/edit | Thomas Larsen <> Marie Buhl - 2022-11-23 - Google Docs\n",
      "https://docs.google.com/document/d/12yOxzRW8hrEVR_wUXtGDmOmwjm94DTgWBnfDC5v-pXU/edit#heading=h.gsyt6gbjtl9 | Longtermism (LT) hiring - standing meetings - 2022 Q3-4 - Google Docs\n",
      "https://docs.google.com/document/d/13JHBYuEllslzl6o_kWc6y9KyTDsKxuC2lxX0h9MSqtc/edit | Ben Pace <> Marie Buhl - 2022-11-22 - Google Docs\n",
      "https://docs.google.com/document/d/14WsCiU0ugXv_BTPqNVl6kgP3KdyxM82xAD1BJzSQOTQ/edit | Olivia Jiminez <> Marie Buhl & Patrick Levermore - 2022-11-22 - Google Docs\n",
      "https://docs.google.com/document/d/152PO629d9Sq8xjrFC2Mep2lK-MsLUzkcNp6UknJCyLU/edit#heading=h.qe7q1i4zut97 | AIGS whole-team OKRs notes - Google Docs\n",
      "https://docs.google.com/document/d/172cEzNDtbeQhSClvzWIFf8nOGw0-uKBBXIHtqxsB_qg/edit#heading=h.mk3awwtig4n6 | A collection of various external people's opinions on GLT strategy - Google Docs\n",
      "https://docs.google.com/document/d/1APLsYcNiMBB3T9a2qoxN2PfyoHtog796xGcxvFdAzYo/edit | Nov, 2022: Exec Retreat Agenda Draft - Google Docs\n",
      "https://docs.google.com/document/d/1AWc9UecVdXTLM6LOaKLIb87Jv1P0e2rB6RHbpB7m36w/edit#heading=h.xe3dap3bn06k | Ben Kuhn notes - Google Docs\n",
      "https://docs.google.com/document/d/1EcapPN19W-hfDwZi5xTPrAC8w5DBwG0ld5xAJ5qdWdo/edit | AW Department - Monthly updates - Google Docs\n",
      "https://docs.google.com/document/d/1I12QSB0Dl0KkQD93TMLhOCeD9UGm89ebvOeOwJO9eB0/edit#heading=h.og8nnic0zbqb | Copy of Daniela comments from bi-annual survey - Google Docs\n",
      "https://docs.google.com/document/d/1IPXU0s4U0Ei7kJ0R9ddKRXG9V0oQnty990osh2T1lPc/edit | Dan Hendrycks 2022.11.28 - Google Docs\n",
      "https://docs.google.com/document/d/1J6PIggOkpyzT7DLqTwDl75nOmsvI86S_CCvtlWi322g/edit#heading=h.mxtsch89a2un | How do we spend time? - Google Docs\n",
      "https://docs.google.com/document/d/1KAIbBXnvMOM_T7qOe5b1mV8bbdMXTlfhjbFw2uQNCf4/edit#heading=h.voazkych40mx | The S-curve model & attention hazards: When should we advocate for AGI risk? - Google Docs\n",
      "https://docs.google.com/document/d/1KfFa6Eh9npshytI0KyazRnSNG4KtbtgSN6xH8Icrf1I/edit#heading=h.6ytgvt3dfnpe | ZW Oct-Nov - RP Performance Evaluation Template - Google Docs\n",
      "https://docs.google.com/document/d/1LVPIHi7xik0RBdBNCtmoOBpeEh7e0_l01wRLBB_JVxk/edit | MD GHD, Animals, and Executive Team Reflections - Google Docs\n",
      "https://docs.google.com/document/d/1MGWaBg5F10OQJcaKrPixlCN9dXclj-fz6PVNCatTxfM/edit#heading=h.hhd0mvh9gst9 | RP Copy of [Luke doc for AIGS only] [2022-09-26 draft] - Google Docs\n",
      "https://docs.google.com/document/d/1OQ6EoMy6aHAWhJI6jFPRRPscsbGeYzHf2AMBNFaJBZU/edit#heading=h.w21swl8gnmgl | Performance Improvement Plan (PIP) - Google Docs\n",
      "https://docs.google.com/document/d/1P62Z18o7Gqt9vfrm1HiQJJfsLsRuk-2rLEVoxJ9H8WA/edit | Joe, Emma, Ashwin <> Anthropic 12-Nov-2022 -- AI Auditing Org, Whistleblowing, Timelines - Google Docs\n",
      "https://docs.google.com/document/d/1POA5SDCG5UK7hxbwRHVLLvwx2uOufzeoLUMWsxl8T8M/edit#heading=h.5zpeqe21wf5z | Sharable Survey Results - Google Docs\n",
      "https://docs.google.com/document/d/1Rh9SSofWAer-lJPk-Kxg-VYewBKW4zC60GkuQXO2Sz8/edit | WAW strategy - Google Docs\n",
      "https://docs.google.com/document/d/1TeiaWysrNa9QK6rXAl-iDsFHMNRE4IxwK2JGNiAOhME/edit | investigating whether GLT should do red teaming December 2022 -- Ben's quick project plan - Google Docs\n",
      "https://docs.google.com/document/d/1VX-LyvC7xLPL0fpiqa3B9ox7oxSR0nWeCxO0jdfQyxg/edit | Katja Grace <> Michael - 2022-Nov-28 - AIGS's & AI Impacts' work, AGI risk awareness-raising, AI gov research approaches - Google Docs\n",
      "https://docs.google.com/document/d/1YPuJ3niQti5_3rGDajRJhH9SpofCo1vvM6iDshfoURs/edit#heading=h.vxginadnriv7 | Outreach plan for AI Safety Bounties - Google Docs\n",
      "https://docs.google.com/document/d/1bcfzNllYCyR74nGDiOJFX54rm-FhtkeqMjQ1YUPfDJ8/edit | Oliver Habryka <> Marie Buhl & Michael Aird - 2022-11-22 - Google Docs\n",
      "https://docs.google.com/document/d/1blzbAwEkumaeaHnC4ESCXbixuqBK4twUmLkOA0BOhKA/edit | 11-30-22 Fundraising Forecast - Google Docs\n",
      "https://docs.google.com/document/d/1bpKk7c7FB4iOr9MA0ePNTdgl3dUEdGwoRF_g1uSdoWs/edit#heading=h.rvv15w6oikf3 | RP LT: What are the most plausible AGI timelines and takeoff scenarios? - Google Docs\n",
      "https://docs.google.com/document/d/1c9inS2gqXQeD_gQQbdNPwED5a_DymiL1VlA8r1smBxE/edit#heading=h.8ymi6zdcxkra | Info on Open Phil's (Longtermist) Worldview Investigations team - Google Docs\n",
      "https://docs.google.com/document/d/1f8nyFQrUXW7wBfJJJsJe1OKOgrN2g5eq9eGfJUK3TZM/edit | John Wentworth<>Marie Buhl - 2022-11-22 - GLT strategy - Google Docs\n",
      "https://docs.google.com/document/d/1hldNJvkr9XOJdet7YVRJA_uH4h-FLVBxXkBYXY3b2eU/edit | How might we expand AIGS? - Google Docs\n",
      "https://docs.google.com/document/d/1iV1fNk3UcryN9FoO71O--UtWpjtnbXwVBslo22LewFY/edit#heading=h.fokej6ldkygq | AIGS What Do notes - Google Docs\n",
      "https://docs.google.com/document/d/1jmHp2dbrrfB7oeHLQdTgsrcfLHH318tK53BBKKTb84M/edit#heading=h.uagdd5oaoz71 | Some policies for RP LT affiliates & alumni - Google Docs\n",
      "https://docs.google.com/document/d/1jqRFc5tvHSP-Ag76p_42VxOIfLZbBXp4HsfQM1D7Dz4/edit | Marc Koehler <> Patrick Levermore - 2022-11-28 - AGI forecasting - Google Docs\n",
      "https://docs.google.com/document/d/1r0TPCpivFX3sHbcDdRc2ZC85tiocnFZyii2woVVacMs/edit | AI Reading Notes - Google Docs\n",
      "https://docs.google.com/document/d/1rDVglJwquTYk8Sx7vk7OvNMxL6dwanPf7F-7SvElVTA/edit | 2022/Q3+4 Monthly Fundraising Meeting (FM) Agenda - Google Docs\n",
      "https://docs.google.com/document/d/1rbyttMnM7xp-_-HZzNamCq09Oa8bw7yZa8MiFc1Rjxg/edit | [Onni, Nov 2022, manager-assessment] RP Performance Evaluation - Google Docs\n",
      "https://docs.google.com/document/d/1tAnO5qlc6oXNCUDVsFiA7hlZiOyM5AzZf6PLNjC67Po/edit#heading=h.pst5bje9b24g | Marie's updated thoughts on infrastructure for independent researchers - Google Docs\n",
      "https://docs.google.com/document/d/1tHlEMeLdXSdj_sK6kWYTzDdZ7Q_TeLeFmkcj0z1LAT4/edit#heading=h.bt8g7pcukqab | Some research related checklists I sometimes use - Google Docs\n",
      "https://docs.google.com/document/d/1vEAyco5JrbfyD2zwEPPnTZ0FBkSVn3Edqz-CzBva9_0/edit#heading=h.mhqaztvjd3ny | RP Copy of Toward trustworthy AGI projects [2022-09-26 draft] - Google Docs\n",
      "https://docs.google.com/document/d/1x0kXOO4cfdgmS3a2PmTJf7jjBONV0kZRKVkcRfa1PRY/edit#heading=h.5t22ep6pioju | [ALLFED copy] Speedrun: Demonstrate the ability to rapidly scale food production in the case of nuclear winter - Google Docs\n",
      "https://docs.google.com/document/d/1yjQyD48SalLelRAPFpfZWtsHNT6gpOmgQ-UdSGpFRU8/edit#heading=h.n4vkdxoikpc1 | RAND Work on GCRs - Google Docs\n",
      "https://docs.google.com/spreadsheets/d/15PDUkX7OhzG9McEiGt2XSFQH28K8z63Z0tte9R09aSQ/edit#gid=1469042270 | Fiscal Sponsorship Applications Scoring - Google Sheets\n",
      "https://docs.google.com/spreadsheets/d/15PDUkX7OhzG9McEiGt2XSFQH28K8z63Z0tte9R09aSQ/edit#gid=1824646560 | Fiscal Sponsorship Applications Scoring - Google Sheets\n",
      "https://docs.google.com/spreadsheets/d/16hvXilmBtN4X5tPiaxqnfcSjbeVZ-ux0Dt_hwqJr_-s/edit#gid=0 | R&D and Megaprojects Budgets Summary - Google Sheets\n",
      "https://docs.google.com/spreadsheets/d/1JCIEOPGMqGsDfeP5inp0uuSPJuIQq1EOd0R4ZrgZPz8/edit#gid=0 | RP Operations Functions Scalability - Nov 2022 - Google Sheets\n",
      "https://docs.google.com/spreadsheets/d/1KxYL_KPLpjkiNkYk6PIZ8Qenl1YQI8AZHRj1CIfC0DY/edit#gid=0 | RP Copy of What well-scoped research projects could help us reduce AI x-risk? [2022-09-30 snapshot] - Google Sheets\n",
      "https://docs.google.com/spreadsheets/d/1PoX7l9VfOJWaW5yCVGcTOgakMWgZocRlcdJYi6K92C8/edit#gid=0 | LT Big Weird Idea Time - ideas and rankings - Google Sheets\n",
      "https://docs.google.com/spreadsheets/d/1Qv2yUmbMIR6iJdXJ7lFZIHnCFGqC6wuTV4Rt-CrqffY/edit#gid=211665578 | Staff Performance Evaluations Matrix - Google Sheets\n",
      "https://docs.google.com/spreadsheets/d/1dMy-rJGyUaEDcR0cImTv8gXR00Jzmmm88Tge_xXVeRo/edit#gid=0 | RP Dashboard - Google Sheets\n",
      "https://docs.google.com/spreadsheets/d/1ku_zYWErNDjzT6gqIwUU3Fr34mvj3GMIrvztpJlilx4/edit#gid=0 | 2022 Survey team commissions - Google Sheets\n"
     ]
    }
   ],
   "source": [
    "doc_tabs = sorted([t for t in tabs if ('docs.google' in t.lower() or 'sheets.google' in t.lower() or 'drive.google' in t.lower())])\n",
    "print_tabs(doc_tabs, label='Google Docs')\n"
   ]
  },
  {
   "cell_type": "code",
   "execution_count": 8,
   "id": "18e9e150",
   "metadata": {},
   "outputs": [],
   "source": [
    "#open_tabs(doc_tabs, page=1, per_page=50)"
   ]
  },
  {
   "cell_type": "code",
   "execution_count": 9,
   "id": "479f45a0-d63f-474d-aa76-2ddab5a10b0a",
   "metadata": {},
   "outputs": [],
   "source": [
    "#doc_tabs_ = copy(doc_tabs)"
   ]
  },
  {
   "cell_type": "code",
   "execution_count": 10,
   "id": "c4e71249-4e0e-47aa-9fcd-69b9219f507f",
   "metadata": {},
   "outputs": [],
   "source": [
    "#doc_tabs_ = open_random_n_tabs(doc_tabs_, n=5)"
   ]
  },
  {
   "cell_type": "code",
   "execution_count": 11,
   "id": "6311fa07",
   "metadata": {},
   "outputs": [
    {
     "name": "stdout",
     "output_type": "stream",
     "text": [
      "## Google search ## (0 tabs)\n",
      "\n"
     ]
    }
   ],
   "source": [
    "print_tabs(sorted([t for t in tabs if ('google.com' in t.lower() and 'search' in t.lower() and\n",
    "                                   not ('docs.google' in t.lower() or 'sheets.google' in t.lower()))]),\n",
    "           label='Google search')"
   ]
  },
  {
   "cell_type": "code",
   "execution_count": 12,
   "id": "53b9762e",
   "metadata": {},
   "outputs": [
    {
     "name": "stdout",
     "output_type": "stream",
     "text": [
      "## EAFo/LW ## (13 tabs)\n",
      "\n",
      "When can a mimic surprise you? Why generative models handle seemingly ill-posed problems | https://www.lesswrong.com/posts/BzFhRCSysACaCZSAu/when-can-a-mimic-surprise-you-why-generative-models-handle\n",
      "https://forum.effectivealtruism.org/posts/HkR8TbFN9wjZgoKoG/2023-open-student-workshop-in-global-priorities-research | 2023 Open Student Workshop in Global Priorities Research - promoting intellectual and cultural diversity in GPR - EA Forum\n",
      "https://forum.effectivealtruism.org/posts/HwZm8eeraCwLRwcZA/sentience-politics-announcing-our-end-of-year-giving | Sentience Politics: Announcing our end-of-year giving campaign - EA Forum\n",
      "https://forum.effectivealtruism.org/posts/c3we8rKppwkRLfzwv/the-deathprint-of-replacing-beef-by-chicken-and-insect-meat | The deathprint of replacing beef by chicken and insect meat - EA Forum\n",
      "https://forum.effectivealtruism.org/posts/oZCPayvcxkDHubcDv/does-putting-kids-in-school-now-put-money-in-their-pockets?fbclid=IwAR0-zPVn75ixOR3vPjZx7B7ktSem9QRpx_hS5PP8FqkUJBEf90slX4bY1H0 | Does putting kids in school now put money in their pockets later? Revisiting a natural experiment in Indonesia - EA Forum\n",
      "https://forum.effectivealtruism.org/posts/pqmQ9PxpzzGHshmhC/2022-allfed-highlights | 2022 ALLFED highlights - EA Forum\n",
      "https://forum.effectivealtruism.org/posts/sEpWkCvvJfoEbhnsd/the-ftx-crisis-highlights-a-deeper-cultural-problem-within | The FTX crisis highlights a deeper cultural problem within EA - we don't sufficiently value good governance - EA Forum\n",
      "https://forum.effectivealtruism.org/posts/v7gep2d9Dr4bT8DnF/notes-on-barriers-to-bioweapons-ben-ouagrham-gormley-2014 | Notes on \"Barriers to Bioweapons\" (Ben Ouagrham-Gormley, 2014) - EA Forum\n",
      "https://forum.effectivealtruism.org/posts/xnHnsrFEMEMPXBWqR/ask-charity-entrepreneurship-anything#comments | Ask Charity Entrepreneurship Anything - EA Forum\n",
      "https://forum.effectivealtruism.org/posts/yKd7Co5LznH4BE54t/game-i-find-three-errors-in-your-favorite-text | Game: I Find Three Errors in Your Favorite Text - EA Forum\n",
      "https://forum.effectivealtruism.org/posts/yPDXXxdeK9cgCfLwj/short-research-summary-can-insects-feel-pain-a-review-of-the | Short Research Summary: Can insects feel pain? A review of the neural and behavioural evidence by Gibbons et al. 2022 - EA Forum\n",
      "https://forum.effectivealtruism.org/posts/yeMzJATjqxLioGM6K/estimating-the-marginal-impact-of-outreach | Estimating the marginal impact of outreach - EA Forum\n",
      "https://www.lesswrong.com/posts/b5EqwQZw7ww2K28Ki/ai-takeover-tabletop-rpg-the-treacherous-turn | AI takeover tabletop RPG: \"The Treacherous Turn\"\n"
     ]
    }
   ],
   "source": [
    "ea_fo_tabs = sorted([t for t in tabs if ('forum.effectivealtruism' in t.lower() or 'lesswrong' in t.lower())])\n",
    "print_tabs(ea_fo_tabs, label='EAFo/LW')"
   ]
  },
  {
   "cell_type": "code",
   "execution_count": 13,
   "id": "8ffa8f80-4aa6-4afe-8c6a-59194d69895e",
   "metadata": {},
   "outputs": [],
   "source": [
    "#open_tabs(ea_fo_tabs, page=1, per_page=50)"
   ]
  },
  {
   "cell_type": "code",
   "execution_count": 14,
   "id": "42ae2aee",
   "metadata": {},
   "outputs": [
    {
     "name": "stdout",
     "output_type": "stream",
     "text": [
      "## Metaculus etc. ## (6 tabs)\n",
      "\n",
      "https://metaculus-hackathon.cloud.mattermost.com/main/channels/town-square | https://metaculus-hackathon.cloud.mattermost.com/main/channels/town-square\n",
      "https://www.metaculus.com/questions/10810/russian-territory-loss-by-2028/ | Russian Territory Loss >20% by 2028 | Metaculus\n",
      "https://www.metaculus.com/questions/11005/winner-of-2022-fifa-world-cup/ | Winner of 2022 FIFA World Cup | Metaculus\n",
      "https://www.metaculus.com/questions/11293/us-mints-bilion-dollar-coin/ | US Mints Bilion Dollar Coin | Metaculus\n",
      "https://www.metaculus.com/questions/13653/ftxalameda-leadership-felony-convictions/ | FTX/Alameda leadership felony convictions | Metaculus\n",
      "https://www.metaculus.com/questions/6119/when-will-there-be-at-least-1bn-americans/ | Date of 1 Billion Americans | Metaculus\n"
     ]
    }
   ],
   "source": [
    "print_tabs(sorted([t for t in tabs if ('metaculus' in t.lower() or 'manifold' in t.lower() or 'predictit' in t.lower())]), label='Metaculus etc.')"
   ]
  },
  {
   "cell_type": "code",
   "execution_count": 15,
   "id": "72bdaddd",
   "metadata": {},
   "outputs": [
    {
     "name": "stdout",
     "output_type": "stream",
     "text": [
      "## Wikipedia ## (1 tabs)\n",
      "\n",
      "https://en.wikipedia.org/wiki/Naval_Criminal_Investigative_Service | Naval Criminal Investigative Service - Wikipedia\n"
     ]
    }
   ],
   "source": [
    "print_tabs(sorted([t for t in tabs if 'wikipedia' in t.lower()]), label='Wikipedia')"
   ]
  },
  {
   "cell_type": "code",
   "execution_count": 16,
   "id": "ca9dcfdf",
   "metadata": {},
   "outputs": [
    {
     "name": "stdout",
     "output_type": "stream",
     "text": [
      "## Reddit ## (12 tabs)\n",
      "\n",
      "https://www.reddit.com/r/datingoverthirty/comments/z8s3pe/singletons_how_do_you_cope_with_being_alonelonely/ | Singletons, how do you cope with being alone/lonely during the Christmas holidays? : datingoverthirty\n",
      "https://www.reddit.com/r/relationship_advice/comments/z99mwp/he_threw_the_christmas_tree_out_the_window/ | He threw the Christmas tree out the window : relationship_advice\n",
      "https://www.reddit.com/r/relationship_advice/comments/z9a0ny/im_scared_to_be_a_single_mom/ | I’m scared to be a single mom : relationship_advice\n",
      "https://www.reddit.com/r/relationship_advice/comments/z9jtor/i_had_sex_for_the_first_time_last_night_and/ | I had sex for the first time last night and couldn't finish... : relationship_advice\n",
      "https://www.reddit.com/r/relationship_advice/comments/z9mtx6/im_26f_drowning_financially_while_my_boyfriend/ | I’m (26F) drowning financially while my boyfriend (30M) is doing fine, but it feels extremely unfair. He makes more money than me. : relationship_advice\n",
      "https://www.reddit.com/r/relationship_advice/comments/z9ouuk/i_45m_have_stage_iv_colorectal_cancer_and_will_be/ | I (45M) have stage IV colorectal cancer and will be dead in 5 years. My partner (37F) wants to have a baby with me : relationship_advice\n",
      "https://www.reddit.com/r/widowers/ | A place for all those who have lost a partner...\n",
      "https://www.reddit.com/r/widowers/comments/z966hn/he_left_me_a_note/ | He left me a note : widowers\n",
      "https://www.reddit.com/r/widowers/comments/z98z2j/what_do_you_do_when_you_realize_they_arent_coming/ | What do you do when you realize they aren’t coming home? : widowers\n",
      "https://www.reddit.com/r/widowers/comments/z9cjo4/prolonged_grief_disorder_according_to_the_dsm5/ | Prolonged grief disorder, according to the DSM-5 : widowers\n",
      "https://www.reddit.com/r/widowers/comments/z9dexy/i_cant_get_her_last_words_out_of_my_head_and_its/ | I can't get her last words out of my head and it's killing me : widowers\n",
      "https://www.reddit.com/r/widowers/comments/z9hu0a/anniversary/ | (1) Anniversary : widowers\n"
     ]
    }
   ],
   "source": [
    "print_tabs(sorted([t for t in tabs if 'reddit' in t.lower()]), label='Reddit')"
   ]
  },
  {
   "cell_type": "code",
   "execution_count": 17,
   "id": "5dedf293",
   "metadata": {},
   "outputs": [
    {
     "name": "stdout",
     "output_type": "stream",
     "text": [
      "## localhost ## (0 tabs)\n",
      "\n"
     ]
    }
   ],
   "source": [
    "print_tabs(sorted([t for t in tabs if 'guarded-everglades-89687.herokuapp.com' in t.lower() or 'localhost' in t.lower()]), label='localhost')\n"
   ]
  },
  {
   "cell_type": "code",
   "execution_count": 18,
   "id": "677f610e",
   "metadata": {},
   "outputs": [
    {
     "name": "stdout",
     "output_type": "stream",
     "text": [
      "## Chores ## (0 tabs)\n",
      "\n"
     ]
    }
   ],
   "source": [
    "print_tabs(sorted([t for t in tabs if 'instacart' in t.lower()]), label='Chores')"
   ]
  },
  {
   "cell_type": "code",
   "execution_count": 19,
   "id": "5fce865e",
   "metadata": {},
   "outputs": [
    {
     "name": "stdout",
     "output_type": "stream",
     "text": [
      "## Amazon ## (0 tabs)\n",
      "\n"
     ]
    }
   ],
   "source": [
    "print_tabs(sorted([t for t in tabs if 'amazon.com' in t.lower()]), label='Amazon')"
   ]
  },
  {
   "cell_type": "code",
   "execution_count": 20,
   "id": "16d46af9",
   "metadata": {},
   "outputs": [
    {
     "name": "stdout",
     "output_type": "stream",
     "text": [
      "## Morning Dispatch ## (0 tabs)\n",
      "\n"
     ]
    }
   ],
   "source": [
    "print_tabs(sorted([t for t in tabs if 'morning' in t.lower() and 'dispatch' in t.lower()]), label='Morning Dispatch')"
   ]
  },
  {
   "cell_type": "code",
   "execution_count": 21,
   "id": "108d879a",
   "metadata": {},
   "outputs": [
    {
     "name": "stdout",
     "output_type": "stream",
     "text": [
      "## GitHub ## (1 tabs)\n",
      "\n",
      "https://gist.github.com/shawwn/3110ab62fa027c7811578f167fa5a3a0 | \"What happened after 2010?\"\n"
     ]
    }
   ],
   "source": [
    "print_tabs(sorted([t for t in tabs if 'github' in t.lower()]), label='GitHub')"
   ]
  },
  {
   "cell_type": "code",
   "execution_count": 22,
   "id": "d911bbda",
   "metadata": {},
   "outputs": [
    {
     "name": "stdout",
     "output_type": "stream",
     "text": [
      "## YouTube ## (0 tabs)\n",
      "\n"
     ]
    }
   ],
   "source": [
    "print_tabs(sorted([t for t in tabs if 'yout' in t.lower()]), label='YouTube')"
   ]
  },
  {
   "cell_type": "code",
   "execution_count": 23,
   "id": "2649c14d",
   "metadata": {},
   "outputs": [
    {
     "name": "stdout",
     "output_type": "stream",
     "text": [
      "## Instagram ## (0 tabs)\n",
      "\n"
     ]
    }
   ],
   "source": [
    "print_tabs(sorted([t for t in tabs if 'instagram.com' in t.lower()]), label='Instagram')"
   ]
  },
  {
   "cell_type": "code",
   "execution_count": 24,
   "id": "bc70c265",
   "metadata": {},
   "outputs": [
    {
     "name": "stdout",
     "output_type": "stream",
     "text": [
      "## Other ## (69 tabs)\n",
      "\n",
      "https://agupubs.onlinelibrary.wiley.com/doi/full/10.1029/2019GL085378 | Evaluating the Performance of Past Climate Model Projections - Hausfather - 2020 - Geophysical Research Letters - Wiley Online Library\n",
      "https://asteriskmag.com/issues/1/china-s-silicon-future | China’s Silicon Future—Asterisk\n",
      "https://asteriskmag.com/issues/1/how-to-prevent-the-next-pandemic | How to Prevent the Next Pandemic—Asterisk\n",
      "https://asteriskmag.com/issues/1/review-what-we-owe-the-future | What We Owe The Future—Asterisk\n",
      "https://asteriskmag.com/issues/1/the-illogic-of-nuclear-escalation | The Illogic of Nuclear Escalation—Asterisk\n",
      "https://bundleiq.medium.com/comparing-gpt-3s-davinci-text-002-to-davinci-text-003-302e3ba951d5 | Comparing GPT-3’s davinci-text-002 to davinci-text-003 | by bundleIQ | Nov, 2022 | Medium\n",
      "https://criticalfallibilism.com/ignoring-small-errors/ | Ignoring “Small” Errors\n",
      "https://garymarcus.substack.com/p/what-does-meta-ais-diplomacy-winning | What does Meta AI’s Diplomacy-winning Cicero Mean for AI?\n",
      "https://generallyintelligent.com/launch/ | Introducing Generally Intelligent - generally intelligent\n",
      "https://globalprioritiesinstitute.org/wp-content/uploads/2019/Greaves_Cotton-Barratt_bargaining_theoretic_approach.pdf | Greaves_Cotton-Barratt_bargaining_theoretic_approach.pdf\n",
      "https://jamestown.org/program/chinas-2027-goal-marks-the-plas-centennial-not-an-expedited-military-modernization/ | China’s 2027 Goal Marks the PLA’s Centennial, Not an Expedited Military Modernization - Jamestown\n",
      "https://lethain.com/newsletter/ | Newsletter for Irrational Exuberance. | Irrational Exuberance\n",
      "https://lethain.com/rails-for-engineering-leadership/ | My rails for engineering leadership. | Irrational Exuberance\n",
      "https://magnusvinding.com/2022/11/25/some-pitfalls-of-utilitarianism/ | Some pitfalls of utilitarianism\n",
      "https://news.ycombinator.com/item?id=33780720 | New GPT-3 model: text-DaVinci-003 | Hacker News\n",
      "https://noahpinion.substack.com/p/generative-ai-autocomplete-for-everything | Generative AI: autocomplete for everything\n",
      "https://preview.mailerlite.io/emails/webview/162793/73208087522051851 | December EA Software Engineering\n",
      "https://recombinetics.com/alliance-end-surgical-castration-swine-announces-precision-breeding-successes/ | The Alliance to End Surgical Castration of Swine Announces Precision Breeding Successes\n",
      "https://scottaaronson.blog/?p=6821 | Shtetl-Optimized » Blog Archive » Reform AI Alignment\n",
      "https://smallbusinessprogramming.com/safety-critical-software-15-things-every-developer-should-know/ | Safety-Critical Software: 15 things every developer should know - Small Business Programming\n",
      "https://wavelength.asana.com/clarity-design-process-create-process-map/ | Why Your Team Needs a Map for Your Design Process\n",
      "https://wavelength.asana.com/coaching-workplace-why-examples/ | Coaching in the workplace: Examples and benefits\n",
      "https://wavelength.asana.com/develop-effective-communication/ | 7 questions you should ask to develop effective communication at work\n",
      "https://wavelength.asana.com/how-be-more-productive/ | Justin Rosenstein shares tips on how to be more productive\n",
      "https://wavelength.asana.com/inclusive-onboarding-experience/ | 10 Ways to Build an Inclusive Onboarding Experience\n",
      "https://wavelength.asana.com/organizational-structures/ | Top Down, Consensus & Distributed Management | Wavelength\n",
      "https://wavelength.asana.com/pyramid-clarity-strategic-alignment/ | The Pyramid of Clarity: A Way to Achieve Strategic Alignment\n",
      "https://wavelength.asana.com/team-empowerment-trust/ | Employee & Team Empowerment through Trust | Wavelength\n",
      "https://wavelength.asana.com/types-clarity-high-performing-teams/ | How High-Performing Teams Lead with 3 Types of Clarity\n",
      "https://wavelength.asana.com/workstyle-5-ways-think-big-day-week/ | 5 ways to think big, any day of the week\n",
      "https://wavelength.asana.com/workstyle-clarity/ | 3 types of clarity every company needs\n",
      "https://wavelength.asana.com/workstyle-communication-internal-memo-from-our-founders/ | Killing over-communication: an internal memo from our founders - Wavelength by Asana\n",
      "https://wavelength.asana.com/workstyle-creative-feedback/ | The dos and don'ts of giving creative feedback - Wavelength by Asana\n",
      "https://wavelength.asana.com/workstyle-customers/ | Why this person is your most important customer\n",
      "https://wavelength.asana.com/workstyle-dan-siegel-work-relationships/ | Why good work relationships are scientifically proven to improve productivity\n",
      "https://wavelength.asana.com/workstyle-decisions/ | An Effective Way to Avoid Decision Fatigue At Work\n",
      "https://wavelength.asana.com/workstyle-disagreements-work/ | The smart way to handle disagreements at work\n",
      "https://wavelength.asana.com/workstyle-dustin-moskovitz-leadership/ | Dustin Moskovitz shares his lessons on leadership\n",
      "https://wavelength.asana.com/workstyle-effective-feedback/ | Blunt, effective feedback, in 3 stories\n",
      "https://wavelength.asana.com/workstyle-gacts-mastered-marketing-brief/ | The Asana marketing brief template that anyone can use\n",
      "https://wavelength.asana.com/workstyle-gaining-support-for-your-ideas-in-the-workplace/ | Gaining support for your ideas in the workplace - Wavelength by Asana\n",
      "https://wavelength.asana.com/workstyle-how-to-fall-in-love-with-your-job-again/ | How to fall in love with your job (again) - Wavelength by Asana\n",
      "https://wavelength.asana.com/workstyle-managers-can-keep-employees-engaged/ | What only managers can do to keep employees engaged - Wavelength by Asana\n",
      "https://wavelength.asana.com/workstyle-new-years-resolutions-at-work/ | Why You Should Make New Years Resolutions at Work\n",
      "https://wavelength.asana.com/workstyle-no-meeting-wednesdays/ | How to take back your productivity with No Meeting Wednesday\n",
      "https://wavelength.asana.com/workstyle-perfect-task/ | How to write the perfect task to move work forward\n",
      "https://wavelength.asana.com/workstyle-positive-feedback-at-work/ | Feel the love: how to accept positive feedback at work - Wavelength by Asana\n",
      "https://wavelength.asana.com/workstyle-prioritization/ | Less is More: 3 Ways to Prioritize Your Work for the Day\n",
      "https://wavelength.asana.com/workstyle-simple-shift/ | A simple shift to change how you work\n",
      "https://wavelength.asana.com/workstyle-the-process-and-math-behind-prioritization/ | The process and math behind prioritization - Wavelength by Asana\n",
      "https://wavelength.asana.com/workstyle-time-management/ | How to improve your time management skills at work\n",
      "https://wavelength.asana.com/workstyle-what-is-a-1-1/ | Why 1-1 meetings are crucial to your team’s success - Wavelength by Asana\n",
      "https://wavelength.asana.com/workstyle-why-planning-is-the-true-driver-of-success/ | Why planning, not ambition, is the true driver of success - Wavelength by Asana\n",
      "https://wavelength.asana.com/zappos-self-managed-team/ | Developing a Self-Managed Team at Zappos | Wavelength\n",
      "https://web.archive.org/web/20210625103706/https://worldoptimization.tumblr.com/ | Fake Charity Nerd Girl\n",
      "https://www.benkuhn.net/11/ | The unreasonable effectiveness of one-on-ones | benkuhn.net\n",
      "https://www.benkuhn.net/weekly/ | My weekly review habit\n",
      "https://www.brookings.edu/inclusion-and-diversity/#section__intro | DEI @ Brookings\n",
      "https://www.newyorker.com/science/elements/the-terrifying-lessons-of-a-pandemic-simulation | The Terrifying Lessons of a Pandemic Simulation | The New Yorker\n",
      "https://www.semafor.com/ | https://www.semafor.com/\n",
      "https://www.semafor.com/newsletter/11/24/2022/black-friday-edition | Black Friday edition | Semafor\n",
      "https://www.theatlantic.com/magazine/archive/2022/12/china-takeover-taiwan-xi-tsai-ing-wen/671895/ | Taiwan Wants China to Think Twice About an Invasion - The Atlantic\n",
      "https://www.theguardian.com/business/2022/nov/30/sir-chris-hohn-paid-himself-equivalent-of-over-15m-per-day-this-year | Hedge fund billionaire Sir Chris Hohn paid himself ‘£1.5m a day this year’ | Hedge funds | The Guardian\n",
      "https://www.theguardian.com/commentisfree/2022/nov/16/is-the-effective-altruism-movement-in-trouble | Is the effective altruism movement in trouble? | Olúfẹ́mi O Táíwò and Joshua Stein | The Guardian\n",
      "https://www.vox.com/policy-and-politics/2022/11/23/23473873/hakeem-jeffries-democratic-leader-nancy-pelosi | Hakeem Jeffries’s historic election as House Democratic leader, explained - Vox\n",
      "https://www.vox.com/policy-and-politics/2022/11/29/23484335/supreme-court-united-states-texas-ice-immigration-drew-tipton-trump | The Supreme Court is in disarray over a rogue Trump judge in Texas - Vox\n",
      "https://www.vox.com/the-goods/2022/11/30/23484790/sam-bankman-fried-ftx-crypto-dealbook-sorkin | Sam Bankman-Fried’s DealBook Summit interview was a mesmerizing spectacle - Vox\n",
      "https://www.wave.com/en/blog/11-tips/ | Some tips for good one-on-ones - Wave Blog\n",
      "https://www.wired.com/story/effective-altruism-artificial-intelligence-sam-bankman-fried/ | Effective Altruism Is Pushing a Dangerous Brand of ‘AI Safety’\n"
     ]
    }
   ],
   "source": [
    "tabs_ = [t for t in tabs if (not ('google.com' in t.lower() and 'search' in t.lower() and not ('docs.google' in t.lower() or 'sheets.google' in t.lower())) and\n",
    "                             not ('docs.google' in t.lower() or 'sheets.google' in t.lower() or 'drive.google' in t.lower()) and\n",
    "                             not 'facebook.com' in t.lower() and\n",
    "                             not 'twitter' in t.lower() and\n",
    "                             not ('forum.effectivealtruism' in t.lower() or 'lesswrong' in t.lower()) and\n",
    "                             not ('metaculus' in t.lower() or 'manifold' in t.lower() or 'predictit' in t.lower()) and\n",
    "                             not 'wikipedia' in t.lower() and\n",
    "                             not 'reddit' in t.lower() and\n",
    "                             not 'instagram.com' in t.lower() and\n",
    "                             not ('guarded-everglades-89687.herokuapp.com' in t.lower() or 'localhost' in t.lower()) and\n",
    "                             not 'instacart' in t.lower() and\n",
    "                             not ('morning' in t.lower() and 'dispatch' in t.lower()) and\n",
    "                             not 'amazon.com' in t.lower() and\n",
    "                             not 'github' in t.lower() and\n",
    "                             not 'calendar.google' in t.lower() and\n",
    "                             not 'yout' in t.lower() and\n",
    "                             not ('messages/' in t.lower() or 'inbox/' in t.lower() or 'swapcard' in t.lower()))]\n",
    "tabs_ = sorted(tabs_)\n",
    "print_tabs(tabs_, label='Other')\n",
    "\n"
   ]
  },
  {
   "cell_type": "code",
   "execution_count": 25,
   "id": "c9a2a7bb-86f9-45bd-b8d6-ed8889caed90",
   "metadata": {},
   "outputs": [],
   "source": [
    "#open_tabs(tabs_, page=1, per_page=60)"
   ]
  },
  {
   "cell_type": "code",
   "execution_count": 26,
   "id": "6c128ee3-03e2-4cfb-bfd1-0dfc84775af1",
   "metadata": {},
   "outputs": [],
   "source": [
    "#random.shuffle(tabs)\n",
    "#print_tabs(tabs, label='Shuffled all tabs')"
   ]
  }
 ],
 "metadata": {
  "kernelspec": {
   "display_name": "Python 3 (ipykernel)",
   "language": "python",
   "name": "python3"
  },
  "language_info": {
   "codemirror_mode": {
    "name": "ipython",
    "version": 3
   },
   "file_extension": ".py",
   "mimetype": "text/x-python",
   "name": "python",
   "nbconvert_exporter": "python",
   "pygments_lexer": "ipython3",
   "version": "3.9.15"
  }
 },
 "nbformat": 4,
 "nbformat_minor": 5
}
