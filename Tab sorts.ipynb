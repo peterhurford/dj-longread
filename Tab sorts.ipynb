{
 "cells": [
  {
   "cell_type": "code",
   "execution_count": 30,
   "id": "40568205",
   "metadata": {},
   "outputs": [
    {
     "name": "stdout",
     "output_type": "stream",
     "text": [
      "Loaded\n"
     ]
    }
   ],
   "source": [
    "import random\n",
    "import numpy as np\n",
    "import webbrowser\n",
    "\n",
    "\n",
    "def print_tabs(tabs, label=None):\n",
    "    if label:\n",
    "        print('## {} ## ({} tabs)'.format(label, len(tabs)))\n",
    "    else:\n",
    "        print('({} tabs)'.format(len(tabs)))\n",
    "    print('')\n",
    "    for tab in tabs:\n",
    "        print(tab.replace('\\n', ''))\n",
    "    return None\n",
    "\n",
    "\n",
    "def open_tab(tab):\n",
    "    url = tab.split('|')[0].replace(' ', '')\n",
    "    webbrowser.open(url, new=2, autoraise=False)\n",
    "    \n",
    "    \n",
    "def open_tabs(tabs, page=1, per_page=10):\n",
    "    page_start = (page - 1) * per_page\n",
    "    total_pages = int(np.ceil(len(tabs) / per_page))\n",
    "    page_end = page * per_page - 1\n",
    "    paged_tabs = tabs[page_start:page_end]\n",
    "    print('Opening page {}/{} (tabs {}-{} of {})'.format(page, total_pages, page_start, page_end, len(tabs)))\n",
    "    \n",
    "    for tab in paged_tabs:\n",
    "        open_tab(tab)\n",
    "\n",
    "        \n",
    "print('Loaded')"
   ]
  },
  {
   "cell_type": "code",
   "execution_count": 2,
   "id": "1ffe9c7f",
   "metadata": {},
   "outputs": [
    {
     "name": "stdout",
     "output_type": "stream",
     "text": [
      "187\n",
      "185\n",
      "178\n"
     ]
    }
   ],
   "source": [
    "tab_file = open('/Users/peterhurford/Documents/alltabs.txt', 'r')\n",
    "tabs = tab_file.readlines()\n",
    "print(len(tabs))\n",
    "\n",
    "tabs = [t for t in tabs if t != '\\n']\n",
    "print(len(tabs))\n",
    "\n",
    "tabs = list(set(tabs))\n",
    "print(len(tabs))"
   ]
  },
  {
   "cell_type": "code",
   "execution_count": 3,
   "id": "df44f938",
   "metadata": {
    "scrolled": true
   },
   "outputs": [
    {
     "name": "stdout",
     "output_type": "stream",
     "text": [
      "## Messages ## (6 tabs)\n",
      "\n",
      "https://mobile.twitter.com/messages/25776739-1257963166602088449 | Siméon / Twitter\n",
      "https://twitter.com/messages/25776739-467844200 | (1) Caleb Watney / Twitter\n",
      "https://mobile.twitter.com/messages/25776739-2149921538 | Tessa Alexanian / Twitter\n",
      "https://twitter.com/messages/1414875069558534150 | Metaculites (off the (track) record) / Twitter\n",
      "https://twitter.com/messages/25776739-494261098 | Carolyn Meinel is at mastodon.social/@cmeinel / Twitter\n",
      "https://twitter.com/messages/25776739-2152109130 | Josh Simon Goldman / Twitter\n"
     ]
    }
   ],
   "source": [
    "print_tabs([t for t in tabs if ('messages/' in t.lower() or 'inbox/' in t.lower() or 'swapcard' in t.lower())], label='Messages')\n"
   ]
  },
  {
   "cell_type": "code",
   "execution_count": 4,
   "id": "89c2b367",
   "metadata": {},
   "outputs": [
    {
     "name": "stdout",
     "output_type": "stream",
     "text": [
      "## Facebook ## (0 tabs)\n",
      "\n"
     ]
    }
   ],
   "source": [
    "print_tabs([t for t in tabs if 'facebook.com' in t.lower() and 'messages' not in t.lower()], label='Facebook')"
   ]
  },
  {
   "cell_type": "code",
   "execution_count": 5,
   "id": "f6d6e211",
   "metadata": {},
   "outputs": [
    {
     "name": "stdout",
     "output_type": "stream",
     "text": [
      "## Twitter ## (66 tabs)\n",
      "\n",
      "https://twitter.com/robertwiblin/status/1590322484787965952 | Robert Wiblin on Twitter: \"Today's new episode of the show, on whether war is in decline, is very good IMO! \"In a nutshell, and taking in the full picture painted by these different measures, Bear simply finds no general trend in either direction from 1815 through today.\" https://t.co/ZukdUhj0Gp\" / Twitter\n",
      "https://twitter.com/VitalikButerin/status/1588669782471368704 | vitalik.eth on Twitter: \"Updated roadmap diagram! https://t.co/MT9BKgYcJH\" / Twitter\n",
      "https://astralcodexten.substack.com/p/mantic-monday-twitter-chaos-edition?utm_source=post-email-title | Mantic Monday: Twitter Chaos Edition - by Scott Alexander\n",
      "https://twitter.com/jordanschnyc/status/1591077334798721032 | Jordan Schneider on Twitter: \"What do the Biden admin's new semiconductor export controls mean for: --the risk of war --the global chips industry --retaliation from Beijing A THREAD:\" / Twitter\n",
      "https://twitter.com/TaschaLabs/status/1530403796404281345 | https://twitter.com/TaschaLabs/status/1530403796404281345\n",
      "https://twitter.com/Jess_Riedel/status/1588233438712057856 | https://twitter.com/Jess_Riedel/status/1588233438712057856\n",
      "https://twitter.com/kesvelt/status/1592203831047327744 | (1) Kevin Esvelt on Twitter: \"Imagine a future in which thousands can start new pandemics at will. It’s likely coming. It’s also solvable. To safeguard civilization, we need to delay misuse, reliably detect threats, and build defenses to prevent infection. A biodefense roadmap: 1/25 https://t.co/3xDt4RbWlc https://t.co/ans9FU0Otr\" / Twitter\n",
      "https://twitter.com/erikphoel/status/1590319522606886913 | (1) Erik Hoel on Twitter: \"This is what it’s like to be killed by something much smarter than you. They do something that you didn’t even know was possible and then you’re suddenly doomed. This tweet is about AI.\" / Twitter\n",
      "https://twitter.com/iScienceLuvr/status/1592860019057250304 | Tanishq Mathew Abraham on Twitter: \"I will attempt to explain the basic idea of how diffusion models work! ... in only 15 tweets! 😲 Let's get started ↓\" / Twitter\n",
      "https://mobile.twitter.com/i/lists/1483934924482744322 | @jan_von_wilhelm/Taiwan Invasion Analysts / Twitter\n",
      "https://rychappell.substack.com/p/naive-vs-prudent-utilitarianism?utm_source=twitter&sd=pf | Naïve vs Prudent Utilitarianism - by Richard Y Chappell\n",
      "https://twitter.com/JoshuaSteinman/status/1592307005061931008 | joshua steinman (🇺🇸,🇺🇸) on Twitter: \"What the heck, I’ll just do a quick thread to open-source what few people know but don’t want to admit: How this op often gets run in Washington. (thread on how to “work” the current system in DC) 1/\" / Twitter\n",
      "https://twitter.com/VitalikButerin/status/1590473516482465792 | vitalik.eth on Twitter: \"I think the effective altruism community's most underrated weakness is not having a good theory of effectively allocating *social* capital. Especially if you're well-known, you're not just giving out money, but also reallocating public attention, inspiring the next generation...\" / Twitter\n",
      "https://twitter.com/robinhanson/status/1592589618058514432 | (1) Robin Hanson on Twitter: \"Anyone betting on predictions re GPT-4 abilities?\" / Twitter\n",
      "https://twitter.com/prerationalist/status/1592528685542047744 | (1) prerat on Twitter: \"yesterday i ran a poll with a coin flip trolley problem. unfortunately, the clear majority answer leads to EVERYONE dying with 100% probability!! what happened?? 1/\" / Twitter\n",
      "https://mobile.twitter.com/robbensinger/status/1591631842314047488 | Rob Bensinger 🔍 on Twitter: \"My tweets are elucidatory in this way: he who understands me finally recognizes them as bad PR, when he has climbed out through them, on them, over them. He must surmount this bad PR; then he sees the world rightly. Whereof one cannot speak, thereof one must be silent.\" / Twitter\n",
      "https://twitter.com/scienceisstrat1/status/1591323788469207040 | Science Is Strategic on Twitter: \"Most people who care about climate policy focus only on the federal gov. But huge progress (or damage) can be achieved at the state level. Below is a 🧵 on the pro-climate governors who just won tough races (1/10) Cc: @dwallacewells @leahstokes @JesseJenkins @ramez @Noahpinion\" / Twitter\n",
      "https://twitter.com/erikphoel/status/1590319522606886913 | Erik Hoel on Twitter: \"This is what it’s like to be killed by something much smarter than you. They do something that you didn’t even know was possible and then you’re suddenly doomed. This tweet is about AI.\" / Twitter\n",
      "https://mobile.twitter.com/timnitGebru/status/1594496007256973314 | Timnit Gebru is on Mastodon on Twitter: \"Not like we wrote a paper about that or anything which we got fired for. What COULD go wrong?🤔 https://t.co/krVsH5dB7g\" / Twitter\n",
      "https://mobile.twitter.com/nearcyan/status/1594428379964620802 | (1) nearcyan on Twitter: \"DeepCloning, the practice of creating virtual AI clones of humans to replace them socially, has been surging in popularity Does this new AI trend go too far by replicating partners and friends without consent? This court case may help to clarify the legality (2024, NYT) https://t.co/7OvtzSbLLl\" / Twitter\n",
      "https://mobile.twitter.com/mirandahzhang/status/1587818728820834305 | (1) Miranda Zhang on Twitter: \"Live reactions to Tobias Baumann's new book on s-risks https://t.co/hyF1TUeSwc\" / Twitter\n",
      "https://twitter.com/vsbuffalo/status/1591140955004219392 | Vince Buffalo on Twitter: \"Heuristics I use: 1. Avoid confirmatory networks, embrace groups/friends that aren't scared to push back against your ideas. 2. Talk with people in person as much as possible. 3. Understand the limits of self-research. 4. Don't search for confirmation; check for disconfirmation.\" / Twitter\n",
      "https://twitter.com/nikosbosse/status/1595129605131669505 | Nikos Bosse on Twitter: \"Very happy to see that our (and my 1st) paper is now published in its final version in @PLOSCompBiol! https://t.co/W4WgMRuwM4 Provocatively stated, we ask: What does all that epidemiological modelling add for forecasting beyond researchers drawing a line on a piece of paper? 1/\" / Twitter\n",
      "https://mobile.twitter.com/breakingthemark/status/1591114381508558849 | Matt Hollerbach on Twitter: \"Two years ago SBF wrote a thread on bet size and Kelly betting. I questioned him on it. He engaged with me. Let’s take a look at this thread and SBF’s views on bet sizing in light of the events with FTX and Alameda this week.\" / Twitter\n",
      "https://twitter.com/lxrjl/status/1587722328456286208 | alex lawsen on Twitter: \"Huge +1 to this. Not only for this circuit or even mechanistic interpretability in general but most empirical safety. If there are lessons to be learned from how techniques+results transfer to larger models, I want us to learn them sooner rather than later.\" / Twitter\n",
      "https://twitter.com/jordanschnyc/status/1591077334798721032 | (1) Jordan Schneider on Twitter: \"What do the Biden admin's new semiconductor export controls mean for: --the risk of war --the global chips industry --retaliation from Beijing A THREAD:\" / Twitter\n",
      "https://twitter.com/metaphorsystems/status/1590766127034298370 | Metaphor on Twitter: \"https://t.co/NX99LxC7vL is now publicly available! Metaphor is a search engine based on generative AI, the same sorts of techniques behind DALL-E 2 and GPT-3 1/\" / Twitter\n",
      "https://twitter.com/Willyintheworld/status/1589102507334471680 | Will on Twitter: \"When Earth is full, &amp; distant adventure calls, many worlds await. On some of them, families wander on foreign ocean shores at night, gazing at new and beautiful constellations. https://t.co/Ft6jsF1oDp\" / Twitter\n",
      "https://mobile.twitter.com/Willyintheworld/status/1579180202084532224 | Will on Twitter: \"@mealreplacer adjustable dumbbells + bench,~200$ @ beginning of COVID; bone conduction headphones 4 workouts; finding a haircut that works well &amp; barber that can execute it consistently; regular Anki / Readwise habit, but fell off wagon in residency :/ using voice 2 text as default\" / Twitter\n",
      "https://twitter.com/PennsyltuckyDEM/status/1589739274400075776 | Trump+30 county DEM on Twitter: \"Last House, Governor, and senate prediction (thread) https://t.co/8Se4epScTb\" / Twitter\n",
      "https://twitter.com/robinhanson/status/1592589618058514432 | Robin Hanson on Twitter: \"Anyone betting on predictions re GPT-4 abilities?\" / Twitter\n",
      "https://twitter.com/lastpositivist/status/1592881055773921280 | Liam Bright on Twitter: \"Lol just found my old what kind of philosopher flowchart are you. https://t.co/AvV2kajF9k\" / Twitter\n",
      "https://twitter.com/JacobPeacock1/status/1589263448319623169 | Jacob Peacock on Twitter: \"I assume EA existential risk folks are well aware of this but in case any aren't, here's a database of international crises https://t.co/ecc0pc8GtN (idk who comprises x-risk twitter, maybe @NathanpmYoung or @peterwildeford do)\" / Twitter\n",
      "https://twitter.com/hausfath/status/1592205218615529472 | Zeke Hausfather on Twitter: \"I have a new \"big ideas\" piece in the @guardian today arguing that we will need to reverse climate change, not just stop it. https://t.co/w8RgbeqV1b A thread: 1/14\" / Twitter\n",
      "https://mobile.twitter.com/ECaliberSeven/status/1589844954645663745 | Ethan C7 on Twitter: \"FINAL Predictions: Based on an R+1 Environment (= R+2.5 House pop vote b/c uncontested seats) House: 223R-212D Senate: 50R-49D-GA Runoff Gov: 28R-22D https://t.co/C5zPmAk6Df\" / Twitter\n",
      "https://mobile.twitter.com/hausfath/status/1591252542641831936 | https://mobile.twitter.com/hausfath/status/1591252542641831936\n",
      "https://newrepublic.com/article/168551/split-ticket-polling-2022-midterms?utm_medium=Social&utm_campaign=EB_TNR&utm_source=Twitter#Echobox=1667855637 | Meet the Twentysomething Election Forecasters Who Keep Nate Silver on His Toes | The New Republic\n",
      "https://twitter.com/dylanmatt/status/1590908067432247296 | dylan matthews on Twitter: \"Great idea. What's the plan to convince Congress to do this? Who's going to do the persuading? Who's going to pay those people? Who's going to pay to elect people who support tax hikes? https://t.co/UR7ZDY4w6s\" / Twitter\n",
      "https://twitter.com/AndyMasley | Andy Masley (@AndyMasley) / Twitter\n",
      "https://twitter.com/jordanschnyc/status/1593294727708692480 | Jordan Schneider on Twitter: \"RAND helped craft America’s strategy against the USSR which helped win the Cold War. With US-China tensions on the rise, it's wise to reflect on RAND's impact in: — defining nuclear strategy — incubating game theory — reshaping how the Pentagon spends money Here’s a breakdown:\" / Twitter\n",
      "https://mobile.twitter.com/William_Blake/status/1594016871967121408 | (2) Michael P Gibson on Twitter: \"We need more decentralized patronage like this. The Thiel Fellowship was just a proof of concept. It proved out. Time to expand to new arenas of ambition!\" / Twitter\n",
      "https://mobile.twitter.com/jachiam0/status/1591220703361404930 | Joshua Achiam on Twitter: \"Three big pieces of practical advice for EA right now: 1) stop doing groupthink that EA is intrinsically more-trustworthy than everyone else / better at everything than everyone else, because this is a hazardous belief that leads to excessive risk-taking and correlated risks\" / Twitter\n",
      "https://mobile.twitter.com/i/lists/1523816906410524672 | @Noahpinion/China news / Twitter\n",
      "https://mobile.twitter.com/drvolts/status/1594462688096419841 | David Roberts on Twitter: \"I've got a few things to say about all this SBF/FTX/EA mishegas, and I guess I might as well say them before this website dies. I want to pivot off this characteristically excellent piece from @EricLevitz. https://t.co/BLvfqCa8ct\" / Twitter\n",
      "https://twitter.com/RStateBState/status/1596353941364965376 | RedStateBlueState (280 character version) on Twitter: \"@peterwildeford CookPolitical has one but they made it behind a paywall this year :(\" / Twitter\n",
      "https://twitter.com/jaschasd/status/1589424193946648576 | Jascha Sohl-Dickstein on Twitter: \"My first blog post ever! Be harsh, but, you know, constructive. Too much efficiency makes everything worse: overfitting and the strong version of Goodhart's law https://t.co/uR7pL7WNST 🧵 https://t.co/NaibgX1bRb\" / Twitter\n",
      "https://mobile.twitter.com/daniel_eth/status/1580481856880852992 | Daniel Eth💡 on Twitter: \"@mealreplacer AirPods, sunglasses, earplugs, extra pair of AirPods, coffee, reading Alexey Guzey's Theses on Sleep, going to EAG, eating vegetables before each meal, eating carbs right after lifting, going for a 5-10 min walk outside in the morning, chewing gum, can opener, vaccines\" / Twitter\n",
      "https://mobile.twitter.com/joeyfox85/status/1594147502076428289 | Joey Fox on Twitter: \"Purchasing a Far-UV Lamp Here's a review of what I know about the Far-UV market and what you can consider when purchasing a lamp.🧵\" / Twitter\n",
      "https://mobile.twitter.com/Austen/status/1594397332006531072 | Austen Allred on Twitter: \"How headcount explodes in a startup: You do a critical task. It takes 1/8 of your time, and is easy and cheap to hire for. So you hire someone to do the task. That person does that task well. Great hire!\" / Twitter\n",
      "https://mobile.twitter.com/mirandahzhang/status/1587818728820834305 | Miranda Zhang on Twitter: \"Live reactions to Tobias Baumann's new book on s-risks https://t.co/hyF1TUeSwc\" / Twitter\n",
      "https://twitter.com/kesvelt/status/1592203831047327744 | (2) Tweet / Twitter\n",
      "https://mobile.twitter.com/ladyhaja/status/1594266569923764226 | (2) Hannah Jane Parkinson on Twitter: \"Ok. So. Some things happened. And then this happened. Which I... did not see coming?? I feel such deep shame. But I’ve written about it here, and for one reason only: I could not find another way to stop. https://t.co/OqfnH1aMVH\" / Twitter\n",
      "https://twitter.com/davidmanheim/status/1595798762785361925 | David Manheim - In DC Dec 6-8 (+Geneva Nov 28-30) on Twitter: \"Not sure if twitter is actually doomed, or if Mastodon will be able to replace it - but I have now set up a Mastodon account, @davidmanheim@techpolicy.social - and it should do crossposting to / from twitter, thanks to https://t.co/fkh5wsI2cg.\" / Twitter\n",
      "https://twitter.com/thesephist/status/1592924891208372224 | (1) Linus on Twitter: \"Small rant about LLMs and how I see them being put, rather thoughtlessly IMO, into productivity tools. 📄 TL;DR — Most knowledge work isn't a text-generation task, and your product shouldn't ship an implementation detail of LLMs as the end-user interface https://t.co/N1NJoKzUqA https://t.co/eEedO8Zf00\" / Twitter\n",
      "https://twitter.com/robbensinger/status/1595139268019908608 | Rob Bensinger 🔍 on Twitter: \"\"Noticing red flags\" often isn't what it feels like from the inside to properly notice, respond to, and propagate warning signs that someone you respect is fucking up in a surprising way. Things usually feel like \"red flags\" after you're suspicious, rather than before.\" / Twitter\n",
      "https://twitter.com/SteveStuWill/status/1590459984693055489 | Steve Stewart-Williams on Twitter: \"Amazing: The plus signs aren’t moving, expanding, contracting, or rotating at all. Another masterpiece by @jagarikin.\" / Twitter\n",
      "https://twitter.com/sergeykarayev/status/1588572405320290305 | Sergey Karayev on Twitter: \"Elon’s best companies start with the mission and go down to metrics through clear strategy. But with Twitter, he came to own something overpriced and losing money — and so he’s freaking out about metrics. He needs to clearly state the mission FIRST, and only then make changes. https://t.co/64TNT67uUq\" / Twitter\n",
      "https://twitter.com/emollick/status/1592689425943007232 | Ethan Mollick on Twitter: \"Relatedly, this meta-analysis shows \"People quit bosses, not jobs.\" Toxic supervisors &amp; a bad work climate have a large impact on turnover. (Salary only had a small-to-moderate effect, with non-monetary compensation, like training, having a bigger role for retaining talent) https://t.co/5VreCsSdWJ\" / Twitter\n",
      "https://twitter.com/bridgetw_au/status/1587848318155165696 | Bridget Williams on Twitter: \"The good news is that there's a lot we can do to guard against pandemics. The bad news is we're not doing anywhere near enough of it. In this @BulletinAtomic article, @willmacaskill and I suggest four things we should be doing to reduce pandemic risk. https://t.co/IJ6I7cORpD\" / Twitter\n",
      "https://twitter.com/Jess_Riedel/status/1588233438712057856 | Jess Riedel on Twitter: \"This has long been a close approximation to my view, and I'm glad Scott picked a not-too-terrible label for it (\"Physical Everettianism\"), given his well-deserved influence on such things. Anyone know an existing term, perhaps among specialists? https://t.co/RiLB0dKQME https://t.co/EOw4J7EbIr\" / Twitter\n",
      "https://twitter.com/tobyordoxford/status/1591034474619600905 | Toby Ord on Twitter: \"@RichardMCNgo There are about 20 billion galaxies in the affectable universe, and each year about 3 of these become forever unreachable.\" / Twitter\n",
      "https://mobile.twitter.com/fuckyouiquit | Fuck You I Quit (@fuckyouiquit) / Twitter\n",
      "https://twitter.com/oh_that_hat/status/1593337982144110593 | Hattie Zhou on Twitter: \"“LLMs can’t even do addition” 📄🚨We show that they CAN add! To teach algos to LLMs, the trick is to describe the algo in enough detail so that there is no room for misinterpretation w/ @Azade_na @hugo_larochelle @AaronCourville @bneyshabur @HanieSedghi https://t.co/kvsxBYSLVu https://t.co/OSW8kLBnqT\" / Twitter\n",
      "https://twitter.com/tafjos20/status/1592568558206480384 | Josh Taft on Twitter: \"With the final results near, I will go over how my model worked out. In the end, as my model indicated, 2022 was much less Republican than what many had expected. With that alone, I am already happy with my model. Dems held the Senate, and the GOP win the House (barely).\" / Twitter\n",
      "https://mobile.twitter.com/testinprodcap/status/1591735465715306496 | tipc on Twitter: \"1/n. I read ~3 years of @carolinecapital blog posts. This is a general review... mostly bc her beliefs, interests, and thoughts change drastically over time. Ex: her poly post was taken out of context, since it was written in 2020, before Bahamas. TLDR: Caroline is very based.\" / Twitter\n",
      "https://mobile.twitter.com/nikosbosse/status/1594002194571071490 | (1) Nikos Bosse on Twitter: \"One good aspect of this terrible FTX situation is the postmortem and genuine criticism and important scrutiny of dynamics in the EA community that are being raised right now. I think EA as a principle is really good, and I hope for EA as a community to be as good as it can be. https://t.co/FYcwqQvp8a\" / Twitter\n"
     ]
    }
   ],
   "source": [
    "twitter_tabs = [t for t in tabs if 'twitter' in t.lower() and 'messages' not in t.lower()]\n",
    "print_tabs(twitter_tabs, label='Twitter')"
   ]
  },
  {
   "cell_type": "code",
   "execution_count": 6,
   "id": "0e8d623e",
   "metadata": {},
   "outputs": [
    {
     "name": "stdout",
     "output_type": "stream",
     "text": [
      "Opening page 13/4 (tabs 240-259 of 66)\n"
     ]
    }
   ],
   "source": [
    "open_tabs(twitter_tabs, page=13, per_page=20)"
   ]
  },
  {
   "cell_type": "code",
   "execution_count": 7,
   "id": "c4635d45",
   "metadata": {},
   "outputs": [
    {
     "name": "stdout",
     "output_type": "stream",
     "text": [
      "## Google Docs ## (8 tabs)\n",
      "\n",
      "https://docs.google.com/document/d/1fqSeu0YL223ngmSCvkuhsJ5zCKBOEzxhyfSEkUPfUq8/edit#heading=h.fi89msedic2b | AI threat model reading list [crappy first attempt] - Google Docs\n",
      "https://docs.google.com/document/d/1xNcOBHi1BLcR6ruuiZTeRMSf43942CCOQ2gAE7if2y0/edit#heading=h.rlqrkb7y1oy2 | Peter/Renan 1-1s - Google Docs\n",
      "https://docs.google.com/document/d/1r0TPCpivFX3sHbcDdRc2ZC85tiocnFZyii2woVVacMs/edit | AI Reading Notes - Google Docs\n",
      "https://docs.google.com/document/d/1KAIbBXnvMOM_T7qOe5b1mV8bbdMXTlfhjbFw2uQNCf4/edit#heading=h.voazkych40mx | The S-curve model & attention hazards: When should we advocate for AGI risk? - Google Docs\n",
      "https://docs.google.com/document/d/1fK93gm6MEoLaiZ8PvnflrqHbbfcLpw6s7B0KYj7NXqc/edit# | Tabs and notes - Google Docs\n",
      "https://docs.google.com/document/d/1AWf8uboXCcA3RWhlJrNcCbIsk2u1ZH4aNTCsh3NCoEk/edit# | Call Notes | Luke <> Amanda, Michael, Peter - Google Docs\n",
      "https://docs.google.com/document/d/1JabFRQpEPsKxPnqzd5LIRYDh6uaVPhowlvVbBFsY5p4/edit#heading=h.w0cdaxsvsvlx | MW Paul Christiano - Google Docs\n",
      "https://docs.google.com/document/d/1j3QFYmCQO-Uz9HGVvWtCHIj2i_mtVwSPEcqMyZCF7Do/edit#heading=h.y0pj04qpu75q | Project idea: Could California pass something that prevents antitrust issues from impeding useful inter-lab coordination? - Google Docs\n"
     ]
    }
   ],
   "source": [
    "doc_tabs = [t for t in tabs if ('docs.google' in t.lower() or 'sheets.google' in t.lower() or 'drive.google' in t.lower())]\n",
    "print_tabs(doc_tabs, label='Google Docs')\n"
   ]
  },
  {
   "cell_type": "code",
   "execution_count": 8,
   "id": "18e9e150",
   "metadata": {},
   "outputs": [],
   "source": [
    "#open_tabs(doc_tabs, page=22)"
   ]
  },
  {
   "cell_type": "code",
   "execution_count": 9,
   "id": "6311fa07",
   "metadata": {},
   "outputs": [
    {
     "name": "stdout",
     "output_type": "stream",
     "text": [
      "## Google search ## (0 tabs)\n",
      "\n"
     ]
    }
   ],
   "source": [
    "print_tabs([t for t in tabs if ('google.com' in t.lower() and 'search' in t.lower() and\n",
    "                                not ('docs.google' in t.lower() or 'sheets.google' in t.lower()))],\n",
    "           label='Google search')"
   ]
  },
  {
   "cell_type": "code",
   "execution_count": 10,
   "id": "53b9762e",
   "metadata": {},
   "outputs": [
    {
     "name": "stdout",
     "output_type": "stream",
     "text": [
      "## EAFo/LW ## (25 tabs)\n",
      "\n",
      "https://forum.effectivealtruism.org/posts/tnSg6o7crcHFLc395/the-welfare-range-table | The Welfare Range Table - EA Forum\n",
      "https://forum.effectivealtruism.org/posts/22zk3tZyYWoanQwt7/training-for-good-update-and-plans-for-2023 | Training for Good - Update & Plans for 2023 - EA Forum\n",
      "https://forum.effectivealtruism.org/posts/XyEKTDtfMH4DukhaF/the-challenges-with-measuring-the-impact-of-lobbying | The Challenges with Measuring the Impact of Lobbying - EA Forum\n",
      "https://forum.effectivealtruism.org/posts/nGrmemHzQvBpnXkNX/what-matters-to-shrimps-factors-affecting-shrimp-welfare-in | What matters to shrimps? Factors affecting shrimp welfare in aquaculture - EA Forum\n",
      "https://forum.effectivealtruism.org/posts/xafpj3on76uRDoBja/the-ftx-future-fund-team-has-resigned-1?commentId=FqA7gH6MBP4whxNig#FkmTt6CnfKY3zpNZv | The FTX Future Fund team has resigned - EA Forum\n",
      "https://forum.effectivealtruism.org/posts/PyZCqLrDTJrQofEf7/how-bad-could-a-war-get | How bad could a war get? - EA Forum\n",
      "https://forum.effectivealtruism.org/posts/yPDXXxdeK9cgCfLwj/short-research-summary-can-insects-feel-pain-a-review-of-the#comments | Short Research Summary: Can insects feel pain? A review of the neural and behavioural evidence by Gibbons et al. 2022 - EA Forum\n",
      "https://forum.effectivealtruism.org/posts/WfeWN2X4k8w8nTeaS/theories-of-welfare-and-welfare-range-estimates | Theories of Welfare and Welfare Range Estimates - EA Forum\n",
      "https://forum.effectivealtruism.org/posts/KqCybin8rtfP3qztq/agi-and-lock-in | AGI and Lock-In - EA Forum\n",
      "https://forum.effectivealtruism.org/posts/3EvLvjfsujzjjXTJM/delay-detect-defend-preparing-for-a-future-in-which | Delay, Detect, Defend: Preparing for a Future in which Thousands Can Release New Pandemics by Kevin Esvelt - EA Forum\n",
      "https://www.lesswrong.com/posts/zB3ukZJqt3pQDw9jz/ai-will-change-the-world-but-won-t-take-it-over-by-playing-3 | AI will change the world, but won’t take it over by playing “3-dimensional chess”. - LessWrong\n",
      "https://www.lesswrong.com/posts/HoQ5Rp7Gs6rebusNP/superintelligent-ai-is-necessary-for-an-amazing-future-but-1 | Superintelligent AI is necessary for an amazing future, but far from sufficient - LessWrong\n",
      "https://www.lesswrong.com/posts/SWxnP5LZeJzuT3ccd/pr-is-corrosive-reputation-is-not | “PR” is corrosive; “reputation” is not. - LessWrong\n",
      "https://forum.effectivealtruism.org/posts/xnHnsrFEMEMPXBWqR/ask-charity-entrepreneurship-anything#comments | Ask Charity Entrepreneurship Anything - EA Forum\n",
      "https://forum.effectivealtruism.org/posts/K7aA9YXRoRQvqjXuq/a-case-against-focusing-on-tail-end-nuclear-war-risks | A case against focusing on tail-end nuclear war risks - EA Forum\n",
      "https://forum.effectivealtruism.org/posts/v7gep2d9Dr4bT8DnF/notes-on-barriers-to-bioweapons-ben-ouagrham-gormley-2014 | Notes on \"Barriers to Bioweapons\" (Ben Ouagrham-Gormley, 2014) - EA Forum\n",
      "https://forum.effectivealtruism.org/posts/AbohvyvtF6P7cXBgy/brainstorming-ways-to-make-ea-safer-and-more-inclusive | Brainstorming ways to make EA safer and more inclusive - EA Forum\n",
      "https://forum.effectivealtruism.org/posts/sEpWkCvvJfoEbhnsd/the-ftx-crisis-highlights-a-deeper-cultural-problem-within | The FTX crisis highlights a deeper cultural problem within EA - we don't sufficiently value good governance - EA Forum\n",
      "https://forum.effectivealtruism.org/posts/uY5SwjHTXgTaWC85f/don-t-just-give-well-give-wellbys-hli-s-2022-charity | Don’t just give well, give WELLBYs: HLI’s 2022 charity recommendation - EA Forum\n",
      "https://www.lesswrong.com/posts/t9svvNPNmFf5Qa3TA/mysteries-of-mode-collapse-due-to-rlhf | Mysteries of mode collapse - LessWrong\n",
      "https://forum.effectivealtruism.org/posts/c5DgfRyWgS2Sjgzmt/on-funding-trust-relationships-and-scaling-our-community | On funding, trust relationships, and scaling our community [PalmCone memo] - EA Forum\n",
      "https://forum.effectivealtruism.org/posts/5iQoR8mhEpvRT43jv/part-1-the-ai-safety-community-has-four-main-work-groups | Part 1: The AI Safety community has four main work groups, Strategy, Governance, Technical and Movement Building - EA Forum\n",
      "https://forum.effectivealtruism.org/posts/yPDXXxdeK9cgCfLwj/short-research-summary-can-insects-feel-pain-a-review-of-the | Short Research Summary: Can insects feel pain? A review of the neural and behavioural evidence by Gibbons et al. 2022 - EA Forum\n",
      "https://www.lesswrong.com/posts/EjX63wQoMSoCHMrmY/announcing-ai-safety-mentors-and-mentees | Announcing AI safety Mentors and Mentees - LessWrong\n",
      "https://forum.effectivealtruism.org/posts/pb7Q9awb5nsx3mRzk/ml-safety-scholars-summer-2022-retrospective | ML Safety Scholars Summer 2022 Retrospective - EA Forum\n"
     ]
    }
   ],
   "source": [
    "print_tabs([t for t in tabs if ('forum.effectivealtruism' in t.lower() or 'lesswrong' in t.lower())], label='EAFo/LW')"
   ]
  },
  {
   "cell_type": "code",
   "execution_count": 11,
   "id": "42ae2aee",
   "metadata": {},
   "outputs": [
    {
     "name": "stdout",
     "output_type": "stream",
     "text": [
      "## Metaculus etc. ## (0 tabs)\n",
      "\n"
     ]
    }
   ],
   "source": [
    "print_tabs([t for t in tabs if ('metaculus' in t.lower() or 'manifold' in t.lower() or 'predictit' in t.lower())], label='Metaculus etc.')\n"
   ]
  },
  {
   "cell_type": "code",
   "execution_count": 12,
   "id": "72bdaddd",
   "metadata": {},
   "outputs": [
    {
     "name": "stdout",
     "output_type": "stream",
     "text": [
      "## Wikipedia ## (0 tabs)\n",
      "\n"
     ]
    }
   ],
   "source": [
    "print_tabs([t for t in tabs if 'wikipedia' in t.lower()], label='Wikipedia')"
   ]
  },
  {
   "cell_type": "code",
   "execution_count": 13,
   "id": "ca9dcfdf",
   "metadata": {},
   "outputs": [
    {
     "name": "stdout",
     "output_type": "stream",
     "text": [
      "## Reddit ## (0 tabs)\n",
      "\n"
     ]
    }
   ],
   "source": [
    "print_tabs([t for t in tabs if 'reddit' in t.lower()], label='Reddit')"
   ]
  },
  {
   "cell_type": "code",
   "execution_count": 14,
   "id": "5dedf293",
   "metadata": {},
   "outputs": [
    {
     "name": "stdout",
     "output_type": "stream",
     "text": [
      "## localhost ## (0 tabs)\n",
      "\n"
     ]
    }
   ],
   "source": [
    "print_tabs([t for t in tabs if 'guarded-everglades-89687.herokuapp.com' in t.lower() or 'localhost' in t.lower()], label='localhost')\n"
   ]
  },
  {
   "cell_type": "code",
   "execution_count": 15,
   "id": "677f610e",
   "metadata": {},
   "outputs": [
    {
     "name": "stdout",
     "output_type": "stream",
     "text": [
      "## Chores ## (0 tabs)\n",
      "\n"
     ]
    }
   ],
   "source": [
    "print_tabs([t for t in tabs if 'instacart' in t.lower()], label='Chores')"
   ]
  },
  {
   "cell_type": "code",
   "execution_count": 16,
   "id": "5fce865e",
   "metadata": {},
   "outputs": [
    {
     "name": "stdout",
     "output_type": "stream",
     "text": [
      "## Amazon ## (0 tabs)\n",
      "\n"
     ]
    }
   ],
   "source": [
    "print_tabs([t for t in tabs if 'amazon.com' in t.lower()], label='Amazon')"
   ]
  },
  {
   "cell_type": "code",
   "execution_count": 17,
   "id": "16d46af9",
   "metadata": {},
   "outputs": [
    {
     "name": "stdout",
     "output_type": "stream",
     "text": [
      "## Morning Dispatch ## (0 tabs)\n",
      "\n"
     ]
    }
   ],
   "source": [
    "print_tabs([t for t in tabs if 'morning' in t.lower() and 'dispatch' in t.lower()], label='Morning Dispatch')"
   ]
  },
  {
   "cell_type": "code",
   "execution_count": 18,
   "id": "108d879a",
   "metadata": {},
   "outputs": [
    {
     "name": "stdout",
     "output_type": "stream",
     "text": [
      "## GitHub ## (0 tabs)\n",
      "\n"
     ]
    }
   ],
   "source": [
    "print_tabs([t for t in tabs if 'github' in t.lower()], label='GitHub')"
   ]
  },
  {
   "cell_type": "code",
   "execution_count": 19,
   "id": "d911bbda",
   "metadata": {},
   "outputs": [
    {
     "name": "stdout",
     "output_type": "stream",
     "text": [
      "## YouTube ## (2 tabs)\n",
      "\n",
      "https://www.youtube.com/watch?v=Obim8BYGnOE | Till I Collapse - YouTube\n",
      "https://www.youtube.com/watch?v=mRo7tMnM60I | Agatha Christie's Poirot - Opening Theme Music - YouTube\n"
     ]
    }
   ],
   "source": [
    "print_tabs([t for t in tabs if 'yout' in t.lower()], label='YouTube')"
   ]
  },
  {
   "cell_type": "code",
   "execution_count": 20,
   "id": "2649c14d",
   "metadata": {},
   "outputs": [
    {
     "name": "stdout",
     "output_type": "stream",
     "text": [
      "## Instagram ## (0 tabs)\n",
      "\n"
     ]
    }
   ],
   "source": [
    "print_tabs([t for t in tabs if 'instagram.com' in t.lower()], label='Instagram')"
   ]
  },
  {
   "cell_type": "code",
   "execution_count": 21,
   "id": "bc70c265",
   "metadata": {},
   "outputs": [
    {
     "name": "stdout",
     "output_type": "stream",
     "text": [
      "## Other ## (71 tabs)\n",
      "\n",
      "https://www.wsj.com/articles/beijing-has-few-good-options-to-retaliate-for-chip-bans-11666956716?st=qmucttjgbnhaoor | Beijing Has Few Good Options to Retaliate for Chip Bans - WSJ\n",
      "https://www.ncbi.nlm.nih.gov/pmc/articles/PMC2128009/pdf/9448541.pdf | Education and Debate - 20 dec 1997\n",
      "https://en.wiktionary.org/wiki/a_bird_in_the_hand_is_worth_two_in_the_bush | a bird in the hand is worth two in the bush - Wiktionary\n",
      "https://asteriskmag.com/issues/1/why-isn-t-the-whole-world-rich | Why Isn’t the Whole World Rich?—Asterisk\n",
      "https://www.slowboring.com/p/two-years-of-strong-and-slow-boring | Two years of strong and slow boring of hard boards\n",
      "https://asteriskmag.com/issues/1/review-what-we-owe-the-future | What We Owe The Future—Asterisk\n",
      "https://asteriskmag.com/issues/1/they-may-as-well-grow-on-trees-the-future-of-genetically-engineered-livestock | They May as Well Grow on Trees—Asterisk\n",
      "https://asteriskmag.com/issues/1/the-illogic-of-nuclear-escalation | The Illogic of Nuclear Escalation—Asterisk\n",
      "https://huggingface.co/spaces/THUDM/GLM-130B | GLM 130B - a Hugging Face Space by THUDM\n",
      "https://www.theguardian.com/fashion/shortcuts/2013/nov/05/sex-obese-men-stock-shot-model | I do NOT like sex with old, obese men: the perils of being a stock-shot model | Models | The Guardian\n",
      "https://asteriskmag.com/issues/1/making-sense-of-moral-change | Making Sense of Moral Change—Asterisk\n",
      "https://generallyintelligent.com/launch/ | Introducing Generally Intelligent - generally intelligent\n",
      "https://www.governance.ai/post/summer-fellowship-2022-wrap-up | Summer Fellowship 2022 Wrap Up - What did our Fellows work on? | GovAI Blog\n",
      "https://animalcharityevaluators.org/charity-review/wild-animal-initiative/ | Wild Animal Initiative Review - Animal Charity Evaluators\n",
      "https://www.slowboring.com/p/theres-no-substitute-for-being-right | There’s no substitute for being right all the time about everything\n",
      "https://metaphor.systems/ | Metaphor\n",
      "https://open.spotify.com/playlist/7uMJU4NjG3ADcOscbeZU7J?si=88632fcaa7e34789&nd=1 | Spotify – P\n",
      "https://thedispatch.com/article/dems-face-a-test-after-tuesday/ | Dems Face a Test After Tuesday - The Dispatch\n",
      "https://garymarcus.substack.com/p/what-does-meta-ais-diplomacy-winning | What does Meta AI’s Diplomacy-winning Cicero Mean for AI?\n",
      "https://web.archive.org/web/20210625103706/https://worldoptimization.tumblr.com/\n",
      "https://noahpinion.substack.com/p/two-years-of-noahpinion | Two years of Noahpinion - by Noah Smith - Noahpinion\n",
      "https://chrisblattman.com/blog/2022/10/26/the-prospects-for-war-with-china-why-i-see-a-serious-chance-of-world-war-iii-in-the-next-decade/ | The prospects for war with China: Why I see a serious chance of World War III in the next decade - Chris Blattman\n",
      "https://archive.ph/z2MTA | Why Republican Insiders Think the G.O.P. Is Poised for a Blowout | The New Yorker\n",
      "https://asteriskmag.com/issues/1/rebuilding-after-the-replication-crisis | Rebuilding After the Replication Crisis—Asterisk\n",
      "https://lethain.com/newsletter/ | Newsletter for Irrational Exuberance. | Irrational Exuberance\n",
      "https://guzey.com/what-is-the-alternative-to-utilitarianism/ | What is the alternative to utilitarianism? - Alexey Guzey\n",
      "https://asteriskmag.com/issues/1/is-wine-fake | Is Wine Fake?—Asterisk\n",
      "https://joecarlsmith.com/2020/11/22/the-impact-merge | The impact merge - Joe Carlsmith\n",
      "https://hastie.su.domains/ISLR2/ISLRv2_website.pdf | ISLRv2_website.pdf\n",
      "https://www.slowboring.com/p/a-short-veterans-day-post | A short Veterans' Day post - by Matthew Yglesias\n",
      "https://www.theguardian.com/commentisfree/2022/nov/16/is-the-effective-altruism-movement-in-trouble | Is the effective altruism movement in trouble? | Olúfẹ́mi O Táíwò and Joshua Stein | The Guardian\n",
      "https://www.benkuhn.net/weekly/ | My weekly review habit | benkuhn.net\n",
      "https://lucid.app/lucidchart/44eb5ce3-d160-437e-8122-ce33b70b6237/view?page=cOPIp_FU1LGK# | OP_OrgChart : Lucidchart\n",
      "https://techpolicy.press/to-regulate-general-purpose-ai-make-the-model-move/ | To Regulate General Purpose AI, Make the Model Move\n",
      "https://forecasting.substack.com/p/forecasting-newsletter-for-october | Forecasting Newsletter for October 2022 - by Nuño Sempere\n",
      "https://www.cnn.com/interactive/2022/11/politics/election-deniers-winners-losers-midterms-2022/ | How 2020 election deniers did in their 2022 midterm races - CNN.com\n",
      "https://www.semafor.com/newsletter/11/24/2022/black-friday-edition | Black Friday edition | Semafor\n",
      "https://www.businessinsider.com/landlord-emails-all-tenants-in-message-helps-them-organize-strike-2020-4 | Landlord Emails Tenants in One Message, Accidentally Helps Rent Strike\n",
      "https://gelliottmorris.substack.com/p/the-pollsters-got-the-midterms-right | The (good) pollsters got the midterms right\n",
      "https://nintil.com/interesting-ai-models | Nintil - Images and Words: AI in 2026\n",
      "https://open.spotify.com/album/0FyJd55Ct913J709OiRiDy?si=XHxEXczURCeCr88LDzkKAQ&nd=1 | Spotify – Dominions\n",
      "https://lethain.com/rails-for-engineering-leadership/ | My rails for engineering leadership. | Irrational Exuberance\n",
      "https://asteriskmag.com/issues/1/how-to-prevent-the-next-pandemic | How to Prevent the Next Pandemic—Asterisk\n",
      "https://windowsontheory.org/2022/06/27/injecting-some-numbers-into-the-agi-debate/ | Injecting some numbers into the AGI debate – Windows On Theory\n",
      "https://www.nytimes.com/2022/11/18/opinion/effective-altruism.html | Opinion | The Case for a Less-Effective Altruism - The New York Times\n",
      "https://www.nytimes.com/2022/11/08/upshot/poll-experiment-wisconsin-trump.html | Are the Polls Still Missing ‘Hidden’ Republicans? Here’s What We’re Doing to Find Out. - The New York Times\n",
      "https://towardsdatascience.com/4-things-gpt-4-will-improve-from-gpt-3-2b1e7a6da49f | 4 Things GPT-4 Will Improve From GPT-3 | by Alberto Romero | Towards Data Science\n",
      "https://www.snapfish.com/home | Online Photo Printing & Personalized Photo Gift Ideas | Snapfish US\n",
      "https://cultureplot.com/usa-happiness-report/ | Gross National Happiness USA Happiness Report\n",
      "http://collinpburns.com/ | About me - Collin Burns\n",
      "https://www.theatlantic.com/magazine/archive/2022/12/china-takeover-taiwan-xi-tsai-ing-wen/671895/ | Taiwan Wants China to Think Twice About an Invasion - The Atlantic\n",
      "https://www.nature.com/articles/s43016-022-00632-6 | Invertebrate sentience and sustainable seafood | Nature Food\n",
      "https://jamesozden.substack.com/p/effective-altruism-not-as-bad-as | Effective Altruism: Not as bad as you think\n",
      "https://www.politico.com/newsletters/national-security-daily | National Security Daily - POLITICO\n",
      "https://nintil.com/nnlibertarianfaq/ | Nintil - The Non-Non-Libertarian FAQ\n",
      "https://nymag.com/intelligencer/2022/11/biden-economic-war-china-chips-semiconductors-export-controls.html | Biden’s New Cold War Against China Could Backfire\n",
      "https://www.slideshare.net/eldon/sequoia-capital-on-startups-and-the-economic-downturn-presentation?type=powerpoint | Sequoia Capital on startups and the economic downturn\n",
      "https://noahpinion.substack.com/p/the-promise-of-cultivated-meat | The promise of cultivated meat - by Noah Smith - Noahpinion\n",
      "https://nihalsahu.substack.com/p/extremely-basic-productivity-advice | Extremely basic productivity advice - Between the Lines\n",
      "https://firstsigma.substack.com/ | First Sigma | Jack | Substack\n",
      "https://www.slowboring.com/p/one-billion-americans-now-more-than | One Billion Americans — now more than ever\n",
      "https://asteriskmag.com/issues/1/china-s-silicon-future | China’s Silicon Future—Asterisk\n",
      "https://scottaaronson.blog/?p=6821%20|%20Reform%20AI%20Alignment | Shtetl-Optimized » Blog Archive » Reform AI Alignment\n",
      "https://www.secondbest.ca/p/why-im-not-exactly-an-effective-altruist | Why I'm not (exactly) an Effective Altruist\n",
      "https://www.slowboring.com/p/democrats-pulled-off-one-of-the-best | Democrats pulled off one of the best midterms ever\n",
      "https://asteriskmag.com/issues/1/modeling-the-end-of-monkeypox | Modeling the End of Monkeypox—Asterisk\n",
      "https://noahpinion.substack.com/p/why-the-midterms-make-me-optimistic | Why the midterms make me optimistic for America\n",
      "https://clearerthinkingpodcast.com/ | Home | Clearer Thinking with Spencer Greenberg\n",
      "https://animalcharityevaluators.org/charity-review/faunalytics/ | Faunalytics Review - Animal Charity Evaluators\n",
      "https://rychappell.substack.com/ | Good Thoughts | Richard Y Chappell | Substack\n",
      "https://www.washingtonpost.com/opinions/2022/11/10/republicans-house-democrats-lame-duck-trump-ukraine/ | Opinion | 5 ways to ‘crazyproof’ the country against the chaos of a GOP House - The Washington Post\n"
     ]
    }
   ],
   "source": [
    "tabs_ = [t for t in tabs if (not ('google.com' in t.lower() and 'search' in t.lower() and not ('docs.google' in t.lower() or 'sheets.google' in t.lower())) and\n",
    "                             not ('docs.google' in t.lower() or 'sheets.google' in t.lower() or 'drive.google' in t.lower()) and\n",
    "                             not 'facebook.com' in t.lower() and\n",
    "                             not 'twitter' in t.lower() and\n",
    "                             not ('forum.effectivealtruism' in t.lower() or 'lesswrong' in t.lower()) and\n",
    "                             not ('metaculus' in t.lower() or 'manifold' in t.lower() or 'predictit' in t.lower()) and\n",
    "                             not 'wikipedia' in t.lower() and\n",
    "                             not 'reddit' in t.lower() and\n",
    "                             not 'instagram.com' in t.lower() and\n",
    "                             not ('guarded-everglades-89687.herokuapp.com' in t.lower() or 'localhost' in t.lower()) and\n",
    "                             not 'instacart' in t.lower() and\n",
    "                             not ('morning' in t.lower() and 'dispatch' in t.lower()) and\n",
    "                             not 'amazon.com' in t.lower() and\n",
    "                             not 'github' in t.lower() and\n",
    "                             not 'calendar.google' in t.lower() and\n",
    "                             not 'yout' in t.lower() and\n",
    "                             not ('messages/' in t.lower() or 'inbox/' in t.lower() or 'swapcard' in t.lower()))]\n",
    "print_tabs(tabs_, label='Other')\n",
    "\n"
   ]
  },
  {
   "cell_type": "code",
   "execution_count": 32,
   "id": "6c128ee3-03e2-4cfb-bfd1-0dfc84775af1",
   "metadata": {},
   "outputs": [
    {
     "name": "stdout",
     "output_type": "stream",
     "text": [
      "## Shuffled all tabs ## (178 tabs)\n",
      "\n",
      "https://windowsontheory.org/2022/06/27/injecting-some-numbers-into-the-agi-debate/ | Injecting some numbers into the AGI debate – Windows On Theory\n",
      "https://twitter.com/VitalikButerin/status/1588669782471368704 | vitalik.eth on Twitter: \"Updated roadmap diagram! https://t.co/MT9BKgYcJH\" / Twitter\n",
      "https://twitter.com/Jess_Riedel/status/1588233438712057856 | https://twitter.com/Jess_Riedel/status/1588233438712057856\n",
      "https://mobile.twitter.com/robbensinger/status/1591631842314047488 | Rob Bensinger 🔍 on Twitter: \"My tweets are elucidatory in this way: he who understands me finally recognizes them as bad PR, when he has climbed out through them, on them, over them. He must surmount this bad PR; then he sees the world rightly. Whereof one cannot speak, thereof one must be silent.\" / Twitter\n",
      "https://www.lesswrong.com/posts/EjX63wQoMSoCHMrmY/announcing-ai-safety-mentors-and-mentees | Announcing AI safety Mentors and Mentees - LessWrong\n",
      "https://www.benkuhn.net/weekly/ | My weekly review habit | benkuhn.net\n",
      "https://towardsdatascience.com/4-things-gpt-4-will-improve-from-gpt-3-2b1e7a6da49f | 4 Things GPT-4 Will Improve From GPT-3 | by Alberto Romero | Towards Data Science\n",
      "https://www.wsj.com/articles/beijing-has-few-good-options-to-retaliate-for-chip-bans-11666956716?st=qmucttjgbnhaoor | Beijing Has Few Good Options to Retaliate for Chip Bans - WSJ\n",
      "https://twitter.com/scienceisstrat1/status/1591323788469207040 | Science Is Strategic on Twitter: \"Most people who care about climate policy focus only on the federal gov. But huge progress (or damage) can be achieved at the state level. Below is a 🧵 on the pro-climate governors who just won tough races (1/10) Cc: @dwallacewells @leahstokes @JesseJenkins @ramez @Noahpinion\" / Twitter\n",
      "https://lethain.com/newsletter/ | Newsletter for Irrational Exuberance. | Irrational Exuberance\n",
      "https://www.washingtonpost.com/opinions/2022/11/10/republicans-house-democrats-lame-duck-trump-ukraine/ | Opinion | 5 ways to ‘crazyproof’ the country against the chaos of a GOP House - The Washington Post\n",
      "https://www.lesswrong.com/posts/HoQ5Rp7Gs6rebusNP/superintelligent-ai-is-necessary-for-an-amazing-future-but-1 | Superintelligent AI is necessary for an amazing future, but far from sufficient - LessWrong\n",
      "https://twitter.com/Jess_Riedel/status/1588233438712057856 | Jess Riedel on Twitter: \"This has long been a close approximation to my view, and I'm glad Scott picked a not-too-terrible label for it (\"Physical Everettianism\"), given his well-deserved influence on such things. Anyone know an existing term, perhaps among specialists? https://t.co/RiLB0dKQME https://t.co/EOw4J7EbIr\" / Twitter\n",
      "https://docs.google.com/document/d/1fqSeu0YL223ngmSCvkuhsJ5zCKBOEzxhyfSEkUPfUq8/edit#heading=h.fi89msedic2b | AI threat model reading list [crappy first attempt] - Google Docs\n",
      "https://forum.effectivealtruism.org/posts/tnSg6o7crcHFLc395/the-welfare-range-table | The Welfare Range Table - EA Forum\n",
      "https://asteriskmag.com/issues/1/modeling-the-end-of-monkeypox | Modeling the End of Monkeypox—Asterisk\n",
      "https://noahpinion.substack.com/p/the-promise-of-cultivated-meat | The promise of cultivated meat - by Noah Smith - Noahpinion\n",
      "https://forum.effectivealtruism.org/posts/K7aA9YXRoRQvqjXuq/a-case-against-focusing-on-tail-end-nuclear-war-risks | A case against focusing on tail-end nuclear war risks - EA Forum\n",
      "https://techpolicy.press/to-regulate-general-purpose-ai-make-the-model-move/ | To Regulate General Purpose AI, Make the Model Move\n",
      "https://mobile.twitter.com/messages/25776739-2149921538 | Tessa Alexanian / Twitter\n",
      "https://forum.effectivealtruism.org/posts/yPDXXxdeK9cgCfLwj/short-research-summary-can-insects-feel-pain-a-review-of-the#comments | Short Research Summary: Can insects feel pain? A review of the neural and behavioural evidence by Gibbons et al. 2022 - EA Forum\n",
      "https://web.archive.org/web/20210625103706/https://worldoptimization.tumblr.com/\n",
      "https://astralcodexten.substack.com/p/mantic-monday-twitter-chaos-edition?utm_source=post-email-title | Mantic Monday: Twitter Chaos Edition - by Scott Alexander\n",
      "https://chrisblattman.com/blog/2022/10/26/the-prospects-for-war-with-china-why-i-see-a-serious-chance-of-world-war-iii-in-the-next-decade/ | The prospects for war with China: Why I see a serious chance of World War III in the next decade - Chris Blattman\n",
      "https://joecarlsmith.com/2020/11/22/the-impact-merge | The impact merge - Joe Carlsmith\n",
      "https://noahpinion.substack.com/p/why-the-midterms-make-me-optimistic | Why the midterms make me optimistic for America\n",
      "https://docs.google.com/document/d/1r0TPCpivFX3sHbcDdRc2ZC85tiocnFZyii2woVVacMs/edit | AI Reading Notes - Google Docs\n",
      "https://twitter.com/robertwiblin/status/1590322484787965952 | Robert Wiblin on Twitter: \"Today's new episode of the show, on whether war is in decline, is very good IMO! \"In a nutshell, and taking in the full picture painted by these different measures, Bear simply finds no general trend in either direction from 1815 through today.\" https://t.co/ZukdUhj0Gp\" / Twitter\n",
      "https://twitter.com/tobyordoxford/status/1591034474619600905 | Toby Ord on Twitter: \"@RichardMCNgo There are about 20 billion galaxies in the affectable universe, and each year about 3 of these become forever unreachable.\" / Twitter\n",
      "https://twitter.com/prerationalist/status/1592528685542047744 | (1) prerat on Twitter: \"yesterday i ran a poll with a coin flip trolley problem. unfortunately, the clear majority answer leads to EVERYONE dying with 100% probability!! what happened?? 1/\" / Twitter\n",
      "https://nihalsahu.substack.com/p/extremely-basic-productivity-advice | Extremely basic productivity advice - Between the Lines\n",
      "https://forum.effectivealtruism.org/posts/PyZCqLrDTJrQofEf7/how-bad-could-a-war-get | How bad could a war get? - EA Forum\n",
      "https://forum.effectivealtruism.org/posts/3EvLvjfsujzjjXTJM/delay-detect-defend-preparing-for-a-future-in-which | Delay, Detect, Defend: Preparing for a Future in which Thousands Can Release New Pandemics by Kevin Esvelt - EA Forum\n",
      "https://twitter.com/messages/25776739-494261098 | Carolyn Meinel is at mastodon.social/@cmeinel / Twitter\n",
      "https://www.slideshare.net/eldon/sequoia-capital-on-startups-and-the-economic-downturn-presentation?type=powerpoint | Sequoia Capital on startups and the economic downturn\n",
      "https://www.secondbest.ca/p/why-im-not-exactly-an-effective-altruist | Why I'm not (exactly) an Effective Altruist\n",
      "https://garymarcus.substack.com/p/what-does-meta-ais-diplomacy-winning | What does Meta AI’s Diplomacy-winning Cicero Mean for AI?\n",
      "https://mobile.twitter.com/i/lists/1483934924482744322 | @jan_von_wilhelm/Taiwan Invasion Analysts / Twitter\n",
      "https://forum.effectivealtruism.org/posts/nGrmemHzQvBpnXkNX/what-matters-to-shrimps-factors-affecting-shrimp-welfare-in | What matters to shrimps? Factors affecting shrimp welfare in aquaculture - EA Forum\n",
      "https://www.snapfish.com/home | Online Photo Printing & Personalized Photo Gift Ideas | Snapfish US\n",
      "https://twitter.com/jordanschnyc/status/1593294727708692480 | Jordan Schneider on Twitter: \"RAND helped craft America’s strategy against the USSR which helped win the Cold War. With US-China tensions on the rise, it's wise to reflect on RAND's impact in: — defining nuclear strategy — incubating game theory — reshaping how the Pentagon spends money Here’s a breakdown:\" / Twitter\n",
      "https://open.spotify.com/album/0FyJd55Ct913J709OiRiDy?si=XHxEXczURCeCr88LDzkKAQ&nd=1 | Spotify – Dominions\n",
      "https://mobile.twitter.com/i/lists/1523816906410524672 | @Noahpinion/China news / Twitter\n",
      "https://twitter.com/RStateBState/status/1596353941364965376 | RedStateBlueState (280 character version) on Twitter: \"@peterwildeford CookPolitical has one but they made it behind a paywall this year :(\" / Twitter\n",
      "https://asteriskmag.com/issues/1/they-may-as-well-grow-on-trees-the-future-of-genetically-engineered-livestock | They May as Well Grow on Trees—Asterisk\n",
      "https://twitter.com/vsbuffalo/status/1591140955004219392 | Vince Buffalo on Twitter: \"Heuristics I use: 1. Avoid confirmatory networks, embrace groups/friends that aren't scared to push back against your ideas. 2. Talk with people in person as much as possible. 3. Understand the limits of self-research. 4. Don't search for confirmation; check for disconfirmation.\" / Twitter\n",
      "https://twitter.com/tafjos20/status/1592568558206480384 | Josh Taft on Twitter: \"With the final results near, I will go over how my model worked out. In the end, as my model indicated, 2022 was much less Republican than what many had expected. With that alone, I am already happy with my model. Dems held the Senate, and the GOP win the House (barely).\" / Twitter\n",
      "https://twitter.com/kesvelt/status/1592203831047327744 | (2) Tweet / Twitter\n",
      "https://www.theguardian.com/commentisfree/2022/nov/16/is-the-effective-altruism-movement-in-trouble | Is the effective altruism movement in trouble? | Olúfẹ́mi O Táíwò and Joshua Stein | The Guardian\n",
      "https://clearerthinkingpodcast.com/ | Home | Clearer Thinking with Spencer Greenberg\n",
      "https://twitter.com/jordanschnyc/status/1591077334798721032 | (1) Jordan Schneider on Twitter: \"What do the Biden admin's new semiconductor export controls mean for: --the risk of war --the global chips industry --retaliation from Beijing A THREAD:\" / Twitter\n",
      "https://mobile.twitter.com/nikosbosse/status/1594002194571071490 | (1) Nikos Bosse on Twitter: \"One good aspect of this terrible FTX situation is the postmortem and genuine criticism and important scrutiny of dynamics in the EA community that are being raised right now. I think EA as a principle is really good, and I hope for EA as a community to be as good as it can be. https://t.co/FYcwqQvp8a\" / Twitter\n",
      "https://mobile.twitter.com/ladyhaja/status/1594266569923764226 | (2) Hannah Jane Parkinson on Twitter: \"Ok. So. Some things happened. And then this happened. Which I... did not see coming?? I feel such deep shame. But I’ve written about it here, and for one reason only: I could not find another way to stop. https://t.co/OqfnH1aMVH\" / Twitter\n",
      "https://forum.effectivealtruism.org/posts/KqCybin8rtfP3qztq/agi-and-lock-in | AGI and Lock-In - EA Forum\n",
      "https://animalcharityevaluators.org/charity-review/faunalytics/ | Faunalytics Review - Animal Charity Evaluators\n",
      "https://asteriskmag.com/issues/1/review-what-we-owe-the-future | What We Owe The Future—Asterisk\n",
      "https://www.slowboring.com/p/one-billion-americans-now-more-than | One Billion Americans — now more than ever\n",
      "https://hastie.su.domains/ISLR2/ISLRv2_website.pdf | ISLRv2_website.pdf\n",
      "https://en.wiktionary.org/wiki/a_bird_in_the_hand_is_worth_two_in_the_bush | a bird in the hand is worth two in the bush - Wiktionary\n",
      "https://asteriskmag.com/issues/1/how-to-prevent-the-next-pandemic | How to Prevent the Next Pandemic—Asterisk\n",
      "https://twitter.com/PennsyltuckyDEM/status/1589739274400075776 | Trump+30 county DEM on Twitter: \"Last House, Governor, and senate prediction (thread) https://t.co/8Se4epScTb\" / Twitter\n",
      "https://twitter.com/metaphorsystems/status/1590766127034298370 | Metaphor on Twitter: \"https://t.co/NX99LxC7vL is now publicly available! Metaphor is a search engine based on generative AI, the same sorts of techniques behind DALL-E 2 and GPT-3 1/\" / Twitter\n",
      "https://forum.effectivealtruism.org/posts/WfeWN2X4k8w8nTeaS/theories-of-welfare-and-welfare-range-estimates | Theories of Welfare and Welfare Range Estimates - EA Forum\n",
      "https://twitter.com/TaschaLabs/status/1530403796404281345 | https://twitter.com/TaschaLabs/status/1530403796404281345\n",
      "https://twitter.com/Willyintheworld/status/1589102507334471680 | Will on Twitter: \"When Earth is full, &amp; distant adventure calls, many worlds await. On some of them, families wander on foreign ocean shores at night, gazing at new and beautiful constellations. https://t.co/Ft6jsF1oDp\" / Twitter\n",
      "https://twitter.com/thesephist/status/1592924891208372224 | (1) Linus on Twitter: \"Small rant about LLMs and how I see them being put, rather thoughtlessly IMO, into productivity tools. 📄 TL;DR — Most knowledge work isn't a text-generation task, and your product shouldn't ship an implementation detail of LLMs as the end-user interface https://t.co/N1NJoKzUqA https://t.co/eEedO8Zf00\" / Twitter\n",
      "https://mobile.twitter.com/joeyfox85/status/1594147502076428289 | Joey Fox on Twitter: \"Purchasing a Far-UV Lamp Here's a review of what I know about the Far-UV market and what you can consider when purchasing a lamp.🧵\" / Twitter\n",
      "https://forum.effectivealtruism.org/posts/22zk3tZyYWoanQwt7/training-for-good-update-and-plans-for-2023 | Training for Good - Update & Plans for 2023 - EA Forum\n",
      "https://www.theatlantic.com/magazine/archive/2022/12/china-takeover-taiwan-xi-tsai-ing-wen/671895/ | Taiwan Wants China to Think Twice About an Invasion - The Atlantic\n",
      "https://twitter.com/JacobPeacock1/status/1589263448319623169 | Jacob Peacock on Twitter: \"I assume EA existential risk folks are well aware of this but in case any aren't, here's a database of international crises https://t.co/ecc0pc8GtN (idk who comprises x-risk twitter, maybe @NathanpmYoung or @peterwildeford do)\" / Twitter\n",
      "https://twitter.com/oh_that_hat/status/1593337982144110593 | Hattie Zhou on Twitter: \"“LLMs can’t even do addition” 📄🚨We show that they CAN add! To teach algos to LLMs, the trick is to describe the algo in enough detail so that there is no room for misinterpretation w/ @Azade_na @hugo_larochelle @AaronCourville @bneyshabur @HanieSedghi https://t.co/kvsxBYSLVu https://t.co/OSW8kLBnqT\" / Twitter\n",
      "https://mobile.twitter.com/timnitGebru/status/1594496007256973314 | Timnit Gebru is on Mastodon on Twitter: \"Not like we wrote a paper about that or anything which we got fired for. What COULD go wrong?🤔 https://t.co/krVsH5dB7g\" / Twitter\n",
      "https://mobile.twitter.com/testinprodcap/status/1591735465715306496 | tipc on Twitter: \"1/n. I read ~3 years of @carolinecapital blog posts. This is a general review... mostly bc her beliefs, interests, and thoughts change drastically over time. Ex: her poly post was taken out of context, since it was written in 2020, before Bahamas. TLDR: Caroline is very based.\" / Twitter\n",
      "https://scottaaronson.blog/?p=6821%20|%20Reform%20AI%20Alignment | Shtetl-Optimized » Blog Archive » Reform AI Alignment\n",
      "https://www.slowboring.com/p/two-years-of-strong-and-slow-boring | Two years of strong and slow boring of hard boards\n",
      "https://forum.effectivealtruism.org/posts/AbohvyvtF6P7cXBgy/brainstorming-ways-to-make-ea-safer-and-more-inclusive | Brainstorming ways to make EA safer and more inclusive - EA Forum\n",
      "https://mobile.twitter.com/nearcyan/status/1594428379964620802 | (1) nearcyan on Twitter: \"DeepCloning, the practice of creating virtual AI clones of humans to replace them socially, has been surging in popularity Does this new AI trend go too far by replicating partners and friends without consent? This court case may help to clarify the legality (2024, NYT) https://t.co/7OvtzSbLLl\" / Twitter\n",
      "https://asteriskmag.com/issues/1/making-sense-of-moral-change | Making Sense of Moral Change—Asterisk\n",
      "https://www.governance.ai/post/summer-fellowship-2022-wrap-up | Summer Fellowship 2022 Wrap Up - What did our Fellows work on? | GovAI Blog\n",
      "https://twitter.com/jordanschnyc/status/1591077334798721032 | Jordan Schneider on Twitter: \"What do the Biden admin's new semiconductor export controls mean for: --the risk of war --the global chips industry --retaliation from Beijing A THREAD:\" / Twitter\n",
      "https://forum.effectivealtruism.org/posts/5iQoR8mhEpvRT43jv/part-1-the-ai-safety-community-has-four-main-work-groups | Part 1: The AI Safety community has four main work groups, Strategy, Governance, Technical and Movement Building - EA Forum\n",
      "https://twitter.com/dylanmatt/status/1590908067432247296 | dylan matthews on Twitter: \"Great idea. What's the plan to convince Congress to do this? Who's going to do the persuading? Who's going to pay those people? Who's going to pay to elect people who support tax hikes? https://t.co/UR7ZDY4w6s\" / Twitter\n",
      "https://forum.effectivealtruism.org/posts/v7gep2d9Dr4bT8DnF/notes-on-barriers-to-bioweapons-ben-ouagrham-gormley-2014 | Notes on \"Barriers to Bioweapons\" (Ben Ouagrham-Gormley, 2014) - EA Forum\n",
      "https://twitter.com/messages/1414875069558534150 | Metaculites (off the (track) record) / Twitter\n",
      "https://newrepublic.com/article/168551/split-ticket-polling-2022-midterms?utm_medium=Social&utm_campaign=EB_TNR&utm_source=Twitter#Echobox=1667855637 | Meet the Twentysomething Election Forecasters Who Keep Nate Silver on His Toes | The New Republic\n",
      "https://www.cnn.com/interactive/2022/11/politics/election-deniers-winners-losers-midterms-2022/ | How 2020 election deniers did in their 2022 midterm races - CNN.com\n",
      "https://twitter.com/nikosbosse/status/1595129605131669505 | Nikos Bosse on Twitter: \"Very happy to see that our (and my 1st) paper is now published in its final version in @PLOSCompBiol! https://t.co/W4WgMRuwM4 Provocatively stated, we ask: What does all that epidemiological modelling add for forecasting beyond researchers drawing a line on a piece of paper? 1/\" / Twitter\n",
      "https://mobile.twitter.com/William_Blake/status/1594016871967121408 | (2) Michael P Gibson on Twitter: \"We need more decentralized patronage like this. The Thiel Fellowship was just a proof of concept. It proved out. Time to expand to new arenas of ambition!\" / Twitter\n",
      "https://rychappell.substack.com/ | Good Thoughts | Richard Y Chappell | Substack\n",
      "https://www.ncbi.nlm.nih.gov/pmc/articles/PMC2128009/pdf/9448541.pdf | Education and Debate - 20 dec 1997\n",
      "https://mobile.twitter.com/breakingthemark/status/1591114381508558849 | Matt Hollerbach on Twitter: \"Two years ago SBF wrote a thread on bet size and Kelly betting. I questioned him on it. He engaged with me. Let’s take a look at this thread and SBF’s views on bet sizing in light of the events with FTX and Alameda this week.\" / Twitter\n",
      "https://mobile.twitter.com/drvolts/status/1594462688096419841 | David Roberts on Twitter: \"I've got a few things to say about all this SBF/FTX/EA mishegas, and I guess I might as well say them before this website dies. I want to pivot off this characteristically excellent piece from @EricLevitz. https://t.co/BLvfqCa8ct\" / Twitter\n",
      "https://docs.google.com/document/d/1j3QFYmCQO-Uz9HGVvWtCHIj2i_mtVwSPEcqMyZCF7Do/edit#heading=h.y0pj04qpu75q | Project idea: Could California pass something that prevents antitrust issues from impeding useful inter-lab coordination? - Google Docs\n",
      "https://www.nature.com/articles/s43016-022-00632-6 | Invertebrate sentience and sustainable seafood | Nature Food\n",
      "https://forum.effectivealtruism.org/posts/sEpWkCvvJfoEbhnsd/the-ftx-crisis-highlights-a-deeper-cultural-problem-within | The FTX crisis highlights a deeper cultural problem within EA - we don't sufficiently value good governance - EA Forum\n",
      "https://twitter.com/JoshuaSteinman/status/1592307005061931008 | joshua steinman (🇺🇸,🇺🇸) on Twitter: \"What the heck, I’ll just do a quick thread to open-source what few people know but don’t want to admit: How this op often gets run in Washington. (thread on how to “work” the current system in DC) 1/\" / Twitter\n",
      "https://twitter.com/emollick/status/1592689425943007232 | Ethan Mollick on Twitter: \"Relatedly, this meta-analysis shows \"People quit bosses, not jobs.\" Toxic supervisors &amp; a bad work climate have a large impact on turnover. (Salary only had a small-to-moderate effect, with non-monetary compensation, like training, having a bigger role for retaining talent) https://t.co/5VreCsSdWJ\" / Twitter\n",
      "https://www.slowboring.com/p/democrats-pulled-off-one-of-the-best | Democrats pulled off one of the best midterms ever\n",
      "https://mobile.twitter.com/mirandahzhang/status/1587818728820834305 | Miranda Zhang on Twitter: \"Live reactions to Tobias Baumann's new book on s-risks https://t.co/hyF1TUeSwc\" / Twitter\n",
      "https://mobile.twitter.com/fuckyouiquit | Fuck You I Quit (@fuckyouiquit) / Twitter\n",
      "https://asteriskmag.com/issues/1/why-isn-t-the-whole-world-rich | Why Isn’t the Whole World Rich?—Asterisk\n",
      "https://generallyintelligent.com/launch/ | Introducing Generally Intelligent - generally intelligent\n",
      "https://forum.effectivealtruism.org/posts/c5DgfRyWgS2Sjgzmt/on-funding-trust-relationships-and-scaling-our-community | On funding, trust relationships, and scaling our community [PalmCone memo] - EA Forum\n",
      "https://www.theguardian.com/fashion/shortcuts/2013/nov/05/sex-obese-men-stock-shot-model | I do NOT like sex with old, obese men: the perils of being a stock-shot model | Models | The Guardian\n",
      "https://twitter.com/messages/25776739-467844200 | (1) Caleb Watney / Twitter\n",
      "https://lucid.app/lucidchart/44eb5ce3-d160-437e-8122-ce33b70b6237/view?page=cOPIp_FU1LGK# | OP_OrgChart : Lucidchart\n",
      "https://nymag.com/intelligencer/2022/11/biden-economic-war-china-chips-semiconductors-export-controls.html | Biden’s New Cold War Against China Could Backfire\n",
      "https://mobile.twitter.com/daniel_eth/status/1580481856880852992 | Daniel Eth💡 on Twitter: \"@mealreplacer AirPods, sunglasses, earplugs, extra pair of AirPods, coffee, reading Alexey Guzey's Theses on Sleep, going to EAG, eating vegetables before each meal, eating carbs right after lifting, going for a 5-10 min walk outside in the morning, chewing gum, can opener, vaccines\" / Twitter\n",
      "https://lethain.com/rails-for-engineering-leadership/ | My rails for engineering leadership. | Irrational Exuberance\n",
      "https://twitter.com/kesvelt/status/1592203831047327744 | (1) Kevin Esvelt on Twitter: \"Imagine a future in which thousands can start new pandemics at will. It’s likely coming. It’s also solvable. To safeguard civilization, we need to delay misuse, reliably detect threats, and build defenses to prevent infection. A biodefense roadmap: 1/25 https://t.co/3xDt4RbWlc https://t.co/ans9FU0Otr\" / Twitter\n",
      "https://metaphor.systems/ | Metaphor\n",
      "https://www.lesswrong.com/posts/zB3ukZJqt3pQDw9jz/ai-will-change-the-world-but-won-t-take-it-over-by-playing-3 | AI will change the world, but won’t take it over by playing “3-dimensional chess”. - LessWrong\n",
      "https://forum.effectivealtruism.org/posts/yPDXXxdeK9cgCfLwj/short-research-summary-can-insects-feel-pain-a-review-of-the | Short Research Summary: Can insects feel pain? A review of the neural and behavioural evidence by Gibbons et al. 2022 - EA Forum\n",
      "https://www.semafor.com/newsletter/11/24/2022/black-friday-edition | Black Friday edition | Semafor\n",
      "https://forum.effectivealtruism.org/posts/xnHnsrFEMEMPXBWqR/ask-charity-entrepreneurship-anything#comments | Ask Charity Entrepreneurship Anything - EA Forum\n",
      "https://forum.effectivealtruism.org/posts/xafpj3on76uRDoBja/the-ftx-future-fund-team-has-resigned-1?commentId=FqA7gH6MBP4whxNig#FkmTt6CnfKY3zpNZv | The FTX Future Fund team has resigned - EA Forum\n",
      "https://animalcharityevaluators.org/charity-review/wild-animal-initiative/ | Wild Animal Initiative Review - Animal Charity Evaluators\n",
      "https://twitter.com/robbensinger/status/1595139268019908608 | Rob Bensinger 🔍 on Twitter: \"\"Noticing red flags\" often isn't what it feels like from the inside to properly notice, respond to, and propagate warning signs that someone you respect is fucking up in a surprising way. Things usually feel like \"red flags\" after you're suspicious, rather than before.\" / Twitter\n",
      "https://www.youtube.com/watch?v=Obim8BYGnOE | Till I Collapse - YouTube\n",
      "https://noahpinion.substack.com/p/two-years-of-noahpinion | Two years of Noahpinion - by Noah Smith - Noahpinion\n",
      "https://huggingface.co/spaces/THUDM/GLM-130B | GLM 130B - a Hugging Face Space by THUDM\n",
      "https://mobile.twitter.com/jachiam0/status/1591220703361404930 | Joshua Achiam on Twitter: \"Three big pieces of practical advice for EA right now: 1) stop doing groupthink that EA is intrinsically more-trustworthy than everyone else / better at everything than everyone else, because this is a hazardous belief that leads to excessive risk-taking and correlated risks\" / Twitter\n",
      "https://www.nytimes.com/2022/11/18/opinion/effective-altruism.html | Opinion | The Case for a Less-Effective Altruism - The New York Times\n",
      "https://mobile.twitter.com/Austen/status/1594397332006531072 | Austen Allred on Twitter: \"How headcount explodes in a startup: You do a critical task. It takes 1/8 of your time, and is easy and cheap to hire for. So you hire someone to do the task. That person does that task well. Great hire!\" / Twitter\n",
      "https://asteriskmag.com/issues/1/rebuilding-after-the-replication-crisis | Rebuilding After the Replication Crisis—Asterisk\n",
      "https://forum.effectivealtruism.org/posts/pb7Q9awb5nsx3mRzk/ml-safety-scholars-summer-2022-retrospective | ML Safety Scholars Summer 2022 Retrospective - EA Forum\n",
      "https://gelliottmorris.substack.com/p/the-pollsters-got-the-midterms-right | The (good) pollsters got the midterms right\n",
      "https://jamesozden.substack.com/p/effective-altruism-not-as-bad-as | Effective Altruism: Not as bad as you think\n",
      "https://twitter.com/hausfath/status/1592205218615529472 | Zeke Hausfather on Twitter: \"I have a new \"big ideas\" piece in the @guardian today arguing that we will need to reverse climate change, not just stop it. https://t.co/w8RgbeqV1b A thread: 1/14\" / Twitter\n",
      "https://docs.google.com/document/d/1fK93gm6MEoLaiZ8PvnflrqHbbfcLpw6s7B0KYj7NXqc/edit# | Tabs and notes - Google Docs\n",
      "https://twitter.com/robinhanson/status/1592589618058514432 | (1) Robin Hanson on Twitter: \"Anyone betting on predictions re GPT-4 abilities?\" / Twitter\n",
      "https://forecasting.substack.com/p/forecasting-newsletter-for-october | Forecasting Newsletter for October 2022 - by Nuño Sempere\n",
      "https://firstsigma.substack.com/ | First Sigma | Jack | Substack\n",
      "https://forum.effectivealtruism.org/posts/uY5SwjHTXgTaWC85f/don-t-just-give-well-give-wellbys-hli-s-2022-charity | Don’t just give well, give WELLBYs: HLI’s 2022 charity recommendation - EA Forum\n",
      "https://twitter.com/erikphoel/status/1590319522606886913 | Erik Hoel on Twitter: \"This is what it’s like to be killed by something much smarter than you. They do something that you didn’t even know was possible and then you’re suddenly doomed. This tweet is about AI.\" / Twitter\n",
      "https://www.lesswrong.com/posts/t9svvNPNmFf5Qa3TA/mysteries-of-mode-collapse-due-to-rlhf | Mysteries of mode collapse - LessWrong\n",
      "https://mobile.twitter.com/mirandahzhang/status/1587818728820834305 | (1) Miranda Zhang on Twitter: \"Live reactions to Tobias Baumann's new book on s-risks https://t.co/hyF1TUeSwc\" / Twitter\n",
      "https://www.slowboring.com/p/theres-no-substitute-for-being-right | There’s no substitute for being right all the time about everything\n",
      "https://open.spotify.com/playlist/7uMJU4NjG3ADcOscbeZU7J?si=88632fcaa7e34789&nd=1 | Spotify – P\n",
      "https://archive.ph/z2MTA | Why Republican Insiders Think the G.O.P. Is Poised for a Blowout | The New Yorker\n",
      "https://nintil.com/nnlibertarianfaq/ | Nintil - The Non-Non-Libertarian FAQ\n",
      "https://twitter.com/lastpositivist/status/1592881055773921280 | Liam Bright on Twitter: \"Lol just found my old what kind of philosopher flowchart are you. https://t.co/AvV2kajF9k\" / Twitter\n",
      "https://rychappell.substack.com/p/naive-vs-prudent-utilitarianism?utm_source=twitter&sd=pf | Naïve vs Prudent Utilitarianism - by Richard Y Chappell\n",
      "https://thedispatch.com/article/dems-face-a-test-after-tuesday/ | Dems Face a Test After Tuesday - The Dispatch\n",
      "https://asteriskmag.com/issues/1/is-wine-fake | Is Wine Fake?—Asterisk\n",
      "https://www.slowboring.com/p/a-short-veterans-day-post | A short Veterans' Day post - by Matthew Yglesias\n",
      "https://mobile.twitter.com/hausfath/status/1591252542641831936 | https://mobile.twitter.com/hausfath/status/1591252542641831936\n",
      "https://twitter.com/VitalikButerin/status/1590473516482465792 | vitalik.eth on Twitter: \"I think the effective altruism community's most underrated weakness is not having a good theory of effectively allocating *social* capital. Especially if you're well-known, you're not just giving out money, but also reallocating public attention, inspiring the next generation...\" / Twitter\n",
      "http://collinpburns.com/ | About me - Collin Burns\n",
      "https://www.politico.com/newsletters/national-security-daily | National Security Daily - POLITICO\n",
      "https://cultureplot.com/usa-happiness-report/ | Gross National Happiness USA Happiness Report\n",
      "https://www.lesswrong.com/posts/SWxnP5LZeJzuT3ccd/pr-is-corrosive-reputation-is-not | “PR” is corrosive; “reputation” is not. - LessWrong\n",
      "https://forum.effectivealtruism.org/posts/XyEKTDtfMH4DukhaF/the-challenges-with-measuring-the-impact-of-lobbying | The Challenges with Measuring the Impact of Lobbying - EA Forum\n",
      "https://guzey.com/what-is-the-alternative-to-utilitarianism/ | What is the alternative to utilitarianism? - Alexey Guzey\n",
      "https://twitter.com/iScienceLuvr/status/1592860019057250304 | Tanishq Mathew Abraham on Twitter: \"I will attempt to explain the basic idea of how diffusion models work! ... in only 15 tweets! 😲 Let's get started ↓\" / Twitter\n",
      "https://twitter.com/SteveStuWill/status/1590459984693055489 | Steve Stewart-Williams on Twitter: \"Amazing: The plus signs aren’t moving, expanding, contracting, or rotating at all. Another masterpiece by @jagarikin.\" / Twitter\n",
      "https://twitter.com/erikphoel/status/1590319522606886913 | (1) Erik Hoel on Twitter: \"This is what it’s like to be killed by something much smarter than you. They do something that you didn’t even know was possible and then you’re suddenly doomed. This tweet is about AI.\" / Twitter\n",
      "https://mobile.twitter.com/messages/25776739-1257963166602088449 | Siméon / Twitter\n",
      "https://asteriskmag.com/issues/1/china-s-silicon-future | China’s Silicon Future—Asterisk\n",
      "https://docs.google.com/document/d/1xNcOBHi1BLcR6ruuiZTeRMSf43942CCOQ2gAE7if2y0/edit#heading=h.rlqrkb7y1oy2 | Peter/Renan 1-1s - Google Docs\n",
      "https://asteriskmag.com/issues/1/the-illogic-of-nuclear-escalation | The Illogic of Nuclear Escalation—Asterisk\n",
      "https://twitter.com/bridgetw_au/status/1587848318155165696 | Bridget Williams on Twitter: \"The good news is that there's a lot we can do to guard against pandemics. The bad news is we're not doing anywhere near enough of it. In this @BulletinAtomic article, @willmacaskill and I suggest four things we should be doing to reduce pandemic risk. https://t.co/IJ6I7cORpD\" / Twitter\n",
      "https://docs.google.com/document/d/1JabFRQpEPsKxPnqzd5LIRYDh6uaVPhowlvVbBFsY5p4/edit#heading=h.w0cdaxsvsvlx | MW Paul Christiano - Google Docs\n",
      "https://twitter.com/lxrjl/status/1587722328456286208 | alex lawsen on Twitter: \"Huge +1 to this. Not only for this circuit or even mechanistic interpretability in general but most empirical safety. If there are lessons to be learned from how techniques+results transfer to larger models, I want us to learn them sooner rather than later.\" / Twitter\n",
      "https://docs.google.com/document/d/1KAIbBXnvMOM_T7qOe5b1mV8bbdMXTlfhjbFw2uQNCf4/edit#heading=h.voazkych40mx | The S-curve model & attention hazards: When should we advocate for AGI risk? - Google Docs\n",
      "https://mobile.twitter.com/ECaliberSeven/status/1589844954645663745 | Ethan C7 on Twitter: \"FINAL Predictions: Based on an R+1 Environment (= R+2.5 House pop vote b/c uncontested seats) House: 223R-212D Senate: 50R-49D-GA Runoff Gov: 28R-22D https://t.co/C5zPmAk6Df\" / Twitter\n",
      "https://mobile.twitter.com/Willyintheworld/status/1579180202084532224 | Will on Twitter: \"@mealreplacer adjustable dumbbells + bench,~200$ @ beginning of COVID; bone conduction headphones 4 workouts; finding a haircut that works well &amp; barber that can execute it consistently; regular Anki / Readwise habit, but fell off wagon in residency :/ using voice 2 text as default\" / Twitter\n",
      "https://twitter.com/messages/25776739-2152109130 | Josh Simon Goldman / Twitter\n",
      "https://twitter.com/jaschasd/status/1589424193946648576 | Jascha Sohl-Dickstein on Twitter: \"My first blog post ever! Be harsh, but, you know, constructive. Too much efficiency makes everything worse: overfitting and the strong version of Goodhart's law https://t.co/uR7pL7WNST 🧵 https://t.co/NaibgX1bRb\" / Twitter\n",
      "https://twitter.com/AndyMasley | Andy Masley (@AndyMasley) / Twitter\n",
      "https://www.businessinsider.com/landlord-emails-all-tenants-in-message-helps-them-organize-strike-2020-4 | Landlord Emails Tenants in One Message, Accidentally Helps Rent Strike\n",
      "https://docs.google.com/document/d/1AWf8uboXCcA3RWhlJrNcCbIsk2u1ZH4aNTCsh3NCoEk/edit# | Call Notes | Luke <> Amanda, Michael, Peter - Google Docs\n",
      "https://twitter.com/sergeykarayev/status/1588572405320290305 | Sergey Karayev on Twitter: \"Elon’s best companies start with the mission and go down to metrics through clear strategy. But with Twitter, he came to own something overpriced and losing money — and so he’s freaking out about metrics. He needs to clearly state the mission FIRST, and only then make changes. https://t.co/64TNT67uUq\" / Twitter\n",
      "https://twitter.com/davidmanheim/status/1595798762785361925 | David Manheim - In DC Dec 6-8 (+Geneva Nov 28-30) on Twitter: \"Not sure if twitter is actually doomed, or if Mastodon will be able to replace it - but I have now set up a Mastodon account, @davidmanheim@techpolicy.social - and it should do crossposting to / from twitter, thanks to https://t.co/fkh5wsI2cg.\" / Twitter\n",
      "https://nintil.com/interesting-ai-models | Nintil - Images and Words: AI in 2026\n",
      "https://www.youtube.com/watch?v=mRo7tMnM60I | Agatha Christie's Poirot - Opening Theme Music - YouTube\n",
      "https://www.nytimes.com/2022/11/08/upshot/poll-experiment-wisconsin-trump.html | Are the Polls Still Missing ‘Hidden’ Republicans? Here’s What We’re Doing to Find Out. - The New York Times\n",
      "https://twitter.com/robinhanson/status/1592589618058514432 | Robin Hanson on Twitter: \"Anyone betting on predictions re GPT-4 abilities?\" / Twitter\n"
     ]
    }
   ],
   "source": [
    "random.shuffle(tabs)\n",
    "print_tabs(tabs, label='Shuffled all tabs')"
   ]
  },
  {
   "cell_type": "code",
   "execution_count": null,
   "id": "b7fe8faf-1abb-4227-911c-991219849c52",
   "metadata": {},
   "outputs": [],
   "source": []
  }
 ],
 "metadata": {
  "kernelspec": {
   "display_name": "Python 3 (ipykernel)",
   "language": "python",
   "name": "python3"
  },
  "language_info": {
   "codemirror_mode": {
    "name": "ipython",
    "version": 3
   },
   "file_extension": ".py",
   "mimetype": "text/x-python",
   "name": "python",
   "nbconvert_exporter": "python",
   "pygments_lexer": "ipython3",
   "version": "3.9.15"
  }
 },
 "nbformat": 4,
 "nbformat_minor": 5
}
