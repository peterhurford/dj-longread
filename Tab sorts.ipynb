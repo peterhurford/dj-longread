{
 "cells": [
  {
   "cell_type": "code",
   "execution_count": 1,
   "id": "40568205",
   "metadata": {},
   "outputs": [
    {
     "name": "stdout",
     "output_type": "stream",
     "text": [
      "Loaded\n",
      "28\n",
      "28\n",
      "28\n",
      "28\n",
      "27\n",
      "Loaded\n"
     ]
    }
   ],
   "source": [
    "import random\n",
    "import numpy as np\n",
    "import webbrowser\n",
    "from copy import copy\n",
    "\n",
    "\n",
    "def print_tabs(tabs, label=None, shuffled=True):\n",
    "    if shuffled:\n",
    "        tabs = random.sample(tabs, len(tabs))\n",
    "    if label:\n",
    "        print('## {} ## ({} tabs)'.format(label, len(tabs)))\n",
    "    else:\n",
    "        print('({} tabs)'.format(len(tabs)))\n",
    "    print('')\n",
    "    for tab in tabs:\n",
    "        print(tab.replace('\\n', ''))\n",
    "    return None\n",
    "\n",
    "\n",
    "def open_tab(tab):\n",
    "    url = tab.split('|')[0].replace(' ', '')\n",
    "    webbrowser.open(url, new=2, autoraise=False)\n",
    "    \n",
    "    \n",
    "def open_tabs_from_text(tab_text):\n",
    "    tabs = tab_text.split('\\n')\n",
    "    print('{} tabs opened!'.format(len(tabs) - 2))\n",
    "    for t in tabs:\n",
    "        open_tab(t.split('|')[0].strip())\n",
    "        \n",
    "print('Loaded')\n",
    "\n",
    "tab_file = open('/Users/peterhurford/Documents/alltabs.txt', 'r')\n",
    "tabs = tab_file.readlines()\n",
    "print(len(tabs))\n",
    "\n",
    "tabs = [t for t in tabs if t != '\\n']\n",
    "print(len(tabs))\n",
    "\n",
    "tabs = sorted(list(set(tabs)))\n",
    "print(len(tabs))\n",
    "\n",
    "tabs = ['{} | {}'.format(k, v) for k, v in dict([(t.split('|')[0].strip(), ''.join(t.split('|')[1:]).strip()) for t in tabs]).items()]\n",
    "print(len(tabs))\n",
    "\n",
    "tabs = ['{} | {}'.format(v, k) for k, v in dict([(''.join(t.split('|')[1:]).strip(), t.split('|')[0].strip()) for t in tabs]).items()]\n",
    "print(len(tabs))\n",
    "\n",
    "print('Loaded')"
   ]
  },
  {
   "cell_type": "code",
   "execution_count": 2,
   "id": "8d5fddf1-e942-4059-b414-48e28bdc58f2",
   "metadata": {
    "scrolled": true
   },
   "outputs": [
    {
     "name": "stdout",
     "output_type": "stream",
     "text": [
      "Sorted tabs! (27)\n",
      "-\n",
      "https://docs.google.com/document/d/10e6f3_5wJSAVecSDOt7BVIVuB87UhDnIf76R_t4LrLs/edit | Untitled document - Google Docs\n",
      "https://docs.google.com/document/d/11YKTKRumtlheK_9Dv9ECKwwoTeSG3RNcs6qUSajzqDw/edit#heading=h.1iamd83htxyz | 2023.05.22 AI Reference Classes - Google Docs\n",
      "https://docs.google.com/document/d/12g1eG74WT-NbX-e6jNDrpRxDwhgI-I6taAz-fYt4f7o/edit | Problems with MWs given moral uncertainty - Google Docs\n",
      "https://docs.google.com/document/d/17k-MBAD4TrtqjbQ3sNlyDEF_QEnQ5prT87zNyMIa2RE/edit#heading=h.wfl3wbuv35qt | Difference-Making Risk-Averse Expected Value - Google Docs\n",
      "https://docs.google.com/document/d/18KMqTKbJCvfNHIh7yMdGs-GN-NflsTOijD-6tYKnxuY/edit#heading=h.shuwelnrazfc | Refactoring Years Credit Calculations - Google Docs\n",
      "https://docs.google.com/document/d/19iVuL9Vt3hHjB0Eb0zs-5rVcw-VvVF5_A3n1h26WG1A/edit | Risk and Animals Draft - Google Docs\n",
      "https://docs.google.com/document/d/1E7kOVl710IUeryiKSLMSifzvJmb-ONwfEfaWDQ4vXJk/edit#heading=h.rks3c9nmihvu | Risk-Weighted Expected Utility Implementation Methodology - Google Docs\n",
      "https://docs.google.com/document/d/1Gkju5VWLldE4COF278hLeWjsVQPHtdgYncCaFeNYcIw/edit | How the Strong-LT Model Works, What it Says, and Whether We Should Trust It - Google Docs\n",
      "https://docs.google.com/document/d/1MdNVyh_jW5er8ZiV-7SSztaRru_ddM8gI5wLnhAheJg/edit | Draft Copy of How RP is Thinking About Making Decisions Under Uncertainty: Marcus portion - Google Docs\n",
      "https://docs.google.com/document/d/1RMjcOgNwZWvBzfu5oB_llwAThk15QpGTLxy_eLBwVLE/edit | WIT Sequence #1 - Google Docs\n",
      "https://docs.google.com/document/d/1SJLINzoGi_F7LkiQDc3FibhNqbCQRddYepLyKDCBq7o/edit#heading=h.l4v8jsytq7ii | Henri + AIGS/XST meetings re LT fundraising - Google Docs\n",
      "https://docs.google.com/document/d/1V5HbUl1ilE-NcQGbmsWJ4IRn26IMhHw_3lMFZFZyDZ4/edit#heading=h.m0qsq4tqo8od | Uncertainty over time and Bayesian updating draft - Google Docs\n",
      "https://docs.google.com/document/d/1WqLe5cE9Pozp5C9FlgG2ei_TwlOkVMYRMLJUuB_5A-o/edit | CONFIDENTIAL: Notes on Alexander, internal OP politics, and potential upshots (Shared w/ WIT) - Google Docs\n",
      "https://docs.google.com/document/d/1Wyd6GyK02vPaJHczfAx3oOvBc32nthRI9pwMcGE0sJY/edit#heading=h.vrwb98egsb1n | [Draft] What do you have to believe for \"minimal longtermism\" to beat GHD and cage-free campaigns? - Google Docs\n",
      "https://docs.google.com/document/d/1aHXiPAGvIoD1AfjvHM9XLf1j_LD6eYCBVzMK51M1H7w/edit#heading=h.namprdhlc75p | 2023_06_30_XRisk_Cost_Curves_ZDFG - Google Docs\n",
      "https://docs.google.com/document/d/1bY5cKyw6PhsmcvJuTWym1jEeHEo0xZqz8B_qhthwcBE/edit | EV of the Future and Counterfactual Credit (New Version) - Google Docs\n",
      "https://docs.google.com/document/d/1d5s7L0FX0dLNUj7VvEizdeXxqxqNjXLTksT7QbL4y50/edit#heading=h.septvxrbt2ec | 2023 WIT Comms Push Brainstorming - Google Docs\n",
      "https://docs.google.com/document/d/1d_3U-cEUvQoc5yUz2ZFO2uk7HQmfQWisC6OYo-QGtns/edit | Lessons Learned  2023 Mid-Year Fundraiser - Google Docs\n",
      "https://docs.google.com/document/d/1dwr2qpaWdCqr_IDhcTT69TmEA5aWfiNftasn5iJ_qhA/edit | Premises to get to Strong LT - Google Docs\n",
      "https://docs.google.com/document/d/1frZd5fKXKLrLD7SNKnf81h_VvLOEmZeK6ARccQ9_OVU/edit#heading=h.zdxaeboggndy | Aug 23, 2023  WIT comms push planning meeting notes - Google Docs\n",
      "https://docs.google.com/document/d/1pE--6auP7X4RlQ3m6gmZbji1vyYxOlN1XjO3Gi-mVOU/edit#heading=h.1fx66b50zh4a | Valuing X-Risk Interventions for Difference-Making Risk-Aversion - Google Docs\n",
      "https://docs.google.com/document/d/1qwKUWu1aa1rikW3zlCPPvPXdS4upsarkJe8-JwcE4tY/edit#heading=h.z6v8ty7j4wlh | You don't have to be that risk-averse to prefer GHW to LT (Final - Shared with Jason) - Google Docs\n",
      "https://docs.google.com/document/d/1rKAcZ7MsbFc3dL90xeRs8FDeDEeSHrWTTKt5zoRnYw0/edit | Risk Outline - Google Docs\n",
      "https://docs.google.com/document/d/1vXb0rRqjBIMh38M4m775MsFK1VKyABQXJODBjJw0c5w/edit#heading=h.ginvvzl58sif | AVA 2023 notes on OP Worldview Diversification from Lewis Bollard conversation - Google Docs\n",
      "https://docs.google.com/document/d/1wd7WEsaPXQB_IauqXEcE1RIyKmvrjC3tVrz6B0KXxeo/edit | Value of the Future After Perils - Google Docs\n",
      "https://docs.google.com/document/d/1xUvMKRkEOJQcc6V7VJqcLLGAJ2SsdZno0jTIUb61D8k/edit#heading=h.uskcgipunmm1 | Welfare Range and P(Sentience) Distributions - Google Docs\n",
      "https://docs.google.com/spreadsheets/d/1t_7AkXxH1IIQC6TuQFSrLkNoQOwDRWU1ICDbt-G1XHc/edit#gid=760967507 | DC team capacity planning - Google Sheets\n"
     ]
    }
   ],
   "source": [
    "tabs = ['https://' + t for t in sorted([t.replace('http://', '').replace('https://', '').replace('www.', '') for t in tabs])]\n",
    "\n",
    "print('Sorted tabs! ({})'.format(len(tabs)))\n",
    "\n",
    "print('-')\n",
    "for t in tabs:\n",
    "    print(t)"
   ]
  },
  {
   "cell_type": "code",
   "execution_count": 3,
   "id": "65df311d-c9c6-4ace-a7c9-7ed21b34d78f",
   "metadata": {
    "scrolled": true
   },
   "outputs": [
    {
     "name": "stdout",
     "output_type": "stream",
     "text": [
      "Shuffled tabs! (27)\n",
      "-\n",
      "https://docs.google.com/document/d/1RMjcOgNwZWvBzfu5oB_llwAThk15QpGTLxy_eLBwVLE/edit | WIT Sequence #1 - Google Docs\n",
      "https://docs.google.com/document/d/12g1eG74WT-NbX-e6jNDrpRxDwhgI-I6taAz-fYt4f7o/edit | Problems with MWs given moral uncertainty - Google Docs\n",
      "https://docs.google.com/document/d/1xUvMKRkEOJQcc6V7VJqcLLGAJ2SsdZno0jTIUb61D8k/edit#heading=h.uskcgipunmm1 | Welfare Range and P(Sentience) Distributions - Google Docs\n",
      "https://docs.google.com/document/d/1frZd5fKXKLrLD7SNKnf81h_VvLOEmZeK6ARccQ9_OVU/edit#heading=h.zdxaeboggndy | Aug 23, 2023  WIT comms push planning meeting notes - Google Docs\n",
      "https://docs.google.com/document/d/1dwr2qpaWdCqr_IDhcTT69TmEA5aWfiNftasn5iJ_qhA/edit | Premises to get to Strong LT - Google Docs\n",
      "https://docs.google.com/document/d/1MdNVyh_jW5er8ZiV-7SSztaRru_ddM8gI5wLnhAheJg/edit | Draft Copy of How RP is Thinking About Making Decisions Under Uncertainty: Marcus portion - Google Docs\n",
      "https://docs.google.com/document/d/18KMqTKbJCvfNHIh7yMdGs-GN-NflsTOijD-6tYKnxuY/edit#heading=h.shuwelnrazfc | Refactoring Years Credit Calculations - Google Docs\n",
      "https://docs.google.com/document/d/1d_3U-cEUvQoc5yUz2ZFO2uk7HQmfQWisC6OYo-QGtns/edit | Lessons Learned  2023 Mid-Year Fundraiser - Google Docs\n",
      "https://docs.google.com/document/d/1E7kOVl710IUeryiKSLMSifzvJmb-ONwfEfaWDQ4vXJk/edit#heading=h.rks3c9nmihvu | Risk-Weighted Expected Utility Implementation Methodology - Google Docs\n",
      "https://docs.google.com/document/d/1pE--6auP7X4RlQ3m6gmZbji1vyYxOlN1XjO3Gi-mVOU/edit#heading=h.1fx66b50zh4a | Valuing X-Risk Interventions for Difference-Making Risk-Aversion - Google Docs\n",
      "https://docs.google.com/document/d/1SJLINzoGi_F7LkiQDc3FibhNqbCQRddYepLyKDCBq7o/edit#heading=h.l4v8jsytq7ii | Henri + AIGS/XST meetings re LT fundraising - Google Docs\n",
      "https://docs.google.com/document/d/1bY5cKyw6PhsmcvJuTWym1jEeHEo0xZqz8B_qhthwcBE/edit | EV of the Future and Counterfactual Credit (New Version) - Google Docs\n",
      "https://docs.google.com/document/d/1aHXiPAGvIoD1AfjvHM9XLf1j_LD6eYCBVzMK51M1H7w/edit#heading=h.namprdhlc75p | 2023_06_30_XRisk_Cost_Curves_ZDFG - Google Docs\n",
      "https://docs.google.com/document/d/1rKAcZ7MsbFc3dL90xeRs8FDeDEeSHrWTTKt5zoRnYw0/edit | Risk Outline - Google Docs\n",
      "https://docs.google.com/document/d/1WqLe5cE9Pozp5C9FlgG2ei_TwlOkVMYRMLJUuB_5A-o/edit | CONFIDENTIAL: Notes on Alexander, internal OP politics, and potential upshots (Shared w/ WIT) - Google Docs\n",
      "https://docs.google.com/document/d/1vXb0rRqjBIMh38M4m775MsFK1VKyABQXJODBjJw0c5w/edit#heading=h.ginvvzl58sif | AVA 2023 notes on OP Worldview Diversification from Lewis Bollard conversation - Google Docs\n",
      "https://docs.google.com/document/d/1V5HbUl1ilE-NcQGbmsWJ4IRn26IMhHw_3lMFZFZyDZ4/edit#heading=h.m0qsq4tqo8od | Uncertainty over time and Bayesian updating draft - Google Docs\n",
      "https://docs.google.com/document/d/1Wyd6GyK02vPaJHczfAx3oOvBc32nthRI9pwMcGE0sJY/edit#heading=h.vrwb98egsb1n | [Draft] What do you have to believe for \"minimal longtermism\" to beat GHD and cage-free campaigns? - Google Docs\n",
      "https://docs.google.com/document/d/1d5s7L0FX0dLNUj7VvEizdeXxqxqNjXLTksT7QbL4y50/edit#heading=h.septvxrbt2ec | 2023 WIT Comms Push Brainstorming - Google Docs\n",
      "https://docs.google.com/document/d/17k-MBAD4TrtqjbQ3sNlyDEF_QEnQ5prT87zNyMIa2RE/edit#heading=h.wfl3wbuv35qt | Difference-Making Risk-Averse Expected Value - Google Docs\n",
      "https://docs.google.com/spreadsheets/d/1t_7AkXxH1IIQC6TuQFSrLkNoQOwDRWU1ICDbt-G1XHc/edit#gid=760967507 | DC team capacity planning - Google Sheets\n",
      "https://docs.google.com/document/d/1wd7WEsaPXQB_IauqXEcE1RIyKmvrjC3tVrz6B0KXxeo/edit | Value of the Future After Perils - Google Docs\n",
      "https://docs.google.com/document/d/19iVuL9Vt3hHjB0Eb0zs-5rVcw-VvVF5_A3n1h26WG1A/edit | Risk and Animals Draft - Google Docs\n",
      "https://docs.google.com/document/d/1qwKUWu1aa1rikW3zlCPPvPXdS4upsarkJe8-JwcE4tY/edit#heading=h.z6v8ty7j4wlh | You don't have to be that risk-averse to prefer GHW to LT (Final - Shared with Jason) - Google Docs\n",
      "https://docs.google.com/document/d/10e6f3_5wJSAVecSDOt7BVIVuB87UhDnIf76R_t4LrLs/edit | Untitled document - Google Docs\n",
      "https://docs.google.com/document/d/11YKTKRumtlheK_9Dv9ECKwwoTeSG3RNcs6qUSajzqDw/edit#heading=h.1iamd83htxyz | 2023.05.22 AI Reference Classes - Google Docs\n",
      "https://docs.google.com/document/d/1Gkju5VWLldE4COF278hLeWjsVQPHtdgYncCaFeNYcIw/edit | How the Strong-LT Model Works, What it Says, and Whether We Should Trust It - Google Docs\n"
     ]
    }
   ],
   "source": [
    "print('Shuffled tabs! ({})'.format(len(tabs)))\n",
    "\n",
    "random.shuffle(tabs)\n",
    "\n",
    "print('-')\n",
    "for t in tabs:\n",
    "    print(t)"
   ]
  },
  {
   "cell_type": "code",
   "execution_count": 5,
   "id": "1a7eece4-8649-45d2-bd1f-5d0e2554c42d",
   "metadata": {},
   "outputs": [
    {
     "name": "stdout",
     "output_type": "stream",
     "text": [
      "27 tabs opened!\n"
     ]
    }
   ],
   "source": [
    "open_tabs_from_text(\"\"\"\n",
    "\"\"\")"
   ]
  },
  {
   "cell_type": "code",
   "execution_count": null,
   "id": "4908920d-eb47-4eb4-b945-3aba9880ef2b",
   "metadata": {},
   "outputs": [],
   "source": []
  }
 ],
 "metadata": {
  "kernelspec": {
   "display_name": "Python 3 (ipykernel)",
   "language": "python",
   "name": "python3"
  },
  "language_info": {
   "codemirror_mode": {
    "name": "ipython",
    "version": 3
   },
   "file_extension": ".py",
   "mimetype": "text/x-python",
   "name": "python",
   "nbconvert_exporter": "python",
   "pygments_lexer": "ipython3",
   "version": "3.11.4"
  }
 },
 "nbformat": 4,
 "nbformat_minor": 5
}
