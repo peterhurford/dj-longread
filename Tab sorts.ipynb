{
 "cells": [
  {
   "cell_type": "code",
   "execution_count": 1,
   "id": "40568205",
   "metadata": {},
   "outputs": [
    {
     "name": "stdout",
     "output_type": "stream",
     "text": [
      "Loaded\n"
     ]
    }
   ],
   "source": [
    "import random\n",
    "import numpy as np\n",
    "import webbrowser\n",
    "\n",
    "\n",
    "def print_tabs(tabs, label=None):\n",
    "    if label:\n",
    "        print('## {} ## ({} tabs)'.format(label, len(tabs)))\n",
    "    else:\n",
    "        print('({} tabs)'.format(len(tabs)))\n",
    "    print('')\n",
    "    for tab in tabs:\n",
    "        print(tab.replace('\\n', ''))\n",
    "    return None\n",
    "\n",
    "\n",
    "def open_tab(tab):\n",
    "    url = tab.split('|')[0].replace(' ', '')\n",
    "    webbrowser.open(url, new=2, autoraise=False)\n",
    "    \n",
    "    \n",
    "def open_tabs(tabs, page=1, per_page=10):\n",
    "    page_start = (page - 1) * per_page\n",
    "    total_pages = int(np.ceil(len(tabs) / per_page))\n",
    "    if page > total_pages:\n",
    "        raise ValueError('Cannot open page {}, only have {} pages'.format(page, total_pages))\n",
    "    page_end = page * per_page - 1\n",
    "    if page_end > len(tabs):\n",
    "        page_end = len(tabs)\n",
    "    paged_tabs = tabs[page_start:page_end]\n",
    "    print('Opening page {}/{} (tabs {}-{} of {})'.format(page, total_pages, page_start, page_end, len(tabs)))\n",
    "    \n",
    "    for tab in paged_tabs:\n",
    "        open_tab(tab)\n",
    "\n",
    "        \n",
    "print('Loaded')"
   ]
  },
  {
   "cell_type": "code",
   "execution_count": 2,
   "id": "1ffe9c7f",
   "metadata": {},
   "outputs": [
    {
     "name": "stdout",
     "output_type": "stream",
     "text": [
      "82\n",
      "82\n",
      "81\n"
     ]
    }
   ],
   "source": [
    "tab_file = open('/Users/peterhurford/Documents/alltabs.txt', 'r')\n",
    "tabs = tab_file.readlines()\n",
    "print(len(tabs))\n",
    "\n",
    "tabs = [t for t in tabs if t != '\\n']\n",
    "print(len(tabs))\n",
    "\n",
    "tabs = list(set(tabs))\n",
    "print(len(tabs))"
   ]
  },
  {
   "cell_type": "code",
   "execution_count": 3,
   "id": "df44f938",
   "metadata": {
    "scrolled": true
   },
   "outputs": [
    {
     "name": "stdout",
     "output_type": "stream",
     "text": [
      "## Messages ## (0 tabs)\n",
      "\n"
     ]
    }
   ],
   "source": [
    "print_tabs([t for t in tabs if ('messages/' in t.lower() or 'inbox/' in t.lower() or 'swapcard' in t.lower())], label='Messages')"
   ]
  },
  {
   "cell_type": "code",
   "execution_count": 4,
   "id": "89c2b367",
   "metadata": {},
   "outputs": [
    {
     "name": "stdout",
     "output_type": "stream",
     "text": [
      "## Facebook ## (0 tabs)\n",
      "\n"
     ]
    }
   ],
   "source": [
    "print_tabs([t for t in tabs if 'facebook.com' in t.lower() and 'messages' not in t.lower()], label='Facebook')"
   ]
  },
  {
   "cell_type": "code",
   "execution_count": 5,
   "id": "f6d6e211",
   "metadata": {},
   "outputs": [
    {
     "name": "stdout",
     "output_type": "stream",
     "text": [
      "## Twitter ## (9 tabs)\n",
      "\n",
      "https://twitter.com/paraschopra/status/1596762675710918656 | Paras Chopra on Twitter: \"My hunches about what GPT-4 will be capable of 🧵\" / Twitter\n",
      "https://mobile.twitter.com/ladyhaja/status/1594266569923764226 | Hannah Jane Parkinson on Twitter: \"Ok. So. Some things happened. And then this happened. Which I... did not see coming?? I feel such deep shame. But I’ve written about it here, and for one reason only: I could not find another way to stop. https://t.co/OqfnH1aMVH\" / Twitter\n",
      "https://twitter.com/jachiam0/status/1591494093766787076 | Joshua Achiam on Twitter: \"🧵 to clarify my views on AGI, timelines, and x-risk. TL;DR: My AGI timelines are short-ish (within two decades with things getting weird soon) and I think x-risk is real, but I think probabilities of doom by AGI instrumentally opting to kill us are greatly exaggerated. 1/\" / Twitter\n",
      "https://mobile.twitter.com/dpaleka/status/1598012077322686466 | https://mobile.twitter.com/dpaleka/status/1598012077322686466\n",
      "https://twitter.com/davidmanheim/status/1597521924292329479 | David Manheim - #1972BWC in Geneva (+DC Dec 6-8) on Twitter: \"Fantastic opening statement from US Undersecretary @Jenkinsbd of @USAmbCD this morning about the need to support the inexpensive but critical work of the #1972BWC at the #BWCRevCon today, and need to see its work expanded.\" / Twitter\n",
      "https://mobile.twitter.com/fuckyouiquit | Fuck You I Quit (@fuckyouiquit) / Twitter\n",
      "https://mobile.twitter.com/gwern/status/1597396624090992640 | 𝔊𝔴𝔢𝔯𝔫 on Twitter: \"@CFGeek @the_trq @janleike Yeah, I saw reports of that too but the person I asked didn't provide any prompt and no one seemed to do it reliably and the ones they did show all looked common &amp; memorized. Maybe 002 switched tokenization but hadn't trained adequately to unlearn its blindness to phonetics yet?\" / Twitter\n",
      "https://twitter.com/robbensinger/status/1595139268019908608 | Rob Bensinger 🔍 on Twitter: \"\"Noticing red flags\" often isn't what it feels like from the inside to properly notice, respond to, and propagate warning signs that someone you respect is fucking up in a surprising way. Things usually feel like \"red flags\" after you're suspicious, rather than before.\" / Twitter\n",
      "https://mobile.twitter.com/AlecStapp/status/1597342193743589377 | Alec Stapp on Twitter: \"Epic rant about “data science” from @ryxcommar: https://t.co/4ZjqNr69td\" / Twitter\n"
     ]
    }
   ],
   "source": [
    "twitter_tabs = [t for t in tabs if 'twitter' in t.lower() and 'messages' not in t.lower()]\n",
    "print_tabs(twitter_tabs, label='Twitter')"
   ]
  },
  {
   "cell_type": "code",
   "execution_count": 6,
   "id": "0e8d623e",
   "metadata": {},
   "outputs": [],
   "source": [
    "#open_tabs(twitter_tabs, page=4, per_page=30)"
   ]
  },
  {
   "cell_type": "code",
   "execution_count": 7,
   "id": "c4635d45",
   "metadata": {},
   "outputs": [
    {
     "name": "stdout",
     "output_type": "stream",
     "text": [
      "## Google Docs ## (46 tabs)\n",
      "\n",
      "https://docs.google.com/document/d/1MGWaBg5F10OQJcaKrPixlCN9dXclj-fz6PVNCatTxfM/edit#heading=h.hhd0mvh9gst9 | RP Copy of [Luke doc for AIGS only] [2022-09-26 draft] - Google Docs\n",
      "https://docs.google.com/document/d/1r0TPCpivFX3sHbcDdRc2ZC85tiocnFZyii2woVVacMs/edit | AI Reading Notes - Google Docs\n",
      "https://docs.google.com/document/d/12yOxzRW8hrEVR_wUXtGDmOmwjm94DTgWBnfDC5v-pXU/edit#heading=h.gsyt6gbjtl9 | Longtermism (LT) hiring - standing meetings - 2022 Q3-4 - Google Docs\n",
      "https://docs.google.com/spreadsheets/d/1JCIEOPGMqGsDfeP5inp0uuSPJuIQq1EOd0R4ZrgZPz8/edit#gid=0 | RP Operations Functions Scalability - Nov 2022 - Google Sheets\n",
      "https://docs.google.com/spreadsheets/d/16hvXilmBtN4X5tPiaxqnfcSjbeVZ-ux0Dt_hwqJr_-s/edit#gid=0 | R&D and Megaprojects Budgets Summary - Google Sheets\n",
      "https://docs.google.com/document/d/12cgMqK7X7zY-GjdaJkBU2Hwc0Dsou42M6IgWbZN5vUo/edit | Thomas Larsen <> Marie Buhl - 2022-11-23 - Google Docs\n",
      "https://docs.google.com/document/d/1blzbAwEkumaeaHnC4ESCXbixuqBK4twUmLkOA0BOhKA/edit | 11-30-22 Fundraising Forecast - Google Docs\n",
      "https://docs.google.com/spreadsheets/d/1dMy-rJGyUaEDcR0cImTv8gXR00Jzmmm88Tge_xXVeRo/edit#gid=0 | RP Dashboard - Google Sheets\n",
      "https://docs.google.com/document/d/1iV1fNk3UcryN9FoO71O--UtWpjtnbXwVBslo22LewFY/edit#heading=h.fokej6ldkygq | AIGS What Do notes - Google Docs\n",
      "https://docs.google.com/spreadsheets/d/1Qv2yUmbMIR6iJdXJ7lFZIHnCFGqC6wuTV4Rt-CrqffY/edit#gid=211665578 | Staff Performance Evaluations Matrix - Google Sheets\n",
      "https://docs.google.com/document/d/1bpKk7c7FB4iOr9MA0ePNTdgl3dUEdGwoRF_g1uSdoWs/edit#heading=h.rvv15w6oikf3 | RP LT: What are the most plausible AGI timelines and takeoff scenarios? - Google Docs\n",
      "https://docs.google.com/document/d/1APLsYcNiMBB3T9a2qoxN2PfyoHtog796xGcxvFdAzYo/edit | Nov, 2022: Exec Retreat Agenda Draft - Google Docs\n",
      "https://docs.google.com/document/d/1IPXU0s4U0Ei7kJ0R9ddKRXG9V0oQnty990osh2T1lPc/edit | Dan Hendrycks 2022.11.28 - Google Docs\n",
      "https://docs.google.com/document/d/1yjQyD48SalLelRAPFpfZWtsHNT6gpOmgQ-UdSGpFRU8/edit#heading=h.n4vkdxoikpc1 | RAND Work on GCRs - Google Docs\n",
      "https://docs.google.com/document/d/1P62Z18o7Gqt9vfrm1HiQJJfsLsRuk-2rLEVoxJ9H8WA/edit | Joe, Emma, Ashwin <> Anthropic 12-Nov-2022 -- AI Auditing Org, Whistleblowing, Timelines - Google Docs\n",
      "https://docs.google.com/document/d/11nA0ZoFhf8OIIwsf5kzAv5lprsTj3xeq2hxTLOIOS0o/edit#heading=h.3gug2z69u9a7 | AR Operations Reflections - Google Docs\n",
      "https://docs.google.com/spreadsheets/d/1KxYL_KPLpjkiNkYk6PIZ8Qenl1YQI8AZHRj1CIfC0DY/edit#gid=0 | RP Copy of What well-scoped research projects could help us reduce AI x-risk? [2022-09-30 snapshot] - Google Sheets\n",
      "https://docs.google.com/document/d/1Rh9SSofWAer-lJPk-Kxg-VYewBKW4zC60GkuQXO2Sz8/edit | WAW strategy - Google Docs\n",
      "https://docs.google.com/document/d/13JHBYuEllslzl6o_kWc6y9KyTDsKxuC2lxX0h9MSqtc/edit | Ben Pace <> Marie Buhl - 2022-11-22 - Google Docs\n",
      "https://docs.google.com/document/d/1VX-LyvC7xLPL0fpiqa3B9ox7oxSR0nWeCxO0jdfQyxg/edit | Katja Grace <> Michael - 2022-Nov-28 - AIGS's & AI Impacts' work, AGI risk awareness-raising, AI gov research approaches - Google Docs\n",
      "https://docs.google.com/document/d/1TeiaWysrNa9QK6rXAl-iDsFHMNRE4IxwK2JGNiAOhME/edit | investigating whether GLT should do red teaming December 2022 -- Ben's quick project plan - Google Docs\n",
      "https://docs.google.com/document/d/1hldNJvkr9XOJdet7YVRJA_uH4h-FLVBxXkBYXY3b2eU/edit | How might we expand AIGS? - Google Docs\n",
      "https://docs.google.com/document/d/12FsISgjXQhrbcmeOMqnN5Hh-sB3s0c2eNscb8gDli_w/edit#heading=h.913eglsrmj1x | Megaproject: Recruiting funnel for technical AI safety research [In-depth speedrun] - Google Docs\n",
      "https://docs.google.com/document/d/1EcapPN19W-hfDwZi5xTPrAC8w5DBwG0ld5xAJ5qdWdo/edit | AW Department - Monthly updates - Google Docs\n",
      "https://docs.google.com/document/d/14WsCiU0ugXv_BTPqNVl6kgP3KdyxM82xAD1BJzSQOTQ/edit | Olivia Jiminez <> Marie Buhl & Patrick Levermore - 2022-11-22 - Google Docs\n",
      "https://docs.google.com/document/d/152PO629d9Sq8xjrFC2Mep2lK-MsLUzkcNp6UknJCyLU/edit#heading=h.qe7q1i4zut97 | AIGS whole-team OKRs notes - Google Docs\n",
      "https://docs.google.com/document/d/1LVPIHi7xik0RBdBNCtmoOBpeEh7e0_l01wRLBB_JVxk/edit | MD GHD, Animals, and Executive Team Reflections - Google Docs\n",
      "https://docs.google.com/document/d/1KAIbBXnvMOM_T7qOe5b1mV8bbdMXTlfhjbFw2uQNCf4/edit#heading=h.voazkych40mx | The S-curve model & attention hazards: When should we advocate for AGI risk? - Google Docs\n",
      "https://docs.google.com/document/d/1I12QSB0Dl0KkQD93TMLhOCeD9UGm89ebvOeOwJO9eB0/edit#heading=h.og8nnic0zbqb | Copy of Daniela comments from bi-annual survey - Google Docs\n",
      "https://docs.google.com/document/d/1c9inS2gqXQeD_gQQbdNPwED5a_DymiL1VlA8r1smBxE/edit#heading=h.8ymi6zdcxkra | Info on Open Phil's (Longtermist) Worldview Investigations team - Google Docs\n",
      "https://docs.google.com/document/d/1rDVglJwquTYk8Sx7vk7OvNMxL6dwanPf7F-7SvElVTA/edit | 2022/Q3+4 Monthly Fundraising Meeting (FM) Agenda - Google Docs\n",
      "https://docs.google.com/document/d/1AWc9UecVdXTLM6LOaKLIb87Jv1P0e2rB6RHbpB7m36w/edit#heading=h.xe3dap3bn06k | Ben Kuhn notes - Google Docs\n",
      "https://docs.google.com/document/d/1vEAyco5JrbfyD2zwEPPnTZ0FBkSVn3Edqz-CzBva9_0/edit#heading=h.mhqaztvjd3ny | RP Copy of Toward trustworthy AGI projects [2022-09-26 draft] - Google Docs\n",
      "https://docs.google.com/document/d/1-0kMOcQryE8ShlNvHyt99LLPDu0jd783Y6-oFfDK5cg/edit | Ozzie Gooen <> Marie Buhl - 2022-11-18 - Google Docs\n",
      "https://docs.google.com/document/d/1jqRFc5tvHSP-Ag76p_42VxOIfLZbBXp4HsfQM1D7Dz4/edit | Marc Koehler <> Patrick Levermore - 2022-11-28 - AGI forecasting - Google Docs\n",
      "https://docs.google.com/document/d/1bcfzNllYCyR74nGDiOJFX54rm-FhtkeqMjQ1YUPfDJ8/edit | Oliver Habryka <> Marie Buhl & Michael Aird - 2022-11-22 - Google Docs\n",
      "https://docs.google.com/spreadsheets/d/15PDUkX7OhzG9McEiGt2XSFQH28K8z63Z0tte9R09aSQ/edit#gid=1469042270 | Fiscal Sponsorship Applications Scoring - Google Sheets\n",
      "https://docs.google.com/spreadsheets/d/1PoX7l9VfOJWaW5yCVGcTOgakMWgZocRlcdJYi6K92C8/edit#gid=0 | LT Big Weird Idea Time - ideas and rankings - Google Sheets\n",
      "https://docs.google.com/spreadsheets/d/1ku_zYWErNDjzT6gqIwUU3Fr34mvj3GMIrvztpJlilx4/edit#gid=0 | 2022 Survey team commissions - Google Sheets\n",
      "https://docs.google.com/document/d/1KfFa6Eh9npshytI0KyazRnSNG4KtbtgSN6xH8Icrf1I/edit#heading=h.6ytgvt3dfnpe | ZW Oct-Nov - RP Performance Evaluation Template - Google Docs\n",
      "https://docs.google.com/document/d/1tAnO5qlc6oXNCUDVsFiA7hlZiOyM5AzZf6PLNjC67Po/edit#heading=h.pst5bje9b24g | Marie's updated thoughts on infrastructure for independent researchers - Google Docs\n",
      "https://docs.google.com/document/d/172cEzNDtbeQhSClvzWIFf8nOGw0-uKBBXIHtqxsB_qg/edit#heading=h.mk3awwtig4n6 | A collection of various external people's opinions on GLT strategy - Google Docs\n",
      "https://docs.google.com/document/d/1f8nyFQrUXW7wBfJJJsJe1OKOgrN2g5eq9eGfJUK3TZM/edit | John Wentworth<>Marie Buhl - 2022-11-22 - GLT strategy - Google Docs\n",
      "https://docs.google.com/document/d/1J6PIggOkpyzT7DLqTwDl75nOmsvI86S_CCvtlWi322g/edit#heading=h.mxtsch89a2un | How do we spend time? - Google Docs\n",
      "https://docs.google.com/document/d/1x0kXOO4cfdgmS3a2PmTJf7jjBONV0kZRKVkcRfa1PRY/edit#heading=h.5t22ep6pioju | [ALLFED copy] Speedrun: Demonstrate the ability to rapidly scale food production in the case of nuclear winter - Google Docs\n",
      "https://docs.google.com/document/d/1OQ6EoMy6aHAWhJI6jFPRRPscsbGeYzHf2AMBNFaJBZU/edit#heading=h.w21swl8gnmgl | Performance Improvement Plan (PIP) - Google Docs\n"
     ]
    }
   ],
   "source": [
    "doc_tabs = [t for t in tabs if ('docs.google' in t.lower() or 'sheets.google' in t.lower() or 'drive.google' in t.lower())]\n",
    "print_tabs(doc_tabs, label='Google Docs')\n"
   ]
  },
  {
   "cell_type": "code",
   "execution_count": 8,
   "id": "18e9e150",
   "metadata": {},
   "outputs": [],
   "source": [
    "#open_tabs(doc_tabs, page=1, per_page=50)"
   ]
  },
  {
   "cell_type": "code",
   "execution_count": 9,
   "id": "6311fa07",
   "metadata": {},
   "outputs": [
    {
     "name": "stdout",
     "output_type": "stream",
     "text": [
      "## Google search ## (0 tabs)\n",
      "\n"
     ]
    }
   ],
   "source": [
    "print_tabs([t for t in tabs if ('google.com' in t.lower() and 'search' in t.lower() and\n",
    "                                not ('docs.google' in t.lower() or 'sheets.google' in t.lower()))],\n",
    "           label='Google search')"
   ]
  },
  {
   "cell_type": "code",
   "execution_count": 10,
   "id": "53b9762e",
   "metadata": {},
   "outputs": [
    {
     "name": "stdout",
     "output_type": "stream",
     "text": [
      "## EAFo/LW ## (5 tabs)\n",
      "\n",
      "https://forum.effectivealtruism.org/posts/pqmQ9PxpzzGHshmhC/2022-allfed-highlights | 2022 ALLFED highlights - EA Forum\n",
      "https://forum.effectivealtruism.org/posts/v7gep2d9Dr4bT8DnF/notes-on-barriers-to-bioweapons-ben-ouagrham-gormley-2014 | Notes on \"Barriers to Bioweapons\" (Ben Ouagrham-Gormley, 2014) - EA Forum\n",
      "https://forum.effectivealtruism.org/posts/xnHnsrFEMEMPXBWqR/ask-charity-entrepreneurship-anything#comments | Ask Charity Entrepreneurship Anything - EA Forum\n",
      "https://forum.effectivealtruism.org/posts/yPDXXxdeK9cgCfLwj/short-research-summary-can-insects-feel-pain-a-review-of-the | Short Research Summary: Can insects feel pain? A review of the neural and behavioural evidence by Gibbons et al. 2022 - EA Forum\n",
      "https://forum.effectivealtruism.org/posts/sEpWkCvvJfoEbhnsd/the-ftx-crisis-highlights-a-deeper-cultural-problem-within | The FTX crisis highlights a deeper cultural problem within EA - we don't sufficiently value good governance - EA Forum\n"
     ]
    }
   ],
   "source": [
    "ea_fo_tabs = [t for t in tabs if ('forum.effectivealtruism' in t.lower() or 'lesswrong' in t.lower())]\n",
    "print_tabs(ea_fo_tabs, label='EAFo/LW')"
   ]
  },
  {
   "cell_type": "code",
   "execution_count": 11,
   "id": "8ffa8f80-4aa6-4afe-8c6a-59194d69895e",
   "metadata": {},
   "outputs": [],
   "source": [
    "#open_tabs(ea_fo_tabs, page=1, per_page=50)"
   ]
  },
  {
   "cell_type": "code",
   "execution_count": 12,
   "id": "42ae2aee",
   "metadata": {},
   "outputs": [
    {
     "name": "stdout",
     "output_type": "stream",
     "text": [
      "## Metaculus etc. ## (0 tabs)\n",
      "\n"
     ]
    }
   ],
   "source": [
    "print_tabs([t for t in tabs if ('metaculus' in t.lower() or 'manifold' in t.lower() or 'predictit' in t.lower())], label='Metaculus etc.')"
   ]
  },
  {
   "cell_type": "code",
   "execution_count": 13,
   "id": "72bdaddd",
   "metadata": {},
   "outputs": [
    {
     "name": "stdout",
     "output_type": "stream",
     "text": [
      "## Wikipedia ## (0 tabs)\n",
      "\n"
     ]
    }
   ],
   "source": [
    "print_tabs([t for t in tabs if 'wikipedia' in t.lower()], label='Wikipedia')"
   ]
  },
  {
   "cell_type": "code",
   "execution_count": 14,
   "id": "ca9dcfdf",
   "metadata": {},
   "outputs": [
    {
     "name": "stdout",
     "output_type": "stream",
     "text": [
      "## Reddit ## (0 tabs)\n",
      "\n"
     ]
    }
   ],
   "source": [
    "print_tabs([t for t in tabs if 'reddit' in t.lower()], label='Reddit')"
   ]
  },
  {
   "cell_type": "code",
   "execution_count": 15,
   "id": "5dedf293",
   "metadata": {},
   "outputs": [
    {
     "name": "stdout",
     "output_type": "stream",
     "text": [
      "## localhost ## (0 tabs)\n",
      "\n"
     ]
    }
   ],
   "source": [
    "print_tabs([t for t in tabs if 'guarded-everglades-89687.herokuapp.com' in t.lower() or 'localhost' in t.lower()], label='localhost')\n"
   ]
  },
  {
   "cell_type": "code",
   "execution_count": 16,
   "id": "677f610e",
   "metadata": {},
   "outputs": [
    {
     "name": "stdout",
     "output_type": "stream",
     "text": [
      "## Chores ## (0 tabs)\n",
      "\n"
     ]
    }
   ],
   "source": [
    "print_tabs([t for t in tabs if 'instacart' in t.lower()], label='Chores')"
   ]
  },
  {
   "cell_type": "code",
   "execution_count": 17,
   "id": "5fce865e",
   "metadata": {},
   "outputs": [
    {
     "name": "stdout",
     "output_type": "stream",
     "text": [
      "## Amazon ## (0 tabs)\n",
      "\n"
     ]
    }
   ],
   "source": [
    "print_tabs([t for t in tabs if 'amazon.com' in t.lower()], label='Amazon')"
   ]
  },
  {
   "cell_type": "code",
   "execution_count": 18,
   "id": "16d46af9",
   "metadata": {},
   "outputs": [
    {
     "name": "stdout",
     "output_type": "stream",
     "text": [
      "## Morning Dispatch ## (0 tabs)\n",
      "\n"
     ]
    }
   ],
   "source": [
    "print_tabs([t for t in tabs if 'morning' in t.lower() and 'dispatch' in t.lower()], label='Morning Dispatch')"
   ]
  },
  {
   "cell_type": "code",
   "execution_count": 19,
   "id": "108d879a",
   "metadata": {},
   "outputs": [
    {
     "name": "stdout",
     "output_type": "stream",
     "text": [
      "## GitHub ## (0 tabs)\n",
      "\n"
     ]
    }
   ],
   "source": [
    "print_tabs([t for t in tabs if 'github' in t.lower()], label='GitHub')"
   ]
  },
  {
   "cell_type": "code",
   "execution_count": 20,
   "id": "d911bbda",
   "metadata": {},
   "outputs": [
    {
     "name": "stdout",
     "output_type": "stream",
     "text": [
      "## YouTube ## (0 tabs)\n",
      "\n"
     ]
    }
   ],
   "source": [
    "print_tabs([t for t in tabs if 'yout' in t.lower()], label='YouTube')"
   ]
  },
  {
   "cell_type": "code",
   "execution_count": 21,
   "id": "2649c14d",
   "metadata": {},
   "outputs": [
    {
     "name": "stdout",
     "output_type": "stream",
     "text": [
      "## Instagram ## (0 tabs)\n",
      "\n"
     ]
    }
   ],
   "source": [
    "print_tabs([t for t in tabs if 'instagram.com' in t.lower()], label='Instagram')"
   ]
  },
  {
   "cell_type": "code",
   "execution_count": 22,
   "id": "bc70c265",
   "metadata": {},
   "outputs": [
    {
     "name": "stdout",
     "output_type": "stream",
     "text": [
      "## Other ## (21 tabs)\n",
      "\n",
      "https://www.theatlantic.com/magazine/archive/2022/12/china-takeover-taiwan-xi-tsai-ing-wen/671895/ | Taiwan Wants China to Think Twice About an Invasion - The Atlantic\n",
      "https://garymarcus.substack.com/p/what-does-meta-ais-diplomacy-winning | What does Meta AI’s Diplomacy-winning Cicero Mean for AI?\n",
      "https://chat.openai.com/chat | https://chat.openai.com/chat\n",
      "https://www.benkuhn.net/11/ | The unreasonable effectiveness of one-on-ones | benkuhn.net\n",
      "https://asteriskmag.com/issues/1/the-illogic-of-nuclear-escalation | The Illogic of Nuclear Escalation—Asterisk\n",
      "https://bundleiq.medium.com/comparing-gpt-3s-davinci-text-002-to-davinci-text-003-302e3ba951d5 | Comparing GPT-3’s davinci-text-002 to davinci-text-003 | by bundleIQ | Nov, 2022 | Medium\n",
      "https://www.semafor.com/ | https://www.semafor.com/\n",
      "https://scottaaronson.blog/?p=6821 | Shtetl-Optimized » Blog Archive » Reform AI Alignment\n",
      "https://www.semafor.com/newsletter/11/24/2022/black-friday-edition | Black Friday edition | Semafor\n",
      "https://lethain.com/rails-for-engineering-leadership/ | My rails for engineering leadership. | Irrational Exuberance\n",
      "https://generallyintelligent.com/launch/ | Introducing Generally Intelligent - generally intelligent\n",
      "https://agupubs.onlinelibrary.wiley.com/doi/full/10.1029/2019GL085378 | Evaluating the Performance of Past Climate Model Projections - Hausfather - 2020 - Geophysical Research Letters - Wiley Online Library\n",
      "https://news.ycombinator.com/item?id=33780720 | New GPT-3 model: text-DaVinci-003 | Hacker News\n",
      "https://www.theguardian.com/commentisfree/2022/nov/16/is-the-effective-altruism-movement-in-trouble | Is the effective altruism movement in trouble? | Olúfẹ́mi O Táíwò and Joshua Stein | The Guardian\n",
      "https://asteriskmag.com/issues/1/review-what-we-owe-the-future | What We Owe The Future—Asterisk\n",
      "https://www.wave.com/en/blog/11-tips/ | Some tips for good one-on-ones - Wave Blog\n",
      "https://web.archive.org/web/20210625103706/https://worldoptimization.tumblr.com/ | Fake Charity Nerd Girl\n",
      "https://asteriskmag.com/issues/1/how-to-prevent-the-next-pandemic | How to Prevent the Next Pandemic—Asterisk\n",
      "https://lethain.com/newsletter/ | Newsletter for Irrational Exuberance. | Irrational Exuberance\n",
      "https://www.benkuhn.net/weekly/ | My weekly review habit\n",
      "https://asteriskmag.com/issues/1/china-s-silicon-future | China’s Silicon Future—Asterisk\n"
     ]
    }
   ],
   "source": [
    "tabs_ = [t for t in tabs if (not ('google.com' in t.lower() and 'search' in t.lower() and not ('docs.google' in t.lower() or 'sheets.google' in t.lower())) and\n",
    "                             not ('docs.google' in t.lower() or 'sheets.google' in t.lower() or 'drive.google' in t.lower()) and\n",
    "                             not 'facebook.com' in t.lower() and\n",
    "                             not 'twitter' in t.lower() and\n",
    "                             not ('forum.effectivealtruism' in t.lower() or 'lesswrong' in t.lower()) and\n",
    "                             not ('metaculus' in t.lower() or 'manifold' in t.lower() or 'predictit' in t.lower()) and\n",
    "                             not 'wikipedia' in t.lower() and\n",
    "                             not 'reddit' in t.lower() and\n",
    "                             not 'instagram.com' in t.lower() and\n",
    "                             not ('guarded-everglades-89687.herokuapp.com' in t.lower() or 'localhost' in t.lower()) and\n",
    "                             not 'instacart' in t.lower() and\n",
    "                             not ('morning' in t.lower() and 'dispatch' in t.lower()) and\n",
    "                             not 'amazon.com' in t.lower() and\n",
    "                             not 'github' in t.lower() and\n",
    "                             not 'calendar.google' in t.lower() and\n",
    "                             not 'yout' in t.lower() and\n",
    "                             not ('messages/' in t.lower() or 'inbox/' in t.lower() or 'swapcard' in t.lower()))]\n",
    "print_tabs(tabs_, label='Other')\n",
    "\n"
   ]
  },
  {
   "cell_type": "code",
   "execution_count": 23,
   "id": "c9a2a7bb-86f9-45bd-b8d6-ed8889caed90",
   "metadata": {},
   "outputs": [],
   "source": [
    "#open_tabs(tabs_, page=1, per_page=60)"
   ]
  },
  {
   "cell_type": "code",
   "execution_count": 24,
   "id": "6c128ee3-03e2-4cfb-bfd1-0dfc84775af1",
   "metadata": {},
   "outputs": [
    {
     "name": "stdout",
     "output_type": "stream",
     "text": [
      "## Shuffled all tabs ## (81 tabs)\n",
      "\n",
      "https://docs.google.com/document/d/1KfFa6Eh9npshytI0KyazRnSNG4KtbtgSN6xH8Icrf1I/edit#heading=h.6ytgvt3dfnpe | ZW Oct-Nov - RP Performance Evaluation Template - Google Docs\n",
      "https://docs.google.com/document/d/1APLsYcNiMBB3T9a2qoxN2PfyoHtog796xGcxvFdAzYo/edit | Nov, 2022: Exec Retreat Agenda Draft - Google Docs\n",
      "https://asteriskmag.com/issues/1/the-illogic-of-nuclear-escalation | The Illogic of Nuclear Escalation—Asterisk\n",
      "https://docs.google.com/document/d/14WsCiU0ugXv_BTPqNVl6kgP3KdyxM82xAD1BJzSQOTQ/edit | Olivia Jiminez <> Marie Buhl & Patrick Levermore - 2022-11-22 - Google Docs\n",
      "https://docs.google.com/document/d/12yOxzRW8hrEVR_wUXtGDmOmwjm94DTgWBnfDC5v-pXU/edit#heading=h.gsyt6gbjtl9 | Longtermism (LT) hiring - standing meetings - 2022 Q3-4 - Google Docs\n",
      "https://forum.effectivealtruism.org/posts/sEpWkCvvJfoEbhnsd/the-ftx-crisis-highlights-a-deeper-cultural-problem-within | The FTX crisis highlights a deeper cultural problem within EA - we don't sufficiently value good governance - EA Forum\n",
      "https://docs.google.com/document/d/1J6PIggOkpyzT7DLqTwDl75nOmsvI86S_CCvtlWi322g/edit#heading=h.mxtsch89a2un | How do we spend time? - Google Docs\n",
      "https://www.benkuhn.net/11/ | The unreasonable effectiveness of one-on-ones | benkuhn.net\n",
      "https://twitter.com/jachiam0/status/1591494093766787076 | Joshua Achiam on Twitter: \"🧵 to clarify my views on AGI, timelines, and x-risk. TL;DR: My AGI timelines are short-ish (within two decades with things getting weird soon) and I think x-risk is real, but I think probabilities of doom by AGI instrumentally opting to kill us are greatly exaggerated. 1/\" / Twitter\n",
      "https://docs.google.com/document/d/1yjQyD48SalLelRAPFpfZWtsHNT6gpOmgQ-UdSGpFRU8/edit#heading=h.n4vkdxoikpc1 | RAND Work on GCRs - Google Docs\n",
      "https://docs.google.com/document/d/1-0kMOcQryE8ShlNvHyt99LLPDu0jd783Y6-oFfDK5cg/edit | Ozzie Gooen <> Marie Buhl - 2022-11-18 - Google Docs\n",
      "https://docs.google.com/spreadsheets/d/1JCIEOPGMqGsDfeP5inp0uuSPJuIQq1EOd0R4ZrgZPz8/edit#gid=0 | RP Operations Functions Scalability - Nov 2022 - Google Sheets\n",
      "https://generallyintelligent.com/launch/ | Introducing Generally Intelligent - generally intelligent\n",
      "https://twitter.com/paraschopra/status/1596762675710918656 | Paras Chopra on Twitter: \"My hunches about what GPT-4 will be capable of 🧵\" / Twitter\n",
      "https://forum.effectivealtruism.org/posts/xnHnsrFEMEMPXBWqR/ask-charity-entrepreneurship-anything#comments | Ask Charity Entrepreneurship Anything - EA Forum\n",
      "https://docs.google.com/document/d/1blzbAwEkumaeaHnC4ESCXbixuqBK4twUmLkOA0BOhKA/edit | 11-30-22 Fundraising Forecast - Google Docs\n",
      "https://bundleiq.medium.com/comparing-gpt-3s-davinci-text-002-to-davinci-text-003-302e3ba951d5 | Comparing GPT-3’s davinci-text-002 to davinci-text-003 | by bundleIQ | Nov, 2022 | Medium\n",
      "https://docs.google.com/document/d/1tAnO5qlc6oXNCUDVsFiA7hlZiOyM5AzZf6PLNjC67Po/edit#heading=h.pst5bje9b24g | Marie's updated thoughts on infrastructure for independent researchers - Google Docs\n",
      "https://docs.google.com/document/d/1rDVglJwquTYk8Sx7vk7OvNMxL6dwanPf7F-7SvElVTA/edit | 2022/Q3+4 Monthly Fundraising Meeting (FM) Agenda - Google Docs\n",
      "https://news.ycombinator.com/item?id=33780720 | New GPT-3 model: text-DaVinci-003 | Hacker News\n",
      "https://chat.openai.com/chat | https://chat.openai.com/chat\n",
      "https://mobile.twitter.com/AlecStapp/status/1597342193743589377 | Alec Stapp on Twitter: \"Epic rant about “data science” from @ryxcommar: https://t.co/4ZjqNr69td\" / Twitter\n",
      "https://docs.google.com/spreadsheets/d/15PDUkX7OhzG9McEiGt2XSFQH28K8z63Z0tte9R09aSQ/edit#gid=1469042270 | Fiscal Sponsorship Applications Scoring - Google Sheets\n",
      "https://docs.google.com/document/d/1KAIbBXnvMOM_T7qOe5b1mV8bbdMXTlfhjbFw2uQNCf4/edit#heading=h.voazkych40mx | The S-curve model & attention hazards: When should we advocate for AGI risk? - Google Docs\n",
      "https://mobile.twitter.com/ladyhaja/status/1594266569923764226 | Hannah Jane Parkinson on Twitter: \"Ok. So. Some things happened. And then this happened. Which I... did not see coming?? I feel such deep shame. But I’ve written about it here, and for one reason only: I could not find another way to stop. https://t.co/OqfnH1aMVH\" / Twitter\n",
      "https://lethain.com/newsletter/ | Newsletter for Irrational Exuberance. | Irrational Exuberance\n",
      "https://lethain.com/rails-for-engineering-leadership/ | My rails for engineering leadership. | Irrational Exuberance\n",
      "https://docs.google.com/document/d/12cgMqK7X7zY-GjdaJkBU2Hwc0Dsou42M6IgWbZN5vUo/edit | Thomas Larsen <> Marie Buhl - 2022-11-23 - Google Docs\n",
      "https://docs.google.com/spreadsheets/d/1KxYL_KPLpjkiNkYk6PIZ8Qenl1YQI8AZHRj1CIfC0DY/edit#gid=0 | RP Copy of What well-scoped research projects could help us reduce AI x-risk? [2022-09-30 snapshot] - Google Sheets\n",
      "https://twitter.com/davidmanheim/status/1597521924292329479 | David Manheim - #1972BWC in Geneva (+DC Dec 6-8) on Twitter: \"Fantastic opening statement from US Undersecretary @Jenkinsbd of @USAmbCD this morning about the need to support the inexpensive but critical work of the #1972BWC at the #BWCRevCon today, and need to see its work expanded.\" / Twitter\n",
      "https://docs.google.com/document/d/1jqRFc5tvHSP-Ag76p_42VxOIfLZbBXp4HsfQM1D7Dz4/edit | Marc Koehler <> Patrick Levermore - 2022-11-28 - AGI forecasting - Google Docs\n",
      "https://mobile.twitter.com/gwern/status/1597396624090992640 | 𝔊𝔴𝔢𝔯𝔫 on Twitter: \"@CFGeek @the_trq @janleike Yeah, I saw reports of that too but the person I asked didn't provide any prompt and no one seemed to do it reliably and the ones they did show all looked common &amp; memorized. Maybe 002 switched tokenization but hadn't trained adequately to unlearn its blindness to phonetics yet?\" / Twitter\n",
      "https://docs.google.com/document/d/1x0kXOO4cfdgmS3a2PmTJf7jjBONV0kZRKVkcRfa1PRY/edit#heading=h.5t22ep6pioju | [ALLFED copy] Speedrun: Demonstrate the ability to rapidly scale food production in the case of nuclear winter - Google Docs\n",
      "https://docs.google.com/document/d/1MGWaBg5F10OQJcaKrPixlCN9dXclj-fz6PVNCatTxfM/edit#heading=h.hhd0mvh9gst9 | RP Copy of [Luke doc for AIGS only] [2022-09-26 draft] - Google Docs\n",
      "https://www.semafor.com/newsletter/11/24/2022/black-friday-edition | Black Friday edition | Semafor\n",
      "https://docs.google.com/document/d/1bcfzNllYCyR74nGDiOJFX54rm-FhtkeqMjQ1YUPfDJ8/edit | Oliver Habryka <> Marie Buhl & Michael Aird - 2022-11-22 - Google Docs\n",
      "https://docs.google.com/document/d/172cEzNDtbeQhSClvzWIFf8nOGw0-uKBBXIHtqxsB_qg/edit#heading=h.mk3awwtig4n6 | A collection of various external people's opinions on GLT strategy - Google Docs\n",
      "https://www.benkuhn.net/weekly/ | My weekly review habit\n",
      "https://docs.google.com/document/d/1IPXU0s4U0Ei7kJ0R9ddKRXG9V0oQnty990osh2T1lPc/edit | Dan Hendrycks 2022.11.28 - Google Docs\n",
      "https://mobile.twitter.com/dpaleka/status/1598012077322686466 | https://mobile.twitter.com/dpaleka/status/1598012077322686466\n",
      "https://docs.google.com/spreadsheets/d/1Qv2yUmbMIR6iJdXJ7lFZIHnCFGqC6wuTV4Rt-CrqffY/edit#gid=211665578 | Staff Performance Evaluations Matrix - Google Sheets\n",
      "https://docs.google.com/document/d/1TeiaWysrNa9QK6rXAl-iDsFHMNRE4IxwK2JGNiAOhME/edit | investigating whether GLT should do red teaming December 2022 -- Ben's quick project plan - Google Docs\n",
      "https://docs.google.com/document/d/1r0TPCpivFX3sHbcDdRc2ZC85tiocnFZyii2woVVacMs/edit | AI Reading Notes - Google Docs\n",
      "https://docs.google.com/document/d/152PO629d9Sq8xjrFC2Mep2lK-MsLUzkcNp6UknJCyLU/edit#heading=h.qe7q1i4zut97 | AIGS whole-team OKRs notes - Google Docs\n",
      "https://www.theatlantic.com/magazine/archive/2022/12/china-takeover-taiwan-xi-tsai-ing-wen/671895/ | Taiwan Wants China to Think Twice About an Invasion - The Atlantic\n",
      "https://agupubs.onlinelibrary.wiley.com/doi/full/10.1029/2019GL085378 | Evaluating the Performance of Past Climate Model Projections - Hausfather - 2020 - Geophysical Research Letters - Wiley Online Library\n",
      "https://docs.google.com/document/d/1bpKk7c7FB4iOr9MA0ePNTdgl3dUEdGwoRF_g1uSdoWs/edit#heading=h.rvv15w6oikf3 | RP LT: What are the most plausible AGI timelines and takeoff scenarios? - Google Docs\n",
      "https://docs.google.com/document/d/1c9inS2gqXQeD_gQQbdNPwED5a_DymiL1VlA8r1smBxE/edit#heading=h.8ymi6zdcxkra | Info on Open Phil's (Longtermist) Worldview Investigations team - Google Docs\n",
      "https://www.theguardian.com/commentisfree/2022/nov/16/is-the-effective-altruism-movement-in-trouble | Is the effective altruism movement in trouble? | Olúfẹ́mi O Táíwò and Joshua Stein | The Guardian\n",
      "https://docs.google.com/document/d/11nA0ZoFhf8OIIwsf5kzAv5lprsTj3xeq2hxTLOIOS0o/edit#heading=h.3gug2z69u9a7 | AR Operations Reflections - Google Docs\n",
      "https://docs.google.com/document/d/1hldNJvkr9XOJdet7YVRJA_uH4h-FLVBxXkBYXY3b2eU/edit | How might we expand AIGS? - Google Docs\n",
      "https://docs.google.com/document/d/13JHBYuEllslzl6o_kWc6y9KyTDsKxuC2lxX0h9MSqtc/edit | Ben Pace <> Marie Buhl - 2022-11-22 - Google Docs\n",
      "https://docs.google.com/document/d/1AWc9UecVdXTLM6LOaKLIb87Jv1P0e2rB6RHbpB7m36w/edit#heading=h.xe3dap3bn06k | Ben Kuhn notes - Google Docs\n",
      "https://docs.google.com/document/d/1iV1fNk3UcryN9FoO71O--UtWpjtnbXwVBslo22LewFY/edit#heading=h.fokej6ldkygq | AIGS What Do notes - Google Docs\n",
      "https://twitter.com/robbensinger/status/1595139268019908608 | Rob Bensinger 🔍 on Twitter: \"\"Noticing red flags\" often isn't what it feels like from the inside to properly notice, respond to, and propagate warning signs that someone you respect is fucking up in a surprising way. Things usually feel like \"red flags\" after you're suspicious, rather than before.\" / Twitter\n",
      "https://docs.google.com/document/d/1OQ6EoMy6aHAWhJI6jFPRRPscsbGeYzHf2AMBNFaJBZU/edit#heading=h.w21swl8gnmgl | Performance Improvement Plan (PIP) - Google Docs\n",
      "https://docs.google.com/document/d/1EcapPN19W-hfDwZi5xTPrAC8w5DBwG0ld5xAJ5qdWdo/edit | AW Department - Monthly updates - Google Docs\n",
      "https://docs.google.com/document/d/1P62Z18o7Gqt9vfrm1HiQJJfsLsRuk-2rLEVoxJ9H8WA/edit | Joe, Emma, Ashwin <> Anthropic 12-Nov-2022 -- AI Auditing Org, Whistleblowing, Timelines - Google Docs\n",
      "https://docs.google.com/document/d/1Rh9SSofWAer-lJPk-Kxg-VYewBKW4zC60GkuQXO2Sz8/edit | WAW strategy - Google Docs\n",
      "https://garymarcus.substack.com/p/what-does-meta-ais-diplomacy-winning | What does Meta AI’s Diplomacy-winning Cicero Mean for AI?\n",
      "https://www.wave.com/en/blog/11-tips/ | Some tips for good one-on-ones - Wave Blog\n",
      "https://docs.google.com/document/d/1vEAyco5JrbfyD2zwEPPnTZ0FBkSVn3Edqz-CzBva9_0/edit#heading=h.mhqaztvjd3ny | RP Copy of Toward trustworthy AGI projects [2022-09-26 draft] - Google Docs\n",
      "https://scottaaronson.blog/?p=6821 | Shtetl-Optimized » Blog Archive » Reform AI Alignment\n",
      "https://docs.google.com/spreadsheets/d/16hvXilmBtN4X5tPiaxqnfcSjbeVZ-ux0Dt_hwqJr_-s/edit#gid=0 | R&D and Megaprojects Budgets Summary - Google Sheets\n",
      "https://forum.effectivealtruism.org/posts/yPDXXxdeK9cgCfLwj/short-research-summary-can-insects-feel-pain-a-review-of-the | Short Research Summary: Can insects feel pain? A review of the neural and behavioural evidence by Gibbons et al. 2022 - EA Forum\n",
      "https://docs.google.com/document/d/1f8nyFQrUXW7wBfJJJsJe1OKOgrN2g5eq9eGfJUK3TZM/edit | John Wentworth<>Marie Buhl - 2022-11-22 - GLT strategy - Google Docs\n",
      "https://docs.google.com/document/d/1VX-LyvC7xLPL0fpiqa3B9ox7oxSR0nWeCxO0jdfQyxg/edit | Katja Grace <> Michael - 2022-Nov-28 - AIGS's & AI Impacts' work, AGI risk awareness-raising, AI gov research approaches - Google Docs\n",
      "https://asteriskmag.com/issues/1/china-s-silicon-future | China’s Silicon Future—Asterisk\n",
      "https://www.semafor.com/ | https://www.semafor.com/\n",
      "https://mobile.twitter.com/fuckyouiquit | Fuck You I Quit (@fuckyouiquit) / Twitter\n",
      "https://forum.effectivealtruism.org/posts/v7gep2d9Dr4bT8DnF/notes-on-barriers-to-bioweapons-ben-ouagrham-gormley-2014 | Notes on \"Barriers to Bioweapons\" (Ben Ouagrham-Gormley, 2014) - EA Forum\n",
      "https://asteriskmag.com/issues/1/review-what-we-owe-the-future | What We Owe The Future—Asterisk\n",
      "https://docs.google.com/document/d/1I12QSB0Dl0KkQD93TMLhOCeD9UGm89ebvOeOwJO9eB0/edit#heading=h.og8nnic0zbqb | Copy of Daniela comments from bi-annual survey - Google Docs\n",
      "https://docs.google.com/document/d/12FsISgjXQhrbcmeOMqnN5Hh-sB3s0c2eNscb8gDli_w/edit#heading=h.913eglsrmj1x | Megaproject: Recruiting funnel for technical AI safety research [In-depth speedrun] - Google Docs\n",
      "https://docs.google.com/spreadsheets/d/1PoX7l9VfOJWaW5yCVGcTOgakMWgZocRlcdJYi6K92C8/edit#gid=0 | LT Big Weird Idea Time - ideas and rankings - Google Sheets\n",
      "https://forum.effectivealtruism.org/posts/pqmQ9PxpzzGHshmhC/2022-allfed-highlights | 2022 ALLFED highlights - EA Forum\n",
      "https://docs.google.com/spreadsheets/d/1dMy-rJGyUaEDcR0cImTv8gXR00Jzmmm88Tge_xXVeRo/edit#gid=0 | RP Dashboard - Google Sheets\n",
      "https://asteriskmag.com/issues/1/how-to-prevent-the-next-pandemic | How to Prevent the Next Pandemic—Asterisk\n",
      "https://web.archive.org/web/20210625103706/https://worldoptimization.tumblr.com/ | Fake Charity Nerd Girl\n",
      "https://docs.google.com/document/d/1LVPIHi7xik0RBdBNCtmoOBpeEh7e0_l01wRLBB_JVxk/edit | MD GHD, Animals, and Executive Team Reflections - Google Docs\n",
      "https://docs.google.com/spreadsheets/d/1ku_zYWErNDjzT6gqIwUU3Fr34mvj3GMIrvztpJlilx4/edit#gid=0 | 2022 Survey team commissions - Google Sheets\n"
     ]
    }
   ],
   "source": [
    "random.shuffle(tabs)\n",
    "print_tabs(tabs, label='Shuffled all tabs')"
   ]
  },
  {
   "cell_type": "code",
   "execution_count": null,
   "id": "b7fe8faf-1abb-4227-911c-991219849c52",
   "metadata": {},
   "outputs": [],
   "source": []
  }
 ],
 "metadata": {
  "kernelspec": {
   "display_name": "Python 3 (ipykernel)",
   "language": "python",
   "name": "python3"
  },
  "language_info": {
   "codemirror_mode": {
    "name": "ipython",
    "version": 3
   },
   "file_extension": ".py",
   "mimetype": "text/x-python",
   "name": "python",
   "nbconvert_exporter": "python",
   "pygments_lexer": "ipython3",
   "version": "3.9.15"
  }
 },
 "nbformat": 4,
 "nbformat_minor": 5
}
