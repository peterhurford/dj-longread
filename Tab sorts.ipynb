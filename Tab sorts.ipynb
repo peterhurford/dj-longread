{
 "cells": [
  {
   "cell_type": "code",
   "execution_count": 1,
   "metadata": {},
   "outputs": [
    {
     "name": "stdout",
     "output_type": "stream",
     "text": [
      "Loaded\n"
     ]
    }
   ],
   "source": [
    "import numpy as np\n",
    "import webbrowser\n",
    "\n",
    "\n",
    "def print_tabs(tabs, label=None):\n",
    "    if label:\n",
    "        print('## {} ## ({} tabs)'.format(label, len(tabs)))\n",
    "    else:\n",
    "        print('({} tabs)'.format(len(tabs)))\n",
    "    print('')\n",
    "    for tab in tabs:\n",
    "        print(tab.replace('\\n', ''))\n",
    "    return None\n",
    "\n",
    "\n",
    "def open_tabs(tabs, page=1, per_page=10):\n",
    "    page_start = (page - 1) * per_page\n",
    "    total_pages = int(np.ceil(len(tabs) / per_page))\n",
    "    page_end = page * per_page - 1\n",
    "    paged_tabs = tabs[page_start:page_end]\n",
    "    print('Opening page {}/{} (tabs {}-{} of {})'.format(page, total_pages, page_start, page_end, len(tabs)))\n",
    "    \n",
    "    for tab in paged_tabs:\n",
    "        url = tab.split('|')[0].replace(' ', '')\n",
    "        webbrowser.open(url, new=2, autoraise=False)\n",
    "\n",
    "        \n",
    "print('Loaded')"
   ]
  },
  {
   "cell_type": "code",
   "execution_count": 2,
   "metadata": {},
   "outputs": [
    {
     "name": "stdout",
     "output_type": "stream",
     "text": [
      "80\n",
      "79\n",
      "79\n"
     ]
    }
   ],
   "source": [
    "tab_file = open('/Users/peterhurford/Documents/alltabs.txt', 'r')\n",
    "tabs = tab_file.readlines()\n",
    "print(len(tabs))\n",
    "\n",
    "tabs = [t for t in tabs if t != '\\n']\n",
    "print(len(tabs))\n",
    "\n",
    "tabs = list(set(tabs))\n",
    "print(len(tabs))"
   ]
  },
  {
   "cell_type": "code",
   "execution_count": 3,
   "metadata": {
    "scrolled": true
   },
   "outputs": [
    {
     "name": "stdout",
     "output_type": "stream",
     "text": [
      "## Messages ## (8 tabs)\n",
      "\n",
      "https://www.facebook.com/messages/t/100009272586961/ | (4) Messenger | Facebook\n",
      "https://twitter.com/messages/25776739-57997370 | Mike McCormick / Twitter\n",
      "https://twitter.com/messages/25776739-467844200 | Caleb Watney / Twitter\n",
      "https://twitter.com/messages/25776739-1430484500837015552 | Ege Erdil / Twitter\n",
      "https://twitter.com/messages/25776739-48111864 | Alec Stapp / Twitter\n",
      "https://mobile.twitter.com/messages/25776739-1257963166602088449 | Siméon / Twitter\n",
      "https://mobile.twitter.com/messages/1414875069558534150 | https://mobile.twitter.com/messages/1414875069558534150\n",
      "https://mobile.twitter.com/messages/25776739-2149921538 | Tessa Alexanian / Twitter\n"
     ]
    }
   ],
   "source": [
    "print_tabs([t for t in tabs if ('messages/' in t.lower() or 'inbox/' in t.lower() or 'swapcard' in t.lower())], label='Messages')\n"
   ]
  },
  {
   "cell_type": "code",
   "execution_count": 4,
   "metadata": {},
   "outputs": [
    {
     "name": "stdout",
     "output_type": "stream",
     "text": [
      "## Facebook ## (0 tabs)\n",
      "\n"
     ]
    }
   ],
   "source": [
    "print_tabs([t for t in tabs if 'facebook.com' in t.lower() and 'messages' not in t.lower()], label='Facebook')"
   ]
  },
  {
   "cell_type": "code",
   "execution_count": 5,
   "metadata": {},
   "outputs": [
    {
     "name": "stdout",
     "output_type": "stream",
     "text": [
      "## Twitter ## (12 tabs)\n",
      "\n",
      "https://mobile.twitter.com/MarioNawfal/status/1591940438952402944 | https://mobile.twitter.com/MarioNawfal/status/1591940438952402944\n",
      "https://twitter.com/packyM/status/1592549858900348930 | (1) Packy McCormick on Twitter: \"Lesson from the FTX debacle is: a narrative can distort perspectives on exactly the same information. The fraud part was secret, but all of the stuff that people are pointing out as ridiculous now was publicly available. We interpreted it differently two weeks ago than today:\" / Twitter\n",
      "https://twitter.com/GergelyOrosz/status/1592801188277538818 | (1) Gergely Orosz on Twitter: \"Scoop: Elon Musk just sent an email to all staff outlining \"Twitter 2.0\", writing it will\"need to be extremely hardcore\". Long hours, high intensity. People need to click \"yes\" to confirm being part of this by 5pm ET tomorrow, else they get 3 months severance. More details:\" / Twitter\n",
      "https://mobile.twitter.com/ECaliberSeven/status/1589844954645663745 | https://mobile.twitter.com/ECaliberSeven/status/1589844954645663745\n",
      "https://mobile.twitter.com/dcg1114/status/1591793489830121472 | https://mobile.twitter.com/dcg1114/status/1591793489830121472\n",
      "https://mobile.twitter.com/economeager/status/1591879849131610117 | https://mobile.twitter.com/economeager/status/1591879849131610117\n",
      "https://twitter.com/jackclarkSF/status/1592691365217173504 | Jack Clark on Twitter: \"Stability AI (people behind Stable Diffusion and an upcoming Chinchilla -optimal code model) now have 5408 GPUs, up from 4000 earlier this year - per @EMostaque in a Reddit ama\" / Twitter\n",
      "https://mobile.twitter.com/BeckRyooan/status/1592872878651080704 | https://mobile.twitter.com/BeckRyooan/status/1592872878651080704\n",
      "https://mobile.twitter.com/JamesSnowden66/status/1591884625080905728 | https://mobile.twitter.com/JamesSnowden66/status/1591884625080905728\n",
      "https://mobile.twitter.com/testinprodcap/status/1591735465715306496 | https://mobile.twitter.com/testinprodcap/status/1591735465715306496\n",
      "https://mobile.twitter.com/StefanFSchubert/status/1591903135169409026 | https://mobile.twitter.com/StefanFSchubert/status/1591903135169409026\n",
      "https://twitter.com/lastpositivist/status/1592881055773921280/photo/1 | (1) Liam Bright on Twitter: \"Lol just found my old what kind of philosopher flowchart are you. https://t.co/AvV2kajF9k\" / Twitter\n"
     ]
    }
   ],
   "source": [
    "twitter_tabs = [t for t in tabs if 'twitter' in t.lower() and 'messages' not in t.lower()]\n",
    "print_tabs(twitter_tabs, label='Twitter')"
   ]
  },
  {
   "cell_type": "code",
   "execution_count": 6,
   "metadata": {},
   "outputs": [],
   "source": [
    "#open_tabs(twitter_tabs)"
   ]
  },
  {
   "cell_type": "code",
   "execution_count": 7,
   "metadata": {},
   "outputs": [
    {
     "name": "stdout",
     "output_type": "stream",
     "text": [
      "## Google Docs ## (14 tabs)\n",
      "\n",
      "https://docs.google.com/document/d/1vKBX8z69kBnHcwdRz-dnzV-Q-RpOIv782NXBd8PpQ4w/edit | One-off Summaries - Google Docs\n",
      "https://docs.google.com/document/u/0/d/1XLEnM9FBzH9XKNw_wrB5snz4Iru95dqKaM_GTlbgBrA/mobilebasic | Clawbacks explainer\n",
      "https://docs.google.com/document/d/1yJSuKxXCvtCpwCmu5wHR99DsL6HwIfq8W7a22i6pgWQ/edit | Notes on goal-setting and expectations (Amanda's group) - Google Docs\n",
      "https://docs.google.com/spreadsheets/d/1aT58OdrIlCKclul2-qJooDcbQsLNyZBvj0-vpD9ahAw/edit#gid=0 | Non-EA Funding Sources - Google Sheets\n",
      "https://docs.google.com/spreadsheets/d/13Sg3jGWt_pCEtZQcHJQKKq0gYSM2oGakKOPrK-WT5AM/edit#gid=0 | Doc review - Google Sheets\n",
      "https://docs.google.com/spreadsheets/d/15LgOo65kpPc_9uYq0xUnrbJTaD0k45BMQP9Bdk47aGM/edit#gid=0 | Access Denied\n",
      "https://docs.google.com/document/d/1YlXUQsLd8Dxzwqn02Pxuq29eSNVyqpXeCgHMchRYkPw/edit#heading=h.lezt7bwaw70q | Notes - Special Projects / Longtermism teams sync - Google Docs\n",
      "https://docs.google.com/spreadsheets/u/1/d/1EyJt1pdIM9gleiR71uAGObnC9xSwLCxDSqS68s6CXA0/htmlview | [static] Condor Camp Budget 2022-23 - Google Drive\n",
      "https://docs.google.com/spreadsheets/d/12Bug_kUaT1KaXIIIT-v6TvsNQxw2eonPiBm5ifM1dis/edit#gid=1628414603 | [confidential] Copy of A census of everyone who could ever see themselves doing longtermist work - Google Sheets\n",
      "https://docs.google.com/document/d/12yOxzRW8hrEVR_wUXtGDmOmwjm94DTgWBnfDC5v-pXU/edit#heading=h.mckfugbcndv9 | Longtermism (LT) hiring - standing meetings - 2022 Q3-4 - Google Docs\n",
      "https://docs.google.com/document/d/1WDMFUlK9NBFCJh2iqdPgBwKisEqRFgrnMrmCVOiSFHA/edit#heading=h.9dqwz9p1g8o4 | Project/task idea log - Google Docs\n",
      "https://docs.google.com/document/d/1U2ADvmFbcs5PcYqg07ycI5zd7N1hB2GETTu3vdaihM4/edit | LT retreat 2022: Activity 1 notes [back table] - Google Docs\n",
      "https://docs.google.com/spreadsheets/d/1rImgkE0RWMwyoyMhLHN82E35DttyKOEbaO33430JQ6Y/edit#gid=651004860 | Estimating EA Growth - Input (restricted access) - Google Sheets\n",
      "https://docs.google.com/document/d/1yDqsPctezbcsLOMv0ihwjf28EjPNDUtBenblQp9zJR0/edit#heading=h.jb825s4ne0zg | SP FS Application Support Proposals - Google Docs\n"
     ]
    }
   ],
   "source": [
    "doc_tabs = [t for t in tabs if ('docs.google' in t.lower() or 'sheets.google' in t.lower() or 'drive.google' in t.lower())]\n",
    "print_tabs(doc_tabs, label='Google Docs')\n"
   ]
  },
  {
   "cell_type": "code",
   "execution_count": 8,
   "metadata": {},
   "outputs": [],
   "source": [
    "#open_tabs(doc_tabs, page=22)"
   ]
  },
  {
   "cell_type": "code",
   "execution_count": 9,
   "metadata": {},
   "outputs": [
    {
     "name": "stdout",
     "output_type": "stream",
     "text": [
      "## Google search ## (3 tabs)\n",
      "\n",
      "https://colab.research.google.com/drive/1-8pCVYvB6BKjV9kmVqcLwfPnB1Bn8YOo?usp=sharing | metaculus_Neyman_script.ipynb - Colaboratory\n",
      "https://www.google.com/search?rlz=1CDGOYI_enUS715US715&hl=en-US&q=mogwai+u+235&spell=1&sa=X&ved=2ahUKEwi1v-DftKz7AhXXlIkEHYcGB88QBSgAegQIBRAB&biw=428&bih=751&dpr=3 | mogwai u 235 - Google Search\n",
      "https://www.google.com/search?q=chapter+11+vs+chapter+7&rlz=1CDGOYI_enUS715US715&oq=chapter+11+&aqs=chrome.3.69i57j0i131i433i512j0i131i433j0i512l2j69i60.3964j0j4&hl=en-US&sourceid=chrome-mobile&ie=UTF-8 | chapter 11 vs chapter 7 - Google Search\n"
     ]
    }
   ],
   "source": [
    "print_tabs([t for t in tabs if ('google.com' in t.lower() and 'search' in t.lower() and\n",
    "                                not ('docs.google' in t.lower() or 'sheets.google' in t.lower()))],\n",
    "           label='Google search')"
   ]
  },
  {
   "cell_type": "code",
   "execution_count": 10,
   "metadata": {},
   "outputs": [
    {
     "name": "stdout",
     "output_type": "stream",
     "text": [
      "## EAFo/LW ## (10 tabs)\n",
      "\n",
      "https://forum.effectivealtruism.org/posts/Gr3t8vWcWpwBoNNTk/does-the-us-public-support-radical-action-against-factory-1?commentId=KDbK8xWsuHidWC62Q&fbclid=IwAR1C8_Ti9wo6g3JFhWoiFULYZ2UjDa2kDoLDoeceBrYxblIZu6xVDv4Oeec | Does the US public support radical action against factory farming in the name of animal welfare? - EA Forum\n",
      "https://forum.effectivealtruism.org/posts/SP3Hkas3jo6i2cmqb/who-s-at-fault-for-ftx-s-wrongdoing | Who's at fault for FTX's wrongdoing - EA Forum\n",
      "https://forum.effectivealtruism.org/posts/sEpWkCvvJfoEbhnsd/the-ftx-crisis-highlights-a-deeper-cultural-problem-within | The FTX crisis highlights a deeper cultural problem within EA - we don't sufficiently value good governance - EA Forum\n",
      "https://forum.effectivealtruism.org/posts/L4S2NCysoJxgCBuB6/announcing-nonlinear-emergency-funding?commentId=ifZw8RdhigduKcqHW#ifZw8RdhigduKcqHW | Announcing Nonlinear Emergency Funding - EA Forum\n",
      "https://forum.effectivealtruism.org/ | EA Forum\n",
      "https://forum.effectivealtruism.org/posts/HPdWWetJbv4z8eJEe/open-phil-is-seeking-applications-from-grantees-impacted-by | Open Phil is seeking applications from grantees impacted by recent events - EA Forum\n",
      "https://lesswrong.substack.com/p/pr-is-corrosive-reputation-is-not | “PR” is corrosive; “reputation” is not. - by Anna Salamon\n",
      "https://forum.effectivealtruism.org/posts/7q8uEwksmP5wK6kqA/how-the-ftx-crash-damaged-the-altruistic-agency | How the FTX crash damaged the Altruistic Agency - EA Forum\n",
      "https://forum.effectivealtruism.org/posts/7o8foiTKYdRrgtzyE/if-professional-investors-missed-this | If Professional Investors Missed This... - EA Forum\n",
      "https://forum.effectivealtruism.org/posts/gWSa7e2CS7KCu78D8/disagreement-with-bio-anchors-that-lead-to-shorter-timelines | Disagreement with bio anchors that lead to shorter timelines - EA Forum\n"
     ]
    }
   ],
   "source": [
    "print_tabs([t for t in tabs if ('forum.effectivealtruism' in t.lower() or 'lesswrong' in t.lower())], label='EAFo/LW')"
   ]
  },
  {
   "cell_type": "code",
   "execution_count": 11,
   "metadata": {},
   "outputs": [
    {
     "name": "stdout",
     "output_type": "stream",
     "text": [
      "## Metaculus etc. ## (2 tabs)\n",
      "\n",
      "https://colab.research.google.com/drive/1-8pCVYvB6BKjV9kmVqcLwfPnB1Bn8YOo?usp=sharing | metaculus_Neyman_script.ipynb - Colaboratory\n",
      "https://www.predictit.org/markets/detail/6892/Which-party-will-win-the-House-in-the-2022-election | PredictIt\n"
     ]
    }
   ],
   "source": [
    "print_tabs([t for t in tabs if ('metaculus' in t.lower() or 'manifold' in t.lower() or 'predictit' in t.lower())], label='Metaculus etc.')\n"
   ]
  },
  {
   "cell_type": "code",
   "execution_count": 12,
   "metadata": {},
   "outputs": [
    {
     "name": "stdout",
     "output_type": "stream",
     "text": [
      "## Wikipedia ## (3 tabs)\n",
      "\n",
      "https://en.m.wikipedia.org/wiki/Queen_Latifah | Queen Latifah - Wikipedia\n",
      "https://en.wikipedia.org/wiki/List_of_inventors_killed_by_their_own_invention | List of inventors killed by their own invention - Wikipedia\n",
      "https://en.m.wikipedia.org/wiki/Uncut_Gems | Uncut Gems - Wikipedia\n"
     ]
    }
   ],
   "source": [
    "print_tabs([t for t in tabs if 'wikipedia' in t.lower()], label='Wikipedia')"
   ]
  },
  {
   "cell_type": "code",
   "execution_count": 13,
   "metadata": {},
   "outputs": [
    {
     "name": "stdout",
     "output_type": "stream",
     "text": [
      "## Reddit ## (16 tabs)\n",
      "\n",
      "https://www.reddit.com/r/datingoverthirty/comments/yw0vov/has_anyone_ever_used_the_line_im_just_not_ready/ | Has anyone ever used the line “I’m just not ready for a relationship right now” and actually meant it? : datingoverthirty\n",
      "https://www.reddit.com/r/nootropics/wiki/beginners/ | beginners - nootropics\n",
      "https://www.reddit.com/r/Nootropics/comments/txnd9l/what_i_learned_gathering_thousands_of_nootropic/ | What I learned gathering thousands of nootropic ratings : Nootropics\n",
      "https://www.reddit.com/r/widowers/comments/ywiw4z/the_hardest_part_of_my_day/ | The hardest part of my day : widowers\n",
      "https://www.reddit.com/r/StackAdvice/ | Stack Advice - personal advice, feedback and recommendations\n",
      "https://www.reddit.com/r/datingoverthirty/comments/yw0mbx/what_are_your_tester_conversation_topics/ | What are your \"tester\" conversation topics? : datingoverthirty\n",
      "https://www.reddit.com/r/datingoverthirty/comments/ywikcp/how_do_i_pump_the_breaks_in_general/ | How do I pump the breaks in general? : datingoverthirty\n",
      "https://www.reddit.com/r/widowers/comments/yw2ok4/i_visited_her_grave_this_morning_before_work/ | I visited her grave this morning before work : widowers\n",
      "https://www.reddit.com/r/relationship_advice/comments/ywitze/guy_confessed_hes_been_in_love_with_me_for_over_a/ | Guy confessed he’s been in love with me for over a decade : relationship_advice\n",
      "https://twitter.com/jackclarkSF/status/1592691365217173504 | Jack Clark on Twitter: \"Stability AI (people behind Stable Diffusion and an upcoming Chinchilla -optimal code model) now have 5408 GPUs, up from 4000 earlier this year - per @EMostaque in a Reddit ama\" / Twitter\n",
      "https://www.reddit.com/r/widowers/comments/ywr72h/a_sad_realization/ | A (sad) realization : widowers\n",
      "https://www.reddit.com/r/datingoverthirty+relationship_advice+widowers | Posts from datingoverthirty, relationship_advice, widowers\n",
      "https://www.reddit.com/r/relationship_advice/comments/ywr0qd/boyfriend_was_going_to_overcharge_me/ | Boyfriend was going to overcharge me : relationship_advice\n",
      "https://www.reddit.com/r/relationship_advice/comments/ywqisv/my_girlfriendf21_is_very_active_on_social_media/ | My girlfriend(f21) is very active on social media and has over 80k followers, sometimes it makes me (m22) insecure. : relationship_advice\n",
      "https://www.reddit.com/r/datingoverthirty/comments/ywdydd/my_yearslong_dry_spell_ended_last_weekend_here/ | My years-long dry spell ended last weekend. Here are my thoughts. : datingoverthirty\n",
      "https://www.reddit.com/r/Nootropics/comments/yuwwy1/what_cognitive_tests_exist_to_measure_the/ | What cognitive tests exist to measure the effectiveness of a nootropic? : Nootropics\n"
     ]
    }
   ],
   "source": [
    "print_tabs([t for t in tabs if 'reddit' in t.lower()], label='Reddit')"
   ]
  },
  {
   "cell_type": "code",
   "execution_count": 14,
   "metadata": {},
   "outputs": [
    {
     "name": "stdout",
     "output_type": "stream",
     "text": [
      "## localhost ## (0 tabs)\n",
      "\n"
     ]
    }
   ],
   "source": [
    "print_tabs([t for t in tabs if 'guarded-everglades-89687.herokuapp.com' in t.lower() or 'localhost' in t.lower()], label='localhost')\n"
   ]
  },
  {
   "cell_type": "code",
   "execution_count": 15,
   "metadata": {},
   "outputs": [
    {
     "name": "stdout",
     "output_type": "stream",
     "text": [
      "## Chores ## (0 tabs)\n",
      "\n"
     ]
    }
   ],
   "source": [
    "print_tabs([t for t in tabs if 'instacart' in t.lower()], label='Chores')"
   ]
  },
  {
   "cell_type": "code",
   "execution_count": 16,
   "metadata": {},
   "outputs": [
    {
     "name": "stdout",
     "output_type": "stream",
     "text": [
      "## Amazon ## (0 tabs)\n",
      "\n"
     ]
    }
   ],
   "source": [
    "print_tabs([t for t in tabs if 'amazon.com' in t.lower()], label='Amazon')"
   ]
  },
  {
   "cell_type": "code",
   "execution_count": 17,
   "metadata": {},
   "outputs": [
    {
     "name": "stdout",
     "output_type": "stream",
     "text": [
      "## Morning Dispatch ## (2 tabs)\n",
      "\n",
      "https://thedispatch.com/newsletter/morning/americas-fentanyl-crisis/ | America’s Fentanyl Crisis - The Dispatch\n",
      "https://thedispatch.com/newsletter/morning/the-kremlin-and-the-dirty-bomb/ | The Kremlin and the ‘Dirty Bomb’ - The Dispatch\n"
     ]
    }
   ],
   "source": [
    "print_tabs([t for t in tabs if 'morning' in t.lower() and 'dispatch' in t.lower()], label='Morning Dispatch')"
   ]
  },
  {
   "cell_type": "code",
   "execution_count": 18,
   "metadata": {},
   "outputs": [
    {
     "name": "stdout",
     "output_type": "stream",
     "text": [
      "## GitHub ## (0 tabs)\n",
      "\n"
     ]
    }
   ],
   "source": [
    "print_tabs([t for t in tabs if 'github' in t.lower()], label='GitHub')"
   ]
  },
  {
   "cell_type": "code",
   "execution_count": 19,
   "metadata": {},
   "outputs": [
    {
     "name": "stdout",
     "output_type": "stream",
     "text": [
      "## YouTube ## (0 tabs)\n",
      "\n"
     ]
    }
   ],
   "source": [
    "print_tabs([t for t in tabs if 'yout' in t.lower()], label='YouTube')"
   ]
  },
  {
   "cell_type": "code",
   "execution_count": 20,
   "metadata": {},
   "outputs": [
    {
     "name": "stdout",
     "output_type": "stream",
     "text": [
      "## Instagram ## (0 tabs)\n",
      "\n"
     ]
    }
   ],
   "source": [
    "print_tabs([t for t in tabs if 'instagram.com' in t.lower()], label='Instagram')"
   ]
  },
  {
   "cell_type": "code",
   "execution_count": 21,
   "metadata": {},
   "outputs": [
    {
     "name": "stdout",
     "output_type": "stream",
     "text": [
      "## Other ## (11 tabs)\n",
      "\n",
      "https://thedispatch.com/article/the-wave-against-weirdness/ | The Wave Against Weirdness - The Dispatch\n",
      "https://blogs.orrick.com/distressed-download/2015/02/13/decoding-the-code-preferences-under-section-547-of-the-bankruptcy-code/ | Decoding the Code: Preferences Under Section 547 of the Bankruptcy Code | Distressed Download\n",
      "https://muddyclothes.substack.com/p/the-perils-of-overestimating-second | The perils of overestimating second-order effects\n",
      "https://web.archive.org/web/20210625103706/https://worldoptimization.tumblr.com/ | Fake Charity Nerd Girl\n",
      "https://noahpinion.substack.com/p/against-polycrisis | Against \"polycrisis\" - by Noah Smith - Noahpinion\n",
      "https://rychappell.substack.com/p/parfits-triple-theory | Parfit's Triple Theory - by Richard Y Chappell\n",
      "https://noahpinion.substack.com/p/why-the-midterms-make-me-optimistic | Why the midterms make me optimistic for America\n",
      "https://www.theguardian.com/commentisfree/2022/nov/16/is-the-effective-altruism-movement-in-trouble | Is the effective altruism movement in trouble? | Olúfẹ́mi O Táíwò and Joshua Stein | The Guardian\n",
      "https://polymarket.com/midterms | 2022 Midterms Forecast\n",
      "https://muddyclothes.substack.com/p/the-perils-of-underestimating-second | The perils of underestimating second-order effects\n",
      "https://letterboxd.com/myglesias/ | ‎Matthew Yglesias’s profile • Letterboxd\n"
     ]
    }
   ],
   "source": [
    "tabs_ = [t for t in tabs if (not ('google.com' in t.lower() and 'search' in t.lower() and not ('docs.google' in t.lower() or 'sheets.google' in t.lower())) and\n",
    "                             not ('docs.google' in t.lower() or 'sheets.google' in t.lower() or 'drive.google' in t.lower()) and\n",
    "                             not 'facebook.com' in t.lower() and\n",
    "                             not 'twitter' in t.lower() and\n",
    "                             not ('forum.effectivealtruism' in t.lower() or 'lesswrong' in t.lower()) and\n",
    "                             not ('metaculus' in t.lower() or 'manifold' in t.lower() or 'predictit' in t.lower()) and\n",
    "                             not 'wikipedia' in t.lower() and\n",
    "                             not 'reddit' in t.lower() and\n",
    "                             not 'instagram.com' in t.lower() and\n",
    "                             not ('guarded-everglades-89687.herokuapp.com' in t.lower() or 'localhost' in t.lower()) and\n",
    "                             not 'instacart' in t.lower() and\n",
    "                             not ('morning' in t.lower() and 'dispatch' in t.lower()) and\n",
    "                             not 'amazon.com' in t.lower() and\n",
    "                             not 'github' in t.lower() and\n",
    "                             not 'calendar.google' in t.lower() and\n",
    "                             not 'yout' in t.lower() and\n",
    "                             not ('messages/' in t.lower() or 'inbox/' in t.lower() or 'swapcard' in t.lower()))]\n",
    "print_tabs(tabs_, label='Other')\n",
    "\n"
   ]
  }
 ],
 "metadata": {
  "kernelspec": {
   "display_name": "Python 3",
   "language": "python",
   "name": "python3"
  },
  "language_info": {
   "codemirror_mode": {
    "name": "ipython",
    "version": 3
   },
   "file_extension": ".py",
   "mimetype": "text/x-python",
   "name": "python",
   "nbconvert_exporter": "python",
   "pygments_lexer": "ipython3",
   "version": "3.8.13"
  }
 },
 "nbformat": 4,
 "nbformat_minor": 5
}
