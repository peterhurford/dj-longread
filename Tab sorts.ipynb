{
 "cells": [
  {
   "cell_type": "code",
   "execution_count": 1,
   "id": "40568205",
   "metadata": {},
   "outputs": [
    {
     "name": "stdout",
     "output_type": "stream",
     "text": [
      "Loaded\n"
     ]
    }
   ],
   "source": [
    "import random\n",
    "import numpy as np\n",
    "import webbrowser\n",
    "\n",
    "from copy import copy\n",
    "\n",
    "\n",
    "def print_tabs(tabs, label=None, shuffled=True):\n",
    "    if shuffled:\n",
    "        tabs = random.sample(tabs, len(tabs))\n",
    "    if label:\n",
    "        print('## {} ## ({} tabs)'.format(label, len(tabs)))\n",
    "    else:\n",
    "        print('({} tabs)'.format(len(tabs)))\n",
    "    print('')\n",
    "    for tab in tabs:\n",
    "        print(tab.replace('\\n', ''))\n",
    "    return None\n",
    "\n",
    "\n",
    "def open_tab(tab):\n",
    "    url = tab.split('|')[0].replace(' ', '')\n",
    "    webbrowser.open(url, new=2, autoraise=False)\n",
    "    \n",
    "    \n",
    "def open_tabs(tabs, page=1, per_page=10):\n",
    "    page_start = (page - 1) * per_page\n",
    "    total_pages = int(np.ceil(len(tabs) / per_page))\n",
    "    if page > total_pages:\n",
    "        raise ValueError('Cannot open page {}, only have {} pages'.format(page, total_pages))\n",
    "    page_end = page * per_page\n",
    "    if page_end > len(tabs):\n",
    "        page_end = len(tabs)\n",
    "    paged_tabs = tabs[page_start:page_end]\n",
    "    print('Opening page {}/{} (tabs {}-{} of {})'.format(page, total_pages, page_start, page_end, len(tabs)))\n",
    "    \n",
    "    for tab in paged_tabs:\n",
    "        open_tab(tab)\n",
    "\n",
    "        \n",
    "def open_random_n_tabs(tabs, n=5):\n",
    "    tabs = random.sample(tabs, len(tabs))\n",
    "    open_tabs(tabs, page=1, per_page=n)\n",
    "    return tabs[5:]\n",
    "\n",
    "        \n",
    "print('Loaded')"
   ]
  },
  {
   "cell_type": "code",
   "execution_count": 2,
   "id": "1ffe9c7f",
   "metadata": {},
   "outputs": [
    {
     "name": "stdout",
     "output_type": "stream",
     "text": [
      "296\n",
      "282\n",
      "274\n",
      "273\n",
      "252\n"
     ]
    }
   ],
   "source": [
    "tab_file = open('/Users/peterhurford/Documents/alltabs.txt', 'r')\n",
    "tabs = tab_file.readlines()\n",
    "print(len(tabs))\n",
    "\n",
    "tabs = [t for t in tabs if t != '\\n']\n",
    "print(len(tabs))\n",
    "\n",
    "tabs = sorted(list(set(tabs)))\n",
    "print(len(tabs))\n",
    "\n",
    "tabs = ['{} | {}'.format(k, v) for k, v in dict([(t.split('|')[0].strip(), ''.join(t.split('|')[1:]).strip()) for t in tabs]).items()]\n",
    "print(len(tabs))\n",
    "\n",
    "tabs = ['{} | {}'.format(v, k) for k, v in dict([(''.join(t.split('|')[1:]).strip(), t.split('|')[0].strip()) for t in tabs]).items()]\n",
    "print(len(tabs))"
   ]
  },
  {
   "cell_type": "code",
   "execution_count": 3,
   "id": "df44f938",
   "metadata": {
    "scrolled": true
   },
   "outputs": [
    {
     "name": "stdout",
     "output_type": "stream",
     "text": [
      "## Messages ## (5 tabs)\n",
      "\n",
      "https://www.facebook.com/messages/t/547821577/ | Messenger  Facebook\n",
      "https://twitter.com/messages/25776739-1228244491351547904 | Mr S / Twitter\n",
      "https://twitter.com/messages/25776739-1551581042259132418 | john stuart chill / Twitter\n",
      "https://twitter.com/messages/1414875069558534150 | Metaculites (off the (track) record) / Twitter\n",
      "https://twitter.com/messages/25776739-103418485 | Joel Becker / Twitter\n"
     ]
    }
   ],
   "source": [
    "print_tabs([t for t in tabs if ('messages/' in t.lower() or 'inbox/' in t.lower() or 'mail.google' in t.lower() or 'swapcard' in t.lower())], label='Messages')\n"
   ]
  },
  {
   "cell_type": "code",
   "execution_count": 4,
   "id": "89c2b367",
   "metadata": {},
   "outputs": [
    {
     "name": "stdout",
     "output_type": "stream",
     "text": [
      "## Facebook ## (1 tabs)\n",
      "\n",
      "https://www.facebook.com/photo/?fbid=10229341164024463&set=gm.3357982174468223&idorvanity=1843137872619335 | Facebook\n"
     ]
    }
   ],
   "source": [
    "print_tabs([t for t in tabs if 'facebook.com' in t.lower() and 'messages' not in t.lower()], label='Facebook')"
   ]
  },
  {
   "cell_type": "code",
   "execution_count": 5,
   "id": "f6d6e211",
   "metadata": {},
   "outputs": [
    {
     "name": "stdout",
     "output_type": "stream",
     "text": [
      "## Twitter ## (31 tabs)\n",
      "\n",
      "https://twitter.com/leonardbarrett/status/1648010277320015873 | (5) Leonard Barrett on Twitter: \"@JgaltTweets @StefanFSchubert @peterwildeford @daniel_eth By far the biggest outlier here: Black Americans really on the AI x-risk beat 👀 https://t.co/iiKkGdFIOo\" / Twitter\n",
      "https://twitter.com/Simeon_Cps/status/1647745164146888705 | Siméon on Twitter: \"I just posted a scenario of AI takeover from scaled LLMs. It might be helpful if you've never done one pass at this. It's also useful to see what you find most/least plausible etc. I recommend doing the exercise by yourself. Any comment is very welcome! https://t.co/IlIEynpt17\" / Twitter\n",
      "https://mobile.twitter.com/kmpanthagani/status/1645152805156470784 | Kristen Panthagani, MD, PhD on Twitter: \"You may recall Florida's vaccine analysis which claimed that mRNA vaccines are associated with increased risk of cardiac death in young men. This week, @TB_Times published earlier, unpublished drafts of that analysis. Those earlier drafts tell a dramatically different story... https://t.co/YaQgNSluX6\" / Twitter\n",
      "https://twitter.com/NathanpmYoung/status/1649413282489401353 | https://twitter.com/NathanpmYoung/status/1649413282489401353\n",
      "https://twitter.com/WilliamAEden/status/1630690003830599680 | William Eden on Twitter: \"My Twitter timeline is full of panicked takes about imminent AI apocalypse and certain doom. I think this is starting to get overplayed, and so I want to make a long thread about why I'm personally not worried yet. Get ready for a big one... 1/n\" / Twitter\n",
      "https://twitter.com/spencemo_c/status/1647790750535667713 | Spencer🙏🔍📚🥕🚲🧘‍♂️🚐🌐 on Twitter: \"@peterwildeford For now. What odds would you set for party Id #s to stay within ~15% of total (eg 35% total, d/r 25-45) in 1/2/3/5 years\" / Twitter\n",
      "https://twitter.com/SofiaHCBBG/status/1649337275065704450 | Sofia Horta e Costa on Twitter: \"All of this happened in China this week. A thread🧵 1/10\" / Twitter\n",
      "https://twitter.com/TheZvi/status/1647983156140687362 | (1) Zvi Mowshowitz on Twitter: \"This thread is a series of polls regarding the 24 predictions I made in the post On AutoGPT, which can be found here: https://t.co/7UW1HO8ysy. For each prediction, there are four choices: Yes (&gt;90%), Probably (&gt;50%), Probably Not (&lt;50%). No (&lt;10%).\" / Twitter\n",
      "https://twitter.com/stanislavfort/status/1648302064982712321 | Stanislav Fort ✨🧠📈⚛️📈🦾📈🤖📈✨ on Twitter: \"A key intuition pump in early AI safety: You tell AI \"do X\", it takes it too literally =&gt; bad consequence 🔥 despite nominally solving X LLMs are now ~the prefrontal cortex of AI &amp; get context *really well*. Have people updated against conclusions driven by the argument above?\" / Twitter\n",
      "https://twitter.com/daniel_eth/status/1635885011365957632 | Daniel Eth💡 on Twitter: \"Finally getting around to reading this. Will update my reactions as I go\" / Twitter\n",
      "https://twitter.com/Jason/status/1647274896563802112 | @jason on Twitter: \"🧵 AI is going to nuke the bottom third of performers in jobs done on computers — even creative ones — in the next 24 months White collar salaries are going to plummet to the average of the global work force &amp; the speed at which the top performers can write prompts\" / Twitter\n",
      "https://twitter.com/_MedGold/status/1632775869545447430 | ᴍᴇᴅ ɢᴏʟᴅ 🐒 on Twitter: \"Not every girl was born to be a sex slave. Emily Ratajkowski is. Gio Scotti is not. She’s meant to greeted with a kiss on the forehead, a light smack on the ass, and be surprised with vacations &amp; handbags. Total QT wife material, u must know difference. https://t.co/v22OQNixgu\" / Twitter\n",
      "https://twitter.com/EAheadlines/status/1649155227315052544 | EA Lifestyles on Twitter: \"it's outt! this post has interviews AND footnotes. and by interviews I mean I dropped everyone into a group chat 🙃 tysm @Laura_k_Duffy @jozdien @parafactual @heartbulbous @NathanB60857242 and anon friends 💜💜💜 https://t.co/QC8XR3Ktkx\" / Twitter\n",
      "https://twitter.com/moskov/status/1648554715842527235 | Dustin Moskovitz on Twitter: \"@visakanv @NathanpmYoung @Aizazadi_ Guys I think you have a gambling addiction disguised as a forecasting fetish\" / Twitter\n",
      "https://twitter.com/JeffLadish/status/1648880386230071296 | (1) Jeffrey Ladish on Twitter: \"Making agents, especially making agents that can self-improve, using powerful cognitive engines like GPT-4 is a really bad idea and OpenAI should not permit this\" / Twitter\n",
      "https://twitter.com/jasoncrawford/status/1648130305742581761 | Jason Crawford on Twitter: \"Scott Aaronson on what to do now about AI risk: “clear articulation of fire alarms, red lines, whatever you want to call them, along with what our responses to those fire alarms should be” https://t.co/ITyxfappgY\" / Twitter\n",
      "https://twitter.com/NathanpmYoung/status/1648707119271628803 | Nathan 🔍 (DM me ideas of things to predict) on Twitter: \"The Asshole Filter Incentives that benefit assholes over personally kind people. Leading to you only interacting with assholes. https://t.co/ao5qGVTVjJ\" / Twitter\n",
      "https://twitter.com/robbensinger/status/1643342330290913280 | Rob Bensinger 🔍 on Twitter: \"I've been citing https://t.co/jVrdg2mIgz to explain why the situation with AI looks doomy to me. But that post is relatively long, and emphasizes specific open technical problems over \"the basics\". Here are 10 things I'd focus on if I were giving \"the basics\" on why I'm worried:\" / Twitter\n",
      "https://twitter.com/leonardbarrett/status/1648020869065871360 | Leonard Barrett on Twitter: \"@peterwildeford I believe it is: \"Yes\" net winnings if \"Yes\" outcome: b/p-b \"No\" net winnings if \"No\" outcome: b/(1-p)-b Where b = the respective wagered amounts for \"Yes\" and \"No\"\" / Twitter\n",
      "https://twitter.com/mealreplacer/status/1649439575700393986 | john stuart chill on Twitter: \"@The_JBernardi @peterwildeford Put back in the box in the general sense of “should society proceed with this kind of tech”, right? Because once a model’s weights are out there, there’s no going back from that (hence why actors should be very cautious when deciding if they should open source).\" / Twitter\n",
      "https://twitter.com/AlphaMinus2/status/1641130452789477409 | A good αlpha-Minus ☺️ on Twitter: \"@peterwildeford What are your TAI timelines? :)\" / Twitter\n",
      "https://twitter.com/dylan522p/status/1628797563007811585 | Dylan Patel on Twitter: \"Meta's internal data shows that they are growing compute and datacenter infrastructure faster than Google and Microsoft! A higher percentage of their capex is spent on servers, and so compute energy footprint is growing faster, despite lower spend. Their PUE is &lt;1.1, so it's not… https://t.co/Nikto4prZV\" / Twitter\n",
      "https://twitter.com/zachc99053/status/1648003287977689088 | zachc99053 on Twitter: \"@peterwildeford (1 - p)/p\" / Twitter\n",
      "https://twitter.com/panickssery/status/1648004762774675476 | Arjun Panickssery is in London on Twitter: \"@peterwildeford Yeah I usually pause and think that if it has a 40% chance of happening then it's like I put down $40 and the other guy puts down $60, etc (40 times out of 100 I've got to win $60 to make up for the $40 I lose 60 times) Note it's (1-p)/p not the reverse if you're putting down $1\" / Twitter\n",
      "https://twitter.com/SocDoneLeft/status/1636573328583409664 | SDL on Twitter: \"@samaneller215 @peterwildeford @jonatanpallesen @jeffrsebo @RethinkPriors @remindmetweets RELEASE THE 🦐SHRIMP🦐 🗃FILES🗃 WHAT DOES BIG CRUSTACEAN HAVE TO HIDE?!\" / Twitter\n",
      "https://twitter.com/robertwiblin/status/1647917339059388416 | Robert Wiblin on Twitter: \"Twenty-three reasons not to read newspapers and online 'news' sources. 🧵 All from Dobelli's 'Stop Reading the News': https://t.co/9JSedarsid 1. News is overwhelmingly not relevant to any decisions you will make. https://t.co/OwMRLQ5KFb\" / Twitter\n",
      "https://twitter.com/APotlogea/status/1649064039337664512 | (1) Andrei Potlogea on Twitter: \"@peterwildeford I guess it depends how you think about it. If you’re trying to keep incentives for maximizing marginal value you would value Both efforts at zero using counterfactual analysis. If you want to do a backward looking analysis and not worried about messing up incentives for future\" / Twitter\n",
      "https://twitter.com/ModeledBehavior/status/1645444418848129025 | Adam Ozimek on Twitter: \"Read the reddit thread on Ozempic improving people's impulse control broadly https://t.co/spB8QDDLQl And here is a review of evidence in favor https://t.co/h6iWgKl56b Now consider: what are the downstream implications of a society with greater impulse control?\" / Twitter\n",
      "https://twitter.com/jackclarkSF/status/1649087388168380417 | (4) Jack Clark on Twitter: \"As part of our policy work at @AnthropicAI we're always trying to bridge concerns relating to systems deployed today and future systems. @NIST is one of the most effective gov agencies with regard to AI and could do a lot more on existing and forecast systems with more funding.\" / Twitter\n",
      "https://twitter.com/benskuhn/status/1606407189161091072 | Ben Kuhn on Twitter: \"A thing I often find myself suggesting to new managers is to \"exert more backpressure.\" Backpressure is a concept from fluid dynamics (and distributed systems) meaning the way in which a system resists overload—e.g. by slowing down, dropping requests, or completely failing.\" / Twitter\n",
      "https://twitter.com/oliverdarcy/status/1649068767924695040/photo/1 | (1) Oliver Darcy on Twitter: \"NEWS: BuzzFeed News is being shut down.\" / Twitter\n"
     ]
    }
   ],
   "source": [
    "twitter_tabs = sorted([t for t in tabs if 'twitter.com' in t.lower() and 'messages' not in t.lower()])\n",
    "print_tabs(twitter_tabs, label='Twitter')"
   ]
  },
  {
   "cell_type": "code",
   "execution_count": 6,
   "id": "0e8d623e",
   "metadata": {},
   "outputs": [],
   "source": [
    "#open_tabs(twitter_tabs, page=1, per_page=200)"
   ]
  },
  {
   "cell_type": "code",
   "execution_count": 7,
   "id": "c4635d45",
   "metadata": {},
   "outputs": [
    {
     "name": "stdout",
     "output_type": "stream",
     "text": [
      "## Google Docs ## (90 tabs)\n",
      "\n",
      "https://docs.google.com/presentation/d/1iuYIHlHvsnvOUoRX__BCc5J2A0cSieJlENSAyT_uFg8/edit#slide=id.ge44d99aa4e_0_0 | Survey OKRs presentation - Google Slides\n",
      "https://docs.google.com/document/d/1cJ8EbBD7yTgebWvZw4OX-jLE7XKxx-gelWAa-Ao2i7w/edit#heading=h.7j5fxd1nlbn3 | Draft project memo: Independent researcher institute - Google Docs\n",
      "https://docs.google.com/presentation/d/1KW7ZkuCdXAC8FEfC6r3w15QQQTn4jUyjFSX24WzCte8/edit#slide=id.g232fae25e24_0_7 | 2023 AW Department OKRs - Google Slides\n",
      "https://drive.google.com/drive/u/0/folders/0B15eCPovYpRPNDZfVVlQeE9od0E?resourcekey=0-p51Vss2OwilGgq4uWaxuwg | Maybe Blog Someday - Google Drive\n",
      "https://docs.google.com/document/d/1CTVmBgHa14C8bc0o1l5HyhI6OR9YQhdFycBqQuw6D04/edit#heading=h.4yezxw8idn06 | V.1 Whether and how CLTP should help reduce the dangers of China-US conflict - Google Docs\n",
      "https://docs.google.com/document/d/1szG_6iGL1V2a_89AepyGs7lxg-UO1rp4TPGBL_MNSRg/edit#heading=h.z1m60iksdy8y | AI Message Testing Proposal - Google Docs\n",
      "https://docs.google.com/document/d/1Weh2vqYRT-l1SpuufyZ4_ldNoOuIg8QodpNskkYG04U/edit#heading=h.g2je2be7j07v | Backgrounder on US Natsec & AI - Google Docs\n",
      "https://docs.google.com/spreadsheets/d/1TKdLTOeDfBjXUoUAJdPh40Z13bmYf5hvuTUTJH0m41c/edit#gid=2031513321 | [confidential] Staff Overallocation - Google Sheets\n",
      "https://docs.google.com/spreadsheets/d/1Reqc4sS-u7c1kX_xVKNq0Vm7YspZgGtdHba-WS9Yz1A/edit#gid=0 | 2023 WIT Budget - Google Sheets\n",
      "https://docs.google.com/document/d/19L0k0B0-0gW7t96Q-hpNIknCEry57Hklgt2FXFDUH78/edit#heading=h.mak2h8fgpqe9 | [SES copy] Misuse of AI should be a core priority in AI risk reduction - Google Docs\n",
      "https://docs.google.com/document/d/14PZ2_iVfon1ywAhuKiUyovfoiNKQJQ72ErbgKrKWjbs/edit | Explainer for RP AIGS's \"Sharing Levels\" and \"Privacy Levels\" [DRAFT] - Google Docs\n",
      "https://docs.google.com/document/d/1lbazshEDUNzT-5gBYqfrmC9hvKRIxSbXroHywxPctw4/edit | [shared] Slowing AI - Google Docs\n",
      "https://docs.google.com/document/d/1dwr2qpaWdCqr_IDhcTT69TmEA5aWfiNftasn5iJ_qhA/edit | Premises to get to Strong LT - Google Docs\n",
      "https://docs.google.com/document/d/1RXPjnwwMgy5T_4tylUWq2gXdJwO5cYPlxcpKrNJTT-M/edit | GW moral weight for WIT - Google Docs\n",
      "https://docs.google.com/document/d/1idfbvEpsxrFTGflCErTPZ_NiXjeqPhfwBrJBce1P_Yw/edit#heading=h.mj0jmgv3ic64 | Will Humanity Choose Its Future? v4 - Google Docs\n",
      "https://docs.google.com/spreadsheets/d/1JFzYDU8tJ_BB5ZHy_LA98r2cXXlmAaGqI95EE41DORM/edit#gid=842085141 | RP Risk Register - April 2023 Finalized - Google Sheets\n",
      "https://docs.google.com/document/d/1usMVjv7hMx22K-eu71o1bcfj-7JH_l-aXbfYb6NHSoM/edit | Threat Model for Existential Risks from AI - Google Docs\n",
      "https://docs.google.com/document/d/1lC-rIXME-GD1AImZ80b9eP61sroZy8mooLnSeHNgYzM/edit#heading=h.ftvusubre6rz | Brainstorming on RP as a brand - Google Docs\n",
      "https://docs.google.com/document/d/1Gkju5VWLldE4COF278hLeWjsVQPHtdgYncCaFeNYcIw/edit | How the Strong-LT Model Works, What it Says, and Whether We Should Trust It - Google Docs\n",
      "https://docs.google.com/document/d/1fqTkdMvXL1Qp1PGvHNWop8tNR9jSKUTZWWdc6HTYTwM/edit | Copy of 2023 Strategic Planning: SWOT Brainstorm Document - Google Docs\n",
      "https://docs.google.com/presentation/d/1kt-6Ovd3D0r-tIlQGrRRPZx01CogpJ2hk7yV7giA95Q/edit#slide=id.g232c77bbbb5_0_26 | Leadership Squads - Google Slides\n",
      "https://docs.google.com/document/d/1U-XKyrYLv_RbqkrUwaz39lyCuaRlXagvfAdWrdbf8iE/edit#heading=h.1t59s1ygweog | Sketching a TAI scenario and backchaining to useful actions - Google Docs\n",
      "https://docs.google.com/document/d/1KpePoyEai4ZUiCxq8jVpL5EP0JogHkGwj-ZdRe-IDeM/edit#heading=h.ik0d9km8mxzo | My tentative model of P(doom by 2070) - Google Docs\n",
      "https://docs.google.com/document/d/1T-JhUzbtJJvKh3DrU5zvQY8Zx4gY0ZhVfpoRWH0dyLI/edit# | Should RP seek ACE recommended charity status - Google Docs\n",
      "https://docs.google.com/document/d/1JvPjUJ948nhppb5DlcpNo4QoefeGbwoEU0dKSDkwmyg/edit#heading=h.a1kh1pvuriuw | Using experts and advisors in the project idea research process - Google Docs\n",
      "https://docs.google.com/presentation/d/19d8DDka9xErkDEHqEhFz152AjOjFLs4tIbZB9vNuBmY/edit#slide=id.ge44d99aa4e_0_0 | WIT OKRs for April 2023 All Staff Meeting - Google Slides\n",
      "https://docs.google.com/document/d/1v9Afif1o_thEamTTUm1BL0yiY1cqIvt0VNR3EIVMnjQ/edit# | [shared with LT] Proposal: Switch AIGS's primary branding to something new and distinct from RP [notes for AIGS Leads discussion] - Google Docs\n",
      "https://docs.google.com/document/d/1vMSoRvzgF2VLcBcjqHTvQ2NXHRqVXsNyT4XI54wk79Q/edit# | Peter/Ben 1-1s - Google Docs\n",
      "https://docs.google.com/document/d/10_Co_t2cduhCWri7bw7Pm7iMMKUNvEjw0dEyMOEYMwE/edit#heading=h.9bdgewen2wef | [second draft] Updated prioritisation model + process - Google Docs\n",
      "https://docs.google.com/document/d/1tHguGS8oKjaeG_eRpyTCLD-bfPWDV-fS7jGAqE7jmUI/edit | Caleb's thoughts on RP Potential Project Directions + thoughts on LT incubation - Google Docs\n",
      "https://docs.google.com/document/d/1ug415tJuYCfBgY7AAs4j5HbaFb-NLlACRa6gAFgA7N4/edit | Campbell Jordan – Evaluation (Long-Term Future Fund) – 643c8c37901f531c5802d0cb - Google Docs\n",
      "https://docs.google.com/document/d/1X4V1y6uKJCcecbRUsYdmcKc_DK2LsEUjWeAXPI3PXr0/edit#heading=h.ze7bbpcr5m3f | How workstreams within AIGS might work [notes; work-in-progress] - Google Docs\n",
      "https://docs.google.com/document/d/1DIExQFqzkJdngxPUPn1txvBNUuBJeSrE19hwgLUZAgs/edit | PW Self Reflection Nov 2022 - Google Docs\n",
      "https://docs.google.com/document/d/1-XmkDaopuz6vQPF2D-wmPJmqmaNYSEUF_cKwZJ6_c44/edit# | Peter <> Michael - 1-1s - 2022 Q4 & 2023 Q1 - Google Docs\n",
      "https://docs.google.com/document/d/1JJ2VnvEdiDjorrRsNTcPGaMPVVz3APoD7C31zwY7yKw/edit#heading=h.osty8jeclpyn | Copy of RP Climate Research Strategy (public-facing) - Google Docs\n",
      "https://docs.google.com/document/d/1QFTYRSJPyQoKfO_bFrsxG861xebXbX3XzvBEEaT7Z1U/edit | [V.3] What is going to matter if an AI crash project emerges? - Google Docs\n",
      "https://docs.google.com/document/d/1u95GHH-72mOWXPPlcTRLw1duYz1mxY-03lwaveMgJcc/edit#heading=h.2st10p4xokyd | EV of the Future and Counterfactual Credit - Google Docs\n",
      "https://docs.google.com/document/d/13mwa8Hc5Jbx0QB85TYT_bT6EKx7tOThl8GBho33Qp6Y/edit#heading=h.g8sbx9w0ekrr | (External) Summary of feedback and next steps on V.1 draft action plan - Google Docs\n",
      "https://docs.google.com/spreadsheets/d/1nItK7l5D24f6m-R2FQnMBuJxqvMpl3FEVfqQUG63WFA/edit#gid=1639598155 | All Predictions - Google Sheets\n",
      "https://docs.google.com/document/d/1iWnAtlQMcc02xHPQkpYN4mKD3pw4mZ-YjhyJeTiJ5sA/edit#heading=h.3gjcbb1w6d8f | 2023 Mid-Year Fundraiser - Google Docs\n",
      "https://docs.google.com/spreadsheets/d/1nxpHYoMh1dZ38QG59XirkJJbd-MsUeblMSMRQYZ5x7E/edit#gid=0 | New LT project ideas sheet - Google Sheets\n",
      "https://docs.google.com/document/d/1x4gYr4q1C5hofjLItBMrq_WebtlGSggPGECp48N1KrU/edit | AI movie forecast operationalization - Google Docs\n",
      "https://docs.google.com/document/d/1ZW6RELEwhYZRCIqllhVs_-XkpT6c5pBQu_P7pPKcwXM/edit | Carole Bibas-Barkan – Evaluation (EA Infrastructure Fund) – 643d2df776564ed8a400eed0 - Google Docs\n",
      "https://docs.google.com/document/d/1tzsWJGOwkFN9VEupVQ4PF13Lg2MF7M7p6RKx4ZTxQaA/edit#heading=h.o2xukaw0zzde | AI Concerns Survey - Google Docs\n",
      "https://docs.google.com/presentation/d/1dal9XJTgni7TfqMw2OylVwsMWrfz_FaYjPOdcoVl10o/edit#slide=id.g232c77bbbb5_0_5 | Copy of Org-Wide OKRs Presentation - Google Slides\n",
      "https://docs.google.com/document/d/1Xp43r9fNweDd-e40SUwr_eOkXONQ3vFV5xGXCyaW2n0/edit#heading=h.jrcbnm1fd14j | AIGS Subteams Structure - Detailed Feedback - Google Docs\n",
      "https://docs.google.com/document/d/1IWaEqfNtwCSdPM8lSOwHuCsJoR9xMh-heTUb_sYfgp4/edit | Adversarial collaboration, Peter // Scott - Google Docs\n",
      "https://docs.google.com/document/d/18lcwJow6J64YI2SMvDHP5QSkWEeoQ0oX_RLZfEgMXhk/edit# | Memo: RP, EA, and our relationship to the community - Google Docs\n",
      "https://docs.google.com/spreadsheets/d/1ILXtHOeZxP-66MTfaV8doTi0xsjX3uvZxc_Pa4qdAxE/edit#gid=0 | Peter Wildeford - AI adversarial collaboration - charge sheet - Google Sheets\n",
      "https://docs.google.com/document/d/1n5i1-VmV8IRDHTybXh70yV-mZB8RpMuu9ZXaDwLGRRs/edit | EAFo/LW Reading List - Google Docs\n",
      "https://docs.google.com/document/d/1B02Q8ea6_X1qvWIh_Tcj4bDBkVefR3zPN8YlubFWXjM/edit# | Untitled document - Google Docs\n",
      "https://docs.google.com/document/d/18mSdRCL0l0ApuOYU6oiC7ImzLjFbuetehqTLkw6PP-o/edit#heading=h.qvx51emxxmz4 | Splitting up EA\n",
      "https://docs.google.com/presentation/d/1iYnnK3TwNBugTCeeRVyL8MJhSb92ZTUNO-7y5Iwyyvs/edit#slide=id.g232b11b7cba_0_5 | GLT OKRs 2023 -- RP All Staff Meeting 2023-04-20 - Google Slides\n",
      "https://docs.google.com/document/d/1yAlAZ4ZQdwV_wIqhL1zVp31Hku8Bm4kr9UcQBoflh6c/edit#heading=h.tufvzyw73c4q | Copy of Updates on AIGS team strategy etc. [April 2023; DRAFT] - Google Docs\n",
      "https://docs.google.com/document/d/1qgh2gJnAyjvXAp69Z9AfFNzjv2PE03YskkpuWOAXbxw/edit#heading=h.uqpdxo8eiwtv | Overview of RP’s longtermist ‘entrepreneurship program’ - Google Docs\n",
      "https://docs.google.com/document/d/1i5qI7Van8QfnSTJ-1KtKMfTdHGV78igGnqpbXASwaq8/edit#heading=h.1st69dhqoax5 | Mike McCormick <> Marie Buhl & Ben Snodin – 2023-04-21 - Google Docs\n",
      "https://docs.google.com/document/d/1UOUK8hMxDD0WlM6jEbjI9dWyC73yulOEtoU2MWYaooA/edit#heading=h.tufvzyw73c4q | Updates on AIGS team strategy etc. [April 2023; DRAFT] - Google Docs\n",
      "https://docs.google.com/document/d/1z3YrMwEcdNGt2X2GoFNIVhbcBZxzsBFiSz4_q6vJXO8/edit#heading=h.n3opm8r5uhlr | Center for Long Term Priorities Update: April 2023 (shared) - Google Docs\n",
      "https://docs.google.com/document/d/18sXLBNMsLwKXGqFVXESHNBDdK-z7SIu2BH_EYrSw7sY/edit | Project Description [Current] 03/28/23 - Google Docs\n",
      "https://docs.google.com/document/d/1xHmHPsfrYgUhjpCYotzVE78l1RWS7ddtjU85A6GIYUY/edit#heading=h.bvjsvl1l7r2e | Will misaligned APS systems seek power dangerously if deployed? - Google Docs\n",
      "https://docs.google.com/spreadsheets/d/1TlWcxy-fuzXd93DEJ_sj8R6Ikm4HJMZd92sXULbnZvM/edit#gid=0 | [very confidential] Staff Risk - Google Sheets\n",
      "https://docs.google.com/spreadsheets/d/100F5jl6l94LmE9eI6rBeql5cXa79qjh3QvuMl6184fA/edit#gid=1873611001 | 2023 Apr Lights - Google Sheets\n",
      "https://docs.google.com/document/d/1m_-XgZgBs0LZHplodgBbGcpiGtNWalPxPBjGOwF6rig/edit# | Macrocalendar - Google Docs\n",
      "https://docs.google.com/document/d/1dWV7cMznzNXUAFIKsE_sPzPVJupKl42vR5Nh9ITK0z0/edit | Nuño Sempere – Evaluation (EA Infrastructure Fund) – 6408dd622d5078b3f5076bf7 - Google Docs\n",
      "https://docs.google.com/document/d/1SbGV0Nc-Nh6WYkTNQ7QUxnbi9kRw0XsMwSqmBk0U0eM/edit | [Private] EAIF Vision and Scope - Google Docs\n",
      "https://docs.google.com/document/d/1JRTPn9g-3lmu9iF-MsZDZemP6yH1On5-BMKOOdubYSM/edit | AI x-risk model pseudocode - Google Docs\n",
      "https://docs.google.com/spreadsheets/d/1waiXbSXZs54_plxa7u9sRQTxMbNaEwbve0sBTGT5BvY/edit#gid=0 | GLT current guesses re asks from SP -- April 2023 - Google Sheets\n",
      "https://docs.google.com/document/d/1FmCK6rpAv2uAqgZzIxI1Jm2ga0bOgHS_u6WFDx_Blgo/edit#heading=h.bcufhgg27mdc | PATCH scenario [shared outside RP] - Google Docs\n",
      "https://docs.google.com/document/d/1qwKUWu1aa1rikW3zlCPPvPXdS4upsarkJe8-JwcE4tY/edit#heading=h.z6v8ty7j4wlh | You don't have to be that risk-averse to prefer GHW to LT (Final - Shared with Jason) - Google Docs\n",
      "https://docs.google.com/document/d/1QplktgJzt2Njaizu8TI4thjtetc5EzOLknYEubl7ZHg/edit#heading=h.d25tlez2vywr | *NEWEST* Copy of Kieran's meeting with Co-CEO(s) Running Agenda - Google Docs\n",
      "https://docs.google.com/document/d/1jNjCpdy7k6rJKAG1ygLap6eW9UWkurEVqX7m_m06Itc/edit# | Peter / Abraham Meeting Notes - Google Docs\n",
      "https://docs.google.com/document/d/1F-WCgE_LBVC1KzFjytqBRazQN7cvEsAf1Lviab_yNk8/edit#heading=h.xq6tsfu5ra22 | User interview prompts for the RP longtermist entreprenuership project - Google Docs\n",
      "https://docs.google.com/document/d/1CmFbpx_os5sDrIFhWWZ-NlB1v9xDvS0y_2A3qyl641s/edit#heading=h.9tblutehpuyv | Why AGI is not a good way to think about risk from AI - Google Docs\n",
      "https://docs.google.com/document/d/1wbSkicGGw6iiZmCnS_Zl-J-4CCgooEteJ4PlRZ8pNNo/edit# | GLT 2023 high-level timetable v0.3 2023-03-30 - Google Docs\n",
      "https://drive.google.com/file/d/1Si3Xjrk075I2d3oO7Zn-56QGCgFAMQBg/view | Information_Hazards_in_AI_Races__current_ver_.pdf - Google Drive\n",
      "https://docs.google.com/document/d/1fJndg74yOJz0SsTHztV2uSpT152cnkd3y752Uj2bjKg/edit# | 2023 Monthly Leadership Meeting - Google Docs\n",
      "https://docs.google.com/document/d/1EZ1TgTnJ6zt_-JuhboXJwEDZ7r4R2D8WnOzLE7DphUg/edit | What would it look like to regulate AI like bio and nuclear?\n",
      "https://docs.google.com/spreadsheets/d/1h7yZC6cLZYWBAVdx97zNxg5anX_zQ3Pm9gfeTS9CFJ0/edit#gid=282481256 | Caro model - Google Sheets\n",
      "https://docs.google.com/document/d/1YY9C6XpU4ovXv9vDEBh9sBmtPw50aAKSpOjojy_bNdE/edit | Marcus Qs - Google Docs\n",
      "https://docs.google.com/document/d/1bMXGnKUjy9qGV7u336ScagAHLgbaLHqsNfUXVE7L6G0/edit#heading=h.pqlvjrmba57q | 2023-02 TAI Timelines Workshops - Winter Fellows 2023 - Google Docs\n",
      "https://docs.google.com/document/d/16GQ2FbwF-GWG28wzFg6gTlAVRYHbGIzwMTC6egPXnMg/edit#heading=h.u5ylt23gllew | [outdated] Project plan: Project idea research for incubation - Google Docs\n",
      "https://docs.google.com/presentation/d/1jLK9tjEH7Mxqx1fz0IPDzKJvcoLJJVo4jpZuZ42j-rA/edit#slide=id.g213a7bae0d5_0_0 | 2023 GHD Department OKRs (shared) - Google Slides\n",
      "https://docs.google.com/document/d/1tp3YcEx7Wjr5lbBWsiMPiqOR4IApwlLdE21HbzRljIo/edit | Open questions from international agreements project - Google Docs\n",
      "https://docs.google.com/document/d/1XMxEm6QqfVfOI37Y8Ik90iTr3uZCaKRuNXSmlRgW8F0/edit#heading=h.r0eto7hcho2p | Event for RP donors at EAG London 2023 - Google Docs\n",
      "https://docs.google.com/document/d/111WV9GsBPUM-eLT4IvaLdvfHSPbPxqR0p3ro3gjQwgA/edit#heading=h.m38ikqk3z2wb | CONFIDENTIAL: Proposed Next Steps After Ops Retreat - Google Docs\n",
      "https://docs.google.com/document/d/1vouv73_c8L05fHDh8x3A_HSBukclMbIb4JE7O2UdFLY/edit#heading=h.x1uc7lfftp0 | AIGS 2023 OKRs [as of April 2023] - Google Docs\n",
      "https://docs.google.com/document/d/1nhiad5KHLsxMX6eU1AzXz_Z_q5eq3s1VxkBraYf2XPE/edit | TAIG - FR1 - Definitions in Transformative AI Governance - Google Docs\n",
      "https://docs.google.com/document/d/1Uov3Iu7P_Yl2AbdsZpJ-RDJAtsRcb_58qcsz2MyF3SI/edit#heading=h.udf01z9v4vjh | Would the US or an allied government controlling / heavily resourcing the first successful TAI project be net-positive or net-negative for x-risk / GCRs? - Google Docs\n",
      "https://docs.google.com/document/d/1LpJzMNWRxRXuBXxB1l9dgQ8XxEiZ0MypMYDDa5cfTsM/edit#heading=h.5wztdmlt3d79 | Writing, editing, or collection tasks Michael would be keen for someone to do - Google Docs\n",
      "https://docs.google.com/presentation/d/1torpcepTsPALx9BtVCEn5P8Zoz7sFlUgVKIQiuO0d2k/edit#slide=id.ge44d99aa4e_0_0 | AIGS OKR slides - Google Slides\n"
     ]
    }
   ],
   "source": [
    "doc_tabs = sorted([t for t in tabs if ('docs.google' in t.lower() or 'sheets.google' in t.lower() or 'drive.google' in t.lower())])\n",
    "print_tabs(doc_tabs, label='Google Docs')\n"
   ]
  },
  {
   "cell_type": "code",
   "execution_count": 8,
   "id": "18e9e150",
   "metadata": {},
   "outputs": [],
   "source": [
    "#open_tabs(doc_tabs, page=1, per_page=10)"
   ]
  },
  {
   "cell_type": "code",
   "execution_count": 9,
   "id": "479f45a0-d63f-474d-aa76-2ddab5a10b0a",
   "metadata": {},
   "outputs": [],
   "source": [
    "#doc_tabs_ = copy(doc_tabs)"
   ]
  },
  {
   "cell_type": "code",
   "execution_count": 10,
   "id": "c4e71249-4e0e-47aa-9fcd-69b9219f507f",
   "metadata": {},
   "outputs": [],
   "source": [
    "#doc_tabs_ = open_random_n_tabs(doc_tabs_, n=5)"
   ]
  },
  {
   "cell_type": "code",
   "execution_count": 11,
   "id": "6311fa07",
   "metadata": {},
   "outputs": [
    {
     "name": "stdout",
     "output_type": "stream",
     "text": [
      "## Google search ## (2 tabs)\n",
      "\n",
      "https://www.google.com/search?q=chaos+gpt&rlz=1C1GCEA_enGB993GB993&sxsrf=APwXEdfDrsc7CTFBEUhij_z8R-U-YNslqg:1681232294309&source=lnms&tbm=vid&sa=X&ved=2ahUKEwjksL-tpqL-AhXMWMAKHUc6BTUQ_AUoAnoECAEQBA&biw=767&bih=732&dpr=1.25 | chaos gpt - Google Search\n",
      "https://www.google.com/search?q=learn+how+to+seduce&rlz=1CDGOYI_enUS715US715&oq=learn+how+to+seduce&aqs=chrome..69i57j0i15i22i30i625j0i22i30l2j0i15i22i30.6783j0j7&hl=en-US&sourceid=chrome-mobile&ie=UTF-8 | learn how to seduce - Google Search\n"
     ]
    }
   ],
   "source": [
    "print_tabs(sorted([t for t in tabs if ('google.com' in t.lower() and 'search' in t.lower() and\n",
    "                                   not ('docs.google' in t.lower() or 'sheets.google' in t.lower()))]),\n",
    "           label='Google search')"
   ]
  },
  {
   "cell_type": "code",
   "execution_count": 12,
   "id": "53b9762e",
   "metadata": {},
   "outputs": [
    {
     "name": "stdout",
     "output_type": "stream",
     "text": [
      "## EAFo/LW ## (40 tabs)\n",
      "\n",
      "https://www.lesswrong.com/posts/PdooAsNFiohmyburK | AI Takeover Scenario with Scaled LLMs - LessWrong\n",
      "https://forum.effectivealtruism.org/posts/T7PC22Yc9heFL5Ay4/iqisa-a-library-for-handling-forecasting-datasets | Iqisa: A Library For Handling Forecasting Datasets - EA Forum\n",
      "https://forum.effectivealtruism.org/posts/ddF7i9PA83nYR5ewb/predicting-the-cost-effectiveness-of-running-a-randomized?utm_source=EA+Forum+Digest&utm_campaign=54cf22c7d1-EMAIL_CAMPAIGN_2023_04_20_12_22&utm_medium=email&utm_term=0_-54cf22c7d1-%5BLIST_EMAIL_ID%5D | Predicting the cost-effectiveness of running a randomized controlled trial - EA Forum\n",
      "https://forum.effectivealtruism.org/posts/CaCWfjGHdw7H4o6XL/notes-on-the-hot-mess-theory-of-ai-misalignment | Notes on \"the hot mess theory of AI misalignment\" - EA Forum\n",
      "https://www.lesswrong.com/posts/566kBoPi76t8KAkoD/on-autogpt | On AutoGPT - LessWrong\n",
      "https://forum.effectivealtruism.org/posts/Rn53J2BQwooMDq6Eo/paths-to-reducing-rodenticide-use-in-the-u-s | Paths to reducing rodenticide use in the U.S. - EA Forum\n",
      "https://forum.effectivealtruism.org/posts/6Mi2LqLRjSkQNdLbH/orthogonal-a-new-agent-foundations-alignment-organization | Orthogonal: A new agent foundations alignment organization - EA Forum\n",
      "https://www.lesswrong.com/posts/Woi6PgTP4RAm4bwJh/ai-7-free-agency | AI #7: Free Agency - LessWrong\n",
      "https://forum.effectivealtruism.org/posts/JQxvZZdPG5KYjyBfg/four-mindset-disagreements-behind-existential-risk | Four mindset disagreements behind existential risk disagreements in ML - EA Forum\n",
      "https://www.lesswrong.com/posts/QBTdEyL3tDaJY3LNa/ai-kills-everyone-scenarios-require-robotic-infrastructure | AI-kills-everyone scenarios require robotic infrastructure, but not necessarily nanotech - LessWrong\n",
      "https://www.lesswrong.com/posts/gq9GR6duzcuxyxZtD/approximation-is-expensive-but-the-lunch-is-cheap | Approximation is expensive, but the lunch is cheap - LessWrong\n",
      "https://www.lesswrong.com/posts/tZExpBovNhrBvCZSb/how-could-you-possibly-choose-what-an-ai-wants | How could you possibly choose what an AI wants? - LessWrong\n",
      "https://forum.effectivealtruism.org/posts/CrnFwpNYYSseb6Xt3/we-re-losing-creators-due-to-our-nitpicking-culture | We're losing creators due to our nitpicking culture - EA Forum\n",
      "https://www.lesswrong.com/posts/tqs4eEJapFYSkLGfR/the-agency-overhang | The Agency Overhang - LessWrong\n",
      "https://www.lesswrong.com/posts/jRf4WENQnhssCb6mJ/davidad-s-bold-plan-for-alignment-an-in-depth-explanation | Davidad's Bold Plan for Alignment: An In-Depth Explanation - LessWrong\n",
      "https://forum.effectivealtruism.org/posts/vctT7omkLhoEMptKD/lead-exposure-a-shallow-cause-exploration | Lead exposure: a shallow cause exploration - EA Forum\n",
      "https://forum.effectivealtruism.org/posts/MAS8riyKsZut4geWy/but-why-would-the-ai-kill-us | But why would the AI kill us? - EA Forum\n",
      "https://forum.effectivealtruism.org/posts/ry8YfkywCjgDhrHKJ/hlai-takeover-scenario-from-scaled-llms | AI Takeover Scenario with Scaled LLMs - EA Forum\n",
      "https://forum.effectivealtruism.org/posts/Sa4ahq8AGTniuuvjE/linkpost-538-politics-podcast-on-ai-risk-and-politics | [Linkpost] 538 Politics Podcast on AI risk & politics - EA Forum\n",
      "https://www.lesswrong.com/posts/ndzqjR8z8X99TEa4E/sama-says-the-age-of-giant-ai-models-is-already-over | Sama Says the Age of Giant AI Models is Already Over - LessWrong\n",
      "https://forum.effectivealtruism.org/posts/EuMJP85XdQ2g3nFke/fli-report-policymaking-in-the-pause | FLI report: Policymaking in the Pause - EA Forum\n",
      "https://forum.effectivealtruism.org/posts/idjzaqfGguEAaC34j/if-your-agi-x-risk-estimates-are-low-what-scenarios-make-up | If your AGI x-risk estimates are low, what scenarios make up the bulk of your expectations for an OK outcome? - EA Forum\n",
      "https://forum.effectivealtruism.org/posts/6eaY7MEDWnK39sCEi/healthier-hens-y1-5-update-and-scaledown-assessment | Healthier Hens Y1.5 Update and scaledown assessment - EA Forum\n",
      "https://forum.effectivealtruism.org/posts/mffiHBwfcWwwNyjoM/inside-the-minds-of-adhd | Inside The Minds Of ADHD - EA Forum\n",
      "https://www.lesswrong.com/posts/ZwshvqiqCvXPsZEct/the-learning-theoretic-agenda-status-2023 | The Learning-Theoretic Agenda: Status 2023 - LessWrong\n",
      "https://forum.effectivealtruism.org/posts/FaJptz6qkDoJfgsX5/what-norm-would-you-remove-from-the-ea-community | What norm would you remove from the EA community? - EA Forum\n",
      "https://forum.effectivealtruism.org/posts/BEDpexBKvChZFbxS4/5-proposed-changes-to-the-funding-system-to-increase-org | 5 Proposed Changes to the Funding System to Increase Org Survival and Impact - EA Forum\n",
      "https://www.lesswrong.com/s/xMdkfEJhDNCL2KweB | Slowing AI - LessWrong\n",
      "https://www.lesswrong.com/posts/JcgtKunqmELefxksx/killing-socrates | Killing Socrates - LessWrong\n",
      "https://forum.effectivealtruism.org/posts/nh8dx6JJt3Ga3BRdp/gwwc-reporting-attrition-visualization#comments | GWWC Reporting Attrition Visualization - EA Forum\n",
      "https://www.lesswrong.com/posts/DXByibGtvFixSsyfs/ai-6-agents-of-change | AI #6: Agents of Change - LessWrong\n",
      "https://forum.effectivealtruism.org/posts/NsrbM2sBREYZwns88/follow-up-on-institutions-for-future-generations | Follow-up on \"Institutions for Future Generations\" - EA Forum\n",
      "https://forum.effectivealtruism.org/posts/o3Gaoizs2So6SpgLH/summaries-of-top-forum-posts-27th-march-to-16th-april | Summaries of top forum posts (27th March to 16th April) - EA Forum\n",
      "https://forum.effectivealtruism.org/posts/MasQBKhGCbEn7E48R/evolution-provides-no-evidence-for-the-sharp-left-turn | Evolution provides no evidence for the sharp left turn - EA Forum\n",
      "https://www.lesswrong.com/posts/AfGmsjGPXN97kNp57/arguments-about-fast-takeoff | Arguments about fast takeoff - LessWrong\n",
      "https://forum.effectivealtruism.org/posts/SnRsdEZH87RhBqQgt/announcing-innovate-animal-ag-like-gfi-but-for-animal | Announcing Innovate Animal Ag (like GFI but for Animal Welfare Tech) - EA Forum\n",
      "https://forum.effectivealtruism.org/posts/YTFfHd7zoSwpmDc3v/status-regulation-in-ea | Status Regulation in EA - EA Forum\n",
      "https://forum.effectivealtruism.org/posts/5Lytcvj7GCSysBtSD/my-impact-assessment-of-giving-what-we-can | My impact assessment of Giving What We Can - EA Forum\n",
      "https://forum.effectivealtruism.org/posts/TeE9cLzQndZuZxwPC/funding-opportunity-for-new-fish-welfare-charity | Funding Opportunity for New Fish Welfare Charity - EA Forum\n",
      "https://forum.effectivealtruism.org/posts/wkAoqnaP7DhqHjyzh/list-of-lists-of-government-ai-policy-ideas | List of lists of government AI policy ideas - EA Forum\n"
     ]
    }
   ],
   "source": [
    "ea_fo_tabs = sorted([t for t in tabs if ('forum.effectivealtruism' in t.lower() or 'lesswrong' in t.lower())])\n",
    "print_tabs(ea_fo_tabs, label='EAFo/LW')"
   ]
  },
  {
   "cell_type": "code",
   "execution_count": 13,
   "id": "8ffa8f80-4aa6-4afe-8c6a-59194d69895e",
   "metadata": {},
   "outputs": [],
   "source": [
    "#open_tabs(ea_fo_tabs, page=1, per_page=100)"
   ]
  },
  {
   "cell_type": "code",
   "execution_count": 14,
   "id": "42ae2aee",
   "metadata": {},
   "outputs": [
    {
     "name": "stdout",
     "output_type": "stream",
     "text": [
      "## Metaculus etc. ## (4 tabs)\n",
      "\n",
      "https://www.metaculus.com/questions/5121/date-of-artificial-general-intelligence/ | Date of Artificial General Intelligence  Metaculus\n",
      "https://www.metaculus.com/questions/11558/maximum-compute-used-in-ai-training/ | Maximum Compute Used in AI Training  Metaculus\n",
      "https://www.metaculus.com/questions/14270/spacex-starship-orbit-in-2023/ | SpaceX Starship Orbit in 2023  Metaculus\n",
      "https://manifold.markets/Austin/will-peterwildeford-be-trustworthyi#zCmv4UWUKutKRpjzwvTO | Will @PeterWildeford be trustworthy-ish by end of 2023?  Manifold Markets\n"
     ]
    }
   ],
   "source": [
    "print_tabs(sorted([t for t in tabs if ('metaculus' in t.lower() or 'manifold' in t.lower() or 'predictit' in t.lower())]), label='Metaculus etc.')"
   ]
  },
  {
   "cell_type": "code",
   "execution_count": 15,
   "id": "72bdaddd",
   "metadata": {},
   "outputs": [
    {
     "name": "stdout",
     "output_type": "stream",
     "text": [
      "## Wikipedia ## (3 tabs)\n",
      "\n",
      "https://www.wikiwand.com/en/Kaleidoscope_(American_TV_series)#Reception | Kaleidoscope (American TV series) - Wikiwand\n",
      "https://www.wikiwand.com/en/Chess_2:_The_Sequel | Chess 2: The Sequel - Wikiwand\n",
      "https://www.wikiwand.com/en/The_Company_You_Keep_(TV_series) | The Company You Keep (TV series) - Wikiwand\n"
     ]
    }
   ],
   "source": [
    "print_tabs(sorted([t for t in tabs if ('wikipedia' in t.lower() or 'wikiwand' in t.lower())]), label='Wikipedia')"
   ]
  },
  {
   "cell_type": "code",
   "execution_count": 16,
   "id": "ca9dcfdf",
   "metadata": {},
   "outputs": [
    {
     "name": "stdout",
     "output_type": "stream",
     "text": [
      "## Reddit ## (1 tabs)\n",
      "\n",
      "https://twitter.com/ModeledBehavior/status/1645444418848129025 | Adam Ozimek on Twitter: \"Read the reddit thread on Ozempic improving people's impulse control broadly https://t.co/spB8QDDLQl And here is a review of evidence in favor https://t.co/h6iWgKl56b Now consider: what are the downstream implications of a society with greater impulse control?\" / Twitter\n"
     ]
    }
   ],
   "source": [
    "print_tabs(sorted([t for t in tabs if 'reddit' in t.lower()]), label='Reddit')"
   ]
  },
  {
   "cell_type": "code",
   "execution_count": 17,
   "id": "5dedf293",
   "metadata": {},
   "outputs": [
    {
     "name": "stdout",
     "output_type": "stream",
     "text": [
      "## localhost ## (3 tabs)\n",
      "\n",
      "https://guarded-everglades-89687.herokuapp.com/?url=&title=&aggregator=-Custom&before=&after=&page=1&sort=&starred= | Upcoming Links\n",
      "http://localhost:8888/lab/tree/(4)%20XRisk%20Model.ipynb | (4)%20XRisk%… (2) - JupyterLab\n",
      "https://guarded-everglades-89687.herokuapp.com/admin/link/link/135167/change/?_changelist_filters=q%3Dcoinbase | How we make decisions at Coinbase  Change link  Django site admin\n"
     ]
    }
   ],
   "source": [
    "print_tabs(sorted([t for t in tabs if 'guarded-everglades-89687.herokuapp.com' in t.lower() or 'localhost' in t.lower()]), label='localhost')\n"
   ]
  },
  {
   "cell_type": "code",
   "execution_count": 18,
   "id": "677f610e",
   "metadata": {},
   "outputs": [
    {
     "name": "stdout",
     "output_type": "stream",
     "text": [
      "## Chores ## (0 tabs)\n",
      "\n"
     ]
    }
   ],
   "source": [
    "print_tabs(sorted([t for t in tabs if 'instacart' in t.lower()]), label='Chores')"
   ]
  },
  {
   "cell_type": "code",
   "execution_count": 19,
   "id": "5fce865e",
   "metadata": {},
   "outputs": [
    {
     "name": "stdout",
     "output_type": "stream",
     "text": [
      "## Amazon ## (0 tabs)\n",
      "\n"
     ]
    }
   ],
   "source": [
    "print_tabs(sorted([t for t in tabs if 'amazon.com' in t.lower()]), label='Amazon')"
   ]
  },
  {
   "cell_type": "code",
   "execution_count": 20,
   "id": "16d46af9",
   "metadata": {},
   "outputs": [
    {
     "name": "stdout",
     "output_type": "stream",
     "text": [
      "## Morning Dispatch ## (1 tabs)\n",
      "\n",
      "https://thedispatch.com/newsletter/morning/bidens-pick-for-labor-secretary-faces-skeptical-senate/ | Biden’s Pick for Labor Secretary Faces Skeptical Senate - The Dispatch\n"
     ]
    }
   ],
   "source": [
    "print_tabs(sorted([t for t in tabs if 'morning' in t.lower() and 'dispatch' in t.lower()]), label='Morning Dispatch')"
   ]
  },
  {
   "cell_type": "code",
   "execution_count": 21,
   "id": "108d879a",
   "metadata": {},
   "outputs": [
    {
     "name": "stdout",
     "output_type": "stream",
     "text": [
      "## GitHub ## (5 tabs)\n",
      "\n",
      "https://github.com/laurakduffy/risk_ambiguity_model/blob/main/econ_models.ipynb | risk_ambiguity_model/econ_models.ipynb at main · laurakduffy/risk_ambiguity_model\n",
      "https://github.com/Torantulino/Auto-GPT | Torantulino/Auto-GPT: An experimental open-source attempt to make GPT-4 fully autonomous.\n",
      "https://github.com/organizations/rethinkpriorities/billing/plans | Compare plans for Rethink Priorities\n",
      "https://github.com/orgs/rethinkpriorities/repositories | Rethink Priorities\n",
      "https://github.com/tadamcz/timing-spend-down-copy-for-rethink-priorities | tadamcz/timing-spend-down-copy-for-rethink-priorities: A copy shared with some rethink priorities staff for my job application.\n"
     ]
    }
   ],
   "source": [
    "print_tabs(sorted([t for t in tabs if 'github.com' in t.lower()]), label='GitHub')"
   ]
  },
  {
   "cell_type": "code",
   "execution_count": 22,
   "id": "d911bbda",
   "metadata": {},
   "outputs": [
    {
     "name": "stdout",
     "output_type": "stream",
     "text": [
      "## YouTube ## (3 tabs)\n",
      "\n",
      "https://www.youtube.com/watch?app=desktop&v=2SQOXbh-2vU | DALS S04 - Un jive avec Alizée et Grégoire Lyonnet sur ''Crazy in love'' (Beyoncé) - YouTube\n",
      "https://www.youtube.com/watch?app=desktop&v=NXNCu6ekccw | Maud et Nicolas 2017 Compétition Rock Avancé - YouTube\n",
      "https://www.youtube.com/watch?v=BinAEeZYvqc | Frozen Broadway Performance Of \"Love Is An Open Door\" (GMA) - YouTube\n"
     ]
    }
   ],
   "source": [
    "print_tabs(sorted([t for t in tabs if 'yout' in t.lower()]), label='YouTube')"
   ]
  },
  {
   "cell_type": "code",
   "execution_count": 23,
   "id": "2649c14d",
   "metadata": {},
   "outputs": [
    {
     "name": "stdout",
     "output_type": "stream",
     "text": [
      "## Instagram ## (0 tabs)\n",
      "\n"
     ]
    }
   ],
   "source": [
    "print_tabs(sorted([t for t in tabs if 'instagram.com' in t.lower()]), label='Instagram')"
   ]
  },
  {
   "cell_type": "code",
   "execution_count": 24,
   "id": "ab0e02f2-e275-486f-98d3-37d3218dc821",
   "metadata": {},
   "outputs": [
    {
     "name": "stdout",
     "output_type": "stream",
     "text": [
      "## Asana ## (0 tabs)\n",
      "\n"
     ]
    }
   ],
   "source": [
    "print_tabs(sorted([t for t in tabs if 'app.asana.com' in t.lower()]), label='Asana')"
   ]
  },
  {
   "cell_type": "code",
   "execution_count": 25,
   "id": "bc70c265",
   "metadata": {},
   "outputs": [
    {
     "name": "stdout",
     "output_type": "stream",
     "text": [
      "## Other ## (64 tabs)\n",
      "\n",
      "https://onthinktanks.org/ | https://onthinktanks.org/\n",
      "https://www.deepmind.com/blog/announcing-google-deepmind?utm_source=twitter&utm_medium=social&utm_campaign=GDM&utm_content=DH | Announcing Google DeepMind\n",
      "https://www.nytimes.com/2023/04/15/opinion/goat-girl-slaughtered-california.html?smid=nytcore-ios-share&referringSource=articleShare | Opinion  What a Girl’s Goat Teaches Us About Our Food - The New York Times\n",
      "https://quri.substack.com/p/eli-lifland-on-navigating-the-ai?fbclid=IwAR2mPO6XMabu0UrWDzFzyljIFOXmROPnsM-JvQWBPWkD4q7J7oRXg_UKBp4 | Eli Lifland, on Navigating the AI Alignment Landscape\n",
      "https://www.quora.com/Why-do-some-women-enjoy-being-dominated-during-sex | Why do some women enjoy being dominated during sex? - Quora\n",
      "https://www.planned-obsolescence.org/is-it-time-for-a-pause/ | Is it time for a pause?\n",
      "https://bounded-regret.ghost.io/emergent-deception-optimization/ | Emergent Deception and Emergent Optimization\n",
      "https://www.forourposterity.com/response-to-tyler-cowen-on-ai-risk/ | Response to Tyler Cowen on AI risk\n",
      "https://www.openphilanthropy.org/research/12-tentative-ideas-for-us-ai-policy/ | 12 tentative ideas for US AI policy - Open Philanthropy\n",
      "https://soundcloud.com/dnonkong/sets/restoration | Stream Duncan Thum  Listen to Restoration playlist online for free on SoundCloud\n",
      "https://www.pasteurscube.com/a-world-without-email/ | Notes on \"A World Without Email\", plus my practical implementation\n",
      "https://lynettebye.com/blog/2023/4/20/inside-the-minds-of-adhd?fbclid=IwAR1vvBzxj2oUSJdvfnqEm1BVlVTXeIYR_CEYssTZiW1pyZ42eXKxIZHa43w | Inside the Minds of ADHD — Lynette Bye Coaching\n",
      "https://help.openai.com/en/articles/5722486-how-your-data-is-used-to-improve-model-performance | How your data is used to improve model performance  OpenAI Help Center\n",
      "https://soundcloud.com/dnonkong/sets/ill-sleep-when-im-dead | Stream Duncan Thum  Listen to I'll Sleep When I'm Dead playlist online for free on SoundCloud\n",
      "https://today.yougov.com/topics/technology/articles-reports/2023/04/14/ai-nuclear-weapons-world-war-humanity-poll | AI doomsday worries many Americans. So does apocalypse from climate change, nukes, war, and more  YouGov\n",
      "https://www.planned-obsolescence.org/aligned-vs-good/ | \"Aligned\" shouldn't be a synonym for \"good\"\n",
      "https://statmodeling.stat.columbia.edu/2023/04/13/the-percentogram-a-histogram-binned-by-percentages-of-the-cumulative-distribution-rather-than-using-fixed-bin-widths/ | The “percentogram”—a histogram binned by percentages of the cumulative distribution, rather than using fixed bin widths  Statistical Modeling, Causal Inference, and Social Science\n",
      "https://www.foreignaffairs.com/united-states/china-multipolarity-myth?utm_medium=social | The Myth of Multipolarity  Foreign Affairs\n",
      "https://www.nytimes.com/interactive/2023/04/21/science/parrots-video-chat-facetime.html | Can Parrots Talk Over Video Chat? Experiment Shows How They Adapt and Connect - The New York Times\n",
      "https://soundcloud.com/dnonkong/blue | Stream Blue by Duncan Thum  Listen online for free on SoundCloud\n",
      "https://www.cold-takes.com/high-level-hopes-for-ai-alignment/ | High-level hopes for AI alignment\n",
      "https://noahpinion.substack.com/p/2023-is-when-the-empires-strike-back | 2023 is when the empires strike back - by Noah Smith\n",
      "https://www.brookings.edu/podcast-episode/how-serious-is-the-risk-of-war-over-taiwan/ | How serious is the risk of war over Taiwan?\n",
      "https://mdickens.me/causepri-app/#3 | Cause pri app\n",
      "https://thezvi.substack.com/p/response-to-tyler-cowens-existential | Response to Tyler Cowen's Existential risk, AI, and the inevitable turn in human history\n",
      "https://open.spotify.com/playlist/3sQnnyhDxKAtwqfzF24BsT?si=3u7M2IojRLyIBIK3hrmCLg&utm_source=native-share-menu&nd=1 | Carer - playlist by caroleslie  Spotify\n",
      "https://thezvi.substack.com/p/ai-practical-advice-for-the-worried | AI: Practical Advice for the Worried - by Zvi Mowshowitz\n",
      "https://wiki.aiimpacts.org/ | start [AI Impacts Wiki]\n",
      "https://www.planned-obsolescence.org/what-were-doing-here/ | What we're doing here\n",
      "https://airtable.com/appu6xnfbxKRkEWzG/tbli4kOkJHaEZLcZ4/viwx357T2mFDtijO4/recxTe4cSkPDBMqxK?blocks=hide | EA Funds Grants [EA Infrastructure Fund]: Grant Applications - Airtable\n",
      "https://www.sharpenstrategy.org/ | Sharpen Strategy\n",
      "https://www.redbookmag.com/love-sex/sex/a47424/why-women-like-rough-sex/ | Why Women Like Rough Sex - Why Women Like Being Dominated\n",
      "https://www.nytimes.com/2023/03/12/opinion/chatbots-artificial-intelligence-future-weirdness.html | Opinion  This Changes Everything - The New York Times\n",
      "https://www.cambridge.org/core/journals/european-journal-of-risk-regulation/article/risk-management-in-the-artificial-intelligence-act/2E4D5707E65EFB3251A76E288BA74068 | Risk Management in the Artificial Intelligence Act  European Journal of Risk Regulation  Cambridge Core\n",
      "https://clarifyingconsequences.substack.com/p/half-baked-ideas-defining-and-measuring | Change my mind: we should define and measure the effectiveness of advanced AI\n",
      "https://benthams.substack.com/p/factory-farming-is-not-just-bad-its | Factory Farming Is Not Just Bad: It’s the Worst Thing Ever\n",
      "https://arxiv.org/abs/2302.08500 | [2302.08500] Auditing large language models: a three-layered approach\n",
      "https://arxiv.org/abs/2303.09377 | [2303.09377] Protecting Society from AI Misuse: When are Restrictions on Capabilities Warranted?\n",
      "https://thezvi.substack.com/p/ai-3 | AI #3 - by Zvi Mowshowitz - Don't Worry About the Vase\n",
      "https://arxiv.org/abs/2304.07249 | [2304.07249] How to design an AI ethics board\n",
      "https://astralcodexten.substack.com/p/why-i-am-not-as-much-of-a-doomer | (3) Why I Am Not (As Much Of) A Doomer (As Some People)\n",
      "https://rethinkpriorities.pinpointhq.com/admin/talent-pipeline/registered-candidates | Talent Pipeline  Rethink Priorities Careers\n",
      "https://www.managementcenter.org/our-book/ | Our Book - The Management Center\n",
      "https://arxiv.org/ftp/arxiv/papers/2206/2206.09360.pdf | 2206.09360.pdf\n",
      "https://www.vox.com/future-perfect/23564571/effective-altruism-sam-bankman-fried-holden-karnofsky-ai | How to reform effective altruism after Sam Bankman-Fried - Vox\n",
      "https://windowsontheory.org/2023/04/12/thoughts-on-ai-safety/ | Thoughts on AI safety – Windows On Theory\n",
      "https://noahpinion.substack.com/p/why-arent-we-taking-every-chinese?sd=pf | Why aren't we taking every Chinese refugee we can?\n",
      "https://quorumapp.com/?question2827& | Quorum\n",
      "https://www.gencon.com/associations/499648 | Gen Con  Gen Con Indy 2023\n",
      "https://www.nti.org/analysis/articles/cyber/ | The Cyber-Nuclear Threat\n",
      "https://open.spotify.com/playlist/5HqrL3I4qUbOo1rpCj6Pcg?si=6yJG2apxTkyUtFlzxzyEtw&utm_source=native-share-menu&dd=1&nd=1 | happy calm songs:) - playlist by nataliebrogan13  Spotify\n",
      "https://thezvi.substack.com/p/ai-1-sydney-and-bing | AI #1: Sydney and Bing - by Zvi Mowshowitz\n",
      "https://www.nytimes.com/wirecutter/reviews/best-telescopes-for-beginners/ | The Best Telescopes for Beginners\n",
      "https://www.metacausal.com/givewells-uncertainty-problem/ | GiveWell’s Uncertainty Problem – MetaCausal\n",
      "https://blog.aiimpacts.org/p/framing-ai-strategy | Framing AI strategy - by Zach Stein-Perlman\n",
      "https://www.bloomberg.com/news/articles/2019-04-06/the-google-ai-ethics-board-with-actual-power-is-still-around?leadSource=uverify%20wall | The Google AI Ethics Board With Actual Power Is Still Around - Bloomberg\n",
      "https://thezvi.substack.com/p/ai-4-introducing-gpt-4 | AI #4: Introducing GPT-4 - by Zvi Mowshowitz\n",
      "https://www.mynectar.com/ | Allergy Treatment & Alternative to Allergy Shots  Nectar\n",
      "https://thezvi.substack.com/p/ai-8-people-can-do-reasonable-things | AI #8: People Can Do Reasonable Things - by Zvi Mowshowitz\n",
      "https://thezvi.substack.com/p/ai-2 | AI #2 - by Zvi Mowshowitz - Don't Worry About the Vase\n",
      "https://slate.com/human-interest/2019/06/feminist-wife-likes-dominance-and-submission.html | Why does my feminist wife want to be dominated in bed?\n",
      "https://www.alignmentforum.org/posts/mJ5oNYnkYrd4sD5uE/clarifying-some-key-hypotheses-in-ai-alignment | Clarifying some key hypotheses in AI alignment - AI Alignment Forum\n",
      "https://talkingpointsmemo.com/edblog/some-thoughts-on-generative-ai#more-1455473 | Some Thoughts on Generative AI - TPM – Talking Points Memo\n",
      "https://www.themodernman.com/sex-advice/do-women-like-to-be-dominated.html | Do Women Like to Be Dominated?  The Modern Man\n"
     ]
    }
   ],
   "source": [
    "tabs_ = [t for t in tabs if (not ('google.com' in t.lower() and 'search' in t.lower() and not ('docs.google' in t.lower() or 'sheets.google' in t.lower())) and\n",
    "                             not ('docs.google' in t.lower() or 'sheets.google' in t.lower() or 'drive.google' in t.lower()) and\n",
    "                             not 'facebook.com' in t.lower() and\n",
    "                             not 'twitter.com' in t.lower() and\n",
    "                             not ('forum.effectivealtruism' in t.lower() or 'lesswrong' in t.lower()) and\n",
    "                             not ('metaculus' in t.lower() or 'manifold' in t.lower() or 'predictit' in t.lower()) and\n",
    "                             not ('wikipedia' in t.lower() or 'wikiwand' in t.lower()) and\n",
    "                             not 'reddit' in t.lower() and\n",
    "                             not 'instagram.com' in t.lower() and\n",
    "                             not ('guarded-everglades-89687.herokuapp.com' in t.lower() or 'localhost' in t.lower()) and\n",
    "                             not 'instacart' in t.lower() and\n",
    "                             not ('morning' in t.lower() and 'dispatch' in t.lower()) and\n",
    "                             not 'amazon.com' in t.lower() and\n",
    "                             not 'github' in t.lower() and\n",
    "                             not 'calendar.google' in t.lower() and\n",
    "                             not 'yout' in t.lower() and\n",
    "                             not 'app.asana.com' in t.lower() and\n",
    "                             not ('messages/' in t.lower() or 'inbox/' in t.lower() or 'mail.google' in t.lower() or 'swapcard' in t.lower()))]\n",
    "tabs_ = sorted(tabs_)\n",
    "print_tabs(tabs_, label='Other')\n",
    "\n"
   ]
  },
  {
   "cell_type": "code",
   "execution_count": 26,
   "id": "c9a2a7bb-86f9-45bd-b8d6-ed8889caed90",
   "metadata": {},
   "outputs": [],
   "source": [
    "#open_tabs(tabs_, page=1, per_page=60)"
   ]
  },
  {
   "cell_type": "code",
   "execution_count": 27,
   "id": "6c128ee3-03e2-4cfb-bfd1-0dfc84775af1",
   "metadata": {},
   "outputs": [
    {
     "name": "stdout",
     "output_type": "stream",
     "text": [
      "## Shuffled all tabs ## (252 tabs)\n",
      "\n",
      "https://twitter.com/stanislavfort/status/1648302064982712321 | Stanislav Fort ✨🧠📈⚛️📈🦾📈🤖📈✨ on Twitter: \"A key intuition pump in early AI safety: You tell AI \"do X\", it takes it too literally =&gt; bad consequence 🔥 despite nominally solving X LLMs are now ~the prefrontal cortex of AI &amp; get context *really well*. Have people updated against conclusions driven by the argument above?\" / Twitter\n",
      "https://forum.effectivealtruism.org/posts/EuMJP85XdQ2g3nFke/fli-report-policymaking-in-the-pause | FLI report: Policymaking in the Pause - EA Forum\n",
      "https://docs.google.com/spreadsheets/d/1nxpHYoMh1dZ38QG59XirkJJbd-MsUeblMSMRQYZ5x7E/edit#gid=0 | New LT project ideas sheet - Google Sheets\n",
      "https://astralcodexten.substack.com/p/why-i-am-not-as-much-of-a-doomer | (3) Why I Am Not (As Much Of) A Doomer (As Some People)\n",
      "https://forum.effectivealtruism.org/posts/T7PC22Yc9heFL5Ay4/iqisa-a-library-for-handling-forecasting-datasets | Iqisa: A Library For Handling Forecasting Datasets - EA Forum\n",
      "https://thezvi.substack.com/p/ai-1-sydney-and-bing | AI #1: Sydney and Bing - by Zvi Mowshowitz\n",
      "https://docs.google.com/document/d/1n5i1-VmV8IRDHTybXh70yV-mZB8RpMuu9ZXaDwLGRRs/edit | EAFo/LW Reading List - Google Docs\n",
      "https://docs.google.com/document/d/1lbazshEDUNzT-5gBYqfrmC9hvKRIxSbXroHywxPctw4/edit | [shared] Slowing AI - Google Docs\n",
      "https://www.lesswrong.com/posts/PdooAsNFiohmyburK | AI Takeover Scenario with Scaled LLMs - LessWrong\n",
      "https://docs.google.com/document/d/1tp3YcEx7Wjr5lbBWsiMPiqOR4IApwlLdE21HbzRljIo/edit | Open questions from international agreements project - Google Docs\n",
      "https://twitter.com/mealreplacer/status/1649439575700393986 | john stuart chill on Twitter: \"@The_JBernardi @peterwildeford Put back in the box in the general sense of “should society proceed with this kind of tech”, right? Because once a model’s weights are out there, there’s no going back from that (hence why actors should be very cautious when deciding if they should open source).\" / Twitter\n",
      "https://github.com/tadamcz/timing-spend-down-copy-for-rethink-priorities | tadamcz/timing-spend-down-copy-for-rethink-priorities: A copy shared with some rethink priorities staff for my job application.\n",
      "https://docs.google.com/document/d/1KpePoyEai4ZUiCxq8jVpL5EP0JogHkGwj-ZdRe-IDeM/edit#heading=h.ik0d9km8mxzo | My tentative model of P(doom by 2070) - Google Docs\n",
      "https://www.facebook.com/photo/?fbid=10229341164024463&set=gm.3357982174468223&idorvanity=1843137872619335 | Facebook\n",
      "https://quri.substack.com/p/eli-lifland-on-navigating-the-ai?fbclid=IwAR2mPO6XMabu0UrWDzFzyljIFOXmROPnsM-JvQWBPWkD4q7J7oRXg_UKBp4 | Eli Lifland, on Navigating the AI Alignment Landscape\n",
      "https://blog.aiimpacts.org/p/framing-ai-strategy | Framing AI strategy - by Zach Stein-Perlman\n",
      "https://thezvi.substack.com/p/ai-8-people-can-do-reasonable-things | AI #8: People Can Do Reasonable Things - by Zvi Mowshowitz\n",
      "http://localhost:8888/lab/tree/(4)%20XRisk%20Model.ipynb | (4)%20XRisk%… (2) - JupyterLab\n",
      "https://docs.google.com/document/d/1v9Afif1o_thEamTTUm1BL0yiY1cqIvt0VNR3EIVMnjQ/edit# | [shared with LT] Proposal: Switch AIGS's primary branding to something new and distinct from RP [notes for AIGS Leads discussion] - Google Docs\n",
      "https://www.metaculus.com/questions/14270/spacex-starship-orbit-in-2023/ | SpaceX Starship Orbit in 2023  Metaculus\n",
      "https://rethinkpriorities.pinpointhq.com/admin/talent-pipeline/registered-candidates | Talent Pipeline  Rethink Priorities Careers\n",
      "https://drive.google.com/drive/u/0/folders/0B15eCPovYpRPNDZfVVlQeE9od0E?resourcekey=0-p51Vss2OwilGgq4uWaxuwg | Maybe Blog Someday - Google Drive\n",
      "https://docs.google.com/document/d/1x4gYr4q1C5hofjLItBMrq_WebtlGSggPGECp48N1KrU/edit | AI movie forecast operationalization - Google Docs\n",
      "https://docs.google.com/document/d/1usMVjv7hMx22K-eu71o1bcfj-7JH_l-aXbfYb6NHSoM/edit | Threat Model for Existential Risks from AI - Google Docs\n",
      "https://www.lesswrong.com/posts/DXByibGtvFixSsyfs/ai-6-agents-of-change | AI #6: Agents of Change - LessWrong\n",
      "https://www.lesswrong.com/posts/ndzqjR8z8X99TEa4E/sama-says-the-age-of-giant-ai-models-is-already-over | Sama Says the Age of Giant AI Models is Already Over - LessWrong\n",
      "https://lynettebye.com/blog/2023/4/20/inside-the-minds-of-adhd?fbclid=IwAR1vvBzxj2oUSJdvfnqEm1BVlVTXeIYR_CEYssTZiW1pyZ42eXKxIZHa43w | Inside the Minds of ADHD — Lynette Bye Coaching\n",
      "https://docs.google.com/document/d/1JRTPn9g-3lmu9iF-MsZDZemP6yH1On5-BMKOOdubYSM/edit | AI x-risk model pseudocode - Google Docs\n",
      "https://www.wikiwand.com/en/Chess_2:_The_Sequel | Chess 2: The Sequel - Wikiwand\n",
      "https://docs.google.com/document/d/1X4V1y6uKJCcecbRUsYdmcKc_DK2LsEUjWeAXPI3PXr0/edit#heading=h.ze7bbpcr5m3f | How workstreams within AIGS might work [notes; work-in-progress] - Google Docs\n",
      "https://forum.effectivealtruism.org/posts/YTFfHd7zoSwpmDc3v/status-regulation-in-ea | Status Regulation in EA - EA Forum\n",
      "https://bounded-regret.ghost.io/emergent-deception-optimization/ | Emergent Deception and Emergent Optimization\n",
      "https://docs.google.com/document/d/1FmCK6rpAv2uAqgZzIxI1Jm2ga0bOgHS_u6WFDx_Blgo/edit#heading=h.bcufhgg27mdc | PATCH scenario [shared outside RP] - Google Docs\n",
      "https://open.spotify.com/playlist/3sQnnyhDxKAtwqfzF24BsT?si=3u7M2IojRLyIBIK3hrmCLg&utm_source=native-share-menu&nd=1 | Carer - playlist by caroleslie  Spotify\n",
      "https://www.metacausal.com/givewells-uncertainty-problem/ | GiveWell’s Uncertainty Problem – MetaCausal\n",
      "https://docs.google.com/document/d/1JJ2VnvEdiDjorrRsNTcPGaMPVVz3APoD7C31zwY7yKw/edit#heading=h.osty8jeclpyn | Copy of RP Climate Research Strategy (public-facing) - Google Docs\n",
      "https://twitter.com/messages/1414875069558534150 | Metaculites (off the (track) record) / Twitter\n",
      "https://docs.google.com/document/d/1qgh2gJnAyjvXAp69Z9AfFNzjv2PE03YskkpuWOAXbxw/edit#heading=h.uqpdxo8eiwtv | Overview of RP’s longtermist ‘entrepreneurship program’ - Google Docs\n",
      "https://www.sharpenstrategy.org/ | Sharpen Strategy\n",
      "https://forum.effectivealtruism.org/posts/FaJptz6qkDoJfgsX5/what-norm-would-you-remove-from-the-ea-community | What norm would you remove from the EA community? - EA Forum\n",
      "https://twitter.com/JeffLadish/status/1648880386230071296 | (1) Jeffrey Ladish on Twitter: \"Making agents, especially making agents that can self-improve, using powerful cognitive engines like GPT-4 is a really bad idea and OpenAI should not permit this\" / Twitter\n",
      "https://arxiv.org/abs/2302.08500 | [2302.08500] Auditing large language models: a three-layered approach\n",
      "https://forum.effectivealtruism.org/posts/5Lytcvj7GCSysBtSD/my-impact-assessment-of-giving-what-we-can | My impact assessment of Giving What We Can - EA Forum\n",
      "https://docs.google.com/document/d/1LpJzMNWRxRXuBXxB1l9dgQ8XxEiZ0MypMYDDa5cfTsM/edit#heading=h.5wztdmlt3d79 | Writing, editing, or collection tasks Michael would be keen for someone to do - Google Docs\n",
      "https://docs.google.com/document/d/1qwKUWu1aa1rikW3zlCPPvPXdS4upsarkJe8-JwcE4tY/edit#heading=h.z6v8ty7j4wlh | You don't have to be that risk-averse to prefer GHW to LT (Final - Shared with Jason) - Google Docs\n",
      "https://docs.google.com/presentation/d/1jLK9tjEH7Mxqx1fz0IPDzKJvcoLJJVo4jpZuZ42j-rA/edit#slide=id.g213a7bae0d5_0_0 | 2023 GHD Department OKRs (shared) - Google Slides\n",
      "https://thezvi.substack.com/p/ai-2 | AI #2 - by Zvi Mowshowitz - Don't Worry About the Vase\n",
      "https://mobile.twitter.com/kmpanthagani/status/1645152805156470784 | Kristen Panthagani, MD, PhD on Twitter: \"You may recall Florida's vaccine analysis which claimed that mRNA vaccines are associated with increased risk of cardiac death in young men. This week, @TB_Times published earlier, unpublished drafts of that analysis. Those earlier drafts tell a dramatically different story... https://t.co/YaQgNSluX6\" / Twitter\n",
      "https://twitter.com/_MedGold/status/1632775869545447430 | ᴍᴇᴅ ɢᴏʟᴅ 🐒 on Twitter: \"Not every girl was born to be a sex slave. Emily Ratajkowski is. Gio Scotti is not. She’s meant to greeted with a kiss on the forehead, a light smack on the ass, and be surprised with vacations &amp; handbags. Total QT wife material, u must know difference. https://t.co/v22OQNixgu\" / Twitter\n",
      "https://docs.google.com/document/d/13mwa8Hc5Jbx0QB85TYT_bT6EKx7tOThl8GBho33Qp6Y/edit#heading=h.g8sbx9w0ekrr | (External) Summary of feedback and next steps on V.1 draft action plan - Google Docs\n",
      "https://docs.google.com/document/d/1z3YrMwEcdNGt2X2GoFNIVhbcBZxzsBFiSz4_q6vJXO8/edit#heading=h.n3opm8r5uhlr | Center for Long Term Priorities Update: April 2023 (shared) - Google Docs\n",
      "https://benthams.substack.com/p/factory-farming-is-not-just-bad-its | Factory Farming Is Not Just Bad: It’s the Worst Thing Ever\n",
      "https://today.yougov.com/topics/technology/articles-reports/2023/04/14/ai-nuclear-weapons-world-war-humanity-poll | AI doomsday worries many Americans. So does apocalypse from climate change, nukes, war, and more  YouGov\n",
      "https://twitter.com/messages/25776739-1228244491351547904 | Mr S / Twitter\n",
      "https://www.cambridge.org/core/journals/european-journal-of-risk-regulation/article/risk-management-in-the-artificial-intelligence-act/2E4D5707E65EFB3251A76E288BA74068 | Risk Management in the Artificial Intelligence Act  European Journal of Risk Regulation  Cambridge Core\n",
      "https://docs.google.com/spreadsheets/d/1nItK7l5D24f6m-R2FQnMBuJxqvMpl3FEVfqQUG63WFA/edit#gid=1639598155 | All Predictions - Google Sheets\n",
      "https://www.metaculus.com/questions/5121/date-of-artificial-general-intelligence/ | Date of Artificial General Intelligence  Metaculus\n",
      "https://docs.google.com/document/d/1CmFbpx_os5sDrIFhWWZ-NlB1v9xDvS0y_2A3qyl641s/edit#heading=h.9tblutehpuyv | Why AGI is not a good way to think about risk from AI - Google Docs\n",
      "https://forum.effectivealtruism.org/posts/6Mi2LqLRjSkQNdLbH/orthogonal-a-new-agent-foundations-alignment-organization | Orthogonal: A new agent foundations alignment organization - EA Forum\n",
      "https://windowsontheory.org/2023/04/12/thoughts-on-ai-safety/ | Thoughts on AI safety – Windows On Theory\n",
      "https://thedispatch.com/newsletter/morning/bidens-pick-for-labor-secretary-faces-skeptical-senate/ | Biden’s Pick for Labor Secretary Faces Skeptical Senate - The Dispatch\n",
      "https://mdickens.me/causepri-app/#3 | Cause pri app\n",
      "https://slate.com/human-interest/2019/06/feminist-wife-likes-dominance-and-submission.html | Why does my feminist wife want to be dominated in bed?\n",
      "https://docs.google.com/document/d/19L0k0B0-0gW7t96Q-hpNIknCEry57Hklgt2FXFDUH78/edit#heading=h.mak2h8fgpqe9 | [SES copy] Misuse of AI should be a core priority in AI risk reduction - Google Docs\n",
      "https://twitter.com/moskov/status/1648554715842527235 | Dustin Moskovitz on Twitter: \"@visakanv @NathanpmYoung @Aizazadi_ Guys I think you have a gambling addiction disguised as a forecasting fetish\" / Twitter\n",
      "https://www.youtube.com/watch?app=desktop&v=2SQOXbh-2vU | DALS S04 - Un jive avec Alizée et Grégoire Lyonnet sur ''Crazy in love'' (Beyoncé) - YouTube\n",
      "https://docs.google.com/document/d/1U-XKyrYLv_RbqkrUwaz39lyCuaRlXagvfAdWrdbf8iE/edit#heading=h.1t59s1ygweog | Sketching a TAI scenario and backchaining to useful actions - Google Docs\n",
      "https://airtable.com/appu6xnfbxKRkEWzG/tbli4kOkJHaEZLcZ4/viwx357T2mFDtijO4/recxTe4cSkPDBMqxK?blocks=hide | EA Funds Grants [EA Infrastructure Fund]: Grant Applications - Airtable\n",
      "https://docs.google.com/document/d/1vouv73_c8L05fHDh8x3A_HSBukclMbIb4JE7O2UdFLY/edit#heading=h.x1uc7lfftp0 | AIGS 2023 OKRs [as of April 2023] - Google Docs\n",
      "https://twitter.com/jackclarkSF/status/1649087388168380417 | (4) Jack Clark on Twitter: \"As part of our policy work at @AnthropicAI we're always trying to bridge concerns relating to systems deployed today and future systems. @NIST is one of the most effective gov agencies with regard to AI and could do a lot more on existing and forecast systems with more funding.\" / Twitter\n",
      "https://docs.google.com/document/d/18sXLBNMsLwKXGqFVXESHNBDdK-z7SIu2BH_EYrSw7sY/edit | Project Description [Current] 03/28/23 - Google Docs\n",
      "https://docs.google.com/document/d/1CTVmBgHa14C8bc0o1l5HyhI6OR9YQhdFycBqQuw6D04/edit#heading=h.4yezxw8idn06 | V.1 Whether and how CLTP should help reduce the dangers of China-US conflict - Google Docs\n",
      "https://docs.google.com/document/d/1fJndg74yOJz0SsTHztV2uSpT152cnkd3y752Uj2bjKg/edit# | 2023 Monthly Leadership Meeting - Google Docs\n",
      "https://www.facebook.com/messages/t/547821577/ | Messenger  Facebook\n",
      "https://docs.google.com/document/d/1dwr2qpaWdCqr_IDhcTT69TmEA5aWfiNftasn5iJ_qhA/edit | Premises to get to Strong LT - Google Docs\n",
      "https://docs.google.com/document/d/1vMSoRvzgF2VLcBcjqHTvQ2NXHRqVXsNyT4XI54wk79Q/edit# | Peter/Ben 1-1s - Google Docs\n",
      "https://www.brookings.edu/podcast-episode/how-serious-is-the-risk-of-war-over-taiwan/ | How serious is the risk of war over Taiwan?\n",
      "https://twitter.com/Jason/status/1647274896563802112 | @jason on Twitter: \"🧵 AI is going to nuke the bottom third of performers in jobs done on computers — even creative ones — in the next 24 months White collar salaries are going to plummet to the average of the global work force &amp; the speed at which the top performers can write prompts\" / Twitter\n",
      "https://twitter.com/zachc99053/status/1648003287977689088 | zachc99053 on Twitter: \"@peterwildeford (1 - p)/p\" / Twitter\n",
      "https://twitter.com/WilliamAEden/status/1630690003830599680 | William Eden on Twitter: \"My Twitter timeline is full of panicked takes about imminent AI apocalypse and certain doom. I think this is starting to get overplayed, and so I want to make a long thread about why I'm personally not worried yet. Get ready for a big one... 1/n\" / Twitter\n",
      "https://www.redbookmag.com/love-sex/sex/a47424/why-women-like-rough-sex/ | Why Women Like Rough Sex - Why Women Like Being Dominated\n",
      "https://twitter.com/robertwiblin/status/1647917339059388416 | Robert Wiblin on Twitter: \"Twenty-three reasons not to read newspapers and online 'news' sources. 🧵 All from Dobelli's 'Stop Reading the News': https://t.co/9JSedarsid 1. News is overwhelmingly not relevant to any decisions you will make. https://t.co/OwMRLQ5KFb\" / Twitter\n",
      "https://docs.google.com/document/d/1ZW6RELEwhYZRCIqllhVs_-XkpT6c5pBQu_P7pPKcwXM/edit | Carole Bibas-Barkan – Evaluation (EA Infrastructure Fund) – 643d2df776564ed8a400eed0 - Google Docs\n",
      "https://www.lesswrong.com/posts/JcgtKunqmELefxksx/killing-socrates | Killing Socrates - LessWrong\n",
      "https://docs.google.com/document/d/1JvPjUJ948nhppb5DlcpNo4QoefeGbwoEU0dKSDkwmyg/edit#heading=h.a1kh1pvuriuw | Using experts and advisors in the project idea research process - Google Docs\n",
      "https://docs.google.com/document/d/1F-WCgE_LBVC1KzFjytqBRazQN7cvEsAf1Lviab_yNk8/edit#heading=h.xq6tsfu5ra22 | User interview prompts for the RP longtermist entreprenuership project - Google Docs\n",
      "https://docs.google.com/document/d/1fqTkdMvXL1Qp1PGvHNWop8tNR9jSKUTZWWdc6HTYTwM/edit | Copy of 2023 Strategic Planning: SWOT Brainstorm Document - Google Docs\n",
      "https://arxiv.org/abs/2303.09377 | [2303.09377] Protecting Society from AI Misuse: When are Restrictions on Capabilities Warranted?\n",
      "https://forum.effectivealtruism.org/posts/idjzaqfGguEAaC34j/if-your-agi-x-risk-estimates-are-low-what-scenarios-make-up | If your AGI x-risk estimates are low, what scenarios make up the bulk of your expectations for an OK outcome? - EA Forum\n",
      "https://twitter.com/messages/25776739-1551581042259132418 | john stuart chill / Twitter\n",
      "https://twitter.com/NathanpmYoung/status/1648707119271628803 | Nathan 🔍 (DM me ideas of things to predict) on Twitter: \"The Asshole Filter Incentives that benefit assholes over personally kind people. Leading to you only interacting with assholes. https://t.co/ao5qGVTVjJ\" / Twitter\n",
      "https://docs.google.com/document/d/18lcwJow6J64YI2SMvDHP5QSkWEeoQ0oX_RLZfEgMXhk/edit# | Memo: RP, EA, and our relationship to the community - Google Docs\n",
      "https://forum.effectivealtruism.org/posts/ddF7i9PA83nYR5ewb/predicting-the-cost-effectiveness-of-running-a-randomized?utm_source=EA+Forum+Digest&utm_campaign=54cf22c7d1-EMAIL_CAMPAIGN_2023_04_20_12_22&utm_medium=email&utm_term=0_-54cf22c7d1-%5BLIST_EMAIL_ID%5D | Predicting the cost-effectiveness of running a randomized controlled trial - EA Forum\n",
      "https://www.lesswrong.com/posts/gq9GR6duzcuxyxZtD/approximation-is-expensive-but-the-lunch-is-cheap | Approximation is expensive, but the lunch is cheap - LessWrong\n",
      "https://www.youtube.com/watch?v=BinAEeZYvqc | Frozen Broadway Performance Of \"Love Is An Open Door\" (GMA) - YouTube\n",
      "https://docs.google.com/document/d/10_Co_t2cduhCWri7bw7Pm7iMMKUNvEjw0dEyMOEYMwE/edit#heading=h.9bdgewen2wef | [second draft] Updated prioritisation model + process - Google Docs\n",
      "https://www.lesswrong.com/posts/ZwshvqiqCvXPsZEct/the-learning-theoretic-agenda-status-2023 | The Learning-Theoretic Agenda: Status 2023 - LessWrong\n",
      "https://docs.google.com/presentation/d/1dal9XJTgni7TfqMw2OylVwsMWrfz_FaYjPOdcoVl10o/edit#slide=id.g232c77bbbb5_0_5 | Copy of Org-Wide OKRs Presentation - Google Slides\n",
      "https://docs.google.com/document/d/1m_-XgZgBs0LZHplodgBbGcpiGtNWalPxPBjGOwF6rig/edit# | Macrocalendar - Google Docs\n",
      "https://www.themodernman.com/sex-advice/do-women-like-to-be-dominated.html | Do Women Like to Be Dominated?  The Modern Man\n",
      "https://docs.google.com/document/d/1RXPjnwwMgy5T_4tylUWq2gXdJwO5cYPlxcpKrNJTT-M/edit | GW moral weight for WIT - Google Docs\n",
      "https://docs.google.com/document/d/1jNjCpdy7k6rJKAG1ygLap6eW9UWkurEVqX7m_m06Itc/edit# | Peter / Abraham Meeting Notes - Google Docs\n",
      "https://forum.effectivealtruism.org/posts/vctT7omkLhoEMptKD/lead-exposure-a-shallow-cause-exploration | Lead exposure: a shallow cause exploration - EA Forum\n",
      "https://docs.google.com/document/d/111WV9GsBPUM-eLT4IvaLdvfHSPbPxqR0p3ro3gjQwgA/edit#heading=h.m38ikqk3z2wb | CONFIDENTIAL: Proposed Next Steps After Ops Retreat - Google Docs\n",
      "https://twitter.com/EAheadlines/status/1649155227315052544 | EA Lifestyles on Twitter: \"it's outt! this post has interviews AND footnotes. and by interviews I mean I dropped everyone into a group chat 🙃 tysm @Laura_k_Duffy @jozdien @parafactual @heartbulbous @NathanB60857242 and anon friends 💜💜💜 https://t.co/QC8XR3Ktkx\" / Twitter\n",
      "https://www.wikiwand.com/en/The_Company_You_Keep_(TV_series) | The Company You Keep (TV series) - Wikiwand\n",
      "https://www.lesswrong.com/posts/jRf4WENQnhssCb6mJ/davidad-s-bold-plan-for-alignment-an-in-depth-explanation | Davidad's Bold Plan for Alignment: An In-Depth Explanation - LessWrong\n",
      "https://docs.google.com/document/d/1u95GHH-72mOWXPPlcTRLw1duYz1mxY-03lwaveMgJcc/edit#heading=h.2st10p4xokyd | EV of the Future and Counterfactual Credit - Google Docs\n",
      "https://docs.google.com/spreadsheets/d/1ILXtHOeZxP-66MTfaV8doTi0xsjX3uvZxc_Pa4qdAxE/edit#gid=0 | Peter Wildeford - AI adversarial collaboration - charge sheet - Google Sheets\n",
      "https://www.lesswrong.com/posts/566kBoPi76t8KAkoD/on-autogpt | On AutoGPT - LessWrong\n",
      "https://guarded-everglades-89687.herokuapp.com/?url=&title=&aggregator=-Custom&before=&after=&page=1&sort=&starred= | Upcoming Links\n",
      "https://www.planned-obsolescence.org/what-were-doing-here/ | What we're doing here\n",
      "https://drive.google.com/file/d/1Si3Xjrk075I2d3oO7Zn-56QGCgFAMQBg/view | Information_Hazards_in_AI_Races__current_ver_.pdf - Google Drive\n",
      "https://twitter.com/messages/25776739-103418485 | Joel Becker / Twitter\n",
      "https://docs.google.com/presentation/d/1torpcepTsPALx9BtVCEn5P8Zoz7sFlUgVKIQiuO0d2k/edit#slide=id.ge44d99aa4e_0_0 | AIGS OKR slides - Google Slides\n",
      "https://www.nti.org/analysis/articles/cyber/ | The Cyber-Nuclear Threat\n",
      "https://docs.google.com/document/d/1Gkju5VWLldE4COF278hLeWjsVQPHtdgYncCaFeNYcIw/edit | How the Strong-LT Model Works, What it Says, and Whether We Should Trust It - Google Docs\n",
      "https://docs.google.com/document/d/1QplktgJzt2Njaizu8TI4thjtetc5EzOLknYEubl7ZHg/edit#heading=h.d25tlez2vywr | *NEWEST* Copy of Kieran's meeting with Co-CEO(s) Running Agenda - Google Docs\n",
      "https://www.quora.com/Why-do-some-women-enjoy-being-dominated-during-sex | Why do some women enjoy being dominated during sex? - Quora\n",
      "https://www.planned-obsolescence.org/aligned-vs-good/ | \"Aligned\" shouldn't be a synonym for \"good\"\n",
      "https://www.alignmentforum.org/posts/mJ5oNYnkYrd4sD5uE/clarifying-some-key-hypotheses-in-ai-alignment | Clarifying some key hypotheses in AI alignment - AI Alignment Forum\n",
      "https://forum.effectivealtruism.org/posts/Rn53J2BQwooMDq6Eo/paths-to-reducing-rodenticide-use-in-the-u-s | Paths to reducing rodenticide use in the U.S. - EA Forum\n",
      "https://twitter.com/robbensinger/status/1643342330290913280 | Rob Bensinger 🔍 on Twitter: \"I've been citing https://t.co/jVrdg2mIgz to explain why the situation with AI looks doomy to me. But that post is relatively long, and emphasizes specific open technical problems over \"the basics\". Here are 10 things I'd focus on if I were giving \"the basics\" on why I'm worried:\" / Twitter\n",
      "https://forum.effectivealtruism.org/posts/o3Gaoizs2So6SpgLH/summaries-of-top-forum-posts-27th-march-to-16th-april | Summaries of top forum posts (27th March to 16th April) - EA Forum\n",
      "https://www.lesswrong.com/posts/AfGmsjGPXN97kNp57/arguments-about-fast-takeoff | Arguments about fast takeoff - LessWrong\n",
      "https://www.deepmind.com/blog/announcing-google-deepmind?utm_source=twitter&utm_medium=social&utm_campaign=GDM&utm_content=DH | Announcing Google DeepMind\n",
      "https://www.lesswrong.com/s/xMdkfEJhDNCL2KweB | Slowing AI - LessWrong\n",
      "https://docs.google.com/document/d/1xHmHPsfrYgUhjpCYotzVE78l1RWS7ddtjU85A6GIYUY/edit#heading=h.bvjsvl1l7r2e | Will misaligned APS systems seek power dangerously if deployed? - Google Docs\n",
      "https://www.planned-obsolescence.org/is-it-time-for-a-pause/ | Is it time for a pause?\n",
      "https://www.google.com/search?q=chaos+gpt&rlz=1C1GCEA_enGB993GB993&sxsrf=APwXEdfDrsc7CTFBEUhij_z8R-U-YNslqg:1681232294309&source=lnms&tbm=vid&sa=X&ved=2ahUKEwjksL-tpqL-AhXMWMAKHUc6BTUQ_AUoAnoECAEQBA&biw=767&bih=732&dpr=1.25 | chaos gpt - Google Search\n",
      "https://github.com/laurakduffy/risk_ambiguity_model/blob/main/econ_models.ipynb | risk_ambiguity_model/econ_models.ipynb at main · laurakduffy/risk_ambiguity_model\n",
      "https://docs.google.com/document/d/1EZ1TgTnJ6zt_-JuhboXJwEDZ7r4R2D8WnOzLE7DphUg/edit | What would it look like to regulate AI like bio and nuclear?\n",
      "https://help.openai.com/en/articles/5722486-how-your-data-is-used-to-improve-model-performance | How your data is used to improve model performance  OpenAI Help Center\n",
      "https://docs.google.com/spreadsheets/d/1TlWcxy-fuzXd93DEJ_sj8R6Ikm4HJMZd92sXULbnZvM/edit#gid=0 | [very confidential] Staff Risk - Google Sheets\n",
      "https://forum.effectivealtruism.org/posts/wkAoqnaP7DhqHjyzh/list-of-lists-of-government-ai-policy-ideas | List of lists of government AI policy ideas - EA Forum\n",
      "https://www.pasteurscube.com/a-world-without-email/ | Notes on \"A World Without Email\", plus my practical implementation\n",
      "https://forum.effectivealtruism.org/posts/nh8dx6JJt3Ga3BRdp/gwwc-reporting-attrition-visualization#comments | GWWC Reporting Attrition Visualization - EA Forum\n",
      "https://docs.google.com/document/d/1tzsWJGOwkFN9VEupVQ4PF13Lg2MF7M7p6RKx4ZTxQaA/edit#heading=h.o2xukaw0zzde | AI Concerns Survey - Google Docs\n",
      "https://docs.google.com/presentation/d/1KW7ZkuCdXAC8FEfC6r3w15QQQTn4jUyjFSX24WzCte8/edit#slide=id.g232fae25e24_0_7 | 2023 AW Department OKRs - Google Slides\n",
      "https://forum.effectivealtruism.org/posts/6eaY7MEDWnK39sCEi/healthier-hens-y1-5-update-and-scaledown-assessment | Healthier Hens Y1.5 Update and scaledown assessment - EA Forum\n",
      "https://forum.effectivealtruism.org/posts/Sa4ahq8AGTniuuvjE/linkpost-538-politics-podcast-on-ai-risk-and-politics | [Linkpost] 538 Politics Podcast on AI risk & politics - EA Forum\n",
      "https://open.spotify.com/playlist/5HqrL3I4qUbOo1rpCj6Pcg?si=6yJG2apxTkyUtFlzxzyEtw&utm_source=native-share-menu&dd=1&nd=1 | happy calm songs:) - playlist by nataliebrogan13  Spotify\n",
      "https://docs.google.com/spreadsheets/d/1TKdLTOeDfBjXUoUAJdPh40Z13bmYf5hvuTUTJH0m41c/edit#gid=2031513321 | [confidential] Staff Overallocation - Google Sheets\n",
      "https://docs.google.com/spreadsheets/d/1waiXbSXZs54_plxa7u9sRQTxMbNaEwbve0sBTGT5BvY/edit#gid=0 | GLT current guesses re asks from SP -- April 2023 - Google Sheets\n",
      "https://www.cold-takes.com/high-level-hopes-for-ai-alignment/ | High-level hopes for AI alignment\n",
      "https://twitter.com/daniel_eth/status/1635885011365957632 | Daniel Eth💡 on Twitter: \"Finally getting around to reading this. Will update my reactions as I go\" / Twitter\n",
      "https://docs.google.com/spreadsheets/d/1Reqc4sS-u7c1kX_xVKNq0Vm7YspZgGtdHba-WS9Yz1A/edit#gid=0 | 2023 WIT Budget - Google Sheets\n",
      "https://soundcloud.com/dnonkong/sets/restoration | Stream Duncan Thum  Listen to Restoration playlist online for free on SoundCloud\n",
      "https://twitter.com/spencemo_c/status/1647790750535667713 | Spencer🙏🔍📚🥕🚲🧘‍♂️🚐🌐 on Twitter: \"@peterwildeford For now. What odds would you set for party Id #s to stay within ~15% of total (eg 35% total, d/r 25-45) in 1/2/3/5 years\" / Twitter\n",
      "https://docs.google.com/presentation/d/1kt-6Ovd3D0r-tIlQGrRRPZx01CogpJ2hk7yV7giA95Q/edit#slide=id.g232c77bbbb5_0_26 | Leadership Squads - Google Slides\n",
      "https://clarifyingconsequences.substack.com/p/half-baked-ideas-defining-and-measuring | Change my mind: we should define and measure the effectiveness of advanced AI\n",
      "https://github.com/orgs/rethinkpriorities/repositories | Rethink Priorities\n",
      "https://forum.effectivealtruism.org/posts/MasQBKhGCbEn7E48R/evolution-provides-no-evidence-for-the-sharp-left-turn | Evolution provides no evidence for the sharp left turn - EA Forum\n",
      "https://docs.google.com/presentation/d/19d8DDka9xErkDEHqEhFz152AjOjFLs4tIbZB9vNuBmY/edit#slide=id.ge44d99aa4e_0_0 | WIT OKRs for April 2023 All Staff Meeting - Google Slides\n",
      "https://docs.google.com/document/d/1DIExQFqzkJdngxPUPn1txvBNUuBJeSrE19hwgLUZAgs/edit | PW Self Reflection Nov 2022 - Google Docs\n",
      "https://twitter.com/oliverdarcy/status/1649068767924695040/photo/1 | (1) Oliver Darcy on Twitter: \"NEWS: BuzzFeed News is being shut down.\" / Twitter\n",
      "https://github.com/Torantulino/Auto-GPT | Torantulino/Auto-GPT: An experimental open-source attempt to make GPT-4 fully autonomous.\n",
      "https://soundcloud.com/dnonkong/blue | Stream Blue by Duncan Thum  Listen online for free on SoundCloud\n",
      "https://docs.google.com/document/d/1lC-rIXME-GD1AImZ80b9eP61sroZy8mooLnSeHNgYzM/edit#heading=h.ftvusubre6rz | Brainstorming on RP as a brand - Google Docs\n",
      "https://docs.google.com/document/d/1Xp43r9fNweDd-e40SUwr_eOkXONQ3vFV5xGXCyaW2n0/edit#heading=h.jrcbnm1fd14j | AIGS Subteams Structure - Detailed Feedback - Google Docs\n",
      "https://forum.effectivealtruism.org/posts/mffiHBwfcWwwNyjoM/inside-the-minds-of-adhd | Inside The Minds Of ADHD - EA Forum\n",
      "https://twitter.com/jasoncrawford/status/1648130305742581761 | Jason Crawford on Twitter: \"Scott Aaronson on what to do now about AI risk: “clear articulation of fire alarms, red lines, whatever you want to call them, along with what our responses to those fire alarms should be” https://t.co/ITyxfappgY\" / Twitter\n",
      "https://twitter.com/benskuhn/status/1606407189161091072 | Ben Kuhn on Twitter: \"A thing I often find myself suggesting to new managers is to \"exert more backpressure.\" Backpressure is a concept from fluid dynamics (and distributed systems) meaning the way in which a system resists overload—e.g. by slowing down, dropping requests, or completely failing.\" / Twitter\n",
      "https://docs.google.com/document/d/1QFTYRSJPyQoKfO_bFrsxG861xebXbX3XzvBEEaT7Z1U/edit | [V.3] What is going to matter if an AI crash project emerges? - Google Docs\n",
      "https://talkingpointsmemo.com/edblog/some-thoughts-on-generative-ai#more-1455473 | Some Thoughts on Generative AI - TPM – Talking Points Memo\n",
      "https://docs.google.com/document/d/1cJ8EbBD7yTgebWvZw4OX-jLE7XKxx-gelWAa-Ao2i7w/edit#heading=h.7j5fxd1nlbn3 | Draft project memo: Independent researcher institute - Google Docs\n",
      "https://arxiv.org/abs/2304.07249 | [2304.07249] How to design an AI ethics board\n",
      "https://docs.google.com/presentation/d/1iYnnK3TwNBugTCeeRVyL8MJhSb92ZTUNO-7y5Iwyyvs/edit#slide=id.g232b11b7cba_0_5 | GLT OKRs 2023 -- RP All Staff Meeting 2023-04-20 - Google Slides\n",
      "https://www.nytimes.com/wirecutter/reviews/best-telescopes-for-beginners/ | The Best Telescopes for Beginners\n",
      "https://thezvi.substack.com/p/ai-4-introducing-gpt-4 | AI #4: Introducing GPT-4 - by Zvi Mowshowitz\n",
      "https://twitter.com/leonardbarrett/status/1648010277320015873 | (5) Leonard Barrett on Twitter: \"@JgaltTweets @StefanFSchubert @peterwildeford @daniel_eth By far the biggest outlier here: Black Americans really on the AI x-risk beat 👀 https://t.co/iiKkGdFIOo\" / Twitter\n",
      "https://www.lesswrong.com/posts/tZExpBovNhrBvCZSb/how-could-you-possibly-choose-what-an-ai-wants | How could you possibly choose what an AI wants? - LessWrong\n",
      "https://arxiv.org/ftp/arxiv/papers/2206/2206.09360.pdf | 2206.09360.pdf\n",
      "https://docs.google.com/document/d/1szG_6iGL1V2a_89AepyGs7lxg-UO1rp4TPGBL_MNSRg/edit#heading=h.z1m60iksdy8y | AI Message Testing Proposal - Google Docs\n",
      "https://docs.google.com/document/d/18mSdRCL0l0ApuOYU6oiC7ImzLjFbuetehqTLkw6PP-o/edit#heading=h.qvx51emxxmz4 | Splitting up EA\n",
      "https://docs.google.com/document/d/1Uov3Iu7P_Yl2AbdsZpJ-RDJAtsRcb_58qcsz2MyF3SI/edit#heading=h.udf01z9v4vjh | Would the US or an allied government controlling / heavily resourcing the first successful TAI project be net-positive or net-negative for x-risk / GCRs? - Google Docs\n",
      "https://docs.google.com/document/d/1-XmkDaopuz6vQPF2D-wmPJmqmaNYSEUF_cKwZJ6_c44/edit# | Peter <> Michael - 1-1s - 2022 Q4 & 2023 Q1 - Google Docs\n",
      "https://quorumapp.com/?question2827& | Quorum\n",
      "https://forum.effectivealtruism.org/posts/BEDpexBKvChZFbxS4/5-proposed-changes-to-the-funding-system-to-increase-org | 5 Proposed Changes to the Funding System to Increase Org Survival and Impact - EA Forum\n",
      "https://docs.google.com/document/d/16GQ2FbwF-GWG28wzFg6gTlAVRYHbGIzwMTC6egPXnMg/edit#heading=h.u5ylt23gllew | [outdated] Project plan: Project idea research for incubation - Google Docs\n",
      "https://docs.google.com/document/d/1ug415tJuYCfBgY7AAs4j5HbaFb-NLlACRa6gAFgA7N4/edit | Campbell Jordan – Evaluation (Long-Term Future Fund) – 643c8c37901f531c5802d0cb - Google Docs\n",
      "https://docs.google.com/document/d/1tHguGS8oKjaeG_eRpyTCLD-bfPWDV-fS7jGAqE7jmUI/edit | Caleb's thoughts on RP Potential Project Directions + thoughts on LT incubation - Google Docs\n",
      "https://docs.google.com/document/d/1T-JhUzbtJJvKh3DrU5zvQY8Zx4gY0ZhVfpoRWH0dyLI/edit# | Should RP seek ACE recommended charity status - Google Docs\n",
      "https://docs.google.com/document/d/1IWaEqfNtwCSdPM8lSOwHuCsJoR9xMh-heTUb_sYfgp4/edit | Adversarial collaboration, Peter // Scott - Google Docs\n",
      "https://docs.google.com/spreadsheets/d/1h7yZC6cLZYWBAVdx97zNxg5anX_zQ3Pm9gfeTS9CFJ0/edit#gid=282481256 | Caro model - Google Sheets\n",
      "https://forum.effectivealtruism.org/posts/CrnFwpNYYSseb6Xt3/we-re-losing-creators-due-to-our-nitpicking-culture | We're losing creators due to our nitpicking culture - EA Forum\n",
      "https://www.forourposterity.com/response-to-tyler-cowen-on-ai-risk/ | Response to Tyler Cowen on AI risk\n",
      "https://docs.google.com/document/d/1B02Q8ea6_X1qvWIh_Tcj4bDBkVefR3zPN8YlubFWXjM/edit# | Untitled document - Google Docs\n",
      "https://www.lesswrong.com/posts/Woi6PgTP4RAm4bwJh/ai-7-free-agency | AI #7: Free Agency - LessWrong\n",
      "https://docs.google.com/spreadsheets/d/1JFzYDU8tJ_BB5ZHy_LA98r2cXXlmAaGqI95EE41DORM/edit#gid=842085141 | RP Risk Register - April 2023 Finalized - Google Sheets\n",
      "https://docs.google.com/document/d/1wbSkicGGw6iiZmCnS_Zl-J-4CCgooEteJ4PlRZ8pNNo/edit# | GLT 2023 high-level timetable v0.3 2023-03-30 - Google Docs\n",
      "https://docs.google.com/document/d/1Weh2vqYRT-l1SpuufyZ4_ldNoOuIg8QodpNskkYG04U/edit#heading=h.g2je2be7j07v | Backgrounder on US Natsec & AI - Google Docs\n",
      "https://docs.google.com/spreadsheets/d/100F5jl6l94LmE9eI6rBeql5cXa79qjh3QvuMl6184fA/edit#gid=1873611001 | 2023 Apr Lights - Google Sheets\n",
      "https://www.nytimes.com/interactive/2023/04/21/science/parrots-video-chat-facetime.html | Can Parrots Talk Over Video Chat? Experiment Shows How They Adapt and Connect - The New York Times\n",
      "https://www.google.com/search?q=learn+how+to+seduce&rlz=1CDGOYI_enUS715US715&oq=learn+how+to+seduce&aqs=chrome..69i57j0i15i22i30i625j0i22i30l2j0i15i22i30.6783j0j7&hl=en-US&sourceid=chrome-mobile&ie=UTF-8 | learn how to seduce - Google Search\n",
      "https://twitter.com/leonardbarrett/status/1648020869065871360 | Leonard Barrett on Twitter: \"@peterwildeford I believe it is: \"Yes\" net winnings if \"Yes\" outcome: b/p-b \"No\" net winnings if \"No\" outcome: b/(1-p)-b Where b = the respective wagered amounts for \"Yes\" and \"No\"\" / Twitter\n",
      "https://noahpinion.substack.com/p/2023-is-when-the-empires-strike-back | 2023 is when the empires strike back - by Noah Smith\n",
      "https://docs.google.com/document/d/1nhiad5KHLsxMX6eU1AzXz_Z_q5eq3s1VxkBraYf2XPE/edit | TAIG - FR1 - Definitions in Transformative AI Governance - Google Docs\n",
      "https://www.youtube.com/watch?app=desktop&v=NXNCu6ekccw | Maud et Nicolas 2017 Compétition Rock Avancé - YouTube\n",
      "https://forum.effectivealtruism.org/posts/TeE9cLzQndZuZxwPC/funding-opportunity-for-new-fish-welfare-charity | Funding Opportunity for New Fish Welfare Charity - EA Forum\n",
      "https://manifold.markets/Austin/will-peterwildeford-be-trustworthyi#zCmv4UWUKutKRpjzwvTO | Will @PeterWildeford be trustworthy-ish by end of 2023?  Manifold Markets\n",
      "https://docs.google.com/document/d/1SbGV0Nc-Nh6WYkTNQ7QUxnbi9kRw0XsMwSqmBk0U0eM/edit | [Private] EAIF Vision and Scope - Google Docs\n",
      "https://twitter.com/dylan522p/status/1628797563007811585 | Dylan Patel on Twitter: \"Meta's internal data shows that they are growing compute and datacenter infrastructure faster than Google and Microsoft! A higher percentage of their capex is spent on servers, and so compute energy footprint is growing faster, despite lower spend. Their PUE is &lt;1.1, so it's not… https://t.co/Nikto4prZV\" / Twitter\n",
      "https://docs.google.com/document/d/1idfbvEpsxrFTGflCErTPZ_NiXjeqPhfwBrJBce1P_Yw/edit#heading=h.mj0jmgv3ic64 | Will Humanity Choose Its Future? v4 - Google Docs\n",
      "https://docs.google.com/document/d/1XMxEm6QqfVfOI37Y8Ik90iTr3uZCaKRuNXSmlRgW8F0/edit#heading=h.r0eto7hcho2p | Event for RP donors at EAG London 2023 - Google Docs\n",
      "https://twitter.com/AlphaMinus2/status/1641130452789477409 | A good αlpha-Minus ☺️ on Twitter: \"@peterwildeford What are your TAI timelines? :)\" / Twitter\n",
      "https://www.nytimes.com/2023/03/12/opinion/chatbots-artificial-intelligence-future-weirdness.html | Opinion  This Changes Everything - The New York Times\n",
      "https://forum.effectivealtruism.org/posts/CaCWfjGHdw7H4o6XL/notes-on-the-hot-mess-theory-of-ai-misalignment | Notes on \"the hot mess theory of AI misalignment\" - EA Forum\n",
      "https://noahpinion.substack.com/p/why-arent-we-taking-every-chinese?sd=pf | Why aren't we taking every Chinese refugee we can?\n",
      "https://guarded-everglades-89687.herokuapp.com/admin/link/link/135167/change/?_changelist_filters=q%3Dcoinbase | How we make decisions at Coinbase  Change link  Django site admin\n",
      "https://docs.google.com/document/d/1yAlAZ4ZQdwV_wIqhL1zVp31Hku8Bm4kr9UcQBoflh6c/edit#heading=h.tufvzyw73c4q | Copy of Updates on AIGS team strategy etc. [April 2023; DRAFT] - Google Docs\n",
      "https://www.lesswrong.com/posts/tqs4eEJapFYSkLGfR/the-agency-overhang | The Agency Overhang - LessWrong\n",
      "https://docs.google.com/document/d/1iWnAtlQMcc02xHPQkpYN4mKD3pw4mZ-YjhyJeTiJ5sA/edit#heading=h.3gjcbb1w6d8f | 2023 Mid-Year Fundraiser - Google Docs\n",
      "https://docs.google.com/document/d/1dWV7cMznzNXUAFIKsE_sPzPVJupKl42vR5Nh9ITK0z0/edit | Nuño Sempere – Evaluation (EA Infrastructure Fund) – 6408dd622d5078b3f5076bf7 - Google Docs\n",
      "https://www.lesswrong.com/posts/QBTdEyL3tDaJY3LNa/ai-kills-everyone-scenarios-require-robotic-infrastructure | AI-kills-everyone scenarios require robotic infrastructure, but not necessarily nanotech - LessWrong\n",
      "https://twitter.com/TheZvi/status/1647983156140687362 | (1) Zvi Mowshowitz on Twitter: \"This thread is a series of polls regarding the 24 predictions I made in the post On AutoGPT, which can be found here: https://t.co/7UW1HO8ysy. For each prediction, there are four choices: Yes (&gt;90%), Probably (&gt;50%), Probably Not (&lt;50%). No (&lt;10%).\" / Twitter\n",
      "https://twitter.com/APotlogea/status/1649064039337664512 | (1) Andrei Potlogea on Twitter: \"@peterwildeford I guess it depends how you think about it. If you’re trying to keep incentives for maximizing marginal value you would value Both efforts at zero using counterfactual analysis. If you want to do a backward looking analysis and not worried about messing up incentives for future\" / Twitter\n",
      "https://docs.google.com/document/d/1i5qI7Van8QfnSTJ-1KtKMfTdHGV78igGnqpbXASwaq8/edit#heading=h.1st69dhqoax5 | Mike McCormick <> Marie Buhl & Ben Snodin – 2023-04-21 - Google Docs\n",
      "https://www.nytimes.com/2023/04/15/opinion/goat-girl-slaughtered-california.html?smid=nytcore-ios-share&referringSource=articleShare | Opinion  What a Girl’s Goat Teaches Us About Our Food - The New York Times\n",
      "https://docs.google.com/presentation/d/1iuYIHlHvsnvOUoRX__BCc5J2A0cSieJlENSAyT_uFg8/edit#slide=id.ge44d99aa4e_0_0 | Survey OKRs presentation - Google Slides\n",
      "https://twitter.com/SocDoneLeft/status/1636573328583409664 | SDL on Twitter: \"@samaneller215 @peterwildeford @jonatanpallesen @jeffrsebo @RethinkPriors @remindmetweets RELEASE THE 🦐SHRIMP🦐 🗃FILES🗃 WHAT DOES BIG CRUSTACEAN HAVE TO HIDE?!\" / Twitter\n",
      "https://www.bloomberg.com/news/articles/2019-04-06/the-google-ai-ethics-board-with-actual-power-is-still-around?leadSource=uverify%20wall | The Google AI Ethics Board With Actual Power Is Still Around - Bloomberg\n",
      "https://twitter.com/panickssery/status/1648004762774675476 | Arjun Panickssery is in London on Twitter: \"@peterwildeford Yeah I usually pause and think that if it has a 40% chance of happening then it's like I put down $40 and the other guy puts down $60, etc (40 times out of 100 I've got to win $60 to make up for the $40 I lose 60 times) Note it's (1-p)/p not the reverse if you're putting down $1\" / Twitter\n",
      "https://docs.google.com/document/d/1UOUK8hMxDD0WlM6jEbjI9dWyC73yulOEtoU2MWYaooA/edit#heading=h.tufvzyw73c4q | Updates on AIGS team strategy etc. [April 2023; DRAFT] - Google Docs\n",
      "https://forum.effectivealtruism.org/posts/JQxvZZdPG5KYjyBfg/four-mindset-disagreements-behind-existential-risk | Four mindset disagreements behind existential risk disagreements in ML - EA Forum\n",
      "https://docs.google.com/document/d/1bMXGnKUjy9qGV7u336ScagAHLgbaLHqsNfUXVE7L6G0/edit#heading=h.pqlvjrmba57q | 2023-02 TAI Timelines Workshops - Winter Fellows 2023 - Google Docs\n",
      "https://twitter.com/NathanpmYoung/status/1649413282489401353 | https://twitter.com/NathanpmYoung/status/1649413282489401353\n",
      "https://twitter.com/SofiaHCBBG/status/1649337275065704450 | Sofia Horta e Costa on Twitter: \"All of this happened in China this week. A thread🧵 1/10\" / Twitter\n",
      "https://thezvi.substack.com/p/ai-3 | AI #3 - by Zvi Mowshowitz - Don't Worry About the Vase\n",
      "https://forum.effectivealtruism.org/posts/NsrbM2sBREYZwns88/follow-up-on-institutions-for-future-generations | Follow-up on \"Institutions for Future Generations\" - EA Forum\n",
      "https://onthinktanks.org/ | https://onthinktanks.org/\n",
      "https://www.wikiwand.com/en/Kaleidoscope_(American_TV_series)#Reception | Kaleidoscope (American TV series) - Wikiwand\n",
      "https://thezvi.substack.com/p/response-to-tyler-cowens-existential | Response to Tyler Cowen's Existential risk, AI, and the inevitable turn in human history\n",
      "https://forum.effectivealtruism.org/posts/SnRsdEZH87RhBqQgt/announcing-innovate-animal-ag-like-gfi-but-for-animal | Announcing Innovate Animal Ag (like GFI but for Animal Welfare Tech) - EA Forum\n",
      "https://docs.google.com/document/d/1YY9C6XpU4ovXv9vDEBh9sBmtPw50aAKSpOjojy_bNdE/edit | Marcus Qs - Google Docs\n",
      "https://www.openphilanthropy.org/research/12-tentative-ideas-for-us-ai-policy/ | 12 tentative ideas for US AI policy - Open Philanthropy\n",
      "https://twitter.com/ModeledBehavior/status/1645444418848129025 | Adam Ozimek on Twitter: \"Read the reddit thread on Ozempic improving people's impulse control broadly https://t.co/spB8QDDLQl And here is a review of evidence in favor https://t.co/h6iWgKl56b Now consider: what are the downstream implications of a society with greater impulse control?\" / Twitter\n",
      "https://forum.effectivealtruism.org/posts/MAS8riyKsZut4geWy/but-why-would-the-ai-kill-us | But why would the AI kill us? - EA Forum\n",
      "https://www.managementcenter.org/our-book/ | Our Book - The Management Center\n",
      "https://www.mynectar.com/ | Allergy Treatment & Alternative to Allergy Shots  Nectar\n",
      "https://www.vox.com/future-perfect/23564571/effective-altruism-sam-bankman-fried-holden-karnofsky-ai | How to reform effective altruism after Sam Bankman-Fried - Vox\n",
      "https://www.foreignaffairs.com/united-states/china-multipolarity-myth?utm_medium=social | The Myth of Multipolarity  Foreign Affairs\n",
      "https://forum.effectivealtruism.org/posts/ry8YfkywCjgDhrHKJ/hlai-takeover-scenario-from-scaled-llms | AI Takeover Scenario with Scaled LLMs - EA Forum\n",
      "https://www.metaculus.com/questions/11558/maximum-compute-used-in-ai-training/ | Maximum Compute Used in AI Training  Metaculus\n",
      "https://statmodeling.stat.columbia.edu/2023/04/13/the-percentogram-a-histogram-binned-by-percentages-of-the-cumulative-distribution-rather-than-using-fixed-bin-widths/ | The “percentogram”—a histogram binned by percentages of the cumulative distribution, rather than using fixed bin widths  Statistical Modeling, Causal Inference, and Social Science\n",
      "https://soundcloud.com/dnonkong/sets/ill-sleep-when-im-dead | Stream Duncan Thum  Listen to I'll Sleep When I'm Dead playlist online for free on SoundCloud\n",
      "https://thezvi.substack.com/p/ai-practical-advice-for-the-worried | AI: Practical Advice for the Worried - by Zvi Mowshowitz\n",
      "https://twitter.com/Simeon_Cps/status/1647745164146888705 | Siméon on Twitter: \"I just posted a scenario of AI takeover from scaled LLMs. It might be helpful if you've never done one pass at this. It's also useful to see what you find most/least plausible etc. I recommend doing the exercise by yourself. Any comment is very welcome! https://t.co/IlIEynpt17\" / Twitter\n",
      "https://github.com/organizations/rethinkpriorities/billing/plans | Compare plans for Rethink Priorities\n",
      "https://docs.google.com/document/d/14PZ2_iVfon1ywAhuKiUyovfoiNKQJQ72ErbgKrKWjbs/edit | Explainer for RP AIGS's \"Sharing Levels\" and \"Privacy Levels\" [DRAFT] - Google Docs\n",
      "https://www.gencon.com/associations/499648 | Gen Con  Gen Con Indy 2023\n",
      "https://wiki.aiimpacts.org/ | start [AI Impacts Wiki]\n"
     ]
    }
   ],
   "source": [
    "random.shuffle(tabs)\n",
    "print_tabs(tabs, label='Shuffled all tabs')"
   ]
  }
 ],
 "metadata": {
  "kernelspec": {
   "display_name": "Python 3 (ipykernel)",
   "language": "python",
   "name": "python3"
  },
  "language_info": {
   "codemirror_mode": {
    "name": "ipython",
    "version": 3
   },
   "file_extension": ".py",
   "mimetype": "text/x-python",
   "name": "python",
   "nbconvert_exporter": "python",
   "pygments_lexer": "ipython3",
   "version": "3.9.16"
  }
 },
 "nbformat": 4,
 "nbformat_minor": 5
}
