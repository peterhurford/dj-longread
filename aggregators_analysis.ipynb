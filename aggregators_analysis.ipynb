{
 "cells": [
  {
   "cell_type": "markdown",
   "metadata": {},
   "source": [
    "## Load Data"
   ]
  },
  {
   "cell_type": "code",
   "execution_count": 25,
   "metadata": {},
   "outputs": [],
   "source": [
    "import os\n",
    "import numpy as np\n",
    "import pandas as pd"
   ]
  },
  {
   "cell_type": "code",
   "execution_count": null,
   "metadata": {},
   "outputs": [],
   "source": [
    "os.system('make importdb')"
   ]
  },
  {
   "cell_type": "code",
   "execution_count": null,
   "metadata": {},
   "outputs": [],
   "source": [
    "links = pd.read_csv('data/export.csv')\n",
    "ALL_COLS = ['id', 'url', 'title', 'summary', 'domain', 'added', 'modified',\n",
    "            'liked', 'category', 'aggregator', 'seed', 'tweet', 'starred']\n",
    "links.columns = ALL_COLS\n",
    "links"
   ]
  },
  {
   "cell_type": "markdown",
   "metadata": {},
   "source": [
    "## Links by Aggregator"
   ]
  },
  {
   "cell_type": "code",
   "execution_count": null,
   "metadata": {},
   "outputs": [],
   "source": [
    "from mlgear.utils import show\n",
    "show(links.aggregator.value_counts(), max_rows=None)"
   ]
  },
  {
   "cell_type": "markdown",
   "metadata": {},
   "source": [
    "## Aggregator recency"
   ]
  },
  {
   "cell_type": "code",
   "execution_count": null,
   "metadata": {},
   "outputs": [],
   "source": [
    "show(links.groupby('aggregator')['added'].max().reset_index().sort_values('added'), max_rows=None)"
   ]
  },
  {
   "cell_type": "markdown",
   "metadata": {},
   "source": [
    "## Unread by Aggregator"
   ]
  },
  {
   "cell_type": "code",
   "execution_count": null,
   "metadata": {},
   "outputs": [],
   "source": [
    "links_ = links.copy()\n",
    "links_['liked'] = links_['liked'].apply(lambda x: np.nan if x == '\\\\N' else x)\n",
    "links_['liked'] = links_['liked'].astype(np.float)\n",
    "links__ = links_[(links_['liked'] != 1) & (links_['liked'] != 0) & (links_['liked'] != -1)].aggregator.value_counts()\n",
    "show(links__, max_rows=None)"
   ]
  },
  {
   "cell_type": "markdown",
   "metadata": {},
   "source": [
    "## Like Ratio by Aggregator"
   ]
  },
  {
   "cell_type": "code",
   "execution_count": null,
   "metadata": {},
   "outputs": [],
   "source": [
    "links_ = links.copy()\n",
    "links_['liked'] = links_['liked'].apply(lambda x: np.nan if x == '\\\\N' else x)\n",
    "links_['liked'] = links_['liked'].astype(np.float)\n",
    "links_['liked'] = links_['liked'].apply(lambda x: np.nan if x == -1 else x)\n",
    "links__ = links_.groupby('aggregator')['liked'].agg(['mean', 'count']).reset_index().sort_values(['mean', 'count'], ascending = (True, False))\n",
    "show(links__, max_rows=None)"
   ]
  },
  {
   "cell_type": "markdown",
   "metadata": {},
   "source": [
    "## Look for Obsolete Links"
   ]
  },
  {
   "cell_type": "code",
   "execution_count": null,
   "metadata": {},
   "outputs": [],
   "source": [
    "OBSOLETE_AGGREGATORS = ['ChristianRationalist', 'Harford', 'PragCap', 'Ariely',\n",
    "       'EconometricSense', 'Devon', 'Seliger', 'CH', 'Niskanen', 'DR',\n",
    "       '127', '3P', 'Ozy', 'Pseudoerasmus', 'FLI', 'MMM', 'Leo', 'RyanAvent',\n",
    "        'NotEvenWrong', 'HN', 'Fyfe', 'HBR', 'Gelman', 'MR']\n",
    "\n",
    "obsolete = links[(links['aggregator'].apply(lambda a: a in OBSOLETE_AGGREGATORS)) &\n",
    "                 (links['liked'] != 0) & (links['liked'] != 1) & (links['liked'] != -1)]\n",
    "obsolete"
   ]
  },
  {
   "cell_type": "code",
   "execution_count": null,
   "metadata": {},
   "outputs": [],
   "source": [
    "obsolete.aggregator.unique()"
   ]
  },
  {
   "cell_type": "code",
   "execution_count": null,
   "metadata": {},
   "outputs": [],
   "source": []
  }
 ],
 "metadata": {
  "kernelspec": {
   "display_name": "Python 3",
   "language": "python",
   "name": "python3"
  },
  "language_info": {
   "codemirror_mode": {
    "name": "ipython",
    "version": 3
   },
   "file_extension": ".py",
   "mimetype": "text/x-python",
   "name": "python",
   "nbconvert_exporter": "python",
   "pygments_lexer": "ipython3",
   "version": "3.8.10"
  }
 },
 "nbformat": 4,
 "nbformat_minor": 4
}
